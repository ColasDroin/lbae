{
 "cells": [
  {
   "cell_type": "markdown",
   "metadata": {},
   "source": [
    "# Notebook 1\n",
    "Raw data export into np.memaps."
   ]
  },
  {
   "cell_type": "markdown",
   "metadata": {},
   "source": [
    "### Load important modules"
   ]
  },
  {
   "cell_type": "code",
   "execution_count": 1,
   "metadata": {},
   "outputs": [
    {
     "name": "stdout",
     "output_type": "stream",
     "text": [
      "['data', 'pages', 'app.py', 'assets', 'config.py', 'index.py', 'main.py', 'TODO.py', 'notebooks', 'modules', '__pycache__']\n"
     ]
    },
    {
     "data": {
      "text/plain": [
       "<threadpoolctl.threadpool_limits at 0x7f56902d65e0>"
      ]
     },
     "execution_count": 1,
     "metadata": {},
     "output_type": "execute_result"
    }
   ],
   "source": [
    "# Standard modules\n",
    "import numpy as np\n",
    "import os\n",
    "import logging\n",
    "\n",
    "import pickle\n",
    "\n",
    "# Move to root directory for easier module handling\n",
    "os.chdir(\"../..\")\n",
    "print(os.listdir(\".\"))\n",
    "from notebooks.data_processing.modules.maldi_conversion import process_raw_data, extract_raw_data\n",
    "from notebooks.data_processing.modules.lookup_tables import process_lookup_tables\n",
    "from modules.tools.misc import delete_all_files_in_folder\n",
    "\n",
    "# multithreading/multiprocessing\n",
    "from multiprocessing import Pool\n",
    "from threadpoolctl import threadpool_limits\n",
    "\n",
    "# set thread limit\n",
    "threadpool_limits(16)\n"
   ]
  },
  {
   "cell_type": "markdown",
   "metadata": {},
   "source": [
    "### Create a list of raw data filenames"
   ]
  },
  {
   "cell_type": "code",
   "execution_count": null,
   "metadata": {},
   "outputs": [],
   "source": [
    "# Load filenames\n",
    "l_t_names = sorted(\n",
    "    [\n",
    "        [\n",
    "            int(name.split(\"MouseBrainCMC_S\")[1].split(\"_\")[0].split(\"A\")[0].split(\"(\")[0]),\n",
    "            \"/data/lipidatlas/data/data_raw/\" + name + \"/\" + name,\n",
    "        ]\n",
    "        for name in os.listdir(\"/data/lipidatlas/data/data_raw/\")\n",
    "        if \"MouseBrain\" in name\n",
    "    ]\n",
    ")\n",
    "\n",
    "# Correct for duplicates\n",
    "for t_names_1, t_names_2 in zip(l_t_names[:-1], l_t_names[1:]):\n",
    "    if t_names_2[0] == t_names_1[0]:\n",
    "        t_names_2.append(\"bis\")\n",
    "        print(\"WARNING: duplicate for slice \" + str(t_names_1[0]))\n",
    "\n",
    "# Remove slices that have already been processed\n",
    "path = \"notebooks/data_processing/data/temp/\"\n",
    "os.makedirs(path, exist_ok=True)\n",
    "remove_already_loaded = False\n",
    "if remove_already_loaded:\n",
    "    existing_names = [int(name.split(\"_\")[1][:-4]) for name in os.listdir(path) if \"slice\" in name]\n",
    "    l_t_names = [x for x in l_t_names if x[0] not in existing_names]\n",
    "\n",
    "# Print the final list of names\n",
    "for t_names in l_t_names:\n",
    "    print(t_names[0], t_names[1].split(\"/\")[-1])\n"
   ]
  },
  {
   "cell_type": "markdown",
   "metadata": {},
   "source": [
    "### Extract raw data into numpy arrays with multiprocessing"
   ]
  },
  {
   "cell_type": "code",
   "execution_count": null,
   "metadata": {},
   "outputs": [
    {
     "name": "stdout",
     "output_type": "stream",
     "text": [
      "Loading files : /data/lipidatlas/data/data_raw/20210414_MouseBrainCMC_S25_2_2Dpixelmode_358x238_Att30_25um/20210414_MouseBrainCMC_S25_2_2Dpixelmode_358x238_Att30_25umLoading files : /data/lipidatlas/data/data_raw/20210419_MouseBrainCMC_S26_3_2Dpixelmode_340x248_Att30_25um/20210419_MouseBrainCMC_S26_3_2Dpixelmode_340x248_Att30_25umLoading files : /data/lipidatlas/data/data_raw/20210313_MouseBrainCMC_S15AO2_2Dpixelmode_451x292_Att25_25um/20210313_MouseBrainCMC_S15AO2_2Dpixelmode_451x292_Att25_25umLoading files : /data/lipidatlas/data/data_raw/20210319_MouseBrainCMC_S17AQ2_2Dpixelmode_450x287_Att30_25um/20210319_MouseBrainCMC_S17AQ2_2Dpixelmode_450x287_Att30_25umLoading files : /data/lipidatlas/data/data_raw/20210323_MouseBrainCMC_S18AR4_2Dpixelmode_474x291_Att30_25um/20210323_MouseBrainCMC_S18AR4_2Dpixelmode_474x291_Att30_25umLoading files : /data/lipidatlas/data/data_raw/20210413_MouseBrainCMC_S24_3_2Dpixelmode_327x328_Att30_25um/20210413_MouseBrainCMC_S24_3_2Dpixelmode_327x328_Att30_25umLoading files : /data/lipidatlas/data/data_raw/20210603_MouseBrainCMC_S27_duplicate_2Dpixelmode_372x272_Att30_25um/20210603_MouseBrainCMC_S27_duplicate_2Dpixelmode_372x272_Att30_25umLoading files : /data/lipidatlas/data/data_raw/20210423_MouseBrainCMC_S28_3_2Dpixelmode_390x244_Att30_25um/20210423_MouseBrainCMC_S28_3_2Dpixelmode_390x244_Att30_25umLoading files : /data/lipidatlas/data/data_raw/20210424_MouseBrainCMC_S29_5_2Dpixelmode_330x277_Att30_25um/20210424_MouseBrainCMC_S29_5_2Dpixelmode_330x277_Att30_25umLoading files : /data/lipidatlas/data/data_raw/20210429_MouseBrainCMC_S30_5_2Dpixelmode_367x278_Att30_25um/20210429_MouseBrainCMC_S30_5_2Dpixelmode_367x278_Att30_25umLoading files : /data/lipidatlas/data/data_raw/20210501_MouseBrainCMC_S31_3_2Dpixelmode_355x239_Att30_25um/20210501_MouseBrainCMC_S31_3_2Dpixelmode_355x239_Att30_25um\n",
      "\n",
      "\n",
      "\n",
      "\n",
      "\n",
      "Loading files : /data/lipidatlas/data/data_raw/20210504_MouseBrainCMC_S32_3_2Dpixelmode_298x230_Att30_25um/20210504_MouseBrainCMC_S32_3_2Dpixelmode_298x230_Att30_25um\n",
      "\n",
      "\n",
      "\n",
      "\n",
      "\n",
      "[Warning] Not index found and build_index_from_scratch is False\n"
     ]
    },
    {
     "name": "stderr",
     "output_type": "stream",
     "text": [
      "WARNING:root:The mzML file containts more than the expected68540 spectra. The tailing 8 spectra will be ignored.\n"
     ]
    },
    {
     "name": "stdout",
     "output_type": "stream",
     "text": [
      "[Warning] Not index found and build_index_from_scratch is False\n"
     ]
    },
    {
     "name": "stderr",
     "output_type": "stream",
     "text": [
      "Loading Sprectra at resolution 1e-05:   0%|          | 0/68540 [00:00<?, ?it/s]WARNING:root:The mzML file containts more than the expected84845 spectra. The tailing 5 spectra will be ignored.\n",
      "Loading Sprectra at resolution 1e-05:   0%|          | 0/84845 [00:00<?, ?it/s]"
     ]
    },
    {
     "name": "stdout",
     "output_type": "stream",
     "text": [
      "[Warning] Not index found and build_index_from_scratch is False\n"
     ]
    },
    {
     "name": "stderr",
     "output_type": "stream",
     "text": [
      "WARNING:root:The mzML file containts more than the expected102026 spectra. The tailing 2 spectra will be ignored.\n",
      "Loading Sprectra at resolution 1e-05:   0%|          | 0/102026 [00:00<?, ?it/s]"
     ]
    },
    {
     "name": "stdout",
     "output_type": "stream",
     "text": [
      "[Warning] Not index found and build_index_from_scratch is False\n"
     ]
    },
    {
     "name": "stderr",
     "output_type": "stream",
     "text": [
      "WARNING:root:The mzML file containts more than the expected84320 spectra. The tailing 23 spectra will be ignored.\n",
      "Loading Sprectra at resolution 1e-05:   0%|          | 0/84320 [00:00<?, ?it/s]"
     ]
    },
    {
     "name": "stdout",
     "output_type": "stream",
     "text": [
      "[Warning] Not index found and build_index_from_scratch is False\n",
      "[Warning] Not index found and build_index_from_scratch is False\n"
     ]
    },
    {
     "name": "stderr",
     "output_type": "stream",
     "text": [
      "WARNING:root:The mzML file containts more than the expected101184 spectra. The tailing 16 spectra will be ignored.\n",
      "Loading Sprectra at resolution 1e-05:   0%|          | 0/101184 [00:00<?, ?it/s]"
     ]
    },
    {
     "name": "stdout",
     "output_type": "stream",
     "text": [
      "[Warning] Not index found and build_index_from_scratch is False\n",
      "[Warning] Not index found and build_index_from_scratch is False\n"
     ]
    },
    {
     "name": "stderr",
     "output_type": "stream",
     "text": [
      "WARNING:root:The mzML file containts more than the expected129150 spectra. The tailing 44 spectra will be ignored.\n",
      "WARNING:root:The mzML file containts more than the expected85204 spectra. The tailing 21 spectra will be ignored.\n",
      "WARNING:root:The mzML file containts more than the expected95160 spectra. The tailing 5 spectra will be ignored.\n",
      "Loading Sprectra at resolution 1e-05:   0%|          | 0/129150 [00:00<?, ?it/s]"
     ]
    },
    {
     "name": "stdout",
     "output_type": "stream",
     "text": [
      "[Warning] Not index found and build_index_from_scratch is False\n"
     ]
    },
    {
     "name": "stderr",
     "output_type": "stream",
     "text": [
      "WARNING:root:The mzML file containts more than the expected107256 spectra. The tailing 13 spectra will be ignored.\n",
      "Loading Sprectra at resolution 1e-05:   0%|          | 0/107256 [00:00<?, ?it/s]"
     ]
    },
    {
     "name": "stdout",
     "output_type": "stream",
     "text": [
      "[Warning] Not index found and build_index_from_scratch is False\n",
      "[Warning] Not index found and build_index_from_scratch is False\n"
     ]
    },
    {
     "name": "stderr",
     "output_type": "stream",
     "text": [
      "Loading Sprectra at resolution 1e-05:   0%|          | 0/137934 [00:00<?, ?it/s]WARNING:root:The mzML file containts more than the expected91410 spectra. The tailing 20 spectra will be ignored.\n"
     ]
    },
    {
     "name": "stdout",
     "output_type": "stream",
     "text": [
      "[Warning] Not index found and build_index_from_scratch is False\n"
     ]
    },
    {
     "name": "stderr",
     "output_type": "stream",
     "text": [
      "Loading Sprectra at resolution 1e-05:   0%|          | 0/91410 [00:00<?, ?it/s]WARNING:root:The mzML file containts more than the expected131692 spectra. The tailing 9 spectra will be ignored.\n",
      "Loading Sprectra at resolution 1e-05: 100%|██████████| 85204/85204 [01:00<00:00, 1407.31it/s]]]\n",
      "Loading Sprectra at resolution 1e-05: 100%|██████████| 95160/95160 [01:03<00:00, 1490.31it/s]s]/s]\n",
      "Loading Sprectra at resolution 1e-05: 100%|██████████| 84320/84320 [01:05<00:00, 1288.48it/s]]t/s]\n",
      "Loading Sprectra at resolution 1e-05: 100%|██████████| 68540/68540 [01:12<00:00, 944.96it/s]s]it/s]\n",
      "Loading Sprectra at resolution 1e-05: 100%|██████████| 107256/107256 [01:12<00:00, 1481.46it/s]/s]]\n",
      "Loading Sprectra at resolution 1e-05: 100%|██████████| 91410/91410 [01:16<00:00, 1202.15it/s]1it/s]\n",
      "Loading Sprectra at resolution 1e-05: 100%|██████████| 137934/137934 [01:18<00:00, 1765.28it/s]s] ]\n",
      "Loading Sprectra at resolution 1e-05: 100%|██████████| 84845/84845 [01:24<00:00, 1004.85it/s]40it/s]\n",
      "Loading Sprectra at resolution 1e-05: 100%|██████████| 131692/131692 [01:25<00:00, 1537.31it/s]s]s]]\n",
      "Loading Sprectra at resolution 1e-05: 100%|██████████| 129150/129150 [01:26<00:00, 1495.29it/s]it/s]\n",
      "Loading Sprectra at resolution 1e-05: 100%|██████████| 101184/101184 [01:27<00:00, 1156.35it/s]t/s]]\n",
      "Loading Sprectra at resolution 1e-05: 100%|██████████| 102026/102026 [01:43<00:00, 990.33it/s] it/s]\n",
      "Loading the m/z values at resolution 1e-05: 100%|██████████| 85204/85204 [00:54<00:00, 1569.53it/s]]\n",
      "Loading the m/z values at resolution 1e-05: 100%|██████████| 95160/95160 [01:02<00:00, 1533.47it/s]]\n",
      "Loading the m/z values at resolution 1e-05:  18%|█▊        | 18788/102026 [00:25<01:52, 736.81it/s]]]WARNING:root:The sparsified dense matrix S has never been computed. Please wait while it's being generated.\n",
      "Loading the m/z values at resolution 1e-05: 100%|██████████| 84320/84320 [01:07<00:00, 1244.38it/s]s]\n",
      "Loading the m/z values at resolution 1e-05: 100%|██████████| 107256/107256 [01:05<00:00, 1639.44it/s]\n",
      "Loading the m/z values at resolution 1e-05:  62%|██████▏   | 63072/101184 [00:50<00:33, 1124.82it/s]]WARNING:root:The sparsified dense matrix S has never been computed. Please wait while it's being generated.\n",
      "Loading the m/z values at resolution 1e-05:  98%|█████████▊| 67361/68540 [01:15<00:01, 666.98it/s]]] WARNING:root:The sparsified dense matrix S has never been computed. Please wait while it's being generated.\n",
      "Loading the m/z values at resolution 1e-05: 100%|██████████| 68540/68540 [01:17<00:00, 889.86it/s]s]\n",
      "Loading the m/z values at resolution 1e-05:  78%|███████▊  | 78520/101184 [01:05<00:23, 974.58it/s] ]WARNING:root:The sparsified dense matrix S has never been computed. Please wait while it's being generated.\n",
      "Loading the m/z values at resolution 1e-05: 100%|██████████| 91410/91410 [01:17<00:00, 1185.19it/s]]]\n",
      "Loading the m/z values at resolution 1e-05:  86%|████████▌ | 86967/101184 [01:14<00:14, 976.09it/s]]]WARNING:root:The sparsified dense matrix S has never been computed. Please wait while it's being generated.\n",
      "Loading the m/z values at resolution 1e-05: 100%|██████████| 137934/137934 [01:24<00:00, 1640.45it/s]\n",
      "Loading the m/z values at resolution 1e-05:  88%|████████▊ | 115436/131692 [01:18<00:13, 1239.74it/s]WARNING:root:The sparsified dense matrix S has never been computed. Please wait while it's being generated.\n",
      "Loading the m/z values at resolution 1e-05: 100%|██████████| 84845/84845 [01:33<00:00, 908.79it/s]]s]\n",
      "Loading the m/z values at resolution 1e-05:  99%|█████████▉| 100569/101184 [01:31<00:00, 782.36it/s] WARNING:root:The sparsified dense matrix S has never been computed. Please wait while it's being generated.\n",
      "Loading the m/z values at resolution 1e-05: 100%|██████████| 101184/101184 [01:32<00:00, 1092.48it/s]\n",
      "Loading the m/z values at resolution 1e-05: 100%|██████████| 131692/131692 [01:34<00:00, 1392.86it/s]\n",
      "Loading the m/z values at resolution 1e-05:  69%|██████▊   | 70091/102026 [01:26<00:35, 905.67it/s]] WARNING:root:The sparsified dense matrix S has never been computed. Please wait while it's being generated.\n",
      "Loading the m/z values at resolution 1e-05:  90%|█████████ | 116843/129150 [01:49<00:20, 586.13it/s]WARNING:root:The sparsified dense matrix S has never been computed. Please wait while it's being generated.\n",
      "Loading the m/z values at resolution 1e-05:  91%|█████████ | 117157/129150 [01:50<00:18, 654.04it/s]WARNING:root:The sparsified dense matrix S has never been computed. Please wait while it's being generated.\n",
      "Loading the m/z values at resolution 1e-05: 100%|██████████| 129150/129150 [02:11<00:00, 981.37it/s]\n",
      "Loading the m/z values at resolution 1e-05: 100%|██████████| 102026/102026 [02:09<00:00, 788.60it/s]\n",
      "WARNING:root:The sparsified dense matrix S has never been computed. Please wait while it's being generated.\n",
      "WARNING:root:The sparsified dense matrix S has never been computed. Please wait while it's being generated.\n"
     ]
    },
    {
     "name": "stdout",
     "output_type": "stream",
     "text": [
      "Creating and sorting dataframes\n",
      "Creating and sorting dataframes\n",
      "Creating and sorting dataframes\n",
      "Creating and sorting dataframes\n",
      "Creating and sorting dataframes\n",
      "Creating and sorting dataframes\n",
      "Creating and sorting dataframes\n",
      "Creating and sorting dataframes\n",
      "Creating and sorting dataframes\n",
      "Creating and sorting dataframes\n",
      "Creating and sorting dataframes\n",
      "Creating and sorting dataframes\n"
     ]
    }
   ],
   "source": [
    "multiprocessing = True\n",
    "if multiprocessing:\n",
    "    with Pool(processes=12) as pool:\n",
    "        [x for x in pool.imap_unordered(extract_raw_data, l_t_names)]\n",
    "else:\n",
    "    # Normal (single-processed) map\n",
    "    [x for x in map(extract_raw_data, l_t_names)]"
   ]
  },
  {
   "cell_type": "markdown",
   "metadata": {},
   "source": [
    "### Process raw data into numpy arrays with multiprocessing"
   ]
  },
  {
   "cell_type": "code",
   "execution_count": 4,
   "metadata": {},
   "outputs": [
    {
     "name": "stdout",
     "output_type": "stream",
     "text": [
      "Compute and normalize pixels values according to TIC\n",
      "Filtering out noise and matrix peaks\n"
     ]
    },
    {
     "ename": "SystemError",
     "evalue": "CPUDispatcher(<function compute_standardization at 0x7f857b9fe430>) returned a result with an error set",
     "output_type": "error",
     "traceback": [
      "\u001b[0;31m---------------------------------------------------------------------------\u001b[0m",
      "\u001b[0;31mKeyboardInterrupt\u001b[0m                         Traceback (most recent call last)",
      "\u001b[0;32m~/miniconda3/lib/python3.9/site-packages/numba/core/serialize.py\u001b[0m in \u001b[0;36m_numba_unpickle\u001b[0;34m(address, bytedata, hashed)\u001b[0m\n\u001b[1;32m     28\u001b[0m \u001b[0;34m\u001b[0m\u001b[0m\n\u001b[0;32m---> 29\u001b[0;31m \u001b[0;32mdef\u001b[0m \u001b[0m_numba_unpickle\u001b[0m\u001b[0;34m(\u001b[0m\u001b[0maddress\u001b[0m\u001b[0;34m,\u001b[0m \u001b[0mbytedata\u001b[0m\u001b[0;34m,\u001b[0m \u001b[0mhashed\u001b[0m\u001b[0;34m)\u001b[0m\u001b[0;34m:\u001b[0m\u001b[0;34m\u001b[0m\u001b[0;34m\u001b[0m\u001b[0m\n\u001b[0m\u001b[1;32m     30\u001b[0m     \"\"\"Used by `numba_unpickle` from _helperlib.c\n",
      "\u001b[0;31mKeyboardInterrupt\u001b[0m: ",
      "\nThe above exception was the direct cause of the following exception:\n",
      "\u001b[0;31mSystemError\u001b[0m                               Traceback (most recent call last)",
      "\u001b[0;32m/tmp/ipykernel_154921/22227142.py\u001b[0m in \u001b[0;36m<module>\u001b[0;34m\u001b[0m\n\u001b[1;32m      5\u001b[0m \u001b[0;32melse\u001b[0m\u001b[0;34m:\u001b[0m\u001b[0;34m\u001b[0m\u001b[0;34m\u001b[0m\u001b[0m\n\u001b[1;32m      6\u001b[0m     \u001b[0;31m# Normal (single-processed) map\u001b[0m\u001b[0;34m\u001b[0m\u001b[0;34m\u001b[0m\u001b[0m\n\u001b[0;32m----> 7\u001b[0;31m     \u001b[0;34m[\u001b[0m\u001b[0mx\u001b[0m \u001b[0;32mfor\u001b[0m \u001b[0mx\u001b[0m \u001b[0;32min\u001b[0m \u001b[0mmap\u001b[0m\u001b[0;34m(\u001b[0m\u001b[0mprocess_raw_data\u001b[0m\u001b[0;34m,\u001b[0m \u001b[0ml_t_names\u001b[0m\u001b[0;34m)\u001b[0m\u001b[0;34m]\u001b[0m\u001b[0;34m\u001b[0m\u001b[0;34m\u001b[0m\u001b[0m\n\u001b[0m",
      "\u001b[0;32m/tmp/ipykernel_154921/22227142.py\u001b[0m in \u001b[0;36m<listcomp>\u001b[0;34m(.0)\u001b[0m\n\u001b[1;32m      5\u001b[0m \u001b[0;32melse\u001b[0m\u001b[0;34m:\u001b[0m\u001b[0;34m\u001b[0m\u001b[0;34m\u001b[0m\u001b[0m\n\u001b[1;32m      6\u001b[0m     \u001b[0;31m# Normal (single-processed) map\u001b[0m\u001b[0;34m\u001b[0m\u001b[0;34m\u001b[0m\u001b[0m\n\u001b[0;32m----> 7\u001b[0;31m     \u001b[0;34m[\u001b[0m\u001b[0mx\u001b[0m \u001b[0;32mfor\u001b[0m \u001b[0mx\u001b[0m \u001b[0;32min\u001b[0m \u001b[0mmap\u001b[0m\u001b[0;34m(\u001b[0m\u001b[0mprocess_raw_data\u001b[0m\u001b[0;34m,\u001b[0m \u001b[0ml_t_names\u001b[0m\u001b[0;34m)\u001b[0m\u001b[0;34m]\u001b[0m\u001b[0;34m\u001b[0m\u001b[0;34m\u001b[0m\u001b[0m\n\u001b[0m",
      "\u001b[0;32m~/lbae/lbae/notebooks/data_processing/modules/maldi_conversion.py\u001b[0m in \u001b[0;36mprocess_raw_data\u001b[0;34m(t_index_path, do_filter_peaks, standardize_lipid_values, save, return_result, output_path, load_from_file)\u001b[0m\n\u001b[1;32m    709\u001b[0m             ) = get_standardized_values(slice_index)\n\u001b[1;32m    710\u001b[0m             \u001b[0;31m# Standardize values\u001b[0m\u001b[0;34m\u001b[0m\u001b[0;34m\u001b[0m\u001b[0m\n\u001b[0;32m--> 711\u001b[0;31m             array_high_res = standardize_values(\n\u001b[0m\u001b[1;32m    712\u001b[0m                 \u001b[0marray_high_res\u001b[0m\u001b[0;34m,\u001b[0m\u001b[0;34m\u001b[0m\u001b[0;34m\u001b[0m\u001b[0m\n\u001b[1;32m    713\u001b[0m                 \u001b[0marray_pixel_indexes_high_res\u001b[0m\u001b[0;34m,\u001b[0m\u001b[0;34m\u001b[0m\u001b[0;34m\u001b[0m\u001b[0m\n",
      "\u001b[0;32m~/lbae/lbae/notebooks/data_processing/modules/maldi_conversion.py\u001b[0m in \u001b[0;36mstandardize_values\u001b[0;34m(array_spectra, array_pixel_indexes, array_peaks, array_mz_lipids, l_lipids_float, arrays_before_transfo, arrays_after_transfo)\u001b[0m\n\u001b[1;32m    511\u001b[0m \u001b[0;34m\u001b[0m\u001b[0m\n\u001b[1;32m    512\u001b[0m         \u001b[0;32mif\u001b[0m \u001b[0mlen\u001b[0m\u001b[0;34m(\u001b[0m\u001b[0marray_spectra_pixel\u001b[0m\u001b[0;34m)\u001b[0m \u001b[0;34m>\u001b[0m \u001b[0;36m1\u001b[0m\u001b[0;34m:\u001b[0m\u001b[0;34m\u001b[0m\u001b[0;34m\u001b[0m\u001b[0m\n\u001b[0;32m--> 513\u001b[0;31m             array_spectra_pixel = compute_standardization(\n\u001b[0m\u001b[1;32m    514\u001b[0m                 \u001b[0marray_spectra_pixel\u001b[0m\u001b[0;34m,\u001b[0m\u001b[0;34m\u001b[0m\u001b[0;34m\u001b[0m\u001b[0m\n\u001b[1;32m    515\u001b[0m                 \u001b[0midx_pixel\u001b[0m\u001b[0;34m,\u001b[0m\u001b[0;34m\u001b[0m\u001b[0;34m\u001b[0m\u001b[0m\n",
      "\u001b[0;31mSystemError\u001b[0m: CPUDispatcher(<function compute_standardization at 0x7f857b9fe430>) returned a result with an error set"
     ]
    }
   ],
   "source": [
    "multiprocessing = False\n",
    "if multiprocessing:\n",
    "    with Pool(processes=12) as pool:\n",
    "        [x for x in pool.imap_unordered(process_raw_data, l_t_names)]\n",
    "else:\n",
    "    # Normal (single-processed) map\n",
    "    [x for x in map(process_raw_data, l_t_names)]\n"
   ]
  },
  {
   "cell_type": "markdown",
   "metadata": {},
   "source": [
    "### Build lookup tables"
   ]
  },
  {
   "cell_type": "code",
   "execution_count": null,
   "metadata": {},
   "outputs": [],
   "source": [
    "multiprocessing = False\n",
    "if multiprocessing:\n",
    "    # Multiprocessing\n",
    "    with Pool(processes=12) as pool:\n",
    "        [x for x in pool.map(process_lookup_tables, l_t_names)]\n",
    "else:\n",
    "    # Normal (single-processed) map\n",
    "    [x for x in map(process_lookup_tables, l_t_names)]\n",
    "\n"
   ]
  },
  {
   "cell_type": "markdown",
   "metadata": {},
   "source": [
    "### Record everything and clean "
   ]
  },
  {
   "cell_type": "markdown",
   "metadata": {},
   "source": [
    "Record everything in memap files and a pickled dictonnary"
   ]
  },
  {
   "cell_type": "code",
   "execution_count": null,
   "metadata": {},
   "outputs": [],
   "source": [
    "output_folder = \"data/whole_dataset/\"\n",
    "input_folder = \"notebooks/data_processing/data/temp/\"\n",
    "os.makedirs(output_folder, exist_ok=True)\n",
    "\n",
    "dic_slices = {}\n",
    "# Loop over slice files\n",
    "for slice_name in os.listdir(input_folder):\n",
    "\n",
    "    # Extract slice index\n",
    "    slice_index = int(slice_name.split(\"_\")[1])\n",
    "\n",
    "    # Load slice arrays\n",
    "    npzfile = np.load(input_folder + slice_name)\n",
    "    array_pixel_indexes_high_res = npzfile[\"array_pixel_indexes_high_res\"]\n",
    "    array_spectra_high_res = npzfile[\"array_spectra_high_res\"]\n",
    "    array_averaged_mz_intensity_low_res = npzfile[\"array_averaged_mz_intensity_low_res\"]\n",
    "    array_averaged_mz_intensity_high_res = npzfile[\"array_averaged_mz_intensity_high_res\"]\n",
    "    image_shape = npzfile[\"image_shape\"]\n",
    "    divider_lookup = npzfile[\"divider_lookup\"]\n",
    "    lookup_table_spectra_high_res = npzfile[\"lookup_table_spectra_high_res\"]\n",
    "    cumulated_image_lookup_table_high_res = npzfile[\"cumulated_image_lookup_table_high_res\"]\n",
    "    lookup_table_averaged_spectrum_high_res = npzfile[\"lookup_table_averaged_spectrum_high_res\"]\n",
    "\n",
    "    # Print array size\n",
    "    # print size used by each array in mb\n",
    "    print(round(array_pixel_indexes_high_res.nbytes / 1024 / 1024, 2))\n",
    "    print(round(array_spectra_high_res.nbytes / 1024 / 1024, 2))\n",
    "    print(round(array_averaged_mz_intensity_low_res.nbytes / 1024 / 1024, 2))\n",
    "    print(round(array_averaged_mz_intensity_high_res.nbytes / 1024 / 1024, 2))\n",
    "    print(round(lookup_table_spectra_high_res.nbytes / 1024 / 1024, 2))\n",
    "    print(round(cumulated_image_lookup_table_high_res.nbytes / 1024 / 1024, 2))\n",
    "    print(round(lookup_table_averaged_spectrum_high_res.nbytes / 1024 / 1024, 2))\n",
    "\n",
    "    # Register the lightweights files in a pickled dictionnary\n",
    "    dic_slices[slice_index] = {\n",
    "        \"image_shape\": image_shape,\n",
    "        \"divider_lookup\": divider_lookup,\n",
    "        \"array_avg_spectrum_downsampled\": array_averaged_mz_intensity_low_res,\n",
    "        \"array_lookup_pixels\": array_pixel_indexes_high_res,\n",
    "        \"array_lookup_mz_avg\": lookup_table_averaged_spectrum_high_res,\n",
    "    }\n",
    "\n",
    "    # Build a memap for each of the heavier files to save RAM, save the corresponding shape in the \n",
    "    # pickled dictionnary\n",
    "    fp = np.memmap(\n",
    "        output_folder + \"array_spectra_\" + str(slice_index) + \".mmap\",\n",
    "        dtype=\"float32\",\n",
    "        mode=\"w+\",\n",
    "        shape=array_spectra_high_res.shape,\n",
    "    )\n",
    "    fp[:] = array_spectra_high_res[:]\n",
    "    fp.flush()\n",
    "    dic_slices[slice_index][\"array_spectra_shape\"] = array_spectra_high_res.shape\n",
    "\n",
    "    fp = np.memmap(\n",
    "        output_folder + \"array_avg_spectrum_\" + str(slice_index) + \".mmap\",\n",
    "        dtype=\"float32\",\n",
    "        mode=\"w+\",\n",
    "        shape=array_averaged_mz_intensity_high_res.shape,\n",
    "    )\n",
    "    fp[:] = array_averaged_mz_intensity_high_res[:]\n",
    "    fp.flush()\n",
    "    dic_slices[slice_index][\"array_avg_spectrum_shape\"] = array_averaged_mz_intensity_high_res.shape\n",
    "\n",
    "    fp = np.memmap(\n",
    "        output_folder + \"array_lookup_mz_\" + str(slice_index) + \".mmap\",\n",
    "        dtype=\"int32\",\n",
    "        mode=\"w+\",\n",
    "        shape=lookup_table_spectra_high_res.shape,\n",
    "    )\n",
    "    fp[:] = lookup_table_spectra_high_res[:]\n",
    "    fp.flush()\n",
    "    dic_slices[slice_index][\"array_lookup_mz_shape\"] = lookup_table_spectra_high_res.shape\n",
    "\n",
    "    fp = np.memmap(\n",
    "        output_folder + \"array_cumulated_lookup_mz_image_\" + str(slice_index) + \".mmap\",\n",
    "        dtype=\"float32\",\n",
    "        mode=\"w+\",\n",
    "        shape=cumulated_image_lookup_table_high_res.shape,\n",
    "    )\n",
    "    fp[:] = cumulated_image_lookup_table_high_res[:]\n",
    "    fp.flush()\n",
    "    dic_slices[slice_index][\n",
    "        \"array_cumulated_lookup_mz_image_shape\"\n",
    "    ] = cumulated_image_lookup_table_high_res.shape\n",
    "\n",
    "# Pickle the dict of lightweight data\n",
    "with open(output_folder + \"light_arrays.pickle\", \"wb\") as handle:\n",
    "    pickle.dump(dic_slices, handle)\n"
   ]
  },
  {
   "cell_type": "markdown",
   "metadata": {},
   "source": [
    "Clean temporary folder"
   ]
  },
  {
   "cell_type": "code",
   "execution_count": null,
   "metadata": {},
   "outputs": [],
   "source": [
    "clean = False\n",
    "if clean:\n",
    "    delete_all_files_in_folder(input_folder)\n"
   ]
  },
  {
   "cell_type": "code",
   "execution_count": null,
   "metadata": {},
   "outputs": [],
   "source": []
  }
 ],
 "metadata": {
  "interpreter": {
   "hash": "0c1aa729cc35b9a783763c24c4069d7da678acf641f89d4e1df25bf02079ad65"
  },
  "kernelspec": {
   "display_name": "Python 3 (ipykernel)",
   "language": "python",
   "name": "python3"
  },
  "language_info": {
   "codemirror_mode": {
    "name": "ipython",
    "version": 3
   },
   "file_extension": ".py",
   "mimetype": "text/x-python",
   "name": "python",
   "nbconvert_exporter": "python",
   "pygments_lexer": "ipython3",
   "version": "3.9.7"
  }
 },
 "nbformat": 4,
 "nbformat_minor": 4
}
