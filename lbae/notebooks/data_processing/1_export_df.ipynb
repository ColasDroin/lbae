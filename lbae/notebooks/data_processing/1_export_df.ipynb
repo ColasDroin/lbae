{
 "cells": [
  {
   "cell_type": "markdown",
   "metadata": {},
   "source": [
    "# Notebook 1\n",
    "Raw data export into np.memaps."
   ]
  },
  {
   "cell_type": "markdown",
   "metadata": {},
   "source": [
    "### Load important modules"
   ]
  },
  {
   "cell_type": "code",
   "execution_count": 1,
   "metadata": {},
   "outputs": [
    {
     "name": "stdout",
     "output_type": "stream",
     "text": [
      "['data', 'pages', 'app.py', 'assets', 'config.py', 'index.py', 'main.py', 'TODO.py', 'notebooks', 'modules', '__pycache__']\n"
     ]
    },
    {
     "data": {
      "text/plain": [
       "<threadpoolctl.threadpool_limits at 0x7faf46836fa0>"
      ]
     },
     "execution_count": 1,
     "metadata": {},
     "output_type": "execute_result"
    }
   ],
   "source": [
    "# Standard modules\n",
    "import numpy as np\n",
    "import os\n",
    "import logging\n",
    "\n",
    "import pickle\n",
    "\n",
    "# Move to root directory for easier module handling\n",
    "os.chdir(\"../..\")\n",
    "print(os.listdir(\".\"))\n",
    "from notebooks.data_processing.modules.maldi_conversion import process_raw_data, extract_raw_data\n",
    "from notebooks.data_processing.modules.lookup_tables import process_lookup_tables\n",
    "from modules.tools.misc import delete_all_files_in_folder\n",
    "\n",
    "# multithreading/multiprocessing\n",
    "from multiprocessing import Pool\n",
    "from threadpoolctl import threadpool_limits\n",
    "\n",
    "# set thread limit\n",
    "threadpool_limits(16)\n"
   ]
  },
  {
   "cell_type": "markdown",
   "metadata": {},
   "source": [
    "### Create a list of raw data filenames"
   ]
  },
  {
   "cell_type": "code",
   "execution_count": 4,
   "metadata": {},
   "outputs": [
    {
     "name": "stdout",
     "output_type": "stream",
     "text": [
      "6 20210219_MouseBrainCMC_S6AE3_2Dpixelmode_423x282_Att25_25um\n",
      "7 20210220_MouseBrainCMC_S7AF5_2Dpixelmode_427x263_Att25_25um\n",
      "9 20210224_MouseBrainCMC_S9AH4_2Dpixelmode_467x278_Att25_25um\n",
      "12 20210303_MouseBrainCMC_S12AL1_2Dpixelmode_393x266_Att25_25um\n",
      "17 20210319_MouseBrainCMC_S17AQ2_2Dpixelmode_450x287_Att30_25um\n",
      "19 20210325_MouseBrainCMC_S19AS4_2Dpixelmode_396x232_Att30_25um\n",
      "20 20210330_MouseBrainCMC_S20AT3_2Dpixelmode_396x266_Att30_25um\n",
      "21 20210408_MouseBrainCMC_S21AU4_2Dpixelmode_394x215_Att30_25um\n",
      "22 20210409_MouseBrainCMC_S22AV1_2Dpixelmode_416x207_Att30_25um\n",
      "23 20210412_MouseBrainCMC_S23AZ1_2Dpixelmode_360x260_Att30_25um\n",
      "27 20210603_MouseBrainCMC_S27_duplicate_2Dpixelmode_372x272_Att30_25um\n",
      "30 20210429_MouseBrainCMC_S30_5_2Dpixelmode_367x278_Att30_25um\n",
      "31 20210501_MouseBrainCMC_S31_3_2Dpixelmode_355x239_Att30_25um\n",
      "32 20210504_MouseBrainCMC_S32_3_2Dpixelmode_298x230_Att30_25um\n"
     ]
    }
   ],
   "source": [
    "# Load filenames\n",
    "l_t_names = sorted(\n",
    "    [\n",
    "        [\n",
    "            int(name.split(\"MouseBrainCMC_S\")[1].split(\"_\")[0].split(\"A\")[0].split(\"(\")[0]),\n",
    "            \"/data/lipidatlas/data/data_raw/\" + name + \"/\" + name,\n",
    "        ]\n",
    "        for name in os.listdir(\"/data/lipidatlas/data/data_raw/\")\n",
    "        if \"MouseBrain\" in name\n",
    "    ]\n",
    ")\n",
    "\n",
    "# Correct for duplicates\n",
    "for t_names_1, t_names_2 in zip(l_t_names[:-1], l_t_names[1:]):\n",
    "    if t_names_2[0] == t_names_1[0]:\n",
    "        t_names_2.append(\"bis\")\n",
    "        print(\"WARNING: duplicate for slice \" + str(t_names_1[0]))\n",
    "\n",
    "# Remove slices that have already been processed\n",
    "path = \"notebooks/data_processing/data/temp/\"\n",
    "os.makedirs(path, exist_ok=True)\n",
    "remove_already_loaded = True\n",
    "if remove_already_loaded:\n",
    "    existing_names = [int(name.split(\"_\")[1][:-7]) for name in os.listdir(path) if \"raw\" in name]\n",
    "    l_t_names = [x for x in l_t_names if x[0] not in existing_names]\n",
    "\n",
    "# Print the final list of names\n",
    "for t_names in l_t_names:\n",
    "    print(t_names[0], t_names[1].split(\"/\")[-1])\n"
   ]
  },
  {
   "cell_type": "markdown",
   "metadata": {},
   "source": [
    "### Extract raw data into numpy arrays with multiprocessing"
   ]
  },
  {
   "cell_type": "code",
   "execution_count": 5,
   "metadata": {},
   "outputs": [
    {
     "name": "stdout",
     "output_type": "stream",
     "text": [
      "Loading files : /data/lipidatlas/data/data_raw/20210219_MouseBrainCMC_S6AE3_2Dpixelmode_423x282_Att25_25um/20210219_MouseBrainCMC_S6AE3_2Dpixelmode_423x282_Att25_25umLoading files : /data/lipidatlas/data/data_raw/20210224_MouseBrainCMC_S9AH4_2Dpixelmode_467x278_Att25_25um/20210224_MouseBrainCMC_S9AH4_2Dpixelmode_467x278_Att25_25umLoading files : /data/lipidatlas/data/data_raw/20210220_MouseBrainCMC_S7AF5_2Dpixelmode_427x263_Att25_25um/20210220_MouseBrainCMC_S7AF5_2Dpixelmode_427x263_Att25_25umLoading files : /data/lipidatlas/data/data_raw/20210303_MouseBrainCMC_S12AL1_2Dpixelmode_393x266_Att25_25um/20210303_MouseBrainCMC_S12AL1_2Dpixelmode_393x266_Att25_25umLoading files : /data/lipidatlas/data/data_raw/20210319_MouseBrainCMC_S17AQ2_2Dpixelmode_450x287_Att30_25um/20210319_MouseBrainCMC_S17AQ2_2Dpixelmode_450x287_Att30_25umLoading files : /data/lipidatlas/data/data_raw/20210325_MouseBrainCMC_S19AS4_2Dpixelmode_396x232_Att30_25um/20210325_MouseBrainCMC_S19AS4_2Dpixelmode_396x232_Att30_25umLoading files : /data/lipidatlas/data/data_raw/20210330_MouseBrainCMC_S20AT3_2Dpixelmode_396x266_Att30_25um/20210330_MouseBrainCMC_S20AT3_2Dpixelmode_396x266_Att30_25umLoading files : /data/lipidatlas/data/data_raw/20210409_MouseBrainCMC_S22AV1_2Dpixelmode_416x207_Att30_25um/20210409_MouseBrainCMC_S22AV1_2Dpixelmode_416x207_Att30_25umLoading files : /data/lipidatlas/data/data_raw/20210408_MouseBrainCMC_S21AU4_2Dpixelmode_394x215_Att30_25um/20210408_MouseBrainCMC_S21AU4_2Dpixelmode_394x215_Att30_25um\n",
      "Loading files : /data/lipidatlas/data/data_raw/20210412_MouseBrainCMC_S23AZ1_2Dpixelmode_360x260_Att30_25um/20210412_MouseBrainCMC_S23AZ1_2Dpixelmode_360x260_Att30_25um\n",
      "Loading files : /data/lipidatlas/data/data_raw/20210603_MouseBrainCMC_S27_duplicate_2Dpixelmode_372x272_Att30_25um/20210603_MouseBrainCMC_S27_duplicate_2Dpixelmode_372x272_Att30_25um\n",
      "\n",
      "Loading files : /data/lipidatlas/data/data_raw/20210429_MouseBrainCMC_S30_5_2Dpixelmode_367x278_Att30_25um/20210429_MouseBrainCMC_S30_5_2Dpixelmode_367x278_Att30_25um\n",
      "Loading files : /data/lipidatlas/data/data_raw/20210501_MouseBrainCMC_S31_3_2Dpixelmode_355x239_Att30_25um/20210501_MouseBrainCMC_S31_3_2Dpixelmode_355x239_Att30_25um\n",
      "\n",
      "\n",
      "Loading files : /data/lipidatlas/data/data_raw/20210504_MouseBrainCMC_S32_3_2Dpixelmode_298x230_Att30_25um/20210504_MouseBrainCMC_S32_3_2Dpixelmode_298x230_Att30_25um\n",
      "\n",
      "\n",
      "\n",
      "\n",
      "\n",
      "[Warning] Not index found and build_index_from_scratch is False\n"
     ]
    },
    {
     "name": "stderr",
     "output_type": "stream",
     "text": [
      "WARNING:root:The mzML file containts more than the expected68540 spectra. The tailing 8 spectra will be ignored.\n",
      "Loading Sprectra at resolution 1e-05:   0%|          | 0/68540 [00:00<?, ?it/s]"
     ]
    },
    {
     "name": "stdout",
     "output_type": "stream",
     "text": [
      "[Warning] Not index found and build_index_from_scratch is False\n",
      "[Warning] Not index found and build_index_from_scratch is False\n",
      "[Warning] Not index found and build_index_from_scratch is False\n",
      "[Warning] Not index found and build_index_from_scratch is False\n"
     ]
    },
    {
     "name": "stderr",
     "output_type": "stream",
     "text": [
      "WARNING:root:The mzML file containts more than the expected84845 spectra. The tailing 5 spectra will be ignored.\n",
      "Loading Sprectra at resolution 1e-05:   0%|          | 0/84845 [00:00<?, ?it/s]WARNING:root:The mzML file containts more than the expected102026 spectra. The tailing 2 spectra will be ignored.\n",
      "Loading Sprectra at resolution 1e-05:   0%|          | 0/102026 [00:00<?, ?it/s]"
     ]
    },
    {
     "name": "stdout",
     "output_type": "stream",
     "text": [
      "[Warning] Not index found and build_index_from_scratch is False\n"
     ]
    },
    {
     "name": "stderr",
     "output_type": "stream",
     "text": [
      "WARNING:root:The mzML file containts more than the expected84710 spectra. The tailing 14 spectra will be ignored.\n",
      "WARNING:root:The mzML file containts more than the expected112301 spectra. The tailing 5 spectra will be ignored.\n",
      "Loading Sprectra at resolution 1e-05:   0%|          | 0/112301 [00:00<?, ?it/s]"
     ]
    },
    {
     "name": "stdout",
     "output_type": "stream",
     "text": [
      "[Warning] Not index found and build_index_from_scratch is False\n",
      "[Warning] Not index found and build_index_from_scratch is False\n"
     ]
    },
    {
     "name": "stderr",
     "output_type": "stream",
     "text": [
      "WARNING:root:The mzML file containts more than the expected91872 spectra. The tailing 16 spectra will be ignored.\n",
      "WARNING:root:The mzML file containts more than the expected101184 spectra. The tailing 16 spectra will be ignored.\n",
      "Loading Sprectra at resolution 1e-05:   0%|          | 0/101184 [00:00<?, ?it/s]"
     ]
    },
    {
     "name": "stdout",
     "output_type": "stream",
     "text": [
      "[Warning] Not index found and build_index_from_scratch is False\n",
      "[Warning] Not index found and build_index_from_scratch is False\n",
      "[Warning] Not index found and build_index_from_scratch is False\n"
     ]
    },
    {
     "name": "stderr",
     "output_type": "stream",
     "text": [
      "WARNING:root:The mzML file containts more than the expected86112 spectra. The tailing 67 spectra will be ignored.\n"
     ]
    },
    {
     "name": "stdout",
     "output_type": "stream",
     "text": [
      "[Warning] Not index found and build_index_from_scratch is False\n"
     ]
    },
    {
     "name": "stderr",
     "output_type": "stream",
     "text": [
      "Loading Sprectra at resolution 1e-05:   0%|          | 0/86112 [00:00<?, ?it/s]WARNING:root:The mzML file containts more than the expected104538 spectra. The tailing 21 spectra will be ignored.\n",
      "WARNING:root:The mzML file containts more than the expected105336 spectra. The tailing 15 spectra will be ignored.\n",
      "Loading Sprectra at resolution 1e-05:   0%|          | 0/104538 [00:00<?, ?it/s]WARNING:root:The mzML file containts more than the expected119286 spectra. The tailing 3 spectra will be ignored.\n",
      "WARNING:root:The mzML file containts more than the expected93600 spectra. The tailing 11 spectra will be ignored.\n",
      "Loading Sprectra at resolution 1e-05:   0%|          | 0/93600 [00:00<?, ?it/s]]"
     ]
    },
    {
     "name": "stdout",
     "output_type": "stream",
     "text": [
      "[Warning] Not index found and build_index_from_scratch is False\n",
      "[Warning] Not index found and build_index_from_scratch is False\n"
     ]
    },
    {
     "name": "stderr",
     "output_type": "stream",
     "text": [
      "WARNING:root:The mzML file containts more than the expected129150 spectra. The tailing 44 spectra will be ignored.\n",
      "WARNING:root:The mzML file containts more than the expected129826 spectra. The tailing 8 spectra will be ignored.\n",
      "Loading Sprectra at resolution 1e-05: 100%|██████████| 84710/84710 [00:51<00:00, 1642.00it/s]]\n",
      "Loading Sprectra at resolution 1e-05:  43%|████▎     | 43881/101184 [00:55<00:51, 1108.32it/s]t/s]\n",
      "Loading Sprectra at resolution 1e-05: 100%|██████████| 93600/93600 [01:03<00:00, 1485.53it/s]]it/s]\n",
      "Loading Sprectra at resolution 1e-05: 100%|██████████| 105336/105336 [01:06<00:00, 1572.43it/s]t/s]\n",
      "Loading Sprectra at resolution 1e-05: 100%|██████████| 104538/104538 [01:07<00:00, 1559.92it/s]\n",
      "Loading Sprectra at resolution 1e-05: 100%|██████████| 68540/68540 [01:13<00:00, 934.26it/s] ]it/s]]\n",
      "Loading Sprectra at resolution 1e-05: 100%|██████████| 86112/86112 [01:17<00:00, 1108.77it/s]]]s]s]]\n",
      "Loading Sprectra at resolution 1e-05: 100%|██████████| 119286/119286 [01:18<00:00, 1528.63it/s]s]s]]\n",
      "Loading Sprectra at resolution 1e-05: 100%|██████████| 112301/112301 [01:21<00:00, 1375.31it/s]t/s]]\n",
      "Loading Sprectra at resolution 1e-05: 100%|██████████| 84845/84845 [01:22<00:00, 1025.79it/s]s]t/s]]\n",
      "Loading Sprectra at resolution 1e-05: 100%|██████████| 129826/129826 [01:32<00:00, 1399.85it/s]it/s]\n",
      "Loading Sprectra at resolution 1e-05: 100%|██████████| 129150/129150 [01:35<00:00, 1349.20it/s]it/s]\n",
      "Loading Sprectra at resolution 1e-05: 100%|██████████| 101184/101184 [01:42<00:00, 991.83it/s] t/s]]\n",
      "Loading the m/z values at resolution 1e-05: 100%|██████████| 84710/84710 [00:51<00:00, 1634.69it/s]]\n",
      "Loading Sprectra at resolution 1e-05: 100%|██████████| 102026/102026 [01:45<00:00, 969.47it/s] t/s]]\n",
      "Loading the m/z values at resolution 1e-05: 100%|██████████| 91872/91872 [00:57<00:00, 1607.52it/s]]\n",
      "Loading the m/z values at resolution 1e-05:   8%|▊         | 7808/102026 [00:12<02:26, 641.96it/s]]]WARNING:root:The sparsified dense matrix S has never been computed. Please wait while it's being generated.\n",
      "Loading the m/z values at resolution 1e-05: 100%|██████████| 104538/104538 [00:57<00:00, 1832.00it/s]\n",
      "Loading the m/z values at resolution 1e-05:  94%|█████████▍| 88244/93600 [01:02<00:03, 1538.66it/s]]WARNING:root:The sparsified dense matrix S has never been computed. Please wait while it's being generated.\n",
      "Loading the m/z values at resolution 1e-05: 100%|██████████| 93600/93600 [01:06<00:00, 1411.58it/s]]\n",
      "Loading the m/z values at resolution 1e-05:  82%|████████▏ | 98400/119286 [01:00<00:13, 1568.01it/s]WARNING:root:The sparsified dense matrix S has never been computed. Please wait while it's being generated.\n",
      "Loading the m/z values at resolution 1e-05:  90%|████████▉ | 106952/119286 [01:06<00:09, 1241.03it/s]WARNING:root:The sparsified dense matrix S has never been computed. Please wait while it's being generated.\n",
      "Loading the m/z values at resolution 1e-05: 100%|██████████| 68540/68540 [01:18<00:00, 878.05it/s]/s]\n",
      "Loading the m/z values at resolution 1e-05:  29%|██▉       | 29991/102026 [00:47<02:01, 591.84it/s]s]\n",
      "Loading the m/z values at resolution 1e-05: 100%|██████████| 119286/119286 [01:19<00:00, 1499.40it/s]\n",
      "Loading the m/z values at resolution 1e-05:  97%|█████████▋| 83251/86112 [01:25<00:04, 707.21it/s]]]]WARNING:root:The sparsified dense matrix S has never been computed. Please wait while it's being generated.\n",
      "Loading the m/z values at resolution 1e-05:  75%|███████▌  | 97932/129826 [01:12<00:24, 1287.77it/s]]WARNING:root:The sparsified dense matrix S has never been computed. Please wait while it's being generated.\n",
      "Loading the m/z values at resolution 1e-05: 100%|██████████| 86112/86112 [01:30<00:00, 955.83it/s]s]]\n",
      "Loading the m/z values at resolution 1e-05: 100%|██████████| 112301/112301 [01:27<00:00, 1282.97it/s]\n",
      "Loading the m/z values at resolution 1e-05:  42%|████▏     | 42866/102026 [01:08<01:22, 714.55it/s]s]WARNING:root:The sparsified dense matrix S has never been computed. Please wait while it's being generated.\n",
      "Loading the m/z values at resolution 1e-05: 100%|██████████| 84845/84845 [01:33<00:00, 910.42it/s]/s]\n",
      "Loading the m/z values at resolution 1e-05:  91%|█████████ | 117808/129826 [01:27<00:11, 1049.97it/s]WARNING:root:The sparsified dense matrix S has never been computed. Please wait while it's being generated.\n",
      "Loading the m/z values at resolution 1e-05:  88%|████████▊ | 113729/129150 [01:28<00:14, 1045.10it/s]WARNING:root:The sparsified dense matrix S has never been computed. Please wait while it's being generated.\n",
      "Loading the m/z values at resolution 1e-05:  96%|█████████▌| 124758/129826 [01:34<00:05, 922.94it/s] WARNING:root:The sparsified dense matrix S has never been computed. Please wait while it's being generated.\n",
      "Loading the m/z values at resolution 1e-05: 100%|██████████| 129826/129826 [01:39<00:00, 1298.64it/s]\n",
      "Loading the m/z values at resolution 1e-05: 100%|██████████| 129150/129150 [01:47<00:00, 1203.80it/s]\n",
      "Loading the m/z values at resolution 1e-05: 100%|██████████| 101184/101184 [01:43<00:00, 974.82it/s]\n",
      "Loading the m/z values at resolution 1e-05:  65%|██████▍   | 66028/102026 [01:42<00:54, 663.84it/s]WARNING:root:The sparsified dense matrix S has never been computed. Please wait while it's being generated.\n",
      "Loading the m/z values at resolution 1e-05:  72%|███████▏  | 72970/102026 [01:53<00:48, 599.93it/s]WARNING:root:The sparsified dense matrix S has never been computed. Please wait while it's being generated.\n",
      "Loading the m/z values at resolution 1e-05:  73%|███████▎  | 74785/102026 [01:56<00:49, 550.03it/s]WARNING:root:The sparsified dense matrix S has never been computed. Please wait while it's being generated.\n",
      "Loading the m/z values at resolution 1e-05: 100%|██████████| 102026/102026 [02:37<00:00, 648.82it/s]\n",
      "WARNING:root:The sparsified dense matrix S has never been computed. Please wait while it's being generated.\n"
     ]
    },
    {
     "name": "stdout",
     "output_type": "stream",
     "text": [
      "Creating and sorting dataframes\n",
      "Creating and sorting dataframes\n",
      "Creating and sorting dataframes\n",
      "Creating and sorting dataframes\n",
      "Creating and sorting dataframes\n",
      "Creating and sorting dataframes\n",
      "Creating and sorting dataframes\n",
      "Creating and sorting dataframes\n",
      "Creating and sorting dataframes\n",
      "Creating and sorting dataframes\n",
      "Creating and sorting dataframes\n",
      "Creating and sorting dataframes\n",
      "Creating and sorting dataframes\n",
      "Creating and sorting dataframes\n"
     ]
    }
   ],
   "source": [
    "multiprocessing = True\n",
    "if multiprocessing:\n",
    "    with Pool(processes=14) as pool:\n",
    "        [x for x in pool.imap_unordered(extract_raw_data, l_t_names)]\n",
    "else:\n",
    "    # Normal (single-processed) map\n",
    "    [x for x in map(extract_raw_data, l_t_names)]"
   ]
  },
  {
   "cell_type": "markdown",
   "metadata": {},
   "source": [
    "### Process raw data into numpy arrays with multiprocessing"
   ]
  },
  {
   "cell_type": "code",
   "execution_count": null,
   "metadata": {},
   "outputs": [],
   "source": [
    "multiprocessing = False\n",
    "if multiprocessing:\n",
    "    with Pool(processes=12) as pool:\n",
    "        [x for x in pool.imap_unordered(process_raw_data, l_t_names)]\n",
    "else:\n",
    "    # Normal (single-processed) map\n",
    "    [x for x in map(process_raw_data, l_t_names[:1])]\n"
   ]
  },
  {
   "cell_type": "markdown",
   "metadata": {},
   "source": [
    "### Build lookup tables"
   ]
  },
  {
   "cell_type": "code",
   "execution_count": null,
   "metadata": {},
   "outputs": [],
   "source": [
    "multiprocessing = True\n",
    "if multiprocessing:\n",
    "    # Multiprocessing\n",
    "    with Pool(processes=12) as pool:\n",
    "        [x for x in pool.map(process_lookup_tables, l_t_names)]\n",
    "else:\n",
    "    # Normal (single-processed) map\n",
    "    [x for x in map(process_lookup_tables, l_t_names)]\n",
    "\n"
   ]
  },
  {
   "cell_type": "markdown",
   "metadata": {},
   "source": [
    "### Record everything and clean "
   ]
  },
  {
   "cell_type": "markdown",
   "metadata": {},
   "source": [
    "Record everything in memap files and a pickled dictonnary"
   ]
  },
  {
   "cell_type": "code",
   "execution_count": null,
   "metadata": {},
   "outputs": [],
   "source": [
    "output_folder = \"data/whole_dataset/\"\n",
    "input_folder = \"notebooks/data_processing/data/temp/\"\n",
    "os.makedirs(output_folder, exist_ok=True)\n",
    "\n",
    "dic_slices = {}\n",
    "# Loop over slice files\n",
    "for slice_name in os.listdir(input_folder):\n",
    "\n",
    "    # Extract slice index\n",
    "    slice_index = int(slice_name.split(\"_\")[1][:-4])\n",
    "\n",
    "    # Load slice arrays\n",
    "    npzfile = np.load(input_folder + slice_name)\n",
    "    array_pixel_indexes_high_res = npzfile[\"array_pixel_indexes_high_res\"]\n",
    "    array_spectra_high_res = npzfile[\"array_spectra_high_res\"]\n",
    "    array_averaged_mz_intensity_low_res = npzfile[\"array_averaged_mz_intensity_low_res\"]\n",
    "    array_averaged_mz_intensity_high_res = npzfile[\"array_averaged_mz_intensity_high_res\"]\n",
    "    image_shape = npzfile[\"image_shape\"]\n",
    "    divider_lookup = npzfile[\"divider_lookup\"]\n",
    "    lookup_table_spectra_high_res = npzfile[\"lookup_table_spectra_high_res\"]\n",
    "    cumulated_image_lookup_table_high_res = npzfile[\"cumulated_image_lookup_table_high_res\"]\n",
    "    lookup_table_averaged_spectrum_high_res = npzfile[\"lookup_table_averaged_spectrum_high_res\"]\n",
    "    array_peaks_corrected = npzfile[\"array_peaks_corrected\"]\n",
    "    array_corrective_factors = npzfile[\"array_corrective_factors\"]\n",
    "\n",
    "    # Print array size\n",
    "    # print size used by each array in mb\n",
    "    print(round(array_pixel_indexes_high_res.nbytes / 1024 / 1024, 2))\n",
    "    print(round(array_spectra_high_res.nbytes / 1024 / 1024, 2))\n",
    "    print(round(array_averaged_mz_intensity_low_res.nbytes / 1024 / 1024, 2))\n",
    "    print(round(array_averaged_mz_intensity_high_res.nbytes / 1024 / 1024, 2))\n",
    "    print(round(lookup_table_spectra_high_res.nbytes / 1024 / 1024, 2))\n",
    "    print(round(cumulated_image_lookup_table_high_res.nbytes / 1024 / 1024, 2))\n",
    "    print(round(lookup_table_averaged_spectrum_high_res.nbytes / 1024 / 1024, 2))\n",
    "\n",
    "    # Register the lightweights files in a pickled dictionnary\n",
    "    dic_slices[slice_index] = {\n",
    "        \"image_shape\": image_shape,\n",
    "        \"divider_lookup\": divider_lookup,\n",
    "        \"array_avg_spectrum_downsampled\": array_averaged_mz_intensity_low_res,\n",
    "        \"array_lookup_pixels\": array_pixel_indexes_high_res,\n",
    "        \"array_lookup_mz_avg\": lookup_table_averaged_spectrum_high_res,\n",
    "        \"array_peaks_transformed_lipids\": array_peaks_corrected,\n",
    "        \"array_corrective_factors\": array_corrective_factors,\n",
    "    }\n",
    "\n",
    "    # Build a memap for each of the heavier files to save RAM, save the corresponding shape in the\n",
    "    # pickled dictionnary\n",
    "    fp = np.memmap(\n",
    "        output_folder + \"array_spectra_\" + str(slice_index) + \".mmap\",\n",
    "        dtype=\"float32\",\n",
    "        mode=\"w+\",\n",
    "        shape=array_spectra_high_res.shape,\n",
    "    )\n",
    "    fp[:] = array_spectra_high_res[:]\n",
    "    fp.flush()\n",
    "    dic_slices[slice_index][\"array_spectra_shape\"] = array_spectra_high_res.shape\n",
    "\n",
    "    fp = np.memmap(\n",
    "        output_folder + \"array_avg_spectrum_\" + str(slice_index) + \".mmap\",\n",
    "        dtype=\"float32\",\n",
    "        mode=\"w+\",\n",
    "        shape=array_averaged_mz_intensity_high_res.shape,\n",
    "    )\n",
    "    fp[:] = array_averaged_mz_intensity_high_res[:]\n",
    "    fp.flush()\n",
    "    dic_slices[slice_index][\"array_avg_spectrum_shape\"] = array_averaged_mz_intensity_high_res.shape\n",
    "\n",
    "    fp = np.memmap(\n",
    "        output_folder + \"array_lookup_mz_\" + str(slice_index) + \".mmap\",\n",
    "        dtype=\"int32\",\n",
    "        mode=\"w+\",\n",
    "        shape=lookup_table_spectra_high_res.shape,\n",
    "    )\n",
    "    fp[:] = lookup_table_spectra_high_res[:]\n",
    "    fp.flush()\n",
    "    dic_slices[slice_index][\"array_lookup_mz_shape\"] = lookup_table_spectra_high_res.shape\n",
    "\n",
    "    fp = np.memmap(\n",
    "        output_folder + \"array_cumulated_lookup_mz_image_\" + str(slice_index) + \".mmap\",\n",
    "        dtype=\"float32\",\n",
    "        mode=\"w+\",\n",
    "        shape=cumulated_image_lookup_table_high_res.shape,\n",
    "    )\n",
    "    fp[:] = cumulated_image_lookup_table_high_res[:]\n",
    "    fp.flush()\n",
    "    dic_slices[slice_index][\n",
    "        \"array_cumulated_lookup_mz_image_shape\"\n",
    "    ] = cumulated_image_lookup_table_high_res.shape\n",
    "\n",
    "# Pickle the dict of lightweight data\n",
    "with open(output_folder + \"light_arrays.pickle\", \"wb\") as handle:\n",
    "    pickle.dump(dic_slices, handle)\n"
   ]
  },
  {
   "cell_type": "markdown",
   "metadata": {},
   "source": [
    "Clean temporary folder"
   ]
  },
  {
   "cell_type": "code",
   "execution_count": null,
   "metadata": {},
   "outputs": [],
   "source": [
    "clean = False\n",
    "if clean:\n",
    "    delete_all_files_in_folder(input_folder)\n"
   ]
  },
  {
   "cell_type": "code",
   "execution_count": null,
   "metadata": {},
   "outputs": [],
   "source": []
  }
 ],
 "metadata": {
  "interpreter": {
   "hash": "0c1aa729cc35b9a783763c24c4069d7da678acf641f89d4e1df25bf02079ad65"
  },
  "kernelspec": {
   "display_name": "Python 3 (ipykernel)",
   "language": "python",
   "name": "python3"
  },
  "language_info": {
   "codemirror_mode": {
    "name": "ipython",
    "version": 3
   },
   "file_extension": ".py",
   "mimetype": "text/x-python",
   "name": "python",
   "nbconvert_exporter": "python",
   "pygments_lexer": "ipython3",
   "version": "3.9.7"
  }
 },
 "nbformat": 4,
 "nbformat_minor": 4
}
