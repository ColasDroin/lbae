{
 "cells": [
  {
   "cell_type": "markdown",
   "metadata": {},
   "source": [
    "# Notebook 1\n",
    "Raw data export into np.memaps."
   ]
  },
  {
   "cell_type": "markdown",
   "metadata": {},
   "source": [
    "### Load important modules"
   ]
  },
  {
   "cell_type": "code",
   "execution_count": 1,
   "metadata": {},
   "outputs": [
    {
     "name": "stdout",
     "output_type": "stream",
     "text": [
      "['data', 'pages', 'app.py', 'assets', 'config.py', 'index.py', 'main.py', 'TODO.py', 'notebooks', 'modules', '__pycache__', 'nohup.out']\n"
     ]
    },
    {
     "data": {
      "text/plain": [
       "<threadpoolctl.threadpool_limits at 0x7f22ac4a8c10>"
      ]
     },
     "execution_count": 1,
     "metadata": {},
     "output_type": "execute_result"
    }
   ],
   "source": [
    "# Standard modules\n",
    "import numpy as np\n",
    "import os\n",
    "import logging\n",
    "\n",
    "import pickle\n",
    "\n",
    "# Move to root directory for easier module handling\n",
    "os.chdir(\"../..\")\n",
    "print(os.listdir(\".\"))\n",
    "from notebooks.data_processing.modules.maldi_conversion import process_raw_data, extract_raw_data\n",
    "from notebooks.data_processing.modules.lookup_tables import process_lookup_tables\n",
    "from modules.tools.misc import delete_all_files_in_folder\n",
    "\n",
    "# multithreading/multiprocessing\n",
    "from multiprocessing import Pool\n",
    "from threadpoolctl import threadpool_limits\n",
    "\n",
    "# set thread limit\n",
    "threadpool_limits(16)\n"
   ]
  },
  {
   "cell_type": "markdown",
   "metadata": {},
   "source": [
    "### Create a list of raw data filenames"
   ]
  },
  {
   "cell_type": "code",
   "execution_count": 2,
   "metadata": {},
   "outputs": [
    {
     "name": "stdout",
     "output_type": "stream",
     "text": [
      "32 20220130_MouseBrain2_S32_370x325_Att30_25um\n"
     ]
    }
   ],
   "source": [
    "path_brain_1 =  \"/data/lipidatlas/data/data_raw/BRAIN1\"\n",
    "path_brain_2 =  \"/data/lipidatlas/data/data_raw/BRAIN2/\"\n",
    "path_brain_1_temp = \"/data/lipidatlas/data/app/data/temp/brain_1\"#\"notebooks/data_processing/data/temp/brain_1\"\n",
    "path_brain_2_temp = \"/data/lipidatlas/data/app/data/temp/brain_2\"#\"notebooks/data_processing/data/temp/brain_2\"\n",
    "split_value_1 = \"MouseBrainCMC_S\"\n",
    "split_value_2 = \"MouseBrain2_S\"\n",
    "ll_t_names = []\n",
    "for path_brain, path_brain_temp, split_value in zip([path_brain_1, path_brain_2], [path_brain_1_temp, path_brain_2_temp], [split_value_1,split_value_2]):\n",
    "    # Load filenames\n",
    "    l_t_names = sorted(\n",
    "        [\n",
    "            [\n",
    "                int(name.split(split_value)[1].split(\"_\")[0].split(\"A\")[0].split(\"(\")[0]),\n",
    "                path_brain + name + \"/\" + name,\n",
    "            ]\n",
    "            for name in os.listdir(path_brain)\n",
    "            if \"MouseBrain\" in name\n",
    "        ]\n",
    "    )\n",
    "\n",
    "    # Correct for duplicates\n",
    "    for t_names_1, t_names_2 in zip(l_t_names[:-1], l_t_names[1:]):\n",
    "        if t_names_2[0] == t_names_1[0]:\n",
    "            t_names_2.append(\"bis\")\n",
    "            print(\"WARNING: duplicate for slice \" + str(t_names_1[0]))\n",
    "\n",
    "    # Remove slices that have already been processed\n",
    "    os.makedirs(path_brain_temp, exist_ok=True)\n",
    "    remove_already_loaded = True\n",
    "    if remove_already_loaded:\n",
    "        existing_names = [int(name.split(\"_\")[1][:-7]) for name in os.listdir(path_brain_temp) if \"raw\" in name]\n",
    "        l_t_names = [x for x in l_t_names if x[0] not in existing_names]\n",
    "\n",
    "    # Print the final list of names\n",
    "    for t_names in l_t_names:\n",
    "        print(t_names[0], t_names[1].split(\"/\")[-1])\n",
    "\n",
    "    ll_t_names.append(l_t_names)\n"
   ]
  },
  {
   "cell_type": "code",
   "execution_count": 3,
   "metadata": {},
   "outputs": [
    {
     "name": "stdout",
     "output_type": "stream",
     "text": [
      "32 20220130_MouseBrain2_S32_370x325_Att30_25um\n"
     ]
    }
   ],
   "source": [
    "brain_1 = False\n",
    "if brain_1:\n",
    "    l_t_names = ll_t_names[0]\n",
    "else:\n",
    "    l_t_names = ll_t_names[1]\n",
    "\n",
    "# Print the final list of names\n",
    "for t_names in l_t_names:\n",
    "    print(t_names[0], t_names[1].split(\"/\")[-1])"
   ]
  },
  {
   "cell_type": "markdown",
   "metadata": {},
   "source": [
    "\n",
    "### Extract raw data into numpy arrays with multiprocessing"
   ]
  },
  {
   "cell_type": "code",
   "execution_count": 4,
   "metadata": {},
   "outputs": [
    {
     "name": "stdout",
     "output_type": "stream",
     "text": [
      "Loading files : /data/lipidatlas/data/data_raw/BRAIN2/20220130_MouseBrain2_S32_370x325_Att30_25um/20220130_MouseBrain2_S32_370x325_Att30_25um\n",
      "[Warning] Not index found and build_index_from_scratch is False\n"
     ]
    },
    {
     "name": "stderr",
     "output_type": "stream",
     "text": [
      "Loading Sprectra at resolution 1e-05: 100%|██████████| 120250/120250 [01:29<00:00, 1339.80it/s]\n",
      "Loading the m/z values at resolution 1e-05: 100%|██████████| 120250/120250 [01:26<00:00, 1388.73it/s]\n",
      "100%|██████████| 120250/120250 [23:07<00:00, 86.64it/s]\n"
     ]
    },
    {
     "name": "stdout",
     "output_type": "stream",
     "text": [
      "Creating and sorting dataframes\n"
     ]
    }
   ],
   "source": [
    "if True:\n",
    "    multiprocessing = True\n",
    "    if multiprocessing:\n",
    "        with Pool(processes=7) as pool:\n",
    "            [x for x in pool.imap_unordered(extract_raw_data, l_t_names)]\n",
    "    else:\n",
    "        # Normal (single-processed) map\n",
    "        [x for x in map(extract_raw_data, l_t_names)]"
   ]
  },
  {
   "cell_type": "markdown",
   "metadata": {},
   "source": [
    "### Remove slices already processed"
   ]
  },
  {
   "cell_type": "code",
   "execution_count": 5,
   "metadata": {},
   "outputs": [
    {
     "name": "stdout",
     "output_type": "stream",
     "text": [
      "[[32, '/data/lipidatlas/data/data_raw/BRAIN2/20220130_MouseBrain2_S32_370x325_Att30_25um/20220130_MouseBrain2_S32_370x325_Att30_25um'], [33, '/data/lipidatlas/data/data_raw/BRAIN2/20220201_MouseBrain2_S33_359x314_Att30_25um/20220201_MouseBrain2_S33_359x314_Att30_25um'], [34, '/data/lipidatlas/data/data_raw/BRAIN2/20220203_MouseBrain2_S34_377x322_Att30_25um/20220203_MouseBrain2_S34_377x322_Att30_25um'], [35, '/data/lipidatlas/data/data_raw/BRAIN2/20220207_MouseBrain2_S35_375x344_Att30_25um/20220207_MouseBrain2_S35_375x344_Att30_25um'], [36, '/data/lipidatlas/data/data_raw/BRAIN2/20220210_MouseBrain2_S36_363x307_Att30_25um/20220210_MouseBrain2_S36_363x307_Att30_25um'], [37, '/data/lipidatlas/data/data_raw/BRAIN2/20220213_MouseBrain2_S37_354x308_Att30_25um/20220213_MouseBrain2_S37_354x308_Att30_25um'], [38, '/data/lipidatlas/data/data_raw/BRAIN2/20220216_MouseBrain2_S38_363x304_Att30_25um/20220216_MouseBrain2_S38_363x304_Att30_25um'], [39, '/data/lipidatlas/data/data_raw/BRAIN2/20220225_MouseBrain2_S39_354x296_Att30_25um/20220225_MouseBrain2_S39_354x296_Att30_25um'], [40, '/data/lipidatlas/data/data_raw/BRAIN2/20220308_MouseBrain2_S40_322x290_Att30_25um/20220308_MouseBrain2_S40_322x290_Att30_25um'], [41, '/data/lipidatlas/data/data_raw/BRAIN2/20220303_MouseBrain2_S41_333x262_Att30_25um/20220303_MouseBrain2_S41_333x262_Att30_25um'], [42, '/data/lipidatlas/data/data_raw/BRAIN2/20220222_MouseBrain2_S42_278x251_Att30_25um/20220222_MouseBrain2_S42_278x251_Att30_25um']]\n"
     ]
    }
   ],
   "source": [
    "path_brain_1_temp = \"/data/lipidatlas/data/app/data/temp/brain_1\" if brain_1 else \"/data/lipidatlas/data/app/data/temp/brain_2\"\n",
    "existing_names = [int(name.split(\"_\")[1][:-4]) for name in os.listdir(path_brain_temp) if 'raw' not in name]\n",
    "l_t_names = [x for x in l_t_names if x[0] not in existing_names]\n",
    "print(l_t_names)"
   ]
  },
  {
   "cell_type": "markdown",
   "metadata": {},
   "source": [
    "### Process raw data into numpy arrays with multiprocessing"
   ]
  },
  {
   "cell_type": "code",
   "execution_count": 8,
   "metadata": {},
   "outputs": [
    {
     "name": "stdout",
     "output_type": "stream",
     "text": [
      "Compute and normalize pixels values according to TIC\n",
      "Filtering out noise and matrix peaks\n",
      "Prepare data for standardization\n",
      "Standardize data\n",
      "Sorting by m/z value for averaging\n",
      "Getting spectrums array averaged accross pixels\n",
      "Build the low-resolution averaged array from the high resolution averaged array\n",
      "Sorting by m/z value for averaging after standardization\n",
      "Getting spectrums array averaged accross pixels\n",
      "Double sorting according to pixel and mz high-res array\n",
      "Getting corresponding spectra arrays\n",
      "Saving : /data/lipidatlas/data/data_raw/BRAIN2/20220201_MouseBrain2_S33_359x314_Att30_25um/20220201_MouseBrain2_S33_359x314_Att30_25um\n",
      "Compute and normalize pixels values according to TIC\n",
      "Filtering out noise and matrix peaks\n",
      "Prepare data for standardization\n",
      "Standardize data\n",
      "Sorting by m/z value for averaging\n",
      "Getting spectrums array averaged accross pixels\n",
      "Build the low-resolution averaged array from the high resolution averaged array\n",
      "Sorting by m/z value for averaging after standardization\n",
      "Getting spectrums array averaged accross pixels\n",
      "Double sorting according to pixel and mz high-res array\n",
      "Getting corresponding spectra arrays\n",
      "Saving : /data/lipidatlas/data/data_raw/BRAIN2/20220203_MouseBrain2_S34_377x322_Att30_25um/20220203_MouseBrain2_S34_377x322_Att30_25um\n",
      "Compute and normalize pixels values according to TIC\n",
      "Filtering out noise and matrix peaks\n",
      "Prepare data for standardization\n",
      "Standardize data\n",
      "Sorting by m/z value for averaging\n",
      "Getting spectrums array averaged accross pixels\n",
      "Build the low-resolution averaged array from the high resolution averaged array\n",
      "Sorting by m/z value for averaging after standardization\n",
      "Getting spectrums array averaged accross pixels\n",
      "Double sorting according to pixel and mz high-res array\n",
      "Getting corresponding spectra arrays\n",
      "Saving : /data/lipidatlas/data/data_raw/BRAIN2/20220207_MouseBrain2_S35_375x344_Att30_25um/20220207_MouseBrain2_S35_375x344_Att30_25um\n",
      "Compute and normalize pixels values according to TIC\n",
      "Filtering out noise and matrix peaks\n",
      "Prepare data for standardization\n",
      "Standardize data\n",
      "Sorting by m/z value for averaging\n",
      "Getting spectrums array averaged accross pixels\n",
      "Build the low-resolution averaged array from the high resolution averaged array\n",
      "Sorting by m/z value for averaging after standardization\n",
      "Getting spectrums array averaged accross pixels\n",
      "Double sorting according to pixel and mz high-res array\n",
      "Getting corresponding spectra arrays\n",
      "Saving : /data/lipidatlas/data/data_raw/BRAIN2/20220210_MouseBrain2_S36_363x307_Att30_25um/20220210_MouseBrain2_S36_363x307_Att30_25um\n",
      "Compute and normalize pixels values according to TIC\n",
      "Filtering out noise and matrix peaks\n",
      "Prepare data for standardization\n",
      "Standardize data\n",
      "Sorting by m/z value for averaging\n",
      "Getting spectrums array averaged accross pixels\n",
      "Build the low-resolution averaged array from the high resolution averaged array\n",
      "Sorting by m/z value for averaging after standardization\n",
      "Getting spectrums array averaged accross pixels\n",
      "Double sorting according to pixel and mz high-res array\n",
      "Getting corresponding spectra arrays\n",
      "Saving : /data/lipidatlas/data/data_raw/BRAIN2/20220213_MouseBrain2_S37_354x308_Att30_25um/20220213_MouseBrain2_S37_354x308_Att30_25um\n",
      "Compute and normalize pixels values according to TIC\n",
      "Filtering out noise and matrix peaks\n",
      "Prepare data for standardization\n",
      "Standardize data\n",
      "Sorting by m/z value for averaging\n",
      "Getting spectrums array averaged accross pixels\n",
      "Build the low-resolution averaged array from the high resolution averaged array\n",
      "Sorting by m/z value for averaging after standardization\n",
      "Getting spectrums array averaged accross pixels\n",
      "Double sorting according to pixel and mz high-res array\n",
      "Getting corresponding spectra arrays\n",
      "Saving : /data/lipidatlas/data/data_raw/BRAIN2/20220216_MouseBrain2_S38_363x304_Att30_25um/20220216_MouseBrain2_S38_363x304_Att30_25um\n",
      "Compute and normalize pixels values according to TIC\n",
      "Filtering out noise and matrix peaks\n",
      "Prepare data for standardization\n",
      "Standardize data\n",
      "Sorting by m/z value for averaging\n",
      "Getting spectrums array averaged accross pixels\n",
      "Build the low-resolution averaged array from the high resolution averaged array\n",
      "Sorting by m/z value for averaging after standardization\n",
      "Getting spectrums array averaged accross pixels\n",
      "Double sorting according to pixel and mz high-res array\n",
      "Getting corresponding spectra arrays\n",
      "Saving : /data/lipidatlas/data/data_raw/BRAIN2/20220225_MouseBrain2_S39_354x296_Att30_25um/20220225_MouseBrain2_S39_354x296_Att30_25um\n",
      "Compute and normalize pixels values according to TIC\n",
      "Filtering out noise and matrix peaks\n",
      "Prepare data for standardization\n",
      "Standardize data\n",
      "Sorting by m/z value for averaging\n",
      "Getting spectrums array averaged accross pixels\n",
      "Build the low-resolution averaged array from the high resolution averaged array\n",
      "Sorting by m/z value for averaging after standardization\n",
      "Getting spectrums array averaged accross pixels\n",
      "Double sorting according to pixel and mz high-res array\n",
      "Getting corresponding spectra arrays\n",
      "Saving : /data/lipidatlas/data/data_raw/BRAIN2/20220308_MouseBrain2_S40_322x290_Att30_25um/20220308_MouseBrain2_S40_322x290_Att30_25um\n",
      "Compute and normalize pixels values according to TIC\n",
      "Filtering out noise and matrix peaks\n",
      "Prepare data for standardization\n",
      "Standardize data\n",
      "Sorting by m/z value for averaging\n",
      "Getting spectrums array averaged accross pixels\n",
      "Build the low-resolution averaged array from the high resolution averaged array\n",
      "Sorting by m/z value for averaging after standardization\n",
      "Getting spectrums array averaged accross pixels\n",
      "Double sorting according to pixel and mz high-res array\n",
      "Getting corresponding spectra arrays\n",
      "Saving : /data/lipidatlas/data/data_raw/BRAIN2/20220303_MouseBrain2_S41_333x262_Att30_25um/20220303_MouseBrain2_S41_333x262_Att30_25um\n",
      "Compute and normalize pixels values according to TIC\n",
      "Filtering out noise and matrix peaks\n",
      "Prepare data for standardization\n",
      "Standardize data\n",
      "Sorting by m/z value for averaging\n",
      "Getting spectrums array averaged accross pixels\n",
      "Build the low-resolution averaged array from the high resolution averaged array\n",
      "Sorting by m/z value for averaging after standardization\n",
      "Getting spectrums array averaged accross pixels\n",
      "Double sorting according to pixel and mz high-res array\n",
      "Getting corresponding spectra arrays\n",
      "Saving : /data/lipidatlas/data/data_raw/BRAIN2/20220222_MouseBrain2_S42_278x251_Att30_25um/20220222_MouseBrain2_S42_278x251_Att30_25um\n"
     ]
    }
   ],
   "source": [
    "multiprocessing = False\n",
    "if multiprocessing:\n",
    "    with Pool(processes=16) as pool:\n",
    "        [x for x in pool.imap_unordered(process_raw_data, l_t_names)]\n",
    "else:\n",
    "    # Normal (single-processed) map\n",
    "    [x for x in map(process_raw_data, l_t_names[1:])]\n"
   ]
  },
  {
   "cell_type": "markdown",
   "metadata": {},
   "source": [
    "### Build lookup tables"
   ]
  },
  {
   "cell_type": "code",
   "execution_count": 5,
   "metadata": {},
   "outputs": [
    {
     "name": "stdout",
     "output_type": "stream",
     "text": [
      "Size (in mb) of lookup_table_spectra_high_res:  578.98\n",
      "Shape of lookup_table_spectra_high_res:  (2000, 75888)\n",
      "Size (in mb) of lookup_table_spectra_high_res:  623.11\n",
      "Shape of lookup_table_spectra_high_res:  (2000, 81672)\n",
      "Size (in mb) of lookup_table_spectra_high_res:  637.65\n",
      "Shape of lookup_table_spectra_high_res:  (2000, 83578)\n",
      "Size (in mb) of lookup_table_spectra_high_res:  769.65\n",
      "Shape of lookup_table_spectra_high_res:  (2000, 100879)\n",
      "Size (in mb) of lookup_table_spectra_high_res:  807.54\n",
      "Shape of lookup_table_spectra_high_res:  (2000, 105846)\n",
      "Size (in mb) of lookup_table_spectra_high_res:  886.0\n",
      "Shape of lookup_table_spectra_high_res:  (2000, 116130)\n",
      "Size (in mb) of lookup_table_spectra_high_res:  926.49\n",
      "Shape of lookup_table_spectra_high_res:  (2000, 121437)\n",
      "Size (in mb) of lookup_table_spectra_high_res:  920.06\n",
      "Shape of lookup_table_spectra_high_res:  (2000, 120594)\n",
      "Size (in mb) of lookup_table_spectra_high_res:  986.25\n",
      "Shape of lookup_table_spectra_high_res:  (2000, 129270)\n",
      "Size (in mb) of lookup_table_spectra_high_res:  997.35\n",
      "Shape of lookup_table_spectra_high_res:  (2000, 130725)\n",
      "Size (in mb) of lookup_table_spectra_high_res:  980.58\n",
      "Shape of lookup_table_spectra_high_res:  (2000, 128527)\n",
      "Size (in mb) of lookup_table_spectra_high_res:  1039.22\n",
      "Shape of lookup_table_spectra_high_res:  (2000, 136213)\n",
      "Size (in mb) of lookup_table_spectra_high_res:  1032.71\n",
      "Shape of lookup_table_spectra_high_res:  (2000, 135360)\n",
      "Size (in mb) of lookup_table_spectra_high_res:  1070.76\n",
      "Shape of lookup_table_spectra_high_res:  (2000, 140346)\n",
      "Size (in mb) of lookup_table_spectra_high_res:  1131.59\n",
      "Shape of lookup_table_spectra_high_res:  (2000, 148320)\n",
      "Size (in mb) of lookup_table_spectra_high_res:  1220.21\n",
      "Shape of lookup_table_spectra_high_res:  (2000, 159936)\n",
      "Size (in mb) of cumulated_image_lookup_table_high_res:  578.98\n",
      "Shape of cumulated_image_lookup_table_high_res:  (2000, 248, 306)\n",
      "Size (in mb) of cumulated_image_lookup_table_high_res:  623.11\n",
      "Shape of cumulated_image_lookup_table_high_res:  (2000, 246, 332)\n",
      "Size (in mb) of lookup_table_averaged_spectrum_high_res:  0.01\n",
      "Shape of lookup_table_averaged_spectrum_high_res:  (2000,)\n",
      "Saving...\n",
      "Size (in mb) of cumulated_image_lookup_table_high_res:  637.65\n",
      "Shape of cumulated_image_lookup_table_high_res:  (2000, 262, 319)\n",
      "Size (in mb) of lookup_table_averaged_spectrum_high_res:  0.01\n",
      "Shape of lookup_table_averaged_spectrum_high_res:  (2000,)\n",
      "Saving...\n",
      "Size (in mb) of lookup_table_averaged_spectrum_high_res:  0.01\n",
      "Shape of lookup_table_averaged_spectrum_high_res:  (2000,)\n",
      "Saving...\n",
      "Size (in mb) of cumulated_image_lookup_table_high_res:  769.65\n",
      "Shape of cumulated_image_lookup_table_high_res:  (2000, 281, 359)\n",
      "Size (in mb) of cumulated_image_lookup_table_high_res:  807.54\n",
      "Shape of cumulated_image_lookup_table_high_res:  (2000, 299, 354)\n",
      "Size (in mb) of cumulated_image_lookup_table_high_res:  886.0\n",
      "Shape of cumulated_image_lookup_table_high_res:  (2000, 294, 395)\n",
      "Size (in mb) of lookup_table_averaged_spectrum_high_res:  0.01\n",
      "Shape of lookup_table_averaged_spectrum_high_res:  (2000,)\n",
      "Saving...\n",
      "Size (in mb) of cumulated_image_lookup_table_high_res:  920.06\n",
      "Shape of cumulated_image_lookup_table_high_res:  (2000, 303, 398)\n",
      "Size (in mb) of lookup_table_averaged_spectrum_high_res:  0.01\n",
      "Shape of lookup_table_averaged_spectrum_high_res:  (2000,)\n",
      "Saving...\n",
      "Size (in mb) of cumulated_image_lookup_table_high_res:  926.49\n",
      "Shape of cumulated_image_lookup_table_high_res:  (2000, 309, 393)\n",
      "Size (in mb) of lookup_table_averaged_spectrum_high_res:  0.01\n",
      "Shape of lookup_table_averaged_spectrum_high_res:  (2000,)\n",
      "Saving...\n",
      "Size (in mb) of cumulated_image_lookup_table_high_res:  986.25\n",
      "Shape of cumulated_image_lookup_table_high_res:  (2000, 310, 417)\n",
      "Size (in mb) of cumulated_image_lookup_table_high_res:  997.35\n",
      "Shape of cumulated_image_lookup_table_high_res:  (2000, 315, 415)\n",
      "Size (in mb) of lookup_table_averaged_spectrum_high_res:  0.01\n",
      "Shape of lookup_table_averaged_spectrum_high_res:  (2000,)\n",
      "Saving...\n",
      "Size (in mb) of cumulated_image_lookup_table_high_res:  980.58\n",
      "Shape of cumulated_image_lookup_table_high_res:  (2000, 301, 427)\n",
      "Size (in mb) of cumulated_image_lookup_table_high_res:  1032.71\n",
      "Shape of cumulated_image_lookup_table_high_res:  (2000, 320, 423)\n",
      "Size (in mb) of cumulated_image_lookup_table_high_res:  1039.22\n",
      "Shape of cumulated_image_lookup_table_high_res:  (2000, 319, 427)\n",
      "Size (in mb) of lookup_table_averaged_spectrum_high_res:  0.01\n",
      "Shape of lookup_table_averaged_spectrum_high_res:  (2000,)\n",
      "Saving...\n",
      "Size (in mb) of lookup_table_averaged_spectrum_high_res:  0.01\n",
      "Shape of lookup_table_averaged_spectrum_high_res:  (2000,)\n",
      "Saving...\n",
      "Size (in mb) of cumulated_image_lookup_table_high_res:  1131.59\n",
      "Shape of cumulated_image_lookup_table_high_res:  (2000, 360, 412)\n",
      "Size (in mb) of cumulated_image_lookup_table_high_res:  1070.76\n",
      "Shape of cumulated_image_lookup_table_high_res:  (2000, 339, 414)\n",
      "Size (in mb) of lookup_table_averaged_spectrum_high_res:  0.01\n",
      "Shape of lookup_table_averaged_spectrum_high_res:  (2000,)\n",
      "Saving...\n",
      "Size (in mb) of lookup_table_averaged_spectrum_high_res:  0.01\n",
      "Shape of lookup_table_averaged_spectrum_high_res:  (2000,)\n",
      "Saving...\n",
      "Size (in mb) of lookup_table_averaged_spectrum_high_res:  0.01\n",
      "Shape of lookup_table_averaged_spectrum_high_res:  (2000,)\n",
      "Saving...\n",
      "Size (in mb) of lookup_table_averaged_spectrum_high_res:  0.01\n",
      "Shape of lookup_table_averaged_spectrum_high_res:  (2000,)\n",
      "Saving...\n",
      "Size (in mb) of cumulated_image_lookup_table_high_res:  1220.21\n",
      "Shape of cumulated_image_lookup_table_high_res:  (2000, 336, 476)\n",
      "Size (in mb) of lookup_table_averaged_spectrum_high_res:  0.01\n",
      "Shape of lookup_table_averaged_spectrum_high_res:  (2000,)\n",
      "Saving...\n",
      "Size (in mb) of lookup_table_averaged_spectrum_high_res:  0.01\n",
      "Shape of lookup_table_averaged_spectrum_high_res:  (2000,)\n",
      "Saving...\n",
      "Size (in mb) of lookup_table_averaged_spectrum_high_res:  0.01\n",
      "Shape of lookup_table_averaged_spectrum_high_res:  (2000,)\n",
      "Saving...\n",
      "Size (in mb) of lookup_table_spectra_high_res:  1017.33\n",
      "Shape of lookup_table_spectra_high_res:  (2000, 133343)\n",
      "Size (in mb) of lookup_table_spectra_high_res:  784.56\n",
      "Shape of lookup_table_spectra_high_res:  (2000, 102834)\n",
      "Size (in mb) of cumulated_image_lookup_table_high_res:  1017.33\n",
      "Shape of cumulated_image_lookup_table_high_res:  (2000, 301, 443)\n",
      "Size (in mb) of lookup_table_averaged_spectrum_high_res:  0.01\n",
      "Shape of lookup_table_averaged_spectrum_high_res:  (2000,)\n",
      "Saving...\n",
      "Size (in mb) of lookup_table_spectra_high_res:  907.14\n",
      "Shape of lookup_table_spectra_high_res:  (2000, 118900)\n",
      "Size (in mb) of cumulated_image_lookup_table_high_res:  784.56\n",
      "Shape of cumulated_image_lookup_table_high_res:  (2000, 261, 394)\n",
      "Size (in mb) of lookup_table_averaged_spectrum_high_res:  0.01\n",
      "Shape of lookup_table_averaged_spectrum_high_res:  (2000,)\n",
      "Saving...\n",
      "Size (in mb) of cumulated_image_lookup_table_high_res:  907.14\n",
      "Shape of cumulated_image_lookup_table_high_res:  (2000, 290, 410)\n",
      "Size (in mb) of lookup_table_averaged_spectrum_high_res:  0.01\n",
      "Shape of lookup_table_averaged_spectrum_high_res:  (2000,)\n",
      "Saving...\n",
      "Size (in mb) of lookup_table_spectra_high_res:  756.84\n",
      "Shape of lookup_table_spectra_high_res:  (2000, 99200)\n",
      "Size (in mb) of cumulated_image_lookup_table_high_res:  756.84\n",
      "Shape of cumulated_image_lookup_table_high_res:  (2000, 248, 400)\n",
      "Size (in mb) of lookup_table_averaged_spectrum_high_res:  0.01\n",
      "Shape of lookup_table_averaged_spectrum_high_res:  (2000,)\n",
      "Saving...\n",
      "Size (in mb) of lookup_table_spectra_high_res:  784.56\n",
      "Shape of lookup_table_spectra_high_res:  (2000, 102834)\n",
      "Size (in mb) of cumulated_image_lookup_table_high_res:  784.56\n",
      "Shape of cumulated_image_lookup_table_high_res:  (2000, 261, 394)\n",
      "Size (in mb) of lookup_table_averaged_spectrum_high_res:  0.01\n",
      "Shape of lookup_table_averaged_spectrum_high_res:  (2000,)\n",
      "Saving...\n"
     ]
    },
    {
     "ename": "FileNotFoundError",
     "evalue": "[Errno 2] No such file or directory: '/data/lipidatlas/data/app/data/temp/brain_2/slice_32.npz'",
     "output_type": "error",
     "traceback": [
      "\u001b[0;31m---------------------------------------------------------------------------\u001b[0m",
      "\u001b[0;31mRemoteTraceback\u001b[0m                           Traceback (most recent call last)",
      "\u001b[0;31mRemoteTraceback\u001b[0m: \n\"\"\"\nTraceback (most recent call last):\n  File \"/home/colas/miniconda3/lib/python3.9/multiprocessing/pool.py\", line 125, in worker\n    result = (True, func(*args, **kwds))\n  File \"/home/colas/miniconda3/lib/python3.9/multiprocessing/pool.py\", line 48, in mapstar\n    return list(map(*args))\n  File \"/home/colas/lbae/lbae/notebooks/data_processing/modules/lookup_tables.py\", line 266, in process_lookup_tables\n    npzfile = np.load(path)\n  File \"/home/colas/miniconda3/lib/python3.9/site-packages/numpy/lib/npyio.py\", line 417, in load\n    fid = stack.enter_context(open(os_fspath(file), \"rb\"))\nFileNotFoundError: [Errno 2] No such file or directory: '/data/lipidatlas/data/app/data/temp/brain_2/slice_32.npz'\n\"\"\"",
      "\nThe above exception was the direct cause of the following exception:\n",
      "\u001b[0;31mFileNotFoundError\u001b[0m                         Traceback (most recent call last)",
      "\u001b[0;32m/tmp/ipykernel_142235/767035506.py\u001b[0m in \u001b[0;36m<module>\u001b[0;34m\u001b[0m\n\u001b[1;32m      3\u001b[0m     \u001b[0;31m# Multiprocessing\u001b[0m\u001b[0;34m\u001b[0m\u001b[0;34m\u001b[0m\u001b[0m\n\u001b[1;32m      4\u001b[0m     \u001b[0;32mwith\u001b[0m \u001b[0mPool\u001b[0m\u001b[0;34m(\u001b[0m\u001b[0mprocesses\u001b[0m\u001b[0;34m=\u001b[0m\u001b[0;36m16\u001b[0m\u001b[0;34m)\u001b[0m \u001b[0;32mas\u001b[0m \u001b[0mpool\u001b[0m\u001b[0;34m:\u001b[0m\u001b[0;34m\u001b[0m\u001b[0;34m\u001b[0m\u001b[0m\n\u001b[0;32m----> 5\u001b[0;31m         \u001b[0;34m[\u001b[0m\u001b[0mx\u001b[0m \u001b[0;32mfor\u001b[0m \u001b[0mx\u001b[0m \u001b[0;32min\u001b[0m \u001b[0mpool\u001b[0m\u001b[0;34m.\u001b[0m\u001b[0mmap\u001b[0m\u001b[0;34m(\u001b[0m\u001b[0mprocess_lookup_tables\u001b[0m\u001b[0;34m,\u001b[0m \u001b[0ml_t_names\u001b[0m\u001b[0;34m)\u001b[0m\u001b[0;34m]\u001b[0m\u001b[0;34m\u001b[0m\u001b[0;34m\u001b[0m\u001b[0m\n\u001b[0m\u001b[1;32m      6\u001b[0m \u001b[0;32melse\u001b[0m\u001b[0;34m:\u001b[0m\u001b[0;34m\u001b[0m\u001b[0;34m\u001b[0m\u001b[0m\n\u001b[1;32m      7\u001b[0m     \u001b[0;31m# Normal (single-processed) map\u001b[0m\u001b[0;34m\u001b[0m\u001b[0;34m\u001b[0m\u001b[0m\n",
      "\u001b[0;32m~/miniconda3/lib/python3.9/multiprocessing/pool.py\u001b[0m in \u001b[0;36mmap\u001b[0;34m(self, func, iterable, chunksize)\u001b[0m\n\u001b[1;32m    362\u001b[0m         \u001b[0;32min\u001b[0m \u001b[0ma\u001b[0m \u001b[0mlist\u001b[0m \u001b[0mthat\u001b[0m \u001b[0;32mis\u001b[0m \u001b[0mreturned\u001b[0m\u001b[0;34m.\u001b[0m\u001b[0;34m\u001b[0m\u001b[0;34m\u001b[0m\u001b[0m\n\u001b[1;32m    363\u001b[0m         '''\n\u001b[0;32m--> 364\u001b[0;31m         \u001b[0;32mreturn\u001b[0m \u001b[0mself\u001b[0m\u001b[0;34m.\u001b[0m\u001b[0m_map_async\u001b[0m\u001b[0;34m(\u001b[0m\u001b[0mfunc\u001b[0m\u001b[0;34m,\u001b[0m \u001b[0miterable\u001b[0m\u001b[0;34m,\u001b[0m \u001b[0mmapstar\u001b[0m\u001b[0;34m,\u001b[0m \u001b[0mchunksize\u001b[0m\u001b[0;34m)\u001b[0m\u001b[0;34m.\u001b[0m\u001b[0mget\u001b[0m\u001b[0;34m(\u001b[0m\u001b[0;34m)\u001b[0m\u001b[0;34m\u001b[0m\u001b[0;34m\u001b[0m\u001b[0m\n\u001b[0m\u001b[1;32m    365\u001b[0m \u001b[0;34m\u001b[0m\u001b[0m\n\u001b[1;32m    366\u001b[0m     \u001b[0;32mdef\u001b[0m \u001b[0mstarmap\u001b[0m\u001b[0;34m(\u001b[0m\u001b[0mself\u001b[0m\u001b[0;34m,\u001b[0m \u001b[0mfunc\u001b[0m\u001b[0;34m,\u001b[0m \u001b[0miterable\u001b[0m\u001b[0;34m,\u001b[0m \u001b[0mchunksize\u001b[0m\u001b[0;34m=\u001b[0m\u001b[0;32mNone\u001b[0m\u001b[0;34m)\u001b[0m\u001b[0;34m:\u001b[0m\u001b[0;34m\u001b[0m\u001b[0;34m\u001b[0m\u001b[0m\n",
      "\u001b[0;32m~/miniconda3/lib/python3.9/multiprocessing/pool.py\u001b[0m in \u001b[0;36mget\u001b[0;34m(self, timeout)\u001b[0m\n\u001b[1;32m    769\u001b[0m             \u001b[0;32mreturn\u001b[0m \u001b[0mself\u001b[0m\u001b[0;34m.\u001b[0m\u001b[0m_value\u001b[0m\u001b[0;34m\u001b[0m\u001b[0;34m\u001b[0m\u001b[0m\n\u001b[1;32m    770\u001b[0m         \u001b[0;32melse\u001b[0m\u001b[0;34m:\u001b[0m\u001b[0;34m\u001b[0m\u001b[0;34m\u001b[0m\u001b[0m\n\u001b[0;32m--> 771\u001b[0;31m             \u001b[0;32mraise\u001b[0m \u001b[0mself\u001b[0m\u001b[0;34m.\u001b[0m\u001b[0m_value\u001b[0m\u001b[0;34m\u001b[0m\u001b[0;34m\u001b[0m\u001b[0m\n\u001b[0m\u001b[1;32m    772\u001b[0m \u001b[0;34m\u001b[0m\u001b[0m\n\u001b[1;32m    773\u001b[0m     \u001b[0;32mdef\u001b[0m \u001b[0m_set\u001b[0m\u001b[0;34m(\u001b[0m\u001b[0mself\u001b[0m\u001b[0;34m,\u001b[0m \u001b[0mi\u001b[0m\u001b[0;34m,\u001b[0m \u001b[0mobj\u001b[0m\u001b[0;34m)\u001b[0m\u001b[0;34m:\u001b[0m\u001b[0;34m\u001b[0m\u001b[0;34m\u001b[0m\u001b[0m\n",
      "\u001b[0;31mFileNotFoundError\u001b[0m: [Errno 2] No such file or directory: '/data/lipidatlas/data/app/data/temp/brain_2/slice_32.npz'"
     ]
    }
   ],
   "source": [
    "multiprocessing = True\n",
    "if multiprocessing:\n",
    "    # Multiprocessing\n",
    "    with Pool(processes=16) as pool:\n",
    "        [x for x in pool.map(process_lookup_tables, l_t_names)]\n",
    "else:\n",
    "    # Normal (single-processed) map\n",
    "    [x for x in map(process_lookup_tables, l_t_names)]\n",
    "\n"
   ]
  },
  {
   "cell_type": "markdown",
   "metadata": {},
   "source": [
    "### Record everything and clean "
   ]
  },
  {
   "cell_type": "markdown",
   "metadata": {},
   "source": [
    "Record everything in memap files and a pickled dictonnary"
   ]
  },
  {
   "cell_type": "code",
   "execution_count": null,
   "metadata": {},
   "outputs": [],
   "source": [
    "# ! Change all slices indexes of brain 2 such that they can be in the same output folder as brain 1 "
   ]
  },
  {
   "cell_type": "code",
   "execution_count": null,
   "metadata": {},
   "outputs": [],
   "source": [
    "output_folder = \"data/whole_dataset/\"\n",
    "if brain_1:\n",
    "    input_folder = \"/data/lipidatlas/data/app/data/temp/brain_1\"#\"notebooks/data_processing/data/temp/brain_1/\"\n",
    "else:\n",
    "    input_folder = \"/data/lipidatlas/data/app/data/temp/brain_2\"#\"notebooks/data_processing/data/temp/brain_2/\"\n",
    "        \n",
    "os.makedirs(output_folder, exist_ok=True)\n",
    "\n",
    "dic_slices = {}\n",
    "# Loop over slice files\n",
    "for slice_name in os.listdir(input_folder):\n",
    "    if 'raw' in slice_name or 'checkpoints' in slice_name:\n",
    "        continue\n",
    "\n",
    "    print(slice_name)\n",
    "    # Extract slice index\n",
    "    slice_index = int(slice_name.split(\"_\")[1][:-4])\n",
    "\n",
    "    # Load slice arrays\n",
    "    npzfile = np.load(input_folder + slice_name)\n",
    "    array_pixel_indexes_high_res = npzfile[\"array_pixel_indexes_high_res\"]\n",
    "    array_spectra_high_res = npzfile[\"array_spectra_high_res\"]\n",
    "    array_averaged_mz_intensity_low_res = npzfile[\"array_averaged_mz_intensity_low_res\"]\n",
    "    array_averaged_mz_intensity_high_res = npzfile[\"array_averaged_mz_intensity_high_res\"]\n",
    "    array_averaged_mz_intensity_high_res_after_standardization = npzfile[\"array_averaged_mz_intensity_high_res_after_standardization\"]\n",
    "    image_shape = npzfile[\"image_shape\"]\n",
    "    divider_lookup = npzfile[\"divider_lookup\"]\n",
    "    lookup_table_spectra_high_res = npzfile[\"lookup_table_spectra_high_res\"]\n",
    "    cumulated_image_lookup_table_high_res = npzfile[\"cumulated_image_lookup_table_high_res\"]\n",
    "    lookup_table_averaged_spectrum_high_res = npzfile[\"lookup_table_averaged_spectrum_high_res\"]\n",
    "    array_peaks_corrected = npzfile[\"array_peaks_corrected\"]\n",
    "    array_corrective_factors = npzfile[\"array_corrective_factors\"]\n",
    "\n",
    "    # Print array size\n",
    "    # print size used by each array in mb\n",
    "    print(round(array_pixel_indexes_high_res.nbytes / 1024 / 1024, 2))\n",
    "    print(round(array_spectra_high_res.nbytes / 1024 / 1024, 2))\n",
    "    print(round(array_averaged_mz_intensity_low_res.nbytes / 1024 / 1024, 2))\n",
    "    print(round(array_averaged_mz_intensity_high_res.nbytes / 1024 / 1024, 2))\n",
    "    print(round(lookup_table_spectra_high_res.nbytes / 1024 / 1024, 2))\n",
    "    print(round(cumulated_image_lookup_table_high_res.nbytes / 1024 / 1024, 2))\n",
    "    print(round(lookup_table_averaged_spectrum_high_res.nbytes / 1024 / 1024, 2))\n",
    "\n",
    "    # Register the lightweights files in a pickled dictionnary\n",
    "    dic_slices[slice_index] = {\n",
    "        \"image_shape\": image_shape,\n",
    "        \"divider_lookup\": divider_lookup,\n",
    "        \"array_avg_spectrum_downsampled\": array_averaged_mz_intensity_low_res,\n",
    "        \"array_lookup_pixels\": array_pixel_indexes_high_res,\n",
    "        \"array_lookup_mz_avg\": lookup_table_averaged_spectrum_high_res,\n",
    "        \"array_peaks_transformed_lipids\": array_peaks_corrected,\n",
    "        \"array_corrective_factors\": array_corrective_factors,\n",
    "    }\n",
    "\n",
    "    # Build a memap for each of the heavier files to save RAM, save the corresponding shape in the\n",
    "    # pickled dictionnary\n",
    "    fp = np.memmap(\n",
    "        output_folder + \"array_spectra_\" + str(slice_index) + \".mmap\",\n",
    "        dtype=\"float32\",\n",
    "        mode=\"w+\",\n",
    "        shape=array_spectra_high_res.shape,\n",
    "    )\n",
    "    fp[:] = array_spectra_high_res[:]\n",
    "    fp.flush()\n",
    "    dic_slices[slice_index][\"array_spectra_shape\"] = array_spectra_high_res.shape\n",
    "\n",
    "    fp = np.memmap(\n",
    "        output_folder + \"array_avg_spectrum_\" + str(slice_index) + \".mmap\",\n",
    "        dtype=\"float32\",\n",
    "        mode=\"w+\",\n",
    "        shape=array_averaged_mz_intensity_high_res.shape,\n",
    "    )\n",
    "    fp[:] = array_averaged_mz_intensity_high_res[:]\n",
    "    fp.flush()\n",
    "    dic_slices[slice_index][\"array_avg_spectrum_shape\"] = array_averaged_mz_intensity_high_res.shape\n",
    "\n",
    "    fp = np.memmap(\n",
    "        output_folder + \"array_avg_spectrum_after_standardization_\" + str(slice_index) + \".mmap\",\n",
    "        dtype=\"float32\",\n",
    "        mode=\"w+\",\n",
    "        shape=array_averaged_mz_intensity_high_res_after_standardization.shape,\n",
    "    )\n",
    "    fp[:] = array_averaged_mz_intensity_high_res_after_standardization[:]\n",
    "    fp.flush()\n",
    "    dic_slices[slice_index][\"array_avg_spectrum_after_standardization_shape\"] = array_averaged_mz_intensity_high_res_after_standardization.shape\n",
    "\n",
    "\n",
    "    fp = np.memmap(\n",
    "        output_folder + \"array_lookup_mz_\" + str(slice_index) + \".mmap\",\n",
    "        dtype=\"int32\",\n",
    "        mode=\"w+\",\n",
    "        shape=lookup_table_spectra_high_res.shape,\n",
    "    )\n",
    "    fp[:] = lookup_table_spectra_high_res[:]\n",
    "    fp.flush()\n",
    "    dic_slices[slice_index][\"array_lookup_mz_shape\"] = lookup_table_spectra_high_res.shape\n",
    "\n",
    "    fp = np.memmap(\n",
    "        output_folder + \"array_cumulated_lookup_mz_image_\" + str(slice_index) + \".mmap\",\n",
    "        dtype=\"float32\",\n",
    "        mode=\"w+\",\n",
    "        shape=cumulated_image_lookup_table_high_res.shape,\n",
    "    )\n",
    "    fp[:] = cumulated_image_lookup_table_high_res[:]\n",
    "    fp.flush()\n",
    "    dic_slices[slice_index][\n",
    "        \"array_cumulated_lookup_mz_image_shape\"\n",
    "    ] = cumulated_image_lookup_table_high_res.shape\n",
    "\n",
    "# Pickle the dict of lightweight data\n",
    "with open(output_folder + \"light_arrays.pickle\", \"wb\") as handle:\n",
    "    pickle.dump(dic_slices, handle)\n"
   ]
  },
  {
   "cell_type": "markdown",
   "metadata": {},
   "source": [
    "Clean temporary folder"
   ]
  },
  {
   "cell_type": "code",
   "execution_count": null,
   "metadata": {},
   "outputs": [],
   "source": [
    "clean = False\n",
    "if clean:\n",
    "    delete_all_files_in_folder(input_folder)\n"
   ]
  },
  {
   "cell_type": "code",
   "execution_count": null,
   "metadata": {},
   "outputs": [],
   "source": []
  }
 ],
 "metadata": {
  "interpreter": {
   "hash": "0c1aa729cc35b9a783763c24c4069d7da678acf641f89d4e1df25bf02079ad65"
  },
  "kernelspec": {
   "display_name": "Python 3 (ipykernel)",
   "language": "python",
   "name": "python3"
  },
  "language_info": {
   "codemirror_mode": {
    "name": "ipython",
    "version": 3
   },
   "file_extension": ".py",
   "mimetype": "text/x-python",
   "name": "python",
   "nbconvert_exporter": "python",
   "pygments_lexer": "ipython3",
   "version": "3.9.7"
  }
 },
 "nbformat": 4,
 "nbformat_minor": 4
}
