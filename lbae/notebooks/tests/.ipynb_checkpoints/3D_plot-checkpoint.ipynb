{
 "cells": [
  {
   "cell_type": "markdown",
   "metadata": {},
   "source": [
    "## Import required modules"
   ]
  },
  {
   "cell_type": "code",
   "execution_count": 1,
   "metadata": {},
   "outputs": [
    {
     "name": "stdout",
     "output_type": "stream",
     "text": [
      "allen mouse atlas (res. 25um)\n",
      "From: http://www.brain-map.org (Wang et al 2020, https://doi.org/10.1016/j.cell.2020.04.007 )\n"
     ]
    }
   ],
   "source": [
    "# Standard import\n",
    "import os\n",
    "import numpy as np\n",
    "import plotly.graph_objects as go\n",
    "from numba import njit\n",
    "import ipywidgets as widgets\n",
    "from IPython.display import display\n",
    "import matplotlib.pyplot as plt\n",
    "\n",
    "# Move to root directory for easier module import\n",
    "os.chdir(\"../../\")\n",
    "\n",
    "# LBAE modules\n",
    "from modules.maldi_data import MaldiData\n",
    "from modules.figures import Figures\n",
    "from modules.atlas import Atlas\n",
    "from modules.tools.volume import fill_array_borders, fill_array_interpolation\n",
    "from modules.tools.misc import return_pickled_object\n",
    "\n",
    "\n",
    "# Objects containing our data as well as the atlas data\n",
    "data = MaldiData()\n",
    "atlas = Atlas(data, resolution=25)\n",
    "figures = Figures(data, atlas)\n",
    "\n"
   ]
  },
  {
   "cell_type": "code",
   "execution_count": 2,
   "metadata": {},
   "outputs": [],
   "source": [
    "\n",
    "def fill_dic_acronym_children_id(dic_acronym_children_id, l_id_leaves):\n",
    "    older_leave_id = l_id_leaves[0]\n",
    "    acronym = atlas.bg_atlas.structures[older_leave_id]['acronym']\n",
    "    for id_leave in l_id_leaves:\n",
    "        # fill dic with current acronym and id\n",
    "        if acronym in dic_acronym_children_id:\n",
    "            dic_acronym_children_id[acronym].add(id_leave)\n",
    "        else:\n",
    "            dic_acronym_children_id[acronym] = set([id_leave])\n",
    "    # while root is not reached, climb back the ancestor tree\n",
    "    if len(atlas.bg_atlas.structures[older_leave_id]['structure_id_path'])>=2:\n",
    "        id_parent = atlas.bg_atlas.structures[older_leave_id]['structure_id_path'][-2]\n",
    "        dic_acronym_children_id = fill_dic_acronym_children_id(dic_acronym_children_id, [id_parent] + l_id_leaves)\n",
    "    return dic_acronym_children_id\n",
    "    \n",
    "dic_acronym_children_id = {}\n",
    "for id in set(atlas.bg_atlas.annotation.flatten()):\n",
    "    if id != 0:\n",
    "        dic_acronym_children_id = fill_dic_acronym_children_id(dic_acronym_children_id, [id])"
   ]
  },
  {
   "cell_type": "code",
   "execution_count": 3,
   "metadata": {},
   "outputs": [],
   "source": [
    "decrease_dimensionality_factor_root = 4\n",
    "\n",
    "# get array of annotations, which associate coordinate to id\n",
    "array_annotation_root = np.array(atlas.bg_atlas.reference, dtype = np.int32)#np.array(atlas.bg_atlas.annotation, dtype = np.int32)\n",
    "\n",
    "# Subsample array of annotation the same way array_atlas was subsampled\n",
    "array_annotation_root = array_annotation_root[::decrease_dimensionality_factor_root, ::decrease_dimensionality_factor_root, ::decrease_dimensionality_factor_root]\n",
    "\n",
    "# bug correction for the last slice\n",
    "array_annotation_root = np.concatenate((array_annotation_root, np.zeros((1,array_annotation_root.shape[1], array_annotation_root.shape[2]))))\n",
    "\n",
    "#array_atlas_borders_root = fill_array_borders(array_annotation_root, differentiate_borders = False, color_near_borders = False, keep_structure_id = None)"
   ]
  },
  {
   "cell_type": "code",
   "execution_count": 4,
   "metadata": {},
   "outputs": [],
   "source": [
    "decrease_dimensionality_factor = 4\n",
    "\n",
    "# get array of annotatiobs, which associate coordinate to id\n",
    "array_annotation = np.array(atlas.bg_atlas.annotation, dtype = np.int32)\n",
    "\n",
    "# Subsample array of annotation the same way array_atlas was subsampled\n",
    "array_annotation = array_annotation[::decrease_dimensionality_factor, ::decrease_dimensionality_factor, ::decrease_dimensionality_factor]\n",
    "\n",
    "# bug correction for the last slice\n",
    "array_annotation = np.concatenate((array_annotation, np.zeros((1,array_annotation.shape[1], array_annotation.shape[2]))))\n",
    "\n",
    "# choose structure\n",
    "#for i, keys in atlas.dic_label_id.items():\n",
    "#    print(keys, i)\n",
    "\n",
    "id_structure =  None#atlas.dic_label_id[\"Substantia innominata\"]\n",
    "array_atlas_borders = fill_array_borders(array_annotation, differentiate_borders = False, color_near_borders = False, keep_structure_id = id_structure)"
   ]
  },
  {
   "cell_type": "code",
   "execution_count": 5,
   "metadata": {},
   "outputs": [
    {
     "data": {
      "image/png": "[encoded data removed]",
      "text/plain": [
       "<Figure size 432x288 with 1 Axes>"
      ]
     },
     "metadata": {
      "needs_background": "light"
     },
     "output_type": "display_data"
    }
   ],
   "source": [
    "array_to_display = np.array(atlas.bg_atlas.annotation[300,:,:],dtype = np.int32)\n",
    "plt.imshow(array_to_display , vmin = 0, vmax = 1)\n",
    "plt.show()"
   ]
  },
  {
   "cell_type": "code",
   "execution_count": 6,
   "metadata": {},
   "outputs": [
    {
     "data": {
      "application/vnd.jupyter.widget-view+json": {
       "model_id": "7ac6b1bd3fd74fa09f229a1b883156f6",
       "version_major": 2,
       "version_minor": 0
      },
      "text/plain": [
       "IntSlider(value=5, description='Slice', max=132)"
      ]
     },
     "metadata": {},
     "output_type": "display_data"
    },
    {
     "data": {
      "application/vnd.jupyter.widget-view+json": {
       "model_id": "8baaf4a4fadd44c0aba7dd88e7d6b3b7",
       "version_major": 2,
       "version_minor": 0
      },
      "text/plain": [
       "Output()"
      ]
     },
     "metadata": {},
     "output_type": "display_data"
    }
   ],
   "source": [
    "#array_to_display = np.array(array_atlas_borders[30,:,:],dtype = np.float32)\n",
    "#plt.imshow(array_to_display , vmin = -0.4, vmax = 0)\n",
    "#plt.show()\n",
    "\n",
    "size = widgets.IntSlider(value=5, min=0,max=array_atlas_borders.shape[0]-1,step=1, description='Slice')\n",
    "\n",
    "def hist1(size):\n",
    "    plt.imshow(array_atlas_borders[size,:,:], vmin = -0.4, vmax = 0)\n",
    "    return\n",
    "out = widgets.interactive_output(hist1, {'size':size})\n",
    "\n",
    "display(size, out)\n"
   ]
  },
  {
   "cell_type": "code",
   "execution_count": 7,
   "metadata": {},
   "outputs": [],
   "source": [
    "from scipy.spatial import Delaunay\n",
    "import plotly.figure_factory as ff\n",
    "\n",
    "# Get list of coordinates corresponding to a surface\n",
    "bool_coor = np.logical_or(array_atlas_borders>=-0.11, array_atlas_borders<=-0.09)\n",
    "X, Y, Z = np.mgrid[\n",
    "     0 : array_atlas_borders.shape[0]/1000*25 : array_atlas_borders.shape[0] * 1j,\n",
    "     0 : array_atlas_borders.shape[1]/1000*25 : array_atlas_borders.shape[1] * 1j,\n",
    "     0 : array_atlas_borders.shape[2]/1000*25 : array_atlas_borders.shape[2] * 1j,\n",
    "]\n",
    "\n",
    "#array_atlas_borders = array_atlas_borders[bool_coor]\n",
    "X = X[bool_coor]\n",
    "Y = Y[bool_coor]\n",
    "Z = Z[bool_coor]\n",
    "array = np.vstack((X,Y,Z)).T\n"
   ]
  },
  {
   "cell_type": "code",
   "execution_count": 8,
   "metadata": {},
   "outputs": [
    {
     "name": "stdout",
     "output_type": "stream",
     "text": [
      "0.0\n"
     ]
    }
   ],
   "source": [
    "print(np.min(array_annotation_root))"
   ]
  },
  {
   "cell_type": "code",
   "execution_count": 32,
   "metadata": {},
   "outputs": [
    {
     "name": "stdout",
     "output_type": "stream",
     "text": [
      "0.0\n",
      "0.1\n",
      "0.2\n",
      "0.30000000000000004\n",
      "0.4\n",
      "0.5\n",
      "0.6000000000000001\n",
      "0.7000000000000001\n",
      "0.8\n",
      "0.9\n"
     ]
    }
   ],
   "source": [
    "def rotate_y(x, y, z, theta):\n",
    "    w = x+1j*z\n",
    "    return np.real(np.exp(1j*theta)*w), y, np.imag(np.exp(1j*theta)*w)\n",
    "\n",
    "x_eye=1.25\n",
    "y_eye=0.1\n",
    "z_eye=1.25\n",
    "\n",
    "for image, t in enumerate(np.arange(0, 1, 0.1)):\n",
    "    print(t)\n",
    "    array_annotation_root_to_plot = np.copy(array_annotation_root)\n",
    "    for pos_z in range(int(array_annotation_root.shape[2]/2),array_annotation_root.shape[2]):\n",
    "        array_annotation_root_to_plot[:,:,pos_z] += (pos_z - array_annotation_root.shape[2]/2)/array_annotation_root.shape[2]*array_annotation_root_to_plot[:,:,pos_z]*t*10\n",
    "\n",
    "    X_root, Y_root, Z_root = np.mgrid[\n",
    "          0 : array_annotation_root_to_plot.shape[0]/1000*25 *decrease_dimensionality_factor_root : array_annotation_root.shape[0] * 1j,\n",
    "          0 : array_annotation_root_to_plot.shape[1]/1000*25*decrease_dimensionality_factor_root : array_annotation_root.shape[1] * 1j,\n",
    "          0 : array_annotation_root_to_plot.shape[2]/1000*25 *decrease_dimensionality_factor_root: array_annotation_root.shape[2] * 1j,\n",
    "    ]\n",
    "\n",
    "    brain_root_data = go.Volume(\n",
    "                x=X_root.flatten(),\n",
    "                y=Y_root.flatten()[::-1],\n",
    "                z=Z_root.flatten(),\n",
    "                value=array_annotation_root_to_plot.flatten(),\n",
    "                isomin=10,\n",
    "                isomax=300,\n",
    "                opacity=0.15,  # max opacity\n",
    "                #opacityscale=[[-0.0, 0], [1., 1]],\n",
    "                opacityscale=\"uniform\",\n",
    "                surface_count=20,\n",
    "                colorscale='Rdbu_r',#colorscale,\n",
    "                #flatshading = True,\n",
    "            )\n",
    "    \n",
    "    fig = go.Figure(data = brain_root_data)\n",
    "    fig.update_traces(showscale=False)\n",
    "\n",
    "    fig.update_layout(\n",
    "        margin=dict(t=0, r=0, b=0, l=0),\n",
    "        scene=dict(\n",
    "            xaxis=dict(backgroundcolor=\"rgba(0,0,0,0)\",color=\"white\", gridcolor=\"white\"),\n",
    "            yaxis=dict(backgroundcolor=\"rgba(0,0,0,0)\",color=\"white\", gridcolor=\"white\"),\n",
    "            zaxis=dict(backgroundcolor=\"rgba(0,0,0,0)\",color=\"white\", gridcolor=\"white\"),\n",
    "        ),\n",
    "    )\n",
    "    \n",
    "    xe, ye, ze = rotate_y(x_eye, y_eye, z_eye, -t)\n",
    "    camera = dict(\n",
    "        up=dict(x=0, y=1, z=0),\n",
    "        center=dict(x=0, y=0, z=0),\n",
    "        #eye=dict(x=1.25, y=0.1, z=1.25)\n",
    "        eye=dict(x=xe, y=ye, z=ze),\n",
    "    )\n",
    "        \n",
    "    \n",
    "        \n",
    "    fig.update_layout(scene_camera=camera)\n",
    "\n",
    "    #fig.show()\n",
    "    fig.write_image(\"notebooks/tests/images/fig\" + str(image)+\".png\")\n"
   ]
  },
  {
   "cell_type": "code",
   "execution_count": 40,
   "metadata": {},
   "outputs": [
    {
     "ename": "NameError",
     "evalue": "name 'array_atlas_borders_root' is not defined",
     "output_type": "error",
     "traceback": [
      "\u001b[0;31m---------------------------------------------------------------------------\u001b[0m",
      "\u001b[0;31mNameError\u001b[0m                                 Traceback (most recent call last)",
      "\u001b[0;32m/tmp/ipykernel_359193/2713170867.py\u001b[0m in \u001b[0;36m<module>\u001b[0;34m\u001b[0m\n\u001b[1;32m      1\u001b[0m X_root, Y_root, Z_root = np.mgrid[\n\u001b[0;32m----> 2\u001b[0;31m       \u001b[0;36m0\u001b[0m \u001b[0;34m:\u001b[0m \u001b[0marray_atlas_borders_root\u001b[0m\u001b[0;34m.\u001b[0m\u001b[0mshape\u001b[0m\u001b[0;34m[\u001b[0m\u001b[0;36m0\u001b[0m\u001b[0;34m]\u001b[0m\u001b[0;34m/\u001b[0m\u001b[0;36m1000\u001b[0m\u001b[0;34m*\u001b[0m\u001b[0;36m25\u001b[0m \u001b[0;34m*\u001b[0m\u001b[0mdecrease_dimensionality_factor_root\u001b[0m \u001b[0;34m:\u001b[0m \u001b[0marray_atlas_borders_root\u001b[0m\u001b[0;34m.\u001b[0m\u001b[0mshape\u001b[0m\u001b[0;34m[\u001b[0m\u001b[0;36m0\u001b[0m\u001b[0;34m]\u001b[0m \u001b[0;34m*\u001b[0m \u001b[0;36m1j\u001b[0m\u001b[0;34m,\u001b[0m\u001b[0;34m\u001b[0m\u001b[0;34m\u001b[0m\u001b[0m\n\u001b[0m\u001b[1;32m      3\u001b[0m       \u001b[0;36m0\u001b[0m \u001b[0;34m:\u001b[0m \u001b[0marray_atlas_borders_root\u001b[0m\u001b[0;34m.\u001b[0m\u001b[0mshape\u001b[0m\u001b[0;34m[\u001b[0m\u001b[0;36m1\u001b[0m\u001b[0;34m]\u001b[0m\u001b[0;34m/\u001b[0m\u001b[0;36m1000\u001b[0m\u001b[0;34m*\u001b[0m\u001b[0;36m25\u001b[0m\u001b[0;34m*\u001b[0m\u001b[0mdecrease_dimensionality_factor_root\u001b[0m \u001b[0;34m:\u001b[0m \u001b[0marray_atlas_borders_root\u001b[0m\u001b[0;34m.\u001b[0m\u001b[0mshape\u001b[0m\u001b[0;34m[\u001b[0m\u001b[0;36m1\u001b[0m\u001b[0;34m]\u001b[0m \u001b[0;34m*\u001b[0m \u001b[0;36m1j\u001b[0m\u001b[0;34m,\u001b[0m\u001b[0;34m\u001b[0m\u001b[0;34m\u001b[0m\u001b[0m\n\u001b[1;32m      4\u001b[0m       \u001b[0;36m0\u001b[0m \u001b[0;34m:\u001b[0m \u001b[0marray_atlas_borders_root\u001b[0m\u001b[0;34m.\u001b[0m\u001b[0mshape\u001b[0m\u001b[0;34m[\u001b[0m\u001b[0;36m2\u001b[0m\u001b[0;34m]\u001b[0m\u001b[0;34m/\u001b[0m\u001b[0;36m1000\u001b[0m\u001b[0;34m*\u001b[0m\u001b[0;36m25\u001b[0m \u001b[0;34m*\u001b[0m\u001b[0mdecrease_dimensionality_factor_root\u001b[0m\u001b[0;34m:\u001b[0m \u001b[0marray_atlas_borders_root\u001b[0m\u001b[0;34m.\u001b[0m\u001b[0mshape\u001b[0m\u001b[0;34m[\u001b[0m\u001b[0;36m2\u001b[0m\u001b[0;34m]\u001b[0m \u001b[0;34m*\u001b[0m \u001b[0;36m1j\u001b[0m\u001b[0;34m,\u001b[0m\u001b[0;34m\u001b[0m\u001b[0;34m\u001b[0m\u001b[0m\n\u001b[1;32m      5\u001b[0m ]\n",
      "\u001b[0;31mNameError\u001b[0m: name 'array_atlas_borders_root' is not defined"
     ]
    }
   ],
   "source": [
    "X_root, Y_root, Z_root = np.mgrid[\n",
    "      0 : array_atlas_borders_root.shape[0]/1000*25 *decrease_dimensionality_factor_root : array_atlas_borders_root.shape[0] * 1j,\n",
    "      0 : array_atlas_borders_root.shape[1]/1000*25*decrease_dimensionality_factor_root : array_atlas_borders_root.shape[1] * 1j,\n",
    "      0 : array_atlas_borders_root.shape[2]/1000*25 *decrease_dimensionality_factor_root: array_atlas_borders_root.shape[2] * 1j,\n",
    "]\n",
    "\n",
    "brain_root_data = go.Isosurface(\n",
    "            x=X_root.flatten(),#[[1,2,3], [1,2,3], [1,2,3]],\n",
    "            y=Y_root.flatten(),#[[1,2,3], [1,2,3], [1,2,3]],\n",
    "            z=Z_root.flatten(),#[[1,1,1], [2,2,2], [3,3,3]],\n",
    "            value=array_atlas_borders_root.flatten(),\n",
    "            isomin=-0.21,\n",
    "            isomax=2.55,\n",
    "            opacity=0.15,  # max opacity\n",
    "            #opacityscale=[[-0.0, 0], [1., 1]],\n",
    "            #opacityscale = \"uniform\",\n",
    "            surface_count=2,\n",
    "            colorscale='Blues',#colorscale,\n",
    "            flatshading = True,\n",
    "        )\n",
    "\n",
    "\n",
    "plot_fig = False\n",
    "if plot_fig:\n",
    "    fig = go.Figure(data = brain_root_data)\n",
    "\n",
    "    fig.update_layout(\n",
    "        margin=dict(t=0, r=0, b=0, l=0),\n",
    "        scene=dict(\n",
    "            xaxis=dict(backgroundcolor=\"rgba(0,0,0,0)\", color=\"grey\", gridcolor=\"grey\"),\n",
    "            yaxis=dict(backgroundcolor=\"rgba(0,0,0,0)\", color=\"grey\", gridcolor=\"grey\"),\n",
    "            zaxis=dict(backgroundcolor=\"rgba(0,0,0,0)\", color=\"grey\", gridcolor=\"grey\"),\n",
    "        ),\n",
    "    )\n",
    "    fig.show()"
   ]
  },
  {
   "cell_type": "code",
   "execution_count": 41,
   "metadata": {},
   "outputs": [
    {
     "ename": "FileNotFoundError",
     "evalue": "[Errno 2] No such file or directory: 'data/tiff_files/coordinates_original_data/'",
     "output_type": "error",
     "traceback": [
      "\u001b[0;31m---------------------------------------------------------------------------\u001b[0m",
      "\u001b[0;31mFileNotFoundError\u001b[0m                         Traceback (most recent call last)",
      "\u001b[0;32m/tmp/ipykernel_359193/3204344491.py\u001b[0m in \u001b[0;36m<module>\u001b[0;34m\u001b[0m\n\u001b[1;32m     33\u001b[0m     \u001b[0;34m[\u001b[0m\u001b[0;34m[\u001b[0m\u001b[0;34m(\u001b[0m\u001b[0;36m759.6069\u001b[0m\u001b[0;34m,\u001b[0m \u001b[0;36m759.6112\u001b[0m\u001b[0;34m)\u001b[0m\u001b[0;34m]\u001b[0m\u001b[0;34m,\u001b[0m \u001b[0;32mNone\u001b[0m\u001b[0;34m,\u001b[0m \u001b[0;32mNone\u001b[0m\u001b[0;34m]\u001b[0m\u001b[0;34m,\u001b[0m\u001b[0;34m\u001b[0m\u001b[0;34m\u001b[0m\u001b[0m\n\u001b[1;32m     34\u001b[0m ]\n\u001b[0;32m---> 35\u001b[0;31m \u001b[0marray_x\u001b[0m\u001b[0;34m,\u001b[0m \u001b[0marray_y\u001b[0m\u001b[0;34m,\u001b[0m \u001b[0marray_z\u001b[0m\u001b[0;34m,\u001b[0m \u001b[0marray_c\u001b[0m \u001b[0;34m=\u001b[0m \u001b[0mfigures\u001b[0m\u001b[0;34m.\u001b[0m\u001b[0mcompute_array_3D\u001b[0m\u001b[0;34m(\u001b[0m \u001b[0mll_t_bounds\u001b[0m\u001b[0;34m,\u001b[0m \u001b[0mnormalize_independently\u001b[0m\u001b[0;34m=\u001b[0m\u001b[0;32mTrue\u001b[0m\u001b[0;34m,\u001b[0m \u001b[0mhigh_res\u001b[0m\u001b[0;34m=\u001b[0m\u001b[0;32mFalse\u001b[0m\u001b[0;34m)\u001b[0m\u001b[0;34m\u001b[0m\u001b[0;34m\u001b[0m\u001b[0m\n\u001b[0m",
      "\u001b[0;32m~/lbae/lbae/modules/figures.py\u001b[0m in \u001b[0;36mcompute_array_3D\u001b[0;34m(self, ll_t_bounds, normalize_independently, high_res)\u001b[0m\n\u001b[1;32m   1016\u001b[0m         \u001b[0;31m# get list of original coordinates for each slice\u001b[0m\u001b[0;34m\u001b[0m\u001b[0;34m\u001b[0m\u001b[0m\n\u001b[1;32m   1017\u001b[0m         \u001b[0;32mif\u001b[0m \u001b[0;32mnot\u001b[0m \u001b[0mhigh_res\u001b[0m\u001b[0;34m:\u001b[0m\u001b[0;34m\u001b[0m\u001b[0;34m\u001b[0m\u001b[0m\n\u001b[0;32m-> 1018\u001b[0;31m             \u001b[0ml_coor\u001b[0m \u001b[0;34m=\u001b[0m \u001b[0mself\u001b[0m\u001b[0;34m.\u001b[0m\u001b[0m_atlas\u001b[0m\u001b[0;34m.\u001b[0m\u001b[0ml_original_coor\u001b[0m\u001b[0;34m\u001b[0m\u001b[0;34m\u001b[0m\u001b[0m\n\u001b[0m\u001b[1;32m   1019\u001b[0m             \u001b[0mestimate\u001b[0m \u001b[0;34m=\u001b[0m \u001b[0;36m400\u001b[0m \u001b[0;34m*\u001b[0m \u001b[0;36m400\u001b[0m\u001b[0;34m\u001b[0m\u001b[0;34m\u001b[0m\u001b[0m\n\u001b[1;32m   1020\u001b[0m         \u001b[0;32melse\u001b[0m\u001b[0;34m:\u001b[0m\u001b[0;34m\u001b[0m\u001b[0;34m\u001b[0m\u001b[0m\n",
      "\u001b[0;32m~/lbae/lbae/modules/atlas.py\u001b[0m in \u001b[0;36ml_original_coor\u001b[0;34m(self)\u001b[0m\n\u001b[1;32m    132\u001b[0m     \u001b[0;34m@\u001b[0m\u001b[0mproperty\u001b[0m\u001b[0;34m\u001b[0m\u001b[0;34m\u001b[0m\u001b[0m\n\u001b[1;32m    133\u001b[0m     \u001b[0;32mdef\u001b[0m \u001b[0ml_original_coor\u001b[0m\u001b[0;34m(\u001b[0m\u001b[0mself\u001b[0m\u001b[0;34m)\u001b[0m\u001b[0;34m:\u001b[0m\u001b[0;34m\u001b[0m\u001b[0;34m\u001b[0m\u001b[0m\n\u001b[0;32m--> 134\u001b[0;31m         (_, _, l_original_coor,) = return_pickled_object(\n\u001b[0m\u001b[1;32m    135\u001b[0m             \u001b[0;34m\"atlas/atlas_objects\"\u001b[0m\u001b[0;34m,\u001b[0m\u001b[0;34m\u001b[0m\u001b[0;34m\u001b[0m\u001b[0m\n\u001b[1;32m    136\u001b[0m             \u001b[0;34m\"arrays_projection_corrected\"\u001b[0m\u001b[0;34m,\u001b[0m\u001b[0;34m\u001b[0m\u001b[0;34m\u001b[0m\u001b[0m\n",
      "\u001b[0;32m~/lbae/lbae/modules/tools/misc.py\u001b[0m in \u001b[0;36mreturn_pickled_object\u001b[0;34m(data_folder, file_name, force_update, compute_function, ignore_arguments_naming, **compute_function_args)\u001b[0m\n\u001b[1;32m     91\u001b[0m \u001b[0;34m\u001b[0m\u001b[0m\n\u001b[1;32m     92\u001b[0m         \u001b[0;31m# Execute compute_function\u001b[0m\u001b[0;34m\u001b[0m\u001b[0;34m\u001b[0m\u001b[0m\n\u001b[0;32m---> 93\u001b[0;31m         \u001b[0mobject\u001b[0m \u001b[0;34m=\u001b[0m \u001b[0mcompute_function\u001b[0m\u001b[0;34m(\u001b[0m\u001b[0;34m**\u001b[0m\u001b[0mcompute_function_args\u001b[0m\u001b[0;34m)\u001b[0m\u001b[0;34m\u001b[0m\u001b[0;34m\u001b[0m\u001b[0m\n\u001b[0m\u001b[1;32m     94\u001b[0m \u001b[0;34m\u001b[0m\u001b[0m\n\u001b[1;32m     95\u001b[0m         \u001b[0;31m# Save the result in a pickle file\u001b[0m\u001b[0;34m\u001b[0m\u001b[0;34m\u001b[0m\u001b[0m\n",
      "\u001b[0;32m~/lbae/lbae/modules/atlas.py\u001b[0m in \u001b[0;36mcompute_array_projection\u001b[0;34m(self, nearest_neighbour_correction, atlas_correction)\u001b[0m\n\u001b[1;32m    244\u001b[0m                 + [\n\u001b[1;32m    245\u001b[0m                     \u001b[0mx\u001b[0m\u001b[0;34m\u001b[0m\u001b[0;34m\u001b[0m\u001b[0m\n\u001b[0;32m--> 246\u001b[0;31m                     \u001b[0;32mfor\u001b[0m \u001b[0mx\u001b[0m \u001b[0;32min\u001b[0m \u001b[0mos\u001b[0m\u001b[0;34m.\u001b[0m\u001b[0mlistdir\u001b[0m\u001b[0;34m(\u001b[0m\u001b[0mpath\u001b[0m\u001b[0;34m)\u001b[0m\u001b[0;34m\u001b[0m\u001b[0;34m\u001b[0m\u001b[0m\n\u001b[0m\u001b[1;32m    247\u001b[0m                     \u001b[0;32mif\u001b[0m \u001b[0mstr\u001b[0m\u001b[0;34m(\u001b[0m\u001b[0mi\u001b[0m \u001b[0;34m+\u001b[0m \u001b[0;36m1\u001b[0m\u001b[0;34m)\u001b[0m \u001b[0;34m==\u001b[0m \u001b[0mx\u001b[0m\u001b[0;34m.\u001b[0m\u001b[0msplit\u001b[0m\u001b[0;34m(\u001b[0m\u001b[0;34m\"slice_\"\u001b[0m\u001b[0;34m)\u001b[0m\u001b[0;34m[\u001b[0m\u001b[0;36m1\u001b[0m\u001b[0;34m]\u001b[0m\u001b[0;34m.\u001b[0m\u001b[0msplit\u001b[0m\u001b[0;34m(\u001b[0m\u001b[0;34m\".tiff\"\u001b[0m\u001b[0;34m)\u001b[0m\u001b[0;34m[\u001b[0m\u001b[0;36m0\u001b[0m\u001b[0;34m]\u001b[0m\u001b[0;34m\u001b[0m\u001b[0;34m\u001b[0m\u001b[0m\n\u001b[1;32m    248\u001b[0m                 ][0]\n",
      "\u001b[0;31mFileNotFoundError\u001b[0m: [Errno 2] No such file or directory: 'data/tiff_files/coordinates_original_data/'"
     ]
    }
   ],
   "source": [
    "ll_t_bounds = [\n",
    "    [None, None, None],\n",
    "    [[(759.6073, 759.6117)], None, None],\n",
    "    [[(759.6071000000001, 759.6112)], None, None],\n",
    "    [[(759.6068, 759.6106000000001)], None, None],\n",
    "    [[(759.6069, 759.6111000000001)], None, None],\n",
    "    [[(759.6064, 759.6108)], None, None],\n",
    "    [[(759.6066000000001, 759.611)], None, None],\n",
    "    [[(759.6067, 759.611)], None, None],\n",
    "    [[(759.6066000000001, 759.611)], None, None],\n",
    "    [[(759.6067, 759.6111000000001)], None, None],\n",
    "    [[(759.6067, 759.6115000000001)], None, None],\n",
    "    [[(759.6067, 759.611)], None, None],\n",
    "    [[(759.6066000000001, 759.6111000000001)], None, None],\n",
    "    [[(759.6067, 759.6112)], None, None],\n",
    "    [[(759.6069, 759.6111000000001)], None, None],\n",
    "    [[(759.6070000000001, 759.6111000000001)], None, None],\n",
    "    [[(759.6069, 759.6112)], None, None],\n",
    "    [[(759.6069, 759.611)], None, None],\n",
    "    [[(759.6064, 759.611)], None, None],\n",
    "    [[(759.6066117365762, 759.6111773745573)], None, None],\n",
    "    [[(759.6067594505706, 759.6111700259931)], None, None],\n",
    "    [[(759.6064842656122, 759.6111548755334)], None, None],\n",
    "    [[(759.6074, 759.6112)], None, None],\n",
    "    [[(759.6067, 759.6109)], None, None],\n",
    "    [[(759.6067, 759.611)], None, None],\n",
    "    [[(759.6067, 759.611)], None, None],\n",
    "    [[(759.6067, 759.6115000000001)], None, None],\n",
    "    [[(759.6068, 759.6114)], None, None],\n",
    "    [[(759.6073, 759.6114)], None, None],\n",
    "    [[(759.6071000000001, 759.6113)], None, None],\n",
    "    [None, None, None],\n",
    "    [[(759.6069, 759.6112)], None, None],\n",
    "]\n",
    "array_x, array_y, array_z, array_c = figures.compute_array_3D( ll_t_bounds, normalize_independently=True, high_res=False)\n"
   ]
  },
  {
   "cell_type": "code",
   "execution_count": null,
   "metadata": {},
   "outputs": [],
   "source": [
    "array_slices = np.copy(array_atlas_borders)\n",
    "array_for_avg = np.full_like(array_atlas_borders,1)\n",
    "array_x_scaled = array_x * 1000000 / atlas.resolution / decrease_dimensionality_factor\n",
    "array_y_scaled = array_y * 1000000 / atlas.resolution / decrease_dimensionality_factor\n",
    "array_z_scaled = array_z * 1000000 / atlas.resolution / decrease_dimensionality_factor\n",
    "\n",
    "print(np.min(array_x_scaled), np.max(array_x_scaled))\n",
    "print(np.min(array_y_scaled), np.max(array_y_scaled))\n",
    "print(np.min(array_z_scaled), np.max(array_z_scaled))\n",
    "print(np.min(array_c), np.max(array_c))\n",
    "print(array_slices.shape)\n",
    "for x, y, z, c in zip(array_x_scaled, array_y_scaled, array_z_scaled, array_c):\n",
    "    x_scaled = int(round(y))\n",
    "    y_scaled = int(round(z))\n",
    "    z_scaled = int(round(x))\n",
    "    # if inside the brain but not a border\n",
    "    if array_slices[x_scaled, y_scaled, z_scaled ] > -0.05:\n",
    "        # if inside the brain and not assigned before\n",
    "        if abs(array_slices[x_scaled, y_scaled, z_scaled ] - (-0.01)) < 10**-4:\n",
    "            array_slices[x_scaled, y_scaled, z_scaled ] = c/100\n",
    "        # inside the brain but already assigned, in which case average\n",
    "        else:\n",
    "            array_slices[x_scaled, y_scaled, z_scaled ] += c/100\n",
    "            array_for_avg[x_scaled, y_scaled, z_scaled ] += 1\n",
    "            \n",
    "array_slices = array_slices/array_for_avg"
   ]
  },
  {
   "cell_type": "code",
   "execution_count": null,
   "metadata": {},
   "outputs": [],
   "source": [
    "X, Y, Z = np.mgrid[\n",
    "     0 : array_atlas_borders.shape[0]/1000*25* decrease_dimensionality_factor : array_atlas_borders.shape[0] * 1j,\n",
    "     0 : array_atlas_borders.shape[1]/1000*25* decrease_dimensionality_factor : array_atlas_borders.shape[1] * 1j,\n",
    "     0 : array_atlas_borders.shape[2]/1000*25* decrease_dimensionality_factor : array_atlas_borders.shape[2] * 1j,\n",
    "]\n",
    "\n",
    "plot = False\n",
    "if plot:\n",
    "    fig = go.Figure(\n",
    "        data=go.Volume(\n",
    "            x=X.flatten(),\n",
    "            y=Y.flatten(),\n",
    "            z=Z.flatten(),\n",
    "            value=array_slices.flatten(),\n",
    "            isomin = -1,\n",
    "            isomax= 2.55,\n",
    "            opacity=0.5,  # max opacity\n",
    "            opacityscale=\"uniform\",\n",
    "            surface_count=10,\n",
    "            colorscale=\"RdBu_r\",\n",
    "        )\n",
    "    )\n",
    "\n",
    "    fig.update_layout(\n",
    "        margin=dict(t=0, r=0, b=0, l=0),\n",
    "        scene=dict(\n",
    "            xaxis=dict(backgroundcolor=\"rgba(0,0,0,0)\", color=\"grey\", gridcolor=\"grey\"),\n",
    "            yaxis=dict(backgroundcolor=\"rgba(0,0,0,0)\", color=\"grey\", gridcolor=\"grey\"),\n",
    "            zaxis=dict(backgroundcolor=\"rgba(0,0,0,0)\", color=\"grey\", gridcolor=\"grey\"),\n",
    "        ),\n",
    "    )\n",
    "    fig.show()\n"
   ]
  },
  {
   "cell_type": "code",
   "execution_count": null,
   "metadata": {},
   "outputs": [],
   "source": [
    "x_min, x_max, y_min, y_max, z_min, z_max = None, None, None, None, None, None\n",
    "# Crop unfilled parts to save space\n",
    "for x in range(0,array_annotation.shape[0]):\n",
    "    if id_structure in array_annotation[x,:,:]:\n",
    "        x_min = x-1\n",
    "        break\n",
    "for x in range(array_annotation.shape[0]-1,-1,-1):\n",
    "    if id_structure in array_annotation[x,:,:]:\n",
    "        x_max = x+1\n",
    "        break\n",
    "for y in range(0,array_annotation.shape[1]):\n",
    "    if id_structure in array_annotation[:,y,:]:\n",
    "        y_min = y-1\n",
    "        break\n",
    "for y in range(array_annotation.shape[1]-1,-1,-1):\n",
    "    if id_structure in array_annotation[:,y,:]:\n",
    "        y_max = y+1\n",
    "        break\n",
    "for z in range(0,array_annotation.shape[2]):\n",
    "    if id_structure in array_annotation[:,:,z]:\n",
    "        z_min = z-1\n",
    "        break\n",
    "for z in range(array_annotation.shape[2]-1,-1,-1):\n",
    "    if id_structure in array_annotation[:,:,z]:\n",
    "        z_max = z+1\n",
    "        break\n",
    "\n",
    "if x_min is None:\n",
    "    print(\"Bug, no voxel value has been assigned\")\n",
    "else:\n",
    "    array_annotation = array_annotation[x_min:x_max+1, y_min:y_max+1, z_min:z_max+1]\n",
    "    array_slices = array_slices[x_min:x_max+1, y_min:y_max+1, z_min:z_max+1]\n",
    "    X = X[x_min:x_max+1, y_min:y_max+1, z_min:z_max+1]\n",
    "    Y = Y[x_min:x_max+1, y_min:y_max+1, z_min:z_max+1]\n",
    "    Z = Z[x_min:x_max+1, y_min:y_max+1, z_min:z_max+1]"
   ]
  },
  {
   "cell_type": "code",
   "execution_count": null,
   "metadata": {},
   "outputs": [],
   "source": [
    "array_interpolated = fill_array_interpolation(array_annotation, array_slices, divider_radius = 5)\n",
    "print(np.max(array_interpolated))"
   ]
  },
  {
   "cell_type": "code",
   "execution_count": null,
   "metadata": {},
   "outputs": [],
   "source": []
  },
  {
   "cell_type": "code",
   "execution_count": null,
   "metadata": {},
   "outputs": [],
   "source": [
    "size = widgets.IntSlider(value=5, min=0,max=array_interpolated.shape[0]-1,step=1, description='Slice')\n",
    "\n",
    "def hist1(size):\n",
    "    plt.imshow(array_interpolated[size,:,:], vmin = -0.1, vmax = 2.55)\n",
    "    return\n",
    "out = widgets.interactive_output(hist1, {'size':size})\n",
    "\n",
    "display(size, out)"
   ]
  },
  {
   "cell_type": "code",
   "execution_count": null,
   "metadata": {},
   "outputs": [],
   "source": [
    "size = widgets.IntSlider(value=5, min=0,max=array_slices.shape[0]-1,step=1, description='Slice')\n",
    "\n",
    "def hist1(size):\n",
    "    plt.imshow(array_slices[size,:,:], vmin = -0.1, vmax = 2.55)\n",
    "    return\n",
    "out = widgets.interactive_output(hist1, {'size':size})\n",
    "\n",
    "display(size, out)"
   ]
  },
  {
   "cell_type": "code",
   "execution_count": null,
   "metadata": {},
   "outputs": [],
   "source": [
    "plot = False\n",
    "if plot:\n",
    "    volume_plot = go.Volume(\n",
    "            x=X.flatten(),\n",
    "            y=Y.flatten(),\n",
    "            z=Z.flatten(),\n",
    "            value=array_interpolated.flatten(),\n",
    "            isomin = -0.11,\n",
    "            isomax= 1.5,\n",
    "            opacity=0.5,  # max opacity\n",
    "            opacityscale=\"uniform\",\n",
    "            surface_count=10,\n",
    "            colorscale='viridis',#\"RdBu_r\",\n",
    "            flatshading = False,\n",
    "            #caps= dict(x_show=False, y_show=False, z_show=False), # no caps\n",
    "            #cmid=-0.1,\n",
    "            #cmax = 2.,\n",
    "            #cmin = -1,\n",
    "        )\n",
    "    #brain_root = figures.compute_root_data()#return_pickled_object(\"figures/atlas_page/3D\", \"root\", force_update=False, compute_function=figures.compute_root_data)\n",
    "\n",
    "    fig = go.Figure(\n",
    "        data=[brain_root_data, volume_plot]#[volume_plot, brain_root]\n",
    "    )\n",
    "\n",
    "    fig.update_layout(\n",
    "        margin=dict(t=0, r=0, b=0, l=0),\n",
    "        scene=dict(\n",
    "            xaxis=dict(backgroundcolor=\"rgba(0,0,0,0)\", color=\"grey\", gridcolor=\"grey\"),\n",
    "            yaxis=dict(backgroundcolor=\"rgba(0,0,0,0)\", color=\"grey\", gridcolor=\"grey\"),\n",
    "            zaxis=dict(backgroundcolor=\"rgba(0,0,0,0)\", color=\"grey\", gridcolor=\"grey\"),\n",
    "        ),\n",
    "    )\n",
    "    fig.show()"
   ]
  },
  {
   "cell_type": "code",
   "execution_count": null,
   "metadata": {},
   "outputs": [],
   "source": []
  },
  {
   "cell_type": "code",
   "execution_count": null,
   "metadata": {},
   "outputs": [],
   "source": []
  },
  {
   "cell_type": "code",
   "execution_count": null,
   "metadata": {},
   "outputs": [],
   "source": []
  }
 ],
 "metadata": {
  "interpreter": {
   "hash": "985800c5f794748871d1c47c637e310c508dd38d7e0ad28eb7b6f7951c361e47"
  },
  "kernelspec": {
   "display_name": "Python 3 (ipykernel)",
   "language": "python",
   "name": "python3"
  },
  "language_info": {
   "codemirror_mode": {
    "name": "ipython",
    "version": 3
   },
   "file_extension": ".py",
   "mimetype": "text/x-python",
   "name": "python",
   "nbconvert_exporter": "python",
   "pygments_lexer": "ipython3",
   "version": "3.9.7"
  }
 },
 "nbformat": 4,
 "nbformat_minor": 4
}
