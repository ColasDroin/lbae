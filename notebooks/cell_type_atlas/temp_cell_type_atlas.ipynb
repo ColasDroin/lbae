{
 "cells": [
  {
   "cell_type": "markdown",
   "metadata": {},
   "source": [
    "# Notebook to analyze and display cell type data\n"
   ]
  },
  {
   "cell_type": "markdown",
   "metadata": {},
   "source": [
    "### Load important modules"
   ]
  },
  {
   "cell_type": "code",
   "execution_count": null,
   "metadata": {
    "tags": []
   },
   "outputs": [],
   "source": [
    "# Standard modules\n",
    "import numpy as np\n",
    "import os\n",
    "import pandas as pd \n",
    "import plotly.graph_objects as go\n",
    "import matplotlib.pyplot as plt\n",
    "import logging\n",
    "from numba import njit\n",
    "from sklearn import linear_model\n",
    "import scipy.cluster.hierarchy as sch\n",
    "from plotly.subplots import make_subplots\n",
    "\n",
    "\n",
    "# Move to root directory for easier module handling\n",
    "os.chdir(\"../..\")\n",
    "print(os.listdir(\".\"))\n",
    "\n",
    "#LBAE imports\n",
    "from modules.maldi_data import MaldiData\n",
    "from modules.figures import Figures\n",
    "from modules.atlas import Atlas\n",
    "from modules.storage import Storage\n",
    "from modules.scRNAseq import ScRNAseq\n",
    "\n",
    "# multithreading/multiprocessing\n",
    "from multiprocessing import Pool\n",
    "import multiprocessing\n",
    "from threadpoolctl import threadpool_limits\n",
    "\n",
    "# set thread limit\n",
    "threadpool_limits(16)\n"
   ]
  },
  {
   "cell_type": "markdown",
   "metadata": {},
   "source": [
    "#### Load LBAE objects"
   ]
  },
  {
   "cell_type": "code",
   "execution_count": null,
   "metadata": {},
   "outputs": [],
   "source": [
    "path_data = \"data/whole_dataset/\"\n",
    "path_annotations = \"data/annotations/\"\n",
    "path_db = \"data/app_data/data.db\"\n",
    "\n",
    "# Load shelve database\n",
    "storage = Storage(path_db)\n",
    "\n",
    "# Load data\n",
    "data = MaldiData(path_data, path_annotations)\n",
    "\n",
    "# Load Atlas and Figures objects. At first launch, many objects will be precomputed and shelved in\n",
    "# the classes Atlas and Figures.\n",
    "atlas = Atlas(data, storage, resolution=25, sample = True)\n",
    "scRNAseq = ScRNAseq()\n",
    "figures = Figures(data, storage, atlas, scRNAseq, sample = True)"
   ]
  },
  {
   "cell_type": "markdown",
   "metadata": {},
   "source": [
    "### Load cell type data"
   ]
  },
  {
   "cell_type": "code",
   "execution_count": null,
   "metadata": {},
   "outputs": [],
   "source": [
    "table_cells = pd.read_csv('notebooks/cell_type_atlas/data/Data_Sheet_2_A Cell Atlas for the Mouse Brain.csv', usecols=[0,4,5,6,7,8,9] )\n",
    "table_cells"
   ]
  },
  {
   "cell_type": "code",
   "execution_count": null,
   "metadata": {},
   "outputs": [],
   "source": [
    "# Get list of leafs in the hierarchy of structures\n",
    "l_leafs_ids = []\n",
    "l_leafs_acronyms = []\n",
    "l_leafs_names = []\n",
    "\n",
    "for x in atlas.dic_acronym_children_id:\n",
    "    if len(atlas.dic_acronym_children_id[x]) == 1:\n",
    "        l_leafs_ids.extend(list(atlas.dic_acronym_children_id[x]))\n",
    "        l_leafs_acronyms.append(x)\n",
    "        l_leafs_names.append(atlas.dic_acronym_name[x])\n",
    "    if len(atlas.dic_acronym_children_id[x]) == 0:\n",
    "        raise ValueError(\"No leaf found for structure: \" + x)\n",
    "\n",
    "dic_names_id = {x:y for x,y in zip(l_leafs_names, l_leafs_ids)}\n",
    "      "
   ]
  },
  {
   "cell_type": "code",
   "execution_count": null,
   "metadata": {},
   "outputs": [],
   "source": [
    "# Keep only the regions that are leafs in the hierarchy to avoid overlap\n",
    "table_cells = table_cells[table_cells['Regions'].isin(l_leafs_names)] \n",
    "table_cells"
   ]
  },
  {
   "cell_type": "markdown",
   "metadata": {},
   "source": [
    "#### Get a dictionnary of lipid expression for each region"
   ]
  },
  {
   "cell_type": "code",
   "execution_count": null,
   "metadata": {},
   "outputs": [],
   "source": [
    "\n",
    "def compute_array_exp_lipids(l_id_regions, brain_1 = False, decrease_resolution_factor = 5, ):\n",
    "    ll_exp_lipids = []\n",
    "    l_name_lipids = []\n",
    "    # Simulate a click on all lipid names\n",
    "    for name in sorted(\n",
    "        figures._data.get_annotations_MAIA_transformed_lipids(brain_1=brain_1).name.unique()\n",
    "    ):\n",
    "        structures = figures._data.get_annotations_MAIA_transformed_lipids(brain_1=brain_1)[\n",
    "            figures._data.get_annotations_MAIA_transformed_lipids(brain_1=brain_1)[\"name\"] == name\n",
    "        ].structure.unique()\n",
    "        for structure in sorted(structures):\n",
    "            cations = figures._data.get_annotations_MAIA_transformed_lipids(brain_1=brain_1)[\n",
    "                (\n",
    "                    figures._data.get_annotations_MAIA_transformed_lipids(brain_1=brain_1)[\"name\"]\n",
    "                    == name\n",
    "                )\n",
    "                & (\n",
    "                    figures._data.get_annotations_MAIA_transformed_lipids(brain_1=brain_1)[\n",
    "                        \"structure\"\n",
    "                    ]\n",
    "                    == structure\n",
    "                )\n",
    "            ].cation.unique()\n",
    "            for cation in sorted(cations):\n",
    "                l_selected_lipids = []\n",
    "                l_slices = figures._data.get_slice_list(indices=\"brain_1\" if brain_1 else \"brain_2\")\n",
    "                for slice_index in l_slices:\n",
    "\n",
    "                    # Find lipid location\n",
    "                    l_lipid_loc = (\n",
    "                        figures._data.get_annotations()\n",
    "                        .index[\n",
    "                            (figures._data.get_annotations()[\"name\"] == name)\n",
    "                            & (figures._data.get_annotations()[\"structure\"] == structure)\n",
    "                            & (figures._data.get_annotations()[\"slice\"] == slice_index)\n",
    "                            & (figures._data.get_annotations()[\"cation\"] == cation)\n",
    "                        ]\n",
    "                        .tolist()\n",
    "                    )\n",
    "\n",
    "                    # If several lipids correspond to the selection, we have a problem...\n",
    "                    if len(l_lipid_loc) > 1:\n",
    "                        logging.warning(\"More than one lipid corresponds to the selection\")\n",
    "                        l_lipid_loc = [l_lipid_loc[-1]]\n",
    "                    # If no lipid correspond to the selection, set to -1\n",
    "                    if len(l_lipid_loc) == 0:\n",
    "                        l_lipid_loc = [-1]\n",
    "\n",
    "                    # add lipid index for each slice\n",
    "                    l_selected_lipids.append(l_lipid_loc[0])\n",
    "\n",
    "                # Get final lipid name\n",
    "                lipid_string = name + \" \" + structure + \" \" + cation\n",
    "\n",
    "                # If lipid is present in at least one slice\n",
    "                if np.sum(l_selected_lipids) > -len(l_slices):\n",
    "\n",
    "                    # Build the list of mz boundaries for each peak and each index\n",
    "                    lll_lipid_bounds = [\n",
    "                        [\n",
    "                            [\n",
    "                                (\n",
    "                                    float(figures._data.get_annotations().iloc[index][\"min\"]),\n",
    "                                    float(figures._data.get_annotations().iloc[index][\"max\"]),\n",
    "                                )\n",
    "                            ]\n",
    "                            if index != -1\n",
    "                            else None\n",
    "                            for index in [lipid_1_index, -1, -1]\n",
    "                        ]\n",
    "                        for lipid_1_index in l_selected_lipids\n",
    "                    ]\n",
    "                    print(\"getting data for lipid \", lipid_string)\n",
    "                    l_name_lipids.append(lipid_string)\n",
    "                    l_expr = []\n",
    "                    for id_region in l_id_regions:\n",
    "                        #try:\n",
    "                        interpolated_array = figures.compute_3D_volume_figure(ll_t_bounds = lll_lipid_bounds, name_lipid_1=lipid_string,decrease_dimensionality_factor=decrease_resolution_factor,return_interpolated_array=True, structure_guided_interpolation=False, set_id_regions = set([id_region]))\n",
    "                        l_expr.append(np.mean([x for x in interpolated_array.flatten() if x>=0]))\n",
    "                        #except:\n",
    "                        #    print('An error has occured')\n",
    "                        #    l_expr.append(np.nan)\n",
    "                    ll_exp_lipids.append(l_expr)\n",
    "\n",
    "    return np.array(ll_exp_lipids).T, l_name_lipids\n",
    "\n"
   ]
  },
  {
   "cell_type": "code",
   "execution_count": null,
   "metadata": {},
   "outputs": [],
   "source": [
    "load_from_save = True\n",
    "l_name_regions = list(table_cells['Regions'])\n",
    "l_name_cells = table_cells.columns[1:]\n",
    "if not load_from_save:    \n",
    "    array_exp_lipids_brain_2, l_name_lipids_brain_2 = compute_array_exp_lipids(l_id_regions = [dic_names_id[x] for x in table_cells['Regions']], brain_1 = False)\n",
    "\n",
    "    # Save array of lipid expression for brain 2\n",
    "    with open('notebooks/cell_type_atlas/data/array_exp_lipids_False.npy', 'wb') as f:\n",
    "        np.save(f, array_exp_lipids_brain_2)\n",
    "\n",
    "    # Save corresponding names for brain 2\n",
    "    with open('notebooks/cell_type_atlas/data/array_name_lipids_False.npy', 'wb') as f:\n",
    "        np.save(f, np.array(l_name_lipids_brain_2))\n",
    "\n",
    "else:\n",
    "    array_exp_lipids_brain_2 = np.load('notebooks/cell_type_atlas/data/array_exp_lipids_False.npy')\n",
    "    array_name_lipids_False = np.load('notebooks/cell_type_atlas/data/array_name_lipids_False.npy')\n",
    "    l_name_lipids_brain_2 = array_name_lipids_False.tolist()"
   ]
  },
  {
   "cell_type": "markdown",
   "metadata": {},
   "source": [
    "### Get cell type data as an array"
   ]
  },
  {
   "cell_type": "code",
   "execution_count": null,
   "metadata": {},
   "outputs": [],
   "source": [
    "array_exp_cells = table_cells.iloc[:,1:].to_numpy()\n",
    "array_exp_cells"
   ]
  },
  {
   "cell_type": "code",
   "execution_count": null,
   "metadata": {},
   "outputs": [],
   "source": [
    "array_exp_lipids_brain_2 = np.nan_to_num(array_exp_lipids_brain_2)"
   ]
  },
  {
   "cell_type": "markdown",
   "metadata": {},
   "source": [
    "##### Make an elastic net regression to explain lipid expression in terms of cell type"
   ]
  },
  {
   "cell_type": "code",
   "execution_count": null,
   "metadata": {},
   "outputs": [],
   "source": [
    "from sklearn.ensemble import RandomForestRegressor"
   ]
  },
  {
   "cell_type": "code",
   "execution_count": null,
   "metadata": {},
   "outputs": [],
   "source": [
    "def compute_regression_all_lipids(array_exp_lipids, array_exp_cells):\n",
    "    \"\"\"Compute the elastic net regression coefficients for all lipids.\n",
    "\n",
    "    Returns:\n",
    "        list(list(float)), list(float): List of coefficients (for each lipid) and list of scores\n",
    "            for the elastic net regression explaining lipid expression in terms of gene expression.\n",
    "    \"\"\"\n",
    "    # Define regression as a function for potential parallelization\n",
    "    def compute_regression(index_lipid):\n",
    "        #clf = linear_model.ElasticNet(fit_intercept=True, alpha=0., positive=False)\n",
    "        #clf = linear_model.LinearRegression(fit_intercept=True)\n",
    "        #clf = linear_model.Lars(fit_intercept=True)\n",
    "        clf = RandomForestRegressor()\n",
    "        clf.fit(array_exp_cells, array_exp_lipids[:, index_lipid])\n",
    "        return [\n",
    "            #clf.coef_,\n",
    "            None,\n",
    "            clf.score(array_exp_cells, array_exp_lipids[:, index_lipid]),\n",
    "        ]\n",
    "\n",
    "    # Compute regression for all lipids\n",
    "    l_lipid_indices = list(range(array_exp_lipids.shape[1]))\n",
    "    l_res = [x for x in map(compute_regression, l_lipid_indices)]\n",
    "\n",
    "    # Store the coefficients and the score of the regressions\n",
    "    ll_coef = []\n",
    "    l_score = []\n",
    "    for res in l_res:\n",
    "        ll_coef.append(res[0])\n",
    "        l_score.append(res[1])\n",
    "\n",
    "    # Return result\n",
    "    return np.array(ll_coef), l_score"
   ]
  },
  {
   "cell_type": "code",
   "execution_count": null,
   "metadata": {},
   "outputs": [],
   "source": [
    "# Do the LASSO regression\n",
    "array_coef_brain_2, l_score_brain_2 = compute_regression_all_lipids(array_exp_lipids_brain_2, array_exp_cells)\n",
    "array_coef_brain_2_reversed, l_score_brain_2_reversed = compute_regression_all_lipids(array_exp_cells, array_exp_lipids_brain_2)"
   ]
  },
  {
   "cell_type": "markdown",
   "metadata": {},
   "source": [
    "#### Save the filtered data from the molecular atlas"
   ]
  },
  {
   "cell_type": "code",
   "execution_count": null,
   "metadata": {},
   "outputs": [],
   "source": [
    "\n",
    "with open('notebooks/cell_type_atlas/data/array_coef.npy', 'wb') as f:\n",
    "    np.save(f, array_coef_brain_2)\n",
    "with open('notebooks/cell_type_atlas/data/array_score.npy', 'wb') as f:\n",
    "    np.save(f, np.array(l_score_brain_2))\n",
    "\n",
    "with open('notebooks/cell_type_atlas/data/array_coef_reversed.npy', 'wb') as f:\n",
    "    np.save(f, array_coef_brain_2_reversed)\n",
    "with open('notebooks/cell_type_atlas/data/array_score_reversed.npy', 'wb') as f:\n",
    "    np.save(f, np.array(l_score_brain_2_reversed))"
   ]
  },
  {
   "cell_type": "code",
   "execution_count": null,
   "metadata": {},
   "outputs": [],
   "source": [
    "print(l_score_brain_2_reversed)"
   ]
  },
  {
   "cell_type": "code",
   "execution_count": null,
   "metadata": {},
   "outputs": [],
   "source": [
    "print(l_score_brain_2)"
   ]
  },
  {
   "cell_type": "markdown",
   "metadata": {},
   "source": [
    "#### Plot regression"
   ]
  },
  {
   "cell_type": "code",
   "execution_count": null,
   "metadata": {},
   "outputs": [],
   "source": [
    "# Compute correlation on rows\n",
    "pairwise_distances = sch.distance.pdist(array_coef_brain_2_reversed)\n",
    "linkage = sch.linkage(pairwise_distances, method='ward')\n",
    "cluster_distance_threshold = pairwise_distances.max()/2\n",
    "idx_to_cluster_array = sch.fcluster(linkage, cluster_distance_threshold, \n",
    "                                    criterion='distance')\n",
    "idx = np.argsort(idx_to_cluster_array)\n",
    "    \n",
    "corr_array_clustered = array_coef_brain_2_reversed[idx, :]\n",
    "l_name_cells = np.array(l_name_cells)[idx]\n",
    "l_score_brain_2_reversed = np.array(l_score_brain_2_reversed)[idx]\n",
    "\n",
    "# Compute correlation on columns\n",
    "pairwise_distances = sch.distance.pdist(corr_array_clustered.T)\n",
    "linkage = sch.linkage(pairwise_distances, method='ward')\n",
    "cluster_distance_threshold = pairwise_distances.max()/2\n",
    "idx_to_cluster_array = sch.fcluster(linkage, cluster_distance_threshold, \n",
    "                                    criterion='distance')\n",
    "idx = np.argsort(idx_to_cluster_array)\n",
    "    \n",
    "corr_array_clustered = corr_array_clustered[:, idx]\n",
    "\n",
    "l_name_lipids_brain_2 = np.array(l_name_lipids_brain_2)[idx]\n",
    "\n"
   ]
  },
  {
   "cell_type": "code",
   "execution_count": null,
   "metadata": {},
   "outputs": [],
   "source": [
    "fig = make_subplots(rows=1, cols=2, shared_yaxes=True,horizontal_spacing=0.)\n",
    "\n",
    "\n",
    "g1 = go.Heatmap(z = corr_array_clustered, colorscale='RdBu', x=l_name_lipids_brain_2, y = l_name_cells, zmin = -np.max(corr_array_clustered)/5, zmax = np.max(corr_array_clustered)/5, colorbar=dict(title=\"Coef value\", x=1.1 ))\n",
    "g2 = go.Heatmap(z = np.array([l_score_brain_2_reversed]).T, colorscale='mint', y = l_name_cells, zmin = 0., zmax = 0.6, colorbar=dict(title=\"R2 score\", x=1.05 ))\n",
    "\n",
    "\n",
    "fig.append_trace(g1, row=1, col=1)\n",
    "fig.append_trace(g2, row=1, col=2)\n",
    "\n",
    "\n",
    "\n",
    "# edit axis labels\n",
    "fig['layout']['xaxis']['title']=\"Genes\"\n",
    "fig['layout']['yaxis']['title']='Lipids'\n",
    "#fig['layout']['xaxis2']['title']='R2 score'\n",
    "fig['layout']['xaxis2']['side']='top'\n",
    "\n",
    "fig.update_xaxes(showticklabels=False, row=1, col=2)\n",
    "fig.update_yaxes(showticklabels=False, row=1, col=2)\n",
    "\n",
    "fig['layout']['yaxis2']['scaleanchor']='x2'\n",
    "fig['layout']['yaxis']['scaleanchor']='x'\n",
    "\n",
    "fig['layout']['xaxis']['domain'] = [0, 0.98]\n",
    "fig['layout']['xaxis2']['domain'] = [0.99, 1]\n",
    "#fig.update_traces(showscale=False)\n",
    "fig.update_xaxes(tickangle=45)\n",
    "#fig.update_layout(coloraxis_colorbar_x=-0.15)\n",
    "\n",
    "    \n",
    "\n",
    "\n",
    "fig.update_layout(\n",
    "    width=int(1520),\n",
    "    height=int(350),\n",
    "    font_size=7,\n",
    "    title_font_size=12,\n",
    "    title={\n",
    "        'text' : 'Linear regression factors (Cell types explained with lipids as predictors)',\n",
    "        'y':0.92,\n",
    "        'x':0.5,\n",
    "        'xanchor': 'center',\n",
    "        'yanchor': 'top'}\n",
    ")\n",
    "fig.update_layout(plot_bgcolor='rgba(0,0,0,0)')\n",
    "\n",
    "\n",
    "fig.show()\n",
    "#fig.write_image(\"'notebooks/cell_type_atlas/output/heatmap.pdf\")"
   ]
  },
  {
   "cell_type": "code",
   "execution_count": null,
   "metadata": {},
   "outputs": [],
   "source": [
    "fig = make_subplots(rows=1, cols=2, shared_yaxes=True,horizontal_spacing=0.)\n",
    "\n",
    "maxi = np.max(corr_array_clustered[:-1,:])*0.9\n",
    "g1 = go.Heatmap(z = corr_array_clustered[:-1,:], colorscale='RdBu', x=l_name_lipids_brain_2, y = l_name_cells[:-1], zmin = -maxi, zmax = maxi, colorbar=dict(title=\"Coef value\", x=1.1 ))\n",
    "g2 = go.Heatmap(z = np.array([l_score_brain_2_reversed[:-1]]).T, colorscale='mint', y = l_name_cells[:-1], zmin = 0., zmax = 0.6, colorbar=dict(title=\"R2 score\", x=1.05 ))\n",
    "\n",
    "\n",
    "fig.append_trace(g1, row=1, col=1)\n",
    "fig.append_trace(g2, row=1, col=2)\n",
    "\n",
    "\n",
    "\n",
    "# edit axis labels\n",
    "fig['layout']['xaxis']['title']=\"Genes\"\n",
    "fig['layout']['yaxis']['title']='Lipids'\n",
    "#fig['layout']['xaxis2']['title']='R2 score'\n",
    "fig['layout']['xaxis2']['side']='top'\n",
    "\n",
    "fig.update_xaxes(showticklabels=False, row=1, col=2)\n",
    "fig.update_yaxes(showticklabels=False, row=1, col=2)\n",
    "\n",
    "fig['layout']['yaxis2']['scaleanchor']='x2'\n",
    "fig['layout']['yaxis']['scaleanchor']='x'\n",
    "\n",
    "fig['layout']['xaxis']['domain'] = [0, 0.98]\n",
    "fig['layout']['xaxis2']['domain'] = [0.99, 1]\n",
    "#fig.update_traces(showscale=False)\n",
    "fig.update_xaxes(tickangle=45)\n",
    "#fig.update_layout(coloraxis_colorbar_x=-0.15)\n",
    "\n",
    "fig.update_layout(\n",
    "    width=int(1520),\n",
    "    height=int(350),\n",
    "    font_size=7,\n",
    "    title_font_size=12,\n",
    "    title={\n",
    "        'text' : 'Linear regression factors (Cell types explained with lipids as predictors)',\n",
    "        'y':0.92,\n",
    "        'x':0.5,\n",
    "        'xanchor': 'center',\n",
    "        'yanchor': 'top'}\n",
    ")\n",
    "fig.update_layout(plot_bgcolor='rgba(0,0,0,0)')\n",
    "\n",
    "\n",
    "fig.show()"
   ]
  },
  {
   "cell_type": "markdown",
   "metadata": {},
   "source": [
    "### Try alternative regression to explain lipids with cell types "
   ]
  },
  {
   "cell_type": "code",
   "execution_count": null,
   "metadata": {},
   "outputs": [],
   "source": []
  },
  {
   "cell_type": "markdown",
   "metadata": {},
   "source": []
  }
 ],
 "metadata": {
  "kernelspec": {
   "display_name": "Python 3.9.12 ('base')",
   "language": "python",
   "name": "python3"
  },
  "language_info": {
   "codemirror_mode": {
    "name": "ipython",
    "version": 3
   },
   "file_extension": ".py",
   "mimetype": "text/x-python",
   "name": "python",
   "nbconvert_exporter": "python",
   "pygments_lexer": "ipython3",
   "version": "3.9.12"
  },
  "vscode": {
   "interpreter": {
    "hash": "0c1aa729cc35b9a783763c24c4069d7da678acf641f89d4e1df25bf02079ad65"
   }
  }
 },
 "nbformat": 4,
 "nbformat_minor": 4
}
