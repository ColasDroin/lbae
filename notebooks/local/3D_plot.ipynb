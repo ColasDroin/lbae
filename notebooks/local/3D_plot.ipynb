{
 "cells": [
  {
   "cell_type": "markdown",
   "metadata": {},
   "source": [
    "## Import required modules"
   ]
  },
  {
   "cell_type": "code",
   "execution_count": 1,
   "metadata": {},
   "outputs": [
    {
     "name": "stdout",
     "output_type": "stream",
     "text": [
      "allen mouse atlas (res. 25um)\n",
      "From: http://www.brain-map.org (Wang et al 2020, https://doi.org/10.1016/j.cell.2020.04.007 )\n"
     ]
    }
   ],
   "source": [
    "# Standard import\n",
    "import os\n",
    "import numpy as np\n",
    "import plotly.graph_objects as go\n",
    "from numba import njit\n",
    "import ipywidgets as widgets\n",
    "from IPython.display import display\n",
    "import matplotlib.pyplot as plt\n",
    "\n",
    "# Move to root directory for easier module import\n",
    "os.chdir(\"../../\")\n",
    "\n",
    "# Homemade modules\n",
    "from lbae.modules.maldi_data import MaldiData\n",
    "from lbae.modules.figures import Figures\n",
    "from lbae.modules.atlas import Atlas\n",
    "from lbae.modules.tools.volume import fill_array_borders, fill_array_interpolation\n",
    "from lbae.modules.tools.misc import return_pickled_object\n",
    "\n",
    "\n",
    "# Objects containing our data as well as the atlas data\n",
    "data = MaldiData()\n",
    "atlas = Atlas(data, resolution=25)\n",
    "figures = Figures(data, atlas)\n",
    "\n"
   ]
  },
  {
   "cell_type": "code",
   "execution_count": 2,
   "metadata": {},
   "outputs": [],
   "source": [
    "decrease_dimensionality_factor = 10\n",
    "\n",
    "# get array of annotatiobs, which associate coordinate to id\n",
    "array_annotation = np.array(atlas.bg_atlas.annotation, dtype = np.int32)\n",
    "\n",
    "# Subsample array of annotation the same way array_atlas was subsampled\n",
    "array_annotation = array_annotation[::decrease_dimensionality_factor, ::decrease_dimensionality_factor, ::decrease_dimensionality_factor]\n",
    "\n",
    "# bug correction for the last slice\n",
    "array_annotation = np.concatenate((array_annotation, np.zeros((1,array_annotation.shape[1], array_annotation.shape[2]))))\n",
    "\n",
    "# choose structure\n",
    "#for i, keys in atlas.dic_label_id.items():\n",
    "#    print(keys, i)\n",
    "\n",
    "id_structure =  None #atlas.dic_label_id[\"Substantia innominata\"]\n",
    "array_atlas_borders = fill_array_borders(array_annotation, differentiate_borders = False, color_near_borders = False, keep_structure_id = id_structure)"
   ]
  },
  {
   "cell_type": "code",
   "execution_count": 3,
   "metadata": {},
   "outputs": [
    {
     "data": {
      "image/png": "[encoded data removed]",
      "text/plain": [
       "<Figure size 432x288 with 1 Axes>"
      ]
     },
     "metadata": {
      "needs_background": "light"
     },
     "output_type": "display_data"
    }
   ],
   "source": [
    "array_to_display = np.array(atlas.bg_atlas.annotation[300,:,:],dtype = np.int32)\n",
    "plt.imshow(array_to_display , vmin = 0, vmax = 1)\n",
    "plt.show()"
   ]
  },
  {
   "cell_type": "code",
   "execution_count": 4,
   "metadata": {},
   "outputs": [
    {
     "data": {
      "application/vnd.jupyter.widget-view+json": {
       "model_id": "8ad61adc166d4515bf52485625dd5c75",
       "version_major": 2,
       "version_minor": 0
      },
      "text/plain": [
       "IntSlider(value=5, description='Slice', max=53)"
      ]
     },
     "metadata": {},
     "output_type": "display_data"
    },
    {
     "data": {
      "application/vnd.jupyter.widget-view+json": {
       "model_id": "b9b72036510645978fbb9be0b6634d92",
       "version_major": 2,
       "version_minor": 0
      },
      "text/plain": [
       "Output()"
      ]
     },
     "metadata": {},
     "output_type": "display_data"
    }
   ],
   "source": [
    "#array_to_display = np.array(array_atlas_borders[30,:,:],dtype = np.float32)\n",
    "#plt.imshow(array_to_display , vmin = -0.4, vmax = 0)\n",
    "#plt.show()\n",
    "\n",
    "size = widgets.IntSlider(value=5, min=0,max=array_atlas_borders.shape[0]-1,step=1, description='Slice')\n",
    "\n",
    "def hist1(size):\n",
    "    plt.imshow(array_atlas_borders[size,:,:], vmin = -0.4, vmax = 0)\n",
    "    return\n",
    "out = widgets.interactive_output(hist1, {'size':size})\n",
    "\n",
    "display(size, out)\n"
   ]
  },
  {
   "cell_type": "code",
   "execution_count": 16,
   "metadata": {},
   "outputs": [
    {
     "name": "stdout",
     "output_type": "stream",
     "text": [
      "[]\n"
     ]
    },
    {
     "ename": "ValueError",
     "evalue": "\n    Invalid value of type 'builtins.int' received for the 'x' property of surface\n        Received value: 53\n\n    The 'x' property is an array that may be specified as a tuple,\n    list, numpy array, or pandas Series",
     "output_type": "error",
     "traceback": [
      "\u001b[0;31m---------------------------------------------------------------------------\u001b[0m",
      "\u001b[0;31mValueError\u001b[0m                                Traceback (most recent call last)",
      "\u001b[0;32m/tmp/ipykernel_29296/2049107192.py\u001b[0m in \u001b[0;36m<module>\u001b[0;34m\u001b[0m\n\u001b[1;32m     57\u001b[0m \u001b[0;34m\u001b[0m\u001b[0m\n\u001b[1;32m     58\u001b[0m \u001b[0mprint\u001b[0m\u001b[0;34m(\u001b[0m\u001b[0marray_z\u001b[0m\u001b[0;34m)\u001b[0m\u001b[0;34m\u001b[0m\u001b[0;34m\u001b[0m\u001b[0m\n\u001b[0;32m---> 59\u001b[0;31m \u001b[0mfig\u001b[0m \u001b[0;34m=\u001b[0m \u001b[0mgo\u001b[0m\u001b[0;34m.\u001b[0m\u001b[0mFigure\u001b[0m\u001b[0;34m(\u001b[0m\u001b[0mdata\u001b[0m \u001b[0;34m=\u001b[0m \u001b[0mgo\u001b[0m\u001b[0;34m.\u001b[0m\u001b[0mSurface\u001b[0m\u001b[0;34m(\u001b[0m\u001b[0mx\u001b[0m\u001b[0;34m=\u001b[0m\u001b[0mx\u001b[0m\u001b[0;34m,\u001b[0m \u001b[0my\u001b[0m\u001b[0;34m=\u001b[0m\u001b[0my\u001b[0m\u001b[0;34m,\u001b[0m \u001b[0mz\u001b[0m\u001b[0;34m=\u001b[0m\u001b[0mz\u001b[0m\u001b[0;34m)\u001b[0m\u001b[0;34m)\u001b[0m\u001b[0;34m\u001b[0m\u001b[0;34m\u001b[0m\u001b[0m\n\u001b[0m\u001b[1;32m     60\u001b[0m \u001b[0mfig\u001b[0m\u001b[0;34m.\u001b[0m\u001b[0mshow\u001b[0m\u001b[0;34m(\u001b[0m\u001b[0;34m)\u001b[0m\u001b[0;34m\u001b[0m\u001b[0;34m\u001b[0m\u001b[0m\n\u001b[1;32m     61\u001b[0m \u001b[0;34m\u001b[0m\u001b[0m\n",
      "\u001b[0;32m~/miniconda3/lib/python3.9/site-packages/plotly/graph_objs/_surface.py\u001b[0m in \u001b[0;36m__init__\u001b[0;34m(self, arg, autocolorscale, cauto, cmax, cmid, cmin, coloraxis, colorbar, colorscale, connectgaps, contours, customdata, customdatasrc, hidesurface, hoverinfo, hoverinfosrc, hoverlabel, hovertemplate, hovertemplatesrc, hovertext, hovertextsrc, ids, idssrc, legendgroup, legendgrouptitle, legendrank, lighting, lightposition, meta, metasrc, name, opacity, opacityscale, reversescale, scene, showlegend, showscale, stream, surfacecolor, surfacecolorsrc, text, textsrc, uid, uirevision, visible, x, xcalendar, xhoverformat, xsrc, y, ycalendar, yhoverformat, ysrc, z, zcalendar, zhoverformat, zsrc, **kwargs)\u001b[0m\n\u001b[1;32m   2634\u001b[0m         \u001b[0m_v\u001b[0m \u001b[0;34m=\u001b[0m \u001b[0mx\u001b[0m \u001b[0;32mif\u001b[0m \u001b[0mx\u001b[0m \u001b[0;32mis\u001b[0m \u001b[0;32mnot\u001b[0m \u001b[0;32mNone\u001b[0m \u001b[0;32melse\u001b[0m \u001b[0m_v\u001b[0m\u001b[0;34m\u001b[0m\u001b[0;34m\u001b[0m\u001b[0m\n\u001b[1;32m   2635\u001b[0m         \u001b[0;32mif\u001b[0m \u001b[0m_v\u001b[0m \u001b[0;32mis\u001b[0m \u001b[0;32mnot\u001b[0m \u001b[0;32mNone\u001b[0m\u001b[0;34m:\u001b[0m\u001b[0;34m\u001b[0m\u001b[0;34m\u001b[0m\u001b[0m\n\u001b[0;32m-> 2636\u001b[0;31m             \u001b[0mself\u001b[0m\u001b[0;34m[\u001b[0m\u001b[0;34m\"x\"\u001b[0m\u001b[0;34m]\u001b[0m \u001b[0;34m=\u001b[0m \u001b[0m_v\u001b[0m\u001b[0;34m\u001b[0m\u001b[0;34m\u001b[0m\u001b[0m\n\u001b[0m\u001b[1;32m   2637\u001b[0m         \u001b[0m_v\u001b[0m \u001b[0;34m=\u001b[0m \u001b[0marg\u001b[0m\u001b[0;34m.\u001b[0m\u001b[0mpop\u001b[0m\u001b[0;34m(\u001b[0m\u001b[0;34m\"xcalendar\"\u001b[0m\u001b[0;34m,\u001b[0m \u001b[0;32mNone\u001b[0m\u001b[0;34m)\u001b[0m\u001b[0;34m\u001b[0m\u001b[0;34m\u001b[0m\u001b[0m\n\u001b[1;32m   2638\u001b[0m         \u001b[0m_v\u001b[0m \u001b[0;34m=\u001b[0m \u001b[0mxcalendar\u001b[0m \u001b[0;32mif\u001b[0m \u001b[0mxcalendar\u001b[0m \u001b[0;32mis\u001b[0m \u001b[0;32mnot\u001b[0m \u001b[0;32mNone\u001b[0m \u001b[0;32melse\u001b[0m \u001b[0m_v\u001b[0m\u001b[0;34m\u001b[0m\u001b[0;34m\u001b[0m\u001b[0m\n",
      "\u001b[0;32m~/miniconda3/lib/python3.9/site-packages/plotly/basedatatypes.py\u001b[0m in \u001b[0;36m__setitem__\u001b[0;34m(self, prop, value)\u001b[0m\n\u001b[1;32m   4817\u001b[0m                 \u001b[0;31m# ### Handle simple property ###\u001b[0m\u001b[0;34m\u001b[0m\u001b[0;34m\u001b[0m\u001b[0m\n\u001b[1;32m   4818\u001b[0m                 \u001b[0;32melse\u001b[0m\u001b[0;34m:\u001b[0m\u001b[0;34m\u001b[0m\u001b[0;34m\u001b[0m\u001b[0m\n\u001b[0;32m-> 4819\u001b[0;31m                     \u001b[0mself\u001b[0m\u001b[0;34m.\u001b[0m\u001b[0m_set_prop\u001b[0m\u001b[0;34m(\u001b[0m\u001b[0mprop\u001b[0m\u001b[0;34m,\u001b[0m \u001b[0mvalue\u001b[0m\u001b[0;34m)\u001b[0m\u001b[0;34m\u001b[0m\u001b[0;34m\u001b[0m\u001b[0m\n\u001b[0m\u001b[1;32m   4820\u001b[0m             \u001b[0;32melse\u001b[0m\u001b[0;34m:\u001b[0m\u001b[0;34m\u001b[0m\u001b[0;34m\u001b[0m\u001b[0m\n\u001b[1;32m   4821\u001b[0m                 \u001b[0;31m# Make sure properties dict is initialized\u001b[0m\u001b[0;34m\u001b[0m\u001b[0;34m\u001b[0m\u001b[0m\n",
      "\u001b[0;32m~/miniconda3/lib/python3.9/site-packages/plotly/basedatatypes.py\u001b[0m in \u001b[0;36m_set_prop\u001b[0;34m(self, prop, val)\u001b[0m\n\u001b[1;32m   5161\u001b[0m                 \u001b[0;32mreturn\u001b[0m\u001b[0;34m\u001b[0m\u001b[0;34m\u001b[0m\u001b[0m\n\u001b[1;32m   5162\u001b[0m             \u001b[0;32melse\u001b[0m\u001b[0;34m:\u001b[0m\u001b[0;34m\u001b[0m\u001b[0;34m\u001b[0m\u001b[0m\n\u001b[0;32m-> 5163\u001b[0;31m                 \u001b[0;32mraise\u001b[0m \u001b[0merr\u001b[0m\u001b[0;34m\u001b[0m\u001b[0;34m\u001b[0m\u001b[0m\n\u001b[0m\u001b[1;32m   5164\u001b[0m \u001b[0;34m\u001b[0m\u001b[0m\n\u001b[1;32m   5165\u001b[0m         \u001b[0;31m# val is None\u001b[0m\u001b[0;34m\u001b[0m\u001b[0;34m\u001b[0m\u001b[0m\n",
      "\u001b[0;32m~/miniconda3/lib/python3.9/site-packages/plotly/basedatatypes.py\u001b[0m in \u001b[0;36m_set_prop\u001b[0;34m(self, prop, val)\u001b[0m\n\u001b[1;32m   5156\u001b[0m \u001b[0;34m\u001b[0m\u001b[0m\n\u001b[1;32m   5157\u001b[0m         \u001b[0;32mtry\u001b[0m\u001b[0;34m:\u001b[0m\u001b[0;34m\u001b[0m\u001b[0;34m\u001b[0m\u001b[0m\n\u001b[0;32m-> 5158\u001b[0;31m             \u001b[0mval\u001b[0m \u001b[0;34m=\u001b[0m \u001b[0mvalidator\u001b[0m\u001b[0;34m.\u001b[0m\u001b[0mvalidate_coerce\u001b[0m\u001b[0;34m(\u001b[0m\u001b[0mval\u001b[0m\u001b[0;34m)\u001b[0m\u001b[0;34m\u001b[0m\u001b[0;34m\u001b[0m\u001b[0m\n\u001b[0m\u001b[1;32m   5159\u001b[0m         \u001b[0;32mexcept\u001b[0m \u001b[0mValueError\u001b[0m \u001b[0;32mas\u001b[0m \u001b[0merr\u001b[0m\u001b[0;34m:\u001b[0m\u001b[0;34m\u001b[0m\u001b[0;34m\u001b[0m\u001b[0m\n\u001b[1;32m   5160\u001b[0m             \u001b[0;32mif\u001b[0m \u001b[0mself\u001b[0m\u001b[0;34m.\u001b[0m\u001b[0m_skip_invalid\u001b[0m\u001b[0;34m:\u001b[0m\u001b[0;34m\u001b[0m\u001b[0;34m\u001b[0m\u001b[0m\n",
      "\u001b[0;32m~/miniconda3/lib/python3.9/site-packages/_plotly_utils/basevalidators.py\u001b[0m in \u001b[0;36mvalidate_coerce\u001b[0;34m(self, v)\u001b[0m\n\u001b[1;32m    403\u001b[0m             \u001b[0mv\u001b[0m \u001b[0;34m=\u001b[0m \u001b[0mto_scalar_or_list\u001b[0m\u001b[0;34m(\u001b[0m\u001b[0mv\u001b[0m\u001b[0;34m)\u001b[0m\u001b[0;34m\u001b[0m\u001b[0;34m\u001b[0m\u001b[0m\n\u001b[1;32m    404\u001b[0m         \u001b[0;32melse\u001b[0m\u001b[0;34m:\u001b[0m\u001b[0;34m\u001b[0m\u001b[0;34m\u001b[0m\u001b[0m\n\u001b[0;32m--> 405\u001b[0;31m             \u001b[0mself\u001b[0m\u001b[0;34m.\u001b[0m\u001b[0mraise_invalid_val\u001b[0m\u001b[0;34m(\u001b[0m\u001b[0mv\u001b[0m\u001b[0;34m)\u001b[0m\u001b[0;34m\u001b[0m\u001b[0;34m\u001b[0m\u001b[0m\n\u001b[0m\u001b[1;32m    406\u001b[0m         \u001b[0;32mreturn\u001b[0m \u001b[0mv\u001b[0m\u001b[0;34m\u001b[0m\u001b[0;34m\u001b[0m\u001b[0m\n\u001b[1;32m    407\u001b[0m \u001b[0;34m\u001b[0m\u001b[0m\n",
      "\u001b[0;32m~/miniconda3/lib/python3.9/site-packages/_plotly_utils/basevalidators.py\u001b[0m in \u001b[0;36mraise_invalid_val\u001b[0;34m(self, v, inds)\u001b[0m\n\u001b[1;32m    287\u001b[0m                 \u001b[0mname\u001b[0m \u001b[0;34m+=\u001b[0m \u001b[0;34m\"[\"\u001b[0m \u001b[0;34m+\u001b[0m \u001b[0mstr\u001b[0m\u001b[0;34m(\u001b[0m\u001b[0mi\u001b[0m\u001b[0;34m)\u001b[0m \u001b[0;34m+\u001b[0m \u001b[0;34m\"]\"\u001b[0m\u001b[0;34m\u001b[0m\u001b[0;34m\u001b[0m\u001b[0m\n\u001b[1;32m    288\u001b[0m \u001b[0;34m\u001b[0m\u001b[0m\n\u001b[0;32m--> 289\u001b[0;31m         raise ValueError(\n\u001b[0m\u001b[1;32m    290\u001b[0m             \"\"\"\n\u001b[1;32m    291\u001b[0m     \u001b[0mInvalid\u001b[0m \u001b[0mvalue\u001b[0m \u001b[0mof\u001b[0m \u001b[0mtype\u001b[0m \u001b[0;34m{\u001b[0m\u001b[0mtyp\u001b[0m\u001b[0;34m}\u001b[0m \u001b[0mreceived\u001b[0m \u001b[0;32mfor\u001b[0m \u001b[0mthe\u001b[0m \u001b[0;34m'{name}'\u001b[0m \u001b[0mproperty\u001b[0m \u001b[0mof\u001b[0m \u001b[0;34m{\u001b[0m\u001b[0mpname\u001b[0m\u001b[0;34m}\u001b[0m\u001b[0;34m\u001b[0m\u001b[0;34m\u001b[0m\u001b[0m\n",
      "\u001b[0;31mValueError\u001b[0m: \n    Invalid value of type 'builtins.int' received for the 'x' property of surface\n        Received value: 53\n\n    The 'x' property is an array that may be specified as a tuple,\n    list, numpy array, or pandas Series"
     ]
    }
   ],
   "source": [
    "ll_x = []\n",
    "ll_y = []\n",
    "ll_z = []\n",
    "for x in range(array_atlas_borders.shape[0]):\n",
    "    # from here, I must follow the contour of array_atlas_borders[x,:,:]\n",
    "    # for simplicity, I can start from bottom left\n",
    "    y = 0\n",
    "    z = 0\n",
    "    # while I found nothing, I keep increasing y first, and z second (the second loop is never started if the first one has exited finding something)\n",
    "    found = False\n",
    "    while array_atlas_borders[x,y,z] == -2 and y<array_atlas_borders.shape[1]-1:\n",
    "        while array_atlas_borders[x,y,z] == -2 and z<array_atlas_borders.shape[2]-1:\n",
    "            z +=1\n",
    "        if array_atlas_borders[x,y,z] != -2:\n",
    "            found = True\n",
    "            break\n",
    "        else:\n",
    "            y +=1\n",
    "    \n",
    "    # If I found a border, I do a nearest neighbour searched from here, taking the outer voxel everytime\n",
    "    if found:\n",
    "        l_x = [x]\n",
    "        l_y = [y]\n",
    "        l_z = [z]\n",
    "        n_iter = 0  \n",
    "        while l_x[-1] != l_x[0] and l_y[-1] != l_y[0] and l_z[-1] != l_z[0] and len(l_x)>1 and n_iter<10000:\n",
    "            n_iter += 1 \n",
    "            # explore a square, starting with the diagonal points\n",
    "            up = False\n",
    "            for yt, zt in [(y-1,z+1), (y+1,z+1),(y+1,z-1), (y-1,z-1), (y,z+1), (y+1,z), (y,z+1),(y-1,z)]:\n",
    "                # check if still inside brain\n",
    "                if array_atlas_borders[x,yt,zt] != -2:\n",
    "                    # check if border (diagonals don't count)\n",
    "                    for (i,j) in [(-1,0), (0,1), (1,0), (0,-1)]:\n",
    "                        if array_atlas_borders[x,yt+j,zt+k] == -2:\n",
    "                            y,z = yt, zt\n",
    "                            l_x.append(x)\n",
    "                            l_y.append(y)\n",
    "                            l_z.append(z)\n",
    "                            up = True\n",
    "                            break\n",
    "                if up:\n",
    "                    break\n",
    "        ll_x.append(l_x)\n",
    "        ll_y.append(l_y)\n",
    "        ll_z.append(l_z)\n",
    "    \n",
    "    else:\n",
    "        # just go to next iteration, since no voxel was found in the current plane\n",
    "        pass\n",
    "                        \n",
    "          \n",
    "        \n",
    "array_x = np.array(ll_x)\n",
    "array_y = np.array(ll_y)\n",
    "array_z = np.array(ll_z)\n",
    "\n",
    "print(array_z)\n",
    "fig = go.Figure(data = go.Surface(x=x, y=y, z=z))\n",
    "fig.show()        \n",
    "            \n",
    "            \n",
    "            \n",
    "\n"
   ]
  },
  {
   "cell_type": "code",
   "execution_count": 7,
   "metadata": {},
   "outputs": [
    {
     "name": "stdout",
     "output_type": "stream",
     "text": [
      "[[-0.00000000e+00 -4.92814160e-02 -4.76246394e-02 -2.94956618e-02\n",
      "  -9.76412014e-03  9.76412014e-03  2.94956618e-02  4.76246394e-02\n",
      "   4.92814160e-02  2.44250885e-17]\n",
      " [-0.00000000e+00 -1.68113110e-01 -1.86510440e-01 -1.24848753e-01\n",
      "  -4.26578780e-02  4.26578780e-02  1.24848753e-01  1.86510440e-01\n",
      "   1.68113110e-01  7.54029406e-17]\n",
      " [-0.00000000e+00 -3.53216975e-01 -5.09310454e-01 -4.19785471e-01\n",
      "  -1.59265457e-01  1.59265457e-01  4.19785471e-01  5.09310454e-01\n",
      "   3.53216975e-01  1.37998773e-16]\n",
      " [-0.00000000e+00 -4.69243105e-01 -8.33110626e-01 -8.94119317e-01\n",
      "  -4.12458531e-01  4.12458531e-01  8.94119317e-01  8.33110626e-01\n",
      "   4.69243105e-01  1.69619954e-16]\n",
      " [-0.00000000e+00 -5.19116360e-01 -1.02340760e+00 -1.33546364e+00\n",
      "  -7.70898137e-01  7.70898137e-01  1.33546364e+00  1.02340760e+00\n",
      "   5.19116360e-01  1.81804106e-16]\n",
      " [-0.00000000e+00 -5.19116360e-01 -1.02340760e+00 -1.33546364e+00\n",
      "  -7.70898137e-01  7.70898137e-01  1.33546364e+00  1.02340760e+00\n",
      "   5.19116360e-01  1.81804106e-16]\n",
      " [-0.00000000e+00 -4.69243105e-01 -8.33110626e-01 -8.94119317e-01\n",
      "  -4.12458531e-01  4.12458531e-01  8.94119317e-01  8.33110626e-01\n",
      "   4.69243105e-01  1.69619954e-16]\n",
      " [-0.00000000e+00 -3.53216975e-01 -5.09310454e-01 -4.19785471e-01\n",
      "  -1.59265457e-01  1.59265457e-01  4.19785471e-01  5.09310454e-01\n",
      "   3.53216975e-01  1.37998773e-16]\n",
      " [-0.00000000e+00 -1.68113110e-01 -1.86510440e-01 -1.24848753e-01\n",
      "  -4.26578780e-02  4.26578780e-02  1.24848753e-01  1.86510440e-01\n",
      "   1.68113110e-01  7.54029406e-17]\n",
      " [-0.00000000e+00 -4.92814160e-02 -4.76246394e-02 -2.94956618e-02\n",
      "  -9.76412014e-03  9.76412014e-03  2.94956618e-02  4.76246394e-02\n",
      "   4.92814160e-02  2.44250885e-17]]\n"
     ]
    },
    {
     "data": {
      "application/vnd.plotly.v1+json": {
       "config": {
        "plotlyServerURL": "https://plot.ly"
       },
       "data": [
        {
         "colorbar": {
          "x": -0.07,
          "y": 0.5
         },
         "type": "surface",
         "x": [
          [
           0.931301939058172,
           1.0448409072019342,
           1.1842556918690283,
           1.254683065279092,
           1.2818198705466939,
           1.2818198705466939,
           1.254683065279092,
           1.1842556918690283,
           1.0448409072019342,
           0.931301939058172
          ],
          [
           0.7334352034676233,
           0.837095123494668,
           0.9985659498609857,
           1.0997785042748662,
           1.1432842182311413,
           1.1432842182311413,
           1.0997785042748662,
           0.9985659498609859,
           0.8370951234946681,
           0.7334352034676233
          ],
          [
           0.49047414096960423,
           0.5134899792829144,
           0.5669836620646908,
           0.620643088590041,
           0.6521786698394305,
           0.6521786698394305,
           0.6206430885900411,
           0.5669836620646909,
           0.5134899792829145,
           0.49047414096960423
          ],
          [
           0.3677388836329235,
           0.3106489831463154,
           0.13406416844670102,
           -0.14992947813822224,
           -0.41417160328086894,
           -0.41417160328086894,
           -0.14992947813822263,
           0.13406416844670097,
           0.3106489831463153,
           0.3677388836329235
          ],
          [
           0.3204470052545852,
           0.22345878813909908,
           -0.120362103868841,
           -0.8669093650386563,
           -1.9237791362363095,
           -1.92377913623631,
           -0.8669093650386573,
           -0.12036210386884134,
           0.22345878813909897,
           0.3204470052545852
          ],
          [
           0.32044700525458514,
           0.22345878813909903,
           -0.12036210386884107,
           -0.8669093650386566,
           -1.9237791362363095,
           -1.92377913623631,
           -0.8669093650386575,
           -0.12036210386884141,
           0.22345878813909892,
           0.32044700525458514
          ],
          [
           0.3677388836329234,
           0.3106489831463152,
           0.13406416844670072,
           -0.14992947813822322,
           -0.41417160328087044,
           -0.4141716032808705,
           -0.14992947813822355,
           0.13406416844670055,
           0.3106489831463153,
           0.3677388836329234
          ],
          [
           0.4904741409696041,
           0.5134899792829144,
           0.5669836620646904,
           0.6206430885900407,
           0.65217866983943,
           0.65217866983943,
           0.6206430885900407,
           0.5669836620646904,
           0.5134899792829144,
           0.4904741409696041
          ],
          [
           0.7334352034676231,
           0.837095123494668,
           0.9985659498609857,
           1.099778504274866,
           1.143284218231141,
           1.143284218231141,
           1.0997785042748665,
           0.9985659498609857,
           0.8370951234946679,
           0.7334352034676231
          ],
          [
           0.931301939058172,
           1.0448409072019342,
           1.1842556918690283,
           1.254683065279092,
           1.2818198705466939,
           1.2818198705466939,
           1.254683065279092,
           1.1842556918690283,
           1.0448409072019342,
           0.931301939058172
          ]
         ],
         "y": [
          [
           0,
           0,
           0,
           0,
           0,
           0,
           0,
           0,
           0,
           0
          ],
          [
           0.4449016724356855,
           0.5140054958456673,
           0.6216483675377417,
           0.689120679741583,
           0.7181233181169091,
           0.718123318116909,
           0.6891206797415831,
           0.6216483675377418,
           0.5140054958456673,
           0.4449016724356855
          ],
          [
           0.42994466099518525,
           0.5702552937523773,
           0.8963669207741433,
           1.223488965457863,
           1.415738202667214,
           1.415738202667214,
           1.2234889654578633,
           0.8963669207741436,
           0.5702552937523775,
           0.42994466099518525
          ],
          [
           0.26628028025538564,
           0.3817248104621683,
           0.7388063748175093,
           1.3130850621555308,
           1.8474231453877927,
           1.8474231453877927,
           1.3130850621555317,
           0.7388063748175098,
           0.38172481046216844,
           0.26628028025538564
          ],
          [
           0.08814830682944177,
           0.13042637617059155,
           0.2803011129743333,
           0.6057280340259967,
           1.0664274344289864,
           1.0664274344289864,
           0.6057280340259971,
           0.2803011129743335,
           0.13042637617059158,
           0.08814830682944177
          ],
          [
           -0.08814830682944172,
           -0.13042637617059147,
           -0.28030111297433313,
           -0.6057280340259963,
           -1.0664274344289857,
           -1.0664274344289857,
           -0.6057280340259967,
           -0.2803011129743333,
           -0.13042637617059152,
           -0.08814830682944172
          ],
          [
           -0.2662802802553854,
           -0.38172481046216805,
           -0.7388063748175091,
           -1.3130850621555308,
           -1.8474231453877927,
           -1.8474231453877927,
           -1.3130850621555314,
           -0.7388063748175093,
           -0.3817248104621682,
           -0.2662802802553854
          ],
          [
           -0.42994466099518514,
           -0.5702552937523773,
           -0.8963669207741434,
           -1.2234889654578633,
           -1.4157382026672143,
           -1.4157382026672143,
           -1.2234889654578633,
           -0.8963669207741437,
           -0.5702552937523774,
           -0.42994466099518514
          ],
          [
           -0.4449016724356856,
           -0.5140054958456676,
           -0.621648367537742,
           -0.6891206797415833,
           -0.7181233181169095,
           -0.7181233181169095,
           -0.6891206797415834,
           -0.6216483675377421,
           -0.5140054958456676,
           -0.4449016724356856
          ],
          [
           -2.2050427131462046e-16,
           -2.3054433899323693e-16,
           -2.428725633583292e-16,
           -2.4910034230527997e-16,
           -2.515000061909265e-16,
           -2.515000061909265e-16,
           -2.4910034230527997e-16,
           -2.4287256335832925e-16,
           -2.3054433899323693e-16,
           -2.2050427131462046e-16
          ]
         ],
         "z": [
          [
           0,
           -0.04928141602364506,
           -0.04762463937177426,
           -0.029495661812904188,
           -0.009764120141107375,
           0.009764120141107368,
           0.029495661812904167,
           0.047624639371774254,
           0.04928141602364506,
           2.4425088514850206e-17
          ],
          [
           0,
           -0.16811311014349356,
           -0.18651043964185224,
           -0.12484875283317777,
           -0.04265787801881185,
           0.042657878018811816,
           0.12484875283317767,
           0.18651043964185224,
           0.16811311014349362,
           7.540294056654619e-17
          ],
          [
           0,
           -0.35321697519601697,
           -0.509310454197225,
           -0.41978547133035304,
           -0.15926545687077692,
           0.15926545687077678,
           0.4197854713303529,
           0.5093104541972251,
           0.3532169751960172,
           1.3799877336977602e-16
          ],
          [
           0,
           -0.46924310471705927,
           -0.8331106257815403,
           -0.8941193167421848,
           -0.4124585310763066,
           0.4124585310763063,
           0.8941193167421847,
           0.8331106257815404,
           0.46924310471705954,
           1.6961995401624646e-16
          ],
          [
           0,
           -0.5191163603781564,
           -1.023407602115033,
           -1.3354636385111072,
           -0.7708981374116383,
           0.7708981374116378,
           1.3354636385111074,
           1.0234076021150333,
           0.5191163603781567,
           1.8180410600128018e-16
          ],
          [
           0,
           -0.5191163603781564,
           -1.023407602115033,
           -1.3354636385111072,
           -0.7708981374116383,
           0.7708981374116378,
           1.3354636385111074,
           1.0234076021150333,
           0.5191163603781567,
           1.8180410600128018e-16
          ],
          [
           0,
           -0.4692431047170594,
           -0.8331106257815406,
           -0.8941193167421855,
           -0.4124585310763069,
           0.41245853107630664,
           0.8941193167421853,
           0.8331106257815406,
           0.46924310471705966,
           1.696199540162465e-16
          ],
          [
           0,
           -0.3532169751960171,
           -0.5093104541972252,
           -0.4197854713303534,
           -0.159265456870777,
           0.15926545687077692,
           0.41978547133035315,
           0.5093104541972253,
           0.3532169751960173,
           1.3799877336977607e-16
          ],
          [
           0,
           -0.16811311014349367,
           -0.18651043964185243,
           -0.12484875283317788,
           -0.0426578780188119,
           0.04265787801881187,
           0.12484875283317781,
           0.1865104396418524,
           0.16811311014349373,
           7.540294056654624e-17
          ],
          [
           0,
           -0.04928141602364506,
           -0.04762463937177426,
           -0.029495661812904188,
           -0.009764120141107375,
           0.009764120141107368,
           0.029495661812904167,
           0.047624639371774254,
           0.04928141602364506,
           2.4425088514850206e-17
          ]
         ]
        }
       ],
       "layout": {
        "autosize": true,
        "scene": {
         "aspectmode": "auto",
         "aspectratio": {
          "x": 1.0135689943687085,
          "y": 1.1682626652192096,
          "z": 0.844512700582645
         }
        },
        "template": {
         "data": {
          "bar": [
           {
            "error_x": {
             "color": "#2a3f5f"
            },
            "error_y": {
             "color": "#2a3f5f"
            },
            "marker": {
             "line": {
              "color": "#E5ECF6",
              "width": 0.5
             },
             "pattern": {
              "fillmode": "overlay",
              "size": 10,
              "solidity": 0.2
             }
            },
            "type": "bar"
           }
          ],
          "barpolar": [
           {
            "marker": {
             "line": {
              "color": "#E5ECF6",
              "width": 0.5
             },
             "pattern": {
              "fillmode": "overlay",
              "size": 10,
              "solidity": 0.2
             }
            },
            "type": "barpolar"
           }
          ],
          "carpet": [
           {
            "aaxis": {
             "endlinecolor": "#2a3f5f",
             "gridcolor": "white",
             "linecolor": "white",
             "minorgridcolor": "white",
             "startlinecolor": "#2a3f5f"
            },
            "baxis": {
             "endlinecolor": "#2a3f5f",
             "gridcolor": "white",
             "linecolor": "white",
             "minorgridcolor": "white",
             "startlinecolor": "#2a3f5f"
            },
            "type": "carpet"
           }
          ],
          "choropleth": [
           {
            "colorbar": {
             "outlinewidth": 0,
             "ticks": ""
            },
            "type": "choropleth"
           }
          ],
          "contour": [
           {
            "colorbar": {
             "outlinewidth": 0,
             "ticks": ""
            },
            "colorscale": [
             [
              0,
              "#0d0887"
             ],
             [
              0.1111111111111111,
              "#46039f"
             ],
             [
              0.2222222222222222,
              "#7201a8"
             ],
             [
              0.3333333333333333,
              "#9c179e"
             ],
             [
              0.4444444444444444,
              "#bd3786"
             ],
             [
              0.5555555555555556,
              "#d8576b"
             ],
             [
              0.6666666666666666,
              "#ed7953"
             ],
             [
              0.7777777777777778,
              "#fb9f3a"
             ],
             [
              0.8888888888888888,
              "#fdca26"
             ],
             [
              1,
              "#f0f921"
             ]
            ],
            "type": "contour"
           }
          ],
          "contourcarpet": [
           {
            "colorbar": {
             "outlinewidth": 0,
             "ticks": ""
            },
            "type": "contourcarpet"
           }
          ],
          "heatmap": [
           {
            "colorbar": {
             "outlinewidth": 0,
             "ticks": ""
            },
            "colorscale": [
             [
              0,
              "#0d0887"
             ],
             [
              0.1111111111111111,
              "#46039f"
             ],
             [
              0.2222222222222222,
              "#7201a8"
             ],
             [
              0.3333333333333333,
              "#9c179e"
             ],
             [
              0.4444444444444444,
              "#bd3786"
             ],
             [
              0.5555555555555556,
              "#d8576b"
             ],
             [
              0.6666666666666666,
              "#ed7953"
             ],
             [
              0.7777777777777778,
              "#fb9f3a"
             ],
             [
              0.8888888888888888,
              "#fdca26"
             ],
             [
              1,
              "#f0f921"
             ]
            ],
            "type": "heatmap"
           }
          ],
          "heatmapgl": [
           {
            "colorbar": {
             "outlinewidth": 0,
             "ticks": ""
            },
            "colorscale": [
             [
              0,
              "#0d0887"
             ],
             [
              0.1111111111111111,
              "#46039f"
             ],
             [
              0.2222222222222222,
              "#7201a8"
             ],
             [
              0.3333333333333333,
              "#9c179e"
             ],
             [
              0.4444444444444444,
              "#bd3786"
             ],
             [
              0.5555555555555556,
              "#d8576b"
             ],
             [
              0.6666666666666666,
              "#ed7953"
             ],
             [
              0.7777777777777778,
              "#fb9f3a"
             ],
             [
              0.8888888888888888,
              "#fdca26"
             ],
             [
              1,
              "#f0f921"
             ]
            ],
            "type": "heatmapgl"
           }
          ],
          "histogram": [
           {
            "marker": {
             "pattern": {
              "fillmode": "overlay",
              "size": 10,
              "solidity": 0.2
             }
            },
            "type": "histogram"
           }
          ],
          "histogram2d": [
           {
            "colorbar": {
             "outlinewidth": 0,
             "ticks": ""
            },
            "colorscale": [
             [
              0,
              "#0d0887"
             ],
             [
              0.1111111111111111,
              "#46039f"
             ],
             [
              0.2222222222222222,
              "#7201a8"
             ],
             [
              0.3333333333333333,
              "#9c179e"
             ],
             [
              0.4444444444444444,
              "#bd3786"
             ],
             [
              0.5555555555555556,
              "#d8576b"
             ],
             [
              0.6666666666666666,
              "#ed7953"
             ],
             [
              0.7777777777777778,
              "#fb9f3a"
             ],
             [
              0.8888888888888888,
              "#fdca26"
             ],
             [
              1,
              "#f0f921"
             ]
            ],
            "type": "histogram2d"
           }
          ],
          "histogram2dcontour": [
           {
            "colorbar": {
             "outlinewidth": 0,
             "ticks": ""
            },
            "colorscale": [
             [
              0,
              "#0d0887"
             ],
             [
              0.1111111111111111,
              "#46039f"
             ],
             [
              0.2222222222222222,
              "#7201a8"
             ],
             [
              0.3333333333333333,
              "#9c179e"
             ],
             [
              0.4444444444444444,
              "#bd3786"
             ],
             [
              0.5555555555555556,
              "#d8576b"
             ],
             [
              0.6666666666666666,
              "#ed7953"
             ],
             [
              0.7777777777777778,
              "#fb9f3a"
             ],
             [
              0.8888888888888888,
              "#fdca26"
             ],
             [
              1,
              "#f0f921"
             ]
            ],
            "type": "histogram2dcontour"
           }
          ],
          "mesh3d": [
           {
            "colorbar": {
             "outlinewidth": 0,
             "ticks": ""
            },
            "type": "mesh3d"
           }
          ],
          "parcoords": [
           {
            "line": {
             "colorbar": {
              "outlinewidth": 0,
              "ticks": ""
             }
            },
            "type": "parcoords"
           }
          ],
          "pie": [
           {
            "automargin": true,
            "type": "pie"
           }
          ],
          "scatter": [
           {
            "marker": {
             "colorbar": {
              "outlinewidth": 0,
              "ticks": ""
             }
            },
            "type": "scatter"
           }
          ],
          "scatter3d": [
           {
            "line": {
             "colorbar": {
              "outlinewidth": 0,
              "ticks": ""
             }
            },
            "marker": {
             "colorbar": {
              "outlinewidth": 0,
              "ticks": ""
             }
            },
            "type": "scatter3d"
           }
          ],
          "scattercarpet": [
           {
            "marker": {
             "colorbar": {
              "outlinewidth": 0,
              "ticks": ""
             }
            },
            "type": "scattercarpet"
           }
          ],
          "scattergeo": [
           {
            "marker": {
             "colorbar": {
              "outlinewidth": 0,
              "ticks": ""
             }
            },
            "type": "scattergeo"
           }
          ],
          "scattergl": [
           {
            "marker": {
             "colorbar": {
              "outlinewidth": 0,
              "ticks": ""
             }
            },
            "type": "scattergl"
           }
          ],
          "scattermapbox": [
           {
            "marker": {
             "colorbar": {
              "outlinewidth": 0,
              "ticks": ""
             }
            },
            "type": "scattermapbox"
           }
          ],
          "scatterpolar": [
           {
            "marker": {
             "colorbar": {
              "outlinewidth": 0,
              "ticks": ""
             }
            },
            "type": "scatterpolar"
           }
          ],
          "scatterpolargl": [
           {
            "marker": {
             "colorbar": {
              "outlinewidth": 0,
              "ticks": ""
             }
            },
            "type": "scatterpolargl"
           }
          ],
          "scatterternary": [
           {
            "marker": {
             "colorbar": {
              "outlinewidth": 0,
              "ticks": ""
             }
            },
            "type": "scatterternary"
           }
          ],
          "surface": [
           {
            "colorbar": {
             "outlinewidth": 0,
             "ticks": ""
            },
            "colorscale": [
             [
              0,
              "#0d0887"
             ],
             [
              0.1111111111111111,
              "#46039f"
             ],
             [
              0.2222222222222222,
              "#7201a8"
             ],
             [
              0.3333333333333333,
              "#9c179e"
             ],
             [
              0.4444444444444444,
              "#bd3786"
             ],
             [
              0.5555555555555556,
              "#d8576b"
             ],
             [
              0.6666666666666666,
              "#ed7953"
             ],
             [
              0.7777777777777778,
              "#fb9f3a"
             ],
             [
              0.8888888888888888,
              "#fdca26"
             ],
             [
              1,
              "#f0f921"
             ]
            ],
            "type": "surface"
           }
          ],
          "table": [
           {
            "cells": {
             "fill": {
              "color": "#EBF0F8"
             },
             "line": {
              "color": "white"
             }
            },
            "header": {
             "fill": {
              "color": "#C8D4E3"
             },
             "line": {
              "color": "white"
             }
            },
            "type": "table"
           }
          ]
         },
         "layout": {
          "annotationdefaults": {
           "arrowcolor": "#2a3f5f",
           "arrowhead": 0,
           "arrowwidth": 1
          },
          "autotypenumbers": "strict",
          "coloraxis": {
           "colorbar": {
            "outlinewidth": 0,
            "ticks": ""
           }
          },
          "colorscale": {
           "diverging": [
            [
             0,
             "#8e0152"
            ],
            [
             0.1,
             "#c51b7d"
            ],
            [
             0.2,
             "#de77ae"
            ],
            [
             0.3,
             "#f1b6da"
            ],
            [
             0.4,
             "#fde0ef"
            ],
            [
             0.5,
             "#f7f7f7"
            ],
            [
             0.6,
             "#e6f5d0"
            ],
            [
             0.7,
             "#b8e186"
            ],
            [
             0.8,
             "#7fbc41"
            ],
            [
             0.9,
             "#4d9221"
            ],
            [
             1,
             "#276419"
            ]
           ],
           "sequential": [
            [
             0,
             "#0d0887"
            ],
            [
             0.1111111111111111,
             "#46039f"
            ],
            [
             0.2222222222222222,
             "#7201a8"
            ],
            [
             0.3333333333333333,
             "#9c179e"
            ],
            [
             0.4444444444444444,
             "#bd3786"
            ],
            [
             0.5555555555555556,
             "#d8576b"
            ],
            [
             0.6666666666666666,
             "#ed7953"
            ],
            [
             0.7777777777777778,
             "#fb9f3a"
            ],
            [
             0.8888888888888888,
             "#fdca26"
            ],
            [
             1,
             "#f0f921"
            ]
           ],
           "sequentialminus": [
            [
             0,
             "#0d0887"
            ],
            [
             0.1111111111111111,
             "#46039f"
            ],
            [
             0.2222222222222222,
             "#7201a8"
            ],
            [
             0.3333333333333333,
             "#9c179e"
            ],
            [
             0.4444444444444444,
             "#bd3786"
            ],
            [
             0.5555555555555556,
             "#d8576b"
            ],
            [
             0.6666666666666666,
             "#ed7953"
            ],
            [
             0.7777777777777778,
             "#fb9f3a"
            ],
            [
             0.8888888888888888,
             "#fdca26"
            ],
            [
             1,
             "#f0f921"
            ]
           ]
          },
          "colorway": [
           "#636efa",
           "#EF553B",
           "#00cc96",
           "#ab63fa",
           "#FFA15A",
           "#19d3f3",
           "#FF6692",
           "#B6E880",
           "#FF97FF",
           "#FECB52"
          ],
          "font": {
           "color": "#2a3f5f"
          },
          "geo": {
           "bgcolor": "white",
           "lakecolor": "white",
           "landcolor": "#E5ECF6",
           "showlakes": true,
           "showland": true,
           "subunitcolor": "white"
          },
          "hoverlabel": {
           "align": "left"
          },
          "hovermode": "closest",
          "mapbox": {
           "style": "light"
          },
          "paper_bgcolor": "white",
          "plot_bgcolor": "#E5ECF6",
          "polar": {
           "angularaxis": {
            "gridcolor": "white",
            "linecolor": "white",
            "ticks": ""
           },
           "bgcolor": "#E5ECF6",
           "radialaxis": {
            "gridcolor": "white",
            "linecolor": "white",
            "ticks": ""
           }
          },
          "scene": {
           "xaxis": {
            "backgroundcolor": "#E5ECF6",
            "gridcolor": "white",
            "gridwidth": 2,
            "linecolor": "white",
            "showbackground": true,
            "ticks": "",
            "zerolinecolor": "white"
           },
           "yaxis": {
            "backgroundcolor": "#E5ECF6",
            "gridcolor": "white",
            "gridwidth": 2,
            "linecolor": "white",
            "showbackground": true,
            "ticks": "",
            "zerolinecolor": "white"
           },
           "zaxis": {
            "backgroundcolor": "#E5ECF6",
            "gridcolor": "white",
            "gridwidth": 2,
            "linecolor": "white",
            "showbackground": true,
            "ticks": "",
            "zerolinecolor": "white"
           }
          },
          "shapedefaults": {
           "line": {
            "color": "#2a3f5f"
           }
          },
          "ternary": {
           "aaxis": {
            "gridcolor": "white",
            "linecolor": "white",
            "ticks": ""
           },
           "baxis": {
            "gridcolor": "white",
            "linecolor": "white",
            "ticks": ""
           },
           "bgcolor": "#E5ECF6",
           "caxis": {
            "gridcolor": "white",
            "linecolor": "white",
            "ticks": ""
           }
          },
          "title": {
           "x": 0.05
          },
          "xaxis": {
           "automargin": true,
           "gridcolor": "white",
           "linecolor": "white",
           "ticks": "",
           "title": {
            "standoff": 15
           },
           "zerolinecolor": "white",
           "zerolinewidth": 2
          },
          "yaxis": {
           "automargin": true,
           "gridcolor": "white",
           "linecolor": "white",
           "ticks": "",
           "title": {
            "standoff": 15
           },
           "zerolinecolor": "white",
           "zerolinewidth": 2
          }
         }
        }
       }
      },
      "image/png": "[encoded data removed]",
      "text/html": [
       "<div>                            <div id=\"f7a24d9f-471b-4e06-b8eb-82c1e54f9482\" class=\"plotly-graph-div\" style=\"height:525px; width:100%;\"></div>            <script type=\"text/javascript\">                require([\"plotly\"], function(Plotly) {                    window.PLOTLYENV=window.PLOTLYENV || {};                                    if (document.getElementById(\"f7a24d9f-471b-4e06-b8eb-82c1e54f9482\")) {                    Plotly.newPlot(                        \"f7a24d9f-471b-4e06-b8eb-82c1e54f9482\",                        [{\"colorbar\":{\"x\":-0.07},\"x\":[[0.931301939058172,1.0448409072019342,1.1842556918690283,1.254683065279092,1.2818198705466939,1.2818198705466939,1.254683065279092,1.1842556918690283,1.0448409072019342,0.931301939058172],[0.7334352034676233,0.837095123494668,0.9985659498609857,1.0997785042748662,1.1432842182311413,1.1432842182311413,1.0997785042748662,0.9985659498609859,0.8370951234946681,0.7334352034676233],[0.49047414096960423,0.5134899792829144,0.5669836620646908,0.620643088590041,0.6521786698394305,0.6521786698394305,0.6206430885900411,0.5669836620646909,0.5134899792829145,0.49047414096960423],[0.3677388836329235,0.3106489831463154,0.13406416844670102,-0.14992947813822224,-0.41417160328086894,-0.41417160328086894,-0.14992947813822263,0.13406416844670097,0.3106489831463153,0.3677388836329235],[0.3204470052545852,0.22345878813909908,-0.120362103868841,-0.8669093650386563,-1.9237791362363095,-1.92377913623631,-0.8669093650386573,-0.12036210386884134,0.22345878813909897,0.3204470052545852],[0.32044700525458514,0.22345878813909903,-0.12036210386884107,-0.8669093650386566,-1.9237791362363095,-1.92377913623631,-0.8669093650386575,-0.12036210386884141,0.22345878813909892,0.32044700525458514],[0.3677388836329234,0.3106489831463152,0.13406416844670072,-0.14992947813822322,-0.41417160328087044,-0.4141716032808705,-0.14992947813822355,0.13406416844670055,0.3106489831463153,0.3677388836329234],[0.4904741409696041,0.5134899792829144,0.5669836620646904,0.6206430885900407,0.65217866983943,0.65217866983943,0.6206430885900407,0.5669836620646904,0.5134899792829144,0.4904741409696041],[0.7334352034676231,0.837095123494668,0.9985659498609857,1.099778504274866,1.143284218231141,1.143284218231141,1.0997785042748665,0.9985659498609857,0.8370951234946679,0.7334352034676231],[0.931301939058172,1.0448409072019342,1.1842556918690283,1.254683065279092,1.2818198705466939,1.2818198705466939,1.254683065279092,1.1842556918690283,1.0448409072019342,0.931301939058172]],\"y\":[[0.0,0.0,0.0,0.0,0.0,0.0,0.0,0.0,0.0,0.0],[0.4449016724356855,0.5140054958456673,0.6216483675377417,0.689120679741583,0.7181233181169091,0.718123318116909,0.6891206797415831,0.6216483675377418,0.5140054958456673,0.4449016724356855],[0.42994466099518525,0.5702552937523773,0.8963669207741433,1.223488965457863,1.415738202667214,1.415738202667214,1.2234889654578633,0.8963669207741436,0.5702552937523775,0.42994466099518525],[0.26628028025538564,0.3817248104621683,0.7388063748175093,1.3130850621555308,1.8474231453877927,1.8474231453877927,1.3130850621555317,0.7388063748175098,0.38172481046216844,0.26628028025538564],[0.08814830682944177,0.13042637617059155,0.2803011129743333,0.6057280340259967,1.0664274344289864,1.0664274344289864,0.6057280340259971,0.2803011129743335,0.13042637617059158,0.08814830682944177],[-0.08814830682944172,-0.13042637617059147,-0.28030111297433313,-0.6057280340259963,-1.0664274344289857,-1.0664274344289857,-0.6057280340259967,-0.2803011129743333,-0.13042637617059152,-0.08814830682944172],[-0.2662802802553854,-0.38172481046216805,-0.7388063748175091,-1.3130850621555308,-1.8474231453877927,-1.8474231453877927,-1.3130850621555314,-0.7388063748175093,-0.3817248104621682,-0.2662802802553854],[-0.42994466099518514,-0.5702552937523773,-0.8963669207741434,-1.2234889654578633,-1.4157382026672143,-1.4157382026672143,-1.2234889654578633,-0.8963669207741437,-0.5702552937523774,-0.42994466099518514],[-0.4449016724356856,-0.5140054958456676,-0.621648367537742,-0.6891206797415833,-0.7181233181169095,-0.7181233181169095,-0.6891206797415834,-0.6216483675377421,-0.5140054958456676,-0.4449016724356856],[-2.2050427131462046e-16,-2.3054433899323693e-16,-2.428725633583292e-16,-2.4910034230527997e-16,-2.515000061909265e-16,-2.515000061909265e-16,-2.4910034230527997e-16,-2.4287256335832925e-16,-2.3054433899323693e-16,-2.2050427131462046e-16]],\"z\":[[-0.0,-0.04928141602364506,-0.04762463937177426,-0.029495661812904188,-0.009764120141107375,0.009764120141107368,0.029495661812904167,0.047624639371774254,0.04928141602364506,2.4425088514850206e-17],[-0.0,-0.16811311014349356,-0.18651043964185224,-0.12484875283317777,-0.04265787801881185,0.042657878018811816,0.12484875283317767,0.18651043964185224,0.16811311014349362,7.540294056654619e-17],[-0.0,-0.35321697519601697,-0.509310454197225,-0.41978547133035304,-0.15926545687077692,0.15926545687077678,0.4197854713303529,0.5093104541972251,0.3532169751960172,1.3799877336977602e-16],[-0.0,-0.46924310471705927,-0.8331106257815403,-0.8941193167421848,-0.4124585310763066,0.4124585310763063,0.8941193167421847,0.8331106257815404,0.46924310471705954,1.6961995401624646e-16],[-0.0,-0.5191163603781564,-1.023407602115033,-1.3354636385111072,-0.7708981374116383,0.7708981374116378,1.3354636385111074,1.0234076021150333,0.5191163603781567,1.8180410600128018e-16],[-0.0,-0.5191163603781564,-1.023407602115033,-1.3354636385111072,-0.7708981374116383,0.7708981374116378,1.3354636385111074,1.0234076021150333,0.5191163603781567,1.8180410600128018e-16],[-0.0,-0.4692431047170594,-0.8331106257815406,-0.8941193167421855,-0.4124585310763069,0.41245853107630664,0.8941193167421853,0.8331106257815406,0.46924310471705966,1.696199540162465e-16],[-0.0,-0.3532169751960171,-0.5093104541972252,-0.4197854713303534,-0.159265456870777,0.15926545687077692,0.41978547133035315,0.5093104541972253,0.3532169751960173,1.3799877336977607e-16],[-0.0,-0.16811311014349367,-0.18651043964185243,-0.12484875283317788,-0.0426578780188119,0.04265787801881187,0.12484875283317781,0.1865104396418524,0.16811311014349373,7.540294056654624e-17],[-0.0,-0.04928141602364506,-0.04762463937177426,-0.029495661812904188,-0.009764120141107375,0.009764120141107368,0.029495661812904167,0.047624639371774254,0.04928141602364506,2.4425088514850206e-17]],\"type\":\"surface\"}],                        {\"template\":{\"data\":{\"bar\":[{\"error_x\":{\"color\":\"#2a3f5f\"},\"error_y\":{\"color\":\"#2a3f5f\"},\"marker\":{\"line\":{\"color\":\"#E5ECF6\",\"width\":0.5},\"pattern\":{\"fillmode\":\"overlay\",\"size\":10,\"solidity\":0.2}},\"type\":\"bar\"}],\"barpolar\":[{\"marker\":{\"line\":{\"color\":\"#E5ECF6\",\"width\":0.5},\"pattern\":{\"fillmode\":\"overlay\",\"size\":10,\"solidity\":0.2}},\"type\":\"barpolar\"}],\"carpet\":[{\"aaxis\":{\"endlinecolor\":\"#2a3f5f\",\"gridcolor\":\"white\",\"linecolor\":\"white\",\"minorgridcolor\":\"white\",\"startlinecolor\":\"#2a3f5f\"},\"baxis\":{\"endlinecolor\":\"#2a3f5f\",\"gridcolor\":\"white\",\"linecolor\":\"white\",\"minorgridcolor\":\"white\",\"startlinecolor\":\"#2a3f5f\"},\"type\":\"carpet\"}],\"choropleth\":[{\"colorbar\":{\"outlinewidth\":0,\"ticks\":\"\"},\"type\":\"choropleth\"}],\"contour\":[{\"colorbar\":{\"outlinewidth\":0,\"ticks\":\"\"},\"colorscale\":[[0.0,\"#0d0887\"],[0.1111111111111111,\"#46039f\"],[0.2222222222222222,\"#7201a8\"],[0.3333333333333333,\"#9c179e\"],[0.4444444444444444,\"#bd3786\"],[0.5555555555555556,\"#d8576b\"],[0.6666666666666666,\"#ed7953\"],[0.7777777777777778,\"#fb9f3a\"],[0.8888888888888888,\"#fdca26\"],[1.0,\"#f0f921\"]],\"type\":\"contour\"}],\"contourcarpet\":[{\"colorbar\":{\"outlinewidth\":0,\"ticks\":\"\"},\"type\":\"contourcarpet\"}],\"heatmap\":[{\"colorbar\":{\"outlinewidth\":0,\"ticks\":\"\"},\"colorscale\":[[0.0,\"#0d0887\"],[0.1111111111111111,\"#46039f\"],[0.2222222222222222,\"#7201a8\"],[0.3333333333333333,\"#9c179e\"],[0.4444444444444444,\"#bd3786\"],[0.5555555555555556,\"#d8576b\"],[0.6666666666666666,\"#ed7953\"],[0.7777777777777778,\"#fb9f3a\"],[0.8888888888888888,\"#fdca26\"],[1.0,\"#f0f921\"]],\"type\":\"heatmap\"}],\"heatmapgl\":[{\"colorbar\":{\"outlinewidth\":0,\"ticks\":\"\"},\"colorscale\":[[0.0,\"#0d0887\"],[0.1111111111111111,\"#46039f\"],[0.2222222222222222,\"#7201a8\"],[0.3333333333333333,\"#9c179e\"],[0.4444444444444444,\"#bd3786\"],[0.5555555555555556,\"#d8576b\"],[0.6666666666666666,\"#ed7953\"],[0.7777777777777778,\"#fb9f3a\"],[0.8888888888888888,\"#fdca26\"],[1.0,\"#f0f921\"]],\"type\":\"heatmapgl\"}],\"histogram\":[{\"marker\":{\"pattern\":{\"fillmode\":\"overlay\",\"size\":10,\"solidity\":0.2}},\"type\":\"histogram\"}],\"histogram2d\":[{\"colorbar\":{\"outlinewidth\":0,\"ticks\":\"\"},\"colorscale\":[[0.0,\"#0d0887\"],[0.1111111111111111,\"#46039f\"],[0.2222222222222222,\"#7201a8\"],[0.3333333333333333,\"#9c179e\"],[0.4444444444444444,\"#bd3786\"],[0.5555555555555556,\"#d8576b\"],[0.6666666666666666,\"#ed7953\"],[0.7777777777777778,\"#fb9f3a\"],[0.8888888888888888,\"#fdca26\"],[1.0,\"#f0f921\"]],\"type\":\"histogram2d\"}],\"histogram2dcontour\":[{\"colorbar\":{\"outlinewidth\":0,\"ticks\":\"\"},\"colorscale\":[[0.0,\"#0d0887\"],[0.1111111111111111,\"#46039f\"],[0.2222222222222222,\"#7201a8\"],[0.3333333333333333,\"#9c179e\"],[0.4444444444444444,\"#bd3786\"],[0.5555555555555556,\"#d8576b\"],[0.6666666666666666,\"#ed7953\"],[0.7777777777777778,\"#fb9f3a\"],[0.8888888888888888,\"#fdca26\"],[1.0,\"#f0f921\"]],\"type\":\"histogram2dcontour\"}],\"mesh3d\":[{\"colorbar\":{\"outlinewidth\":0,\"ticks\":\"\"},\"type\":\"mesh3d\"}],\"parcoords\":[{\"line\":{\"colorbar\":{\"outlinewidth\":0,\"ticks\":\"\"}},\"type\":\"parcoords\"}],\"pie\":[{\"automargin\":true,\"type\":\"pie\"}],\"scatter\":[{\"marker\":{\"colorbar\":{\"outlinewidth\":0,\"ticks\":\"\"}},\"type\":\"scatter\"}],\"scatter3d\":[{\"line\":{\"colorbar\":{\"outlinewidth\":0,\"ticks\":\"\"}},\"marker\":{\"colorbar\":{\"outlinewidth\":0,\"ticks\":\"\"}},\"type\":\"scatter3d\"}],\"scattercarpet\":[{\"marker\":{\"colorbar\":{\"outlinewidth\":0,\"ticks\":\"\"}},\"type\":\"scattercarpet\"}],\"scattergeo\":[{\"marker\":{\"colorbar\":{\"outlinewidth\":0,\"ticks\":\"\"}},\"type\":\"scattergeo\"}],\"scattergl\":[{\"marker\":{\"colorbar\":{\"outlinewidth\":0,\"ticks\":\"\"}},\"type\":\"scattergl\"}],\"scattermapbox\":[{\"marker\":{\"colorbar\":{\"outlinewidth\":0,\"ticks\":\"\"}},\"type\":\"scattermapbox\"}],\"scatterpolar\":[{\"marker\":{\"colorbar\":{\"outlinewidth\":0,\"ticks\":\"\"}},\"type\":\"scatterpolar\"}],\"scatterpolargl\":[{\"marker\":{\"colorbar\":{\"outlinewidth\":0,\"ticks\":\"\"}},\"type\":\"scatterpolargl\"}],\"scatterternary\":[{\"marker\":{\"colorbar\":{\"outlinewidth\":0,\"ticks\":\"\"}},\"type\":\"scatterternary\"}],\"surface\":[{\"colorbar\":{\"outlinewidth\":0,\"ticks\":\"\"},\"colorscale\":[[0.0,\"#0d0887\"],[0.1111111111111111,\"#46039f\"],[0.2222222222222222,\"#7201a8\"],[0.3333333333333333,\"#9c179e\"],[0.4444444444444444,\"#bd3786\"],[0.5555555555555556,\"#d8576b\"],[0.6666666666666666,\"#ed7953\"],[0.7777777777777778,\"#fb9f3a\"],[0.8888888888888888,\"#fdca26\"],[1.0,\"#f0f921\"]],\"type\":\"surface\"}],\"table\":[{\"cells\":{\"fill\":{\"color\":\"#EBF0F8\"},\"line\":{\"color\":\"white\"}},\"header\":{\"fill\":{\"color\":\"#C8D4E3\"},\"line\":{\"color\":\"white\"}},\"type\":\"table\"}]},\"layout\":{\"annotationdefaults\":{\"arrowcolor\":\"#2a3f5f\",\"arrowhead\":0,\"arrowwidth\":1},\"autotypenumbers\":\"strict\",\"coloraxis\":{\"colorbar\":{\"outlinewidth\":0,\"ticks\":\"\"}},\"colorscale\":{\"diverging\":[[0,\"#8e0152\"],[0.1,\"#c51b7d\"],[0.2,\"#de77ae\"],[0.3,\"#f1b6da\"],[0.4,\"#fde0ef\"],[0.5,\"#f7f7f7\"],[0.6,\"#e6f5d0\"],[0.7,\"#b8e186\"],[0.8,\"#7fbc41\"],[0.9,\"#4d9221\"],[1,\"#276419\"]],\"sequential\":[[0.0,\"#0d0887\"],[0.1111111111111111,\"#46039f\"],[0.2222222222222222,\"#7201a8\"],[0.3333333333333333,\"#9c179e\"],[0.4444444444444444,\"#bd3786\"],[0.5555555555555556,\"#d8576b\"],[0.6666666666666666,\"#ed7953\"],[0.7777777777777778,\"#fb9f3a\"],[0.8888888888888888,\"#fdca26\"],[1.0,\"#f0f921\"]],\"sequentialminus\":[[0.0,\"#0d0887\"],[0.1111111111111111,\"#46039f\"],[0.2222222222222222,\"#7201a8\"],[0.3333333333333333,\"#9c179e\"],[0.4444444444444444,\"#bd3786\"],[0.5555555555555556,\"#d8576b\"],[0.6666666666666666,\"#ed7953\"],[0.7777777777777778,\"#fb9f3a\"],[0.8888888888888888,\"#fdca26\"],[1.0,\"#f0f921\"]]},\"colorway\":[\"#636efa\",\"#EF553B\",\"#00cc96\",\"#ab63fa\",\"#FFA15A\",\"#19d3f3\",\"#FF6692\",\"#B6E880\",\"#FF97FF\",\"#FECB52\"],\"font\":{\"color\":\"#2a3f5f\"},\"geo\":{\"bgcolor\":\"white\",\"lakecolor\":\"white\",\"landcolor\":\"#E5ECF6\",\"showlakes\":true,\"showland\":true,\"subunitcolor\":\"white\"},\"hoverlabel\":{\"align\":\"left\"},\"hovermode\":\"closest\",\"mapbox\":{\"style\":\"light\"},\"paper_bgcolor\":\"white\",\"plot_bgcolor\":\"#E5ECF6\",\"polar\":{\"angularaxis\":{\"gridcolor\":\"white\",\"linecolor\":\"white\",\"ticks\":\"\"},\"bgcolor\":\"#E5ECF6\",\"radialaxis\":{\"gridcolor\":\"white\",\"linecolor\":\"white\",\"ticks\":\"\"}},\"scene\":{\"xaxis\":{\"backgroundcolor\":\"#E5ECF6\",\"gridcolor\":\"white\",\"gridwidth\":2,\"linecolor\":\"white\",\"showbackground\":true,\"ticks\":\"\",\"zerolinecolor\":\"white\"},\"yaxis\":{\"backgroundcolor\":\"#E5ECF6\",\"gridcolor\":\"white\",\"gridwidth\":2,\"linecolor\":\"white\",\"showbackground\":true,\"ticks\":\"\",\"zerolinecolor\":\"white\"},\"zaxis\":{\"backgroundcolor\":\"#E5ECF6\",\"gridcolor\":\"white\",\"gridwidth\":2,\"linecolor\":\"white\",\"showbackground\":true,\"ticks\":\"\",\"zerolinecolor\":\"white\"}},\"shapedefaults\":{\"line\":{\"color\":\"#2a3f5f\"}},\"ternary\":{\"aaxis\":{\"gridcolor\":\"white\",\"linecolor\":\"white\",\"ticks\":\"\"},\"baxis\":{\"gridcolor\":\"white\",\"linecolor\":\"white\",\"ticks\":\"\"},\"bgcolor\":\"#E5ECF6\",\"caxis\":{\"gridcolor\":\"white\",\"linecolor\":\"white\",\"ticks\":\"\"}},\"title\":{\"x\":0.05},\"xaxis\":{\"automargin\":true,\"gridcolor\":\"white\",\"linecolor\":\"white\",\"ticks\":\"\",\"title\":{\"standoff\":15},\"zerolinecolor\":\"white\",\"zerolinewidth\":2},\"yaxis\":{\"automargin\":true,\"gridcolor\":\"white\",\"linecolor\":\"white\",\"ticks\":\"\",\"title\":{\"standoff\":15},\"zerolinecolor\":\"white\",\"zerolinewidth\":2}}}},                        {\"responsive\": true}                    ).then(function(){\n",
       "                            \n",
       "var gd = document.getElementById('f7a24d9f-471b-4e06-b8eb-82c1e54f9482');\n",
       "var x = new MutationObserver(function (mutations, observer) {{\n",
       "        var display = window.getComputedStyle(gd).display;\n",
       "        if (!display || display === 'none') {{\n",
       "            console.log([gd, 'removed!']);\n",
       "            Plotly.purge(gd);\n",
       "            observer.disconnect();\n",
       "        }}\n",
       "}});\n",
       "\n",
       "// Listen for the removal of the full notebook cells\n",
       "var notebookContainer = gd.closest('#notebook-container');\n",
       "if (notebookContainer) {{\n",
       "    x.observe(notebookContainer, {childList: true});\n",
       "}}\n",
       "\n",
       "// Listen for the clearing of the current output cell\n",
       "var outputEl = gd.closest('.output');\n",
       "if (outputEl) {{\n",
       "    x.observe(outputEl, {childList: true});\n",
       "}}\n",
       "\n",
       "                        })                };                });            </script>        </div>"
      ]
     },
     "metadata": {},
     "output_type": "display_data"
    }
   ],
   "source": [
    "a, b, d = 1.32, 1., 0.8\n",
    "c = a**2 - b**2\n",
    "u, v = np.mgrid[0:2*np.pi:10j, 0:2*np.pi:10j]\n",
    "x = (d * (c - a * np.cos(u) * np.cos(v)) + b**2 * np.cos(u)) / (a - c * np.cos(u) * np.cos(v))\n",
    "y = b * np.sin(u) * (a - d*np.cos(v)) / (a - c * np.cos(u) * np.cos(v))\n",
    "z = b * np.sin(v) * (c*np.cos(u) - d) / (a - c * np.cos(u) * np.cos(v))\n",
    "\n",
    "#print(x)\n",
    "#print(y)\n",
    "print(z)\n",
    "fig = go.Figure(data = go.Surface(x=x, y=y, z=z, colorbar_x=-0.07))\n",
    "fig.show()"
   ]
  },
  {
   "cell_type": "code",
   "execution_count": null,
   "metadata": {},
   "outputs": [],
   "source": [
    "# # Get list of coordinates corresponding to a surface\n",
    "# bool_coor = np.logical_or(array_atlas_borders==-0.1, array_atlas_borders==-0.2)\n",
    "# X, Y, Z = np.mgrid[\n",
    "#      0 : array_atlas_borders.shape[0]/1000*25 : array_atlas_borders.shape[0] * 1j,\n",
    "#      0 : array_atlas_borders.shape[1]/1000*25 : array_atlas_borders.shape[1] * 1j,\n",
    "#      0 : array_atlas_borders.shape[2]/1000*25 : array_atlas_borders.shape[2] * 1j,\n",
    "# ]\n",
    "# array_atlas_borders = array_atlas_borders[bool_coor]\n",
    "# X = X[bool_coor]\n",
    "# Y = Y[bool_coor]\n",
    "# Z = Z[bool_coor]\n",
    "\n",
    "#fig = go.Figure(data=[go.Mesh3d(x=X, y=Y, z=Z, alphahull=1,color='lightpink', opacity=0.50)])\n",
    "#fig.show()\n",
    "\n",
    "# from scipy.spatial import Delaunay\n",
    "# import plotly.figure_factory as ff\n",
    "\n",
    "# points2D = np.vstack([X,Y]).T\n",
    "# tri = Delaunay(points2D)\n",
    "# simplices = tri.simplices\n",
    "\n",
    "# fig = ff.create_trisurf(x=X, y=Y, z=Z,\n",
    "#                          simplices=simplices)\n",
    "# fig.show()"
   ]
  },
  {
   "cell_type": "code",
   "execution_count": null,
   "metadata": {},
   "outputs": [],
   "source": [
    "X, Y, Z = np.mgrid[\n",
    "      0 : array_atlas_borders.shape[0]/1000*25 : array_atlas_borders.shape[0] * 1j,\n",
    "      0 : array_atlas_borders.shape[1]/1000*25 : array_atlas_borders.shape[1] * 1j,\n",
    "      0 : array_atlas_borders.shape[2]/1000*25 : array_atlas_borders.shape[2] * 1j,\n",
    "]\n",
    "\n",
    "\n",
    "plot_fig = False\n",
    "if plot_fig:\n",
    "    fig = go.Figure(\n",
    "        data=go.Isosurface(\n",
    "            x=X.flatten(),#[[1,2,3], [1,2,3], [1,2,3]],\n",
    "            y=Y.flatten(),#[[1,2,3], [1,2,3], [1,2,3]],\n",
    "            z=Z.flatten(),#[[1,1,1], [2,2,2], [3,3,3]],\n",
    "            value=array_atlas_borders.flatten(),\n",
    "            isomin=-0.21,\n",
    "            isomax=2.55,\n",
    "            opacity=0.1,  # max opacity\n",
    "            #opacityscale=[[-0.0, 0], [1., 1]],\n",
    "            #opacityscale = \"uniform\",\n",
    "            surface_count=2,\n",
    "            #colorscale='Bluyl'#colorscale,\n",
    "        )\n",
    "    )\n",
    "\n",
    "    fig.update_layout(\n",
    "        margin=dict(t=0, r=0, b=0, l=0),\n",
    "        scene=dict(\n",
    "            xaxis=dict(backgroundcolor=\"rgba(0,0,0,0)\", color=\"grey\", gridcolor=\"grey\"),\n",
    "            yaxis=dict(backgroundcolor=\"rgba(0,0,0,0)\", color=\"grey\", gridcolor=\"grey\"),\n",
    "            zaxis=dict(backgroundcolor=\"rgba(0,0,0,0)\", color=\"grey\", gridcolor=\"grey\"),\n",
    "        ),\n",
    "    )\n",
    "    fig.show()"
   ]
  },
  {
   "cell_type": "code",
   "execution_count": null,
   "metadata": {},
   "outputs": [],
   "source": [
    "ll_t_bounds = [\n",
    "    [None, None, None],\n",
    "    [[(759.6073, 759.6117)], None, None],\n",
    "    [[(759.6071000000001, 759.6112)], None, None],\n",
    "    [[(759.6068, 759.6106000000001)], None, None],\n",
    "    [[(759.6069, 759.6111000000001)], None, None],\n",
    "    [[(759.6064, 759.6108)], None, None],\n",
    "    [[(759.6066000000001, 759.611)], None, None],\n",
    "    [[(759.6067, 759.611)], None, None],\n",
    "    [[(759.6066000000001, 759.611)], None, None],\n",
    "    [[(759.6067, 759.6111000000001)], None, None],\n",
    "    [[(759.6067, 759.6115000000001)], None, None],\n",
    "    [[(759.6067, 759.611)], None, None],\n",
    "    [[(759.6066000000001, 759.6111000000001)], None, None],\n",
    "    [[(759.6067, 759.6112)], None, None],\n",
    "    [[(759.6069, 759.6111000000001)], None, None],\n",
    "    [[(759.6070000000001, 759.6111000000001)], None, None],\n",
    "    [[(759.6069, 759.6112)], None, None],\n",
    "    [[(759.6069, 759.611)], None, None],\n",
    "    [[(759.6064, 759.611)], None, None],\n",
    "    [[(759.6066117365762, 759.6111773745573)], None, None],\n",
    "    [[(759.6067594505706, 759.6111700259931)], None, None],\n",
    "    [[(759.6064842656122, 759.6111548755334)], None, None],\n",
    "    [[(759.6074, 759.6112)], None, None],\n",
    "    [[(759.6067, 759.6109)], None, None],\n",
    "    [[(759.6067, 759.611)], None, None],\n",
    "    [[(759.6067, 759.611)], None, None],\n",
    "    [[(759.6067, 759.6115000000001)], None, None],\n",
    "    [[(759.6068, 759.6114)], None, None],\n",
    "    [[(759.6073, 759.6114)], None, None],\n",
    "    [[(759.6071000000001, 759.6113)], None, None],\n",
    "    [None, None, None],\n",
    "    [[(759.6069, 759.6112)], None, None],\n",
    "]\n",
    "array_x, array_y, array_z, array_c = figures.compute_array_3D( ll_t_bounds, normalize_independently=True, high_res=False)\n"
   ]
  },
  {
   "cell_type": "code",
   "execution_count": null,
   "metadata": {},
   "outputs": [],
   "source": [
    "array_slices = np.copy(array_atlas_borders)\n",
    "array_for_avg = np.full_like(array_atlas_borders,1)\n",
    "array_x_scaled = array_x * 1000000 / atlas.resolution / decrease_dimensionality_factor\n",
    "array_y_scaled = array_y * 1000000 / atlas.resolution / decrease_dimensionality_factor\n",
    "array_z_scaled = array_z * 1000000 / atlas.resolution / decrease_dimensionality_factor\n",
    "\n",
    "print(np.min(array_x_scaled), np.max(array_x_scaled))\n",
    "print(np.min(array_y_scaled), np.max(array_y_scaled))\n",
    "print(np.min(array_z_scaled), np.max(array_z_scaled))\n",
    "print(np.min(array_c), np.max(array_c))\n",
    "print(array_slices.shape)\n",
    "for x, y, z, c in zip(array_x_scaled, array_y_scaled, array_z_scaled, array_c):\n",
    "    x_scaled = int(round(y))\n",
    "    y_scaled = int(round(z))\n",
    "    z_scaled = int(round(x))\n",
    "    # if inside the brain but not a border\n",
    "    if array_slices[x_scaled, y_scaled, z_scaled ] > -0.05:\n",
    "        # if inside the brain and not assigned before\n",
    "        if abs(array_slices[x_scaled, y_scaled, z_scaled ] - (-0.01)) < 10**-4:\n",
    "            array_slices[x_scaled, y_scaled, z_scaled ] = c/100\n",
    "        # inside the brain but already assigned, in which case average\n",
    "        else:\n",
    "            array_slices[x_scaled, y_scaled, z_scaled ] += c/100\n",
    "            array_for_avg[x_scaled, y_scaled, z_scaled ] += 1\n",
    "            \n",
    "array_slices = array_slices/array_for_avg"
   ]
  },
  {
   "cell_type": "code",
   "execution_count": null,
   "metadata": {},
   "outputs": [],
   "source": [
    "plot = False\n",
    "if plot:\n",
    "    fig = go.Figure(\n",
    "        data=go.Volume(\n",
    "            x=X.flatten(),\n",
    "            y=Y.flatten(),\n",
    "            z=Z.flatten(),\n",
    "            value=array_slices.flatten(),\n",
    "            isomin = -1,\n",
    "            isomax= 2.55,\n",
    "            opacity=0.5,  # max opacity\n",
    "            opacityscale=\"uniform\",\n",
    "            surface_count=10,\n",
    "            colorscale=\"RdBu_r\",\n",
    "        )\n",
    "    )\n",
    "\n",
    "    fig.update_layout(\n",
    "        margin=dict(t=0, r=0, b=0, l=0),\n",
    "        scene=dict(\n",
    "            xaxis=dict(backgroundcolor=\"rgba(0,0,0,0)\", color=\"grey\", gridcolor=\"grey\"),\n",
    "            yaxis=dict(backgroundcolor=\"rgba(0,0,0,0)\", color=\"grey\", gridcolor=\"grey\"),\n",
    "            zaxis=dict(backgroundcolor=\"rgba(0,0,0,0)\", color=\"grey\", gridcolor=\"grey\"),\n",
    "        ),\n",
    "    )\n",
    "    fig.show()\n"
   ]
  },
  {
   "cell_type": "code",
   "execution_count": null,
   "metadata": {},
   "outputs": [],
   "source": [
    "x_min, x_max, y_min, y_max, z_min, z_max = None, None, None, None, None, None\n",
    "# Crop unfilled parts to save space\n",
    "for x in range(0,array_annotation.shape[0]):\n",
    "    if id_structure in array_annotation[x,:,:]:\n",
    "        x_min = x-1\n",
    "        break\n",
    "for x in range(array_annotation.shape[0]-1,-1,-1):\n",
    "    if id_structure in array_annotation[x,:,:]:\n",
    "        x_max = x+1\n",
    "        break\n",
    "for y in range(0,array_annotation.shape[1]):\n",
    "    if id_structure in array_annotation[:,y,:]:\n",
    "        y_min = y-1\n",
    "        break\n",
    "for y in range(array_annotation.shape[1]-1,-1,-1):\n",
    "    if id_structure in array_annotation[:,y,:]:\n",
    "        y_max = y+1\n",
    "        break\n",
    "for z in range(0,array_annotation.shape[2]):\n",
    "    if id_structure in array_annotation[:,:,z]:\n",
    "        z_min = z-1\n",
    "        break\n",
    "for z in range(array_annotation.shape[2]-1,-1,-1):\n",
    "    if id_structure in array_annotation[:,:,z]:\n",
    "        z_max = z+1\n",
    "        break\n",
    "\n",
    "if x_min is None:\n",
    "    print(\"Bug, no voxel value has been assigned\")\n",
    "else:\n",
    "    array_annotation = array_annotation[x_min:x_max+1, y_min:y_max+1, z_min:z_max+1]\n",
    "    array_slices = array_slices[x_min:x_max+1, y_min:y_max+1, z_min:z_max+1]\n",
    "    X = X[x_min:x_max+1, y_min:y_max+1, z_min:z_max+1]\n",
    "    Y = Y[x_min:x_max+1, y_min:y_max+1, z_min:z_max+1]\n",
    "    Z = Z[x_min:x_max+1, y_min:y_max+1, z_min:z_max+1]"
   ]
  },
  {
   "cell_type": "code",
   "execution_count": null,
   "metadata": {},
   "outputs": [],
   "source": [
    "array_interpolated = fill_array_interpolation(array_annotation, array_slices, divider_radius = 1)\n",
    "print(np.max(array_interpolated))"
   ]
  },
  {
   "cell_type": "code",
   "execution_count": null,
   "metadata": {},
   "outputs": [],
   "source": []
  },
  {
   "cell_type": "code",
   "execution_count": null,
   "metadata": {},
   "outputs": [],
   "source": [
    "size = widgets.IntSlider(value=5, min=0,max=array_interpolated.shape[0]-1,step=1, description='Slice')\n",
    "\n",
    "def hist1(size):\n",
    "    plt.imshow(array_interpolated[size,:,:], vmin = -0.1, vmax = 2.55)\n",
    "    return\n",
    "out = widgets.interactive_output(hist1, {'size':size})\n",
    "\n",
    "display(size, out)"
   ]
  },
  {
   "cell_type": "code",
   "execution_count": null,
   "metadata": {},
   "outputs": [],
   "source": [
    "#size = widgets.IntSlider(value=5, min=0,max=array_slices.shape[0]-1,step=1, description='Slice')\n",
    "#\n",
    "#def hist1(size):\n",
    "#    plt.imshow(array_slices[size,:,:], vmin = -0.1, vmax = 2.55)\n",
    "#    return\n",
    "#out = widgets.interactive_output(hist1, {'size':size})\n",
    "#\n",
    "#display(size, out)"
   ]
  },
  {
   "cell_type": "code",
   "execution_count": null,
   "metadata": {},
   "outputs": [],
   "source": [
    "plot = True\n",
    "if plot:\n",
    "    volume_plot = go.Volume(\n",
    "            x=X.flatten(),\n",
    "            y=Y.flatten(),\n",
    "            z=Z.flatten(),\n",
    "            value=array_interpolated.flatten(),\n",
    "            isomin = -0.11,\n",
    "            isomax= 1.5,\n",
    "            opacity=0.5,  # max opacity\n",
    "            opacityscale=\"uniform\",\n",
    "            surface_count=10,\n",
    "            colorscale='Bluyl',#\"RdBu_r\",\n",
    "            flatshading = False,\n",
    "            #caps= dict(x_show=False, y_show=False, z_show=False), # no caps\n",
    "            #cmid=-0.1,\n",
    "            #cmax = 2.,\n",
    "            #cmin = -1,\n",
    "        )\n",
    "    #brain_root = figures.compute_root_data()#return_pickled_object(\"figures/atlas_page/3D\", \"root\", force_update=False, compute_function=figures.compute_root_data)\n",
    "\n",
    "    fig = go.Figure(\n",
    "        data=volume_plot#[volume_plot, brain_root]\n",
    "    )\n",
    "\n",
    "    fig.update_layout(\n",
    "        margin=dict(t=0, r=0, b=0, l=0),\n",
    "        scene=dict(\n",
    "            xaxis=dict(backgroundcolor=\"rgba(0,0,0,0)\", color=\"grey\", gridcolor=\"grey\"),\n",
    "            yaxis=dict(backgroundcolor=\"rgba(0,0,0,0)\", color=\"grey\", gridcolor=\"grey\"),\n",
    "            zaxis=dict(backgroundcolor=\"rgba(0,0,0,0)\", color=\"grey\", gridcolor=\"grey\"),\n",
    "        ),\n",
    "    )\n",
    "    fig.show()"
   ]
  },
  {
   "cell_type": "code",
   "execution_count": null,
   "metadata": {},
   "outputs": [],
   "source": []
  }
 ],
 "metadata": {
  "interpreter": {
   "hash": "985800c5f794748871d1c47c637e310c508dd38d7e0ad28eb7b6f7951c361e47"
  },
  "kernelspec": {
   "display_name": "Python 3 (ipykernel)",
   "language": "python",
   "name": "python3"
  },
  "language_info": {
   "codemirror_mode": {
    "name": "ipython",
    "version": 3
   },
   "file_extension": ".py",
   "mimetype": "text/x-python",
   "name": "python",
   "nbconvert_exporter": "python",
   "pygments_lexer": "ipython3",
   "version": "3.9.7"
  }
 },
 "nbformat": 4,
 "nbformat_minor": 4
}
