{
 "cells": [
  {
   "cell_type": "markdown",
   "metadata": {},
   "source": [
    "## Import required modules"
   ]
  },
  {
   "cell_type": "code",
   "execution_count": 1,
   "metadata": {},
   "outputs": [
    {
     "name": "stdout",
     "output_type": "stream",
     "text": [
      "allen mouse atlas (res. 25um)\n",
      "From: http://www.brain-map.org (Wang et al 2020, https://doi.org/10.1016/j.cell.2020.04.007 )\n"
     ]
    }
   ],
   "source": [
    "# Standard import\n",
    "import os\n",
    "import numpy as np\n",
    "import plotly.graph_objects as go\n",
    "from numba import njit\n",
    "import ipywidgets as widgets\n",
    "from IPython.display import display\n",
    "import matplotlib.pyplot as plt\n",
    "\n",
    "# Move to root directory for easier module import\n",
    "os.chdir(\"../../\")\n",
    "\n",
    "# Homemade modules\n",
    "from lbae.modules.maldi_data import MaldiData\n",
    "from lbae.modules.figures import Figures\n",
    "from lbae.modules.atlas import Atlas\n",
    "from lbae.modules.tools.misc import logmem\n",
    "\n",
    "# Objects containing our data as well as the atlas data\n",
    "data = MaldiData()\n",
    "atlas = Atlas(data, resolution=25)\n",
    "figures = Figures(data, atlas)"
   ]
  },
  {
   "cell_type": "code",
   "execution_count": 3,
   "metadata": {},
   "outputs": [],
   "source": [
    "decrease_dimensionality_factor = 10\n",
    "\n",
    "array_annotation = np.array(atlas.bg_atlas.annotation, dtype = np.int32)\n",
    "\n",
    "# Subsample array of annotation the same way array_atlas was subsampled\n",
    "array_annotation = array_annotation[::decrease_dimensionality_factor, ::decrease_dimensionality_factor, ::decrease_dimensionality_factor]\n",
    "\n",
    "# bug correction for the last slice\n",
    "array_annotation = np.concatenate((array_annotation, np.zeros((1,array_annotation.shape[1], array_annotation.shape[2]))))\n",
    "\n",
    "\n",
    "# Compute an array of boundaries \n",
    "#print(round(atlas.bg_atlas.annotation.nbytes/ 1024 / 1024,2))\n",
    "@njit\n",
    "def fill_array_borders(array_annotation):\n",
    "    array_atlas_borders = np.full_like(array_annotation, -2., dtype = np.float32)\n",
    "    for x in range(1, array_annotation.shape[0]-1):\n",
    "        for y in range(1, array_annotation.shape[1]-1):\n",
    "            for z in range(1, array_annotation.shape[2]-1):\n",
    "                if array_annotation[x,y,z]>0:\n",
    "                    # check if border in a cube of size 2\n",
    "                    found = False\n",
    "                    for xt in range(x-1,x+2):\n",
    "                        for yt in range(y-1,y+2):\n",
    "                            for zt in range(z-1,z+2):\n",
    "                                # there's a border around\n",
    "                                if array_annotation[xt,yt,zt] == 0:\n",
    "                                    found = True\n",
    "                    if found:\n",
    "                        array_atlas_borders[x,y,z] = -0.01#-0.1\n",
    "                    # inside the brain but not a border\n",
    "                    else:\n",
    "                        array_atlas_borders[x,y,z] = -0.01\n",
    "                \n",
    "                #else:\n",
    "                #    # set all values outside of the brain to -2\n",
    "                #    array_atlas_borders[x,y,z] = -2.\n",
    "\n",
    "    return array_atlas_borders  \n",
    "\n",
    "array_atlas_borders = fill_array_borders(array_annotation)"
   ]
  },
  {
   "cell_type": "code",
   "execution_count": 4,
   "metadata": {},
   "outputs": [
    {
     "data": {
      "image/png": "[encoded data removed]",
      "text/plain": [
       "<Figure size 432x288 with 1 Axes>"
      ]
     },
     "metadata": {
      "needs_background": "light"
     },
     "output_type": "display_data"
    }
   ],
   "source": [
    "array_to_display = np.array(atlas.bg_atlas.annotation[300,:,:],dtype = np.int32)\n",
    "plt.imshow(array_to_display , vmin = 0, vmax = 1)\n",
    "plt.show()"
   ]
  },
  {
   "cell_type": "code",
   "execution_count": 5,
   "metadata": {},
   "outputs": [
    {
     "data": {
      "image/png": "[encoded data removed]",
      "text/plain": [
       "<Figure size 432x288 with 1 Axes>"
      ]
     },
     "metadata": {
      "needs_background": "light"
     },
     "output_type": "display_data"
    }
   ],
   "source": [
    "array_to_display = np.array(array_atlas_borders[30,:,:],dtype = np.float32)\n",
    "plt.imshow(array_to_display , vmin = -0.2, vmax = 0)\n",
    "plt.show()"
   ]
  },
  {
   "cell_type": "code",
   "execution_count": 6,
   "metadata": {},
   "outputs": [],
   "source": [
    "X, Y, Z = np.mgrid[\n",
    "    0 : array_atlas_borders.shape[0]/1000*25 : array_atlas_borders.shape[0] * 1j,\n",
    "    0 : array_atlas_borders.shape[1]/1000*25 : array_atlas_borders.shape[1] * 1j,\n",
    "    0 : array_atlas_borders.shape[2]/1000*25 : array_atlas_borders.shape[2] * 1j,\n",
    "]\n",
    "\n",
    "colorscale=[\n",
    "            [0.0, \"rgb(69,117,180)\"],\n",
    "            [0.11, \"rgb(254,224,144)\"],\n",
    "            [0.22, \"rgb(254,224,144)\"],\n",
    "            [0.33, \"rgb(254,224,144)\"],\n",
    "            [0.44, \"rgb(253,174,97)\"],\n",
    "            [0.55, \"rgb(253,174,97)\"],\n",
    "            [0.66, \"rgb(253,174,97)\"],\n",
    "            [0.77, \"rgb(244,109,67)\"],\n",
    "            [0.88, \"rgb(215,48,39)\"],\n",
    "            [1.0, \"rgb(165,0,38)\"],\n",
    "            ]\n",
    "\n",
    "\n",
    "\n",
    "plot_fig = False\n",
    "if plot_fig:\n",
    "    fig = go.Figure(\n",
    "        data=go.Volume(\n",
    "            x=X.flatten(),\n",
    "            y=Y.flatten(),\n",
    "            z=Z.flatten(),\n",
    "            value=array_atlas_borders.flatten(),\n",
    "            isomin=-0.11,\n",
    "            isomax=2.55,\n",
    "            opacity=0.9,  # max opacity\n",
    "            #opacityscale=[[-0.0, 0], [1., 1]],\n",
    "            opacityscale = \"uniform\",\n",
    "            surface_count=20,\n",
    "            colorscale='Bluyl'#colorscale,\n",
    "        )\n",
    "    )\n",
    "\n",
    "    fig.update_layout(\n",
    "        margin=dict(t=0, r=0, b=0, l=0),\n",
    "        scene=dict(\n",
    "            xaxis=dict(backgroundcolor=\"rgba(0,0,0,0)\", color=\"grey\", gridcolor=\"grey\"),\n",
    "            yaxis=dict(backgroundcolor=\"rgba(0,0,0,0)\", color=\"grey\", gridcolor=\"grey\"),\n",
    "            zaxis=dict(backgroundcolor=\"rgba(0,0,0,0)\", color=\"grey\", gridcolor=\"grey\"),\n",
    "        ),\n",
    "    )\n",
    "    fig.show()"
   ]
  },
  {
   "cell_type": "code",
   "execution_count": 7,
   "metadata": {},
   "outputs": [
    {
     "ename": "TypeError",
     "evalue": "compute_figure_bubbles_3D() got an unexpected keyword argument 'return_arrays'",
     "output_type": "error",
     "traceback": [
      "\u001b[0;31m---------------------------------------------------------------------------\u001b[0m",
      "\u001b[0;31mTypeError\u001b[0m                                 Traceback (most recent call last)",
      "\u001b[0;32m/tmp/ipykernel_240866/800623681.py\u001b[0m in \u001b[0;36m<module>\u001b[0;34m\u001b[0m\n\u001b[1;32m     33\u001b[0m     \u001b[0;34m[\u001b[0m\u001b[0;34m[\u001b[0m\u001b[0;34m(\u001b[0m\u001b[0;36m759.6069\u001b[0m\u001b[0;34m,\u001b[0m \u001b[0;36m759.6112\u001b[0m\u001b[0;34m)\u001b[0m\u001b[0;34m]\u001b[0m\u001b[0;34m,\u001b[0m \u001b[0;32mNone\u001b[0m\u001b[0;34m,\u001b[0m \u001b[0;32mNone\u001b[0m\u001b[0;34m]\u001b[0m\u001b[0;34m,\u001b[0m\u001b[0;34m\u001b[0m\u001b[0;34m\u001b[0m\u001b[0m\n\u001b[1;32m     34\u001b[0m ]\n\u001b[0;32m---> 35\u001b[0;31m array_x, array_y, array_z, array_c = figures.compute_figure_bubbles_3D(\n\u001b[0m\u001b[1;32m     36\u001b[0m     \u001b[0mll_t_bounds\u001b[0m\u001b[0;34m,\u001b[0m \u001b[0mnormalize_independently\u001b[0m\u001b[0;34m=\u001b[0m\u001b[0;32mTrue\u001b[0m\u001b[0;34m,\u001b[0m \u001b[0mreturn_arrays\u001b[0m\u001b[0;34m=\u001b[0m\u001b[0;32mTrue\u001b[0m\u001b[0;34m,\u001b[0m \u001b[0mhigh_res\u001b[0m \u001b[0;34m=\u001b[0m \u001b[0;32mFalse\u001b[0m\u001b[0;34m\u001b[0m\u001b[0;34m\u001b[0m\u001b[0m\n\u001b[1;32m     37\u001b[0m )\n",
      "\u001b[0;31mTypeError\u001b[0m: compute_figure_bubbles_3D() got an unexpected keyword argument 'return_arrays'"
     ]
    }
   ],
   "source": [
    "ll_t_bounds = [\n",
    "    [None, None, None],\n",
    "    [[(759.6073, 759.6117)], None, None],\n",
    "    [[(759.6071000000001, 759.6112)], None, None],\n",
    "    [[(759.6068, 759.6106000000001)], None, None],\n",
    "    [[(759.6069, 759.6111000000001)], None, None],\n",
    "    [[(759.6064, 759.6108)], None, None],\n",
    "    [[(759.6066000000001, 759.611)], None, None],\n",
    "    [[(759.6067, 759.611)], None, None],\n",
    "    [[(759.6066000000001, 759.611)], None, None],\n",
    "    [[(759.6067, 759.6111000000001)], None, None],\n",
    "    [[(759.6067, 759.6115000000001)], None, None],\n",
    "    [[(759.6067, 759.611)], None, None],\n",
    "    [[(759.6066000000001, 759.6111000000001)], None, None],\n",
    "    [[(759.6067, 759.6112)], None, None],\n",
    "    [[(759.6069, 759.6111000000001)], None, None],\n",
    "    [[(759.6070000000001, 759.6111000000001)], None, None],\n",
    "    [[(759.6069, 759.6112)], None, None],\n",
    "    [[(759.6069, 759.611)], None, None],\n",
    "    [[(759.6064, 759.611)], None, None],\n",
    "    [[(759.6066117365762, 759.6111773745573)], None, None],\n",
    "    [[(759.6067594505706, 759.6111700259931)], None, None],\n",
    "    [[(759.6064842656122, 759.6111548755334)], None, None],\n",
    "    [[(759.6074, 759.6112)], None, None],\n",
    "    [[(759.6067, 759.6109)], None, None],\n",
    "    [[(759.6067, 759.611)], None, None],\n",
    "    [[(759.6067, 759.611)], None, None],\n",
    "    [[(759.6067, 759.6115000000001)], None, None],\n",
    "    [[(759.6068, 759.6114)], None, None],\n",
    "    [[(759.6073, 759.6114)], None, None],\n",
    "    [[(759.6071000000001, 759.6113)], None, None],\n",
    "    [None, None, None],\n",
    "    [[(759.6069, 759.6112)], None, None],\n",
    "]\n",
    "array_x, array_y, array_z, array_c = figures.compute_figure_bubbles_3D(\n",
    "    ll_t_bounds, normalize_independently=True, return_arrays=True, high_res = False\n",
    ")\n"
   ]
  },
  {
   "cell_type": "code",
   "execution_count": null,
   "metadata": {},
   "outputs": [],
   "source": [
    "array_slices = np.copy(array_atlas_borders)\n",
    "array_for_avg = np.full_like(array_atlas_borders,1)\n",
    "array_x_scaled = array_x * 1000000 / atlas.resolution / decrease_dimensionality_factor\n",
    "array_y_scaled = array_y * 1000000 / atlas.resolution / decrease_dimensionality_factor\n",
    "array_z_scaled = array_z * 1000000 / atlas.resolution / decrease_dimensionality_factor\n",
    "\n",
    "print(np.min(array_x_scaled), np.max(array_x_scaled))\n",
    "print(np.min(array_y_scaled), np.max(array_y_scaled))\n",
    "print(np.min(array_z_scaled), np.max(array_z_scaled))\n",
    "print(np.min(array_c), np.max(array_c))\n",
    "print(array_slices.shape)\n",
    "for x, y, z, c in zip(array_x_scaled, array_y_scaled, array_z_scaled, array_c):\n",
    "    x_scaled = int(round(y))\n",
    "    y_scaled = int(round(z))\n",
    "    z_scaled = int(round(x))\n",
    "    # if inside the brain but not a border\n",
    "    if array_slices[x_scaled, y_scaled, z_scaled ] > -0.05:\n",
    "        # if inside the brain and not assigned before\n",
    "        if abs(array_slices[x_scaled, y_scaled, z_scaled ] - (-0.01)) < 10**-4:\n",
    "            array_slices[x_scaled, y_scaled, z_scaled ] = c/100\n",
    "        # inside the brain but already assigned, in which case average\n",
    "        else:\n",
    "            array_slices[x_scaled, y_scaled, z_scaled ] += c/100\n",
    "            array_for_avg[x_scaled, y_scaled, z_scaled ] += 1\n",
    "            \n",
    "array_slices = array_slices/array_for_avg"
   ]
  },
  {
   "cell_type": "code",
   "execution_count": null,
   "metadata": {},
   "outputs": [],
   "source": [
    "plot = False\n",
    "if plot:\n",
    "    fig = go.Figure(\n",
    "        data=go.Volume(\n",
    "            x=X.flatten(),\n",
    "            y=Y.flatten(),\n",
    "            z=Z.flatten(),\n",
    "            value=array_slices.flatten(),\n",
    "            isomin = -1,\n",
    "            isomax= 2.55,\n",
    "            opacity=0.5,  # max opacity\n",
    "            opacityscale=\"uniform\",\n",
    "            surface_count=10,\n",
    "            colorscale=\"RdBu_r\",\n",
    "        )\n",
    "    )\n",
    "\n",
    "    fig.update_layout(\n",
    "        margin=dict(t=0, r=0, b=0, l=0),\n",
    "        scene=dict(\n",
    "            xaxis=dict(backgroundcolor=\"rgba(0,0,0,0)\", color=\"grey\", gridcolor=\"grey\"),\n",
    "            yaxis=dict(backgroundcolor=\"rgba(0,0,0,0)\", color=\"grey\", gridcolor=\"grey\"),\n",
    "            zaxis=dict(backgroundcolor=\"rgba(0,0,0,0)\", color=\"grey\", gridcolor=\"grey\"),\n",
    "        ),\n",
    "    )\n",
    "    fig.show()\n"
   ]
  },
  {
   "cell_type": "code",
   "execution_count": null,
   "metadata": {},
   "outputs": [],
   "source": [
    "# Do interpolation between the slices\n",
    "@njit\n",
    "def fill_array_interpolation(array_annotation, array_slices):\n",
    "    array_interpolated = np.copy(array_slices)\n",
    "    for x in range(0, array_annotation.shape[0]):\n",
    "        for y in range(0, array_annotation.shape[1]):\n",
    "            for z in range(0, array_annotation.shape[2]):\n",
    "                # If we are in a unfilled region of the brain or just inside the brain\n",
    "                if (np.abs(array_slices[x, y, z] - (-0.01)) < 10 ** -4) or array_slices[x, y, z]>=0:\n",
    "                    # check all datapoints in the same structure, and do a distance-weighted average\n",
    "                    value_voxel = 0\n",
    "                    sum_weights = 0\n",
    "                    size_radius = int(array_annotation.shape[0]/5)\n",
    "                    for xt in range(max(0,x-size_radius), min(array_annotation.shape[0],x+size_radius+1)):\n",
    "                        for yt in range(max(0,y-size_radius), min(array_annotation.shape[1],y+size_radius+1)):\n",
    "                            for zt in range(max(0,z-size_radius), min(array_annotation.shape[2],z+size_radius+1)):\n",
    "                                # if we are inside of the shere with size_radius\n",
    "                                if np.sqrt((x - xt) ** 2 + (y - yt) ** 2 + (z - zt) ** 2)<=size_radius:\n",
    "                                    # The voxel has data\n",
    "                                    if array_slices[xt, yt, zt] >= 0:\n",
    "                                        # The structure is identical\n",
    "                                        if np.abs(array_annotation[x, y, z] - array_annotation[xt, yt, zt]) < 10**-4:\n",
    "                                            d = np.sqrt((x - xt) ** 2 + (y - yt) ** 2 + (z - zt) ** 2)\n",
    "                                            value_voxel += np.exp(- d) * array_slices[xt, yt, zt]\n",
    "                                            sum_weights += np.exp(- d)\n",
    "                    if sum_weights == 0:\n",
    "                        pass\n",
    "                        #print(\"No other voxel was found for structure \", array_annotation[x, y, z])\n",
    "                    else:\n",
    "                        #print('Voxel found for structure', array_annotation[x, y, z])\n",
    "                        value_voxel = value_voxel / sum_weights\n",
    "                        array_interpolated[x, y, z] = value_voxel\n",
    "\n",
    "    return array_interpolated\n",
    "\n",
    "\n",
    "array_interpolated = fill_array_interpolation(array_annotation, array_slices)\n"
   ]
  },
  {
   "cell_type": "code",
   "execution_count": null,
   "metadata": {},
   "outputs": [],
   "source": [
    "size = widgets.IntSlider(value=5, min=0,max=array_interpolated.shape[0]-1,step=1, description='Slice')\n",
    "\n",
    "def hist1(size):\n",
    "    plt.imshow(array_interpolated[size,:,:], vmin = -0.1, vmax = 2.55)\n",
    "    return\n",
    "out = widgets.interactive_output(hist1, {'size':size})\n",
    "\n",
    "display(size, out)"
   ]
  },
  {
   "cell_type": "code",
   "execution_count": null,
   "metadata": {},
   "outputs": [],
   "source": [
    "size = widgets.IntSlider(value=5, min=0,max=array_slices.shape[0]-1,step=1, description='Slice')\n",
    "\n",
    "def hist1(size):\n",
    "    plt.imshow(array_slices[size,:,:], vmin = -0.1, vmax = 2.55)\n",
    "    return\n",
    "out = widgets.interactive_output(hist1, {'size':size})\n",
    "\n",
    "display(size, out)"
   ]
  },
  {
   "cell_type": "code",
   "execution_count": null,
   "metadata": {},
   "outputs": [],
   "source": [
    "plot = True\n",
    "if plot:\n",
    "    fig = go.Figure(\n",
    "        data=go.Volume(\n",
    "            x=X.flatten(),\n",
    "            y=Y.flatten(),\n",
    "            z=Z.flatten(),\n",
    "            value=array_interpolated.flatten(),\n",
    "            isomin = -0.11,\n",
    "            isomax= 1.5,\n",
    "            opacity=0.5,  # max opacity\n",
    "            opacityscale=\"uniform\",\n",
    "            surface_count=10,\n",
    "            colorscale='Bluyl',#\"RdBu_r\",\n",
    "            flatshading = False,\n",
    "            #caps= dict(x_show=False, y_show=False, z_show=False), # no caps\n",
    "            #cmid=-0.1,\n",
    "            #cmax = 2.,\n",
    "            #cmin = -1,\n",
    "        )\n",
    "    )\n",
    "\n",
    "    fig.update_layout(\n",
    "        margin=dict(t=0, r=0, b=0, l=0),\n",
    "        scene=dict(\n",
    "            xaxis=dict(backgroundcolor=\"rgba(0,0,0,0)\", color=\"grey\", gridcolor=\"grey\"),\n",
    "            yaxis=dict(backgroundcolor=\"rgba(0,0,0,0)\", color=\"grey\", gridcolor=\"grey\"),\n",
    "            zaxis=dict(backgroundcolor=\"rgba(0,0,0,0)\", color=\"grey\", gridcolor=\"grey\"),\n",
    "        ),\n",
    "    )\n",
    "    fig.show()"
   ]
  },
  {
   "cell_type": "code",
   "execution_count": null,
   "metadata": {},
   "outputs": [],
   "source": []
  }
 ],
 "metadata": {
  "interpreter": {
   "hash": "985800c5f794748871d1c47c637e310c508dd38d7e0ad28eb7b6f7951c361e47"
  },
  "kernelspec": {
   "display_name": "Python 3 (ipykernel)",
   "language": "python",
   "name": "python3"
  },
  "language_info": {
   "codemirror_mode": {
    "name": "ipython",
    "version": 3
   },
   "file_extension": ".py",
   "mimetype": "text/x-python",
   "name": "python",
   "nbconvert_exporter": "python",
   "pygments_lexer": "ipython3",
   "version": "3.9.7"
  }
 },
 "nbformat": 4,
 "nbformat_minor": 4
}
