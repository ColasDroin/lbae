{
 "cells": [
  {
   "cell_type": "markdown",
   "id": "e5dbb311",
   "metadata": {},
   "source": [
    "## Import required modules"
   ]
  },
  {
   "cell_type": "code",
   "execution_count": 1,
   "id": "81e581e2",
   "metadata": {},
   "outputs": [
    {
     "name": "stdout",
     "output_type": "stream",
     "text": [
      "1  was not stored in memory, it is going to be loaded from disk\n",
      "allen mouse atlas (res. 25um)\n",
      "From: http://www.brain-map.org (Wang et al 2020, https://doi.org/10.1016/j.cell.2020.04.007 )\n"
     ]
    }
   ],
   "source": [
    "import numpy as np\n",
    "import pandas as pd \n",
    "from numba import jit, njit\n",
    "import os\n",
    "import sys\n",
    "import zarr\n",
    "import pickle\n",
    "import time\n",
    "import tables\n",
    "os.chdir('../../')\n",
    "sys.path.append('tools/')\n",
    "from SliceData import SliceData\n",
    "from SliceStore import SliceStore\n",
    "\n",
    "from lookup_functions import *"
   ]
  },
  {
   "cell_type": "markdown",
   "id": "1430be45",
   "metadata": {},
   "source": [
    "## Load data"
   ]
  },
  {
   "cell_type": "code",
   "execution_count": 2,
   "id": "773c49c2",
   "metadata": {},
   "outputs": [
    {
     "name": "stdout",
     "output_type": "stream",
     "text": [
      "0.57\n",
      "735.72\n",
      "0.37\n",
      "6.87\n",
      "56.75\n",
      "56.75\n",
      "0.01\n"
     ]
    }
   ],
   "source": [
    "#Load slice 1 \n",
    "slice = SliceData(1)\n",
    "\n",
    "#print size used by each array in mb\n",
    "print(round(slice.array_pixel_indexes_high_res.nbytes/ 1024 / 1024,2))\n",
    "print(round(slice.array_spectra_high_res.nbytes/ 1024 / 1024,2))\n",
    "print(round(slice.array_averaged_mz_intensity_low_res.nbytes/ 1024 / 1024,2))\n",
    "print(round(slice.array_averaged_mz_intensity_high_res.nbytes/ 1024 / 1024,2))\n",
    "print(round(slice.lookup_table_spectra_high_res.nbytes/ 1024 / 1024,2))\n",
    "print(round(slice.cumulated_image_lookup_table_high_res.nbytes/ 1024 / 1024,2))\n",
    "print(round(slice.lookup_table_averaged_spectrum_high_res.nbytes/ 1024 / 1024,2))\n",
    "\n"
   ]
  },
  {
   "cell_type": "markdown",
   "id": "eb20af81",
   "metadata": {},
   "source": [
    "### Play with Pickle"
   ]
  },
  {
   "cell_type": "code",
   "execution_count": null,
   "id": "9a21ca14",
   "metadata": {},
   "outputs": [],
   "source": [
    "#Pickle all slices for future comparison\n",
    "pickle_all = True\n",
    "if pickle_all:\n",
    "    slice_store = SliceStore()\n",
    "    SliceStore.pickleAllSlices()"
   ]
  },
  {
   "cell_type": "code",
   "execution_count": 4,
   "id": "624c39c7",
   "metadata": {},
   "outputs": [
    {
     "name": "stdout",
     "output_type": "stream",
     "text": [
      "1.820162057876587\n",
      "0.2095470428466797\n",
      "1.0304827690124512\n"
     ]
    }
   ],
   "source": [
    "path = \"data/hdf5/slices2.hdf5\"\n",
    "a = time.time()\n",
    "read_hdf5_file = tables.open_file(path, mode='r' )\n",
    "hdf5_data = read_hdf5_file.root['slice_30'][:]\n",
    "read_hdf5_file.close()\n",
    "b = time.time()\n",
    "print(b-a)\n",
    "\n",
    "\n",
    "#compare reading times\n",
    "path = \"data/pickled_data/raw_data/\"\n",
    "\n",
    "a = time.time()\n",
    "slice_index = 2\n",
    "name_fig = \"data_slice_\" + str(slice_index) + \".pickle\"\n",
    "slice = pickle.load(open(path + name_fig, \"rb\"))\n",
    "b = time.time()\n",
    "\n",
    "print(b-a)\n",
    "\n",
    "a = time.time()\n",
    "slice_index = 30\n",
    "name_fig = \"data_slice_\" + str(slice_index) + \".pickle\"\n",
    "slice = pickle.load(open(path + name_fig, \"rb\"))\n",
    "b = time.time()\n",
    "\n",
    "print(b-a)\n",
    "\n",
    "\n"
   ]
  },
  {
   "cell_type": "markdown",
   "id": "4f0c4ef8",
   "metadata": {},
   "source": [
    "### Play with pytables"
   ]
  },
  {
   "cell_type": "code",
   "execution_count": 2,
   "id": "a77ca699",
   "metadata": {},
   "outputs": [
    {
     "name": "stderr",
     "output_type": "stream",
     "text": [
      "/opt/miniconda3/lib/python3.9/site-packages/tables/leaf.py:402: PerformanceWarning:\n",
      "\n",
      "The Leaf ``/slice_29`` is exceeding the maximum recommended rowsize (104857600 bytes);\n",
      "be ready to see PyTables asking for *lots* of memory and possibly slow\n",
      "I/O.  You may want to reduce the rowsize by trimming the value of\n",
      "dimensions that are orthogonal (and preferably close) to the *main*\n",
      "dimension of this leave.  Alternatively, in case you have specified a\n",
      "very small/large chunksize, you may want to increase/decrease it.\n",
      "\n",
      "/opt/miniconda3/lib/python3.9/site-packages/tables/leaf.py:402: PerformanceWarning:\n",
      "\n",
      "The Leaf ``/slice_30`` is exceeding the maximum recommended rowsize (104857600 bytes);\n",
      "be ready to see PyTables asking for *lots* of memory and possibly slow\n",
      "I/O.  You may want to reduce the rowsize by trimming the value of\n",
      "dimensions that are orthogonal (and preferably close) to the *main*\n",
      "dimension of this leave.  Alternatively, in case you have specified a\n",
      "very small/large chunksize, you may want to increase/decrease it.\n",
      "\n"
     ]
    }
   ],
   "source": [
    "path = \"data/hdf5/slices.hdf5\"\n",
    "hdf5_file = tables.open_file(path, mode='w')\n",
    "for index_slice in range(29,31):\n",
    "    slice = SliceData(index_slice, load_from_pytables=False)\n",
    "    hdf5_file.create_array(hdf5_file.root, 'slice_' + str(index_slice), slice.array_spectra_high_res)\n",
    "hdf5_file.close()"
   ]
  },
  {
   "cell_type": "code",
   "execution_count": 10,
   "id": "b9372b31",
   "metadata": {},
   "outputs": [
    {
     "name": "stdout",
     "output_type": "stream",
     "text": [
      "/slice_30 (Array(2, 307003267)) ''\n"
     ]
    }
   ],
   "source": [
    "hdf5_file = tables.open_file(path, mode='r')\n",
    "print(hdf5_file.list_nodes\n",
    "hdf5_file.close()"
   ]
  },
  {
   "cell_type": "code",
   "execution_count": 21,
   "id": "732cb508",
   "metadata": {},
   "outputs": [],
   "source": [
    "hdf5_file.close()"
   ]
  },
  {
   "cell_type": "code",
   "execution_count": 40,
   "id": "bd46daff",
   "metadata": {},
   "outputs": [
    {
     "name": "stdout",
     "output_type": "stream",
     "text": [
      "0.0016515254974365234\n"
     ]
    }
   ],
   "source": [
    "path = \"data/hdf5/slices.hdf5\"\n",
    "\n",
    "a = time.time()\n",
    "for x in range(10):\n",
    "    read_hdf5_file = tables.open_file(path, mode='r' )\n",
    "    hdf5_data = read_hdf5_file.root['slice_30'][0,1000:2000]\n",
    "    read_hdf5_file.close()\n",
    "b = time.time()\n",
    "print( (b-a)/10)\n"
   ]
  },
  {
   "cell_type": "code",
   "execution_count": null,
   "id": "9a43c293",
   "metadata": {},
   "outputs": [],
   "source": [
    "#see if the whole file is loaded\n",
    "np.sum(hdf5_data)"
   ]
  },
  {
   "cell_type": "code",
   "execution_count": null,
   "id": "d259ee0f",
   "metadata": {},
   "outputs": [],
   "source": [
    "#try compression\n",
    "path = \"data/hdf5/slice_compressed.hdf5\"\n",
    "hdf5_file = tables.open_file(path, mode='w')\n",
    "filters = tables.Filters(complevel=5, complib='blosc:zstd')\n",
    "data_storage = hdf5_file.create_carray(hdf5_file.root, 'data', tables.Atom.from_dtype(slice.array_spectra_high_res.dtype),  shape=slice.array_spectra_high_res.T.shape,filters=filters)\n",
    "data_storage[:] = slice.array_spectra_high_res.T\n",
    "hdf5_file.close()"
   ]
  },
  {
   "cell_type": "code",
   "execution_count": 3,
   "id": "a29bf738",
   "metadata": {},
   "outputs": [],
   "source": [
    "#check if a basic plot is doable in acceptable time... First load lookup tables through slice object\n",
    "currentSlice = SliceData(30, load_from_pytables=False)"
   ]
  },
  {
   "cell_type": "code",
   "execution_count": null,
   "id": "4ffceb6b",
   "metadata": {},
   "outputs": [],
   "source": [
    "#how long does it take to take the transpose?\n",
    "a = time.time()\n",
    "aa = currentSlice.array_spectra_high_res.T\n",
    "b = time.time()\n",
    "print(b-a)"
   ]
  },
  {
   "cell_type": "code",
   "execution_count": 11,
   "id": "790b7d3f",
   "metadata": {},
   "outputs": [
    {
     "name": "stdout",
     "output_type": "stream",
     "text": [
      "1.6079881191253662\n"
     ]
    }
   ],
   "source": [
    "a = time.time()\n",
    "path = \"data/hdf5/slices.hdf5\"\n",
    "read_hdf5_file = tables.open_file(path, mode='r' )\n",
    "hdf5_data = read_hdf5_file.root['slice_30'][:]\n",
    "for idx_pix in range(currentSlice.array_pixel_indexes_high_res.shape[0]):\n",
    "    #test = hdf5_data[currentSlice.array_pixel_indexes_high_res[idx_pix, 0]: currentSlice.array_pixel_indexes_high_res[idx_pix, 1]+1,:]\n",
    "    test = hdf5_data[currentSlice.array_pixel_indexes_high_res[idx_pix, 0]: currentSlice.array_pixel_indexes_high_res[idx_pix, 0]+10,:]\n",
    "read_hdf5_file.close()\n",
    "b = time.time()\n",
    "print(b-a)\n"
   ]
  },
  {
   "cell_type": "markdown",
   "id": "2c1efe46",
   "metadata": {},
   "source": [
    "## Other tests (unfinished)"
   ]
  },
  {
   "cell_type": "markdown",
   "id": "f2cb9399",
   "metadata": {},
   "source": [
    "### Play with memmap"
   ]
  },
  {
   "cell_type": "code",
   "execution_count": null,
   "id": "da588065",
   "metadata": {},
   "outputs": [],
   "source": [
    "fp = np.memmap('test.np', dtype='float32', mode='w+', shape=slice.array_spectra_high_res.shape) \n",
    "fp[:] = slice.array_spectra_high_res\n",
    "print(slice.array_spectra_high_res.shape)"
   ]
  },
  {
   "cell_type": "code",
   "execution_count": null,
   "id": "10c795c4",
   "metadata": {},
   "outputs": [],
   "source": [
    "fp = np.memmap('test.np', dtype='float32', mode='r', shape=(2, 96431659))\n",
    "import plotly.graph_objects as go\n"
   ]
  },
  {
   "cell_type": "markdown",
   "id": "c2f6a275",
   "metadata": {},
   "source": [
    "### Play with zarr"
   ]
  },
  {
   "cell_type": "code",
   "execution_count": null,
   "id": "ac1dd1ca",
   "metadata": {},
   "outputs": [],
   "source": [
    "#register slices\n",
    "for index_slice in range(30,31):\n",
    "    path = \"data/mmap/\"\n",
    "    array_spectra_high_res = SliceData(index_slice).array_spectra_high_res.T\n",
    "    z1 = zarr.open(path + str(index_slice)+'.zarr', mode='w', shape=array_spectra_high_res.shape, chunks=(10000, -1), dtype='f4', compressor = None)\n",
    "    z1[:] = array_spectra_high_res"
   ]
  },
  {
   "cell_type": "code",
   "execution_count": null,
   "id": "5f9b2f81",
   "metadata": {},
   "outputs": [],
   "source": [
    "slice = SliceData(30, load_from_mmap=True)\n",
    "slice.array_spectra_high_res.info"
   ]
  },
  {
   "cell_type": "code",
   "execution_count": null,
   "id": "b11de3ab",
   "metadata": {},
   "outputs": [],
   "source": [
    "a = time.time()\n",
    "slice = SliceData(30, load_from_mmap=False)\n",
    "b = time.time()\n",
    "print(b-a)"
   ]
  },
  {
   "cell_type": "code",
   "execution_count": null,
   "id": "8b8561df",
   "metadata": {},
   "outputs": [],
   "source": [
    "#load full slice\n",
    "a = time.time()\n",
    "np.sum(slice.array_spectra_high_res)\n",
    "b = time.time()\n",
    "print(b-a)"
   ]
  },
  {
   "cell_type": "code",
   "execution_count": null,
   "id": "ba49f28e",
   "metadata": {},
   "outputs": [],
   "source": [
    "slice_to_sum = slice.array_spectra_high_res[:]"
   ]
  },
  {
   "cell_type": "code",
   "execution_count": null,
   "id": "03f0fd5d",
   "metadata": {},
   "outputs": [],
   "source": [
    "#load full slice\n",
    "a = time.time()\n",
    "np.sum(slice_to_sum)\n",
    "b = time.time()\n",
    "print(b-a)"
   ]
  }
 ],
 "metadata": {
  "interpreter": {
   "hash": "3d597f4c481aa0f25dceb95d2a0067e73c0966dcbd003d741d821a7208527ecf"
  },
  "kernelspec": {
   "display_name": "Python 3.9.5 64-bit ('base': conda)",
   "name": "python3"
  },
  "language_info": {
   "codemirror_mode": {
    "name": "ipython",
    "version": 3
   },
   "file_extension": ".py",
   "mimetype": "text/x-python",
   "name": "python",
   "nbconvert_exporter": "python",
   "pygments_lexer": "ipython3",
   "version": "3.9.5"
  }
 },
 "nbformat": 4,
 "nbformat_minor": 5
}
