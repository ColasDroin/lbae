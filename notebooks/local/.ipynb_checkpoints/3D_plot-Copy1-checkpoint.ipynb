{
 "cells": [
  {
   "cell_type": "markdown",
   "metadata": {},
   "source": [
    "## Import required modules"
   ]
  },
  {
   "cell_type": "code",
   "execution_count": 1,
   "metadata": {},
   "outputs": [
    {
     "name": "stdout",
     "output_type": "stream",
     "text": [
      "allen mouse atlas (res. 25um)\n",
      "From: http://www.brain-map.org (Wang et al 2020, https://doi.org/10.1016/j.cell.2020.04.007 )\n"
     ]
    }
   ],
   "source": [
    "# Standard import\n",
    "import os\n",
    "import numpy as np\n",
    "import plotly.graph_objects as go\n",
    "from numba import njit\n",
    "import ipywidgets as widgets\n",
    "from IPython.display import display\n",
    "import matplotlib.pyplot as plt\n",
    "\n",
    "# Move to root directory for easier module import\n",
    "os.chdir(\"../../\")\n",
    "\n",
    "# Homemade modules\n",
    "from lbae.modules.maldi_data import MaldiData\n",
    "from lbae.modules.figures import Figures\n",
    "from lbae.modules.atlas import Atlas\n",
    "from lbae.modules.tools.volume import fill_array_borders, fill_array_interpolation\n",
    "from lbae.modules.tools.misc import return_pickled_object\n",
    "\n",
    "\n",
    "# Objects containing our data as well as the atlas data\n",
    "data = MaldiData()\n",
    "atlas = Atlas(data, resolution=25)\n",
    "figures = Figures(data, atlas)\n",
    "\n"
   ]
  },
  {
   "cell_type": "code",
   "execution_count": 2,
   "metadata": {},
   "outputs": [],
   "source": [
    "decrease_dimensionality_factor = 5\n",
    "\n",
    "# get array of annotatiobs, which associate coordinate to id\n",
    "array_annotation = np.array(atlas.bg_atlas.annotation, dtype = np.int32)\n",
    "\n",
    "# Subsample array of annotation the same way array_atlas was subsampled\n",
    "array_annotation = array_annotation[::decrease_dimensionality_factor, ::decrease_dimensionality_factor, ::decrease_dimensionality_factor]\n",
    "\n",
    "# bug correction for the last slice\n",
    "array_annotation = np.concatenate((array_annotation, np.zeros((1,array_annotation.shape[1], array_annotation.shape[2]))))\n",
    "\n",
    "array_atlas_borders = fill_array_borders(array_annotation, differentiate_borders = True)"
   ]
  },
  {
   "cell_type": "code",
   "execution_count": 3,
   "metadata": {},
   "outputs": [
    {
     "data": {
      "image/png": "[encoded data removed]",
      "text/plain": [
       "<Figure size 432x288 with 1 Axes>"
      ]
     },
     "metadata": {
      "needs_background": "light"
     },
     "output_type": "display_data"
    }
   ],
   "source": [
    "array_to_display = np.array(atlas.bg_atlas.annotation[300,:,:],dtype = np.int32)\n",
    "plt.imshow(array_to_display , vmin = 0, vmax = 1)\n",
    "plt.show()"
   ]
  },
  {
   "cell_type": "code",
   "execution_count": 4,
   "metadata": {},
   "outputs": [
    {
     "data": {
      "image/png": "[encoded data removed]",
      "text/plain": [
       "<Figure size 432x288 with 1 Axes>"
      ]
     },
     "metadata": {
      "needs_background": "light"
     },
     "output_type": "display_data"
    }
   ],
   "source": [
    "array_to_display = np.array(array_atlas_borders[30,:,:],dtype = np.float32)\n",
    "plt.imshow(array_to_display , vmin = -0.2, vmax = 0)\n",
    "plt.show()"
   ]
  },
  {
   "cell_type": "code",
   "execution_count": 5,
   "metadata": {},
   "outputs": [],
   "source": [
    "# Get list of coordinates corresponding to a surface\n",
    "bool_coor = np.logical_or(array_atlas_borders==-0.1, array_atlas_borders==-0.2)\n",
    "X, Y, Z = np.mgrid[\n",
    "    0 : array_atlas_borders.shape[0]/1000*25 : array_atlas_borders.shape[0] * 1j,\n",
    "    0 : array_atlas_borders.shape[1]/1000*25 : array_atlas_borders.shape[1] * 1j,\n",
    "    0 : array_atlas_borders.shape[2]/1000*25 : array_atlas_borders.shape[2] * 1j,\n",
    "]\n",
    "array_atlas_borders = array_atlas_borders[bool_coor]\n",
    "X = X[bool_coor]\n",
    "Y = Y[bool_coor]\n",
    "Z = Z[bool_coor]\n",
    "\n",
    "#fig = go.Figure(data=[go.Mesh3d(x=X, y=Y, z=Z, alphahull=1,color='lightpink', opacity=0.50)])\n",
    "#fig.show()\n",
    "\n",
    "# from scipy.spatial import Delaunay\n",
    "# import plotly.figure_factory as ff\n",
    "\n",
    "# points2D = np.vstack([X,Y]).T\n",
    "# tri = Delaunay(points2D)\n",
    "# simplices = tri.simplices\n",
    "\n",
    "# fig = ff.create_trisurf(x=X, y=Y, z=Z,\n",
    "#                          simplices=simplices)\n",
    "# fig.show()"
   ]
  },
  {
   "cell_type": "code",
   "execution_count": null,
   "metadata": {},
   "outputs": [],
   "source": [
    "# X, Y, Z = np.mgrid[\n",
    "#      0 : array_atlas_borders.shape[0]/1000*25 : array_atlas_borders.shape[0] * 1j,\n",
    "#      0 : array_atlas_borders.shape[1]/1000*25 : array_atlas_borders.shape[1] * 1j,\n",
    "#      0 : array_atlas_borders.shape[2]/1000*25 : array_atlas_borders.shape[2] * 1j,\n",
    "# ]\n",
    "\n",
    "\n",
    "plot_fig = True\n",
    "if plot_fig:\n",
    "    fig = go.Figure(\n",
    "        data=go.Isosurface(\n",
    "            x=X.flatten(),#[[1,2,3], [1,2,3], [1,2,3]],\n",
    "            y=Y.flatten(),#[[1,2,3], [1,2,3], [1,2,3]],\n",
    "            z=Z.flatten(),#[[1,1,1], [2,2,2], [3,3,3]],\n",
    "            value=array_atlas_borders.flatten(),\n",
    "            isomin=-0.11,\n",
    "            isomax=2.55,\n",
    "            #opacity=0.9,  # max opacity\n",
    "            #opacityscale=[[-0.0, 0], [1., 1]],\n",
    "            #opacityscale = \"uniform\",\n",
    "            surface_count=2,\n",
    "            #colorscale='Bluyl'#colorscale,\n",
    "        )\n",
    "    )\n",
    "\n",
    "    fig.update_layout(\n",
    "        margin=dict(t=0, r=0, b=0, l=0),\n",
    "        scene=dict(\n",
    "            xaxis=dict(backgroundcolor=\"rgba(0,0,0,0)\", color=\"grey\", gridcolor=\"grey\"),\n",
    "            yaxis=dict(backgroundcolor=\"rgba(0,0,0,0)\", color=\"grey\", gridcolor=\"grey\"),\n",
    "            zaxis=dict(backgroundcolor=\"rgba(0,0,0,0)\", color=\"grey\", gridcolor=\"grey\"),\n",
    "        ),\n",
    "    )\n",
    "    fig.show()"
   ]
  },
  {
   "cell_type": "code",
   "execution_count": null,
   "metadata": {},
   "outputs": [],
   "source": [
    "ll_t_bounds = [\n",
    "    [None, None, None],\n",
    "    [[(759.6073, 759.6117)], None, None],\n",
    "    [[(759.6071000000001, 759.6112)], None, None],\n",
    "    [[(759.6068, 759.6106000000001)], None, None],\n",
    "    [[(759.6069, 759.6111000000001)], None, None],\n",
    "    [[(759.6064, 759.6108)], None, None],\n",
    "    [[(759.6066000000001, 759.611)], None, None],\n",
    "    [[(759.6067, 759.611)], None, None],\n",
    "    [[(759.6066000000001, 759.611)], None, None],\n",
    "    [[(759.6067, 759.6111000000001)], None, None],\n",
    "    [[(759.6067, 759.6115000000001)], None, None],\n",
    "    [[(759.6067, 759.611)], None, None],\n",
    "    [[(759.6066000000001, 759.6111000000001)], None, None],\n",
    "    [[(759.6067, 759.6112)], None, None],\n",
    "    [[(759.6069, 759.6111000000001)], None, None],\n",
    "    [[(759.6070000000001, 759.6111000000001)], None, None],\n",
    "    [[(759.6069, 759.6112)], None, None],\n",
    "    [[(759.6069, 759.611)], None, None],\n",
    "    [[(759.6064, 759.611)], None, None],\n",
    "    [[(759.6066117365762, 759.6111773745573)], None, None],\n",
    "    [[(759.6067594505706, 759.6111700259931)], None, None],\n",
    "    [[(759.6064842656122, 759.6111548755334)], None, None],\n",
    "    [[(759.6074, 759.6112)], None, None],\n",
    "    [[(759.6067, 759.6109)], None, None],\n",
    "    [[(759.6067, 759.611)], None, None],\n",
    "    [[(759.6067, 759.611)], None, None],\n",
    "    [[(759.6067, 759.6115000000001)], None, None],\n",
    "    [[(759.6068, 759.6114)], None, None],\n",
    "    [[(759.6073, 759.6114)], None, None],\n",
    "    [[(759.6071000000001, 759.6113)], None, None],\n",
    "    [None, None, None],\n",
    "    [[(759.6069, 759.6112)], None, None],\n",
    "]\n",
    "array_x, array_y, array_z, array_c = figures.compute_array_3D( ll_t_bounds, normalize_independently=True, high_res=False)\n"
   ]
  },
  {
   "cell_type": "code",
   "execution_count": null,
   "metadata": {},
   "outputs": [],
   "source": [
    "array_slices = np.copy(array_atlas_borders)\n",
    "array_for_avg = np.full_like(array_atlas_borders,1)\n",
    "array_x_scaled = array_x * 1000000 / atlas.resolution / decrease_dimensionality_factor\n",
    "array_y_scaled = array_y * 1000000 / atlas.resolution / decrease_dimensionality_factor\n",
    "array_z_scaled = array_z * 1000000 / atlas.resolution / decrease_dimensionality_factor\n",
    "\n",
    "print(np.min(array_x_scaled), np.max(array_x_scaled))\n",
    "print(np.min(array_y_scaled), np.max(array_y_scaled))\n",
    "print(np.min(array_z_scaled), np.max(array_z_scaled))\n",
    "print(np.min(array_c), np.max(array_c))\n",
    "print(array_slices.shape)\n",
    "for x, y, z, c in zip(array_x_scaled, array_y_scaled, array_z_scaled, array_c):\n",
    "    x_scaled = int(round(y))\n",
    "    y_scaled = int(round(z))\n",
    "    z_scaled = int(round(x))\n",
    "    # if inside the brain but not a border\n",
    "    if array_slices[x_scaled, y_scaled, z_scaled ] > -0.05:\n",
    "        # if inside the brain and not assigned before\n",
    "        if abs(array_slices[x_scaled, y_scaled, z_scaled ] - (-0.01)) < 10**-4:\n",
    "            array_slices[x_scaled, y_scaled, z_scaled ] = c/100\n",
    "        # inside the brain but already assigned, in which case average\n",
    "        else:\n",
    "            array_slices[x_scaled, y_scaled, z_scaled ] += c/100\n",
    "            array_for_avg[x_scaled, y_scaled, z_scaled ] += 1\n",
    "            \n",
    "array_slices = array_slices/array_for_avg"
   ]
  },
  {
   "cell_type": "code",
   "execution_count": null,
   "metadata": {},
   "outputs": [],
   "source": [
    "plot = False\n",
    "if plot:\n",
    "    fig = go.Figure(\n",
    "        data=go.Volume(\n",
    "            x=X.flatten(),\n",
    "            y=Y.flatten(),\n",
    "            z=Z.flatten(),\n",
    "            value=array_slices.flatten(),\n",
    "            isomin = -1,\n",
    "            isomax= 2.55,\n",
    "            opacity=0.5,  # max opacity\n",
    "            opacityscale=\"uniform\",\n",
    "            surface_count=10,\n",
    "            colorscale=\"RdBu_r\",\n",
    "        )\n",
    "    )\n",
    "\n",
    "    fig.update_layout(\n",
    "        margin=dict(t=0, r=0, b=0, l=0),\n",
    "        scene=dict(\n",
    "            xaxis=dict(backgroundcolor=\"rgba(0,0,0,0)\", color=\"grey\", gridcolor=\"grey\"),\n",
    "            yaxis=dict(backgroundcolor=\"rgba(0,0,0,0)\", color=\"grey\", gridcolor=\"grey\"),\n",
    "            zaxis=dict(backgroundcolor=\"rgba(0,0,0,0)\", color=\"grey\", gridcolor=\"grey\"),\n",
    "        ),\n",
    "    )\n",
    "    fig.show()\n"
   ]
  },
  {
   "cell_type": "code",
   "execution_count": null,
   "metadata": {},
   "outputs": [],
   "source": [
    "array_interpolated = fill_array_interpolation(array_annotation, array_slices)\n"
   ]
  },
  {
   "cell_type": "code",
   "execution_count": null,
   "metadata": {},
   "outputs": [],
   "source": [
    "# size = widgets.IntSlider(value=5, min=0,max=array_interpolated.shape[0]-1,step=1, description='Slice')\n",
    "\n",
    "# def hist1(size):\n",
    "#     plt.imshow(array_interpolated[size,:,:], vmin = -0.1, vmax = 2.55)\n",
    "#     return\n",
    "# out = widgets.interactive_output(hist1, {'size':size})\n",
    "\n",
    "# display(size, out)"
   ]
  },
  {
   "cell_type": "code",
   "execution_count": null,
   "metadata": {},
   "outputs": [],
   "source": [
    "# size = widgets.IntSlider(value=5, min=0,max=array_slices.shape[0]-1,step=1, description='Slice')\n",
    "\n",
    "# def hist1(size):\n",
    "#     plt.imshow(array_slices[size,:,:], vmin = -0.1, vmax = 2.55)\n",
    "#     return\n",
    "# out = widgets.interactive_output(hist1, {'size':size})\n",
    "\n",
    "# display(size, out)"
   ]
  },
  {
   "cell_type": "code",
   "execution_count": null,
   "metadata": {},
   "outputs": [],
   "source": [
    "plot = True\n",
    "if plot:\n",
    "    volume_plot = go.Volume(\n",
    "            x=X.flatten(),\n",
    "            y=Y.flatten(),\n",
    "            z=Z.flatten(),\n",
    "            value=array_interpolated.flatten(),\n",
    "            isomin = -0.11,\n",
    "            isomax= 1.5,\n",
    "            opacity=0.5,  # max opacity\n",
    "            opacityscale=\"uniform\",\n",
    "            surface_count=10,\n",
    "            colorscale='Bluyl',#\"RdBu_r\",\n",
    "            flatshading = False,\n",
    "            #caps= dict(x_show=False, y_show=False, z_show=False), # no caps\n",
    "            #cmid=-0.1,\n",
    "            #cmax = 2.,\n",
    "            #cmin = -1,\n",
    "        )\n",
    "    #brain_root = figures.compute_root_data()#return_pickled_object(\"figures/atlas_page/3D\", \"root\", force_update=False, compute_function=figures.compute_root_data)\n",
    "\n",
    "    fig = go.Figure(\n",
    "        data=volume_plot#[volume_plot, brain_root]\n",
    "    )\n",
    "\n",
    "    fig.update_layout(\n",
    "        margin=dict(t=0, r=0, b=0, l=0),\n",
    "        scene=dict(\n",
    "            xaxis=dict(backgroundcolor=\"rgba(0,0,0,0)\", color=\"grey\", gridcolor=\"grey\"),\n",
    "            yaxis=dict(backgroundcolor=\"rgba(0,0,0,0)\", color=\"grey\", gridcolor=\"grey\"),\n",
    "            zaxis=dict(backgroundcolor=\"rgba(0,0,0,0)\", color=\"grey\", gridcolor=\"grey\"),\n",
    "        ),\n",
    "    )\n",
    "    fig.show()"
   ]
  },
  {
   "cell_type": "code",
   "execution_count": null,
   "metadata": {},
   "outputs": [],
   "source": []
  }
 ],
 "metadata": {
  "interpreter": {
   "hash": "985800c5f794748871d1c47c637e310c508dd38d7e0ad28eb7b6f7951c361e47"
  },
  "kernelspec": {
   "display_name": "Python 3 (ipykernel)",
   "language": "python",
   "name": "python3"
  },
  "language_info": {
   "codemirror_mode": {
    "name": "ipython",
    "version": 3
   },
   "file_extension": ".py",
   "mimetype": "text/x-python",
   "name": "python",
   "nbconvert_exporter": "python",
   "pygments_lexer": "ipython3",
   "version": "3.9.7"
  }
 },
 "nbformat": 4,
 "nbformat_minor": 4
}
