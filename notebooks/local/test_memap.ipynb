{
 "cells": [
  {
   "cell_type": "markdown",
   "id": "e5dbb311",
   "metadata": {},
   "source": [
    "# Lookup testing"
   ]
  },
  {
   "cell_type": "markdown",
   "id": "6f88b5db",
   "metadata": {},
   "source": [
    "### Load important modules"
   ]
  },
  {
   "cell_type": "code",
   "execution_count": 1,
   "id": "81e581e2",
   "metadata": {},
   "outputs": [],
   "source": [
    "# Standard imports\n",
    "import numpy as np\n",
    "import matplotlib.pyplot as plt\n",
    "import plotly.graph_objects as go\n",
    "import copy\n",
    "from sys import getsizeof\n",
    "import os\n",
    "import tables\n",
    "import time\n",
    "# Move to root directory for easier module import\n",
    "os.chdir(\"../../\")\n",
    "from lbae.modules.maldi_data import MaldiData\n",
    "from lbae.modules.tools import spectra\n",
    "import copy\n",
    "from lbae.modules.tools.misc import logmem\n"
   ]
  },
  {
   "cell_type": "code",
   "execution_count": 2,
   "id": "f381cd3b",
   "metadata": {},
   "outputs": [],
   "source": [
    "data = MaldiData()"
   ]
  },
  {
   "cell_type": "code",
   "execution_count": 5,
   "id": "9e3846c0",
   "metadata": {},
   "outputs": [],
   "source": []
  },
  {
   "cell_type": "code",
   "execution_count": 3,
   "id": "6524de53",
   "metadata": {},
   "outputs": [
    {
     "name": "stdout",
     "output_type": "stream",
     "text": [
      "Elapsed time during the whole program in seconds: 0.8989092987030745\n"
     ]
    }
   ],
   "source": [
    "array_mmap = data.get_array_spectra(1)\n",
    "chunk = 10000\n",
    "array_to_sum = np.zeros(array_mmap.shape, dtype = np.float32)\n",
    "array_to_sum[:] = np.random.rand(*array_mmap.shape)\n",
    "t1_start = time.perf_counter()\n",
    "for i in np.random.randint(0, array_mmap.shape[1]-chunk, 100000):\n",
    "    #array_to_sum[:] = array_mmap[0,i:i+chunk]\n",
    "    x = np.sum(array_to_sum[0,i:i+chunk])\n",
    "    #x = np.sum(array_mmap[0,i:i+chunk])\n",
    "t1_stop = time.perf_counter()\n",
    "print(\"Elapsed time during the whole program in seconds:\",\n",
    "                                        t1_stop-t1_start)"
   ]
  },
  {
   "cell_type": "code",
   "execution_count": 16,
   "id": "7d1b8965",
   "metadata": {},
   "outputs": [],
   "source": [
    "array = np.empty(shape = array_mmap.shape, dtype = array_mmap.dtype)\n",
    "array[:] = array_mmap[:]"
   ]
  },
  {
   "cell_type": "code",
   "execution_count": 17,
   "id": "53302d58",
   "metadata": {},
   "outputs": [
    {
     "name": "stdout",
     "output_type": "stream",
     "text": [
      "<class 'numpy.ndarray'>\n"
     ]
    }
   ],
   "source": []
  },
  {
   "cell_type": "code",
   "execution_count": 14,
   "id": "d959c5c1",
   "metadata": {},
   "outputs": [
    {
     "name": "stdout",
     "output_type": "stream",
     "text": [
      "Elapsed time during the whole program in seconds: 0.0009902846068143845\n"
     ]
    }
   ],
   "source": [
    "for idx in range(1,30):\n",
    "    array_mmap = data.get_array_spectra(idx)\n",
    "t1_start = time.perf_counter()\n",
    "data.clean_memory(slice_index= 1)\n",
    "t1_stop = time.perf_counter()\n",
    "print(\"Elapsed time during the whole program in seconds:\",\n",
    "                                        t1_stop-t1_start)"
   ]
  },
  {
   "cell_type": "code",
   "execution_count": 9,
   "id": "70aff19a",
   "metadata": {},
   "outputs": [
    {
     "name": "stdout",
     "output_type": "stream",
     "text": [
      "\tMemTotal: 980.0703125\n",
      "Elapsed time during the whole program in seconds: 0.0004363860934972763\n"
     ]
    }
   ],
   "source": [
    "t1_start = time.perf_counter()\n",
    "print(logmem())\n",
    "t1_stop = time.perf_counter()\n",
    "print(\"Elapsed time during the whole program in seconds:\",t1_stop-t1_start)"
   ]
  },
  {
   "cell_type": "code",
   "execution_count": null,
   "id": "28c641ec",
   "metadata": {},
   "outputs": [],
   "source": []
  }
 ],
 "metadata": {
  "kernelspec": {
   "display_name": "Python 3",
   "language": "python",
   "name": "python3"
  },
  "language_info": {
   "codemirror_mode": {
    "name": "ipython",
    "version": 3
   },
   "file_extension": ".py",
   "mimetype": "text/x-python",
   "name": "python",
   "nbconvert_exporter": "python",
   "pygments_lexer": "ipython3",
   "version": "3.9.4"
  }
 },
 "nbformat": 4,
 "nbformat_minor": 5
}
