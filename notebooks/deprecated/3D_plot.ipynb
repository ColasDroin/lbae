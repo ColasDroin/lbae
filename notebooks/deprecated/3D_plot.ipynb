{
 "cells": [
  {
   "cell_type": "markdown",
   "metadata": {},
   "source": [
    "## Import required modules\n"
   ]
  },
  {
   "cell_type": "code",
   "execution_count": 1,
   "metadata": {},
   "outputs": [
    {
     "name": "stdout",
     "output_type": "stream",
     "text": [
      "allen mouse atlas (res. 25um)\n",
      "From: http://www.brain-map.org (Wang et al 2020, https://doi.org/10.1016/j.cell.2020.04.007 )\n"
     ]
    }
   ],
   "source": [
    "# Standard import\n",
    "import os\n",
    "import numpy as np\n",
    "import plotly.graph_objects as go\n",
    "from numba import njit\n",
    "import ipywidgets as widgets\n",
    "from IPython.display import display\n",
    "import matplotlib.pyplot as plt\n",
    "\n",
    "# Move to root directory for easier module import\n",
    "os.chdir(\"../../\")\n",
    "\n",
    "# LBAE modules\n",
    "from modules.maldi_data import MaldiData\n",
    "from modules.figures import Figures\n",
    "from modules.atlas import Atlas\n",
    "from modules.tools.volume import fill_array_borders, fill_array_interpolation\n",
    "\n",
    "\n",
    "# Objects containing our data as well as the atlas data\n",
    "data = MaldiData()\n",
    "atlas = Atlas(data, resolution=25)\n",
    "figures = Figures(data, atlas)\n"
   ]
  },
  {
   "cell_type": "code",
   "execution_count": null,
   "metadata": {},
   "outputs": [],
   "source": [
    "def fill_dic_acronym_children_id(dic_acronym_children_id, l_id_leaves):\n",
    "    older_leave_id = l_id_leaves[0]\n",
    "    acronym = atlas.bg_atlas.structures[older_leave_id][\"acronym\"]\n",
    "    for id_leave in l_id_leaves:\n",
    "        # fill dic with current acronym and id\n",
    "        if acronym in dic_acronym_children_id:\n",
    "            dic_acronym_children_id[acronym].add(id_leave)\n",
    "        else:\n",
    "            dic_acronym_children_id[acronym] = set([id_leave])\n",
    "    # while root is not reached, climb back the ancestor tree\n",
    "    if len(atlas.bg_atlas.structures[older_leave_id][\"structure_id_path\"]) >= 2:\n",
    "        id_parent = atlas.bg_atlas.structures[older_leave_id][\"structure_id_path\"][-2]\n",
    "        dic_acronym_children_id = fill_dic_acronym_children_id(\n",
    "            dic_acronym_children_id, [id_parent] + l_id_leaves\n",
    "        )\n",
    "    return dic_acronym_children_id\n",
    "\n",
    "\n",
    "dic_acronym_children_id = {}\n",
    "for id in set(atlas.bg_atlas.annotation.flatten()):\n",
    "    if id != 0:\n",
    "        dic_acronym_children_id = fill_dic_acronym_children_id(dic_acronym_children_id, [id])\n"
   ]
  },
  {
   "cell_type": "code",
   "execution_count": 10,
   "metadata": {},
   "outputs": [],
   "source": [
    "decrease_dimensionality_factor_root = 7\n",
    "\n",
    "# get array of annotations, which associate coordinate to id\n",
    "array_annotation_root = np.array(atlas.bg_atlas.annotation, dtype=np.int32)\n",
    "\n",
    "# Subsample array of annotation the same way array_atlas was subsampled\n",
    "array_annotation_root = array_annotation_root[\n",
    "    ::decrease_dimensionality_factor_root,\n",
    "    ::decrease_dimensionality_factor_root,\n",
    "    ::decrease_dimensionality_factor_root,\n",
    "]\n",
    "\n",
    "# bug correction for the last slice\n",
    "array_annotation_root = np.concatenate(\n",
    "    (\n",
    "        array_annotation_root,\n",
    "        np.zeros(\n",
    "            (1, array_annotation_root.shape[1], array_annotation_root.shape[2]), dtype=np.int32\n",
    "        ),\n",
    "    )\n",
    ")\n",
    "\n",
    "# array_atlas_borders_root = fill_array_borders(array_annotation_root, differentiate_borders = False, color_near_borders = False, keep_structure_id = None)\n"
   ]
  },
  {
   "cell_type": "code",
   "execution_count": 11,
   "metadata": {},
   "outputs": [],
   "source": [
    "# get array of annotations, which associate coordinate to id\n",
    "array_reference_root = np.array(atlas.bg_atlas.reference, dtype=np.int32)\n",
    "\n",
    "# Subsample array of annotation the same way array_atlas was subsampled\n",
    "array_reference_root = array_reference_root[\n",
    "    ::decrease_dimensionality_factor_root,\n",
    "    ::decrease_dimensionality_factor_root,\n",
    "    ::decrease_dimensionality_factor_root,\n",
    "]\n",
    "\n",
    "# bug correction for the last slice\n",
    "array_reference_root = np.concatenate(\n",
    "    (\n",
    "        array_reference_root,\n",
    "        np.zeros((1, array_reference_root.shape[1], array_reference_root.shape[2])),\n",
    "    )\n",
    ")\n"
   ]
  },
  {
   "cell_type": "code",
   "execution_count": null,
   "metadata": {},
   "outputs": [],
   "source": [
    "decrease_dimensionality_factor = 4\n",
    "\n",
    "# get array of annotatiobs, which associate coordinate to id\n",
    "array_annotation = np.array(atlas.bg_atlas.annotation, dtype=np.int32)\n",
    "\n",
    "# Subsample array of annotation the same way array_atlas was subsampled\n",
    "array_annotation = array_annotation[\n",
    "    ::decrease_dimensionality_factor,\n",
    "    ::decrease_dimensionality_factor,\n",
    "    ::decrease_dimensionality_factor,\n",
    "]\n",
    "\n",
    "# bug correction for the last slice\n",
    "array_annotation = np.concatenate(\n",
    "    (array_annotation, np.zeros((1, array_annotation.shape[1], array_annotation.shape[2])))\n",
    ")\n",
    "\n",
    "# choose structure\n",
    "# for i, keys in atlas.dic_label_id.items():\n",
    "#    print(keys, i)\n",
    "\n",
    "id_structure = None  # atlas.dic_label_id[\"Substantia innominata\"]\n",
    "array_atlas_borders = fill_array_borders(\n",
    "    array_annotation,\n",
    "    differentiate_borders=False,\n",
    "    color_near_borders=False,\n",
    "    keep_structure_id=id_structure,\n",
    ")\n"
   ]
  },
  {
   "cell_type": "code",
   "execution_count": null,
   "metadata": {},
   "outputs": [],
   "source": [
    "array_to_display = np.array(atlas.bg_atlas.annotation[300, :, :], dtype=np.int32)\n",
    "plt.imshow(array_to_display, vmin=0, vmax=1)\n",
    "plt.show()\n"
   ]
  },
  {
   "cell_type": "code",
   "execution_count": null,
   "metadata": {},
   "outputs": [],
   "source": [
    "# array_to_display = np.array(array_atlas_borders[30,:,:],dtype = np.float32)\n",
    "# plt.imshow(array_to_display , vmin = -0.4, vmax = 0)\n",
    "# plt.show()\n",
    "\n",
    "size = widgets.IntSlider(\n",
    "    value=5, min=0, max=array_atlas_borders.shape[0] - 1, step=1, description=\"Slice\"\n",
    ")\n",
    "\n",
    "\n",
    "def hist1(size):\n",
    "    plt.imshow(array_atlas_borders[size, :, :], vmin=-0.4, vmax=0)\n",
    "    return\n",
    "\n",
    "\n",
    "out = widgets.interactive_output(hist1, {\"size\": size})\n",
    "\n",
    "display(size, out)\n"
   ]
  },
  {
   "cell_type": "code",
   "execution_count": null,
   "metadata": {},
   "outputs": [],
   "source": [
    "from scipy.spatial import Delaunay\n",
    "import plotly.figure_factory as ff\n",
    "\n",
    "# Get list of coordinates corresponding to a surface\n",
    "bool_coor = np.logical_or(array_atlas_borders >= -0.11, array_atlas_borders <= -0.09)\n",
    "X, Y, Z = np.mgrid[\n",
    "    0 : array_atlas_borders.shape[0] / 1000 * 25 : array_atlas_borders.shape[0] * 1j,\n",
    "    0 : array_atlas_borders.shape[1] / 1000 * 25 : array_atlas_borders.shape[1] * 1j,\n",
    "    0 : array_atlas_borders.shape[2] / 1000 * 25 : array_atlas_borders.shape[2] * 1j,\n",
    "]\n",
    "\n",
    "# array_atlas_borders = array_atlas_borders[bool_coor]\n",
    "X = X[bool_coor]\n",
    "Y = Y[bool_coor]\n",
    "Z = Z[bool_coor]\n",
    "array = np.vstack((X, Y, Z)).T\n"
   ]
  },
  {
   "cell_type": "code",
   "execution_count": null,
   "metadata": {},
   "outputs": [],
   "source": [
    "# print(array_annotation_root[20,20,:])\n",
    "for keys in atlas.dic_name_acronym:\n",
    "    if \"nigra\" in keys:\n",
    "        print(keys)\n",
    "\n",
    "for keys in atlas.dic_name_acronym:\n",
    "    if \"brain\" in keys:\n",
    "        print(keys)\n",
    "\n",
    "# print(atlas.dic_name_acronym['Substantia nigra'])\n",
    "print(atlas.dic_acronym_children_id[atlas.dic_name_acronym[\"Substantia nigra, reticular part\"]])\n",
    "print(atlas.dic_acronym_children_id[atlas.dic_name_acronym[\"Substantia nigra, compact part\"]])\n",
    "print(atlas.dic_acronym_children_id[atlas.dic_name_acronym[\"Hindbrain\"]])\n"
   ]
  },
  {
   "cell_type": "code",
   "execution_count": null,
   "metadata": {},
   "outputs": [],
   "source": [
    "atlas.dic_acronym_children_id[atlas.dic_name_acronym[\"Hindbrain\"]]\n"
   ]
  },
  {
   "cell_type": "code",
   "execution_count": null,
   "metadata": {},
   "outputs": [],
   "source": [
    "def rotate_y(x, y, z, theta):\n",
    "    w = x + 1j * z\n",
    "    return np.real(np.exp(1j * theta) * w), y, np.imag(np.exp(1j * theta) * w)\n",
    "\n",
    "\n",
    "x_eye = 1.25\n",
    "y_eye = 0.1\n",
    "z_eye = 1.25\n",
    "\n",
    "\n",
    "@njit\n",
    "def boost_value_mid_brain(array_reference, array_annotation):\n",
    "    center_z = int(array_reference_root_to_plot.shape[2] / 2)\n",
    "    center_x = int(array_reference_root_to_plot.shape[0] / 2)\n",
    "    center_y = int(array_reference_root_to_plot.shape[1] / 2)\n",
    "    len_z = array_reference_root_to_plot.shape[2]\n",
    "    len_x = array_reference_root_to_plot.shape[0]\n",
    "    len_y = array_reference_root_to_plot.shape[1]\n",
    "    for x in range(array_annotation.shape[0]):\n",
    "        for y in range(array_annotation.shape[1]):\n",
    "            for z in range(array_annotation.shape[2]):\n",
    "                if array_annotation[x, y, z] != 0 and z > center_z:\n",
    "                    array_reference[x, y, z] += (\n",
    "                        2\n",
    "                        - (\n",
    "                            np.abs(z - center_z) / len_z\n",
    "                            + np.abs(x - center_x) / len_x\n",
    "                            + np.abs(y - center_y) / len_y\n",
    "                        )\n",
    "                    ) ** 4 * 0.01\n",
    "    return array_reference\n",
    "\n",
    "\n",
    "@njit\n",
    "def boost_value_whole_brain(array_reference, array_annotation):\n",
    "    center_z = int(array_reference_root_to_plot.shape[2] / 2)\n",
    "    center_x = int(array_reference_root_to_plot.shape[0] / 2)\n",
    "    center_y = int(array_reference_root_to_plot.shape[1] / 2)\n",
    "    len_z = array_reference_root_to_plot.shape[2]\n",
    "    len_x = array_reference_root_to_plot.shape[0]\n",
    "    len_y = array_reference_root_to_plot.shape[1]\n",
    "    for x in range(array_annotation.shape[0]):\n",
    "        for y in range(array_annotation.shape[1]):\n",
    "            for z in range(array_annotation.shape[2]):\n",
    "                if array_annotation[x, y, z] != 0:\n",
    "                    array_reference[x, y, z] += (\n",
    "                        2\n",
    "                        - (\n",
    "                            np.abs(z - center_z) / len_z\n",
    "                            + np.abs(x - center_x) / len_x\n",
    "                            + np.abs(y - center_y) / len_y\n",
    "                        )\n",
    "                    ) ** 4 * 0.01\n",
    "    return array_reference\n",
    "\n",
    "\n",
    "@njit\n",
    "def boost_value_array_reference(set_id_to_boost, array_reference, array_annotation, boost_value):\n",
    "    set_id_to_boost = set(set_id_to_boost)\n",
    "    for x in range(array_annotation.shape[0]):\n",
    "        for y in range(array_annotation.shape[1]):\n",
    "            for z in range(array_annotation.shape[2]):\n",
    "                if array_annotation[x, y, z] in set_id_to_boost:\n",
    "                    array_reference[x, y, z] += boost_value\n",
    "    return array_reference\n",
    "\n",
    "\n",
    "@njit\n",
    "def clean_brain(array_reference, array_annotation):\n",
    "    for x in range(array_annotation.shape[0]):\n",
    "        for y in range(array_annotation.shape[1]):\n",
    "            for z in range(array_annotation.shape[2]):\n",
    "                if array_annotation[x, y, z] == 0:\n",
    "                    array_reference[x, y, z] = 0\n",
    "    return array_reference\n",
    "\n",
    "\n",
    "array_reference_root_to_plot = np.copy(array_reference_root)\n",
    "\n",
    "# Remove values outside of annotations\n",
    "array_reference_root_to_plot = clean_brain(array_reference_root_to_plot, array_annotation_root)\n",
    "\n",
    "# Cap values to 100 initially to prevent too red zones\n",
    "array_reference_root_to_plot = np.clip(array_reference_root_to_plot, a_min=None, a_max=250)\n",
    "\n",
    "# Make substantia nigra very red\n",
    "array_reference_root_to_plot = boost_value_array_reference(\n",
    "    atlas.dic_acronym_children_id[atlas.dic_name_acronym[\"Substantia nigra, reticular part\"]],\n",
    "    array_reference_root_to_plot,\n",
    "    array_annotation_root,\n",
    "    200,\n",
    ")\n",
    "array_reference_root_to_plot = boost_value_array_reference(\n",
    "    atlas.dic_acronym_children_id[atlas.dic_name_acronym[\"Substantia nigra, compact part\"]],\n",
    "    array_reference_root_to_plot,\n",
    "    array_annotation_root,\n",
    "    200,\n",
    ")\n",
    "array_reference_root_to_plot = boost_value_array_reference(\n",
    "    np.array(\n",
    "        list(atlas.dic_acronym_children_id[atlas.dic_name_acronym[\"Hindbrain\"]]), dtype=np.int64\n",
    "    ),\n",
    "    array_reference_root_to_plot,\n",
    "    array_annotation_root,\n",
    "    100,\n",
    ")\n",
    "\n",
    "time_domain = np.arange(0, 150, 0.1)\n",
    "l_fig = []\n",
    "for image, t in enumerate(time_domain):\n",
    "\n",
    "    # At each iteration, make hindbrain redder\n",
    "    array_reference_root_to_plot = boost_value_array_reference(\n",
    "        np.array(\n",
    "            list(atlas.dic_acronym_children_id[atlas.dic_name_acronym[\"Hindbrain\"]]), dtype=np.int64\n",
    "        ),\n",
    "        array_reference_root_to_plot,\n",
    "        array_annotation_root,\n",
    "        0.3,\n",
    "    )\n",
    "\n",
    "    center_z = int(array_reference_root_to_plot.shape[2] / 2)\n",
    "    len_z = array_reference_root_to_plot.shape[2]\n",
    "    # At each iteration, make mid and whole brain redder\n",
    "    array_reference_root_to_plot = boost_value_mid_brain(\n",
    "        array_reference_root_to_plot, array_annotation_root\n",
    "    )\n",
    "    array_reference_root_to_plot = boost_value_whole_brain(\n",
    "        array_reference_root_to_plot, array_annotation_root\n",
    "    )\n",
    "\n",
    "    X_root, Y_root, Z_root = np.mgrid[\n",
    "        0 : array_reference_root_to_plot.shape[0]\n",
    "        / 1000\n",
    "        * 25\n",
    "        * decrease_dimensionality_factor_root : array_reference_root.shape[0]\n",
    "        * 1j,\n",
    "        0 : array_reference_root_to_plot.shape[1]\n",
    "        / 1000\n",
    "        * 25\n",
    "        * decrease_dimensionality_factor_root : array_reference_root.shape[1]\n",
    "        * 1j,\n",
    "        0 : array_reference_root_to_plot.shape[2]\n",
    "        / 1000\n",
    "        * 25\n",
    "        * decrease_dimensionality_factor_root : array_reference_root.shape[2]\n",
    "        * 1j,\n",
    "    ]\n",
    "\n",
    "    brain_root_data = go.Volume(\n",
    "        x=X_root.flatten(),\n",
    "        y=Y_root.flatten()[::-1],\n",
    "        z=Z_root.flatten(),\n",
    "        value=array_reference_root_to_plot.flatten(),\n",
    "        isomin=10,\n",
    "        isomax=400,\n",
    "        opacity=0.15,  # max opacity\n",
    "        # opacityscale=[[-0.0, 0], [1., 1]],\n",
    "        opacityscale=\"uniform\",\n",
    "        surface_count=10,\n",
    "        colorscale=\"Rdbu_r\",  # colorscale,\n",
    "        # flatshading = True,\n",
    "    )\n",
    "\n",
    "    fig = go.Figure(data=brain_root_data)\n",
    "    fig.update_traces(showscale=False)\n",
    "\n",
    "    fig.update_layout(\n",
    "        margin=dict(t=0, r=0, b=0, l=0),\n",
    "        scene=dict(\n",
    "            xaxis=dict(backgroundcolor=\"rgba(0,0,0,0)\", color=\"white\", gridcolor=\"white\"),\n",
    "            yaxis=dict(backgroundcolor=\"rgba(0,0,0,0)\", color=\"white\", gridcolor=\"white\"),\n",
    "            zaxis=dict(backgroundcolor=\"rgba(0,0,0,0)\", color=\"white\", gridcolor=\"white\"),\n",
    "        ),\n",
    "    )\n",
    "\n",
    "    xe, ye, ze = rotate_y(x_eye, y_eye, z_eye, -t / 20)\n",
    "    camera = dict(\n",
    "        up=dict(x=0, y=1, z=0),\n",
    "        center=dict(x=0, y=0, z=0),\n",
    "        eye=dict(x=xe, y=ye, z=ze),\n",
    "    )\n",
    "\n",
    "    fig.update_layout(scene_camera=camera)\n",
    "    l_fig.append((image, fig))\n"
   ]
  },
  {
   "cell_type": "code",
   "execution_count": null,
   "metadata": {},
   "outputs": [],
   "source": [
    "from multiprocessing import Pool\n",
    "\n",
    "multiprocessing = True\n",
    "\n",
    "\n",
    "def write_figure(t_fig):\n",
    "    image, fig = t_fig\n",
    "    fig.write_image(\"notebooks/tests/images/fig\" + format(image, \"04d\") + \".png\")\n",
    "\n",
    "\n",
    "if multiprocessing:\n",
    "    with Pool(processes=16) as pool:\n",
    "        [x for x in pool.map(write_figure, l_fig)]\n",
    "\n",
    "else:\n",
    "    for image, fig in l_fig:\n",
    "        print(\"Plotting figure \" + image)\n",
    "        fig.write_image(\"notebooks/tests/images/fig\" + format(image, \"04d\") + \".png\")\n",
    "        # break\n"
   ]
  },
  {
   "cell_type": "code",
   "execution_count": 16,
   "metadata": {},
   "outputs": [
    {
     "name": "stdout",
     "output_type": "stream",
     "text": [
      "0.0 278.0\n"
     ]
    },
    {
     "data": {
      "application/vnd.plotly.v1+json": {
       "config": {
        "plotlyServerURL": "https://plot.ly"
       },
       "data": [
        {
         "colorscale": [
          [
           0,
           "#440154"
          ],
          [
           0.1111111111111111,
           "#482878"
          ],
          [
           0.2222222222222222,
           "#3e4989"
          ],
          [
           0.3333333333333333,
           "#31688e"
          ],
          [
           0.4444444444444444,
           "#26828e"
          ],
          [
           0.5555555555555556,
           "#1f9e89"
          ],
          [
           0.6666666666666666,
           "#35b779"
          ],
          [
           0.7777777777777778,
           "#6ece58"
          ],
          [
           0.8888888888888888,
           "#b5de2b"
          ],
          [
           1,
           "#fde725"
          ]
         ],
         "flatshading": false,
         "isomax": 500,
         "isomin": 9,
         "opacity": 0.75,
         "opacityscale": "uniform",
         "surface": {
          "count": 20
         },
         "type": "volume",
         "value": [
          0,
          0,
          0,
          0,
          0,
          0,
          0,
          0,
          0,
          0,
          0,
          0,
          0,
          0,
          0,
          0,
          0,
          0,
          0,
          0,
          0,
          0,
          0,
          0,
          0,
          0,
          1,
          160,
          178,
          1,
          0,
          1,
          96,
          52,
          1,
          0,
          1,
          1,
          1,
          1,
          0,
          0,
          0,
          0,
          0,
          0,
          235,
          133,
          95,
          1,
          0,
          170,
          150,
          172,
          157,
          0,
          1,
          1,
          14,
          1,
          0,
          0,
          0,
          0,
          0,
          0,
          278,
          97,
          116,
          225,
          0,
          125,
          112,
          198,
          161,
          0,
          4,
          1,
          2,
          1,
          0,
          0,
          0,
          0,
          0,
          0,
          142,
          198,
          163,
          2,
          0,
          5,
          79,
          130,
          2,
          0,
          1,
          1,
          1,
          1,
          0,
          0,
          0,
          0,
          0,
          0,
          3,
          86,
          233,
          1,
          0,
          2,
          111,
          19,
          1,
          0,
          1,
          15,
          2,
          1,
          0,
          0,
          0,
          0,
          0,
          0,
          0,
          0,
          0,
          0,
          0,
          0,
          0,
          0,
          0,
          0,
          0,
          0,
          0,
          0
         ],
         "x": [
          0,
          0,
          0,
          0,
          0,
          0,
          0,
          0,
          0,
          0,
          0,
          0,
          0,
          0,
          0,
          0,
          0,
          0,
          0,
          0,
          2.9166666666666665,
          2.9166666666666665,
          2.9166666666666665,
          2.9166666666666665,
          2.9166666666666665,
          2.9166666666666665,
          2.9166666666666665,
          2.9166666666666665,
          2.9166666666666665,
          2.9166666666666665,
          2.9166666666666665,
          2.9166666666666665,
          2.9166666666666665,
          2.9166666666666665,
          2.9166666666666665,
          2.9166666666666665,
          2.9166666666666665,
          2.9166666666666665,
          2.9166666666666665,
          2.9166666666666665,
          5.833333333333333,
          5.833333333333333,
          5.833333333333333,
          5.833333333333333,
          5.833333333333333,
          5.833333333333333,
          5.833333333333333,
          5.833333333333333,
          5.833333333333333,
          5.833333333333333,
          5.833333333333333,
          5.833333333333333,
          5.833333333333333,
          5.833333333333333,
          5.833333333333333,
          5.833333333333333,
          5.833333333333333,
          5.833333333333333,
          5.833333333333333,
          5.833333333333333,
          8.75,
          8.75,
          8.75,
          8.75,
          8.75,
          8.75,
          8.75,
          8.75,
          8.75,
          8.75,
          8.75,
          8.75,
          8.75,
          8.75,
          8.75,
          8.75,
          8.75,
          8.75,
          8.75,
          8.75,
          11.666666666666666,
          11.666666666666666,
          11.666666666666666,
          11.666666666666666,
          11.666666666666666,
          11.666666666666666,
          11.666666666666666,
          11.666666666666666,
          11.666666666666666,
          11.666666666666666,
          11.666666666666666,
          11.666666666666666,
          11.666666666666666,
          11.666666666666666,
          11.666666666666666,
          11.666666666666666,
          11.666666666666666,
          11.666666666666666,
          11.666666666666666,
          11.666666666666666,
          14.583333333333332,
          14.583333333333332,
          14.583333333333332,
          14.583333333333332,
          14.583333333333332,
          14.583333333333332,
          14.583333333333332,
          14.583333333333332,
          14.583333333333332,
          14.583333333333332,
          14.583333333333332,
          14.583333333333332,
          14.583333333333332,
          14.583333333333332,
          14.583333333333332,
          14.583333333333332,
          14.583333333333332,
          14.583333333333332,
          14.583333333333332,
          14.583333333333332,
          17.5,
          17.5,
          17.5,
          17.5,
          17.5,
          17.5,
          17.5,
          17.5,
          17.5,
          17.5,
          17.5,
          17.5,
          17.5,
          17.5,
          17.5,
          17.5,
          17.5,
          17.5,
          17.5,
          17.5
         ],
         "y": [
          0,
          0,
          0,
          0,
          0,
          3.3333333333333335,
          3.3333333333333335,
          3.3333333333333335,
          3.3333333333333335,
          3.3333333333333335,
          6.666666666666667,
          6.666666666666667,
          6.666666666666667,
          6.666666666666667,
          6.666666666666667,
          10,
          10,
          10,
          10,
          10,
          0,
          0,
          0,
          0,
          0,
          3.3333333333333335,
          3.3333333333333335,
          3.3333333333333335,
          3.3333333333333335,
          3.3333333333333335,
          6.666666666666667,
          6.666666666666667,
          6.666666666666667,
          6.666666666666667,
          6.666666666666667,
          10,
          10,
          10,
          10,
          10,
          0,
          0,
          0,
          0,
          0,
          3.3333333333333335,
          3.3333333333333335,
          3.3333333333333335,
          3.3333333333333335,
          3.3333333333333335,
          6.666666666666667,
          6.666666666666667,
          6.666666666666667,
          6.666666666666667,
          6.666666666666667,
          10,
          10,
          10,
          10,
          10,
          0,
          0,
          0,
          0,
          0,
          3.3333333333333335,
          3.3333333333333335,
          3.3333333333333335,
          3.3333333333333335,
          3.3333333333333335,
          6.666666666666667,
          6.666666666666667,
          6.666666666666667,
          6.666666666666667,
          6.666666666666667,
          10,
          10,
          10,
          10,
          10,
          0,
          0,
          0,
          0,
          0,
          3.3333333333333335,
          3.3333333333333335,
          3.3333333333333335,
          3.3333333333333335,
          3.3333333333333335,
          6.666666666666667,
          6.666666666666667,
          6.666666666666667,
          6.666666666666667,
          6.666666666666667,
          10,
          10,
          10,
          10,
          10,
          0,
          0,
          0,
          0,
          0,
          3.3333333333333335,
          3.3333333333333335,
          3.3333333333333335,
          3.3333333333333335,
          3.3333333333333335,
          6.666666666666667,
          6.666666666666667,
          6.666666666666667,
          6.666666666666667,
          6.666666666666667,
          10,
          10,
          10,
          10,
          10,
          0,
          0,
          0,
          0,
          0,
          3.3333333333333335,
          3.3333333333333335,
          3.3333333333333335,
          3.3333333333333335,
          3.3333333333333335,
          6.666666666666667,
          6.666666666666667,
          6.666666666666667,
          6.666666666666667,
          6.666666666666667,
          10,
          10,
          10,
          10,
          10
         ],
         "z": [
          0,
          3.125,
          6.25,
          9.375,
          12.5,
          0,
          3.125,
          6.25,
          9.375,
          12.5,
          0,
          3.125,
          6.25,
          9.375,
          12.5,
          0,
          3.125,
          6.25,
          9.375,
          12.5,
          0,
          3.125,
          6.25,
          9.375,
          12.5,
          0,
          3.125,
          6.25,
          9.375,
          12.5,
          0,
          3.125,
          6.25,
          9.375,
          12.5,
          0,
          3.125,
          6.25,
          9.375,
          12.5,
          0,
          3.125,
          6.25,
          9.375,
          12.5,
          0,
          3.125,
          6.25,
          9.375,
          12.5,
          0,
          3.125,
          6.25,
          9.375,
          12.5,
          0,
          3.125,
          6.25,
          9.375,
          12.5,
          0,
          3.125,
          6.25,
          9.375,
          12.5,
          0,
          3.125,
          6.25,
          9.375,
          12.5,
          0,
          3.125,
          6.25,
          9.375,
          12.5,
          0,
          3.125,
          6.25,
          9.375,
          12.5,
          0,
          3.125,
          6.25,
          9.375,
          12.5,
          0,
          3.125,
          6.25,
          9.375,
          12.5,
          0,
          3.125,
          6.25,
          9.375,
          12.5,
          0,
          3.125,
          6.25,
          9.375,
          12.5,
          0,
          3.125,
          6.25,
          9.375,
          12.5,
          0,
          3.125,
          6.25,
          9.375,
          12.5,
          0,
          3.125,
          6.25,
          9.375,
          12.5,
          0,
          3.125,
          6.25,
          9.375,
          12.5,
          0,
          3.125,
          6.25,
          9.375,
          12.5,
          0,
          3.125,
          6.25,
          9.375,
          12.5,
          0,
          3.125,
          6.25,
          9.375,
          12.5,
          0,
          3.125,
          6.25,
          9.375,
          12.5
         ]
        }
       ],
       "layout": {
        "margin": {
         "b": 0,
         "l": 0,
         "r": 0,
         "t": 0
        },
        "scene": {
         "xaxis": {
          "backgroundcolor": "rgba(0,0,0,0)",
          "color": "grey",
          "gridcolor": "grey"
         },
         "yaxis": {
          "backgroundcolor": "rgba(0,0,0,0)",
          "color": "grey",
          "gridcolor": "grey"
         },
         "zaxis": {
          "backgroundcolor": "rgba(0,0,0,0)",
          "color": "grey",
          "gridcolor": "grey"
         }
        },
        "template": {
         "data": {
          "bar": [
           {
            "error_x": {
             "color": "#2a3f5f"
            },
            "error_y": {
             "color": "#2a3f5f"
            },
            "marker": {
             "line": {
              "color": "#E5ECF6",
              "width": 0.5
             },
             "pattern": {
              "fillmode": "overlay",
              "size": 10,
              "solidity": 0.2
             }
            },
            "type": "bar"
           }
          ],
          "barpolar": [
           {
            "marker": {
             "line": {
              "color": "#E5ECF6",
              "width": 0.5
             },
             "pattern": {
              "fillmode": "overlay",
              "size": 10,
              "solidity": 0.2
             }
            },
            "type": "barpolar"
           }
          ],
          "carpet": [
           {
            "aaxis": {
             "endlinecolor": "#2a3f5f",
             "gridcolor": "white",
             "linecolor": "white",
             "minorgridcolor": "white",
             "startlinecolor": "#2a3f5f"
            },
            "baxis": {
             "endlinecolor": "#2a3f5f",
             "gridcolor": "white",
             "linecolor": "white",
             "minorgridcolor": "white",
             "startlinecolor": "#2a3f5f"
            },
            "type": "carpet"
           }
          ],
          "choropleth": [
           {
            "colorbar": {
             "outlinewidth": 0,
             "ticks": ""
            },
            "type": "choropleth"
           }
          ],
          "contour": [
           {
            "colorbar": {
             "outlinewidth": 0,
             "ticks": ""
            },
            "colorscale": [
             [
              0,
              "#0d0887"
             ],
             [
              0.1111111111111111,
              "#46039f"
             ],
             [
              0.2222222222222222,
              "#7201a8"
             ],
             [
              0.3333333333333333,
              "#9c179e"
             ],
             [
              0.4444444444444444,
              "#bd3786"
             ],
             [
              0.5555555555555556,
              "#d8576b"
             ],
             [
              0.6666666666666666,
              "#ed7953"
             ],
             [
              0.7777777777777778,
              "#fb9f3a"
             ],
             [
              0.8888888888888888,
              "#fdca26"
             ],
             [
              1,
              "#f0f921"
             ]
            ],
            "type": "contour"
           }
          ],
          "contourcarpet": [
           {
            "colorbar": {
             "outlinewidth": 0,
             "ticks": ""
            },
            "type": "contourcarpet"
           }
          ],
          "heatmap": [
           {
            "colorbar": {
             "outlinewidth": 0,
             "ticks": ""
            },
            "colorscale": [
             [
              0,
              "#0d0887"
             ],
             [
              0.1111111111111111,
              "#46039f"
             ],
             [
              0.2222222222222222,
              "#7201a8"
             ],
             [
              0.3333333333333333,
              "#9c179e"
             ],
             [
              0.4444444444444444,
              "#bd3786"
             ],
             [
              0.5555555555555556,
              "#d8576b"
             ],
             [
              0.6666666666666666,
              "#ed7953"
             ],
             [
              0.7777777777777778,
              "#fb9f3a"
             ],
             [
              0.8888888888888888,
              "#fdca26"
             ],
             [
              1,
              "#f0f921"
             ]
            ],
            "type": "heatmap"
           }
          ],
          "heatmapgl": [
           {
            "colorbar": {
             "outlinewidth": 0,
             "ticks": ""
            },
            "colorscale": [
             [
              0,
              "#0d0887"
             ],
             [
              0.1111111111111111,
              "#46039f"
             ],
             [
              0.2222222222222222,
              "#7201a8"
             ],
             [
              0.3333333333333333,
              "#9c179e"
             ],
             [
              0.4444444444444444,
              "#bd3786"
             ],
             [
              0.5555555555555556,
              "#d8576b"
             ],
             [
              0.6666666666666666,
              "#ed7953"
             ],
             [
              0.7777777777777778,
              "#fb9f3a"
             ],
             [
              0.8888888888888888,
              "#fdca26"
             ],
             [
              1,
              "#f0f921"
             ]
            ],
            "type": "heatmapgl"
           }
          ],
          "histogram": [
           {
            "marker": {
             "pattern": {
              "fillmode": "overlay",
              "size": 10,
              "solidity": 0.2
             }
            },
            "type": "histogram"
           }
          ],
          "histogram2d": [
           {
            "colorbar": {
             "outlinewidth": 0,
             "ticks": ""
            },
            "colorscale": [
             [
              0,
              "#0d0887"
             ],
             [
              0.1111111111111111,
              "#46039f"
             ],
             [
              0.2222222222222222,
              "#7201a8"
             ],
             [
              0.3333333333333333,
              "#9c179e"
             ],
             [
              0.4444444444444444,
              "#bd3786"
             ],
             [
              0.5555555555555556,
              "#d8576b"
             ],
             [
              0.6666666666666666,
              "#ed7953"
             ],
             [
              0.7777777777777778,
              "#fb9f3a"
             ],
             [
              0.8888888888888888,
              "#fdca26"
             ],
             [
              1,
              "#f0f921"
             ]
            ],
            "type": "histogram2d"
           }
          ],
          "histogram2dcontour": [
           {
            "colorbar": {
             "outlinewidth": 0,
             "ticks": ""
            },
            "colorscale": [
             [
              0,
              "#0d0887"
             ],
             [
              0.1111111111111111,
              "#46039f"
             ],
             [
              0.2222222222222222,
              "#7201a8"
             ],
             [
              0.3333333333333333,
              "#9c179e"
             ],
             [
              0.4444444444444444,
              "#bd3786"
             ],
             [
              0.5555555555555556,
              "#d8576b"
             ],
             [
              0.6666666666666666,
              "#ed7953"
             ],
             [
              0.7777777777777778,
              "#fb9f3a"
             ],
             [
              0.8888888888888888,
              "#fdca26"
             ],
             [
              1,
              "#f0f921"
             ]
            ],
            "type": "histogram2dcontour"
           }
          ],
          "mesh3d": [
           {
            "colorbar": {
             "outlinewidth": 0,
             "ticks": ""
            },
            "type": "mesh3d"
           }
          ],
          "parcoords": [
           {
            "line": {
             "colorbar": {
              "outlinewidth": 0,
              "ticks": ""
             }
            },
            "type": "parcoords"
           }
          ],
          "pie": [
           {
            "automargin": true,
            "type": "pie"
           }
          ],
          "scatter": [
           {
            "marker": {
             "colorbar": {
              "outlinewidth": 0,
              "ticks": ""
             }
            },
            "type": "scatter"
           }
          ],
          "scatter3d": [
           {
            "line": {
             "colorbar": {
              "outlinewidth": 0,
              "ticks": ""
             }
            },
            "marker": {
             "colorbar": {
              "outlinewidth": 0,
              "ticks": ""
             }
            },
            "type": "scatter3d"
           }
          ],
          "scattercarpet": [
           {
            "marker": {
             "colorbar": {
              "outlinewidth": 0,
              "ticks": ""
             }
            },
            "type": "scattercarpet"
           }
          ],
          "scattergeo": [
           {
            "marker": {
             "colorbar": {
              "outlinewidth": 0,
              "ticks": ""
             }
            },
            "type": "scattergeo"
           }
          ],
          "scattergl": [
           {
            "marker": {
             "colorbar": {
              "outlinewidth": 0,
              "ticks": ""
             }
            },
            "type": "scattergl"
           }
          ],
          "scattermapbox": [
           {
            "marker": {
             "colorbar": {
              "outlinewidth": 0,
              "ticks": ""
             }
            },
            "type": "scattermapbox"
           }
          ],
          "scatterpolar": [
           {
            "marker": {
             "colorbar": {
              "outlinewidth": 0,
              "ticks": ""
             }
            },
            "type": "scatterpolar"
           }
          ],
          "scatterpolargl": [
           {
            "marker": {
             "colorbar": {
              "outlinewidth": 0,
              "ticks": ""
             }
            },
            "type": "scatterpolargl"
           }
          ],
          "scatterternary": [
           {
            "marker": {
             "colorbar": {
              "outlinewidth": 0,
              "ticks": ""
             }
            },
            "type": "scatterternary"
           }
          ],
          "surface": [
           {
            "colorbar": {
             "outlinewidth": 0,
             "ticks": ""
            },
            "colorscale": [
             [
              0,
              "#0d0887"
             ],
             [
              0.1111111111111111,
              "#46039f"
             ],
             [
              0.2222222222222222,
              "#7201a8"
             ],
             [
              0.3333333333333333,
              "#9c179e"
             ],
             [
              0.4444444444444444,
              "#bd3786"
             ],
             [
              0.5555555555555556,
              "#d8576b"
             ],
             [
              0.6666666666666666,
              "#ed7953"
             ],
             [
              0.7777777777777778,
              "#fb9f3a"
             ],
             [
              0.8888888888888888,
              "#fdca26"
             ],
             [
              1,
              "#f0f921"
             ]
            ],
            "type": "surface"
           }
          ],
          "table": [
           {
            "cells": {
             "fill": {
              "color": "#EBF0F8"
             },
             "line": {
              "color": "white"
             }
            },
            "header": {
             "fill": {
              "color": "#C8D4E3"
             },
             "line": {
              "color": "white"
             }
            },
            "type": "table"
           }
          ]
         },
         "layout": {
          "annotationdefaults": {
           "arrowcolor": "#2a3f5f",
           "arrowhead": 0,
           "arrowwidth": 1
          },
          "autotypenumbers": "strict",
          "coloraxis": {
           "colorbar": {
            "outlinewidth": 0,
            "ticks": ""
           }
          },
          "colorscale": {
           "diverging": [
            [
             0,
             "#8e0152"
            ],
            [
             0.1,
             "#c51b7d"
            ],
            [
             0.2,
             "#de77ae"
            ],
            [
             0.3,
             "#f1b6da"
            ],
            [
             0.4,
             "#fde0ef"
            ],
            [
             0.5,
             "#f7f7f7"
            ],
            [
             0.6,
             "#e6f5d0"
            ],
            [
             0.7,
             "#b8e186"
            ],
            [
             0.8,
             "#7fbc41"
            ],
            [
             0.9,
             "#4d9221"
            ],
            [
             1,
             "#276419"
            ]
           ],
           "sequential": [
            [
             0,
             "#0d0887"
            ],
            [
             0.1111111111111111,
             "#46039f"
            ],
            [
             0.2222222222222222,
             "#7201a8"
            ],
            [
             0.3333333333333333,
             "#9c179e"
            ],
            [
             0.4444444444444444,
             "#bd3786"
            ],
            [
             0.5555555555555556,
             "#d8576b"
            ],
            [
             0.6666666666666666,
             "#ed7953"
            ],
            [
             0.7777777777777778,
             "#fb9f3a"
            ],
            [
             0.8888888888888888,
             "#fdca26"
            ],
            [
             1,
             "#f0f921"
            ]
           ],
           "sequentialminus": [
            [
             0,
             "#0d0887"
            ],
            [
             0.1111111111111111,
             "#46039f"
            ],
            [
             0.2222222222222222,
             "#7201a8"
            ],
            [
             0.3333333333333333,
             "#9c179e"
            ],
            [
             0.4444444444444444,
             "#bd3786"
            ],
            [
             0.5555555555555556,
             "#d8576b"
            ],
            [
             0.6666666666666666,
             "#ed7953"
            ],
            [
             0.7777777777777778,
             "#fb9f3a"
            ],
            [
             0.8888888888888888,
             "#fdca26"
            ],
            [
             1,
             "#f0f921"
            ]
           ]
          },
          "colorway": [
           "#636efa",
           "#EF553B",
           "#00cc96",
           "#ab63fa",
           "#FFA15A",
           "#19d3f3",
           "#FF6692",
           "#B6E880",
           "#FF97FF",
           "#FECB52"
          ],
          "font": {
           "color": "#2a3f5f"
          },
          "geo": {
           "bgcolor": "white",
           "lakecolor": "white",
           "landcolor": "#E5ECF6",
           "showlakes": true,
           "showland": true,
           "subunitcolor": "white"
          },
          "hoverlabel": {
           "align": "left"
          },
          "hovermode": "closest",
          "mapbox": {
           "style": "light"
          },
          "paper_bgcolor": "white",
          "plot_bgcolor": "#E5ECF6",
          "polar": {
           "angularaxis": {
            "gridcolor": "white",
            "linecolor": "white",
            "ticks": ""
           },
           "bgcolor": "#E5ECF6",
           "radialaxis": {
            "gridcolor": "white",
            "linecolor": "white",
            "ticks": ""
           }
          },
          "scene": {
           "xaxis": {
            "backgroundcolor": "#E5ECF6",
            "gridcolor": "white",
            "gridwidth": 2,
            "linecolor": "white",
            "showbackground": true,
            "ticks": "",
            "zerolinecolor": "white"
           },
           "yaxis": {
            "backgroundcolor": "#E5ECF6",
            "gridcolor": "white",
            "gridwidth": 2,
            "linecolor": "white",
            "showbackground": true,
            "ticks": "",
            "zerolinecolor": "white"
           },
           "zaxis": {
            "backgroundcolor": "#E5ECF6",
            "gridcolor": "white",
            "gridwidth": 2,
            "linecolor": "white",
            "showbackground": true,
            "ticks": "",
            "zerolinecolor": "white"
           }
          },
          "shapedefaults": {
           "line": {
            "color": "#2a3f5f"
           }
          },
          "ternary": {
           "aaxis": {
            "gridcolor": "white",
            "linecolor": "white",
            "ticks": ""
           },
           "baxis": {
            "gridcolor": "white",
            "linecolor": "white",
            "ticks": ""
           },
           "bgcolor": "#E5ECF6",
           "caxis": {
            "gridcolor": "white",
            "linecolor": "white",
            "ticks": ""
           }
          },
          "title": {
           "x": 0.05
          },
          "xaxis": {
           "automargin": true,
           "gridcolor": "white",
           "linecolor": "white",
           "ticks": "",
           "title": {
            "standoff": 15
           },
           "zerolinecolor": "white",
           "zerolinewidth": 2
          },
          "yaxis": {
           "automargin": true,
           "gridcolor": "white",
           "linecolor": "white",
           "ticks": "",
           "title": {
            "standoff": 15
           },
           "zerolinecolor": "white",
           "zerolinewidth": 2
          }
         }
        }
       }
      },
      "text/html": [
       "<div>                            <div id=\"57adb774-86ae-45da-a07b-f2305de83e14\" class=\"plotly-graph-div\" style=\"height:525px; width:100%;\"></div>            <script type=\"text/javascript\">                require([\"plotly\"], function(Plotly) {                    window.PLOTLYENV=window.PLOTLYENV || {};                                    if (document.getElementById(\"57adb774-86ae-45da-a07b-f2305de83e14\")) {                    Plotly.newPlot(                        \"57adb774-86ae-45da-a07b-f2305de83e14\",                        [{\"colorscale\":[[0.0,\"#440154\"],[0.1111111111111111,\"#482878\"],[0.2222222222222222,\"#3e4989\"],[0.3333333333333333,\"#31688e\"],[0.4444444444444444,\"#26828e\"],[0.5555555555555556,\"#1f9e89\"],[0.6666666666666666,\"#35b779\"],[0.7777777777777778,\"#6ece58\"],[0.8888888888888888,\"#b5de2b\"],[1.0,\"#fde725\"]],\"flatshading\":false,\"isomax\":500,\"isomin\":9,\"opacity\":0.75,\"opacityscale\":\"uniform\",\"surface\":{\"count\":20},\"value\":[0.0,0.0,0.0,0.0,0.0,0.0,0.0,0.0,0.0,0.0,0.0,0.0,0.0,0.0,0.0,0.0,0.0,0.0,0.0,0.0,0.0,0.0,0.0,0.0,0.0,0.0,1.0,160.0,178.0,1.0,0.0,1.0,96.0,52.0,1.0,0.0,1.0,1.0,1.0,1.0,0.0,0.0,0.0,0.0,0.0,0.0,235.0,133.0,95.0,1.0,0.0,170.0,150.0,172.0,157.0,0.0,1.0,1.0,14.0,1.0,0.0,0.0,0.0,0.0,0.0,0.0,278.0,97.0,116.0,225.0,0.0,125.0,112.0,198.0,161.0,0.0,4.0,1.0,2.0,1.0,0.0,0.0,0.0,0.0,0.0,0.0,142.0,198.0,163.0,2.0,0.0,5.0,79.0,130.0,2.0,0.0,1.0,1.0,1.0,1.0,0.0,0.0,0.0,0.0,0.0,0.0,3.0,86.0,233.0,1.0,0.0,2.0,111.0,19.0,1.0,0.0,1.0,15.0,2.0,1.0,0.0,0.0,0.0,0.0,0.0,0.0,0.0,0.0,0.0,0.0,0.0,0.0,0.0,0.0,0.0,0.0,0.0,0.0,0.0,0.0],\"x\":[0.0,0.0,0.0,0.0,0.0,0.0,0.0,0.0,0.0,0.0,0.0,0.0,0.0,0.0,0.0,0.0,0.0,0.0,0.0,0.0,2.9166666666666665,2.9166666666666665,2.9166666666666665,2.9166666666666665,2.9166666666666665,2.9166666666666665,2.9166666666666665,2.9166666666666665,2.9166666666666665,2.9166666666666665,2.9166666666666665,2.9166666666666665,2.9166666666666665,2.9166666666666665,2.9166666666666665,2.9166666666666665,2.9166666666666665,2.9166666666666665,2.9166666666666665,2.9166666666666665,5.833333333333333,5.833333333333333,5.833333333333333,5.833333333333333,5.833333333333333,5.833333333333333,5.833333333333333,5.833333333333333,5.833333333333333,5.833333333333333,5.833333333333333,5.833333333333333,5.833333333333333,5.833333333333333,5.833333333333333,5.833333333333333,5.833333333333333,5.833333333333333,5.833333333333333,5.833333333333333,8.75,8.75,8.75,8.75,8.75,8.75,8.75,8.75,8.75,8.75,8.75,8.75,8.75,8.75,8.75,8.75,8.75,8.75,8.75,8.75,11.666666666666666,11.666666666666666,11.666666666666666,11.666666666666666,11.666666666666666,11.666666666666666,11.666666666666666,11.666666666666666,11.666666666666666,11.666666666666666,11.666666666666666,11.666666666666666,11.666666666666666,11.666666666666666,11.666666666666666,11.666666666666666,11.666666666666666,11.666666666666666,11.666666666666666,11.666666666666666,14.583333333333332,14.583333333333332,14.583333333333332,14.583333333333332,14.583333333333332,14.583333333333332,14.583333333333332,14.583333333333332,14.583333333333332,14.583333333333332,14.583333333333332,14.583333333333332,14.583333333333332,14.583333333333332,14.583333333333332,14.583333333333332,14.583333333333332,14.583333333333332,14.583333333333332,14.583333333333332,17.5,17.5,17.5,17.5,17.5,17.5,17.5,17.5,17.5,17.5,17.5,17.5,17.5,17.5,17.5,17.5,17.5,17.5,17.5,17.5],\"y\":[0.0,0.0,0.0,0.0,0.0,3.3333333333333335,3.3333333333333335,3.3333333333333335,3.3333333333333335,3.3333333333333335,6.666666666666667,6.666666666666667,6.666666666666667,6.666666666666667,6.666666666666667,10.0,10.0,10.0,10.0,10.0,0.0,0.0,0.0,0.0,0.0,3.3333333333333335,3.3333333333333335,3.3333333333333335,3.3333333333333335,3.3333333333333335,6.666666666666667,6.666666666666667,6.666666666666667,6.666666666666667,6.666666666666667,10.0,10.0,10.0,10.0,10.0,0.0,0.0,0.0,0.0,0.0,3.3333333333333335,3.3333333333333335,3.3333333333333335,3.3333333333333335,3.3333333333333335,6.666666666666667,6.666666666666667,6.666666666666667,6.666666666666667,6.666666666666667,10.0,10.0,10.0,10.0,10.0,0.0,0.0,0.0,0.0,0.0,3.3333333333333335,3.3333333333333335,3.3333333333333335,3.3333333333333335,3.3333333333333335,6.666666666666667,6.666666666666667,6.666666666666667,6.666666666666667,6.666666666666667,10.0,10.0,10.0,10.0,10.0,0.0,0.0,0.0,0.0,0.0,3.3333333333333335,3.3333333333333335,3.3333333333333335,3.3333333333333335,3.3333333333333335,6.666666666666667,6.666666666666667,6.666666666666667,6.666666666666667,6.666666666666667,10.0,10.0,10.0,10.0,10.0,0.0,0.0,0.0,0.0,0.0,3.3333333333333335,3.3333333333333335,3.3333333333333335,3.3333333333333335,3.3333333333333335,6.666666666666667,6.666666666666667,6.666666666666667,6.666666666666667,6.666666666666667,10.0,10.0,10.0,10.0,10.0,0.0,0.0,0.0,0.0,0.0,3.3333333333333335,3.3333333333333335,3.3333333333333335,3.3333333333333335,3.3333333333333335,6.666666666666667,6.666666666666667,6.666666666666667,6.666666666666667,6.666666666666667,10.0,10.0,10.0,10.0,10.0],\"z\":[0.0,3.125,6.25,9.375,12.5,0.0,3.125,6.25,9.375,12.5,0.0,3.125,6.25,9.375,12.5,0.0,3.125,6.25,9.375,12.5,0.0,3.125,6.25,9.375,12.5,0.0,3.125,6.25,9.375,12.5,0.0,3.125,6.25,9.375,12.5,0.0,3.125,6.25,9.375,12.5,0.0,3.125,6.25,9.375,12.5,0.0,3.125,6.25,9.375,12.5,0.0,3.125,6.25,9.375,12.5,0.0,3.125,6.25,9.375,12.5,0.0,3.125,6.25,9.375,12.5,0.0,3.125,6.25,9.375,12.5,0.0,3.125,6.25,9.375,12.5,0.0,3.125,6.25,9.375,12.5,0.0,3.125,6.25,9.375,12.5,0.0,3.125,6.25,9.375,12.5,0.0,3.125,6.25,9.375,12.5,0.0,3.125,6.25,9.375,12.5,0.0,3.125,6.25,9.375,12.5,0.0,3.125,6.25,9.375,12.5,0.0,3.125,6.25,9.375,12.5,0.0,3.125,6.25,9.375,12.5,0.0,3.125,6.25,9.375,12.5,0.0,3.125,6.25,9.375,12.5,0.0,3.125,6.25,9.375,12.5,0.0,3.125,6.25,9.375,12.5],\"type\":\"volume\"}],                        {\"template\":{\"data\":{\"bar\":[{\"error_x\":{\"color\":\"#2a3f5f\"},\"error_y\":{\"color\":\"#2a3f5f\"},\"marker\":{\"line\":{\"color\":\"#E5ECF6\",\"width\":0.5},\"pattern\":{\"fillmode\":\"overlay\",\"size\":10,\"solidity\":0.2}},\"type\":\"bar\"}],\"barpolar\":[{\"marker\":{\"line\":{\"color\":\"#E5ECF6\",\"width\":0.5},\"pattern\":{\"fillmode\":\"overlay\",\"size\":10,\"solidity\":0.2}},\"type\":\"barpolar\"}],\"carpet\":[{\"aaxis\":{\"endlinecolor\":\"#2a3f5f\",\"gridcolor\":\"white\",\"linecolor\":\"white\",\"minorgridcolor\":\"white\",\"startlinecolor\":\"#2a3f5f\"},\"baxis\":{\"endlinecolor\":\"#2a3f5f\",\"gridcolor\":\"white\",\"linecolor\":\"white\",\"minorgridcolor\":\"white\",\"startlinecolor\":\"#2a3f5f\"},\"type\":\"carpet\"}],\"choropleth\":[{\"colorbar\":{\"outlinewidth\":0,\"ticks\":\"\"},\"type\":\"choropleth\"}],\"contour\":[{\"colorbar\":{\"outlinewidth\":0,\"ticks\":\"\"},\"colorscale\":[[0.0,\"#0d0887\"],[0.1111111111111111,\"#46039f\"],[0.2222222222222222,\"#7201a8\"],[0.3333333333333333,\"#9c179e\"],[0.4444444444444444,\"#bd3786\"],[0.5555555555555556,\"#d8576b\"],[0.6666666666666666,\"#ed7953\"],[0.7777777777777778,\"#fb9f3a\"],[0.8888888888888888,\"#fdca26\"],[1.0,\"#f0f921\"]],\"type\":\"contour\"}],\"contourcarpet\":[{\"colorbar\":{\"outlinewidth\":0,\"ticks\":\"\"},\"type\":\"contourcarpet\"}],\"heatmap\":[{\"colorbar\":{\"outlinewidth\":0,\"ticks\":\"\"},\"colorscale\":[[0.0,\"#0d0887\"],[0.1111111111111111,\"#46039f\"],[0.2222222222222222,\"#7201a8\"],[0.3333333333333333,\"#9c179e\"],[0.4444444444444444,\"#bd3786\"],[0.5555555555555556,\"#d8576b\"],[0.6666666666666666,\"#ed7953\"],[0.7777777777777778,\"#fb9f3a\"],[0.8888888888888888,\"#fdca26\"],[1.0,\"#f0f921\"]],\"type\":\"heatmap\"}],\"heatmapgl\":[{\"colorbar\":{\"outlinewidth\":0,\"ticks\":\"\"},\"colorscale\":[[0.0,\"#0d0887\"],[0.1111111111111111,\"#46039f\"],[0.2222222222222222,\"#7201a8\"],[0.3333333333333333,\"#9c179e\"],[0.4444444444444444,\"#bd3786\"],[0.5555555555555556,\"#d8576b\"],[0.6666666666666666,\"#ed7953\"],[0.7777777777777778,\"#fb9f3a\"],[0.8888888888888888,\"#fdca26\"],[1.0,\"#f0f921\"]],\"type\":\"heatmapgl\"}],\"histogram\":[{\"marker\":{\"pattern\":{\"fillmode\":\"overlay\",\"size\":10,\"solidity\":0.2}},\"type\":\"histogram\"}],\"histogram2d\":[{\"colorbar\":{\"outlinewidth\":0,\"ticks\":\"\"},\"colorscale\":[[0.0,\"#0d0887\"],[0.1111111111111111,\"#46039f\"],[0.2222222222222222,\"#7201a8\"],[0.3333333333333333,\"#9c179e\"],[0.4444444444444444,\"#bd3786\"],[0.5555555555555556,\"#d8576b\"],[0.6666666666666666,\"#ed7953\"],[0.7777777777777778,\"#fb9f3a\"],[0.8888888888888888,\"#fdca26\"],[1.0,\"#f0f921\"]],\"type\":\"histogram2d\"}],\"histogram2dcontour\":[{\"colorbar\":{\"outlinewidth\":0,\"ticks\":\"\"},\"colorscale\":[[0.0,\"#0d0887\"],[0.1111111111111111,\"#46039f\"],[0.2222222222222222,\"#7201a8\"],[0.3333333333333333,\"#9c179e\"],[0.4444444444444444,\"#bd3786\"],[0.5555555555555556,\"#d8576b\"],[0.6666666666666666,\"#ed7953\"],[0.7777777777777778,\"#fb9f3a\"],[0.8888888888888888,\"#fdca26\"],[1.0,\"#f0f921\"]],\"type\":\"histogram2dcontour\"}],\"mesh3d\":[{\"colorbar\":{\"outlinewidth\":0,\"ticks\":\"\"},\"type\":\"mesh3d\"}],\"parcoords\":[{\"line\":{\"colorbar\":{\"outlinewidth\":0,\"ticks\":\"\"}},\"type\":\"parcoords\"}],\"pie\":[{\"automargin\":true,\"type\":\"pie\"}],\"scatter\":[{\"marker\":{\"colorbar\":{\"outlinewidth\":0,\"ticks\":\"\"}},\"type\":\"scatter\"}],\"scatter3d\":[{\"line\":{\"colorbar\":{\"outlinewidth\":0,\"ticks\":\"\"}},\"marker\":{\"colorbar\":{\"outlinewidth\":0,\"ticks\":\"\"}},\"type\":\"scatter3d\"}],\"scattercarpet\":[{\"marker\":{\"colorbar\":{\"outlinewidth\":0,\"ticks\":\"\"}},\"type\":\"scattercarpet\"}],\"scattergeo\":[{\"marker\":{\"colorbar\":{\"outlinewidth\":0,\"ticks\":\"\"}},\"type\":\"scattergeo\"}],\"scattergl\":[{\"marker\":{\"colorbar\":{\"outlinewidth\":0,\"ticks\":\"\"}},\"type\":\"scattergl\"}],\"scattermapbox\":[{\"marker\":{\"colorbar\":{\"outlinewidth\":0,\"ticks\":\"\"}},\"type\":\"scattermapbox\"}],\"scatterpolar\":[{\"marker\":{\"colorbar\":{\"outlinewidth\":0,\"ticks\":\"\"}},\"type\":\"scatterpolar\"}],\"scatterpolargl\":[{\"marker\":{\"colorbar\":{\"outlinewidth\":0,\"ticks\":\"\"}},\"type\":\"scatterpolargl\"}],\"scatterternary\":[{\"marker\":{\"colorbar\":{\"outlinewidth\":0,\"ticks\":\"\"}},\"type\":\"scatterternary\"}],\"surface\":[{\"colorbar\":{\"outlinewidth\":0,\"ticks\":\"\"},\"colorscale\":[[0.0,\"#0d0887\"],[0.1111111111111111,\"#46039f\"],[0.2222222222222222,\"#7201a8\"],[0.3333333333333333,\"#9c179e\"],[0.4444444444444444,\"#bd3786\"],[0.5555555555555556,\"#d8576b\"],[0.6666666666666666,\"#ed7953\"],[0.7777777777777778,\"#fb9f3a\"],[0.8888888888888888,\"#fdca26\"],[1.0,\"#f0f921\"]],\"type\":\"surface\"}],\"table\":[{\"cells\":{\"fill\":{\"color\":\"#EBF0F8\"},\"line\":{\"color\":\"white\"}},\"header\":{\"fill\":{\"color\":\"#C8D4E3\"},\"line\":{\"color\":\"white\"}},\"type\":\"table\"}]},\"layout\":{\"annotationdefaults\":{\"arrowcolor\":\"#2a3f5f\",\"arrowhead\":0,\"arrowwidth\":1},\"autotypenumbers\":\"strict\",\"coloraxis\":{\"colorbar\":{\"outlinewidth\":0,\"ticks\":\"\"}},\"colorscale\":{\"diverging\":[[0,\"#8e0152\"],[0.1,\"#c51b7d\"],[0.2,\"#de77ae\"],[0.3,\"#f1b6da\"],[0.4,\"#fde0ef\"],[0.5,\"#f7f7f7\"],[0.6,\"#e6f5d0\"],[0.7,\"#b8e186\"],[0.8,\"#7fbc41\"],[0.9,\"#4d9221\"],[1,\"#276419\"]],\"sequential\":[[0.0,\"#0d0887\"],[0.1111111111111111,\"#46039f\"],[0.2222222222222222,\"#7201a8\"],[0.3333333333333333,\"#9c179e\"],[0.4444444444444444,\"#bd3786\"],[0.5555555555555556,\"#d8576b\"],[0.6666666666666666,\"#ed7953\"],[0.7777777777777778,\"#fb9f3a\"],[0.8888888888888888,\"#fdca26\"],[1.0,\"#f0f921\"]],\"sequentialminus\":[[0.0,\"#0d0887\"],[0.1111111111111111,\"#46039f\"],[0.2222222222222222,\"#7201a8\"],[0.3333333333333333,\"#9c179e\"],[0.4444444444444444,\"#bd3786\"],[0.5555555555555556,\"#d8576b\"],[0.6666666666666666,\"#ed7953\"],[0.7777777777777778,\"#fb9f3a\"],[0.8888888888888888,\"#fdca26\"],[1.0,\"#f0f921\"]]},\"colorway\":[\"#636efa\",\"#EF553B\",\"#00cc96\",\"#ab63fa\",\"#FFA15A\",\"#19d3f3\",\"#FF6692\",\"#B6E880\",\"#FF97FF\",\"#FECB52\"],\"font\":{\"color\":\"#2a3f5f\"},\"geo\":{\"bgcolor\":\"white\",\"lakecolor\":\"white\",\"landcolor\":\"#E5ECF6\",\"showlakes\":true,\"showland\":true,\"subunitcolor\":\"white\"},\"hoverlabel\":{\"align\":\"left\"},\"hovermode\":\"closest\",\"mapbox\":{\"style\":\"light\"},\"paper_bgcolor\":\"white\",\"plot_bgcolor\":\"#E5ECF6\",\"polar\":{\"angularaxis\":{\"gridcolor\":\"white\",\"linecolor\":\"white\",\"ticks\":\"\"},\"bgcolor\":\"#E5ECF6\",\"radialaxis\":{\"gridcolor\":\"white\",\"linecolor\":\"white\",\"ticks\":\"\"}},\"scene\":{\"xaxis\":{\"backgroundcolor\":\"#E5ECF6\",\"gridcolor\":\"white\",\"gridwidth\":2,\"linecolor\":\"white\",\"showbackground\":true,\"ticks\":\"\",\"zerolinecolor\":\"white\"},\"yaxis\":{\"backgroundcolor\":\"#E5ECF6\",\"gridcolor\":\"white\",\"gridwidth\":2,\"linecolor\":\"white\",\"showbackground\":true,\"ticks\":\"\",\"zerolinecolor\":\"white\"},\"zaxis\":{\"backgroundcolor\":\"#E5ECF6\",\"gridcolor\":\"white\",\"gridwidth\":2,\"linecolor\":\"white\",\"showbackground\":true,\"ticks\":\"\",\"zerolinecolor\":\"white\"}},\"shapedefaults\":{\"line\":{\"color\":\"#2a3f5f\"}},\"ternary\":{\"aaxis\":{\"gridcolor\":\"white\",\"linecolor\":\"white\",\"ticks\":\"\"},\"baxis\":{\"gridcolor\":\"white\",\"linecolor\":\"white\",\"ticks\":\"\"},\"bgcolor\":\"#E5ECF6\",\"caxis\":{\"gridcolor\":\"white\",\"linecolor\":\"white\",\"ticks\":\"\"}},\"title\":{\"x\":0.05},\"xaxis\":{\"automargin\":true,\"gridcolor\":\"white\",\"linecolor\":\"white\",\"ticks\":\"\",\"title\":{\"standoff\":15},\"zerolinecolor\":\"white\",\"zerolinewidth\":2},\"yaxis\":{\"automargin\":true,\"gridcolor\":\"white\",\"linecolor\":\"white\",\"ticks\":\"\",\"title\":{\"standoff\":15},\"zerolinecolor\":\"white\",\"zerolinewidth\":2}}},\"margin\":{\"t\":0,\"r\":0,\"b\":0,\"l\":0},\"scene\":{\"xaxis\":{\"backgroundcolor\":\"rgba(0,0,0,0)\",\"color\":\"grey\",\"gridcolor\":\"grey\"},\"yaxis\":{\"backgroundcolor\":\"rgba(0,0,0,0)\",\"color\":\"grey\",\"gridcolor\":\"grey\"},\"zaxis\":{\"backgroundcolor\":\"rgba(0,0,0,0)\",\"color\":\"grey\",\"gridcolor\":\"grey\"}}},                        {\"responsive\": true}                    ).then(function(){\n",
       "                            \n",
       "var gd = document.getElementById('57adb774-86ae-45da-a07b-f2305de83e14');\n",
       "var x = new MutationObserver(function (mutations, observer) {{\n",
       "        var display = window.getComputedStyle(gd).display;\n",
       "        if (!display || display === 'none') {{\n",
       "            console.log([gd, 'removed!']);\n",
       "            Plotly.purge(gd);\n",
       "            observer.disconnect();\n",
       "        }}\n",
       "}});\n",
       "\n",
       "// Listen for the removal of the full notebook cells\n",
       "var notebookContainer = gd.closest('#notebook-container');\n",
       "if (notebookContainer) {{\n",
       "    x.observe(notebookContainer, {childList: true});\n",
       "}}\n",
       "\n",
       "// Listen for the clearing of the current output cell\n",
       "var outputEl = gd.closest('.output');\n",
       "if (outputEl) {{\n",
       "    x.observe(outputEl, {childList: true});\n",
       "}}\n",
       "\n",
       "                        })                };                });            </script>        </div>"
      ]
     },
     "metadata": {},
     "output_type": "display_data"
    },
    {
     "name": "stdout",
     "output_type": "stream",
     "text": [
      "[0.0, 0.0, 0.0, 0.0, 0.0, 0.0, 0.0, 0.0, 0.0, 0.0, 0.0, 0.0, 0.0, 0.0, 0.0, 0.0, 0.0, 0.0, 0.0, 0.0, 0.0, 0.0, 0.0, 0.0, 0.0, 0.0, 1.0, 160.0, 178.0, 1.0, 0.0, 1.0, 96.0, 52.0, 1.0, 0.0, 1.0, 1.0, 1.0, 1.0, 0.0, 0.0, 0.0, 0.0, 0.0, 0.0, 235.0, 133.0, 95.0, 1.0, 0.0, 170.0, 150.0, 172.0, 157.0, 0.0, 1.0, 1.0, 14.0, 1.0, 0.0, 0.0, 0.0, 0.0, 0.0, 0.0, 278.0, 97.0, 116.0, 225.0, 0.0, 125.0, 112.0, 198.0, 161.0, 0.0, 4.0, 1.0, 2.0, 1.0, 0.0, 0.0, 0.0, 0.0, 0.0, 0.0, 142.0, 198.0, 163.0, 2.0, 0.0, 5.0, 79.0, 130.0, 2.0, 0.0, 1.0, 1.0, 1.0, 1.0, 0.0, 0.0, 0.0, 0.0, 0.0, 0.0, 3.0, 86.0, 233.0, 1.0, 0.0, 2.0, 111.0, 19.0, 1.0, 0.0, 1.0, 15.0, 2.0, 1.0, 0.0, 0.0, 0.0, 0.0, 0.0, 0.0, 0.0, 0.0, 0.0, 0.0, 0.0, 0.0, 0.0, 0.0, 0.0, 0.0, 0.0, 0.0, 0.0, 0.0]\n"
     ]
    }
   ],
   "source": [
    "X_root, Y_root, Z_root = np.mgrid[\n",
    "    0 : array_reference_root .shape[0]\n",
    "    / 1000\n",
    "    * 25\n",
    "    * decrease_dimensionality_factor_root : array_reference_root .shape[0]\n",
    "    * 1j,\n",
    "    0 : array_reference_root .shape[1]\n",
    "    / 1000\n",
    "    * 25\n",
    "    * decrease_dimensionality_factor_root : array_reference_root .shape[1]\n",
    "    * 1j,\n",
    "    0 : array_reference_root .shape[2]\n",
    "    / 1000\n",
    "    * 25\n",
    "    * decrease_dimensionality_factor_root : array_reference_root .shape[2]\n",
    "    * 1j,\n",
    "]\n",
    "\n",
    "print(np.min(array_reference_root), np.max(array_reference_root))\n",
    "\n",
    "brain_root_data = go.Volume(\n",
    "    x=X_root.flatten(),  # [[1,2,3], [1,2,3], [1,2,3]],\n",
    "    y=Y_root.flatten(),  # [[1,2,3], [1,2,3], [1,2,3]],\n",
    "    z=Z_root.flatten(),  # [[1,1,1], [2,2,2], [3,3,3]],\n",
    "    value=array_reference_root.flatten(),\n",
    "    isomin=9,\n",
    "    isomax=500,\n",
    "    #opacity=0.15,  # max opacity\n",
    "    # opacityscale=[[-0.0, 0], [1., 1]],\n",
    "    opacityscale = \"uniform\",\n",
    "    opacity = 0.75,\n",
    "    surface_count=20,\n",
    "    colorscale=\"viridis\",  # colorscale,\n",
    "    flatshading=False,\n",
    ")\n",
    "\n",
    "\n",
    "plot_fig = True\n",
    "if plot_fig:\n",
    "    fig = go.Figure(data=brain_root_data)\n",
    "\n",
    "    fig.update_layout(\n",
    "        margin=dict(t=0, r=0, b=0, l=0),\n",
    "        scene=dict(\n",
    "            xaxis=dict(backgroundcolor=\"rgba(0,0,0,0)\", color=\"grey\", gridcolor=\"grey\"),\n",
    "            yaxis=dict(backgroundcolor=\"rgba(0,0,0,0)\", color=\"grey\", gridcolor=\"grey\"),\n",
    "            zaxis=dict(backgroundcolor=\"rgba(0,0,0,0)\", color=\"grey\", gridcolor=\"grey\"),\n",
    "        ),\n",
    "    )\n",
    "    fig.show()\n",
    "\n",
    "print(list(array_reference_root.flatten()))\n"
   ]
  },
  {
   "cell_type": "code",
   "execution_count": 7,
   "metadata": {},
   "outputs": [
    {
     "data": {
      "application/vnd.plotly.v1+json": {
       "config": {
        "plotlyServerURL": "https://plot.ly"
       },
       "data": [
        {
         "mode": "markers",
         "type": "scatter3d",
         "x": [
          1,
          0.9792475210564969,
          0.9178514149905888,
          0.8183599245989672,
          0.6849024400004521,
          0.5230181084730104,
          0.33942593237925484,
          0.14174589725634046,
          -0.061817295362854206,
          -0.262814763741325,
          -0.4529041164186286,
          -0.6241957028171256,
          -0.7695800728569471,
          -0.883023054382162,
          -0.95981620122199,
          -0.996772217050833,
          -0.9923572439880433,
          -0.9467545253046645,
          -0.8618567999191831,
          -0.7411877443484259,
          -0.5897557226621226,
          -0.41384591454310704,
          -0.22075944916926946,
          -0.018510372154503518,
          0.18450697707700792,
          0.37986637199507933,
          0.5594594291408053,
          0.7158321462405541,
          0.842494280256423,
          0.9341887246502055,
          0.9871097053688656,
          0.9990607393363355,
          0.9695457993910898,
          0.8997899018725932,
          0.7926882623697213,
          0.6526861299196696,
          0.48559428713386943,
          0.29834787391040735,
          0.09871854474461515,
          -0.10500809346346798,
          -0.30437637517455507,
          -0.4911115282522227,
          -0.6574631180319587,
          -0.7965267287855186,
          -0.9025305312049614,
          -0.9710748419350043,
          -0.9993147322454036,
          -0.9860781066780927,
          -0.931914350819809,
          -0.8390715290764524
         ],
         "y": [
          0,
          0.20266793654820095,
          0.39692414892492234,
          0.5747060412161792,
          0.7286347834693504,
          0.8523215697196184,
          0.9406327851124867,
          0.9899030763721239,
          0.9980874821347183,
          0.9648463089837632,
          0.8915592304110037,
          0.7812680235262638,
          0.6385503202266021,
          0.469329612777201,
          0.28062939951435684,
          0.0802816748428135,
          -0.12339813736217871,
          -0.3219563150726187,
          -0.5071517094845144,
          -0.6712977935519321,
          -0.8075816909683363,
          -0.9103469443107828,
          -0.9753282860670456,
          -0.9998286683840896,
          -0.9828312039256306,
          -0.9250413717382029,
          -0.8288577363730427,
          -0.6982723955653996,
          -0.5387052883861563,
          -0.3567792408989381,
          -0.16004508604325057,
          0.04333173336868346,
          0.2449100710119793,
          0.4363234264718193,
          0.6096271964908323,
          0.7576284153927202,
          0.8741842988197335,
          0.9544571997387519,
          0.9951153947776636,
          0.9944713672636168,
          0.9525518475314604,
          0.8710967034823207,
          0.7534867274396376,
          0.6046033165061543,
          0.4306258703827373,
          0.23877531564403087,
          0.03701440148506237,
          -0.1662827938487564,
          -0.3626784288265488,
          -0.5440211108893698
         ],
         "z": [
          0,
          0.20408163265306123,
          0.40816326530612246,
          0.6122448979591837,
          0.8163265306122449,
          1.0204081632653061,
          1.2244897959183674,
          1.4285714285714286,
          1.6326530612244898,
          1.836734693877551,
          2.0408163265306123,
          2.2448979591836737,
          2.4489795918367347,
          2.6530612244897958,
          2.857142857142857,
          3.0612244897959187,
          3.2653061224489797,
          3.4693877551020407,
          3.673469387755102,
          3.8775510204081636,
          4.081632653061225,
          4.285714285714286,
          4.4897959183673475,
          4.6938775510204085,
          4.8979591836734695,
          5.1020408163265305,
          5.3061224489795915,
          5.510204081632653,
          5.714285714285714,
          5.918367346938775,
          6.122448979591837,
          6.326530612244898,
          6.530612244897959,
          6.73469387755102,
          6.938775510204081,
          7.142857142857143,
          7.346938775510204,
          7.551020408163265,
          7.755102040816327,
          7.959183673469388,
          8.16326530612245,
          8.36734693877551,
          8.571428571428571,
          8.775510204081632,
          8.979591836734695,
          9.183673469387756,
          9.387755102040817,
          9.591836734693878,
          9.795918367346939,
          10
         ]
        }
       ],
       "frames": [
        {
         "layout": {
          "scene": {
           "camera": {
            "eye": {
             "x": -1.25,
             "y": 2,
             "z": 0.5
            }
           }
          }
         }
        },
        {
         "layout": {
          "scene": {
           "camera": {
            "eye": {
             "x": -1.0440883733038762,
             "y": 2.1148001013645867,
             "z": 0.5
            }
           }
          }
         }
        },
        {
         "layout": {
          "scene": {
           "camera": {
            "eye": {
             "x": -0.8277445607114295,
             "y": 2.20846981917631,
             "z": 0.5
            }
           }
          }
         }
        },
        {
         "layout": {
          "scene": {
           "camera": {
            "eye": {
             "x": -0.6031301980843282,
             "y": 2.2800732365778864,
             "z": 0.5
            }
           }
          }
         }
        },
        {
         "layout": {
          "scene": {
           "camera": {
            "eye": {
             "x": -0.37248955788630533,
             "y": 2.3288949158915835,
             "z": 0.5
            }
           }
          }
         }
        },
        {
         "layout": {
          "scene": {
           "camera": {
            "eye": {
             "x": -0.13812712515455994,
             "y": 2.3544470470359995,
             "z": 0.5
            }
           }
          }
         }
        },
        {
         "layout": {
          "scene": {
           "camera": {
            "eye": {
             "x": 0.0976154281529733,
             "y": 2.3564743215631507,
             "z": 0.5
            }
           }
          }
         }
        },
        {
         "layout": {
          "scene": {
           "camera": {
            "eye": {
             "x": 0.33238264036977183,
             "y": 2.3349564836160908,
             "z": 0.5
            }
           }
          }
         }
        },
        {
         "layout": {
          "scene": {
           "camera": {
            "eye": {
             "x": 0.5638287951150889,
             "y": 2.290108532318734,
             "z": 0.5
            }
           }
          }
         }
        },
        {
         "layout": {
          "scene": {
           "camera": {
            "eye": {
             "x": 0.7896413589166363,
             "y": 2.222378573575683,
             "z": 0.5
            }
           }
          }
         }
        },
        {
         "layout": {
          "scene": {
           "camera": {
            "eye": {
             "x": 1.0075640872806182,
             "y": 2.13244334274615,
             "z": 0.5
            }
           }
          }
         }
        },
        {
         "layout": {
          "scene": {
           "camera": {
            "eye": {
             "x": 1.215419568340899,
             "y": 2.021201442927949,
             "z": 0.5
            }
           }
          }
         }
        },
        {
         "layout": {
          "scene": {
           "camera": {
            "eye": {
             "x": 1.411130978838611,
             "y": 1.8897643664123798,
             "z": 0.5
            }
           }
          }
         }
        },
        {
         "layout": {
          "scene": {
           "camera": {
            "eye": {
             "x": 1.5927428350536517,
             "y": 1.7394453890206658,
             "z": 0.5
            }
           }
          }
         }
        },
        {
         "layout": {
          "scene": {
           "camera": {
            "eye": {
             "x": 1.7584405313516194,
             "y": 1.571746448286057,
             "z": 0.5
            }
           }
          }
         }
        },
        {
         "layout": {
          "scene": {
           "camera": {
            "eye": {
             "x": 1.9065684711234803,
             "y": 1.388343136590474,
             "z": 0.5
            }
           }
          }
         }
        },
        {
         "layout": {
          "scene": {
           "camera": {
            "eye": {
             "x": 2.0356466089596212,
             "y": 1.1910679591993036,
             "z": 0.5
            }
           }
          }
         }
        },
        {
         "layout": {
          "scene": {
           "camera": {
            "eye": {
             "x": 2.144385238774343,
             "y": 0.981892024474536,
             "z": 0.5
            }
           }
          }
         }
        },
        {
         "layout": {
          "scene": {
           "camera": {
            "eye": {
             "x": 2.2316978801227494,
             "y": 0.7629053492115697,
             "z": 0.5
            }
           }
          }
         }
        },
        {
         "layout": {
          "scene": {
           "camera": {
            "eye": {
             "x": 2.2967121339542085,
             "y": 0.5362959758822609,
             "z": 0.5
            }
           }
          }
         }
        },
        {
         "layout": {
          "scene": {
           "camera": {
            "eye": {
             "x": 2.3387783993352915,
             "y": 0.3043281104378174,
             "z": 0.5
            }
           }
          }
         }
        },
        {
         "layout": {
          "scene": {
           "camera": {
            "eye": {
             "x": 2.357476364047569,
             "y": 0.06931949911137703,
             "z": 0.5
            }
           }
          }
         }
        },
        {
         "layout": {
          "scene": {
           "camera": {
            "eye": {
             "x": 2.3526192042083625,
             "y": -0.16638172973620402,
             "z": 0.5
            }
           }
          }
         }
        },
        {
         "layout": {
          "scene": {
           "camera": {
            "eye": {
             "x": 2.3242554509532205,
             "y": -0.4004205273387489,
             "z": 0.5
            }
           }
          }
         }
        },
        {
         "layout": {
          "scene": {
           "camera": {
            "eye": {
             "x": 2.2726685055288582,
             "y": -0.6304584553935533,
             "z": 0.5
            }
           }
          }
         }
        },
        {
         "layout": {
          "scene": {
           "camera": {
            "eye": {
             "x": 2.1983738076415804,
             "y": -0.8541970509639217,
             "z": 0.5
            }
           }
          }
         }
        },
        {
         "layout": {
          "scene": {
           "camera": {
            "eye": {
             "x": 2.1021136853541122,
             "y": -1.0694007919610644,
             "z": 0.5
            }
           }
          }
         }
        },
        {
         "layout": {
          "scene": {
           "camera": {
            "eye": {
             "x": 1.9848499379889861,
             "y": -1.2739194337418351,
             "z": 0.5
            }
           }
          }
         }
        },
        {
         "layout": {
          "scene": {
           "camera": {
            "eye": {
             "x": 1.8477542261476323,
             "y": -1.4657094936424357,
             "z": 0.5
            }
           }
          }
         }
        },
        {
         "layout": {
          "scene": {
           "camera": {
            "eye": {
             "x": 1.6921963648649523,
             "y": -1.6428546687817038,
             "z": 0.5
            }
           }
          }
         }
        },
        {
         "layout": {
          "scene": {
           "camera": {
            "eye": {
             "x": 1.5197306368702912,
             "y": -1.8035849831260569,
             "z": 0.5
            }
           }
          }
         }
        },
        {
         "layout": {
          "scene": {
           "camera": {
            "eye": {
             "x": 1.3320802627081803,
             "y": -1.9462944725049458,
             "z": 0.5
            }
           }
          }
         }
        },
        {
         "layout": {
          "scene": {
           "camera": {
            "eye": {
             "x": 1.1311201828882813,
             "y": -2.0695572308739814,
             "z": 0.5
            }
           }
          }
         }
        },
        {
         "layout": {
          "scene": {
           "camera": {
            "eye": {
             "x": 0.9188583240995838,
             "y": -2.1721416574967907,
             "z": 0.5
            }
           }
          }
         }
        },
        {
         "layout": {
          "scene": {
           "camera": {
            "eye": {
             "x": 0.6974155366706627,
             "y": -2.2530227626924613,
             "z": 0.5
            }
           }
          }
         }
        },
        {
         "layout": {
          "scene": {
           "camera": {
            "eye": {
             "x": 0.46900440373425567,
             "y": -2.3113924091936173,
             "z": 0.5
            }
           }
          }
         }
        },
        {
         "layout": {
          "scene": {
           "camera": {
            "eye": {
             "x": 0.2359071338279789,
             "y": -2.3466673867868595,
             "z": 0.5
            }
           }
          }
         }
        },
        {
         "layout": {
          "scene": {
           "camera": {
            "eye": {
             "x": 0.0004527578210231642,
             "y": -2.358495239556433,
             "z": 0.5
            }
           }
          }
         }
        },
        {
         "layout": {
          "scene": {
           "camera": {
            "eye": {
             "x": -0.23500614199241787,
             "y": -2.346757787507232,
             "z": 0.5
            }
           }
          }
         }
        },
        {
         "layout": {
          "scene": {
           "camera": {
            "eye": {
             "x": -0.46811693811777333,
             "y": -2.3115723073802474,
             "z": 0.5
            }
           }
          }
         }
        },
        {
         "layout": {
          "scene": {
           "camera": {
            "eye": {
             "x": -0.6965504645363415,
             "y": -2.253290360862134,
             "z": 0.5
            }
           }
          }
         }
        },
        {
         "layout": {
          "scene": {
           "camera": {
            "eye": {
             "x": -0.918024288962236,
             "y": -2.1724942818970505,
             "z": 0.5
            }
           }
          }
         }
        },
        {
         "layout": {
          "scene": {
           "camera": {
            "eye": {
             "x": -1.1303255181513021,
             "y": -2.069991358198384,
             "z": 0.5
            }
           }
          }
         }
        },
        {
         "layout": {
          "scene": {
           "camera": {
            "eye": {
             "x": -1.3313329083989405,
             "y": -1.9468057650967694,
             "z": 0.5
            }
           }
          }
         }
        },
        {
         "layout": {
          "scene": {
           "camera": {
            "eye": {
             "x": -1.5190380603060079,
             "y": -1.8041683323187336,
             "z": 0.5
            }
           }
          }
         }
        },
        {
         "layout": {
          "scene": {
           "camera": {
            "eye": {
             "x": -1.6915654860417195,
             "y": -1.6435042459429305,
             "z": 0.5
            }
           }
          }
         }
        },
        {
         "layout": {
          "scene": {
           "camera": {
            "eye": {
             "x": -1.8471913485981115,
             "y": -1.4664188084119385,
             "z": 0.5
            }
           }
          }
         }
        },
        {
         "layout": {
          "scene": {
           "camera": {
            "eye": {
             "x": -1.9843606857995884,
             "y": -1.2746813988809071,
             "z": 0.5
            }
           }
          }
         }
        },
        {
         "layout": {
          "scene": {
           "camera": {
            "eye": {
             "x": -2.10170294697099,
             "y": -1.070207794165906,
             "z": 0.5
            }
           }
          }
         }
        },
        {
         "layout": {
          "scene": {
           "camera": {
            "eye": {
             "x": -2.1980456870268847,
             "y": -0.855041026935264,
             "z": 0.5
            }
           }
          }
         }
        },
        {
         "layout": {
          "scene": {
           "camera": {
            "eye": {
             "x": -2.2724262811553095,
             "y": -0.6313309724024706,
             "z": 0.5
            }
           }
          }
         }
        },
        {
         "layout": {
          "scene": {
           "camera": {
            "eye": {
             "x": -2.3241015430466905,
             "y": -0.4013128674837031,
             "z": 0.5
            }
           }
          }
         }
        },
        {
         "layout": {
          "scene": {
           "camera": {
            "eye": {
             "x": -2.352555150565778,
             "y": -0.16728497704943712,
             "z": 0.5
            }
           }
          }
         }
        },
        {
         "layout": {
          "scene": {
           "camera": {
            "eye": {
             "x": -2.3575028046717534,
             "y": 0.06841436957844715,
             "z": 0.5
            }
           }
          }
         }
        },
        {
         "layout": {
          "scene": {
           "camera": {
            "eye": {
             "x": -2.3388950700402678,
             "y": 0.30343014244028543,
             "z": 0.5
            }
           }
          }
         }
        },
        {
         "layout": {
          "scene": {
           "camera": {
            "eye": {
             "x": -2.296917869004859,
             "y": 0.53541414161953,
             "z": 0.5
            }
           }
          }
         }
        },
        {
         "layout": {
          "scene": {
           "camera": {
            "eye": {
             "x": -2.2319906238824543,
             "y": 0.7620484596800993,
             "z": 0.5
            }
           }
          }
         }
        },
        {
         "layout": {
          "scene": {
           "camera": {
            "eye": {
             "x": -2.144762066244225,
             "y": 0.9810686414312726,
             "z": 0.5
            }
           }
          }
         }
        },
        {
         "layout": {
          "scene": {
           "camera": {
            "eye": {
             "x": -2.036103755004162,
             "y": 1.190286309615443,
             "z": 0.5
            }
           }
          }
         }
        },
        {
         "layout": {
          "scene": {
           "camera": {
            "eye": {
             "x": -1.9071013680905171,
             "y": 1.3876110304502767,
             "z": 0.5
            }
           }
          }
         }
        },
        {
         "layout": {
          "scene": {
           "camera": {
            "eye": {
             "x": -1.7590438547108092,
             "y": 1.5710712005520746,
             "z": 0.5
            }
           }
          }
         }
        },
        {
         "layout": {
          "scene": {
           "camera": {
            "eye": {
             "x": -1.5934105565974208,
             "y": 1.7388337465450507,
             "z": 0.5
            }
           }
          }
         }
        },
        {
         "layout": {
          "scene": {
           "camera": {
            "eye": {
             "x": -1.4118564269140148,
             "y": 1.8892224405245646,
             "z": 0.5
            }
           }
          }
         }
        }
       ],
       "layout": {
        "height": 600,
        "scene": {
         "camera": {
          "eye": {
           "x": -1.25,
           "y": 2,
           "z": 0.5
          }
         }
        },
        "template": {
         "data": {
          "bar": [
           {
            "error_x": {
             "color": "#2a3f5f"
            },
            "error_y": {
             "color": "#2a3f5f"
            },
            "marker": {
             "line": {
              "color": "#E5ECF6",
              "width": 0.5
             },
             "pattern": {
              "fillmode": "overlay",
              "size": 10,
              "solidity": 0.2
             }
            },
            "type": "bar"
           }
          ],
          "barpolar": [
           {
            "marker": {
             "line": {
              "color": "#E5ECF6",
              "width": 0.5
             },
             "pattern": {
              "fillmode": "overlay",
              "size": 10,
              "solidity": 0.2
             }
            },
            "type": "barpolar"
           }
          ],
          "carpet": [
           {
            "aaxis": {
             "endlinecolor": "#2a3f5f",
             "gridcolor": "white",
             "linecolor": "white",
             "minorgridcolor": "white",
             "startlinecolor": "#2a3f5f"
            },
            "baxis": {
             "endlinecolor": "#2a3f5f",
             "gridcolor": "white",
             "linecolor": "white",
             "minorgridcolor": "white",
             "startlinecolor": "#2a3f5f"
            },
            "type": "carpet"
           }
          ],
          "choropleth": [
           {
            "colorbar": {
             "outlinewidth": 0,
             "ticks": ""
            },
            "type": "choropleth"
           }
          ],
          "contour": [
           {
            "colorbar": {
             "outlinewidth": 0,
             "ticks": ""
            },
            "colorscale": [
             [
              0,
              "#0d0887"
             ],
             [
              0.1111111111111111,
              "#46039f"
             ],
             [
              0.2222222222222222,
              "#7201a8"
             ],
             [
              0.3333333333333333,
              "#9c179e"
             ],
             [
              0.4444444444444444,
              "#bd3786"
             ],
             [
              0.5555555555555556,
              "#d8576b"
             ],
             [
              0.6666666666666666,
              "#ed7953"
             ],
             [
              0.7777777777777778,
              "#fb9f3a"
             ],
             [
              0.8888888888888888,
              "#fdca26"
             ],
             [
              1,
              "#f0f921"
             ]
            ],
            "type": "contour"
           }
          ],
          "contourcarpet": [
           {
            "colorbar": {
             "outlinewidth": 0,
             "ticks": ""
            },
            "type": "contourcarpet"
           }
          ],
          "heatmap": [
           {
            "colorbar": {
             "outlinewidth": 0,
             "ticks": ""
            },
            "colorscale": [
             [
              0,
              "#0d0887"
             ],
             [
              0.1111111111111111,
              "#46039f"
             ],
             [
              0.2222222222222222,
              "#7201a8"
             ],
             [
              0.3333333333333333,
              "#9c179e"
             ],
             [
              0.4444444444444444,
              "#bd3786"
             ],
             [
              0.5555555555555556,
              "#d8576b"
             ],
             [
              0.6666666666666666,
              "#ed7953"
             ],
             [
              0.7777777777777778,
              "#fb9f3a"
             ],
             [
              0.8888888888888888,
              "#fdca26"
             ],
             [
              1,
              "#f0f921"
             ]
            ],
            "type": "heatmap"
           }
          ],
          "heatmapgl": [
           {
            "colorbar": {
             "outlinewidth": 0,
             "ticks": ""
            },
            "colorscale": [
             [
              0,
              "#0d0887"
             ],
             [
              0.1111111111111111,
              "#46039f"
             ],
             [
              0.2222222222222222,
              "#7201a8"
             ],
             [
              0.3333333333333333,
              "#9c179e"
             ],
             [
              0.4444444444444444,
              "#bd3786"
             ],
             [
              0.5555555555555556,
              "#d8576b"
             ],
             [
              0.6666666666666666,
              "#ed7953"
             ],
             [
              0.7777777777777778,
              "#fb9f3a"
             ],
             [
              0.8888888888888888,
              "#fdca26"
             ],
             [
              1,
              "#f0f921"
             ]
            ],
            "type": "heatmapgl"
           }
          ],
          "histogram": [
           {
            "marker": {
             "pattern": {
              "fillmode": "overlay",
              "size": 10,
              "solidity": 0.2
             }
            },
            "type": "histogram"
           }
          ],
          "histogram2d": [
           {
            "colorbar": {
             "outlinewidth": 0,
             "ticks": ""
            },
            "colorscale": [
             [
              0,
              "#0d0887"
             ],
             [
              0.1111111111111111,
              "#46039f"
             ],
             [
              0.2222222222222222,
              "#7201a8"
             ],
             [
              0.3333333333333333,
              "#9c179e"
             ],
             [
              0.4444444444444444,
              "#bd3786"
             ],
             [
              0.5555555555555556,
              "#d8576b"
             ],
             [
              0.6666666666666666,
              "#ed7953"
             ],
             [
              0.7777777777777778,
              "#fb9f3a"
             ],
             [
              0.8888888888888888,
              "#fdca26"
             ],
             [
              1,
              "#f0f921"
             ]
            ],
            "type": "histogram2d"
           }
          ],
          "histogram2dcontour": [
           {
            "colorbar": {
             "outlinewidth": 0,
             "ticks": ""
            },
            "colorscale": [
             [
              0,
              "#0d0887"
             ],
             [
              0.1111111111111111,
              "#46039f"
             ],
             [
              0.2222222222222222,
              "#7201a8"
             ],
             [
              0.3333333333333333,
              "#9c179e"
             ],
             [
              0.4444444444444444,
              "#bd3786"
             ],
             [
              0.5555555555555556,
              "#d8576b"
             ],
             [
              0.6666666666666666,
              "#ed7953"
             ],
             [
              0.7777777777777778,
              "#fb9f3a"
             ],
             [
              0.8888888888888888,
              "#fdca26"
             ],
             [
              1,
              "#f0f921"
             ]
            ],
            "type": "histogram2dcontour"
           }
          ],
          "mesh3d": [
           {
            "colorbar": {
             "outlinewidth": 0,
             "ticks": ""
            },
            "type": "mesh3d"
           }
          ],
          "parcoords": [
           {
            "line": {
             "colorbar": {
              "outlinewidth": 0,
              "ticks": ""
             }
            },
            "type": "parcoords"
           }
          ],
          "pie": [
           {
            "automargin": true,
            "type": "pie"
           }
          ],
          "scatter": [
           {
            "marker": {
             "colorbar": {
              "outlinewidth": 0,
              "ticks": ""
             }
            },
            "type": "scatter"
           }
          ],
          "scatter3d": [
           {
            "line": {
             "colorbar": {
              "outlinewidth": 0,
              "ticks": ""
             }
            },
            "marker": {
             "colorbar": {
              "outlinewidth": 0,
              "ticks": ""
             }
            },
            "type": "scatter3d"
           }
          ],
          "scattercarpet": [
           {
            "marker": {
             "colorbar": {
              "outlinewidth": 0,
              "ticks": ""
             }
            },
            "type": "scattercarpet"
           }
          ],
          "scattergeo": [
           {
            "marker": {
             "colorbar": {
              "outlinewidth": 0,
              "ticks": ""
             }
            },
            "type": "scattergeo"
           }
          ],
          "scattergl": [
           {
            "marker": {
             "colorbar": {
              "outlinewidth": 0,
              "ticks": ""
             }
            },
            "type": "scattergl"
           }
          ],
          "scattermapbox": [
           {
            "marker": {
             "colorbar": {
              "outlinewidth": 0,
              "ticks": ""
             }
            },
            "type": "scattermapbox"
           }
          ],
          "scatterpolar": [
           {
            "marker": {
             "colorbar": {
              "outlinewidth": 0,
              "ticks": ""
             }
            },
            "type": "scatterpolar"
           }
          ],
          "scatterpolargl": [
           {
            "marker": {
             "colorbar": {
              "outlinewidth": 0,
              "ticks": ""
             }
            },
            "type": "scatterpolargl"
           }
          ],
          "scatterternary": [
           {
            "marker": {
             "colorbar": {
              "outlinewidth": 0,
              "ticks": ""
             }
            },
            "type": "scatterternary"
           }
          ],
          "surface": [
           {
            "colorbar": {
             "outlinewidth": 0,
             "ticks": ""
            },
            "colorscale": [
             [
              0,
              "#0d0887"
             ],
             [
              0.1111111111111111,
              "#46039f"
             ],
             [
              0.2222222222222222,
              "#7201a8"
             ],
             [
              0.3333333333333333,
              "#9c179e"
             ],
             [
              0.4444444444444444,
              "#bd3786"
             ],
             [
              0.5555555555555556,
              "#d8576b"
             ],
             [
              0.6666666666666666,
              "#ed7953"
             ],
             [
              0.7777777777777778,
              "#fb9f3a"
             ],
             [
              0.8888888888888888,
              "#fdca26"
             ],
             [
              1,
              "#f0f921"
             ]
            ],
            "type": "surface"
           }
          ],
          "table": [
           {
            "cells": {
             "fill": {
              "color": "#EBF0F8"
             },
             "line": {
              "color": "white"
             }
            },
            "header": {
             "fill": {
              "color": "#C8D4E3"
             },
             "line": {
              "color": "white"
             }
            },
            "type": "table"
           }
          ]
         },
         "layout": {
          "annotationdefaults": {
           "arrowcolor": "#2a3f5f",
           "arrowhead": 0,
           "arrowwidth": 1
          },
          "autotypenumbers": "strict",
          "coloraxis": {
           "colorbar": {
            "outlinewidth": 0,
            "ticks": ""
           }
          },
          "colorscale": {
           "diverging": [
            [
             0,
             "#8e0152"
            ],
            [
             0.1,
             "#c51b7d"
            ],
            [
             0.2,
             "#de77ae"
            ],
            [
             0.3,
             "#f1b6da"
            ],
            [
             0.4,
             "#fde0ef"
            ],
            [
             0.5,
             "#f7f7f7"
            ],
            [
             0.6,
             "#e6f5d0"
            ],
            [
             0.7,
             "#b8e186"
            ],
            [
             0.8,
             "#7fbc41"
            ],
            [
             0.9,
             "#4d9221"
            ],
            [
             1,
             "#276419"
            ]
           ],
           "sequential": [
            [
             0,
             "#0d0887"
            ],
            [
             0.1111111111111111,
             "#46039f"
            ],
            [
             0.2222222222222222,
             "#7201a8"
            ],
            [
             0.3333333333333333,
             "#9c179e"
            ],
            [
             0.4444444444444444,
             "#bd3786"
            ],
            [
             0.5555555555555556,
             "#d8576b"
            ],
            [
             0.6666666666666666,
             "#ed7953"
            ],
            [
             0.7777777777777778,
             "#fb9f3a"
            ],
            [
             0.8888888888888888,
             "#fdca26"
            ],
            [
             1,
             "#f0f921"
            ]
           ],
           "sequentialminus": [
            [
             0,
             "#0d0887"
            ],
            [
             0.1111111111111111,
             "#46039f"
            ],
            [
             0.2222222222222222,
             "#7201a8"
            ],
            [
             0.3333333333333333,
             "#9c179e"
            ],
            [
             0.4444444444444444,
             "#bd3786"
            ],
            [
             0.5555555555555556,
             "#d8576b"
            ],
            [
             0.6666666666666666,
             "#ed7953"
            ],
            [
             0.7777777777777778,
             "#fb9f3a"
            ],
            [
             0.8888888888888888,
             "#fdca26"
            ],
            [
             1,
             "#f0f921"
            ]
           ]
          },
          "colorway": [
           "#636efa",
           "#EF553B",
           "#00cc96",
           "#ab63fa",
           "#FFA15A",
           "#19d3f3",
           "#FF6692",
           "#B6E880",
           "#FF97FF",
           "#FECB52"
          ],
          "font": {
           "color": "#2a3f5f"
          },
          "geo": {
           "bgcolor": "white",
           "lakecolor": "white",
           "landcolor": "#E5ECF6",
           "showlakes": true,
           "showland": true,
           "subunitcolor": "white"
          },
          "hoverlabel": {
           "align": "left"
          },
          "hovermode": "closest",
          "mapbox": {
           "style": "light"
          },
          "paper_bgcolor": "white",
          "plot_bgcolor": "#E5ECF6",
          "polar": {
           "angularaxis": {
            "gridcolor": "white",
            "linecolor": "white",
            "ticks": ""
           },
           "bgcolor": "#E5ECF6",
           "radialaxis": {
            "gridcolor": "white",
            "linecolor": "white",
            "ticks": ""
           }
          },
          "scene": {
           "xaxis": {
            "backgroundcolor": "#E5ECF6",
            "gridcolor": "white",
            "gridwidth": 2,
            "linecolor": "white",
            "showbackground": true,
            "ticks": "",
            "zerolinecolor": "white"
           },
           "yaxis": {
            "backgroundcolor": "#E5ECF6",
            "gridcolor": "white",
            "gridwidth": 2,
            "linecolor": "white",
            "showbackground": true,
            "ticks": "",
            "zerolinecolor": "white"
           },
           "zaxis": {
            "backgroundcolor": "#E5ECF6",
            "gridcolor": "white",
            "gridwidth": 2,
            "linecolor": "white",
            "showbackground": true,
            "ticks": "",
            "zerolinecolor": "white"
           }
          },
          "shapedefaults": {
           "line": {
            "color": "#2a3f5f"
           }
          },
          "ternary": {
           "aaxis": {
            "gridcolor": "white",
            "linecolor": "white",
            "ticks": ""
           },
           "baxis": {
            "gridcolor": "white",
            "linecolor": "white",
            "ticks": ""
           },
           "bgcolor": "#E5ECF6",
           "caxis": {
            "gridcolor": "white",
            "linecolor": "white",
            "ticks": ""
           }
          },
          "title": {
           "x": 0.05
          },
          "xaxis": {
           "automargin": true,
           "gridcolor": "white",
           "linecolor": "white",
           "ticks": "",
           "title": {
            "standoff": 15
           },
           "zerolinecolor": "white",
           "zerolinewidth": 2
          },
          "yaxis": {
           "automargin": true,
           "gridcolor": "white",
           "linecolor": "white",
           "ticks": "",
           "title": {
            "standoff": 15
           },
           "zerolinecolor": "white",
           "zerolinewidth": 2
          }
         }
        },
        "title": {
         "text": "Animation Test"
        },
        "updatemenus": [
         {
          "buttons": [
           {
            "args": [
             null,
             {
              "frame": {
               "duration": 2,
               "redraw": false
              },
              "fromcurrent": true,
              "mode": "immediate",
              "transition": {
               "duration": 0
              }
             }
            ],
            "label": "Play",
            "method": "animate"
           }
          ],
          "pad": {
           "r": 10,
           "t": 45
          },
          "showactive": false,
          "type": "buttons",
          "x": 0.8,
          "xanchor": "left",
          "y": 1,
          "yanchor": "bottom"
         }
        ],
        "width": 600
       }
      },
      "text/html": [
       "<div>                            <div id=\"50072c3f-0aa8-4736-90b4-8b2eb032cf9e\" class=\"plotly-graph-div\" style=\"height:600px; width:600px;\"></div>            <script type=\"text/javascript\">                require([\"plotly\"], function(Plotly) {                    window.PLOTLYENV=window.PLOTLYENV || {};                                    if (document.getElementById(\"50072c3f-0aa8-4736-90b4-8b2eb032cf9e\")) {                    Plotly.newPlot(                        \"50072c3f-0aa8-4736-90b4-8b2eb032cf9e\",                        [{\"mode\":\"markers\",\"x\":[1.0,0.9792475210564969,0.9178514149905888,0.8183599245989672,0.6849024400004521,0.5230181084730104,0.33942593237925484,0.14174589725634046,-0.061817295362854206,-0.262814763741325,-0.4529041164186286,-0.6241957028171256,-0.7695800728569471,-0.883023054382162,-0.95981620122199,-0.996772217050833,-0.9923572439880433,-0.9467545253046645,-0.8618567999191831,-0.7411877443484259,-0.5897557226621226,-0.41384591454310704,-0.22075944916926946,-0.018510372154503518,0.18450697707700792,0.37986637199507933,0.5594594291408053,0.7158321462405541,0.842494280256423,0.9341887246502055,0.9871097053688656,0.9990607393363355,0.9695457993910898,0.8997899018725932,0.7926882623697213,0.6526861299196696,0.48559428713386943,0.29834787391040735,0.09871854474461515,-0.10500809346346798,-0.30437637517455507,-0.4911115282522227,-0.6574631180319587,-0.7965267287855186,-0.9025305312049614,-0.9710748419350043,-0.9993147322454036,-0.9860781066780927,-0.931914350819809,-0.8390715290764524],\"y\":[0.0,0.20266793654820095,0.39692414892492234,0.5747060412161792,0.7286347834693504,0.8523215697196184,0.9406327851124867,0.9899030763721239,0.9980874821347183,0.9648463089837632,0.8915592304110037,0.7812680235262638,0.6385503202266021,0.469329612777201,0.28062939951435684,0.0802816748428135,-0.12339813736217871,-0.3219563150726187,-0.5071517094845144,-0.6712977935519321,-0.8075816909683363,-0.9103469443107828,-0.9753282860670456,-0.9998286683840896,-0.9828312039256306,-0.9250413717382029,-0.8288577363730427,-0.6982723955653996,-0.5387052883861563,-0.3567792408989381,-0.16004508604325057,0.04333173336868346,0.2449100710119793,0.4363234264718193,0.6096271964908323,0.7576284153927202,0.8741842988197335,0.9544571997387519,0.9951153947776636,0.9944713672636168,0.9525518475314604,0.8710967034823207,0.7534867274396376,0.6046033165061543,0.4306258703827373,0.23877531564403087,0.03701440148506237,-0.1662827938487564,-0.3626784288265488,-0.5440211108893698],\"z\":[0.0,0.20408163265306123,0.40816326530612246,0.6122448979591837,0.8163265306122449,1.0204081632653061,1.2244897959183674,1.4285714285714286,1.6326530612244898,1.836734693877551,2.0408163265306123,2.2448979591836737,2.4489795918367347,2.6530612244897958,2.857142857142857,3.0612244897959187,3.2653061224489797,3.4693877551020407,3.673469387755102,3.8775510204081636,4.081632653061225,4.285714285714286,4.4897959183673475,4.6938775510204085,4.8979591836734695,5.1020408163265305,5.3061224489795915,5.510204081632653,5.714285714285714,5.918367346938775,6.122448979591837,6.326530612244898,6.530612244897959,6.73469387755102,6.938775510204081,7.142857142857143,7.346938775510204,7.551020408163265,7.755102040816327,7.959183673469388,8.16326530612245,8.36734693877551,8.571428571428571,8.775510204081632,8.979591836734695,9.183673469387756,9.387755102040817,9.591836734693878,9.795918367346939,10.0],\"type\":\"scatter3d\"}],                        {\"height\":600,\"scene\":{\"camera\":{\"eye\":{\"x\":-1.25,\"y\":2,\"z\":0.5}}},\"title\":{\"text\":\"Animation Test\"},\"updatemenus\":[{\"buttons\":[{\"args\":[null,{\"frame\":{\"duration\":2,\"redraw\":false},\"transition\":{\"duration\":0},\"fromcurrent\":true,\"mode\":\"immediate\"}],\"label\":\"Play\",\"method\":\"animate\"}],\"pad\":{\"r\":10,\"t\":45},\"showactive\":false,\"type\":\"buttons\",\"x\":0.8,\"xanchor\":\"left\",\"y\":1,\"yanchor\":\"bottom\"}],\"width\":600,\"template\":{\"data\":{\"bar\":[{\"error_x\":{\"color\":\"#2a3f5f\"},\"error_y\":{\"color\":\"#2a3f5f\"},\"marker\":{\"line\":{\"color\":\"#E5ECF6\",\"width\":0.5},\"pattern\":{\"fillmode\":\"overlay\",\"size\":10,\"solidity\":0.2}},\"type\":\"bar\"}],\"barpolar\":[{\"marker\":{\"line\":{\"color\":\"#E5ECF6\",\"width\":0.5},\"pattern\":{\"fillmode\":\"overlay\",\"size\":10,\"solidity\":0.2}},\"type\":\"barpolar\"}],\"carpet\":[{\"aaxis\":{\"endlinecolor\":\"#2a3f5f\",\"gridcolor\":\"white\",\"linecolor\":\"white\",\"minorgridcolor\":\"white\",\"startlinecolor\":\"#2a3f5f\"},\"baxis\":{\"endlinecolor\":\"#2a3f5f\",\"gridcolor\":\"white\",\"linecolor\":\"white\",\"minorgridcolor\":\"white\",\"startlinecolor\":\"#2a3f5f\"},\"type\":\"carpet\"}],\"choropleth\":[{\"colorbar\":{\"outlinewidth\":0,\"ticks\":\"\"},\"type\":\"choropleth\"}],\"contour\":[{\"colorbar\":{\"outlinewidth\":0,\"ticks\":\"\"},\"colorscale\":[[0.0,\"#0d0887\"],[0.1111111111111111,\"#46039f\"],[0.2222222222222222,\"#7201a8\"],[0.3333333333333333,\"#9c179e\"],[0.4444444444444444,\"#bd3786\"],[0.5555555555555556,\"#d8576b\"],[0.6666666666666666,\"#ed7953\"],[0.7777777777777778,\"#fb9f3a\"],[0.8888888888888888,\"#fdca26\"],[1.0,\"#f0f921\"]],\"type\":\"contour\"}],\"contourcarpet\":[{\"colorbar\":{\"outlinewidth\":0,\"ticks\":\"\"},\"type\":\"contourcarpet\"}],\"heatmap\":[{\"colorbar\":{\"outlinewidth\":0,\"ticks\":\"\"},\"colorscale\":[[0.0,\"#0d0887\"],[0.1111111111111111,\"#46039f\"],[0.2222222222222222,\"#7201a8\"],[0.3333333333333333,\"#9c179e\"],[0.4444444444444444,\"#bd3786\"],[0.5555555555555556,\"#d8576b\"],[0.6666666666666666,\"#ed7953\"],[0.7777777777777778,\"#fb9f3a\"],[0.8888888888888888,\"#fdca26\"],[1.0,\"#f0f921\"]],\"type\":\"heatmap\"}],\"heatmapgl\":[{\"colorbar\":{\"outlinewidth\":0,\"ticks\":\"\"},\"colorscale\":[[0.0,\"#0d0887\"],[0.1111111111111111,\"#46039f\"],[0.2222222222222222,\"#7201a8\"],[0.3333333333333333,\"#9c179e\"],[0.4444444444444444,\"#bd3786\"],[0.5555555555555556,\"#d8576b\"],[0.6666666666666666,\"#ed7953\"],[0.7777777777777778,\"#fb9f3a\"],[0.8888888888888888,\"#fdca26\"],[1.0,\"#f0f921\"]],\"type\":\"heatmapgl\"}],\"histogram\":[{\"marker\":{\"pattern\":{\"fillmode\":\"overlay\",\"size\":10,\"solidity\":0.2}},\"type\":\"histogram\"}],\"histogram2d\":[{\"colorbar\":{\"outlinewidth\":0,\"ticks\":\"\"},\"colorscale\":[[0.0,\"#0d0887\"],[0.1111111111111111,\"#46039f\"],[0.2222222222222222,\"#7201a8\"],[0.3333333333333333,\"#9c179e\"],[0.4444444444444444,\"#bd3786\"],[0.5555555555555556,\"#d8576b\"],[0.6666666666666666,\"#ed7953\"],[0.7777777777777778,\"#fb9f3a\"],[0.8888888888888888,\"#fdca26\"],[1.0,\"#f0f921\"]],\"type\":\"histogram2d\"}],\"histogram2dcontour\":[{\"colorbar\":{\"outlinewidth\":0,\"ticks\":\"\"},\"colorscale\":[[0.0,\"#0d0887\"],[0.1111111111111111,\"#46039f\"],[0.2222222222222222,\"#7201a8\"],[0.3333333333333333,\"#9c179e\"],[0.4444444444444444,\"#bd3786\"],[0.5555555555555556,\"#d8576b\"],[0.6666666666666666,\"#ed7953\"],[0.7777777777777778,\"#fb9f3a\"],[0.8888888888888888,\"#fdca26\"],[1.0,\"#f0f921\"]],\"type\":\"histogram2dcontour\"}],\"mesh3d\":[{\"colorbar\":{\"outlinewidth\":0,\"ticks\":\"\"},\"type\":\"mesh3d\"}],\"parcoords\":[{\"line\":{\"colorbar\":{\"outlinewidth\":0,\"ticks\":\"\"}},\"type\":\"parcoords\"}],\"pie\":[{\"automargin\":true,\"type\":\"pie\"}],\"scatter\":[{\"marker\":{\"colorbar\":{\"outlinewidth\":0,\"ticks\":\"\"}},\"type\":\"scatter\"}],\"scatter3d\":[{\"line\":{\"colorbar\":{\"outlinewidth\":0,\"ticks\":\"\"}},\"marker\":{\"colorbar\":{\"outlinewidth\":0,\"ticks\":\"\"}},\"type\":\"scatter3d\"}],\"scattercarpet\":[{\"marker\":{\"colorbar\":{\"outlinewidth\":0,\"ticks\":\"\"}},\"type\":\"scattercarpet\"}],\"scattergeo\":[{\"marker\":{\"colorbar\":{\"outlinewidth\":0,\"ticks\":\"\"}},\"type\":\"scattergeo\"}],\"scattergl\":[{\"marker\":{\"colorbar\":{\"outlinewidth\":0,\"ticks\":\"\"}},\"type\":\"scattergl\"}],\"scattermapbox\":[{\"marker\":{\"colorbar\":{\"outlinewidth\":0,\"ticks\":\"\"}},\"type\":\"scattermapbox\"}],\"scatterpolar\":[{\"marker\":{\"colorbar\":{\"outlinewidth\":0,\"ticks\":\"\"}},\"type\":\"scatterpolar\"}],\"scatterpolargl\":[{\"marker\":{\"colorbar\":{\"outlinewidth\":0,\"ticks\":\"\"}},\"type\":\"scatterpolargl\"}],\"scatterternary\":[{\"marker\":{\"colorbar\":{\"outlinewidth\":0,\"ticks\":\"\"}},\"type\":\"scatterternary\"}],\"surface\":[{\"colorbar\":{\"outlinewidth\":0,\"ticks\":\"\"},\"colorscale\":[[0.0,\"#0d0887\"],[0.1111111111111111,\"#46039f\"],[0.2222222222222222,\"#7201a8\"],[0.3333333333333333,\"#9c179e\"],[0.4444444444444444,\"#bd3786\"],[0.5555555555555556,\"#d8576b\"],[0.6666666666666666,\"#ed7953\"],[0.7777777777777778,\"#fb9f3a\"],[0.8888888888888888,\"#fdca26\"],[1.0,\"#f0f921\"]],\"type\":\"surface\"}],\"table\":[{\"cells\":{\"fill\":{\"color\":\"#EBF0F8\"},\"line\":{\"color\":\"white\"}},\"header\":{\"fill\":{\"color\":\"#C8D4E3\"},\"line\":{\"color\":\"white\"}},\"type\":\"table\"}]},\"layout\":{\"annotationdefaults\":{\"arrowcolor\":\"#2a3f5f\",\"arrowhead\":0,\"arrowwidth\":1},\"autotypenumbers\":\"strict\",\"coloraxis\":{\"colorbar\":{\"outlinewidth\":0,\"ticks\":\"\"}},\"colorscale\":{\"diverging\":[[0,\"#8e0152\"],[0.1,\"#c51b7d\"],[0.2,\"#de77ae\"],[0.3,\"#f1b6da\"],[0.4,\"#fde0ef\"],[0.5,\"#f7f7f7\"],[0.6,\"#e6f5d0\"],[0.7,\"#b8e186\"],[0.8,\"#7fbc41\"],[0.9,\"#4d9221\"],[1,\"#276419\"]],\"sequential\":[[0.0,\"#0d0887\"],[0.1111111111111111,\"#46039f\"],[0.2222222222222222,\"#7201a8\"],[0.3333333333333333,\"#9c179e\"],[0.4444444444444444,\"#bd3786\"],[0.5555555555555556,\"#d8576b\"],[0.6666666666666666,\"#ed7953\"],[0.7777777777777778,\"#fb9f3a\"],[0.8888888888888888,\"#fdca26\"],[1.0,\"#f0f921\"]],\"sequentialminus\":[[0.0,\"#0d0887\"],[0.1111111111111111,\"#46039f\"],[0.2222222222222222,\"#7201a8\"],[0.3333333333333333,\"#9c179e\"],[0.4444444444444444,\"#bd3786\"],[0.5555555555555556,\"#d8576b\"],[0.6666666666666666,\"#ed7953\"],[0.7777777777777778,\"#fb9f3a\"],[0.8888888888888888,\"#fdca26\"],[1.0,\"#f0f921\"]]},\"colorway\":[\"#636efa\",\"#EF553B\",\"#00cc96\",\"#ab63fa\",\"#FFA15A\",\"#19d3f3\",\"#FF6692\",\"#B6E880\",\"#FF97FF\",\"#FECB52\"],\"font\":{\"color\":\"#2a3f5f\"},\"geo\":{\"bgcolor\":\"white\",\"lakecolor\":\"white\",\"landcolor\":\"#E5ECF6\",\"showlakes\":true,\"showland\":true,\"subunitcolor\":\"white\"},\"hoverlabel\":{\"align\":\"left\"},\"hovermode\":\"closest\",\"mapbox\":{\"style\":\"light\"},\"paper_bgcolor\":\"white\",\"plot_bgcolor\":\"#E5ECF6\",\"polar\":{\"angularaxis\":{\"gridcolor\":\"white\",\"linecolor\":\"white\",\"ticks\":\"\"},\"bgcolor\":\"#E5ECF6\",\"radialaxis\":{\"gridcolor\":\"white\",\"linecolor\":\"white\",\"ticks\":\"\"}},\"scene\":{\"xaxis\":{\"backgroundcolor\":\"#E5ECF6\",\"gridcolor\":\"white\",\"gridwidth\":2,\"linecolor\":\"white\",\"showbackground\":true,\"ticks\":\"\",\"zerolinecolor\":\"white\"},\"yaxis\":{\"backgroundcolor\":\"#E5ECF6\",\"gridcolor\":\"white\",\"gridwidth\":2,\"linecolor\":\"white\",\"showbackground\":true,\"ticks\":\"\",\"zerolinecolor\":\"white\"},\"zaxis\":{\"backgroundcolor\":\"#E5ECF6\",\"gridcolor\":\"white\",\"gridwidth\":2,\"linecolor\":\"white\",\"showbackground\":true,\"ticks\":\"\",\"zerolinecolor\":\"white\"}},\"shapedefaults\":{\"line\":{\"color\":\"#2a3f5f\"}},\"ternary\":{\"aaxis\":{\"gridcolor\":\"white\",\"linecolor\":\"white\",\"ticks\":\"\"},\"baxis\":{\"gridcolor\":\"white\",\"linecolor\":\"white\",\"ticks\":\"\"},\"bgcolor\":\"#E5ECF6\",\"caxis\":{\"gridcolor\":\"white\",\"linecolor\":\"white\",\"ticks\":\"\"}},\"title\":{\"x\":0.05},\"xaxis\":{\"automargin\":true,\"gridcolor\":\"white\",\"linecolor\":\"white\",\"ticks\":\"\",\"title\":{\"standoff\":15},\"zerolinecolor\":\"white\",\"zerolinewidth\":2},\"yaxis\":{\"automargin\":true,\"gridcolor\":\"white\",\"linecolor\":\"white\",\"ticks\":\"\",\"title\":{\"standoff\":15},\"zerolinecolor\":\"white\",\"zerolinewidth\":2}}}},                        {\"responsive\": true}                    ).then(function(){\n",
       "                            Plotly.addFrames('50072c3f-0aa8-4736-90b4-8b2eb032cf9e', [{\"layout\":{\"scene\":{\"camera\":{\"eye\":{\"x\":-1.25,\"y\":2.0,\"z\":0.5}}}}},{\"layout\":{\"scene\":{\"camera\":{\"eye\":{\"x\":-1.0440883733038762,\"y\":2.1148001013645867,\"z\":0.5}}}}},{\"layout\":{\"scene\":{\"camera\":{\"eye\":{\"x\":-0.8277445607114295,\"y\":2.20846981917631,\"z\":0.5}}}}},{\"layout\":{\"scene\":{\"camera\":{\"eye\":{\"x\":-0.6031301980843282,\"y\":2.2800732365778864,\"z\":0.5}}}}},{\"layout\":{\"scene\":{\"camera\":{\"eye\":{\"x\":-0.37248955788630533,\"y\":2.3288949158915835,\"z\":0.5}}}}},{\"layout\":{\"scene\":{\"camera\":{\"eye\":{\"x\":-0.13812712515455994,\"y\":2.3544470470359995,\"z\":0.5}}}}},{\"layout\":{\"scene\":{\"camera\":{\"eye\":{\"x\":0.0976154281529733,\"y\":2.3564743215631507,\"z\":0.5}}}}},{\"layout\":{\"scene\":{\"camera\":{\"eye\":{\"x\":0.33238264036977183,\"y\":2.3349564836160908,\"z\":0.5}}}}},{\"layout\":{\"scene\":{\"camera\":{\"eye\":{\"x\":0.5638287951150889,\"y\":2.290108532318734,\"z\":0.5}}}}},{\"layout\":{\"scene\":{\"camera\":{\"eye\":{\"x\":0.7896413589166363,\"y\":2.222378573575683,\"z\":0.5}}}}},{\"layout\":{\"scene\":{\"camera\":{\"eye\":{\"x\":1.0075640872806182,\"y\":2.13244334274615,\"z\":0.5}}}}},{\"layout\":{\"scene\":{\"camera\":{\"eye\":{\"x\":1.215419568340899,\"y\":2.021201442927949,\"z\":0.5}}}}},{\"layout\":{\"scene\":{\"camera\":{\"eye\":{\"x\":1.411130978838611,\"y\":1.8897643664123798,\"z\":0.5}}}}},{\"layout\":{\"scene\":{\"camera\":{\"eye\":{\"x\":1.5927428350536517,\"y\":1.7394453890206658,\"z\":0.5}}}}},{\"layout\":{\"scene\":{\"camera\":{\"eye\":{\"x\":1.7584405313516194,\"y\":1.571746448286057,\"z\":0.5}}}}},{\"layout\":{\"scene\":{\"camera\":{\"eye\":{\"x\":1.9065684711234803,\"y\":1.388343136590474,\"z\":0.5}}}}},{\"layout\":{\"scene\":{\"camera\":{\"eye\":{\"x\":2.0356466089596212,\"y\":1.1910679591993036,\"z\":0.5}}}}},{\"layout\":{\"scene\":{\"camera\":{\"eye\":{\"x\":2.144385238774343,\"y\":0.981892024474536,\"z\":0.5}}}}},{\"layout\":{\"scene\":{\"camera\":{\"eye\":{\"x\":2.2316978801227494,\"y\":0.7629053492115697,\"z\":0.5}}}}},{\"layout\":{\"scene\":{\"camera\":{\"eye\":{\"x\":2.2967121339542085,\"y\":0.5362959758822609,\"z\":0.5}}}}},{\"layout\":{\"scene\":{\"camera\":{\"eye\":{\"x\":2.3387783993352915,\"y\":0.3043281104378174,\"z\":0.5}}}}},{\"layout\":{\"scene\":{\"camera\":{\"eye\":{\"x\":2.357476364047569,\"y\":0.06931949911137703,\"z\":0.5}}}}},{\"layout\":{\"scene\":{\"camera\":{\"eye\":{\"x\":2.3526192042083625,\"y\":-0.16638172973620402,\"z\":0.5}}}}},{\"layout\":{\"scene\":{\"camera\":{\"eye\":{\"x\":2.3242554509532205,\"y\":-0.4004205273387489,\"z\":0.5}}}}},{\"layout\":{\"scene\":{\"camera\":{\"eye\":{\"x\":2.2726685055288582,\"y\":-0.6304584553935533,\"z\":0.5}}}}},{\"layout\":{\"scene\":{\"camera\":{\"eye\":{\"x\":2.1983738076415804,\"y\":-0.8541970509639217,\"z\":0.5}}}}},{\"layout\":{\"scene\":{\"camera\":{\"eye\":{\"x\":2.1021136853541122,\"y\":-1.0694007919610644,\"z\":0.5}}}}},{\"layout\":{\"scene\":{\"camera\":{\"eye\":{\"x\":1.9848499379889861,\"y\":-1.2739194337418351,\"z\":0.5}}}}},{\"layout\":{\"scene\":{\"camera\":{\"eye\":{\"x\":1.8477542261476323,\"y\":-1.4657094936424357,\"z\":0.5}}}}},{\"layout\":{\"scene\":{\"camera\":{\"eye\":{\"x\":1.6921963648649523,\"y\":-1.6428546687817038,\"z\":0.5}}}}},{\"layout\":{\"scene\":{\"camera\":{\"eye\":{\"x\":1.5197306368702912,\"y\":-1.8035849831260569,\"z\":0.5}}}}},{\"layout\":{\"scene\":{\"camera\":{\"eye\":{\"x\":1.3320802627081803,\"y\":-1.9462944725049458,\"z\":0.5}}}}},{\"layout\":{\"scene\":{\"camera\":{\"eye\":{\"x\":1.1311201828882813,\"y\":-2.0695572308739814,\"z\":0.5}}}}},{\"layout\":{\"scene\":{\"camera\":{\"eye\":{\"x\":0.9188583240995838,\"y\":-2.1721416574967907,\"z\":0.5}}}}},{\"layout\":{\"scene\":{\"camera\":{\"eye\":{\"x\":0.6974155366706627,\"y\":-2.2530227626924613,\"z\":0.5}}}}},{\"layout\":{\"scene\":{\"camera\":{\"eye\":{\"x\":0.46900440373425567,\"y\":-2.3113924091936173,\"z\":0.5}}}}},{\"layout\":{\"scene\":{\"camera\":{\"eye\":{\"x\":0.2359071338279789,\"y\":-2.3466673867868595,\"z\":0.5}}}}},{\"layout\":{\"scene\":{\"camera\":{\"eye\":{\"x\":0.0004527578210231642,\"y\":-2.358495239556433,\"z\":0.5}}}}},{\"layout\":{\"scene\":{\"camera\":{\"eye\":{\"x\":-0.23500614199241787,\"y\":-2.346757787507232,\"z\":0.5}}}}},{\"layout\":{\"scene\":{\"camera\":{\"eye\":{\"x\":-0.46811693811777333,\"y\":-2.3115723073802474,\"z\":0.5}}}}},{\"layout\":{\"scene\":{\"camera\":{\"eye\":{\"x\":-0.6965504645363415,\"y\":-2.253290360862134,\"z\":0.5}}}}},{\"layout\":{\"scene\":{\"camera\":{\"eye\":{\"x\":-0.918024288962236,\"y\":-2.1724942818970505,\"z\":0.5}}}}},{\"layout\":{\"scene\":{\"camera\":{\"eye\":{\"x\":-1.1303255181513021,\"y\":-2.069991358198384,\"z\":0.5}}}}},{\"layout\":{\"scene\":{\"camera\":{\"eye\":{\"x\":-1.3313329083989405,\"y\":-1.9468057650967694,\"z\":0.5}}}}},{\"layout\":{\"scene\":{\"camera\":{\"eye\":{\"x\":-1.5190380603060079,\"y\":-1.8041683323187336,\"z\":0.5}}}}},{\"layout\":{\"scene\":{\"camera\":{\"eye\":{\"x\":-1.6915654860417195,\"y\":-1.6435042459429305,\"z\":0.5}}}}},{\"layout\":{\"scene\":{\"camera\":{\"eye\":{\"x\":-1.8471913485981115,\"y\":-1.4664188084119385,\"z\":0.5}}}}},{\"layout\":{\"scene\":{\"camera\":{\"eye\":{\"x\":-1.9843606857995884,\"y\":-1.2746813988809071,\"z\":0.5}}}}},{\"layout\":{\"scene\":{\"camera\":{\"eye\":{\"x\":-2.10170294697099,\"y\":-1.070207794165906,\"z\":0.5}}}}},{\"layout\":{\"scene\":{\"camera\":{\"eye\":{\"x\":-2.1980456870268847,\"y\":-0.855041026935264,\"z\":0.5}}}}},{\"layout\":{\"scene\":{\"camera\":{\"eye\":{\"x\":-2.2724262811553095,\"y\":-0.6313309724024706,\"z\":0.5}}}}},{\"layout\":{\"scene\":{\"camera\":{\"eye\":{\"x\":-2.3241015430466905,\"y\":-0.4013128674837031,\"z\":0.5}}}}},{\"layout\":{\"scene\":{\"camera\":{\"eye\":{\"x\":-2.352555150565778,\"y\":-0.16728497704943712,\"z\":0.5}}}}},{\"layout\":{\"scene\":{\"camera\":{\"eye\":{\"x\":-2.3575028046717534,\"y\":0.06841436957844715,\"z\":0.5}}}}},{\"layout\":{\"scene\":{\"camera\":{\"eye\":{\"x\":-2.3388950700402678,\"y\":0.30343014244028543,\"z\":0.5}}}}},{\"layout\":{\"scene\":{\"camera\":{\"eye\":{\"x\":-2.296917869004859,\"y\":0.53541414161953,\"z\":0.5}}}}},{\"layout\":{\"scene\":{\"camera\":{\"eye\":{\"x\":-2.2319906238824543,\"y\":0.7620484596800993,\"z\":0.5}}}}},{\"layout\":{\"scene\":{\"camera\":{\"eye\":{\"x\":-2.144762066244225,\"y\":0.9810686414312726,\"z\":0.5}}}}},{\"layout\":{\"scene\":{\"camera\":{\"eye\":{\"x\":-2.036103755004162,\"y\":1.190286309615443,\"z\":0.5}}}}},{\"layout\":{\"scene\":{\"camera\":{\"eye\":{\"x\":-1.9071013680905171,\"y\":1.3876110304502767,\"z\":0.5}}}}},{\"layout\":{\"scene\":{\"camera\":{\"eye\":{\"x\":-1.7590438547108092,\"y\":1.5710712005520746,\"z\":0.5}}}}},{\"layout\":{\"scene\":{\"camera\":{\"eye\":{\"x\":-1.5934105565974208,\"y\":1.7388337465450507,\"z\":0.5}}}}},{\"layout\":{\"scene\":{\"camera\":{\"eye\":{\"x\":-1.4118564269140148,\"y\":1.8892224405245646,\"z\":0.5}}}}}]);\n",
       "                        }).then(function(){\n",
       "                            \n",
       "var gd = document.getElementById('50072c3f-0aa8-4736-90b4-8b2eb032cf9e');\n",
       "var x = new MutationObserver(function (mutations, observer) {{\n",
       "        var display = window.getComputedStyle(gd).display;\n",
       "        if (!display || display === 'none') {{\n",
       "            console.log([gd, 'removed!']);\n",
       "            Plotly.purge(gd);\n",
       "            observer.disconnect();\n",
       "        }}\n",
       "}});\n",
       "\n",
       "// Listen for the removal of the full notebook cells\n",
       "var notebookContainer = gd.closest('#notebook-container');\n",
       "if (notebookContainer) {{\n",
       "    x.observe(notebookContainer, {childList: true});\n",
       "}}\n",
       "\n",
       "// Listen for the clearing of the current output cell\n",
       "var outputEl = gd.closest('.output');\n",
       "if (outputEl) {{\n",
       "    x.observe(outputEl, {childList: true});\n",
       "}}\n",
       "\n",
       "                        })                };                });            </script>        </div>"
      ]
     },
     "metadata": {},
     "output_type": "display_data"
    }
   ],
   "source": [
    "import plotly.graph_objects as go\n",
    "import numpy as np\n",
    "\n",
    "# Helix equation\n",
    "t = np.linspace(0, 10, 50)\n",
    "x, y, z = np.cos(t), np.sin(t), t\n",
    "\n",
    "data=[go.Scatter3d(x=x, y=y, z=z, mode='markers')]\n",
    "\n",
    "x_eye = -1.25\n",
    "y_eye = 2\n",
    "z_eye = 0.5\n",
    "\n",
    "layout = go.Layout(\n",
    "         title='Animation Test',\n",
    "         width=600,\n",
    "         height=600,\n",
    "         scene=dict(camera=dict(eye=dict(x=x_eye, y=y_eye, z=z_eye))),\n",
    "         updatemenus=[dict(type='buttons',\n",
    "                  showactive=False,\n",
    "                  y=1,\n",
    "                  x=0.8,\n",
    "                  xanchor='left',\n",
    "                  yanchor='bottom',\n",
    "                  pad=dict(t=45, r=10),\n",
    "                  buttons=[dict(label='Play',\n",
    "                                 method='animate',\n",
    "                                 args=[None, dict(frame=dict(duration=2, redraw=False), \n",
    "                                                             transition=dict(duration=0),\n",
    "                                                             fromcurrent=True,\n",
    "                                                             mode='immediate'\n",
    "                                                            )]\n",
    "                                            )\n",
    "                                      ]\n",
    "                              )\n",
    "                        ]\n",
    ")\n",
    "\n",
    "\n",
    "def rotate_z(x, y, z, theta):\n",
    "    w = x+1j*y\n",
    "    return np.real(np.exp(1j*theta)*w), np.imag(np.exp(1j*theta)*w), z\n",
    "\n",
    "frames=[]\n",
    "for t in np.arange(0, 6.26, 0.1):\n",
    "    xe, ye, ze = rotate_z(x_eye, y_eye, z_eye, -t)\n",
    "    frames.append(dict(layout=dict(scene=dict(camera=dict(eye=dict(x=xe, y=ye, z=ze))))))\n",
    "\n",
    "fig = go.Figure(data=data, layout=layout, frames=frames)\n",
    "\n",
    "fig.show()"
   ]
  },
  {
   "cell_type": "code",
   "execution_count": null,
   "metadata": {},
   "outputs": [],
   "source": [
    "ll_t_bounds = [\n",
    "    [None, None, None],\n",
    "    [[(759.6073, 759.6117)], None, None],\n",
    "    [[(759.6071000000001, 759.6112)], None, None],\n",
    "    [[(759.6068, 759.6106000000001)], None, None],\n",
    "    [[(759.6069, 759.6111000000001)], None, None],\n",
    "    [[(759.6064, 759.6108)], None, None],\n",
    "    [[(759.6066000000001, 759.611)], None, None],\n",
    "    [[(759.6067, 759.611)], None, None],\n",
    "    [[(759.6066000000001, 759.611)], None, None],\n",
    "    [[(759.6067, 759.6111000000001)], None, None],\n",
    "    [[(759.6067, 759.6115000000001)], None, None],\n",
    "    [[(759.6067, 759.611)], None, None],\n",
    "    [[(759.6066000000001, 759.6111000000001)], None, None],\n",
    "    [[(759.6067, 759.6112)], None, None],\n",
    "    [[(759.6069, 759.6111000000001)], None, None],\n",
    "    [[(759.6070000000001, 759.6111000000001)], None, None],\n",
    "    [[(759.6069, 759.6112)], None, None],\n",
    "    [[(759.6069, 759.611)], None, None],\n",
    "    [[(759.6064, 759.611)], None, None],\n",
    "    [[(759.6066117365762, 759.6111773745573)], None, None],\n",
    "    [[(759.6067594505706, 759.6111700259931)], None, None],\n",
    "    [[(759.6064842656122, 759.6111548755334)], None, None],\n",
    "    [[(759.6074, 759.6112)], None, None],\n",
    "    [[(759.6067, 759.6109)], None, None],\n",
    "    [[(759.6067, 759.611)], None, None],\n",
    "    [[(759.6067, 759.611)], None, None],\n",
    "    [[(759.6067, 759.6115000000001)], None, None],\n",
    "    [[(759.6068, 759.6114)], None, None],\n",
    "    [[(759.6073, 759.6114)], None, None],\n",
    "    [[(759.6071000000001, 759.6113)], None, None],\n",
    "    [None, None, None],\n",
    "    [[(759.6069, 759.6112)], None, None],\n",
    "]\n",
    "array_x, array_y, array_z, array_c = figures.compute_array_3D(\n",
    "    ll_t_bounds, normalize_independently=True, high_res=False\n",
    ")\n"
   ]
  },
  {
   "cell_type": "code",
   "execution_count": null,
   "metadata": {},
   "outputs": [],
   "source": []
  },
  {
   "cell_type": "code",
   "execution_count": null,
   "metadata": {},
   "outputs": [],
   "source": []
  },
  {
   "cell_type": "code",
   "execution_count": null,
   "metadata": {},
   "outputs": [],
   "source": [
    "array_slices = np.copy(array_atlas_borders)\n",
    "array_for_avg = np.full_like(array_atlas_borders, 1)\n",
    "array_x_scaled = array_x * 1000000 / atlas.resolution / decrease_dimensionality_factor\n",
    "array_y_scaled = array_y * 1000000 / atlas.resolution / decrease_dimensionality_factor\n",
    "array_z_scaled = array_z * 1000000 / atlas.resolution / decrease_dimensionality_factor\n",
    "\n",
    "print(np.min(array_x_scaled), np.max(array_x_scaled))\n",
    "print(np.min(array_y_scaled), np.max(array_y_scaled))\n",
    "print(np.min(array_z_scaled), np.max(array_z_scaled))\n",
    "print(np.min(array_c), np.max(array_c))\n",
    "print(array_slices.shape)\n",
    "for x, y, z, c in zip(array_x_scaled, array_y_scaled, array_z_scaled, array_c):\n",
    "    x_scaled = int(round(y))\n",
    "    y_scaled = int(round(z))\n",
    "    z_scaled = int(round(x))\n",
    "    # if inside the brain but not a border\n",
    "    if array_slices[x_scaled, y_scaled, z_scaled] > -0.05:\n",
    "        # if inside the brain and not assigned before\n",
    "        if abs(array_slices[x_scaled, y_scaled, z_scaled] - (-0.01)) < 10**-4:\n",
    "            array_slices[x_scaled, y_scaled, z_scaled] = c / 100\n",
    "        # inside the brain but already assigned, in which case average\n",
    "        else:\n",
    "            array_slices[x_scaled, y_scaled, z_scaled] += c / 100\n",
    "            array_for_avg[x_scaled, y_scaled, z_scaled] += 1\n",
    "\n",
    "array_slices = array_slices / array_for_avg\n"
   ]
  },
  {
   "cell_type": "code",
   "execution_count": null,
   "metadata": {},
   "outputs": [],
   "source": [
    "X, Y, Z = np.mgrid[\n",
    "    0 : array_atlas_borders.shape[0]\n",
    "    / 1000\n",
    "    * 25\n",
    "    * decrease_dimensionality_factor : array_atlas_borders.shape[0]\n",
    "    * 1j,\n",
    "    0 : array_atlas_borders.shape[1]\n",
    "    / 1000\n",
    "    * 25\n",
    "    * decrease_dimensionality_factor : array_atlas_borders.shape[1]\n",
    "    * 1j,\n",
    "    0 : array_atlas_borders.shape[2]\n",
    "    / 1000\n",
    "    * 25\n",
    "    * decrease_dimensionality_factor : array_atlas_borders.shape[2]\n",
    "    * 1j,\n",
    "]\n",
    "\n",
    "plot = False\n",
    "if plot:\n",
    "    fig = go.Figure(\n",
    "        data=go.Volume(\n",
    "            x=X.flatten(),\n",
    "            y=Y.flatten(),\n",
    "            z=Z.flatten(),\n",
    "            value=array_slices.flatten(),\n",
    "            isomin=-1,\n",
    "            isomax=2.55,\n",
    "            opacity=0.5,  # max opacity\n",
    "            opacityscale=\"uniform\",\n",
    "            surface_count=10,\n",
    "            colorscale=\"RdBu_r\",\n",
    "        )\n",
    "    )\n",
    "\n",
    "    fig.update_layout(\n",
    "        margin=dict(t=0, r=0, b=0, l=0),\n",
    "        scene=dict(\n",
    "            xaxis=dict(backgroundcolor=\"rgba(0,0,0,0)\", color=\"grey\", gridcolor=\"grey\"),\n",
    "            yaxis=dict(backgroundcolor=\"rgba(0,0,0,0)\", color=\"grey\", gridcolor=\"grey\"),\n",
    "            zaxis=dict(backgroundcolor=\"rgba(0,0,0,0)\", color=\"grey\", gridcolor=\"grey\"),\n",
    "        ),\n",
    "    )\n",
    "    fig.show()\n"
   ]
  },
  {
   "cell_type": "code",
   "execution_count": null,
   "metadata": {},
   "outputs": [],
   "source": [
    "x_min, x_max, y_min, y_max, z_min, z_max = None, None, None, None, None, None\n",
    "# Crop unfilled parts to save space\n",
    "for x in range(0, array_annotation.shape[0]):\n",
    "    if id_structure in array_annotation[x, :, :]:\n",
    "        x_min = x - 1\n",
    "        break\n",
    "for x in range(array_annotation.shape[0] - 1, -1, -1):\n",
    "    if id_structure in array_annotation[x, :, :]:\n",
    "        x_max = x + 1\n",
    "        break\n",
    "for y in range(0, array_annotation.shape[1]):\n",
    "    if id_structure in array_annotation[:, y, :]:\n",
    "        y_min = y - 1\n",
    "        break\n",
    "for y in range(array_annotation.shape[1] - 1, -1, -1):\n",
    "    if id_structure in array_annotation[:, y, :]:\n",
    "        y_max = y + 1\n",
    "        break\n",
    "for z in range(0, array_annotation.shape[2]):\n",
    "    if id_structure in array_annotation[:, :, z]:\n",
    "        z_min = z - 1\n",
    "        break\n",
    "for z in range(array_annotation.shape[2] - 1, -1, -1):\n",
    "    if id_structure in array_annotation[:, :, z]:\n",
    "        z_max = z + 1\n",
    "        break\n",
    "\n",
    "if x_min is None:\n",
    "    print(\"Bug, no voxel value has been assigned\")\n",
    "else:\n",
    "    array_annotation = array_annotation[x_min : x_max + 1, y_min : y_max + 1, z_min : z_max + 1]\n",
    "    array_slices = array_slices[x_min : x_max + 1, y_min : y_max + 1, z_min : z_max + 1]\n",
    "    X = X[x_min : x_max + 1, y_min : y_max + 1, z_min : z_max + 1]\n",
    "    Y = Y[x_min : x_max + 1, y_min : y_max + 1, z_min : z_max + 1]\n",
    "    Z = Z[x_min : x_max + 1, y_min : y_max + 1, z_min : z_max + 1]\n"
   ]
  },
  {
   "cell_type": "code",
   "execution_count": null,
   "metadata": {},
   "outputs": [],
   "source": [
    "array_interpolated = fill_array_interpolation(array_annotation, array_slices, divider_radius=5)\n",
    "print(np.max(array_interpolated))\n"
   ]
  },
  {
   "cell_type": "code",
   "execution_count": null,
   "metadata": {},
   "outputs": [],
   "source": [
    "size = widgets.IntSlider(\n",
    "    value=5, min=0, max=array_interpolated.shape[0] - 1, step=1, description=\"Slice\"\n",
    ")\n",
    "\n",
    "\n",
    "def hist1(size):\n",
    "    plt.imshow(array_interpolated[size, :, :], vmin=-0.1, vmax=2.55)\n",
    "    return\n",
    "\n",
    "\n",
    "out = widgets.interactive_output(hist1, {\"size\": size})\n",
    "\n",
    "display(size, out)\n"
   ]
  },
  {
   "cell_type": "code",
   "execution_count": null,
   "metadata": {},
   "outputs": [],
   "source": [
    "size = widgets.IntSlider(value=5, min=0, max=array_slices.shape[0] - 1, step=1, description=\"Slice\")\n",
    "\n",
    "\n",
    "def hist1(size):\n",
    "    plt.imshow(array_slices[size, :, :], vmin=-0.1, vmax=2.55)\n",
    "    return\n",
    "\n",
    "\n",
    "out = widgets.interactive_output(hist1, {\"size\": size})\n",
    "\n",
    "display(size, out)\n"
   ]
  },
  {
   "cell_type": "code",
   "execution_count": null,
   "metadata": {},
   "outputs": [],
   "source": [
    "plot = False\n",
    "if plot:\n",
    "    volume_plot = go.Volume(\n",
    "        x=X.flatten(),\n",
    "        y=Y.flatten(),\n",
    "        z=Z.flatten(),\n",
    "        value=array_interpolated.flatten(),\n",
    "        isomin=-0.11,\n",
    "        isomax=1.5,\n",
    "        opacity=0.5,  # max opacity\n",
    "        opacityscale=\"uniform\",\n",
    "        surface_count=10,\n",
    "        colorscale=\"viridis\",  # \"RdBu_r\",\n",
    "        flatshading=False,\n",
    "        # caps= dict(x_show=False, y_show=False, z_show=False), # no caps\n",
    "        # cmid=-0.1,\n",
    "        # cmax = 2.,\n",
    "        # cmin = -1,\n",
    "    )\n",
    "    # brain_root = figures.compute_root_data()#return_shelved_object(\"figures/atlas_page/3D\", \"root\", force_update=False, compute_function=figures.compute_root_data)\n",
    "\n",
    "    fig = go.Figure(data=[brain_root_data, volume_plot])  # [volume_plot, brain_root]\n",
    "\n",
    "    fig.update_layout(\n",
    "        margin=dict(t=0, r=0, b=0, l=0),\n",
    "        scene=dict(\n",
    "            xaxis=dict(backgroundcolor=\"rgba(0,0,0,0)\", color=\"grey\", gridcolor=\"grey\"),\n",
    "            yaxis=dict(backgroundcolor=\"rgba(0,0,0,0)\", color=\"grey\", gridcolor=\"grey\"),\n",
    "            zaxis=dict(backgroundcolor=\"rgba(0,0,0,0)\", color=\"grey\", gridcolor=\"grey\"),\n",
    "        ),\n",
    "    )\n",
    "    fig.show()\n"
   ]
  },
  {
   "cell_type": "code",
   "execution_count": null,
   "metadata": {},
   "outputs": [],
   "source": []
  },
  {
   "cell_type": "code",
   "execution_count": null,
   "metadata": {},
   "outputs": [],
   "source": []
  },
  {
   "cell_type": "code",
   "execution_count": null,
   "metadata": {},
   "outputs": [],
   "source": []
  }
 ],
 "metadata": {
  "interpreter": {
   "hash": "0c1aa729cc35b9a783763c24c4069d7da678acf641f89d4e1df25bf02079ad65"
  },
  "kernelspec": {
   "display_name": "Python 3.9.7 ('base')",
   "language": "python",
   "name": "python3"
  },
  "language_info": {
   "codemirror_mode": {
    "name": "ipython",
    "version": 3
   },
   "file_extension": ".py",
   "mimetype": "text/x-python",
   "name": "python",
   "nbconvert_exporter": "python",
   "pygments_lexer": "ipython3",
   "version": "3.9.7"
  }
 },
 "nbformat": 4,
 "nbformat_minor": 4
}
