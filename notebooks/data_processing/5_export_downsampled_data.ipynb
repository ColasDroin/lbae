{
 "cells": [
  {
   "cell_type": "markdown",
   "metadata": {},
   "source": [
    "# Notebook 5\n",
    "Copy and downsample tiff files obtained from the registration process for the sample app "
   ]
  },
  {
   "cell_type": "markdown",
   "metadata": {},
   "source": [
    "### Load important modules"
   ]
  },
  {
   "cell_type": "code",
   "execution_count": 1,
   "metadata": {},
   "outputs": [
    {
     "data": {
      "text/plain": [
       "<threadpoolctl.threadpool_limits at 0x7f42de1481f0>"
      ]
     },
     "execution_count": 1,
     "metadata": {},
     "output_type": "execute_result"
    }
   ],
   "source": [
    "# Standard modules\n",
    "import numpy as np\n",
    "import matplotlib.pyplot as plt\n",
    "import shutil\n",
    "import os\n",
    "from skimage import io\n",
    "from xtiff import to_tiff\n",
    "\n",
    "# multithreading\n",
    "from threadpoolctl import threadpool_limits\n",
    "\n",
    "# Move to root directory for easier module import\n",
    "os.chdir(\"../../\")\n",
    "\n",
    "# set thread limit\n",
    "threadpool_limits(16)"
   ]
  },
  {
   "cell_type": "markdown",
   "metadata": {},
   "source": [
    "### Copy the original slice images, keeping only the last channel"
   ]
  },
  {
   "cell_type": "code",
   "execution_count": 2,
   "metadata": {},
   "outputs": [
    {
     "name": "stderr",
     "output_type": "stream",
     "text": [
      "/home/colas/miniconda3/lib/python3.9/site-packages/xtiff/tiff.py:96: UserWarning: The specified OME-TIFF file name does not end with .ome.tiff: data_sample/tiff_files/original_data/slice_1.tiff\n",
      "  warnings.warn('The specified OME-TIFF file name does not end with .ome.tiff: {}'.format(file))\n",
      "/home/colas/miniconda3/lib/python3.9/site-packages/xtiff/tiff.py:96: UserWarning: The specified OME-TIFF file name does not end with .ome.tiff: data_sample/tiff_files/original_data/slice_2.tiff\n",
      "  warnings.warn('The specified OME-TIFF file name does not end with .ome.tiff: {}'.format(file))\n",
      "/home/colas/miniconda3/lib/python3.9/site-packages/xtiff/tiff.py:96: UserWarning: The specified OME-TIFF file name does not end with .ome.tiff: data_sample/tiff_files/original_data/slice_3.tiff\n",
      "  warnings.warn('The specified OME-TIFF file name does not end with .ome.tiff: {}'.format(file))\n",
      "/home/colas/miniconda3/lib/python3.9/site-packages/xtiff/tiff.py:96: UserWarning: The specified OME-TIFF file name does not end with .ome.tiff: data_sample/tiff_files/original_data/slice_4.tiff\n",
      "  warnings.warn('The specified OME-TIFF file name does not end with .ome.tiff: {}'.format(file))\n",
      "/home/colas/miniconda3/lib/python3.9/site-packages/xtiff/tiff.py:96: UserWarning: The specified OME-TIFF file name does not end with .ome.tiff: data_sample/tiff_files/original_data/slice_5.tiff\n",
      "  warnings.warn('The specified OME-TIFF file name does not end with .ome.tiff: {}'.format(file))\n",
      "/home/colas/miniconda3/lib/python3.9/site-packages/xtiff/tiff.py:96: UserWarning: The specified OME-TIFF file name does not end with .ome.tiff: data_sample/tiff_files/original_data/slice_6.tiff\n",
      "  warnings.warn('The specified OME-TIFF file name does not end with .ome.tiff: {}'.format(file))\n",
      "/home/colas/miniconda3/lib/python3.9/site-packages/xtiff/tiff.py:96: UserWarning: The specified OME-TIFF file name does not end with .ome.tiff: data_sample/tiff_files/original_data/slice_7.tiff\n",
      "  warnings.warn('The specified OME-TIFF file name does not end with .ome.tiff: {}'.format(file))\n",
      "/home/colas/miniconda3/lib/python3.9/site-packages/xtiff/tiff.py:96: UserWarning: The specified OME-TIFF file name does not end with .ome.tiff: data_sample/tiff_files/original_data/slice_8.tiff\n",
      "  warnings.warn('The specified OME-TIFF file name does not end with .ome.tiff: {}'.format(file))\n",
      "/home/colas/miniconda3/lib/python3.9/site-packages/xtiff/tiff.py:96: UserWarning: The specified OME-TIFF file name does not end with .ome.tiff: data_sample/tiff_files/original_data/slice_9.tiff\n",
      "  warnings.warn('The specified OME-TIFF file name does not end with .ome.tiff: {}'.format(file))\n",
      "/home/colas/miniconda3/lib/python3.9/site-packages/xtiff/tiff.py:96: UserWarning: The specified OME-TIFF file name does not end with .ome.tiff: data_sample/tiff_files/original_data/slice_10.tiff\n",
      "  warnings.warn('The specified OME-TIFF file name does not end with .ome.tiff: {}'.format(file))\n",
      "/home/colas/miniconda3/lib/python3.9/site-packages/xtiff/tiff.py:96: UserWarning: The specified OME-TIFF file name does not end with .ome.tiff: data_sample/tiff_files/original_data/slice_11.tiff\n",
      "  warnings.warn('The specified OME-TIFF file name does not end with .ome.tiff: {}'.format(file))\n",
      "/home/colas/miniconda3/lib/python3.9/site-packages/xtiff/tiff.py:96: UserWarning: The specified OME-TIFF file name does not end with .ome.tiff: data_sample/tiff_files/original_data/slice_12.tiff\n",
      "  warnings.warn('The specified OME-TIFF file name does not end with .ome.tiff: {}'.format(file))\n",
      "/home/colas/miniconda3/lib/python3.9/site-packages/xtiff/tiff.py:96: UserWarning: The specified OME-TIFF file name does not end with .ome.tiff: data_sample/tiff_files/original_data/slice_13.tiff\n",
      "  warnings.warn('The specified OME-TIFF file name does not end with .ome.tiff: {}'.format(file))\n",
      "/home/colas/miniconda3/lib/python3.9/site-packages/xtiff/tiff.py:96: UserWarning: The specified OME-TIFF file name does not end with .ome.tiff: data_sample/tiff_files/original_data/slice_14.tiff\n",
      "  warnings.warn('The specified OME-TIFF file name does not end with .ome.tiff: {}'.format(file))\n",
      "/home/colas/miniconda3/lib/python3.9/site-packages/xtiff/tiff.py:96: UserWarning: The specified OME-TIFF file name does not end with .ome.tiff: data_sample/tiff_files/original_data/slice_15.tiff\n",
      "  warnings.warn('The specified OME-TIFF file name does not end with .ome.tiff: {}'.format(file))\n",
      "/home/colas/miniconda3/lib/python3.9/site-packages/xtiff/tiff.py:96: UserWarning: The specified OME-TIFF file name does not end with .ome.tiff: data_sample/tiff_files/original_data/slice_16.tiff\n",
      "  warnings.warn('The specified OME-TIFF file name does not end with .ome.tiff: {}'.format(file))\n",
      "/home/colas/miniconda3/lib/python3.9/site-packages/xtiff/tiff.py:96: UserWarning: The specified OME-TIFF file name does not end with .ome.tiff: data_sample/tiff_files/original_data/slice_17.tiff\n",
      "  warnings.warn('The specified OME-TIFF file name does not end with .ome.tiff: {}'.format(file))\n",
      "/home/colas/miniconda3/lib/python3.9/site-packages/xtiff/tiff.py:96: UserWarning: The specified OME-TIFF file name does not end with .ome.tiff: data_sample/tiff_files/original_data/slice_18.tiff\n",
      "  warnings.warn('The specified OME-TIFF file name does not end with .ome.tiff: {}'.format(file))\n",
      "/home/colas/miniconda3/lib/python3.9/site-packages/xtiff/tiff.py:96: UserWarning: The specified OME-TIFF file name does not end with .ome.tiff: data_sample/tiff_files/original_data/slice_19.tiff\n",
      "  warnings.warn('The specified OME-TIFF file name does not end with .ome.tiff: {}'.format(file))\n",
      "/home/colas/miniconda3/lib/python3.9/site-packages/xtiff/tiff.py:96: UserWarning: The specified OME-TIFF file name does not end with .ome.tiff: data_sample/tiff_files/original_data/slice_20.tiff\n",
      "  warnings.warn('The specified OME-TIFF file name does not end with .ome.tiff: {}'.format(file))\n",
      "/home/colas/miniconda3/lib/python3.9/site-packages/xtiff/tiff.py:96: UserWarning: The specified OME-TIFF file name does not end with .ome.tiff: data_sample/tiff_files/original_data/slice_21.tiff\n",
      "  warnings.warn('The specified OME-TIFF file name does not end with .ome.tiff: {}'.format(file))\n",
      "/home/colas/miniconda3/lib/python3.9/site-packages/xtiff/tiff.py:96: UserWarning: The specified OME-TIFF file name does not end with .ome.tiff: data_sample/tiff_files/original_data/slice_22.tiff\n",
      "  warnings.warn('The specified OME-TIFF file name does not end with .ome.tiff: {}'.format(file))\n",
      "/home/colas/miniconda3/lib/python3.9/site-packages/xtiff/tiff.py:96: UserWarning: The specified OME-TIFF file name does not end with .ome.tiff: data_sample/tiff_files/original_data/slice_23.tiff\n",
      "  warnings.warn('The specified OME-TIFF file name does not end with .ome.tiff: {}'.format(file))\n",
      "/home/colas/miniconda3/lib/python3.9/site-packages/xtiff/tiff.py:96: UserWarning: The specified OME-TIFF file name does not end with .ome.tiff: data_sample/tiff_files/original_data/slice_24.tiff\n",
      "  warnings.warn('The specified OME-TIFF file name does not end with .ome.tiff: {}'.format(file))\n",
      "/home/colas/miniconda3/lib/python3.9/site-packages/xtiff/tiff.py:96: UserWarning: The specified OME-TIFF file name does not end with .ome.tiff: data_sample/tiff_files/original_data/slice_25.tiff\n",
      "  warnings.warn('The specified OME-TIFF file name does not end with .ome.tiff: {}'.format(file))\n",
      "/home/colas/miniconda3/lib/python3.9/site-packages/xtiff/tiff.py:96: UserWarning: The specified OME-TIFF file name does not end with .ome.tiff: data_sample/tiff_files/original_data/slice_26.tiff\n",
      "  warnings.warn('The specified OME-TIFF file name does not end with .ome.tiff: {}'.format(file))\n",
      "/home/colas/miniconda3/lib/python3.9/site-packages/xtiff/tiff.py:96: UserWarning: The specified OME-TIFF file name does not end with .ome.tiff: data_sample/tiff_files/original_data/slice_27.tiff\n",
      "  warnings.warn('The specified OME-TIFF file name does not end with .ome.tiff: {}'.format(file))\n",
      "/home/colas/miniconda3/lib/python3.9/site-packages/xtiff/tiff.py:96: UserWarning: The specified OME-TIFF file name does not end with .ome.tiff: data_sample/tiff_files/original_data/slice_28.tiff\n",
      "  warnings.warn('The specified OME-TIFF file name does not end with .ome.tiff: {}'.format(file))\n",
      "/home/colas/miniconda3/lib/python3.9/site-packages/xtiff/tiff.py:96: UserWarning: The specified OME-TIFF file name does not end with .ome.tiff: data_sample/tiff_files/original_data/slice_29.tiff\n",
      "  warnings.warn('The specified OME-TIFF file name does not end with .ome.tiff: {}'.format(file))\n",
      "/home/colas/miniconda3/lib/python3.9/site-packages/xtiff/tiff.py:96: UserWarning: The specified OME-TIFF file name does not end with .ome.tiff: data_sample/tiff_files/original_data/slice_30.tiff\n",
      "  warnings.warn('The specified OME-TIFF file name does not end with .ome.tiff: {}'.format(file))\n",
      "/home/colas/miniconda3/lib/python3.9/site-packages/xtiff/tiff.py:96: UserWarning: The specified OME-TIFF file name does not end with .ome.tiff: data_sample/tiff_files/original_data/slice_31.tiff\n",
      "  warnings.warn('The specified OME-TIFF file name does not end with .ome.tiff: {}'.format(file))\n",
      "/home/colas/miniconda3/lib/python3.9/site-packages/xtiff/tiff.py:96: UserWarning: The specified OME-TIFF file name does not end with .ome.tiff: data_sample/tiff_files/original_data/slice_32.tiff\n",
      "  warnings.warn('The specified OME-TIFF file name does not end with .ome.tiff: {}'.format(file))\n"
     ]
    }
   ],
   "source": [
    "path_output = \"data_sample/tiff_files/original_data/\"\n",
    "path_input = \"data/tiff_files/original_data/\"\n",
    "\n",
    "# Create directory for sampled tiff files\n",
    "os.makedirs(\"data_sample/tiff_files/original_data\", exist_ok=True)\n",
    "\n",
    "# Compute number of slice\n",
    "n_slices = len([x for x in os.listdir(path_input) if \"slice_\" in x])\n",
    "\n",
    "# Loop over slices\n",
    "for i in range(n_slices):\n",
    "     \n",
    "    # Load as numpy array\n",
    "    slice_array = np.array(io.imread(path_input + \"slice_\" + str(i + 1) + \".tiff\"), dtype=np.uint8)[:, :, 2]\n",
    "    # Record as tiff in the sample directory\n",
    "    to_tiff(\n",
    "        slice_array,\n",
    "        path_output + \"slice_\" + str(i + 1) + \".tiff\",\n",
    "        image_name=\"slice_\" + str(i+1),\n",
    "        pixel_size=25,\n",
    "    )\n"
   ]
  },
  {
   "cell_type": "markdown",
   "metadata": {},
   "source": [
    "### Copy the original coordinates files "
   ]
  },
  {
   "cell_type": "code",
   "execution_count": 3,
   "metadata": {},
   "outputs": [],
   "source": [
    "# Create path for input and output for original coordinates tiff files\n",
    "path_input = \"data/tiff_files/coordinates_original_data/\"\n",
    "path_output = \"data_sample/tiff_files/coordinates_original_data/\"\n",
    "\n",
    "# Create directory for sampled coordinates tiff files\n",
    "os.makedirs(path_output, exist_ok=True)\n",
    "\n",
    "# Loop over slices\n",
    "for i in range(n_slices):\n",
    "    appendix = [\n",
    "            x\n",
    "            for x in os.listdir(path_input)\n",
    "            if str(i + 1) == x.split(\"slice_\")[1].split(\".tiff\")[0]\n",
    "        ][0]\n",
    "\n",
    "    # Float 16 to gain space\n",
    "    original_coor = np.array(io.imread(path_input + appendix  ), dtype=np.float32)\n",
    "\n",
    "    # Save file as numpy array\n",
    "    np.save(path_output + appendix[:-3] + 'npy', original_coor)\n",
    "\n",
    "\n"
   ]
  },
  {
   "cell_type": "markdown",
   "metadata": {},
   "source": [
    "### Downsample and copy the warped data as a numpy array\n"
   ]
  },
  {
   "cell_type": "code",
   "execution_count": 4,
   "metadata": {},
   "outputs": [
    {
     "name": "stdout",
     "output_type": "stream",
     "text": [
      "110.27\n",
      "(32, 918, 1311, 3)\n",
      "(32, 459, 656, 3)\n"
     ]
    }
   ],
   "source": [
    "array_coordinates_warped_data = np.array(io.imread(\"data/tiff_files/coordinates_warped_data.tif\"), dtype=np.float32)\n",
    "print(round(array_coordinates_warped_data[:,::2,::2,:].nbytes / 1024 / 1024, 2))\n",
    "print(array_coordinates_warped_data.shape)\n",
    "print(array_coordinates_warped_data[:,::2,::2,:].shape)\n",
    "np.savez_compressed(\"data_sample/tiff_files/coordinates_warped_data.npz\", array_coordinates_warped_data = array_coordinates_warped_data[:,::3,::3,:])"
   ]
  },
  {
   "cell_type": "code",
   "execution_count": 5,
   "metadata": {},
   "outputs": [],
   "source": [
    "array_warped_data = np.array(io.imread(\"data/tiff_files/warped_data.tif\"))\n",
    "np.savez_compressed(\"data_sample/tiff_files/warped_data.npz\", array_warped_data = array_warped_data[:,::3,::3])"
   ]
  }
 ],
 "metadata": {
  "interpreter": {
   "hash": "0c1aa729cc35b9a783763c24c4069d7da678acf641f89d4e1df25bf02079ad65"
  },
  "kernelspec": {
   "display_name": "Python 3 (ipykernel)",
   "language": "python",
   "name": "python3"
  },
  "language_info": {
   "codemirror_mode": {
    "name": "ipython",
    "version": 3
   },
   "file_extension": ".py",
   "mimetype": "text/x-python",
   "name": "python",
   "nbconvert_exporter": "python",
   "pygments_lexer": "ipython3",
   "version": "3.9.7"
  }
 },
 "nbformat": 4,
 "nbformat_minor": 4
}
