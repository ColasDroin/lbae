{
 "cells": [
  {
   "cell_type": "markdown",
   "metadata": {},
   "source": [
    "# Notebook 2\n",
    "Compute individual peak annotation, merge and export them as a single csv file."
   ]
  },
  {
   "cell_type": "markdown",
   "metadata": {},
   "source": [
    "### Load important modules"
   ]
  },
  {
   "cell_type": "code",
   "execution_count": null,
   "metadata": {},
   "outputs": [],
   "source": [
    "# Standard modules\n",
    "import numpy as np\n",
    "import pandas as pd\n",
    "import os\n",
    "\n",
    "# Multithreading\n",
    "from threadpoolctl import threadpool_limits\n",
    "\n",
    "# Move to root directory for easier module import\n",
    "os.chdir(\"../../\")\n",
    "\n",
    "# LBAE modules\n",
    "from modules.tools.maldi_conversion import (\n",
    "    load_peak_file,\n",
    "    get_standardized_values,\n",
    ")\n",
    "\n",
    "# Set thread limit\n",
    "threadpool_limits(16)\n"
   ]
  },
  {
   "cell_type": "markdown",
   "metadata": {},
   "source": [
    "### Create a list of raw data filenames"
   ]
  },
  {
   "cell_type": "code",
   "execution_count": null,
   "metadata": {},
   "outputs": [],
   "source": [
    "path_brain_1 = \"/data/lipidatlas/data/data_raw/BRAIN1/\"\n",
    "path_brain_2 = \"/data/lipidatlas/data/data_raw/BRAIN2/\"\n",
    "path_brain_1_temp = \"/data/lipidatlas/data/app/data/temp/brain_1\"\n",
    "path_brain_2_temp = \"/data/lipidatlas/data/app/data/temp/brain_2\"\n",
    "split_value_1 = \"MouseBrainCMC_S\"\n",
    "split_value_2 = \"MouseBrain2_S\"\n",
    "ll_t_names = []\n",
    "remove_duplicates = True\n",
    "for path_brain, path_brain_temp, split_value in zip(\n",
    "    [path_brain_1, path_brain_2],\n",
    "    [path_brain_1_temp, path_brain_2_temp],\n",
    "    [split_value_1, split_value_2],\n",
    "):\n",
    "    # Load filenames\n",
    "    l_t_names = sorted(\n",
    "        [\n",
    "            [\n",
    "                int(name.split(split_value)[1].split(\"_\")[0].split(\"A\")[0].split(\"(\")[0]),\n",
    "                path_brain + name + \"/\" + name,\n",
    "            ]\n",
    "            for name in os.listdir(path_brain)\n",
    "            if \"MouseBrain\" in name\n",
    "        ]\n",
    "    )\n",
    "\n",
    "    # Correct for duplicates\n",
    "    for idx, (t_names_1, t_names_2) in enumerate(zip(l_t_names[:-1], l_t_names[1:])):\n",
    "        if t_names_2[0] == t_names_1[0]:\n",
    "            t_names_2.append(\"bis\")\n",
    "            print(\"WARNING: duplicate for slice \" + str(t_names_1[0]))\n",
    "            if remove_duplicates:\n",
    "                del l_t_names[idx + 1]\n",
    "\n",
    "    # Remove slices that have already been processed\n",
    "    os.makedirs(path_brain_temp, exist_ok=True)\n",
    "    remove_already_loaded = False\n",
    "    if remove_already_loaded:\n",
    "        existing_names = [\n",
    "            int(name.split(\"_\")[1][:-7]) for name in os.listdir(path_brain_temp) if \"raw\" in name\n",
    "        ]\n",
    "        l_t_names = [x for x in l_t_names if x[0] not in existing_names]\n",
    "\n",
    "    # Print the final list of names\n",
    "    for t_names in l_t_names:\n",
    "        print(t_names[0], t_names[1].split(\"/\")[-1])\n",
    "\n",
    "    ll_t_names.append(l_t_names)\n"
   ]
  },
  {
   "cell_type": "code",
   "execution_count": null,
   "metadata": {},
   "outputs": [],
   "source": [
    "# Merge lists and update slice index for brain_2\n",
    "for idx in range(len(ll_t_names[1])):\n",
    "    ll_t_names[1][idx][0] += 22\n",
    "\n",
    "l_t_names = ll_t_names[0] + ll_t_names[1]\n",
    "\n",
    "# Print the final list of names\n",
    "for t_names in l_t_names:\n",
    "    print(t_names[0], t_names[1].split(\"/\")[-1])\n"
   ]
  },
  {
   "cell_type": "markdown",
   "metadata": {},
   "source": [
    "### Compute and export the annotations"
   ]
  },
  {
   "cell_type": "code",
   "execution_count": null,
   "metadata": {},
   "outputs": [],
   "source": [
    "# Load and clean lcms\n",
    "lipid_list = pd.read_excel(\n",
    "    \"/data/lipidatlas/annotations/lcms_mar2022.xlsx\", header=0\n",
    ").drop_duplicates()\n",
    "\n",
    "lipid_list[\"Lipids\"] = lipid_list[\"Lipids\"].map(\n",
    "    lambda x: x.replace(\")\", \" \").replace(\"(\", \" \").strip()\n",
    ")\n",
    "\n",
    "lipid_list[[\"name\", \"structure\"]] = lipid_list[\"Lipids\"].str.split(\n",
    "    \" \",\n",
    "    1,\n",
    "    expand=True,\n",
    ")\n",
    "lipid_list[\"Adducts\"] = lipid_list[\"Adducts\"].map(lambda x: x.replace(\" \", \"\"))\n",
    "lipid_list[\"cation\"] = lipid_list[\"Adducts\"].map(\n",
    "    lambda x: x.split(\"+\")[1].split(\"]\")[0] if \"+\" in x else x\n",
    ")\n",
    "lipid_list[\"theoretical m/z\"] = lipid_list[\"m/z\"]\n",
    "lipid_list.drop([\"Lipids\", \"Adducts\", \"m/z\"], inplace=True, axis=1)\n",
    "lipid_list\n"
   ]
  },
  {
   "cell_type": "code",
   "execution_count": null,
   "metadata": {},
   "outputs": [],
   "source": [
    "# Set peak distance treshold for annotation\n",
    "THRESH = 0.003\n",
    "\n",
    "# Define the dataframe that will be filled with annotations\n",
    "df_with_lipid_boundaries = None\n",
    "\n",
    "# Loop overs slices\n",
    "for t_names in l_t_names:\n",
    "    index = t_names[0]\n",
    "    name = t_names[1]\n",
    "\n",
    "    # Handle repeated slices\n",
    "    bis = False\n",
    "    if len(t_names) > 2:\n",
    "        print(\"WARNING: repeated slice: \", index)\n",
    "        pass\n",
    "\n",
    "    # Load peak interval data for each slice\n",
    "    df = load_peak_file(name, array=False)\n",
    "\n",
    "    # Build empty df first iteration\n",
    "    if df_with_lipid_boundaries is None:\n",
    "        df_with_lipid_boundaries = pd.DataFrame(\n",
    "            columns=[\"slice\"] + list(lipid_list.columns) + list(df.columns)\n",
    "        )\n",
    "\n",
    "    for name, row in df.iterrows():\n",
    "        # For each mz_mean, find the closest value in lipid_list\n",
    "        idx = np.argmin(np.abs(lipid_list.iloc[:, 3] - row.mz_estimated))\n",
    "        mz_hit = lipid_list.iloc[idx]\n",
    "\n",
    "        # Calculate if the difference is within the threshold\n",
    "        if abs(row.mz_estimated - mz_hit.iloc[3]) < THRESH:\n",
    "            test = pd.Series(data=[index], name=\"slice\")\n",
    "            df_row = row.append(mz_hit).to_frame().transpose().assign(slice=test)\n",
    "            if bis:\n",
    "                df_row[\"slice\"] *= 1000\n",
    "            df_with_lipid_boundaries = df_with_lipid_boundaries.append(df_row)\n",
    "\n",
    "\n",
    "df_with_lipid_boundaries.to_csv(\"data/annotations/lipid_annotation.csv\", index=False)\n",
    "df_with_lipid_boundaries\n"
   ]
  },
  {
   "cell_type": "markdown",
   "metadata": {},
   "source": [
    "### Find out which lipids have been transformed"
   ]
  },
  {
   "cell_type": "code",
   "execution_count": null,
   "metadata": {},
   "outputs": [],
   "source": [
    "def build_df_transformed_lipids(brain_1=True):\n",
    "    # Slice index is irrelevant here\n",
    "    _, l_lipids_float, _, _ = get_standardized_values(\n",
    "        slice_index=1,\n",
    "        path_array_data=\"/data/lipidatlas/data/processed/brain1/BRAIN1\"\n",
    "        if brain_1\n",
    "        else \"/data/lipidatlas/data/processed/BRAIN2\",\n",
    "        path_array_transformed_data=\"/data/lipidatlas/data/processed/brain1/BRAIN1_normalized\"\n",
    "        if brain_1\n",
    "        else \"/data/lipidatlas/data/processed/BRAIN2_normalized\",\n",
    "    )\n",
    "\n",
    "    # Set peak distance treshold for annotation\n",
    "    THRESH = 0.003\n",
    "\n",
    "    # Define the dataframe that will be filled with annotations\n",
    "    df_transformed_lipids = pd.DataFrame(columns=list(lipid_list.columns))\n",
    "\n",
    "    for mz_estimated in l_lipids_float:\n",
    "        # For each mz_mean, find the closest value in lipid_list\n",
    "        idx = np.argmin(np.abs(lipid_list.iloc[:, 3] - mz_estimated))\n",
    "        mz_hit = lipid_list.iloc[idx]\n",
    "\n",
    "        # Calculate if the difference is within the threshold\n",
    "        if abs(mz_estimated - mz_hit.iloc[3]) < THRESH:\n",
    "            df_transformed_lipids = df_transformed_lipids.append(mz_hit)\n",
    "\n",
    "    df_transformed_lipids.to_csv(\n",
    "        \"data/annotations/transformed_lipids_brain_1.csv\"\n",
    "        if brain_1\n",
    "        else \"data/annotations/transformed_lipids_brain_2.csv\",\n",
    "        index=False,\n",
    "    )\n",
    "    df_transformed_lipids.reset_index(drop=True, inplace=True)\n",
    "    return df_transformed_lipids\n",
    "\n",
    "\n",
    "build_df_transformed_lipids(brain_1=False)\n",
    "build_df_transformed_lipids(brain_1=True)\n"
   ]
  },
  {
   "cell_type": "code",
   "execution_count": null,
   "metadata": {},
   "outputs": [],
   "source": [
    "df_annotations_MAIA_transformed_lipids_brain_1 = pd.read_csv(\n",
    "    \"data/annotations/transformed_lipids_brain_1.csv\"\n",
    ")\n",
    "df_annotations_MAIA_transformed_lipids_brain_1[\n",
    "    \"name\"\n",
    "] = df_annotations_MAIA_transformed_lipids_brain_1[\"name\"].map(lambda x: x.split(\"_\")[1])\n",
    "\n",
    "for index, (\n",
    "    name,\n",
    "    structure,\n",
    "    cation,\n",
    "    mz,\n",
    ") in df_annotations_MAIA_transformed_lipids_brain_1.iterrows():\n",
    "    print(name, structure, cation, mz)\n"
   ]
  },
  {
   "cell_type": "code",
   "execution_count": null,
   "metadata": {},
   "outputs": [],
   "source": []
  }
 ],
 "metadata": {
  "kernelspec": {
   "display_name": "Python 3 (ipykernel)",
   "language": "python",
   "name": "python3"
  },
  "language_info": {
   "codemirror_mode": {
    "name": "ipython",
    "version": 3
   },
   "file_extension": ".py",
   "mimetype": "text/x-python",
   "name": "python",
   "nbconvert_exporter": "python",
   "pygments_lexer": "ipython3",
   "version": "3.9.7"
  }
 },
 "nbformat": 4,
 "nbformat_minor": 4
}
