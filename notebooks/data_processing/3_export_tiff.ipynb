{
 "cells": [
  {
   "cell_type": "markdown",
   "metadata": {},
   "source": [
    "# Notebook 3\n",
    "Export of slices as tiff images from a custom selection of lipids for optimal registration"
   ]
  },
  {
   "cell_type": "markdown",
   "metadata": {},
   "source": [
    "### Load important modules"
   ]
  },
  {
   "cell_type": "code",
   "execution_count": null,
   "metadata": {},
   "outputs": [],
   "source": [
    "# Standard modules\n",
    "import numpy as np\n",
    "import matplotlib.pyplot as plt\n",
    "import pandas as pd\n",
    "import os\n",
    "from xtiff import to_tiff\n",
    "\n",
    "# multithreading\n",
    "from threadpoolctl import threadpool_limits\n",
    "\n",
    "# Move to root directory for easier module import\n",
    "os.chdir(\"../../\")\n",
    "\n",
    "# Import custom function\n",
    "from modules.tools.spectra import compute_normalized_image_per_lipid\n",
    "from modules.maldi_data import MaldiData\n",
    "\n",
    "# set thread limit\n",
    "threadpool_limits(16)\n",
    "\n",
    "# Ignore PerformanceWarning from Pytables\n",
    "import warnings\n",
    "from tables import PerformanceWarning\n",
    "warnings.filterwarnings(\"ignore\", category=PerformanceWarning)\n"
   ]
  },
  {
   "cell_type": "markdown",
   "metadata": {},
   "source": [
    "### Load the slice data and the corresponding annotations"
   ]
  },
  {
   "cell_type": "code",
   "execution_count": null,
   "metadata": {},
   "outputs": [],
   "source": [
    "df_annotation = pd.read_csv(\"data/annotations/lipid_annotation.csv\")\n"
   ]
  },
  {
   "cell_type": "markdown",
   "metadata": {},
   "source": [
    "### Keep only most prevalent lipids"
   ]
  },
  {
   "cell_type": "code",
   "execution_count": null,
   "metadata": {},
   "outputs": [],
   "source": [
    "# Merge columns 'name' 'structure' and 'cations'\n",
    "df_annotation[\"full_name_lipid\"] = (\n",
    "    df_annotation[\"name\"] + df_annotation[\"structure\"] + df_annotation[\"cation\"]\n",
    ")\n",
    "df_annotation = df_annotation.drop([\"name\", \"structure\", \"cation\"], axis=1)\n"
   ]
  },
  {
   "cell_type": "code",
   "execution_count": null,
   "metadata": {},
   "outputs": [],
   "source": [
    "# Keep only lipids present in all slices and remove all others\n",
    "l_most_prevalent_lipids = list(df_annotation[\"full_name_lipid\"].value_counts()[:60].index)\n",
    "df_annotation = df_annotation[df_annotation[\"full_name_lipid\"].isin(l_most_prevalent_lipids)]\n",
    "df_annotation\n"
   ]
  },
  {
   "cell_type": "markdown",
   "metadata": {},
   "source": [
    "### Get the corresponding images"
   ]
  },
  {
   "cell_type": "code",
   "execution_count": null,
   "metadata": {},
   "outputs": [],
   "source": [
    "# Dictionnary containing the list of lipid image (among most prevalent ones) for each slice\n",
    "dic_l_images = {}\n",
    "data = MaldiData()\n",
    "\n",
    "# Loop over slices\n",
    "for slice_index in data.get_slice_list(indices=\"brain_2\"):\n",
    "    print(slice_index, \" started.\")\n",
    "\n",
    "    # Get lipid annotation for the current slice\n",
    "    df_currentSlice = df_annotation[df_annotation[\"slice\"] == slice_index]\n",
    "\n",
    "    # Compute lipid distribution for all annotated lipids\n",
    "    l_images = []\n",
    "    for lipid in l_most_prevalent_lipids:\n",
    "        row_lipid = df_currentSlice[df_currentSlice[\"full_name_lipid\"] == lipid]\n",
    "        # Sum over lipids that have similar annotation\n",
    "        im_lipid = np.nansum(\n",
    "            [\n",
    "                compute_normalized_image_per_lipid(\n",
    "                    row[1][\"min\"],\n",
    "                    row[1][\"max\"],\n",
    "                    data.get_array_spectra(slice_index),\n",
    "                    data.get_array_lookup_pixels(slice_index),\n",
    "                    data.get_image_shape(slice_index),\n",
    "                    data.get_array_lookup_mz(slice_index),\n",
    "                    data.get_array_cumulated_lookup_mz_image(slice_index),\n",
    "                    data.get_divider_lookup(slice_index),\n",
    "                    data.get_array_peaks_transformed_lipids(slice_index),\n",
    "                    data.get_array_corrective_factors(slice_index),\n",
    "                    apply_transform=False,\n",
    "                    percentile_normalization=99,\n",
    "                    RGB_channel_format=True,\n",
    "                )\n",
    "                for row in row_lipid.iterrows()\n",
    "            ],\n",
    "            axis=0,\n",
    "        )\n",
    "        l_images.append([im_lipid, lipid])\n",
    "    dic_l_images[slice_index] = l_images\n"
   ]
  },
  {
   "cell_type": "markdown",
   "metadata": {},
   "source": [
    "### Display results and choose the lipids that represent the brain best"
   ]
  },
  {
   "cell_type": "code",
   "execution_count": null,
   "metadata": {},
   "outputs": [],
   "source": [
    "# Register total ion content + main lipids in a jpg file\n",
    "l_slice_indexs = data.get_slice_list(indices=\"brain_2\")\n",
    "\n",
    "# Build a huge canvas with lipids as rows and slices as columns\n",
    "fig, ll_ax = plt.subplots(\n",
    "    len(l_most_prevalent_lipids[:100]),\n",
    "    len(l_slice_indexs),\n",
    "    figsize=(160, len(l_most_prevalent_lipids[:100]) * 4),\n",
    ")\n",
    "\n",
    "# Loop over slices and add the lipid images in each column\n",
    "for i, index in enumerate(l_slice_indexs):\n",
    "\n",
    "    # Compute TIC in first row\n",
    "    ll_ax[0, i].imshow(\n",
    "        np.sum(\n",
    "            [\n",
    "                image[0]\n",
    "                for index_lipid, image in enumerate(dic_l_images[index])\n",
    "                if len(image[0].shape) > 0\n",
    "            ],\n",
    "            axis=0,\n",
    "        )\n",
    "    )\n",
    "    ll_ax[0, i].axis(\"off\")\n",
    "    ll_ax[0, i].set_title(\"slice: \" + str(index) + \", TIC \")\n",
    "\n",
    "    # Invidiual lipids for remaining rows\n",
    "    for j, image in enumerate(dic_l_images[index][:99]):\n",
    "        try:\n",
    "            ll_ax[j + 1, i].imshow(image[0])\n",
    "            ll_ax[j + 1, i].axis(\"off\")\n",
    "            ll_ax[j + 1, i].set_title(\n",
    "                \"slice: \" + str(index) + \", lipid: \" + image[1] + \" (\" + str(j) + \")\"\n",
    "            )\n",
    "        except:\n",
    "            pass\n",
    "\n",
    "plt.tight_layout()\n",
    "plt.savefig(\"notebooks/data_processing/data/images/all_slices.jpg\", dpi=72)\n",
    "# fig.subplots_adjust(hspace=0.1)\n",
    "plt.close()\n"
   ]
  },
  {
   "cell_type": "code",
   "execution_count": null,
   "metadata": {},
   "outputs": [],
   "source": [
    "# Define the lipids index we want to keep for registration\n",
    "# NB: this must be redone everytime!\n",
    "ll_index_to_keep = [\n",
    "    [\n",
    "        4,\n",
    "        9,\n",
    "        10,\n",
    "        14,\n",
    "        43,\n",
    "    ],  # Red, full brain\n",
    "    [\n",
    "        29,\n",
    "        34,\n",
    "        12,\n",
    "        21,\n",
    "        24,\n",
    "    ],  # Green, specific structures\n",
    "    list(dic_l_images.keys()),  # Blue, TIC\n",
    "]\n"
   ]
  },
  {
   "cell_type": "code",
   "execution_count": null,
   "metadata": {},
   "outputs": [],
   "source": [
    "# Get an overview of the quality of the slices used for the registration with the current lipid selection\n",
    "l_slice_indexs = data.get_slice_list(indices=\"brain_2\")[::4]\n",
    "l_cmap = [\"Reds\", \"Greens\", \"Blues\"]\n",
    "fig, ll_ax = plt.subplots(3, len(l_slice_indexs), figsize=(30, 10))\n",
    "\n",
    "# Loop over slices and compute image for each lipid selection\n",
    "for i, index in enumerate(l_slice_indexs):\n",
    "    for j, l_index_to_keep in enumerate(ll_index_to_keep):\n",
    "        image = np.sum(\n",
    "            [\n",
    "                image[0]\n",
    "                for index_lipid, image in enumerate(dic_l_images[index])\n",
    "                if index_lipid in l_index_to_keep and len(image[0].shape) > 0\n",
    "            ],\n",
    "            axis=0,\n",
    "        )\n",
    "        image_norm = image / np.max(image) * 255\n",
    "        ll_ax[j, i].imshow(image_norm, cmap=l_cmap[j])\n",
    "        ll_ax[j, i].axis(\"off\")\n",
    "        ll_ax[j, i].set_title(\"slice: \" + str(index))\n",
    "\n",
    "plt.savefig(\"notebooks/data_processing/data/images/lipidschannels.png\")\n",
    "plt.show()\n"
   ]
  },
  {
   "cell_type": "markdown",
   "metadata": {},
   "source": [
    "### Record the lipid selection as RGB image under tiff format for each slice"
   ]
  },
  {
   "cell_type": "code",
   "execution_count": null,
   "metadata": {},
   "outputs": [],
   "source": [
    "# Loop over slices\n",
    "for slice_index in data.get_slice_list(indices=\"brain_2\"):\n",
    "    image_tiff = []\n",
    "    # Loop over lipid selection\n",
    "    for j, l_index_to_keep in enumerate(ll_index_to_keep):\n",
    "        image = np.sum(\n",
    "            [\n",
    "                image[0]\n",
    "                for index_lipid, image in enumerate(dic_l_images[slice_index])\n",
    "                if index_lipid in l_index_to_keep and len(image[0].shape) > 0\n",
    "            ],\n",
    "            axis=0,\n",
    "        )\n",
    "        image_norm = image / np.max(image) * 255\n",
    "        image_tiff.append(image_norm)\n",
    "\n",
    "    # Export to tiff\n",
    "    to_tiff(\n",
    "        image_tiff,\n",
    "        \"notebooks/data_processing/data/images/tiff/slice_\" + str(slice_index) + \".tiff\",\n",
    "        image_name=\"slice_\" + str(slice_index),\n",
    "        pixel_size=25,\n",
    "    )\n"
   ]
  }
 ],
 "metadata": {
  "kernelspec": {
   "display_name": "Python 3.10.4 ('py310')",
   "language": "python",
   "name": "python3"
  },
  "language_info": {
   "codemirror_mode": {
    "name": "ipython",
    "version": 3
   },
   "file_extension": ".py",
   "mimetype": "text/x-python",
   "name": "python",
   "nbconvert_exporter": "python",
   "pygments_lexer": "ipython3",
   "version": "3.10.4"
  },
  "vscode": {
   "interpreter": {
    "hash": "4f1f5731aabae6f0842d315b34d4e49ed061c9fdf55bf70e05ea23a61c2a314b"
   }
  }
 },
 "nbformat": 4,
 "nbformat_minor": 4
}
