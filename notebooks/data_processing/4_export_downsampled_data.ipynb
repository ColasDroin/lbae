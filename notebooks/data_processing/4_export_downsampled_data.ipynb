{
 "cells": [
  {
   "cell_type": "markdown",
   "metadata": {},
   "source": [
    "# Notebook 4\n",
    "Copy and downsample tiff files obtained from the registration process for the sample app "
   ]
  },
  {
   "cell_type": "markdown",
   "metadata": {},
   "source": [
    "### Load important modules"
   ]
  },
  {
   "cell_type": "code",
   "execution_count": 1,
   "metadata": {},
   "outputs": [
    {
     "data": {
      "text/plain": [
       "<threadpoolctl.threadpool_limits at 0x7fe6a91e3f70>"
      ]
     },
     "execution_count": 1,
     "metadata": {},
     "output_type": "execute_result"
    }
   ],
   "source": [
    "# Standard modules\n",
    "import numpy as np\n",
    "import matplotlib.pyplot as plt\n",
    "import shutil\n",
    "import os\n",
    "from skimage import io\n",
    "from xtiff import to_tiff\n",
    "\n",
    "# multithreading\n",
    "from threadpoolctl import threadpool_limits\n",
    "\n",
    "# Move to root directory for easier module import\n",
    "os.chdir(\"../../\")\n",
    "\n",
    "# set thread limit\n",
    "threadpool_limits(16)"
   ]
  },
  {
   "cell_type": "markdown",
   "metadata": {},
   "source": [
    "### Copy the original slice images, keeping only the last channel"
   ]
  },
  {
   "cell_type": "code",
   "execution_count": 2,
   "metadata": {},
   "outputs": [
    {
     "name": "stderr",
     "output_type": "stream",
     "text": [
      "/home/colas/miniconda3/lib/python3.9/site-packages/xtiff/tiff.py:96: UserWarning: The specified OME-TIFF file name does not end with .ome.tiff: data_sample/tiff_files/original_data/slice_1.tiff\n",
      "  warnings.warn('The specified OME-TIFF file name does not end with .ome.tiff: {}'.format(file))\n",
      "/home/colas/miniconda3/lib/python3.9/site-packages/xtiff/tiff.py:96: UserWarning: The specified OME-TIFF file name does not end with .ome.tiff: data_sample/tiff_files/original_data/slice_2.tiff\n",
      "  warnings.warn('The specified OME-TIFF file name does not end with .ome.tiff: {}'.format(file))\n",
      "/home/colas/miniconda3/lib/python3.9/site-packages/xtiff/tiff.py:96: UserWarning: The specified OME-TIFF file name does not end with .ome.tiff: data_sample/tiff_files/original_data/slice_3.tiff\n",
      "  warnings.warn('The specified OME-TIFF file name does not end with .ome.tiff: {}'.format(file))\n",
      "/home/colas/miniconda3/lib/python3.9/site-packages/xtiff/tiff.py:96: UserWarning: The specified OME-TIFF file name does not end with .ome.tiff: data_sample/tiff_files/original_data/slice_4.tiff\n",
      "  warnings.warn('The specified OME-TIFF file name does not end with .ome.tiff: {}'.format(file))\n",
      "/home/colas/miniconda3/lib/python3.9/site-packages/xtiff/tiff.py:96: UserWarning: The specified OME-TIFF file name does not end with .ome.tiff: data_sample/tiff_files/original_data/slice_5.tiff\n",
      "  warnings.warn('The specified OME-TIFF file name does not end with .ome.tiff: {}'.format(file))\n",
      "/home/colas/miniconda3/lib/python3.9/site-packages/xtiff/tiff.py:96: UserWarning: The specified OME-TIFF file name does not end with .ome.tiff: data_sample/tiff_files/original_data/slice_6.tiff\n",
      "  warnings.warn('The specified OME-TIFF file name does not end with .ome.tiff: {}'.format(file))\n",
      "/home/colas/miniconda3/lib/python3.9/site-packages/xtiff/tiff.py:96: UserWarning: The specified OME-TIFF file name does not end with .ome.tiff: data_sample/tiff_files/original_data/slice_7.tiff\n",
      "  warnings.warn('The specified OME-TIFF file name does not end with .ome.tiff: {}'.format(file))\n",
      "/home/colas/miniconda3/lib/python3.9/site-packages/xtiff/tiff.py:96: UserWarning: The specified OME-TIFF file name does not end with .ome.tiff: data_sample/tiff_files/original_data/slice_8.tiff\n",
      "  warnings.warn('The specified OME-TIFF file name does not end with .ome.tiff: {}'.format(file))\n",
      "/home/colas/miniconda3/lib/python3.9/site-packages/xtiff/tiff.py:96: UserWarning: The specified OME-TIFF file name does not end with .ome.tiff: data_sample/tiff_files/original_data/slice_9.tiff\n",
      "  warnings.warn('The specified OME-TIFF file name does not end with .ome.tiff: {}'.format(file))\n",
      "/home/colas/miniconda3/lib/python3.9/site-packages/xtiff/tiff.py:96: UserWarning: The specified OME-TIFF file name does not end with .ome.tiff: data_sample/tiff_files/original_data/slice_10.tiff\n",
      "  warnings.warn('The specified OME-TIFF file name does not end with .ome.tiff: {}'.format(file))\n",
      "/home/colas/miniconda3/lib/python3.9/site-packages/xtiff/tiff.py:96: UserWarning: The specified OME-TIFF file name does not end with .ome.tiff: data_sample/tiff_files/original_data/slice_11.tiff\n",
      "  warnings.warn('The specified OME-TIFF file name does not end with .ome.tiff: {}'.format(file))\n",
      "/home/colas/miniconda3/lib/python3.9/site-packages/xtiff/tiff.py:96: UserWarning: The specified OME-TIFF file name does not end with .ome.tiff: data_sample/tiff_files/original_data/slice_12.tiff\n",
      "  warnings.warn('The specified OME-TIFF file name does not end with .ome.tiff: {}'.format(file))\n",
      "/home/colas/miniconda3/lib/python3.9/site-packages/xtiff/tiff.py:96: UserWarning: The specified OME-TIFF file name does not end with .ome.tiff: data_sample/tiff_files/original_data/slice_13.tiff\n",
      "  warnings.warn('The specified OME-TIFF file name does not end with .ome.tiff: {}'.format(file))\n",
      "/home/colas/miniconda3/lib/python3.9/site-packages/xtiff/tiff.py:96: UserWarning: The specified OME-TIFF file name does not end with .ome.tiff: data_sample/tiff_files/original_data/slice_14.tiff\n",
      "  warnings.warn('The specified OME-TIFF file name does not end with .ome.tiff: {}'.format(file))\n",
      "/home/colas/miniconda3/lib/python3.9/site-packages/xtiff/tiff.py:96: UserWarning: The specified OME-TIFF file name does not end with .ome.tiff: data_sample/tiff_files/original_data/slice_15.tiff\n",
      "  warnings.warn('The specified OME-TIFF file name does not end with .ome.tiff: {}'.format(file))\n",
      "/home/colas/miniconda3/lib/python3.9/site-packages/xtiff/tiff.py:96: UserWarning: The specified OME-TIFF file name does not end with .ome.tiff: data_sample/tiff_files/original_data/slice_16.tiff\n",
      "  warnings.warn('The specified OME-TIFF file name does not end with .ome.tiff: {}'.format(file))\n",
      "/home/colas/miniconda3/lib/python3.9/site-packages/xtiff/tiff.py:96: UserWarning: The specified OME-TIFF file name does not end with .ome.tiff: data_sample/tiff_files/original_data/slice_17.tiff\n",
      "  warnings.warn('The specified OME-TIFF file name does not end with .ome.tiff: {}'.format(file))\n",
      "/home/colas/miniconda3/lib/python3.9/site-packages/xtiff/tiff.py:96: UserWarning: The specified OME-TIFF file name does not end with .ome.tiff: data_sample/tiff_files/original_data/slice_18.tiff\n",
      "  warnings.warn('The specified OME-TIFF file name does not end with .ome.tiff: {}'.format(file))\n",
      "/home/colas/miniconda3/lib/python3.9/site-packages/xtiff/tiff.py:96: UserWarning: The specified OME-TIFF file name does not end with .ome.tiff: data_sample/tiff_files/original_data/slice_19.tiff\n",
      "  warnings.warn('The specified OME-TIFF file name does not end with .ome.tiff: {}'.format(file))\n",
      "/home/colas/miniconda3/lib/python3.9/site-packages/xtiff/tiff.py:96: UserWarning: The specified OME-TIFF file name does not end with .ome.tiff: data_sample/tiff_files/original_data/slice_20.tiff\n",
      "  warnings.warn('The specified OME-TIFF file name does not end with .ome.tiff: {}'.format(file))\n",
      "/home/colas/miniconda3/lib/python3.9/site-packages/xtiff/tiff.py:96: UserWarning: The specified OME-TIFF file name does not end with .ome.tiff: data_sample/tiff_files/original_data/slice_21.tiff\n",
      "  warnings.warn('The specified OME-TIFF file name does not end with .ome.tiff: {}'.format(file))\n",
      "/home/colas/miniconda3/lib/python3.9/site-packages/xtiff/tiff.py:96: UserWarning: The specified OME-TIFF file name does not end with .ome.tiff: data_sample/tiff_files/original_data/slice_22.tiff\n",
      "  warnings.warn('The specified OME-TIFF file name does not end with .ome.tiff: {}'.format(file))\n",
      "/home/colas/miniconda3/lib/python3.9/site-packages/xtiff/tiff.py:96: UserWarning: The specified OME-TIFF file name does not end with .ome.tiff: data_sample/tiff_files/original_data/slice_23.tiff\n",
      "  warnings.warn('The specified OME-TIFF file name does not end with .ome.tiff: {}'.format(file))\n",
      "/home/colas/miniconda3/lib/python3.9/site-packages/xtiff/tiff.py:96: UserWarning: The specified OME-TIFF file name does not end with .ome.tiff: data_sample/tiff_files/original_data/slice_24.tiff\n",
      "  warnings.warn('The specified OME-TIFF file name does not end with .ome.tiff: {}'.format(file))\n",
      "/home/colas/miniconda3/lib/python3.9/site-packages/xtiff/tiff.py:96: UserWarning: The specified OME-TIFF file name does not end with .ome.tiff: data_sample/tiff_files/original_data/slice_25.tiff\n",
      "  warnings.warn('The specified OME-TIFF file name does not end with .ome.tiff: {}'.format(file))\n",
      "/home/colas/miniconda3/lib/python3.9/site-packages/xtiff/tiff.py:96: UserWarning: The specified OME-TIFF file name does not end with .ome.tiff: data_sample/tiff_files/original_data/slice_26.tiff\n",
      "  warnings.warn('The specified OME-TIFF file name does not end with .ome.tiff: {}'.format(file))\n",
      "/home/colas/miniconda3/lib/python3.9/site-packages/xtiff/tiff.py:96: UserWarning: The specified OME-TIFF file name does not end with .ome.tiff: data_sample/tiff_files/original_data/slice_27.tiff\n",
      "  warnings.warn('The specified OME-TIFF file name does not end with .ome.tiff: {}'.format(file))\n",
      "/home/colas/miniconda3/lib/python3.9/site-packages/xtiff/tiff.py:96: UserWarning: The specified OME-TIFF file name does not end with .ome.tiff: data_sample/tiff_files/original_data/slice_28.tiff\n",
      "  warnings.warn('The specified OME-TIFF file name does not end with .ome.tiff: {}'.format(file))\n",
      "/home/colas/miniconda3/lib/python3.9/site-packages/xtiff/tiff.py:96: UserWarning: The specified OME-TIFF file name does not end with .ome.tiff: data_sample/tiff_files/original_data/slice_29.tiff\n",
      "  warnings.warn('The specified OME-TIFF file name does not end with .ome.tiff: {}'.format(file))\n",
      "/home/colas/miniconda3/lib/python3.9/site-packages/xtiff/tiff.py:96: UserWarning: The specified OME-TIFF file name does not end with .ome.tiff: data_sample/tiff_files/original_data/slice_30.tiff\n",
      "  warnings.warn('The specified OME-TIFF file name does not end with .ome.tiff: {}'.format(file))\n",
      "/home/colas/miniconda3/lib/python3.9/site-packages/xtiff/tiff.py:96: UserWarning: The specified OME-TIFF file name does not end with .ome.tiff: data_sample/tiff_files/original_data/slice_31.tiff\n",
      "  warnings.warn('The specified OME-TIFF file name does not end with .ome.tiff: {}'.format(file))\n",
      "/home/colas/miniconda3/lib/python3.9/site-packages/xtiff/tiff.py:96: UserWarning: The specified OME-TIFF file name does not end with .ome.tiff: data_sample/tiff_files/original_data/slice_32.tiff\n",
      "  warnings.warn('The specified OME-TIFF file name does not end with .ome.tiff: {}'.format(file))\n"
     ]
    }
   ],
   "source": [
    "path_output = \"data_sample/tiff_files/original_data/\"\n",
    "path_input = \"data/tiff_files/original_data/\"\n",
    "\n",
    "# Create directory for sampled tiff files\n",
    "os.makedirs(\"data_sample/tiff_files/original_data\", exist_ok=True)\n",
    "\n",
    "# Compute number of slice\n",
    "n_slices = len([x for x in os.listdir(path_input) if \"slice_\" in x])\n",
    "\n",
    "# Loop over slices\n",
    "for i in range(n_slices):\n",
    "     \n",
    "    # Load as numpy array\n",
    "    slice_array = np.array(io.imread(path_input + \"slice_\" + str(i + 1) + \".tiff\"), dtype=np.int32)[:, :, 2]\n",
    "    # Record as tiff in the sample directory\n",
    "    to_tiff(\n",
    "        slice_array,\n",
    "        path_output + \"slice_\" + str(i + 1) + \".tiff\",\n",
    "        image_name=\"slice_\" + str(i+1),\n",
    "        pixel_size=25,\n",
    "    )\n"
   ]
  },
  {
   "cell_type": "markdown",
   "metadata": {},
   "source": [
    "### Copy the original coordinates files as float16 arrays"
   ]
  },
  {
   "cell_type": "code",
   "execution_count": 5,
   "metadata": {},
   "outputs": [],
   "source": [
    "# Create path for input and output for original coordinates tiff files\n",
    "path_input = \"data/tiff_files/coordinates_original_data/\"\n",
    "path_output = \"data_sample/tiff_files/coordinates_original_data/\"\n",
    "\n",
    "# Create directory for sampled coordinates tiff files\n",
    "os.makedirs(path_output, exist_ok=True)\n",
    "\n",
    "# Loop over slices\n",
    "for i in range(n_slices):\n",
    "    appendix = [\n",
    "            x\n",
    "            for x in os.listdir(path_input)\n",
    "            if str(i + 1) == x.split(\"slice_\")[1].split(\".tiff\")[0]\n",
    "        ][0]\n",
    "\n",
    "    # Float 16 to gain space\n",
    "    original_coor = np.array(io.imread(path_input + appendix  ), dtype=np.float16)\n",
    "\n",
    "    # Save file as numpy array\n",
    "    np.save(path_output + appendix[:-3] + 'npy', original_coor)\n",
    "\n",
    "\n"
   ]
  },
  {
   "cell_type": "markdown",
   "metadata": {},
   "source": [
    "### Downsample and copy the warped data as a numpy array\n"
   ]
  },
  {
   "cell_type": "code",
   "execution_count": 18,
   "metadata": {},
   "outputs": [
    {
     "name": "stdout",
     "output_type": "stream",
     "text": [
      "55.13\n",
      "(32, 459, 656, 3)\n"
     ]
    }
   ],
   "source": [
    "array_coordinates_warped_data = np.array(io.imread(\"data/tiff_files/coordinates_warped_data.tif\"), dtype=np.float16)\n",
    "print(round(array_coordinates_warped_data[:,::2,::2,:].nbytes / 1024 / 1024, 2))\n",
    "print(array_coordinates_warped_data[:,::2,::2,:].shape)\n",
    "np.savez_compressed(\"data_sample/tiff_files/coordinates_warped_data.npz\", array_coordinates_warped_data)"
   ]
  },
  {
   "cell_type": "markdown",
   "metadata": {},
   "source": [
    "### Keep only most prevalent lipids"
   ]
  },
  {
   "cell_type": "code",
   "execution_count": null,
   "metadata": {},
   "outputs": [],
   "source": [
    "# Merge columns 'name' 'structure' and 'cations'\n",
    "df_annotation[\"full_name_lipid\"] = (\n",
    "    df_annotation[\"name\"] + df_annotation[\"structure\"] + df_annotation[\"cation\"]\n",
    ")\n",
    "df_annotation = df_annotation.drop([\"name\", \"structure\", \"cation\"], axis=1)\n"
   ]
  },
  {
   "cell_type": "code",
   "execution_count": null,
   "metadata": {},
   "outputs": [],
   "source": [
    "# Keep only lipids present in all slices and remove all others\n",
    "l_most_prevalent_lipids = list(df_annotation[\"full_name_lipid\"].value_counts()[:60].index)\n",
    "df_annotation = df_annotation[df_annotation[\"full_name_lipid\"].isin(l_most_prevalent_lipids)]\n",
    "df_annotation\n"
   ]
  },
  {
   "cell_type": "markdown",
   "metadata": {},
   "source": [
    "### Get the corresponding images"
   ]
  },
  {
   "cell_type": "code",
   "execution_count": null,
   "metadata": {},
   "outputs": [],
   "source": [
    "# Dictionnary containing the list of lipid image (among most prevalent ones) for each slice\n",
    "dic_l_images = {}\n",
    "data = MaldiData()\n",
    "\n",
    "# Loop over slices\n",
    "for slice_index in data.get_slice_list(indices=\"brain_2\"):\n",
    "    print(slice_index, \" started.\")\n",
    "\n",
    "    # Get lipid annotation for the current slice\n",
    "    df_currentSlice = df_annotation[df_annotation[\"slice\"] == slice_index]\n",
    "\n",
    "    # Compute lipid distribution for all annotated lipids\n",
    "    l_images = []\n",
    "    for lipid in l_most_prevalent_lipids:\n",
    "        row_lipid = df_currentSlice[df_currentSlice[\"full_name_lipid\"] == lipid]\n",
    "        # Sum over lipids that have similar annotation\n",
    "        im_lipid = np.nansum(\n",
    "            [\n",
    "                compute_normalized_image_per_lipid(\n",
    "                    row[1][\"min\"],\n",
    "                    row[1][\"max\"],\n",
    "                    data.get_array_spectra(slice_index),\n",
    "                    data.get_array_lookup_pixels(slice_index),\n",
    "                    data.get_image_shape(slice_index),\n",
    "                    data.get_array_lookup_mz(slice_index),\n",
    "                    data.get_array_cumulated_lookup_mz_image(slice_index),\n",
    "                    data.get_divider_lookup(slice_index),\n",
    "                    data.get_array_peaks_transformed_lipids(slice_index),\n",
    "                    data.get_array_corrective_factors(slice_index),\n",
    "                    apply_transform=False,\n",
    "                    percentile_normalization=99,\n",
    "                    RGB_channel_format=True,\n",
    "                )\n",
    "                for row in row_lipid.iterrows()\n",
    "            ],\n",
    "            axis=0,\n",
    "        )\n",
    "        l_images.append([im_lipid, lipid])\n",
    "    dic_l_images[slice_index] = l_images\n"
   ]
  },
  {
   "cell_type": "markdown",
   "metadata": {},
   "source": [
    "### Display results and choose the lipids that represent the brain best"
   ]
  },
  {
   "cell_type": "code",
   "execution_count": null,
   "metadata": {},
   "outputs": [],
   "source": [
    "# Register total ion content + main lipids in a jpg file\n",
    "l_slice_indexs = data.get_slice_list(indices=\"brain_2\")\n",
    "\n",
    "# Build a huge canvas with lipids as rows and slices as columns\n",
    "fig, ll_ax = plt.subplots(\n",
    "    len(l_most_prevalent_lipids[:100]),\n",
    "    len(l_slice_indexs),\n",
    "    figsize=(160, len(l_most_prevalent_lipids[:100]) * 4),\n",
    ")\n",
    "\n",
    "# Loop over slices and add the lipid images in each column\n",
    "for i, index in enumerate(l_slice_indexs):\n",
    "\n",
    "    # Compute TIC in first row\n",
    "    ll_ax[0, i].imshow(\n",
    "        np.sum(\n",
    "            [\n",
    "                image[0]\n",
    "                for index_lipid, image in enumerate(dic_l_images[index])\n",
    "                if len(image[0].shape) > 0\n",
    "            ],\n",
    "            axis=0,\n",
    "        )\n",
    "    )\n",
    "    ll_ax[0, i].axis(\"off\")\n",
    "    ll_ax[0, i].set_title(\"slice: \" + str(index) + \", TIC \")\n",
    "\n",
    "    # Invidiual lipids for remaining rows\n",
    "    for j, image in enumerate(dic_l_images[index][:99]):\n",
    "        try:\n",
    "            ll_ax[j + 1, i].imshow(image[0])\n",
    "            ll_ax[j + 1, i].axis(\"off\")\n",
    "            ll_ax[j + 1, i].set_title(\n",
    "                \"slice: \" + str(index) + \", lipid: \" + image[1] + \" (\" + str(j) + \")\"\n",
    "            )\n",
    "        except:\n",
    "            pass\n",
    "\n",
    "plt.tight_layout()\n",
    "plt.savefig(\"notebooks/data_processing/data/images/all_slices.jpg\", dpi=72)\n",
    "# fig.subplots_adjust(hspace=0.1)\n",
    "plt.close()\n"
   ]
  },
  {
   "cell_type": "code",
   "execution_count": null,
   "metadata": {},
   "outputs": [],
   "source": [
    "# Define the lipids index we want to keep for registration\n",
    "# NB: this must be redone everytime!\n",
    "ll_index_to_keep = [\n",
    "    [\n",
    "        4,\n",
    "        9,\n",
    "        10,\n",
    "        14,\n",
    "        43,\n",
    "    ],  # Red, full brain\n",
    "    [\n",
    "        29,\n",
    "        34,\n",
    "        12,\n",
    "        21,\n",
    "        24,\n",
    "    ],  # Green, specific structures\n",
    "    list(dic_l_images.keys()),  # Blue, TIC\n",
    "]\n"
   ]
  },
  {
   "cell_type": "code",
   "execution_count": null,
   "metadata": {},
   "outputs": [],
   "source": [
    "# Get an overview of the quality of the slices used for the registration with the current lipid selection\n",
    "l_slice_indexs = data.get_slice_list(indices=\"brain_2\")[::4]\n",
    "l_cmap = [\"Reds\", \"Greens\", \"Blues\"]\n",
    "fig, ll_ax = plt.subplots(3, len(l_slice_indexs), figsize=(30, 10))\n",
    "\n",
    "# Loop over slices and compute image for each lipid selection\n",
    "for i, index in enumerate(l_slice_indexs):\n",
    "    for j, l_index_to_keep in enumerate(ll_index_to_keep):\n",
    "        image = np.sum(\n",
    "            [\n",
    "                image[0]\n",
    "                for index_lipid, image in enumerate(dic_l_images[index])\n",
    "                if index_lipid in l_index_to_keep and len(image[0].shape) > 0\n",
    "            ],\n",
    "            axis=0,\n",
    "        )\n",
    "        image_norm = image / np.max(image) * 255\n",
    "        ll_ax[j, i].imshow(image_norm, cmap=l_cmap[j])\n",
    "        ll_ax[j, i].axis(\"off\")\n",
    "        ll_ax[j, i].set_title(\"slice: \" + str(index))\n",
    "\n",
    "plt.savefig(\"notebooks/data_processing/data/images/lipidschannels.png\")\n",
    "plt.show()\n"
   ]
  },
  {
   "cell_type": "markdown",
   "metadata": {},
   "source": [
    "### Record the lipid selection as RGB image under tiff format for each slice"
   ]
  },
  {
   "cell_type": "code",
   "execution_count": null,
   "metadata": {},
   "outputs": [],
   "source": [
    "# Loop over slices\n",
    "for slice_index in data.get_slice_list(indices=\"brain_2\"):\n",
    "    image_tiff = []\n",
    "    # Loop over lipid selection\n",
    "    for j, l_index_to_keep in enumerate(ll_index_to_keep):\n",
    "        image = np.sum(\n",
    "            [\n",
    "                image[0]\n",
    "                for index_lipid, image in enumerate(dic_l_images[slice_index])\n",
    "                if index_lipid in l_index_to_keep and len(image[0].shape) > 0\n",
    "            ],\n",
    "            axis=0,\n",
    "        )\n",
    "        image_norm = image / np.max(image) * 255\n",
    "        image_tiff.append(image_norm)\n",
    "\n",
    "    # Export to tiff\n",
    "    to_tiff(\n",
    "        image_tiff,\n",
    "        \"notebooks/data_processing/data/images/tiff/slice_\" + str(slice_index) + \".tiff\",\n",
    "        image_name=\"slice_\" + str(slice_index),\n",
    "        pixel_size=25,\n",
    "    )\n"
   ]
  }
 ],
 "metadata": {
  "interpreter": {
   "hash": "0c1aa729cc35b9a783763c24c4069d7da678acf641f89d4e1df25bf02079ad65"
  },
  "kernelspec": {
   "display_name": "Python 3.9.7 ('base')",
   "language": "python",
   "name": "python3"
  },
  "language_info": {
   "codemirror_mode": {
    "name": "ipython",
    "version": 3
   },
   "file_extension": ".py",
   "mimetype": "text/x-python",
   "name": "python",
   "nbconvert_exporter": "python",
   "pygments_lexer": "ipython3",
   "version": "3.9.7"
  }
 },
 "nbformat": 4,
 "nbformat_minor": 4
}
