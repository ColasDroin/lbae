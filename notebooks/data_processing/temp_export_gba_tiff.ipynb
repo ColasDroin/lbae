{
 "cells": [
  {
   "cell_type": "markdown",
   "metadata": {},
   "source": [
    "# Notebook 3\n",
    "Export of slices as tiff images from a custom selection of lipids for optimal registration"
   ]
  },
  {
   "cell_type": "markdown",
   "metadata": {},
   "source": [
    "### Load important modules"
   ]
  },
  {
   "cell_type": "code",
   "execution_count": 3,
   "metadata": {},
   "outputs": [],
   "source": [
    "# Standard modules\n",
    "import numpy as np\n",
    "import matplotlib.pyplot as plt\n",
    "import pandas as pd\n",
    "import os\n",
    "from xtiff import to_tiff\n",
    "\n",
    "# multithreading\n",
    "from threadpoolctl import threadpool_limits\n",
    "\n",
    "# Move to root directory for easier module import\n",
    "os.chdir(\"../../\")\n",
    "\n",
    "# set thread limit\n",
    "threadpool_limits(16)\n",
    "\n",
    "# Ignore PerformanceWarning from Pytables\n",
    "import warnings\n",
    "from tables import PerformanceWarning\n",
    "warnings.filterwarnings(\"ignore\", category=PerformanceWarning)\n"
   ]
  },
  {
   "cell_type": "markdown",
   "metadata": {},
   "source": [
    "### Load the slice data and the corresponding annotations"
   ]
  },
  {
   "cell_type": "code",
   "execution_count": 8,
   "metadata": {},
   "outputs": [],
   "source": [
    "path = '/data/lipidatlas/data/data_raw/GBA1/images_full/'\n",
    "l_images = []\n",
    "for idx, image_name in enumerate(os.listdir(path)):\n",
    "    image = np.load(path + image_name + '/C2.npy')\n",
    "    l_images.append(image)\n",
    "    #plt.imshow(image)\n",
    "    #plt.title( str(idx) + '\\t' +image_name)\n",
    "    #plt.show()\n",
    "\n",
    "    "
   ]
  },
  {
   "cell_type": "markdown",
   "metadata": {},
   "source": [
    "### Record the lipid selection as RGB image under tiff format for each slice"
   ]
  },
  {
   "cell_type": "code",
   "execution_count": 10,
   "metadata": {},
   "outputs": [
    {
     "name": "stderr",
     "output_type": "stream",
     "text": [
      "/home/colas/miniconda3/lib/python3.9/site-packages/xtiff/tiff.py:96: UserWarning: The specified OME-TIFF file name does not end with .ome.tiff: notebooks/data_processing/data/images/temp.tiff\n",
      "  warnings.warn('The specified OME-TIFF file name does not end with .ome.tiff: {}'.format(file))\n"
     ]
    }
   ],
   "source": [
    "ll_index_to_keep = [[9,62], [15,25,31], list(range(len(l_images)))]\n",
    "# Loop over lipid selection\n",
    "image_tiff = []\n",
    "for j, l_index_to_keep in enumerate(ll_index_to_keep):\n",
    "    image = np.sum(\n",
    "        [\n",
    "            l_images[index_lipid]\n",
    "            for index_lipid, f in enumerate(os.listdir(path))\n",
    "            if index_lipid in l_index_to_keep \n",
    "        ],\n",
    "        axis=0,\n",
    "    )\n",
    "    image_norm = image / np.max(image) * 255\n",
    "    image_tiff.append(image_norm)\n",
    "\n",
    "# Export to tiff\n",
    "to_tiff(\n",
    "    image_tiff,\n",
    "    \"notebooks/data_processing/data/images/temp.tiff\",\n",
    "    image_name=\"GBA\",\n",
    "    pixel_size=25,\n",
    ")\n"
   ]
  }
 ],
 "metadata": {
  "kernelspec": {
   "display_name": "Python 3.9.7 ('base')",
   "language": "python",
   "name": "python3"
  },
  "language_info": {
   "codemirror_mode": {
    "name": "ipython",
    "version": 3
   },
   "file_extension": ".py",
   "mimetype": "text/x-python",
   "name": "python",
   "nbconvert_exporter": "python",
   "pygments_lexer": "ipython3",
   "version": "3.9.7"
  },
  "vscode": {
   "interpreter": {
    "hash": "0c1aa729cc35b9a783763c24c4069d7da678acf641f89d4e1df25bf02079ad65"
   }
  }
 },
 "nbformat": 4,
 "nbformat_minor": 4
}
