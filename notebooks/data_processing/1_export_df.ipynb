{
 "cells": [
  {
   "cell_type": "markdown",
   "metadata": {},
   "source": [
    "# Notebook 1\n",
    "Raw data export into np.memaps."
   ]
  },
  {
   "cell_type": "markdown",
   "metadata": {},
   "source": [
    "### Load important modules"
   ]
  },
  {
   "cell_type": "code",
   "execution_count": 1,
   "metadata": {},
   "outputs": [
    {
     "name": "stdout",
     "output_type": "stream",
     "text": [
      "['.git', '.gitattributes', '.gitignore', '.vscode', 'LICENSE.md', 'README.md', 'TODO.py', 'app.py', 'assets', 'config.py', 'data_sample', 'documentation', 'index.py', 'js', 'main.py', 'modules', 'notebooks', 'pages', 'readme', 'requirements.txt', 'style', 'data', '__pycache__']\n"
     ]
    }
   ],
   "source": [
    "# Standard modules\n",
    "import numpy as np\n",
    "import os\n",
    "import lzma\n",
    "import pickle\n",
    "\n",
    "# Move to root directory for easier module handling\n",
    "os.chdir(\"../..\")\n",
    "print(os.listdir(\".\"))\n",
    "from modules.tools import maldi_conversion \n",
    "from modules.tools import lookup_tables\n",
    "from modules.tools.misc import delete_all_files_in_folder\n",
    "\n",
    "# multithreading/multiprocessing\n",
    "from multiprocessing import Pool\n",
    "from threadpoolctl import threadpool_limits\n",
    "\n",
    "# set thread limit\n",
    "threadpool_limits(16)\n",
    "\n",
    "# Define if the app uses only MAIA-transformed lipids\n",
    "maldi_conversion.SAMPLE_APP = False\n",
    "if maldi_conversion.SAMPLE_APP:\n",
    "    lookup_tables.DIVIDER_LOOKUP = 600"
   ]
  },
  {
   "cell_type": "markdown",
   "metadata": {},
   "source": [
    "### Create a list of raw data filenames"
   ]
  },
  {
   "cell_type": "code",
   "execution_count": 2,
   "metadata": {},
   "outputs": [
    {
     "name": "stdout",
     "output_type": "stream",
     "text": [
      "1 20210210_MouseBrainCMC_S1AA1_2Dpixelmode_322x231_Att25_25um\n",
      "2 20210211_MouseBrainCMC_S2AB5_2Dpixelmode_370x214_Att25_25um\n",
      "3 20210213_MouseBrainCMC_S3AC4_2Dpixelmode_371x195_Att25_25um\n",
      "4 20210214_MouseBrainCMC_S4AD3_2Dpixelmode_354x228_Att25_25um\n",
      "5 20210218_MouseBrainCMC_S5AE3_2Dpixelmode_396x272_Att25_25um\n",
      "6 20210219_MouseBrainCMC_S6AE3_2Dpixelmode_423x282_Att25_25um\n",
      "7 20210220_MouseBrainCMC_S7AF5_2Dpixelmode_427x263_Att25_25um\n",
      "8 20210531_MouseBrainCMC_S8_duplicate_2Dpixelmode_430x285_Att30_25um\n",
      "9 20210224_MouseBrainCMC_S9AH4_2Dpixelmode_467x278_Att25_25um\n",
      "10 20210210_MouseBrainCMC_S10(brain2_20)_394x282_Att30_25um\n",
      "11 20210301_MouseBrainCMC_S11AK5_2Dpixelmode_448x277_Att25_25um\n",
      "12 20210303_MouseBrainCMC_S12AL1_2Dpixelmode_393x266_Att25_25um\n",
      "13 20210304_MouseBrainCMC_S13AM1_2Dpixelmode_413x310_Att25_25um\n",
      "14 20210305_MouseBrainCMC_S14AN1_2Dpixelmode_409x285_Att25_25um\n",
      "15 20210313_MouseBrainCMC_S15AO2_2Dpixelmode_451x292_Att25_25um\n",
      "16 20210530_MouseBrainCMC_S16_duplicate_2Dpixelmode_454x295_Att30_25um\n",
      "17 20210319_MouseBrainCMC_S17AQ2_2Dpixelmode_450x287_Att30_25um\n",
      "18 20210323_MouseBrainCMC_S18AR4_2Dpixelmode_474x291_Att30_25um\n",
      "19 20210325_MouseBrainCMC_S19AS4_2Dpixelmode_396x232_Att30_25um\n",
      "20 20210330_MouseBrainCMC_S20AT3_2Dpixelmode_396x266_Att30_25um\n",
      "21 20210408_MouseBrainCMC_S21AU4_2Dpixelmode_394x215_Att30_25um\n",
      "22 20210409_MouseBrainCMC_S22AV1_2Dpixelmode_416x207_Att30_25um\n",
      "23 20210412_MouseBrainCMC_S23AZ1_2Dpixelmode_360x260_Att30_25um\n",
      "24 20210413_MouseBrainCMC_S24_3_2Dpixelmode_327x328_Att30_25um\n",
      "25 20210414_MouseBrainCMC_S25_2_2Dpixelmode_358x238_Att30_25um\n",
      "26 20210419_MouseBrainCMC_S26_3_2Dpixelmode_340x248_Att30_25um\n",
      "27 20210603_MouseBrainCMC_S27_duplicate_2Dpixelmode_372x272_Att30_25um\n",
      "28 20210423_MouseBrainCMC_S28_3_2Dpixelmode_390x244_Att30_25um\n",
      "29 20210424_MouseBrainCMC_S29_5_2Dpixelmode_330x277_Att30_25um\n",
      "30 20210429_MouseBrainCMC_S30_5_2Dpixelmode_367x278_Att30_25um\n",
      "31 20210501_MouseBrainCMC_S31_3_2Dpixelmode_355x239_Att30_25um\n",
      "32 20210504_MouseBrainCMC_S32_3_2Dpixelmode_298x230_Att30_25um\n",
      "11 20211201_MouseBrain2_S11_306x248_Att30_25um\n",
      "12 20211202_MouseBrain2_S12_332x246_Att30_25um\n",
      "13 20211203_MouseBrain2_S13_319x262_Att30_25um\n",
      "14 20211206_MouseBrain2_S14_354x299_Att30_25um\n",
      "15 20211209_MouseBrain2_S15_359x281_Att30_25um\n",
      "16 20220127_MouseBrain2_S16_398x303_Att30_25um\n",
      "17 20220105_MouseBrain2_S17_395x294_Att32_25um\n",
      "18 20220106_MouseBrain2_S18_393x309_Att32_25um\n",
      "19 20211210_MouseBrain2_S19_423x320_Att32_25um\n",
      "20 20220321_MouseBrain2_S20_Duplicate_443x313_Att30_25um\n",
      "21 20211213_MouseBrain2_S21_412x360_Att30_25um\n",
      "22 20220107_MouseBrain2_S22_417x310_Att32_25um\n",
      "23 20220224_MouseBrain2_S23_427x319_Att30_25um\n",
      "24 20220115_MouseBrain2_S24_427x322_Att30_25um\n",
      "25 20220311_MouseBrain2_S25_duplicate_476x336_Att30_25um\n",
      "26 20220120_MouseBrain2_S26_415x315_Att30_25um\n",
      "27 20220122_MouseBrain2_S27_443x301_Att30_25um\n",
      "28 20220125_MouseBrain2_S28_312x431_Att30_25um\n",
      "29 20220126_MouseBrain2_S29_410x290_Att30_25um\n",
      "30 20220111_MouseBrain2_S30_400x248_Att32_25um\n",
      "31 20220124_MouseBrain2_S31_394x261_Att30_25um\n",
      "32 20220130_MouseBrain2_S32_370x325_Att30_25um\n",
      "33 20220201_MouseBrain2_S33_359x314_Att30_25um\n",
      "34 20220203_MouseBrain2_S34_377x322_Att30_25um\n",
      "35 20220207_MouseBrain2_S35_375x344_Att30_25um\n",
      "36 20220210_MouseBrain2_S36_363x307_Att30_25um\n",
      "37 20220213_MouseBrain2_S37_354x308_Att30_25um\n",
      "38 20220216_MouseBrain2_S38_363x304_Att30_25um\n",
      "39 20220225_MouseBrain2_S39_354x296_Att30_25um\n",
      "40 20220308_MouseBrain2_S40_322x290_Att30_25um\n",
      "41 20220303_MouseBrain2_S41_333x262_Att30_25um\n",
      "42 20220222_MouseBrain2_S42_278x251_Att30_25um\n"
     ]
    }
   ],
   "source": [
    "path_brain_1 = \"/data/lipidatlas/data/data_raw/BRAIN1/\"\n",
    "path_brain_2 = \"/data/lipidatlas/data/data_raw/BRAIN2/\"\n",
    "path_brain_1_temp = \"/data/lipidatlas/data/app/data/temp/brain_1\"\n",
    "path_brain_2_temp = \"/data/lipidatlas/data/app/data/temp/brain_2\"\n",
    "split_value_1 = \"MouseBrainCMC_S\"\n",
    "split_value_2 = \"MouseBrain2_S\"\n",
    "ll_t_names = []\n",
    "for path_brain, path_brain_temp, split_value in zip(\n",
    "    [path_brain_1, path_brain_2],\n",
    "    [path_brain_1_temp, path_brain_2_temp],\n",
    "    [split_value_1, split_value_2],\n",
    "):\n",
    "    # Load filenames\n",
    "    l_t_names = sorted(\n",
    "        [\n",
    "            [\n",
    "                int(name.split(split_value)[1].split(\"_\")[0].split(\"A\")[0].split(\"(\")[0]),\n",
    "                path_brain + name + \"/\" + name,\n",
    "            ]\n",
    "            for name in os.listdir(path_brain)\n",
    "            if \"MouseBrain\" in name\n",
    "        ]\n",
    "    )\n",
    "\n",
    "    # Correct for duplicates\n",
    "    for t_names_1, t_names_2 in zip(l_t_names[:-1], l_t_names[1:]):\n",
    "        if t_names_2[0] == t_names_1[0]:\n",
    "            t_names_2.append(\"bis\")\n",
    "            print(\"WARNING: duplicate for slice \" + str(t_names_1[0]))\n",
    "\n",
    "    # Remove slices that have already been processed\n",
    "    os.makedirs(path_brain_temp, exist_ok=True)\n",
    "    remove_already_loaded = False\n",
    "    if remove_already_loaded:\n",
    "        existing_names = [\n",
    "            int(name.split(\"_\")[1][:-7]) for name in os.listdir(path_brain_temp) if \"raw\" in name\n",
    "        ]\n",
    "        l_t_names = [x for x in l_t_names if x[0] not in existing_names]\n",
    "\n",
    "    # Print the final list of names\n",
    "    for t_names in l_t_names:\n",
    "        print(t_names[0], t_names[1].split(\"/\")[-1])\n",
    "\n",
    "    ll_t_names.append(l_t_names)\n"
   ]
  },
  {
   "cell_type": "code",
   "execution_count": 3,
   "metadata": {},
   "outputs": [
    {
     "name": "stdout",
     "output_type": "stream",
     "text": [
      "1 20210210_MouseBrainCMC_S1AA1_2Dpixelmode_322x231_Att25_25um\n",
      "2 20210211_MouseBrainCMC_S2AB5_2Dpixelmode_370x214_Att25_25um\n",
      "3 20210213_MouseBrainCMC_S3AC4_2Dpixelmode_371x195_Att25_25um\n",
      "4 20210214_MouseBrainCMC_S4AD3_2Dpixelmode_354x228_Att25_25um\n",
      "5 20210218_MouseBrainCMC_S5AE3_2Dpixelmode_396x272_Att25_25um\n",
      "6 20210219_MouseBrainCMC_S6AE3_2Dpixelmode_423x282_Att25_25um\n",
      "7 20210220_MouseBrainCMC_S7AF5_2Dpixelmode_427x263_Att25_25um\n",
      "8 20210531_MouseBrainCMC_S8_duplicate_2Dpixelmode_430x285_Att30_25um\n",
      "9 20210224_MouseBrainCMC_S9AH4_2Dpixelmode_467x278_Att25_25um\n",
      "10 20210210_MouseBrainCMC_S10(brain2_20)_394x282_Att30_25um\n",
      "11 20210301_MouseBrainCMC_S11AK5_2Dpixelmode_448x277_Att25_25um\n",
      "12 20210303_MouseBrainCMC_S12AL1_2Dpixelmode_393x266_Att25_25um\n",
      "13 20210304_MouseBrainCMC_S13AM1_2Dpixelmode_413x310_Att25_25um\n",
      "14 20210305_MouseBrainCMC_S14AN1_2Dpixelmode_409x285_Att25_25um\n",
      "15 20210313_MouseBrainCMC_S15AO2_2Dpixelmode_451x292_Att25_25um\n",
      "16 20210530_MouseBrainCMC_S16_duplicate_2Dpixelmode_454x295_Att30_25um\n",
      "17 20210319_MouseBrainCMC_S17AQ2_2Dpixelmode_450x287_Att30_25um\n",
      "18 20210323_MouseBrainCMC_S18AR4_2Dpixelmode_474x291_Att30_25um\n",
      "19 20210325_MouseBrainCMC_S19AS4_2Dpixelmode_396x232_Att30_25um\n",
      "20 20210330_MouseBrainCMC_S20AT3_2Dpixelmode_396x266_Att30_25um\n",
      "21 20210408_MouseBrainCMC_S21AU4_2Dpixelmode_394x215_Att30_25um\n",
      "22 20210409_MouseBrainCMC_S22AV1_2Dpixelmode_416x207_Att30_25um\n",
      "23 20210412_MouseBrainCMC_S23AZ1_2Dpixelmode_360x260_Att30_25um\n",
      "24 20210413_MouseBrainCMC_S24_3_2Dpixelmode_327x328_Att30_25um\n",
      "25 20210414_MouseBrainCMC_S25_2_2Dpixelmode_358x238_Att30_25um\n",
      "26 20210419_MouseBrainCMC_S26_3_2Dpixelmode_340x248_Att30_25um\n",
      "27 20210603_MouseBrainCMC_S27_duplicate_2Dpixelmode_372x272_Att30_25um\n",
      "28 20210423_MouseBrainCMC_S28_3_2Dpixelmode_390x244_Att30_25um\n",
      "29 20210424_MouseBrainCMC_S29_5_2Dpixelmode_330x277_Att30_25um\n",
      "30 20210429_MouseBrainCMC_S30_5_2Dpixelmode_367x278_Att30_25um\n",
      "31 20210501_MouseBrainCMC_S31_3_2Dpixelmode_355x239_Att30_25um\n",
      "32 20210504_MouseBrainCMC_S32_3_2Dpixelmode_298x230_Att30_25um\n"
     ]
    }
   ],
   "source": [
    "brain_1 = True\n",
    "if brain_1:\n",
    "    l_t_names = ll_t_names[0]\n",
    "else:\n",
    "    l_t_names = ll_t_names[1]\n",
    "\n",
    "# Print the final list of names\n",
    "for t_names in l_t_names:\n",
    "    print(t_names[0], t_names[1].split(\"/\")[-1])\n"
   ]
  },
  {
   "cell_type": "markdown",
   "metadata": {},
   "source": [
    "\n",
    "### Extract raw data into numpy arrays with multiprocessing"
   ]
  },
  {
   "cell_type": "code",
   "execution_count": 4,
   "metadata": {},
   "outputs": [
    {
     "name": "stdout",
     "output_type": "stream",
     "text": [
      "Loading files : /data/lipidatlas/data/data_raw/BRAIN1/20210210_MouseBrainCMC_S1AA1_2Dpixelmode_322x231_Att25_25um/20210210_MouseBrainCMC_S1AA1_2Dpixelmode_322x231_Att25_25umLoading files : /data/lipidatlas/data/data_raw/BRAIN1/20210211_MouseBrainCMC_S2AB5_2Dpixelmode_370x214_Att25_25um/20210211_MouseBrainCMC_S2AB5_2Dpixelmode_370x214_Att25_25um\n",
      "\n",
      "Loading files : /data/lipidatlas/data/data_raw/BRAIN1/20210213_MouseBrainCMC_S3AC4_2Dpixelmode_371x195_Att25_25um/20210213_MouseBrainCMC_S3AC4_2Dpixelmode_371x195_Att25_25um\n",
      "[Warning] Not index found and build_index_from_scratch is False\n"
     ]
    },
    {
     "name": "stderr",
     "output_type": "stream",
     "text": [
      "WARNING:root:The mzML file containts more than the exprected 72345 spectra. The tailing 21 spectra will be ignored.\n",
      "Loading Sprectra at resolution 1e-05:   0%|          | 0/72345 [00:00<?, ?it/s]"
     ]
    },
    {
     "name": "stdout",
     "output_type": "stream",
     "text": [
      "[Warning] Not index found and build_index_from_scratch is False\n",
      "[Warning] Not index found and build_index_from_scratch is False\n"
     ]
    },
    {
     "name": "stderr",
     "output_type": "stream",
     "text": [
      "WARNING:root:The mzML file containts more than the exprected 74382 spectra. The tailing 25 spectra will be ignored.\n",
      "WARNING:root:The mzML file containts more than the exprected 79180 spectra. The tailing 16 spectra will be ignored.\n",
      "Loading Sprectra at resolution 1e-05:   0%|          | 0/79180 [00:00<?, ?it/s]"
     ]
    }
   ],
   "source": [
    "if True:\n",
    "    multiprocessing = True\n",
    "    if multiprocessing:\n",
    "        with Pool(processes=3) as pool:\n",
    "            [x for x in pool.imap_unordered(maldi_conversion.extract_raw_data, l_t_names)]\n",
    "    else:\n",
    "        # Normal (single-processed) map\n",
    "        [x for x in map(maldi_conversion.extract_raw_data, l_t_names)]\n"
   ]
  },
  {
   "cell_type": "markdown",
   "metadata": {},
   "source": [
    "### Remove slices already processed"
   ]
  },
  {
   "cell_type": "code",
   "execution_count": null,
   "metadata": {},
   "outputs": [],
   "source": [
    "if False:\n",
    "    path_brain_temp = (\n",
    "        \"/data/lipidatlas/data/app/data/temp/brain_1\"\n",
    "        if brain_1\n",
    "        else \"/data/lipidatlas/data/app/data/temp/brain_2\"\n",
    "    )\n",
    "    existing_names = [\n",
    "        int(name.split(\"_\")[1][:-4]) for name in os.listdir(path_brain_temp) if \"raw\" not in name\n",
    "    ]\n",
    "    l_t_names = [x for x in l_t_names if x[0] not in existing_names]\n",
    "    # Print the final list of names\n",
    "    for t_names in l_t_names:\n",
    "        print(t_names[0], t_names[1].split(\"/\")[-1])\n"
   ]
  },
  {
   "cell_type": "markdown",
   "metadata": {},
   "source": [
    "### Process raw data into numpy arrays with multiprocessing"
   ]
  },
  {
   "cell_type": "code",
   "execution_count": null,
   "metadata": {},
   "outputs": [],
   "source": [
    "multiprocessing = True\n",
    "if multiprocessing:\n",
    "    with Pool(processes=12) as pool:\n",
    "        [x for x in pool.imap_unordered(maldi_conversion.process_raw_data, l_t_names)]\n",
    "else:\n",
    "    # Normal (single-processed) map\n",
    "    [x for x in map(maldi_conversion.process_raw_data, l_t_names)]\n"
   ]
  },
  {
   "cell_type": "markdown",
   "metadata": {},
   "source": [
    "### Build lookup tables"
   ]
  },
  {
   "cell_type": "code",
   "execution_count": null,
   "metadata": {},
   "outputs": [],
   "source": [
    "multiprocessing = True\n",
    "if multiprocessing:\n",
    "    # Multiprocessing\n",
    "    with Pool(processes=12) as pool:\n",
    "        [x for x in pool.map(lookup_tables.process_lookup_tables, l_t_names)]\n",
    "else:\n",
    "    # Normal (single-processed) map\n",
    "    [x for x in map(lookup_tables.process_lookup_tables, l_t_names)]\n"
   ]
  },
  {
   "cell_type": "markdown",
   "metadata": {},
   "source": [
    "### Record everything and clean "
   ]
  },
  {
   "cell_type": "markdown",
   "metadata": {},
   "source": [
    "Record everything in memap files and a pickled dictonnary"
   ]
  },
  {
   "cell_type": "code",
   "execution_count": null,
   "metadata": {},
   "outputs": [],
   "source": [
    "if maldi_conversion.SAMPLE_APP:\n",
    "    output_folder = \"data_sample/whole_dataset/\"\n",
    "else :\n",
    "    output_folder = \"data/whole_dataset/\"  \n",
    "\n",
    "os.makedirs(output_folder, exist_ok=True)\n",
    "\n",
    "dic_slices = {}\n",
    "# Loop over input folders\n",
    "for brain_1, input_folder in zip(\n",
    "    [True, False],\n",
    "    [\n",
    "        \"/data/lipidatlas/data/app/data/temp/brain_1/\",\n",
    "        \"/data/lipidatlas/data/app/data/temp/brain_2/\",\n",
    "    ],\n",
    "):\n",
    "\n",
    "    # Loop over slice files\n",
    "    for slice_name in os.listdir(input_folder):\n",
    "        if \"raw\" in slice_name or \"checkpoints\" in slice_name:\n",
    "            continue\n",
    "\n",
    "        # Extract slice index\n",
    "        slice_index = int(slice_name.split(\"_\")[1][:-4])\n",
    "\n",
    "        # Load slice arrays\n",
    "        npzfile = np.load(input_folder + slice_name)\n",
    "        array_pixel_indexes_high_res = npzfile[\"array_pixel_indexes_high_res\"]\n",
    "        array_spectra_high_res = npzfile[\"array_spectra_high_res\"]\n",
    "        array_averaged_mz_intensity_low_res = npzfile[\"array_averaged_mz_intensity_low_res\"]\n",
    "        array_averaged_mz_intensity_high_res = npzfile[\"array_averaged_mz_intensity_high_res\"]\n",
    "        array_averaged_mz_intensity_high_res_after_standardization = npzfile[\n",
    "            \"array_averaged_mz_intensity_high_res_after_standardization\"\n",
    "        ]\n",
    "        image_shape = npzfile[\"image_shape\"]\n",
    "        divider_lookup = npzfile[\"divider_lookup\"]\n",
    "        lookup_table_spectra_high_res = npzfile[\"lookup_table_spectra_high_res\"]\n",
    "        cumulated_image_lookup_table_high_res = npzfile[\"cumulated_image_lookup_table_high_res\"]\n",
    "        lookup_table_averaged_spectrum_high_res = npzfile[\"lookup_table_averaged_spectrum_high_res\"]\n",
    "        array_peaks_corrected = npzfile[\"array_peaks_corrected\"]\n",
    "        array_corrective_factors = npzfile[\"array_corrective_factors\"]\n",
    "\n",
    "        # print size used by each array in mb\n",
    "        print(\"array_pixel_indexes_high_res, dic\",round(array_pixel_indexes_high_res.nbytes / 1024 / 1024, 2))\n",
    "        print(\"array_spectra_high_res, mmap\",round(array_spectra_high_res.nbytes / 1024 / 1024, 2))\n",
    "        print(\"array_averaged_mz_intensity_low_res, dic\",round(array_averaged_mz_intensity_low_res.nbytes / 1024 / 1024, 2))\n",
    "        print(\"array_averaged_mz_intensity_high_res, mmap\",round(array_averaged_mz_intensity_high_res.nbytes / 1024 / 1024, 2))\n",
    "        print(\"array_averaged_mz_intensity_high_res_after_standardization, mmap\",round(array_averaged_mz_intensity_high_res_after_standardization.nbytes / 1024 / 1024, 2))\n",
    "        print(\"lookup_table_spectra_high_res, mmap\",round(lookup_table_spectra_high_res.nbytes / 1024 / 1024, 2))\n",
    "        print(\"cumulated_image_lookup_table_high_res, mmap\",round(cumulated_image_lookup_table_high_res.nbytes / 1024 / 1024, 2))\n",
    "        print(\"lookup_table_averaged_spectrum_high_res, dic\",round(lookup_table_averaged_spectrum_high_res.nbytes / 1024 / 1024, 2))\n",
    "        print(\"array_peaks_corrected, dic\",round(array_peaks_corrected.nbytes / 1024 / 1024, 2))\n",
    "        print(\"array_corrective_factors, dic\",round(array_corrective_factors.nbytes / 1024 / 1024, 2))\n",
    "\n",
    "        # Update slice index for brain 2\n",
    "        if not brain_1:\n",
    "            slice_index += 22\n",
    "\n",
    "        print(slice_name)\n",
    "\n",
    "        if not maldi_conversion.SAMPLE_APP:\n",
    "            # Register the lightweights files in a pickled dictionnary\n",
    "            dic_slices[slice_index] = {\n",
    "                \"image_shape\": image_shape,\n",
    "                \"divider_lookup\": divider_lookup,\n",
    "                \"array_avg_spectrum_downsampled\": array_averaged_mz_intensity_low_res,\n",
    "                \"array_lookup_pixels\": array_pixel_indexes_high_res,\n",
    "                \"array_lookup_mz_avg\": lookup_table_averaged_spectrum_high_res,\n",
    "                \"array_peaks_transformed_lipids\": array_peaks_corrected,\n",
    "            }\n",
    "\n",
    "            try:\n",
    "                # Build a memap for each of the heavier files to save RAM, save the corresponding shape in the\n",
    "                # pickled dictionnary\n",
    "                fp = np.memmap(\n",
    "                    output_folder + \"array_spectra_\" + str(slice_index) + \".mmap\",\n",
    "                    dtype=\"float32\",\n",
    "                    mode=\"w+\",\n",
    "                    shape=array_spectra_high_res.shape,\n",
    "                )\n",
    "                fp[:] = array_spectra_high_res[:]\n",
    "                fp.flush()\n",
    "                dic_slices[slice_index][\"array_spectra_shape\"] = array_spectra_high_res.shape\n",
    "\n",
    "                fp = np.memmap(\n",
    "                    output_folder + \"array_avg_spectrum_\" + str(slice_index) + \".mmap\",\n",
    "                    dtype=\"float32\",\n",
    "                    mode=\"w+\",\n",
    "                    shape=array_averaged_mz_intensity_high_res.shape,\n",
    "                )\n",
    "                fp[:] = array_averaged_mz_intensity_high_res[:]\n",
    "                fp.flush()\n",
    "                dic_slices[slice_index][\n",
    "                    \"array_avg_spectrum_shape\"\n",
    "                ] = array_averaged_mz_intensity_high_res.shape\n",
    "\n",
    "                fp = np.memmap(\n",
    "                    output_folder\n",
    "                    + \"array_avg_spectrum_after_standardization_\"\n",
    "                    + str(slice_index)\n",
    "                    + \".mmap\",\n",
    "                    dtype=\"float32\",\n",
    "                    mode=\"w+\",\n",
    "                    shape=array_averaged_mz_intensity_high_res_after_standardization.shape,\n",
    "                )\n",
    "                fp[:] = array_averaged_mz_intensity_high_res_after_standardization[:]\n",
    "                fp.flush()\n",
    "                dic_slices[slice_index][\n",
    "                    \"array_avg_spectrum_after_standardization_shape\"\n",
    "                ] = array_averaged_mz_intensity_high_res_after_standardization.shape\n",
    "\n",
    "                fp = np.memmap(\n",
    "                    output_folder + \"array_lookup_mz_\" + str(slice_index) + \".mmap\",\n",
    "                    dtype=\"int32\",\n",
    "                    mode=\"w+\",\n",
    "                    shape=lookup_table_spectra_high_res.shape,\n",
    "                )\n",
    "                fp[:] = lookup_table_spectra_high_res[:]\n",
    "                fp.flush()\n",
    "                dic_slices[slice_index][\"array_lookup_mz_shape\"] = lookup_table_spectra_high_res.shape\n",
    "\n",
    "                fp = np.memmap(\n",
    "                    output_folder + \"array_cumulated_lookup_mz_image_\" + str(slice_index) + \".mmap\",\n",
    "                    dtype=\"float32\",\n",
    "                    mode=\"w+\",\n",
    "                    shape=cumulated_image_lookup_table_high_res.shape,\n",
    "                )\n",
    "                fp[:] = cumulated_image_lookup_table_high_res[:]\n",
    "                fp.flush()\n",
    "                dic_slices[slice_index][\n",
    "                    \"array_cumulated_lookup_mz_image_shape\"\n",
    "                ] = cumulated_image_lookup_table_high_res.shape\n",
    "\n",
    "                fp = np.memmap(\n",
    "                    output_folder + \"array_corrective_factors_\" + str(slice_index) + \".mmap\",\n",
    "                    dtype=\"float32\",\n",
    "                    mode=\"w+\",\n",
    "                    shape=array_corrective_factors.shape,\n",
    "                )\n",
    "                fp[:] = array_corrective_factors[:]\n",
    "                fp.flush()\n",
    "                dic_slices[slice_index][\n",
    "                    \"array_corrective_factors_shape\"\n",
    "                ] = array_corrective_factors.shape\n",
    "\n",
    "            except Exception as e:\n",
    "                print(e)\n",
    "\n",
    "        else:\n",
    "            # Register all files in a pickled dictionnary\n",
    "            dic_slices[slice_index] = {\n",
    "                \"image_shape\": image_shape,\n",
    "                \"divider_lookup\": divider_lookup,\n",
    "                \"array_avg_spectrum_downsampled\": array_averaged_mz_intensity_low_res,\n",
    "                \"array_lookup_pixels\": array_pixel_indexes_high_res,\n",
    "                \"array_lookup_mz_avg\": lookup_table_averaged_spectrum_high_res,\n",
    "                \"array_peaks_transformed_lipids\": array_peaks_corrected,\n",
    "                \"array_spectra\": array_spectra_high_res,\n",
    "                \"array_avg_spectrum\": array_averaged_mz_intensity_high_res,\n",
    "                \"array_avg_spectrum_after_standardization\": array_averaged_mz_intensity_high_res_after_standardization,\n",
    "                \"array_lookup_mz\": lookup_table_spectra_high_res,\n",
    "                \"array_cumulated_lookup_mz_image\": cumulated_image_lookup_table_high_res,\n",
    "                \"array_corrective_factors\": array_corrective_factors,\n",
    "            }\n",
    "\n",
    "    # ! Careful, this break statement will have to be deleted when brain 2 is added\n",
    "    break\n",
    "\n",
    "if not maldi_conversion.SAMPLE_APP:\n",
    "    # Pickle the dict of lightweight data\n",
    "    with open(output_folder + \"light_arrays.pickle\", \"wb\") as handle:\n",
    "        pickle.dump(dic_slices, handle)\n",
    "else:\n",
    "    with lzma.open(output_folder + \"light_arrays.pickle\", \"wb\") as handle:\n",
    "        pickle.dump(dic_slices, handle)\n",
    "print(\"Done\")\n"
   ]
  },
  {
   "cell_type": "markdown",
   "metadata": {},
   "source": [
    "Clean temporary folder"
   ]
  },
  {
   "cell_type": "code",
   "execution_count": null,
   "metadata": {},
   "outputs": [],
   "source": [
    "clean = False\n",
    "if clean:\n",
    "    delete_all_files_in_folder(input_folder)\n"
   ]
  }
 ],
 "metadata": {
  "interpreter": {
   "hash": "0c1aa729cc35b9a783763c24c4069d7da678acf641f89d4e1df25bf02079ad65"
  },
  "kernelspec": {
   "display_name": "Python 3 (ipykernel)",
   "language": "python",
   "name": "python3"
  },
  "language_info": {
   "codemirror_mode": {
    "name": "ipython",
    "version": 3
   },
   "file_extension": ".py",
   "mimetype": "text/x-python",
   "name": "python",
   "nbconvert_exporter": "python",
   "pygments_lexer": "ipython3",
   "version": "3.9.7"
  }
 },
 "nbformat": 4,
 "nbformat_minor": 4
}
