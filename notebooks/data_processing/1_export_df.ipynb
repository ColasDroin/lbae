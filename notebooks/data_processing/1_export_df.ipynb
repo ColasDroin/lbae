{
 "cells": [
  {
   "cell_type": "markdown",
   "metadata": {},
   "source": [
    "# Notebook 1\n",
    "Raw data export into np.memaps."
   ]
  },
  {
   "cell_type": "markdown",
   "metadata": {},
   "source": [
    "### Load important modules"
   ]
  },
  {
   "cell_type": "code",
   "execution_count": 1,
   "metadata": {},
   "outputs": [
    {
     "name": "stdout",
     "output_type": "stream",
     "text": [
      "['.git', '.gitattributes', '.gitignore', '.vscode', 'LICENSE.md', 'README.md', 'TODO.py', 'app.py', 'assets', 'config.py', 'data_sample', 'documentation', 'index.py', 'js', 'main.py', 'modules', 'notebooks', 'pages', 'readme', 'requirements.txt', 'style', 'data', '__pycache__']\n"
     ]
    }
   ],
   "source": [
    "# Standard modules\n",
    "import numpy as np\n",
    "import os\n",
    "import lzma\n",
    "import pickle\n",
    "\n",
    "# Move to root directory for easier module handling\n",
    "os.chdir(\"../..\")\n",
    "print(os.listdir(\".\"))\n",
    "from modules.tools import maldi_conversion \n",
    "from modules.tools import lookup_tables\n",
    "from modules.tools.misc import delete_all_files_in_folder\n",
    "\n",
    "# multithreading/multiprocessing\n",
    "from multiprocessing import Pool\n",
    "from threadpoolctl import threadpool_limits\n",
    "\n",
    "# set thread limit\n",
    "threadpool_limits(16)\n",
    "\n",
    "# Define if the app uses only MAIA-transformed lipids\n",
    "maldi_conversion.SAMPLE_APP = False\n",
    "if maldi_conversion.SAMPLE_APP:\n",
    "    lookup_tables.DIVIDER_LOOKUP = 600"
   ]
  },
  {
   "cell_type": "markdown",
   "metadata": {},
   "source": [
    "### Create a list of raw data filenames"
   ]
  },
  {
   "cell_type": "code",
   "execution_count": 2,
   "metadata": {},
   "outputs": [
    {
     "name": "stdout",
     "output_type": "stream",
     "text": [
      "1 20210210_MouseBrainCMC_S1AA1_2Dpixelmode_322x231_Att25_25um\n",
      "2 20210211_MouseBrainCMC_S2AB5_2Dpixelmode_370x214_Att25_25um\n",
      "3 20210213_MouseBrainCMC_S3AC4_2Dpixelmode_371x195_Att25_25um\n",
      "4 20210214_MouseBrainCMC_S4AD3_2Dpixelmode_354x228_Att25_25um\n",
      "5 20210218_MouseBrainCMC_S5AE3_2Dpixelmode_396x272_Att25_25um\n",
      "6 20210219_MouseBrainCMC_S6AE3_2Dpixelmode_423x282_Att25_25um\n",
      "7 20210220_MouseBrainCMC_S7AF5_2Dpixelmode_427x263_Att25_25um\n",
      "8 20210531_MouseBrainCMC_S8_duplicate_2Dpixelmode_430x285_Att30_25um\n",
      "9 20210224_MouseBrainCMC_S9AH4_2Dpixelmode_467x278_Att25_25um\n",
      "10 20210210_MouseBrainCMC_S10(brain2_20)_394x282_Att30_25um\n",
      "11 20210301_MouseBrainCMC_S11AK5_2Dpixelmode_448x277_Att25_25um\n",
      "12 20210303_MouseBrainCMC_S12AL1_2Dpixelmode_393x266_Att25_25um\n",
      "13 20210304_MouseBrainCMC_S13AM1_2Dpixelmode_413x310_Att25_25um\n",
      "14 20210305_MouseBrainCMC_S14AN1_2Dpixelmode_409x285_Att25_25um\n",
      "15 20210313_MouseBrainCMC_S15AO2_2Dpixelmode_451x292_Att25_25um\n",
      "16 20210530_MouseBrainCMC_S16_duplicate_2Dpixelmode_454x295_Att30_25um\n",
      "17 20210319_MouseBrainCMC_S17AQ2_2Dpixelmode_450x287_Att30_25um\n",
      "18 20210323_MouseBrainCMC_S18AR4_2Dpixelmode_474x291_Att30_25um\n",
      "19 20210325_MouseBrainCMC_S19AS4_2Dpixelmode_396x232_Att30_25um\n",
      "20 20210330_MouseBrainCMC_S20AT3_2Dpixelmode_396x266_Att30_25um\n",
      "21 20210408_MouseBrainCMC_S21AU4_2Dpixelmode_394x215_Att30_25um\n",
      "22 20210409_MouseBrainCMC_S22AV1_2Dpixelmode_416x207_Att30_25um\n",
      "23 20210412_MouseBrainCMC_S23AZ1_2Dpixelmode_360x260_Att30_25um\n",
      "24 20210413_MouseBrainCMC_S24_3_2Dpixelmode_327x328_Att30_25um\n",
      "25 20210414_MouseBrainCMC_S25_2_2Dpixelmode_358x238_Att30_25um\n",
      "26 20210419_MouseBrainCMC_S26_3_2Dpixelmode_340x248_Att30_25um\n",
      "27 20210603_MouseBrainCMC_S27_duplicate_2Dpixelmode_372x272_Att30_25um\n",
      "28 20210423_MouseBrainCMC_S28_3_2Dpixelmode_390x244_Att30_25um\n",
      "29 20210424_MouseBrainCMC_S29_5_2Dpixelmode_330x277_Att30_25um\n",
      "30 20210429_MouseBrainCMC_S30_5_2Dpixelmode_367x278_Att30_25um\n",
      "31 20210501_MouseBrainCMC_S31_3_2Dpixelmode_355x239_Att30_25um\n",
      "32 20210504_MouseBrainCMC_S32_3_2Dpixelmode_298x230_Att30_25um\n",
      "11 20211201_MouseBrain2_S11_306x248_Att30_25um\n",
      "12 20211202_MouseBrain2_S12_332x246_Att30_25um\n",
      "13 20211203_MouseBrain2_S13_319x262_Att30_25um\n",
      "14 20211206_MouseBrain2_S14_354x299_Att30_25um\n",
      "15 20211209_MouseBrain2_S15_359x281_Att30_25um\n",
      "16 20220127_MouseBrain2_S16_398x303_Att30_25um\n",
      "17 20220105_MouseBrain2_S17_395x294_Att32_25um\n",
      "18 20220106_MouseBrain2_S18_393x309_Att32_25um\n",
      "19 20211210_MouseBrain2_S19_423x320_Att32_25um\n",
      "20 20220321_MouseBrain2_S20_Duplicate_443x313_Att30_25um\n",
      "21 20211213_MouseBrain2_S21_412x360_Att30_25um\n",
      "22 20220107_MouseBrain2_S22_417x310_Att32_25um\n",
      "23 20220224_MouseBrain2_S23_427x319_Att30_25um\n",
      "24 20220115_MouseBrain2_S24_427x322_Att30_25um\n",
      "25 20220311_MouseBrain2_S25_duplicate_476x336_Att30_25um\n",
      "26 20220120_MouseBrain2_S26_415x315_Att30_25um\n",
      "27 20220122_MouseBrain2_S27_443x301_Att30_25um\n",
      "28 20220125_MouseBrain2_S28_312x431_Att30_25um\n",
      "29 20220126_MouseBrain2_S29_410x290_Att30_25um\n",
      "30 20220111_MouseBrain2_S30_400x248_Att32_25um\n",
      "31 20220124_MouseBrain2_S31_394x261_Att30_25um\n",
      "32 20220130_MouseBrain2_S32_370x325_Att30_25um\n",
      "33 20220201_MouseBrain2_S33_359x314_Att30_25um\n",
      "34 20220203_MouseBrain2_S34_377x322_Att30_25um\n",
      "35 20220207_MouseBrain2_S35_375x344_Att30_25um\n",
      "36 20220210_MouseBrain2_S36_363x307_Att30_25um\n",
      "37 20220213_MouseBrain2_S37_354x308_Att30_25um\n",
      "38 20220216_MouseBrain2_S38_363x304_Att30_25um\n",
      "39 20220225_MouseBrain2_S39_354x296_Att30_25um\n",
      "40 20220308_MouseBrain2_S40_322x290_Att30_25um\n",
      "41 20220303_MouseBrain2_S41_333x262_Att30_25um\n",
      "42 20220222_MouseBrain2_S42_278x251_Att30_25um\n"
     ]
    }
   ],
   "source": [
    "path_brain_1 = \"/data/lipidatlas/data/data_raw/BRAIN1/\"\n",
    "path_brain_2 = \"/data/lipidatlas/data/data_raw/BRAIN2/\"\n",
    "path_brain_1_temp = \"/data/lipidatlas/data/app/data/temp/brain_1\"\n",
    "path_brain_2_temp = \"/data/lipidatlas/data/app/data/temp/brain_2\"\n",
    "split_value_1 = \"MouseBrainCMC_S\"\n",
    "split_value_2 = \"MouseBrain2_S\"\n",
    "ll_t_names = []\n",
    "for path_brain, path_brain_temp, split_value in zip(\n",
    "    [path_brain_1, path_brain_2],\n",
    "    [path_brain_1_temp, path_brain_2_temp],\n",
    "    [split_value_1, split_value_2],\n",
    "):\n",
    "    # Load filenames\n",
    "    l_t_names = sorted(\n",
    "        [\n",
    "            [\n",
    "                int(name.split(split_value)[1].split(\"_\")[0].split(\"A\")[0].split(\"(\")[0]),\n",
    "                path_brain + name + \"/\" + name,\n",
    "            ]\n",
    "            for name in os.listdir(path_brain)\n",
    "            if \"MouseBrain\" in name\n",
    "        ]\n",
    "    )\n",
    "\n",
    "    # Correct for duplicates\n",
    "    for t_names_1, t_names_2 in zip(l_t_names[:-1], l_t_names[1:]):\n",
    "        if t_names_2[0] == t_names_1[0]:\n",
    "            t_names_2.append(\"bis\")\n",
    "            print(\"WARNING: duplicate for slice \" + str(t_names_1[0]))\n",
    "\n",
    "    # Remove slices that have already been processed\n",
    "    os.makedirs(path_brain_temp, exist_ok=True)\n",
    "    remove_already_loaded = False\n",
    "    if remove_already_loaded:\n",
    "        existing_names = [\n",
    "            int(name.split(\"_\")[1][:-7]) for name in os.listdir(path_brain_temp) if \"raw\" in name\n",
    "        ]\n",
    "        l_t_names = [x for x in l_t_names if x[0] not in existing_names]\n",
    "\n",
    "    # Print the final list of names\n",
    "    for t_names in l_t_names:\n",
    "        print(t_names[0], t_names[1].split(\"/\")[-1])\n",
    "\n",
    "    ll_t_names.append(l_t_names)\n"
   ]
  },
  {
   "cell_type": "code",
   "execution_count": 3,
   "metadata": {},
   "outputs": [
    {
     "name": "stdout",
     "output_type": "stream",
     "text": [
      "1 20210210_MouseBrainCMC_S1AA1_2Dpixelmode_322x231_Att25_25um\n",
      "2 20210211_MouseBrainCMC_S2AB5_2Dpixelmode_370x214_Att25_25um\n",
      "3 20210213_MouseBrainCMC_S3AC4_2Dpixelmode_371x195_Att25_25um\n",
      "4 20210214_MouseBrainCMC_S4AD3_2Dpixelmode_354x228_Att25_25um\n",
      "5 20210218_MouseBrainCMC_S5AE3_2Dpixelmode_396x272_Att25_25um\n",
      "6 20210219_MouseBrainCMC_S6AE3_2Dpixelmode_423x282_Att25_25um\n",
      "7 20210220_MouseBrainCMC_S7AF5_2Dpixelmode_427x263_Att25_25um\n",
      "8 20210531_MouseBrainCMC_S8_duplicate_2Dpixelmode_430x285_Att30_25um\n",
      "9 20210224_MouseBrainCMC_S9AH4_2Dpixelmode_467x278_Att25_25um\n",
      "10 20210210_MouseBrainCMC_S10(brain2_20)_394x282_Att30_25um\n",
      "11 20210301_MouseBrainCMC_S11AK5_2Dpixelmode_448x277_Att25_25um\n",
      "12 20210303_MouseBrainCMC_S12AL1_2Dpixelmode_393x266_Att25_25um\n",
      "13 20210304_MouseBrainCMC_S13AM1_2Dpixelmode_413x310_Att25_25um\n",
      "14 20210305_MouseBrainCMC_S14AN1_2Dpixelmode_409x285_Att25_25um\n",
      "15 20210313_MouseBrainCMC_S15AO2_2Dpixelmode_451x292_Att25_25um\n",
      "16 20210530_MouseBrainCMC_S16_duplicate_2Dpixelmode_454x295_Att30_25um\n",
      "17 20210319_MouseBrainCMC_S17AQ2_2Dpixelmode_450x287_Att30_25um\n",
      "18 20210323_MouseBrainCMC_S18AR4_2Dpixelmode_474x291_Att30_25um\n",
      "19 20210325_MouseBrainCMC_S19AS4_2Dpixelmode_396x232_Att30_25um\n",
      "20 20210330_MouseBrainCMC_S20AT3_2Dpixelmode_396x266_Att30_25um\n",
      "21 20210408_MouseBrainCMC_S21AU4_2Dpixelmode_394x215_Att30_25um\n",
      "22 20210409_MouseBrainCMC_S22AV1_2Dpixelmode_416x207_Att30_25um\n",
      "23 20210412_MouseBrainCMC_S23AZ1_2Dpixelmode_360x260_Att30_25um\n",
      "24 20210413_MouseBrainCMC_S24_3_2Dpixelmode_327x328_Att30_25um\n",
      "25 20210414_MouseBrainCMC_S25_2_2Dpixelmode_358x238_Att30_25um\n",
      "26 20210419_MouseBrainCMC_S26_3_2Dpixelmode_340x248_Att30_25um\n",
      "27 20210603_MouseBrainCMC_S27_duplicate_2Dpixelmode_372x272_Att30_25um\n",
      "28 20210423_MouseBrainCMC_S28_3_2Dpixelmode_390x244_Att30_25um\n",
      "29 20210424_MouseBrainCMC_S29_5_2Dpixelmode_330x277_Att30_25um\n",
      "30 20210429_MouseBrainCMC_S30_5_2Dpixelmode_367x278_Att30_25um\n",
      "31 20210501_MouseBrainCMC_S31_3_2Dpixelmode_355x239_Att30_25um\n",
      "32 20210504_MouseBrainCMC_S32_3_2Dpixelmode_298x230_Att30_25um\n"
     ]
    }
   ],
   "source": [
    "brain_1 = True\n",
    "if brain_1:\n",
    "    l_t_names = ll_t_names[0]\n",
    "else:\n",
    "    l_t_names = ll_t_names[1]\n",
    "\n",
    "# Print the final list of names\n",
    "for t_names in l_t_names:\n",
    "    print(t_names[0], t_names[1].split(\"/\")[-1])\n"
   ]
  },
  {
   "cell_type": "markdown",
   "metadata": {},
   "source": [
    "\n",
    "### Extract raw data into numpy arrays with multiprocessing"
   ]
  },
  {
   "cell_type": "code",
   "execution_count": 4,
   "metadata": {},
   "outputs": [
    {
     "name": "stdout",
     "output_type": "stream",
     "text": [
      "Loading files : /data/lipidatlas/data/data_raw/BRAIN1/20210531_MouseBrainCMC_S8_duplicate_2Dpixelmode_430x285_Att30_25um/20210531_MouseBrainCMC_S8_duplicate_2Dpixelmode_430x285_Att30_25umLoading files : /data/lipidatlas/data/data_raw/BRAIN1/20210224_MouseBrainCMC_S9AH4_2Dpixelmode_467x278_Att25_25um/20210224_MouseBrainCMC_S9AH4_2Dpixelmode_467x278_Att25_25umLoading files : /data/lipidatlas/data/data_raw/BRAIN1/20210213_MouseBrainCMC_S3AC4_2Dpixelmode_371x195_Att25_25um/20210213_MouseBrainCMC_S3AC4_2Dpixelmode_371x195_Att25_25umLoading files : /data/lipidatlas/data/data_raw/BRAIN1/20210218_MouseBrainCMC_S5AE3_2Dpixelmode_396x272_Att25_25um/20210218_MouseBrainCMC_S5AE3_2Dpixelmode_396x272_Att25_25umLoading files : /data/lipidatlas/data/data_raw/BRAIN1/20210219_MouseBrainCMC_S6AE3_2Dpixelmode_423x282_Att25_25um/20210219_MouseBrainCMC_S6AE3_2Dpixelmode_423x282_Att25_25umLoading files : /data/lipidatlas/data/data_raw/BRAIN1/20210211_MouseBrainCMC_S2AB5_2Dpixelmode_370x214_Att25_25um/20210211_MouseBrainCMC_S2AB5_2Dpixelmode_370x214_Att25_25umLoading files : /data/lipidatlas/data/data_raw/BRAIN1/20210214_MouseBrainCMC_S4AD3_2Dpixelmode_354x228_Att25_25um/20210214_MouseBrainCMC_S4AD3_2Dpixelmode_354x228_Att25_25umLoading files : /data/lipidatlas/data/data_raw/BRAIN1/20210303_MouseBrainCMC_S12AL1_2Dpixelmode_393x266_Att25_25um/20210303_MouseBrainCMC_S12AL1_2Dpixelmode_393x266_Att25_25umLoading files : /data/lipidatlas/data/data_raw/BRAIN1/20210210_MouseBrainCMC_S1AA1_2Dpixelmode_322x231_Att25_25um/20210210_MouseBrainCMC_S1AA1_2Dpixelmode_322x231_Att25_25umLoading files : /data/lipidatlas/data/data_raw/BRAIN1/20210210_MouseBrainCMC_S10(brain2_20)_394x282_Att30_25um/20210210_MouseBrainCMC_S10(brain2_20)_394x282_Att30_25umLoading files : /data/lipidatlas/data/data_raw/BRAIN1/20210220_MouseBrainCMC_S7AF5_2Dpixelmode_427x263_Att25_25um/20210220_MouseBrainCMC_S7AF5_2Dpixelmode_427x263_Att25_25umLoading files : /data/lipidatlas/data/data_raw/BRAIN1/20210301_MouseBrainCMC_S11AK5_2Dpixelmode_448x277_Att25_25um/20210301_MouseBrainCMC_S11AK5_2Dpixelmode_448x277_Att25_25umLoading files : /data/lipidatlas/data/data_raw/BRAIN1/20210304_MouseBrainCMC_S13AM1_2Dpixelmode_413x310_Att25_25um/20210304_MouseBrainCMC_S13AM1_2Dpixelmode_413x310_Att25_25umLoading files : /data/lipidatlas/data/data_raw/BRAIN1/20210305_MouseBrainCMC_S14AN1_2Dpixelmode_409x285_Att25_25um/20210305_MouseBrainCMC_S14AN1_2Dpixelmode_409x285_Att25_25umLoading files : /data/lipidatlas/data/data_raw/BRAIN1/20210313_MouseBrainCMC_S15AO2_2Dpixelmode_451x292_Att25_25um/20210313_MouseBrainCMC_S15AO2_2Dpixelmode_451x292_Att25_25umLoading files : /data/lipidatlas/data/data_raw/BRAIN1/20210530_MouseBrainCMC_S16_duplicate_2Dpixelmode_454x295_Att30_25um/20210530_MouseBrainCMC_S16_duplicate_2Dpixelmode_454x295_Att30_25um\n",
      "\n",
      "\n",
      "\n",
      "\n",
      "\n",
      "\n",
      "\n",
      "\n",
      "\n",
      "\n",
      "\n",
      "\n",
      "\n",
      "\n",
      "\n",
      "[Warning] Not index found and build_index_from_scratch is False\n",
      "[Warning] Not index found and build_index_from_scratch is False\n",
      "[Warning] Not index found and build_index_from_scratch is False\n"
     ]
    },
    {
     "name": "stderr",
     "output_type": "stream",
     "text": [
      "WARNING:root:The mzML file containts more than the exprected 74382 spectra. The tailing 25 spectra will be ignored.\n",
      "Loading Sprectra at resolution 1e-05:   0%|          | 0/74382 [00:00<?, ?it/s]WARNING:root:The mzML file containts more than the exprected 80712 spectra. The tailing 2 spectra will be ignored.\n"
     ]
    },
    {
     "name": "stdout",
     "output_type": "stream",
     "text": [
      "[Warning] Not index found and build_index_from_scratch is False\n"
     ]
    },
    {
     "name": "stderr",
     "output_type": "stream",
     "text": [
      "Loading Sprectra at resolution 1e-05:   0%|          | 0/80712 [00:00<?, ?it/s]WARNING:root:The mzML file containts more than the exprected 107712 spectra. The tailing 8 spectra will be ignored.\n"
     ]
    },
    {
     "name": "stdout",
     "output_type": "stream",
     "text": [
      "[Warning] Not index found and build_index_from_scratch is False\n"
     ]
    },
    {
     "name": "stderr",
     "output_type": "stream",
     "text": [
      "Loading Sprectra at resolution 1e-05:   0%|          | 0/107712 [00:00<?, ?it/s]"
     ]
    },
    {
     "name": "stdout",
     "output_type": "stream",
     "text": [
      "[Warning] Not index found and build_index_from_scratch is False\n"
     ]
    },
    {
     "name": "stderr",
     "output_type": "stream",
     "text": [
      "WARNING:root:The mzML file containts more than the exprected 129826 spectra. The tailing 8 spectra will be ignored.\n",
      "WARNING:root:The mzML file containts more than the exprected 104538 spectra. The tailing 21 spectra will be ignored.\n",
      "Loading Sprectra at resolution 1e-05:   0%|          | 0/129826 [00:00<?, ?it/s]"
     ]
    },
    {
     "name": "stdout",
     "output_type": "stream",
     "text": [
      "[Warning] Not index found and build_index_from_scratch is False\n"
     ]
    },
    {
     "name": "stderr",
     "output_type": "stream",
     "text": [
      "WARNING:root:The mzML file containts more than the exprected 79180 spectra. The tailing 16 spectra will be ignored.\n",
      "Loading Sprectra at resolution 1e-05:   0%|          | 0/79180 [00:00<?, ?it/s]]WARNING:root:The mzML file containts more than the exprected 72345 spectra. The tailing 21 spectra will be ignored.\n",
      "Loading Sprectra at resolution 1e-05:   0%|          | 0/72345 [00:00<?, ?it/s]"
     ]
    },
    {
     "name": "stdout",
     "output_type": "stream",
     "text": [
      "[Warning] Not index found and build_index_from_scratch is False\n",
      "[Warning] Not index found and build_index_from_scratch is False\n",
      "[Warning] Not index found and build_index_from_scratch is False\n"
     ]
    },
    {
     "name": "stderr",
     "output_type": "stream",
     "text": [
      "Loading Sprectra at resolution 1e-05:   0%|          | 0/124096 [00:00<?, ?it/s]"
     ]
    },
    {
     "name": "stdout",
     "output_type": "stream",
     "text": [
      "[Warning] Not index found and build_index_from_scratch is False\n",
      "[Warning] Not index found and build_index_from_scratch is False\n",
      "[Warning] Not index found and build_index_from_scratch is False\n"
     ]
    },
    {
     "name": "stderr",
     "output_type": "stream",
     "text": [
      "WARNING:root:The mzML file containts more than the exprected 112301 spectra. The tailing 5 spectra will be ignored.\n"
     ]
    },
    {
     "name": "stdout",
     "output_type": "stream",
     "text": [
      "[Warning] Not index found and build_index_from_scratch is False\n"
     ]
    },
    {
     "name": "stderr",
     "output_type": "stream",
     "text": [
      "WARNING:root:The mzML file containts more than the exprected 111108 spectra. The tailing 1 spectra will be ignored.\n",
      "WARNING:root:The mzML file containts more than the exprected 116565 spectra. The tailing 57 spectra will be ignored.\n",
      "WARNING:root:The mzML file containts more than the exprected 119286 spectra. The tailing 3 spectra will be ignored.\n",
      "Loading Sprectra at resolution 1e-05:   0%|          | 0/119286 [00:00<?, ?it/s]"
     ]
    },
    {
     "name": "stdout",
     "output_type": "stream",
     "text": [
      "[Warning] Not index found and build_index_from_scratch is False\n",
      "[Warning] Not index found and build_index_from_scratch is False\n"
     ]
    },
    {
     "name": "stderr",
     "output_type": "stream",
     "text": [
      "WARNING:root:The mzML file containts more than the exprected 131692 spectra. The tailing 9 spectra will be ignored.\n",
      "WARNING:root:The mzML file containts more than the exprected 122550 spectra. The tailing 1 spectra will be ignored.\n",
      "Loading Sprectra at resolution 1e-05: 100%|██████████| 74382/74382 [00:52<00:00, 1408.94it/s]]\n",
      "Loading Sprectra at resolution 1e-05: 100%|██████████| 72345/72345 [00:55<00:00, 1314.00it/s]it/s]\n",
      "Loading Sprectra at resolution 1e-05: 100%|██████████| 80712/80712 [00:57<00:00, 1411.65it/s]]t/s]\n",
      "Loading Sprectra at resolution 1e-05: 100%|██████████| 79180/79180 [01:01<00:00, 1297.19it/s]it/s]]\n",
      "Loading Sprectra at resolution 1e-05: 100%|██████████| 107712/107712 [01:14<00:00, 1449.34it/s]t/s]\n",
      "Loading Sprectra at resolution 1e-05: 100%|██████████| 104538/104538 [01:23<00:00, 1258.27it/s]t/s]]\n",
      "Loading Sprectra at resolution 1e-05: 100%|██████████| 122550/122550 [01:29<00:00, 1370.58it/s]it/s]\n",
      "Loading Sprectra at resolution 1e-05: 100%|██████████| 119286/119286 [01:31<00:00, 1306.24it/s]t/s]]\n",
      "Loading Sprectra at resolution 1e-05: 100%|██████████| 111108/111108 [01:31<00:00, 1215.75it/s]t/s]\n",
      "Loading Sprectra at resolution 1e-05: 100%|██████████| 112301/112301 [01:32<00:00, 1214.01it/s]t/s]]\n",
      "Loading Sprectra at resolution 1e-05: 100%|██████████| 124096/124096 [01:32<00:00, 1337.24it/s]/s]]]\n",
      "Loading Sprectra at resolution 1e-05: 100%|██████████| 116565/116565 [01:33<00:00, 1243.00it/s]it/s]\n",
      "Loading the m/z values at resolution 1e-05: 100%|██████████| 74382/74382 [00:44<00:00, 1671.55it/s]]\n",
      "Loading the m/z values at resolution 1e-05: 100%|██████████| 80712/80712 [00:47<00:00, 1683.10it/s] \n",
      "Loading Sprectra at resolution 1e-05: 100%|██████████| 128030/128030 [01:47<00:00, 1187.55it/s]it/s]\n",
      "Loading Sprectra at resolution 1e-05: 100%|██████████| 133930/133930 [01:48<00:00, 1235.80it/s]t/s]]\n",
      "Loading the m/z values at resolution 1e-05: 100%|██████████| 72345/72345 [00:55<00:00, 1292.04it/s]]\n",
      "Loading the m/z values at resolution 1e-05: 100%|██████████| 79180/79180 [00:51<00:00, 1552.09it/s]]\n",
      "Loading Sprectra at resolution 1e-05: 100%|██████████| 129826/129826 [01:58<00:00, 1096.26it/s]it/s]\n",
      "Loading Sprectra at resolution 1e-05: 100%|██████████| 131692/131692 [02:02<00:00, 1079.18it/s]it/s]\n",
      "Loading the m/z values at resolution 1e-05: 100%|██████████| 107712/107712 [00:53<00:00, 1995.55it/s]\n",
      "Loading the m/z values at resolution 1e-05: 100%|██████████| 104538/104538 [01:07<00:00, 1539.70it/s]\n",
      "Loading the m/z values at resolution 1e-05: 100%|██████████| 122550/122550 [01:11<00:00, 1707.95it/s]\n",
      "Loading the m/z values at resolution 1e-05: 100%|██████████| 111108/111108 [01:20<00:00, 1379.27it/s]\n",
      "  9%|▊         | 6344/74382 [01:10<11:55, 95.05it/s]███████| 119286/119286 [01:25<00:00, 1390.63it/s]\n",
      "Loading the m/z values at resolution 1e-05: 100%|██████████| 116565/116565 [01:36<00:00, 1211.37it/s]\n",
      "Loading the m/z values at resolution 1e-05: 100%|██████████| 112301/112301 [01:39<00:00, 1124.31it/s]\n",
      "Loading the m/z values at resolution 1e-05: 100%|██████████| 124096/124096 [01:43<00:00, 1204.07it/s]\n",
      "Loading the m/z values at resolution 1e-05: 100%|██████████| 128030/128030 [01:35<00:00, 1345.19it/s]\n",
      "Loading the m/z values at resolution 1e-05: 100%|██████████| 133930/133930 [01:48<00:00, 1228.94it/s]\n",
      "Loading the m/z values at resolution 1e-05: 100%|██████████| 129826/129826 [01:49<00:00, 1190.67it/s]\n",
      "Loading the m/z values at resolution 1e-05: 100%|██████████| 131692/131692 [01:49<00:00, 1200.97it/s]\n",
      "100%|██████████| 74382/74382 [13:26<00:00, 92.26it/s]]   \n",
      " 34%|███▎      | 41623/124096 [12:03<21:12, 64.81it/s]"
     ]
    },
    {
     "name": "stdout",
     "output_type": "stream",
     "text": [
      "Creating and sorting dataframes\n"
     ]
    },
    {
     "name": "stderr",
     "output_type": "stream",
     "text": [
      "100%|██████████| 79180/79180 [16:13<00:00, 81.30it/s]]\n",
      " 53%|█████▎    | 59879/112301 [15:57<13:25, 65.07it/s]  "
     ]
    },
    {
     "name": "stdout",
     "output_type": "stream",
     "text": [
      "Creating and sorting dataframes\n"
     ]
    },
    {
     "name": "stderr",
     "output_type": "stream",
     "text": [
      "100%|██████████| 72345/72345 [18:13<00:00, 66.16it/s]]\n",
      " 50%|█████     | 65439/129826 [16:49<16:26, 65.30it/s]"
     ]
    },
    {
     "name": "stdout",
     "output_type": "stream",
     "text": [
      "Creating and sorting dataframes\n"
     ]
    },
    {
     "name": "stderr",
     "output_type": "stream",
     "text": [
      "100%|██████████| 80712/80712 [19:33<00:00, 68.75it/s]]\n",
      " 54%|█████▎    | 65761/122550 [18:43<16:47, 56.37it/s]"
     ]
    },
    {
     "name": "stdout",
     "output_type": "stream",
     "text": [
      "Loading files : /data/lipidatlas/data/data_raw/BRAIN1/20210319_MouseBrainCMC_S17AQ2_2Dpixelmode_450x287_Att30_25um/20210319_MouseBrainCMC_S17AQ2_2Dpixelmode_450x287_Att30_25um\n"
     ]
    },
    {
     "name": "stderr",
     "output_type": "stream",
     "text": [
      " 61%|██████    | 68780/112301 [18:19<11:13, 64.65it/s]"
     ]
    },
    {
     "name": "stdout",
     "output_type": "stream",
     "text": [
      "[Warning] Not index found and build_index_from_scratch is False\n"
     ]
    },
    {
     "name": "stderr",
     "output_type": "stream",
     "text": [
      " 59%|█████▉    | 68612/116565 [18:20<12:33, 63.67it/s]WARNING:root:The mzML file containts more than the exprected 129150 spectra. The tailing 44 spectra will be ignored.\n",
      " 64%|██████▎   | 71476/112301 [19:01<10:23, 65.50it/s] 54210/129150 [00:41<00:41, 1797.30it/s]"
     ]
    },
    {
     "name": "stdout",
     "output_type": "stream",
     "text": [
      "Creating and sorting dataframes\n"
     ]
    },
    {
     "name": "stderr",
     "output_type": "stream",
     "text": [
      "Loading Sprectra at resolution 1e-05: 100%|██████████| 129150/129150 [01:46<00:00, 1217.16it/s]\n",
      "Loading the m/z values at resolution 1e-05: 100%|██████████| 129150/129150 [02:42<00:00, 792.86it/s] \n",
      "100%|██████████| 104538/104538 [26:47<00:00, 65.05it/s] \n",
      " 89%|████████▉ | 99934/112301 [26:25<03:25, 60.25it/s]] "
     ]
    },
    {
     "name": "stdout",
     "output_type": "stream",
     "text": [
      "Loading files : /data/lipidatlas/data/data_raw/BRAIN1/20210323_MouseBrainCMC_S18AR4_2Dpixelmode_474x291_Att30_25um/20210323_MouseBrainCMC_S18AR4_2Dpixelmode_474x291_Att30_25um\n"
     ]
    },
    {
     "name": "stderr",
     "output_type": "stream",
     "text": [
      " 89%|████████▉ | 99293/111108 [26:45<03:11, 61.84it/s]]"
     ]
    },
    {
     "name": "stdout",
     "output_type": "stream",
     "text": [
      "[Warning] Not index found and build_index_from_scratch is False\n"
     ]
    },
    {
     "name": "stderr",
     "output_type": "stream",
     "text": [
      "100%|██████████| 107712/107712 [27:45<00:00, 64.66it/s]23790/137934 [00:16<03:02, 627.02it/s] \n",
      " 92%|█████████▏| 103355/112301 [27:19<02:19, 64.30it/s]79389/137934 [00:51<00:27, 2105.89it/s]"
     ]
    },
    {
     "name": "stdout",
     "output_type": "stream",
     "text": [
      "Creating and sorting dataframes\n"
     ]
    },
    {
     "name": "stderr",
     "output_type": "stream",
     "text": [
      " 76%|███████▌  | 97061/128030 [27:08<08:12, 62.83it/s]]"
     ]
    },
    {
     "name": "stdout",
     "output_type": "stream",
     "text": [
      "Creating and sorting dataframes\n"
     ]
    },
    {
     "name": "stderr",
     "output_type": "stream",
     "text": [
      "Loading Sprectra at resolution 1e-05: 100%|██████████| 137934/137934 [01:44<00:00, 1318.70it/s]\n",
      "100%|██████████| 111108/111108 [29:51<00:00, 62.01it/s]██▏ | 112339/137934 [01:21<00:21, 1189.91it/s]\n",
      "100%|██████████| 112301/112301 [29:36<00:00, 63.20it/s]██▌ | 117398/137934 [01:26<00:17, 1161.00it/s]\n",
      " 97%|█████████▋| 112851/116565 [29:57<00:57, 64.92it/s]███▏| 127186/137934 [01:45<00:21, 504.89it/s] "
     ]
    },
    {
     "name": "stdout",
     "output_type": "stream",
     "text": [
      "Loading files : /data/lipidatlas/data/data_raw/BRAIN1/20210325_MouseBrainCMC_S19AS4_2Dpixelmode_396x232_Att30_25um/20210325_MouseBrainCMC_S19AS4_2Dpixelmode_396x232_Att30_25um\n"
     ]
    },
    {
     "name": "stderr",
     "output_type": "stream",
     "text": [
      " 97%|█████████▋| 115862/119286 [30:10<00:52, 64.85it/s]███▏| 127307/137934 [01:45<00:19, 551.88it/s]"
     ]
    },
    {
     "name": "stdout",
     "output_type": "stream",
     "text": [
      "[Warning] Not index found and build_index_from_scratch is False\n"
     ]
    },
    {
     "name": "stderr",
     "output_type": "stream",
     "text": [
      " 85%|████████▌ | 105867/124096 [29:44<04:56, 61.51it/s]WARNING:root:The mzML file containts more than the exprected 91872 spectra. The tailing 16 spectra will be ignored.\n",
      "Loading the m/z values at resolution 1e-05: 100%|██████████| 137934/137934 [02:09<00:00, 1062.88it/s]\n",
      " 79%|███████▉  | 104658/131692 [29:57<07:13, 62.33it/s]63672/91872 [00:45<00:59, 472.51it/s] "
     ]
    },
    {
     "name": "stdout",
     "output_type": "stream",
     "text": [
      "Creating and sorting dataframes\n"
     ]
    },
    {
     "name": "stderr",
     "output_type": "stream",
     "text": [
      "100%|██████████| 119286/119286 [31:03<00:00, 64.00it/s]76580/91872 [00:52<00:08, 1773.29it/s]\n",
      "100%|██████████| 116565/116565 [30:54<00:00, 62.85it/s]80213/91872 [00:57<00:37, 310.37it/s] \n",
      "Loading Sprectra at resolution 1e-05: 100%|██████████| 91872/91872 [01:03<00:00, 1437.75it/s]\n",
      " 26%|██▋       | 34052/129150 [09:17<25:26, 62.28it/s]█▋   | 61644/91872 [01:24<00:42, 709.89it/s]"
     ]
    },
    {
     "name": "stdout",
     "output_type": "stream",
     "text": [
      "Creating and sorting dataframes\n"
     ]
    },
    {
     "name": "stderr",
     "output_type": "stream",
     "text": [
      "  5%|▌         | 7149/137934 [01:58<35:49, 60.84it/s]s]█▉  | 73413/91872 [01:40<00:20, 881.26it/s]"
     ]
    },
    {
     "name": "stdout",
     "output_type": "stream",
     "text": [
      "Creating and sorting dataframes\n"
     ]
    },
    {
     "name": "stderr",
     "output_type": "stream",
     "text": [
      "Loading the m/z values at resolution 1e-05: 100%|██████████| 91872/91872 [01:58<00:00, 777.40it/s] \n",
      " 97%|█████████▋| 120365/124096 [33:45<01:09, 53.73it/s] "
     ]
    },
    {
     "name": "stdout",
     "output_type": "stream",
     "text": [
      "Loading files : /data/lipidatlas/data/data_raw/BRAIN1/20210330_MouseBrainCMC_S20AT3_2Dpixelmode_396x266_Att30_25um/20210330_MouseBrainCMC_S20AT3_2Dpixelmode_396x266_Att30_25um"
     ]
    },
    {
     "name": "stderr",
     "output_type": "stream",
     "text": [
      " 31%|███       | 39743/129150 [10:50<25:45, 57.84it/s]]"
     ]
    },
    {
     "name": "stdout",
     "output_type": "stream",
     "text": [
      "\n"
     ]
    },
    {
     "name": "stderr",
     "output_type": "stream",
     "text": [
      " 31%|███       | 39757/129150 [10:50<24:42, 60.32it/s]]"
     ]
    },
    {
     "name": "stdout",
     "output_type": "stream",
     "text": [
      "[Warning] Not index found and build_index_from_scratch is False"
     ]
    },
    {
     "name": "stderr",
     "output_type": "stream",
     "text": [
      " 97%|█████████▋| 120386/124096 [33:45<01:03, 58.39it/s]"
     ]
    },
    {
     "name": "stdout",
     "output_type": "stream",
     "text": [
      "\n"
     ]
    },
    {
     "name": "stderr",
     "output_type": "stream",
     "text": [
      "WARNING:root:The mzML file containts more than the exprected 105336 spectra. The tailing 15 spectra will be ignored.\n",
      "100%|██████████| 122550/122550 [34:52<00:00, 58.56it/s]36667/105336 [00:30<00:35, 1914.58it/s]\n",
      "100%|██████████| 124096/124096 [34:50<00:00, 59.36it/s]86763/105336 [01:04<00:10, 1721.19it/s]\n",
      "Loading Sprectra at resolution 1e-05: 100%|██████████| 105336/105336 [01:21<00:00, 1295.78it/s]\n",
      " 93%|█████████▎| 121950/131692 [34:43<02:36, 62.12it/s]    | 14989/105336 [00:09<00:59, 1508.88it/s]"
     ]
    },
    {
     "name": "stdout",
     "output_type": "stream",
     "text": [
      "Creating and sorting dataframes\n"
     ]
    },
    {
     "name": "stderr",
     "output_type": "stream",
     "text": [
      "100%|██████████| 128030/128030 [35:41<00:00, 59.79it/s]    | 54687/105336 [00:35<00:31, 1586.41it/s]\n",
      "Loading the m/z values at resolution 1e-05: 100%|██████████| 105336/105336 [01:13<00:00, 1439.97it/s]\n",
      " 97%|█████████▋| 127265/131692 [36:12<01:13, 60.62it/s]"
     ]
    },
    {
     "name": "stdout",
     "output_type": "stream",
     "text": [
      "Creating and sorting dataframes\n"
     ]
    },
    {
     "name": "stderr",
     "output_type": "stream",
     "text": [
      " 99%|█████████▉| 130362/131692 [37:05<00:22, 59.01it/s]"
     ]
    },
    {
     "name": "stdout",
     "output_type": "stream",
     "text": [
      "Creating and sorting dataframes\n"
     ]
    },
    {
     "name": "stderr",
     "output_type": "stream",
     "text": [
      "100%|██████████| 131692/131692 [37:28<00:00, 58.58it/s]\n",
      " 25%|██▌       | 35091/137934 [09:46<28:35, 59.95it/s]"
     ]
    },
    {
     "name": "stdout",
     "output_type": "stream",
     "text": [
      "Creating and sorting dataframes\n"
     ]
    },
    {
     "name": "stderr",
     "output_type": "stream",
     "text": [
      " 23%|██▎       | 23902/105336 [05:18<18:27, 73.54it/s]"
     ]
    },
    {
     "name": "stdout",
     "output_type": "stream",
     "text": [
      "Loading files : /data/lipidatlas/data/data_raw/BRAIN1/20210408_MouseBrainCMC_S21AU4_2Dpixelmode_394x215_Att30_25um/20210408_MouseBrainCMC_S21AU4_2Dpixelmode_394x215_Att30_25um"
     ]
    },
    {
     "name": "stderr",
     "output_type": "stream",
     "text": [
      " 30%|██▉       | 41084/137934 [11:26<27:26, 58.80it/s]"
     ]
    },
    {
     "name": "stdout",
     "output_type": "stream",
     "text": [
      "\n"
     ]
    },
    {
     "name": "stderr",
     "output_type": "stream",
     "text": [
      " 30%|██▉       | 41098/137934 [11:26<26:54, 59.97it/s]"
     ]
    },
    {
     "name": "stdout",
     "output_type": "stream",
     "text": [
      "[Warning] Not index found and build_index_from_scratch is False\n"
     ]
    },
    {
     "name": "stderr",
     "output_type": "stream",
     "text": [
      "WARNING:root:The mzML file containts more than the exprected 84710 spectra. The tailing 14 spectra will be ignored.\n",
      "Loading Sprectra at resolution 1e-05: 100%|██████████| 84710/84710 [01:04<00:00, 1303.32it/s]\n",
      "Loading the m/z values at resolution 1e-05: 100%|██████████| 84710/84710 [01:14<00:00, 1137.89it/s]\n",
      " 34%|███▎      | 35419/105336 [07:52<17:18, 67.35it/s]"
     ]
    },
    {
     "name": "stdout",
     "output_type": "stream",
     "text": [
      "Loading files : /data/lipidatlas/data/data_raw/BRAIN1/20210409_MouseBrainCMC_S22AV1_2Dpixelmode_416x207_Att30_25um/20210409_MouseBrainCMC_S22AV1_2Dpixelmode_416x207_Att30_25um"
     ]
    },
    {
     "name": "stderr",
     "output_type": "stream",
     "text": [
      " 62%|██████▏   | 79477/129150 [21:35<15:18, 54.10it/s]"
     ]
    },
    {
     "name": "stdout",
     "output_type": "stream",
     "text": [
      "\n"
     ]
    },
    {
     "name": "stderr",
     "output_type": "stream",
     "text": [
      " 34%|███▎      | 35435/105336 [07:52<16:32, 70.42it/s]"
     ]
    },
    {
     "name": "stdout",
     "output_type": "stream",
     "text": [
      "[Warning] Not index found and build_index_from_scratch is False\n"
     ]
    },
    {
     "name": "stderr",
     "output_type": "stream",
     "text": [
      " 37%|███▋      | 50419/137934 [14:00<24:52, 58.63it/s]WARNING:root:The mzML file containts more than the exprected 86112 spectra. The tailing 67 spectra will be ignored.\n",
      "Loading Sprectra at resolution 1e-05: 100%|██████████| 86112/86112 [01:18<00:00, 1102.18it/s]\n",
      "Loading the m/z values at resolution 1e-05: 100%|██████████| 86112/86112 [01:43<00:00, 830.09it/s] \n",
      " 20%|██        | 17066/84710 [04:39<19:52, 56.71it/s]]"
     ]
    },
    {
     "name": "stdout",
     "output_type": "stream",
     "text": [
      "Loading files : /data/lipidatlas/data/data_raw/BRAIN1/20210412_MouseBrainCMC_S23AZ1_2Dpixelmode_360x260_Att30_25um/20210412_MouseBrainCMC_S23AZ1_2Dpixelmode_360x260_Att30_25um\n"
     ]
    },
    {
     "name": "stderr",
     "output_type": "stream",
     "text": [
      "  7%|▋         | 5888/86112 [01:27<19:58, 66.94it/s]]]"
     ]
    },
    {
     "name": "stdout",
     "output_type": "stream",
     "text": [
      "[Warning] Not index found and build_index_from_scratch is False\n"
     ]
    },
    {
     "name": "stderr",
     "output_type": "stream",
     "text": [
      "WARNING:root:The mzML file containts more than the exprected 93600 spectra. The tailing 11 spectra will be ignored.\n",
      "Loading Sprectra at resolution 1e-05: 100%|██████████| 93600/93600 [01:20<00:00, 1166.91it/s]\n",
      " 63%|██████▎   | 66467/105336 [14:51<10:23, 62.39it/s]     | 39414/93600 [00:55<01:01, 888.18it/s] "
     ]
    },
    {
     "name": "stdout",
     "output_type": "stream",
     "text": [
      "Loading files : /data/lipidatlas/data/data_raw/BRAIN1/20210413_MouseBrainCMC_S24_3_2Dpixelmode_327x328_Att30_25um/20210413_MouseBrainCMC_S24_3_2Dpixelmode_327x328_Att30_25um\n"
     ]
    },
    {
     "name": "stderr",
     "output_type": "stream",
     "text": [
      " 18%|█▊        | 15169/86112 [03:43<45:06, 26.21it/s]▏     | 39504/93600 [00:56<02:50, 317.37it/s]"
     ]
    },
    {
     "name": "stdout",
     "output_type": "stream",
     "text": [
      "[Warning] Not index found and build_index_from_scratch is False\n"
     ]
    },
    {
     "name": "stderr",
     "output_type": "stream",
     "text": [
      "WARNING:root:The mzML file containts more than the exprected 107256 spectra. The tailing 13 spectra will be ignored.\n",
      "Loading the m/z values at resolution 1e-05: 100%|██████████| 93600/93600 [01:41<00:00, 922.34it/s] \n",
      "Loading Sprectra at resolution 1e-05: 100%|██████████| 107256/107256 [01:13<00:00, 1460.54it/s]\n",
      " 91%|█████████ | 83645/91872 [21:05<02:05, 65.73it/s]███▊  | 83698/107256 [01:31<00:23, 983.39it/s] "
     ]
    },
    {
     "name": "stdout",
     "output_type": "stream",
     "text": [
      "Loading files : /data/lipidatlas/data/data_raw/BRAIN1/20210414_MouseBrainCMC_S25_2_2Dpixelmode_358x238_Att30_25um/20210414_MouseBrainCMC_S25_2_2Dpixelmode_358x238_Att30_25um\n"
     ]
    },
    {
     "name": "stderr",
     "output_type": "stream",
     "text": [
      " 62%|██████▏   | 85745/137934 [23:46<28:58, 30.02it/s]██▊  | 83892/107256 [01:32<00:48, 480.05it/s]"
     ]
    },
    {
     "name": "stdout",
     "output_type": "stream",
     "text": [
      "[Warning] Not index found and build_index_from_scratch is False\n"
     ]
    },
    {
     "name": "stderr",
     "output_type": "stream",
     "text": [
      "WARNING:root:The mzML file containts more than the exprected 85204 spectra. The tailing 21 spectra will be ignored.\n",
      "Loading the m/z values at resolution 1e-05: 100%|██████████| 107256/107256 [01:55<00:00, 928.32it/s] \n",
      "Loading Sprectra at resolution 1e-05: 100%|██████████| 85204/85204 [01:04<00:00, 1318.19it/s]\n",
      "100%|██████████| 91872/91872 [23:09<00:00, 66.13it/s]]████ | 77017/85204 [00:58<00:06, 1224.60it/s]\n",
      "Loading the m/z values at resolution 1e-05: 100%|██████████| 85204/85204 [01:06<00:00, 1290.34it/s]\n",
      " 54%|█████▍    | 46003/84710 [12:07<10:20, 62.34it/s]] "
     ]
    },
    {
     "name": "stdout",
     "output_type": "stream",
     "text": [
      "Loading files : /data/lipidatlas/data/data_raw/BRAIN1/20210419_MouseBrainCMC_S26_3_2Dpixelmode_340x248_Att30_25um/20210419_MouseBrainCMC_S26_3_2Dpixelmode_340x248_Att30_25um\n"
     ]
    },
    {
     "name": "stderr",
     "output_type": "stream",
     "text": [
      " 54%|█████▍    | 46010/84710 [12:08<21:25, 30.11it/s]s]"
     ]
    },
    {
     "name": "stdout",
     "output_type": "stream",
     "text": [
      "[Warning] Not index found and build_index_from_scratch is False\n"
     ]
    },
    {
     "name": "stderr",
     "output_type": "stream",
     "text": [
      " 15%|█▍        | 13978/93600 [04:05<39:08, 33.90it/s]] WARNING:root:The mzML file containts more than the exprected 84320 spectra. The tailing 23 spectra will be ignored.\n",
      " 88%|████████▊ | 92854/105336 [20:48<02:44, 75.81it/s] 57631/84320 [00:43<00:15, 1702.08it/s]"
     ]
    },
    {
     "name": "stdout",
     "output_type": "stream",
     "text": [
      "Creating and sorting dataframes\n"
     ]
    },
    {
     "name": "stderr",
     "output_type": "stream",
     "text": [
      "Loading Sprectra at resolution 1e-05: 100%|██████████| 84320/84320 [01:04<00:00, 1300.21it/s]\n",
      "Loading the m/z values at resolution 1e-05: 100%|██████████| 84320/84320 [02:10<00:00, 645.77it/s]\n",
      "100%|██████████| 105336/105336 [23:32<00:00, 74.60it/s]\n",
      " 70%|███████   | 59720/84710 [15:51<06:14, 66.67it/s]]] "
     ]
    },
    {
     "name": "stdout",
     "output_type": "stream",
     "text": [
      "Loading files : /data/lipidatlas/data/data_raw/BRAIN1/20210603_MouseBrainCMC_S27_duplicate_2Dpixelmode_372x272_Att30_25um/20210603_MouseBrainCMC_S27_duplicate_2Dpixelmode_372x272_Att30_25um\n"
     ]
    },
    {
     "name": "stderr",
     "output_type": "stream",
     "text": [
      " 18%|█▊        | 15372/85204 [03:42<28:38, 40.63it/s]]]"
     ]
    },
    {
     "name": "stdout",
     "output_type": "stream",
     "text": [
      "[Warning] Not index found and build_index_from_scratch is False\n"
     ]
    },
    {
     "name": "stderr",
     "output_type": "stream",
     "text": [
      "WARNING:root:The mzML file containts more than the exprected 101184 spectra. The tailing 16 spectra will be ignored.\n",
      "  3%|▎         | 2272/84320 [00:35<20:39, 66.18it/s]]| 41931/101184 [00:34<00:38, 1526.76it/s]"
     ]
    },
    {
     "name": "stdout",
     "output_type": "stream",
     "text": [
      "Creating and sorting dataframes\n"
     ]
    },
    {
     "name": "stderr",
     "output_type": "stream",
     "text": [
      "Loading Sprectra at resolution 1e-05: 100%|██████████| 101184/101184 [01:31<00:00, 1105.23it/s]\n",
      " 45%|████▌     | 42342/93600 [11:36<14:04, 60.67it/s]█████▊| 98656/101184 [02:15<00:05, 443.79it/s] "
     ]
    },
    {
     "name": "stdout",
     "output_type": "stream",
     "text": [
      "Loading files : /data/lipidatlas/data/data_raw/BRAIN1/20210423_MouseBrainCMC_S28_3_2Dpixelmode_390x244_Att30_25um/20210423_MouseBrainCMC_S28_3_2Dpixelmode_390x244_Att30_25um\n"
     ]
    },
    {
     "name": "stderr",
     "output_type": "stream",
     "text": [
      " 88%|████████▊ | 74819/84710 [19:39<05:55, 27.82it/s]s]███▊| 98702/101184 [02:15<00:10, 229.15it/s]"
     ]
    },
    {
     "name": "stdout",
     "output_type": "stream",
     "text": [
      "[Warning] Not index found and build_index_from_scratch is False\n"
     ]
    },
    {
     "name": "stderr",
     "output_type": "stream",
     "text": [
      " 88%|████████▊ | 74826/84710 [19:39<04:52, 33.77it/s]s]███▊| 98741/101184 [02:15<00:09, 253.91it/s]WARNING:root:The mzML file containts more than the exprected 95160 spectra. The tailing 5 spectra will be ignored.\n",
      " 87%|████████▋ | 119469/137934 [33:48<05:12, 59.12it/s]████| 101184/101184 [02:20<00:00, 721.07it/s]\n",
      "Loading Sprectra at resolution 1e-05: 100%|██████████| 95160/95160 [01:05<00:00, 1456.53it/s]\n",
      " 53%|█████▎    | 49937/93600 [13:39<11:58, 60.77it/s]██▍   | 61722/95160 [00:57<00:34, 960.90it/s] "
     ]
    },
    {
     "name": "stdout",
     "output_type": "stream",
     "text": [
      "Loading files : /data/lipidatlas/data/data_raw/BRAIN1/20210424_MouseBrainCMC_S29_5_2Dpixelmode_330x277_Att30_25um/20210424_MouseBrainCMC_S29_5_2Dpixelmode_330x277_Att30_25um\n"
     ]
    },
    {
     "name": "stderr",
     "output_type": "stream",
     "text": [
      " 53%|█████▎    | 49944/93600 [13:39<21:57, 33.13it/s]]█▍   | 61820/95160 [00:57<01:06, 499.75it/s]"
     ]
    },
    {
     "name": "stdout",
     "output_type": "stream",
     "text": [
      "[Warning] Not index found and build_index_from_scratch is False\n"
     ]
    },
    {
     "name": "stderr",
     "output_type": "stream",
     "text": [
      "WARNING:root:The mzML file containts more than the exprected 91410 spectra. The tailing 20 spectra will be ignored.\n",
      "100%|██████████| 84710/84710 [22:12<00:00, 63.55it/s]| 35582/91410 [00:30<00:33, 1656.85it/s]3it/s]\n",
      "Loading the m/z values at resolution 1e-05: 100%|██████████| 95160/95160 [01:33<00:00, 1019.94it/s]\n",
      "Loading Sprectra at resolution 1e-05: 100%|██████████| 91410/91410 [01:10<00:00, 1292.94it/s]\n",
      "  2%|▏         | 2017/95160 [00:26<20:09, 77.01it/s]]]     | 3460/91410 [00:04<01:59, 736.70it/s]"
     ]
    },
    {
     "name": "stdout",
     "output_type": "stream",
     "text": [
      "Creating and sorting dataframes\n"
     ]
    },
    {
     "name": "stderr",
     "output_type": "stream",
     "text": [
      "100%|██████████| 86112/86112 [20:40<00:00, 69.44it/s]]█▊   | 62729/91410 [00:58<00:21, 1332.94it/s]\n",
      "Loading the m/z values at resolution 1e-05: 100%|██████████| 91410/91410 [01:29<00:00, 1026.97it/s]\n",
      " 45%|████▍     | 47972/107256 [14:02<18:05, 54.62it/s]]"
     ]
    },
    {
     "name": "stdout",
     "output_type": "stream",
     "text": [
      "Loading files : /data/lipidatlas/data/data_raw/BRAIN1/20210429_MouseBrainCMC_S30_5_2Dpixelmode_367x278_Att30_25um/20210429_MouseBrainCMC_S30_5_2Dpixelmode_367x278_Att30_25um"
     ]
    },
    {
     "name": "stderr",
     "output_type": "stream",
     "text": [
      " 13%|█▎        | 13462/101184 [04:19<26:07, 55.96it/s]]"
     ]
    },
    {
     "name": "stdout",
     "output_type": "stream",
     "text": [
      "\n"
     ]
    },
    {
     "name": "stderr",
     "output_type": "stream",
     "text": [
      " 64%|██████▍   | 60299/93600 [16:25<09:10, 60.47it/s]]]"
     ]
    },
    {
     "name": "stdout",
     "output_type": "stream",
     "text": [
      "[Warning] Not index found and build_index_from_scratch is False\n"
     ]
    },
    {
     "name": "stderr",
     "output_type": "stream",
     "text": [
      "WARNING:root:The mzML file containts more than the exprected 102026 spectra. The tailing 2 spectra will be ignored.\n",
      " 16%|█▌        | 16239/101184 [05:13<29:39, 47.74it/s] 46028/102026 [00:53<00:45, 1221.12it/s]"
     ]
    },
    {
     "name": "stdout",
     "output_type": "stream",
     "text": [
      "Creating and sorting dataframes\n"
     ]
    },
    {
     "name": "stderr",
     "output_type": "stream",
     "text": [
      "100%|██████████| 137934/137934 [39:41<00:00, 57.91it/s]64441/102026 [01:09<00:29, 1288.18it/s]\n",
      "Loading Sprectra at resolution 1e-05: 100%|██████████| 102026/102026 [01:48<00:00, 942.35it/s] \n",
      " 74%|███████▍  | 69489/93600 [18:52<06:30, 61.81it/s]      | 20678/102026 [00:39<02:24, 564.11it/s]"
     ]
    },
    {
     "name": "stdout",
     "output_type": "stream",
     "text": [
      "Loading files : /data/lipidatlas/data/data_raw/BRAIN1/20210501_MouseBrainCMC_S31_3_2Dpixelmode_355x239_Att30_25um/20210501_MouseBrainCMC_S31_3_2Dpixelmode_355x239_Att30_25um\n"
     ]
    },
    {
     "name": "stderr",
     "output_type": "stream",
     "text": [
      " 73%|███████▎  | 62187/85204 [14:46<15:27, 24.81it/s]/s]   | 20735/102026 [00:40<06:59, 193.70it/s]"
     ]
    },
    {
     "name": "stdout",
     "output_type": "stream",
     "text": [
      "[Warning] Not index found and build_index_from_scratch is False\n"
     ]
    },
    {
     "name": "stderr",
     "output_type": "stream",
     "text": [
      "WARNING:root:The mzML file containts more than the exprected 84845 spectra. The tailing 5 spectra will be ignored.\n",
      "Loading Sprectra at resolution 1e-05: 100%|██████████| 84845/84845 [01:23<00:00, 1011.83it/s]3it/s]\n",
      "Loading the m/z values at resolution 1e-05: 100%|██████████| 102026/102026 [02:32<00:00, 671.20it/s]\n",
      " 28%|██▊       | 27909/101184 [08:42<26:59, 45.24it/s]     | 10984/84845 [00:29<02:44, 448.29it/s]"
     ]
    },
    {
     "name": "stdout",
     "output_type": "stream",
     "text": [
      "Loading files : /data/lipidatlas/data/data_raw/BRAIN1/20210504_MouseBrainCMC_S32_3_2Dpixelmode_298x230_Att30_25um/20210504_MouseBrainCMC_S32_3_2Dpixelmode_298x230_Att30_25um\n"
     ]
    },
    {
     "name": "stderr",
     "output_type": "stream",
     "text": [
      "Loading the m/z values at resolution 1e-05:  13%|█▎        | 11030/84845 [00:30<07:52, 156.16it/s]"
     ]
    },
    {
     "name": "stdout",
     "output_type": "stream",
     "text": [
      "[Warning] Not index found and build_index_from_scratch is False\n"
     ]
    },
    {
     "name": "stderr",
     "output_type": "stream",
     "text": [
      " 20%|██        | 18380/91410 [04:12<43:18, 28.11it/s]WARNING:root:The mzML file containts more than the exprected 68540 spectra. The tailing 8 spectra will be ignored.\n",
      "Loading Sprectra at resolution 1e-05: 100%|██████████| 68540/68540 [01:09<00:00, 984.62it/s] it/s]\n",
      "Loading the m/z values at resolution 1e-05: 100%|██████████| 84845/84845 [02:40<00:00, 528.43it/s]\n",
      "Loading the m/z values at resolution 1e-05: 100%|██████████| 68540/68540 [02:09<00:00, 528.03it/s]\n",
      " 73%|███████▎  | 77831/107256 [22:05<08:02, 60.98it/s]\n",
      " 51%|█████     | 48487/95160 [10:44<09:54, 78.52it/s]]"
     ]
    },
    {
     "name": "stdout",
     "output_type": "stream",
     "text": [
      "Creating and sorting dataframes"
     ]
    },
    {
     "name": "stderr",
     "output_type": "stream",
     "text": [
      "  7%|▋         | 6105/84845 [01:51<17:45, 73.88it/s]"
     ]
    },
    {
     "name": "stdout",
     "output_type": "stream",
     "text": [
      "\n"
     ]
    },
    {
     "name": "stderr",
     "output_type": "stream",
     "text": [
      "100%|██████████| 93600/93600 [25:25<00:00, 61.34it/s]]\n",
      " 15%|█▌        | 12873/84845 [03:24<16:08, 74.29it/s]]"
     ]
    },
    {
     "name": "stdout",
     "output_type": "stream",
     "text": [
      "Creating and sorting dataframes\n"
     ]
    },
    {
     "name": "stderr",
     "output_type": "stream",
     "text": [
      "100%|██████████| 84320/84320 [21:20<00:00, 65.84it/s]]\n",
      "100%|██████████| 107256/107256 [31:45<00:00, 56.29it/s] \n",
      "100%|██████████| 95160/95160 [20:50<00:00, 76.13it/s]]\n",
      " 95%|█████████▍| 86535/91410 [18:48<01:06, 73.73it/s]]"
     ]
    },
    {
     "name": "stdout",
     "output_type": "stream",
     "text": [
      "Creating and sorting dataframes\n"
     ]
    },
    {
     "name": "stderr",
     "output_type": "stream",
     "text": [
      " 60%|█████▉    | 50487/84845 [13:00<10:28, 54.71it/s]]"
     ]
    },
    {
     "name": "stdout",
     "output_type": "stream",
     "text": [
      "Creating and sorting dataframes\n"
     ]
    },
    {
     "name": "stderr",
     "output_type": "stream",
     "text": [
      "100%|██████████| 91410/91410 [19:51<00:00, 76.74it/s]]\n",
      " 65%|██████▌   | 55469/84845 [14:30<06:43, 72.89it/s]]"
     ]
    },
    {
     "name": "stdout",
     "output_type": "stream",
     "text": [
      "Creating and sorting dataframes\n"
     ]
    },
    {
     "name": "stderr",
     "output_type": "stream",
     "text": [
      "100%|██████████| 68540/68540 [15:52<00:00, 71.95it/s]]\n",
      " 84%|████████▍ | 71163/84845 [18:24<03:03, 74.42it/s]]"
     ]
    },
    {
     "name": "stdout",
     "output_type": "stream",
     "text": [
      "Creating and sorting dataframes\n"
     ]
    },
    {
     "name": "stderr",
     "output_type": "stream",
     "text": [
      "100%|██████████| 84845/84845 [21:44<00:00, 65.06it/s]s]\n",
      "100%|██████████| 102026/102026 [24:34<00:00, 69.21it/s]\n"
     ]
    },
    {
     "name": "stdout",
     "output_type": "stream",
     "text": [
      "Creating and sorting dataframes\n"
     ]
    }
   ],
   "source": [
    "if True:\n",
    "    multiprocessing = True\n",
    "    if multiprocessing:\n",
    "        with Pool(processes=16) as pool:\n",
    "            [x for x in pool.imap_unordered(maldi_conversion.extract_raw_data, l_t_names)]\n",
    "    else:\n",
    "        # Normal (single-processed) map\n",
    "        [x for x in map(maldi_conversion.extract_raw_data, l_t_names)]\n"
   ]
  },
  {
   "cell_type": "markdown",
   "metadata": {},
   "source": [
    "### Remove slices already processed"
   ]
  },
  {
   "cell_type": "code",
   "execution_count": null,
   "metadata": {},
   "outputs": [],
   "source": [
    "if False:\n",
    "    path_brain_temp = (\n",
    "        \"/data/lipidatlas/data/app/data/temp/brain_1\"\n",
    "        if brain_1\n",
    "        else \"/data/lipidatlas/data/app/data/temp/brain_2\"\n",
    "    )\n",
    "    existing_names = [\n",
    "        int(name.split(\"_\")[1][:-4]) for name in os.listdir(path_brain_temp) if \"raw\" not in name\n",
    "    ]\n",
    "    l_t_names = [x for x in l_t_names if x[0] not in existing_names]\n",
    "    # Print the final list of names\n",
    "    for t_names in l_t_names:\n",
    "        print(t_names[0], t_names[1].split(\"/\")[-1])\n"
   ]
  },
  {
   "cell_type": "markdown",
   "metadata": {},
   "source": [
    "### Process raw data into numpy arrays with multiprocessing"
   ]
  },
  {
   "cell_type": "code",
   "execution_count": null,
   "metadata": {},
   "outputs": [],
   "source": [
    "multiprocessing = True\n",
    "if multiprocessing:\n",
    "    with Pool(processes=16) as pool:\n",
    "        [x for x in pool.imap_unordered(maldi_conversion.process_raw_data, l_t_names)]\n",
    "else:\n",
    "    # Normal (single-processed) map\n",
    "    [x for x in map(maldi_conversion.process_raw_data, l_t_names)]\n"
   ]
  },
  {
   "cell_type": "markdown",
   "metadata": {},
   "source": [
    "### Build lookup tables"
   ]
  },
  {
   "cell_type": "code",
   "execution_count": null,
   "metadata": {},
   "outputs": [],
   "source": [
    "multiprocessing = True\n",
    "if multiprocessing:\n",
    "    # Multiprocessing\n",
    "    with Pool(processes=16) as pool:\n",
    "        [x for x in pool.map(lookup_tables.process_lookup_tables, l_t_names)]\n",
    "else:\n",
    "    # Normal (single-processed) map\n",
    "    [x for x in map(lookup_tables.process_lookup_tables, l_t_names)]\n"
   ]
  },
  {
   "cell_type": "markdown",
   "metadata": {},
   "source": [
    "### Record everything and clean "
   ]
  },
  {
   "cell_type": "markdown",
   "metadata": {},
   "source": [
    "Record everything in memap files and a pickled dictonnary"
   ]
  },
  {
   "cell_type": "code",
   "execution_count": null,
   "metadata": {},
   "outputs": [],
   "source": [
    "if maldi_conversion.SAMPLE_APP:\n",
    "    output_folder = \"data_sample/whole_dataset/\"\n",
    "else :\n",
    "    output_folder = \"data/whole_dataset/\"  \n",
    "\n",
    "os.makedirs(output_folder, exist_ok=True)\n",
    "\n",
    "dic_slices = {}\n",
    "# Loop over input folders\n",
    "for brain_1, input_folder in zip(\n",
    "    [True, False],\n",
    "    [\n",
    "        \"/data/lipidatlas/data/app/data/temp/brain_1/\",\n",
    "        \"/data/lipidatlas/data/app/data/temp/brain_2/\",\n",
    "    ],\n",
    "):\n",
    "\n",
    "    # Loop over slice files\n",
    "    for slice_name in os.listdir(input_folder):\n",
    "        if \"raw\" in slice_name or \"checkpoints\" in slice_name:\n",
    "            continue\n",
    "\n",
    "        # Extract slice index\n",
    "        slice_index = int(slice_name.split(\"_\")[1][:-4])\n",
    "\n",
    "        # Load slice arrays\n",
    "        npzfile = np.load(input_folder + slice_name)\n",
    "        array_pixel_indexes_high_res = npzfile[\"array_pixel_indexes_high_res\"]\n",
    "        array_spectra_high_res = npzfile[\"array_spectra_high_res\"]\n",
    "        array_averaged_mz_intensity_low_res = npzfile[\"array_averaged_mz_intensity_low_res\"]\n",
    "        array_averaged_mz_intensity_high_res = npzfile[\"array_averaged_mz_intensity_high_res\"]\n",
    "        array_averaged_mz_intensity_high_res_after_standardization = npzfile[\n",
    "            \"array_averaged_mz_intensity_high_res_after_standardization\"\n",
    "        ]\n",
    "        image_shape = npzfile[\"image_shape\"]\n",
    "        divider_lookup = npzfile[\"divider_lookup\"]\n",
    "        lookup_table_spectra_high_res = npzfile[\"lookup_table_spectra_high_res\"]\n",
    "        cumulated_image_lookup_table_high_res = npzfile[\"cumulated_image_lookup_table_high_res\"]\n",
    "        lookup_table_averaged_spectrum_high_res = npzfile[\"lookup_table_averaged_spectrum_high_res\"]\n",
    "        array_peaks_corrected = npzfile[\"array_peaks_corrected\"]\n",
    "        array_corrective_factors = npzfile[\"array_corrective_factors\"]\n",
    "\n",
    "        # print size used by each array in mb\n",
    "        print(\"array_pixel_indexes_high_res, dic\",round(array_pixel_indexes_high_res.nbytes / 1024 / 1024, 2))\n",
    "        print(\"array_spectra_high_res, mmap\",round(array_spectra_high_res.nbytes / 1024 / 1024, 2))\n",
    "        print(\"array_averaged_mz_intensity_low_res, dic\",round(array_averaged_mz_intensity_low_res.nbytes / 1024 / 1024, 2))\n",
    "        print(\"array_averaged_mz_intensity_high_res, mmap\",round(array_averaged_mz_intensity_high_res.nbytes / 1024 / 1024, 2))\n",
    "        print(\"array_averaged_mz_intensity_high_res_after_standardization, mmap\",round(array_averaged_mz_intensity_high_res_after_standardization.nbytes / 1024 / 1024, 2))\n",
    "        print(\"lookup_table_spectra_high_res, mmap\",round(lookup_table_spectra_high_res.nbytes / 1024 / 1024, 2))\n",
    "        print(\"cumulated_image_lookup_table_high_res, mmap\",round(cumulated_image_lookup_table_high_res.nbytes / 1024 / 1024, 2))\n",
    "        print(\"lookup_table_averaged_spectrum_high_res, dic\",round(lookup_table_averaged_spectrum_high_res.nbytes / 1024 / 1024, 2))\n",
    "        print(\"array_peaks_corrected, dic\",round(array_peaks_corrected.nbytes / 1024 / 1024, 2))\n",
    "        print(\"array_corrective_factors, dic\",round(array_corrective_factors.nbytes / 1024 / 1024, 2))\n",
    "\n",
    "        # Update slice index for brain 2\n",
    "        if not brain_1:\n",
    "            slice_index += 22\n",
    "\n",
    "        print(slice_name)\n",
    "\n",
    "        if not maldi_conversion.SAMPLE_APP:\n",
    "            # Register the lightweights files in a pickled dictionnary\n",
    "            dic_slices[slice_index] = {\n",
    "                \"image_shape\": image_shape,\n",
    "                \"divider_lookup\": divider_lookup,\n",
    "                \"array_avg_spectrum_downsampled\": array_averaged_mz_intensity_low_res,\n",
    "                \"array_lookup_pixels\": array_pixel_indexes_high_res,\n",
    "                \"array_lookup_mz_avg\": lookup_table_averaged_spectrum_high_res,\n",
    "                \"array_peaks_transformed_lipids\": array_peaks_corrected,\n",
    "            }\n",
    "\n",
    "            try:\n",
    "                # Build a memap for each of the heavier files to save RAM, save the corresponding shape in the\n",
    "                # pickled dictionnary\n",
    "                fp = np.memmap(\n",
    "                    output_folder + \"array_spectra_\" + str(slice_index) + \".mmap\",\n",
    "                    dtype=\"float32\",\n",
    "                    mode=\"w+\",\n",
    "                    shape=array_spectra_high_res.shape,\n",
    "                )\n",
    "                fp[:] = array_spectra_high_res[:]\n",
    "                fp.flush()\n",
    "                dic_slices[slice_index][\"array_spectra_shape\"] = array_spectra_high_res.shape\n",
    "\n",
    "                fp = np.memmap(\n",
    "                    output_folder + \"array_avg_spectrum_\" + str(slice_index) + \".mmap\",\n",
    "                    dtype=\"float32\",\n",
    "                    mode=\"w+\",\n",
    "                    shape=array_averaged_mz_intensity_high_res.shape,\n",
    "                )\n",
    "                fp[:] = array_averaged_mz_intensity_high_res[:]\n",
    "                fp.flush()\n",
    "                dic_slices[slice_index][\n",
    "                    \"array_avg_spectrum_shape\"\n",
    "                ] = array_averaged_mz_intensity_high_res.shape\n",
    "\n",
    "                fp = np.memmap(\n",
    "                    output_folder\n",
    "                    + \"array_avg_spectrum_after_standardization_\"\n",
    "                    + str(slice_index)\n",
    "                    + \".mmap\",\n",
    "                    dtype=\"float32\",\n",
    "                    mode=\"w+\",\n",
    "                    shape=array_averaged_mz_intensity_high_res_after_standardization.shape,\n",
    "                )\n",
    "                fp[:] = array_averaged_mz_intensity_high_res_after_standardization[:]\n",
    "                fp.flush()\n",
    "                dic_slices[slice_index][\n",
    "                    \"array_avg_spectrum_after_standardization_shape\"\n",
    "                ] = array_averaged_mz_intensity_high_res_after_standardization.shape\n",
    "\n",
    "                fp = np.memmap(\n",
    "                    output_folder + \"array_lookup_mz_\" + str(slice_index) + \".mmap\",\n",
    "                    dtype=\"int32\",\n",
    "                    mode=\"w+\",\n",
    "                    shape=lookup_table_spectra_high_res.shape,\n",
    "                )\n",
    "                fp[:] = lookup_table_spectra_high_res[:]\n",
    "                fp.flush()\n",
    "                dic_slices[slice_index][\"array_lookup_mz_shape\"] = lookup_table_spectra_high_res.shape\n",
    "\n",
    "                fp = np.memmap(\n",
    "                    output_folder + \"array_cumulated_lookup_mz_image_\" + str(slice_index) + \".mmap\",\n",
    "                    dtype=\"float32\",\n",
    "                    mode=\"w+\",\n",
    "                    shape=cumulated_image_lookup_table_high_res.shape,\n",
    "                )\n",
    "                fp[:] = cumulated_image_lookup_table_high_res[:]\n",
    "                fp.flush()\n",
    "                dic_slices[slice_index][\n",
    "                    \"array_cumulated_lookup_mz_image_shape\"\n",
    "                ] = cumulated_image_lookup_table_high_res.shape\n",
    "\n",
    "                fp = np.memmap(\n",
    "                    output_folder + \"array_corrective_factors_\" + str(slice_index) + \".mmap\",\n",
    "                    dtype=\"float32\",\n",
    "                    mode=\"w+\",\n",
    "                    shape=array_corrective_factors.shape,\n",
    "                )\n",
    "                fp[:] = array_corrective_factors[:]\n",
    "                fp.flush()\n",
    "                dic_slices[slice_index][\n",
    "                    \"array_corrective_factors_shape\"\n",
    "                ] = array_corrective_factors.shape\n",
    "\n",
    "            except Exception as e:\n",
    "                print(e)\n",
    "\n",
    "        else:\n",
    "            # Register all files in a pickled dictionnary\n",
    "            dic_slices[slice_index] = {\n",
    "                \"image_shape\": image_shape,\n",
    "                \"divider_lookup\": divider_lookup,\n",
    "                \"array_avg_spectrum_downsampled\": array_averaged_mz_intensity_low_res,\n",
    "                \"array_lookup_pixels\": array_pixel_indexes_high_res,\n",
    "                \"array_lookup_mz_avg\": lookup_table_averaged_spectrum_high_res,\n",
    "                \"array_peaks_transformed_lipids\": array_peaks_corrected,\n",
    "                \"array_spectra\": array_spectra_high_res,\n",
    "                \"array_avg_spectrum\": array_averaged_mz_intensity_high_res,\n",
    "                \"array_avg_spectrum_after_standardization\": array_averaged_mz_intensity_high_res_after_standardization,\n",
    "                \"array_lookup_mz\": lookup_table_spectra_high_res,\n",
    "                \"array_cumulated_lookup_mz_image\": cumulated_image_lookup_table_high_res,\n",
    "                \"array_corrective_factors\": array_corrective_factors,\n",
    "            }\n",
    "\n",
    "    # ! Careful, this break statement will have to be deleted when brain 2 is added\n",
    "    break\n",
    "\n",
    "if not maldi_conversion.SAMPLE_APP:\n",
    "    # Pickle the dict of lightweight data\n",
    "    with open(output_folder + \"light_arrays.pickle\", \"wb\") as handle:\n",
    "        pickle.dump(dic_slices, handle)\n",
    "else:\n",
    "    with lzma.open(output_folder + \"light_arrays.pickle\", \"wb\") as handle:\n",
    "        pickle.dump(dic_slices, handle)\n",
    "print(\"Done\")\n"
   ]
  },
  {
   "cell_type": "markdown",
   "metadata": {},
   "source": [
    "Clean temporary folder"
   ]
  },
  {
   "cell_type": "code",
   "execution_count": null,
   "metadata": {},
   "outputs": [],
   "source": [
    "clean = False\n",
    "if clean:\n",
    "    delete_all_files_in_folder(input_folder)\n"
   ]
  }
 ],
 "metadata": {
  "interpreter": {
   "hash": "0c1aa729cc35b9a783763c24c4069d7da678acf641f89d4e1df25bf02079ad65"
  },
  "kernelspec": {
   "display_name": "Python 3 (ipykernel)",
   "language": "python",
   "name": "python3"
  },
  "language_info": {
   "codemirror_mode": {
    "name": "ipython",
    "version": 3
   },
   "file_extension": ".py",
   "mimetype": "text/x-python",
   "name": "python",
   "nbconvert_exporter": "python",
   "pygments_lexer": "ipython3",
   "version": "3.9.7"
  }
 },
 "nbformat": 4,
 "nbformat_minor": 4
}
