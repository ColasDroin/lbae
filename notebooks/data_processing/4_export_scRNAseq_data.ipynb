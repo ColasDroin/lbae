{
 "cells": [
  {
   "cell_type": "markdown",
   "metadata": {},
   "source": [
    "# Notebook to analyze and display scRNAseq data\n"
   ]
  },
  {
   "cell_type": "markdown",
   "metadata": {},
   "source": [
    "### Load important modules"
   ]
  },
  {
   "cell_type": "code",
   "execution_count": null,
   "metadata": {
    "tags": []
   },
   "outputs": [],
   "source": [
    "# Standard modules\n",
    "import numpy as np\n",
    "import os\n",
    "import pandas as pd \n",
    "import plotly.graph_objects as go\n",
    "import matplotlib.pyplot as plt\n",
    "import logging\n",
    "from numba import njit\n",
    "from sklearn import linear_model\n",
    "\n",
    "\n",
    "# Move to root directory for easier module handling\n",
    "os.chdir(\"../..\")\n",
    "print(os.listdir(\".\"))\n",
    "\n",
    "#LBAE imports\n",
    "from modules.maldi_data import MaldiData\n",
    "from modules.figures import Figures\n",
    "from modules.atlas import Atlas\n",
    "from modules.storage import Storage\n",
    "\n",
    "\n",
    "# multithreading/multiprocessing\n",
    "from multiprocessing import Pool\n",
    "import multiprocessing\n",
    "from threadpoolctl import threadpool_limits\n",
    "\n",
    "# set thread limit\n",
    "threadpool_limits(16)\n"
   ]
  },
  {
   "cell_type": "markdown",
   "metadata": {},
   "source": [
    "#### Load LBAE objects"
   ]
  },
  {
   "cell_type": "code",
   "execution_count": null,
   "metadata": {},
   "outputs": [],
   "source": [
    "path_data = \"data/whole_dataset/\"\n",
    "path_annotations = \"data/annotations/\"\n",
    "path_db = \"data/app_data/data.db\"\n",
    "\n",
    "# Load shelve database\n",
    "storage = Storage(path_db)\n",
    "\n",
    "# Load data\n",
    "data = MaldiData(path_data, path_annotations)\n",
    "\n",
    "# Load Atlas and Figures objects. At first launch, many objects will be precomputed and shelved in\n",
    "# the classes Atlas and Figures.\n",
    "atlas = Atlas(data, storage, resolution=25, sample = True)\n",
    "figures = Figures(data, storage, atlas, sample = True)"
   ]
  },
  {
   "cell_type": "markdown",
   "metadata": {},
   "source": [
    "### Load data"
   ]
  },
  {
   "cell_type": "code",
   "execution_count": null,
   "metadata": {},
   "outputs": [],
   "source": [
    "table_meta = pd.read_csv('notebooks/scRNAseq/data/meta_table.tsv', sep='\\t', usecols=[0, 2,3,4, 7], index_col = 0 )\n",
    "table_exp_genes = pd.read_csv('notebooks/scRNAseq/data/expr_normalized_table.tsv', sep='\\t')\n"
   ]
  },
  {
   "cell_type": "code",
   "execution_count": null,
   "metadata": {},
   "outputs": [],
   "source": [
    "# Replace 0 by nan\n",
    "table_exp_genes.replace(0, np.nan, inplace=True)\n",
    "table_exp_genes"
   ]
  },
  {
   "cell_type": "code",
   "execution_count": null,
   "metadata": {},
   "outputs": [],
   "source": [
    "# Reorganize columns\n",
    "table_meta = table_meta[['stereo_AP', 'stereo_DV', 'stereo_ML', 'ABA_acronym']]"
   ]
  },
  {
   "cell_type": "code",
   "execution_count": null,
   "metadata": {},
   "outputs": [],
   "source": [
    "# Keep only the spots that are present in both tables\n",
    "table_meta = table_meta.loc[table_meta.index.isin(table_exp_genes.index)]\n",
    "table_exp_genes = table_exp_genes.loc[table_exp_genes.index.isin(table_exp_genes.index)]"
   ]
  },
  {
   "cell_type": "code",
   "execution_count": null,
   "metadata": {},
   "outputs": [],
   "source": [
    "# Ensure that the table are sorted by increasing spots\n",
    "table_meta.sort_index(inplace = True)\n",
    "table_exp_genes.sort_index(inplace = True)\n",
    "\n",
    "# Get spots and genes names\n",
    "l_spots = list(table_meta.index)\n",
    "l_genes = list(table_exp_genes.columns)"
   ]
  },
  {
   "cell_type": "code",
   "execution_count": null,
   "metadata": {},
   "outputs": [],
   "source": [
    "counts = table_meta['ABA_acronym'].value_counts()"
   ]
  },
  {
   "cell_type": "code",
   "execution_count": null,
   "metadata": {},
   "outputs": [],
   "source": [
    "# Do a linear regression structure-wise to get coordinates of the molecular atlas in the ccfv3\n",
    "l_x = []\n",
    "l_y = []\n",
    "l_z = []\n",
    "l_xs = []\n",
    "l_ys = []\n",
    "l_zs = []\n",
    "for acronym in counts[counts == 1].index.to_list():\n",
    "    try:\n",
    "        id_structure = atlas.bg_atlas.structures[acronym]['id']\n",
    "        array_coor = np.where(atlas.bg_atlas.annotation == id_structure)\n",
    "        xs, ys, zs = np.mean(array_coor, axis=1)*25/1000\n",
    "        std_xs, std_ys, std_zs = np.std(array_coor, axis=1)*25/1000\n",
    "        x, y, z = table_meta[table_meta['ABA_acronym'] == acronym].iloc[0,0:3].to_numpy()\n",
    "        if std_xs<0.12:\n",
    "            l_x.append(x)\n",
    "            l_xs.append(xs)\n",
    "        if std_ys<0.12:\n",
    "            l_y.append(y)\n",
    "            l_ys.append(ys)\n",
    "        if std_zs<0.12:\n",
    "            l_z.append(z)\n",
    "            l_zs.append(zs)\n",
    "    except:\n",
    "        pass\n",
    "  \n",
    "X = np.vstack([np.array(l_x), np.ones(len(l_x)), np.zeros(len(l_x)), np.zeros(len(l_x))   ]).T\n",
    "Y = np.vstack([np.array(l_y), np.zeros(len(l_y)), np.ones(len(l_y)), np.zeros(len(l_y))    ]).T\n",
    "Z = np.vstack([np.array(l_z), np.zeros(len(l_z)), np.zeros(len(l_z)) , np.ones(len(l_z))      ]).T\n",
    "M = np.vstack((X,Y,Z))\n",
    "y = np.array(l_xs + l_ys + l_zs)\n",
    "\n",
    "a, b, c, d = np.linalg.lstsq(M, y, rcond=None)[0]\n"
   ]
  },
  {
   "cell_type": "code",
   "execution_count": null,
   "metadata": {},
   "outputs": [],
   "source": [
    "plt.plot(np.array(l_x), np.array(l_xs), 'o', label='Original data', markersize=10)\n",
    "plt.plot(np.array(l_x), a*np.array(l_x) + b, 'r', label='Fitted line')\n",
    "plt.plot(np.array(l_y), np.array(l_ys), 'o', label='Original data', markersize=10)\n",
    "plt.plot(np.array(l_y), a*np.array(l_y) + c, 'r', label='Fitted line')\n",
    "plt.plot(np.array(l_z), np.array(l_zs), 'o', label='Original data', markersize=10)\n",
    "plt.plot(np.array(l_z), a*np.array(l_z) + d, 'r', label='Fitted line')\n",
    "plt.legend()\n",
    "plt.show()"
   ]
  },
  {
   "cell_type": "code",
   "execution_count": null,
   "metadata": {},
   "outputs": [],
   "source": [
    "# Convert molecular atlas coordinates to our system of coordinates (i.e. ccfv3)\n",
    "table_meta[\"stereo_AP\"] = a * table_meta[\"stereo_AP\"] + b\n",
    "table_meta[\"stereo_DV\"] = a * table_meta[\"stereo_DV\"] + c\n",
    "table_meta[\"stereo_ML\"] = a * table_meta[\"stereo_ML\"] + d\n",
    "table_meta"
   ]
  },
  {
   "cell_type": "markdown",
   "metadata": {},
   "source": [
    "#### Plot the points from the molecular atlas in 3D in our reference brain"
   ]
  },
  {
   "cell_type": "code",
   "execution_count": null,
   "metadata": {},
   "outputs": [],
   "source": [
    "# Coordinates molecular atlas\n",
    "x_mol = table_meta['stereo_AP'].to_numpy()\n",
    "y_mol = table_meta['stereo_DV'].to_numpy()\n",
    "z_mol = table_meta['stereo_ML'].to_numpy()\n",
    "# Get scatter figure for the scRNAseq spots\n",
    "scatter = go.Scatter3d(\n",
    "    x=x_mol,\n",
    "    y=y_mol,\n",
    "    z=z_mol,\n",
    "    mode='markers',\n",
    "    marker=dict(\n",
    "        size=2,\n",
    "        opacity=0.8\n",
    "    ),\n",
    ")\n",
    "\n",
    "#fig = go.Figure(data=scatter)\n",
    "#fig.show()"
   ]
  },
  {
   "cell_type": "code",
   "execution_count": null,
   "metadata": {},
   "outputs": [],
   "source": [
    "# Get root figure\n",
    "root_data = figures._storage.return_shelved_object(\n",
    "    \"figures/3D_page\",\n",
    "    \"volume_root\",\n",
    "    force_update=False,\n",
    "    compute_function=figures.compute_3D_root_volume,\n",
    ")\n",
    "\n",
    "\n",
    "root_data['hoverinfo']= 'skip'\n",
    "scatter['hoverinfo']= \"all\""
   ]
  },
  {
   "cell_type": "code",
   "execution_count": null,
   "metadata": {},
   "outputs": [],
   "source": [
    "fig = go.Figure(data=[root_data, scatter])\n",
    "\n",
    "\n",
    "# Hide grey background\n",
    "fig.update_layout(\n",
    "    margin=dict(t=0, r=0, b=0, l=0),\n",
    "    scene=dict(\n",
    "        xaxis=dict(backgroundcolor=\"rgba(0,0,0,0)\"),\n",
    "        yaxis=dict(backgroundcolor=\"rgba(0,0,0,0)\"),\n",
    "        zaxis=dict(backgroundcolor=\"rgba(0,0,0,0)\"),\n",
    "    ),\n",
    ")\n",
    "\n",
    "# Set background color to zero\n",
    "fig.layout.template = \"plotly_dark\"\n",
    "fig.layout.plot_bgcolor = \"rgba(0,0,0,0)\"\n",
    "fig.layout.paper_bgcolor = \"rgba(0,0,0,0)\"\n",
    "\n",
    "\n",
    "fig.show()"
   ]
  },
  {
   "cell_type": "markdown",
   "metadata": {},
   "source": [
    "#### Get a dictionnary of lipid expression for each dot"
   ]
  },
  {
   "cell_type": "code",
   "execution_count": null,
   "metadata": {},
   "outputs": [],
   "source": [
    "@njit\n",
    "def find_index_coordinate(x, y, z, array_x, array_y, array_z, array_c):\n",
    "    array_expression = np.zeros((len(x_mol),), dtype = np.uint8)\n",
    "    idx_mol = 0\n",
    "    for x, y, z in zip(x_mol, y_mol, z_mol):\n",
    "        min_idx = -1\n",
    "        min_dist = 1000000\n",
    "        idx = 0\n",
    "        for xt,yt,zt in zip(array_x, array_y, array_z):\n",
    "            dist = (x-xt)**2 + (y-yt)**2 + (z-zt)**2\n",
    "            if dist < min_dist:\n",
    "                min_dist = dist\n",
    "                min_idx = idx\n",
    "            idx +=1\n",
    "        array_expression[idx_mol] = array_c[min_idx]\n",
    "        idx_mol += 1\n",
    "    return array_expression\n",
    "        \n",
    "@njit\n",
    "def fill_array_coordinates(array_coordinates, array_x, array_y, array_z, array_c, scaling):\n",
    "    for xt,yt,zt, c in zip(array_x, array_y, array_z, array_c):\n",
    "        x = int(round(xt * scaling))\n",
    "        y = int(round(yt * scaling))\n",
    "        z = int(round(zt * scaling))\n",
    "        array_coordinates[x,y,z] = c\n",
    "    return array_coordinates\n",
    "                \n",
    "    \n",
    "    \n",
    "@njit\n",
    "def return_lipid_expr(x_mol, y_mol, z_mol, array_coordinates, scaling, radius = 0.1):\n",
    "    radius = int(scaling * radius)\n",
    "    array_expression = np.zeros((len(x_mol),), dtype = np.uint8)\n",
    "    idx = 0\n",
    "    for x, y, z in zip(x_mol, y_mol, z_mol):\n",
    "        x = int(round(x * scaling))\n",
    "        y = int(round(y * scaling))\n",
    "        z = int(round(z * scaling))\n",
    "        # Check closest in a cube of radius 0.1 *scaling\n",
    "        range_cube = range(-radius,radius+1, 1)\n",
    "        min_dist = 100000000\n",
    "        min_expr = -1\n",
    "        for delta_x in range_cube:\n",
    "            coor_x = x + delta_x\n",
    "            if coor_x>=0 and coor_x < array_coordinates.shape[0]:\n",
    "                for delta_y in range_cube:\n",
    "                    coor_y = y + delta_y\n",
    "                    if coor_y>=0 and coor_y < array_coordinates.shape[1]:\n",
    "                        for delta_z in range_cube:\n",
    "                            coor_z = z + delta_z\n",
    "                            if coor_z >=0 and coor_z < array_coordinates.shape[2]:\n",
    "                                expr = array_coordinates[coor_x, coor_y, coor_z]\n",
    "                                if not np.isnan(expr):\n",
    "                                    dist = np.sqrt(delta_x**2 + delta_y**2 + delta_z**2)\n",
    "                                    if dist < min_dist:\n",
    "                                        min_dist = dist\n",
    "                                        min_expr = int(expr)\n",
    "        if min_expr>=0:\n",
    "            array_expression[idx] = min_expr\n",
    "        else:\n",
    "            print(idx)\n",
    "        idx+=1\n",
    "    return array_expression\n",
    "                            \n",
    "                    \n"
   ]
  },
  {
   "cell_type": "code",
   "execution_count": null,
   "metadata": {},
   "outputs": [],
   "source": [
    "\n",
    "def compute_array_exp_lipids(brain_1 = False, decrease_resolution_factor = 5, method =  'full'):\n",
    "    ll_exp_lipids = []\n",
    "    l_name_lipids = []\n",
    "\n",
    "    # Define variables for coordinates array it won't change from lipid to lipid \n",
    "    if method == 'NN':\n",
    "        array_coordinates = None\n",
    "\n",
    "    # Simulate a click on all lipid names\n",
    "    for name in sorted(\n",
    "        figures._data.get_annotations_MAIA_transformed_lipids(brain_1=brain_1).name.unique()\n",
    "    ):\n",
    "        structures = figures._data.get_annotations_MAIA_transformed_lipids(brain_1=brain_1)[\n",
    "            figures._data.get_annotations_MAIA_transformed_lipids(brain_1=brain_1)[\"name\"] == name\n",
    "        ].structure.unique()\n",
    "        for structure in sorted(structures):\n",
    "            cations = figures._data.get_annotations_MAIA_transformed_lipids(brain_1=brain_1)[\n",
    "                (\n",
    "                    figures._data.get_annotations_MAIA_transformed_lipids(brain_1=brain_1)[\"name\"]\n",
    "                    == name\n",
    "                )\n",
    "                & (\n",
    "                    figures._data.get_annotations_MAIA_transformed_lipids(brain_1=brain_1)[\n",
    "                        \"structure\"\n",
    "                    ]\n",
    "                    == structure\n",
    "                )\n",
    "            ].cation.unique()\n",
    "            for cation in sorted(cations):\n",
    "                l_selected_lipids = []\n",
    "                l_slices = figures._data.get_slice_list(indices=\"brain_1\" if brain_1 else \"brain_2\")\n",
    "                for slice_index in l_slices:\n",
    "\n",
    "                    # Find lipid location\n",
    "                    l_lipid_loc = (\n",
    "                        figures._data.get_annotations()\n",
    "                        .index[\n",
    "                            (figures._data.get_annotations()[\"name\"] == name)\n",
    "                            & (figures._data.get_annotations()[\"structure\"] == structure)\n",
    "                            & (figures._data.get_annotations()[\"slice\"] == slice_index)\n",
    "                            & (figures._data.get_annotations()[\"cation\"] == cation)\n",
    "                        ]\n",
    "                        .tolist()\n",
    "                    )\n",
    "\n",
    "                    # If several lipids correspond to the selection, we have a problem...\n",
    "                    if len(l_lipid_loc) > 1:\n",
    "                        logging.warning(\"More than one lipid corresponds to the selection\")\n",
    "                        l_lipid_loc = [l_lipid_loc[-1]]\n",
    "                    # If no lipid correspond to the selection, set to -1\n",
    "                    if len(l_lipid_loc) == 0:\n",
    "                        l_lipid_loc = [-1]\n",
    "\n",
    "                    # add lipid index for each slice\n",
    "                    l_selected_lipids.append(l_lipid_loc[0])\n",
    "\n",
    "                # Get final lipid name\n",
    "                lipid_string = name + \" \" + structure + \" \" + cation\n",
    "\n",
    "                # If lipid is present in at least one slice\n",
    "                if np.sum(l_selected_lipids) > -len(l_slices):\n",
    "\n",
    "                    # Build the list of mz boundaries for each peak and each index\n",
    "                    lll_lipid_bounds = [\n",
    "                        [\n",
    "                            [\n",
    "                                (\n",
    "                                    float(figures._data.get_annotations().iloc[index][\"min\"]),\n",
    "                                    float(figures._data.get_annotations().iloc[index][\"max\"]),\n",
    "                                )\n",
    "                            ]\n",
    "                            if index != -1\n",
    "                            else None\n",
    "                            for index in [lipid_1_index, -1, -1]\n",
    "                        ]\n",
    "                        for lipid_1_index in l_selected_lipids\n",
    "                    ]\n",
    "                    print(\"getting data for lipid \", lipid_string)\n",
    "                    l_name_lipids.append(lipid_string)\n",
    "                    l_expr = []\n",
    "                    if method == 'NN':\n",
    "                        array_x, array_y, array_z, array_c = figures.compute_3D_volume_figure(ll_t_bounds = lll_lipid_bounds, name_lipid_1=lipid_string, return_individual_slice_data=True,)\n",
    "                        # Switch and rescale coordinates system to match both systems\n",
    "                        array_x, array_y, array_z = array_y*1000, array_z*1000, array_x*1000\n",
    "\n",
    "                        # Build an array of coordinates if needed:\n",
    "                        #scaling = 100\n",
    "                        #if array_coordinates is None:\n",
    "                        #    array_coordinates = np.full( (int(np.max(array_x)*scaling+1),int(np.max(array_y)*scaling+1),int(np.max( array_z)*scaling+1)) , fill_value = np.nan, dtype = np.float32)\n",
    "                        #array_coordinates = fill_array_coordinates(array_coordinates, array_x, array_y, array_z, np.array(array_c, dtype = np.uint8), scaling)\n",
    "                        #l_expr = return_lipid_expr(np.array(x_mol), np.array(y_mol), np.array(z_mol), array_coordinates, scaling, radius = 0.7)\n",
    "                        l_expr = find_index_coordinate(x_mol, y_mol, z_mol, array_x, array_y, array_z, np.array(array_c))\n",
    "\n",
    "                        ll_exp_lipids.append(l_expr)\n",
    "                    else:     \n",
    "                        try:\n",
    "                            interpolated_array = figures.compute_3D_volume_figure(ll_t_bounds = lll_lipid_bounds, name_lipid_1=lipid_string,decrease_dimensionality_factor=decrease_resolution_factor,return_interpolated_array=True, structure_guided_interpolation=False)\n",
    "                        except Exception as e:\n",
    "                            print(e)\n",
    "\n",
    "                        for x, y, z in zip(x_mol, y_mol, z_mol):\n",
    "                            # Need to convert the spot from the molecular atlas to a coordinate from our data (in the ccfv3)\n",
    "                            x, y, z = np.round(np.array([x,y,z])*1000/25/decrease_resolution_factor).astype(np.int32)\n",
    "                            l_expr.append(interpolated_array[x,y,z])\n",
    "                        ll_exp_lipids.append(l_expr)\n",
    "\n",
    "\n",
    "    return np.array(ll_exp_lipids).T, l_name_lipids\n",
    "\n"
   ]
  },
  {
   "cell_type": "code",
   "execution_count": null,
   "metadata": {},
   "outputs": [],
   "source": [
    "array_exp_lipids_brain_1, l_name_lipids_brain_1 = compute_array_exp_lipids(brain_1 = True)\n",
    "array_exp_lipids_brain_2, l_name_lipids_brain_2 = compute_array_exp_lipids(brain_1 = False)"
   ]
  },
  {
   "cell_type": "markdown",
   "metadata": {},
   "source": [
    "### Save lipid data in numpy arrays"
   ]
  },
  {
   "cell_type": "code",
   "execution_count": null,
   "metadata": {},
   "outputs": [],
   "source": [
    "# Save array of lipid expression for brain 1\n",
    "with open('data/scRNAseq/array_exp_lipids_True.npy', 'wb') as f:\n",
    "    np.save(f, array_exp_lipids_brain_1)\n",
    "\n",
    "# Save corresponding names for brain 1\n",
    "with open('data/scRNAseq/array_name_lipids_True.npy', 'wb') as f:\n",
    "    np.save(f, np.array(l_name_lipids_brain_1))\n",
    "\n",
    "# Save array of lipid expression for brain 2\n",
    "with open('data/scRNAseq/array_exp_lipids_False.npy', 'wb') as f:\n",
    "    np.save(f, array_exp_lipids_brain_2)\n",
    "\n",
    "# Save corresponding names for brain 2\n",
    "with open('data/scRNAseq/array_name_lipids_False.npy', 'wb') as f:\n",
    "    np.save(f, np.array(l_name_lipids_brain_2))"
   ]
  },
  {
   "cell_type": "markdown",
   "metadata": {},
   "source": [
    "##### Make a LASSO regression to explain lipid expression in terms of gene expression (and remove as many genes as possible)"
   ]
  },
  {
   "cell_type": "code",
   "execution_count": null,
   "metadata": {},
   "outputs": [],
   "source": [
    "def compute_regression_all_lipids(array_exp_lipids, array_exp_genes):\n",
    "    \"\"\"Compute the LASSO regression coefficients for all lipids.\n",
    "\n",
    "    Returns:\n",
    "        list(list(float)), list(float): List of coefficients (for each lipid) and list of scores\n",
    "            for the LASSO regression explaining lipid expression in terms of gene expression.\n",
    "    \"\"\"\n",
    "    # Define regression as a function for potential parallelization\n",
    "    def compute_regression(index_lipid):\n",
    "        clf = linear_model.ElasticNet(fit_intercept=True, alpha=0.2, positive=False)\n",
    "        clf.fit(array_exp_genes, array_exp_lipids[:, index_lipid])\n",
    "        return [\n",
    "            clf.coef_,\n",
    "            clf.score(array_exp_genes, array_exp_lipids[:, index_lipid]),\n",
    "        ]\n",
    "\n",
    "    # Compute regression for all lipids\n",
    "    l_lipid_indices = list(range(array_exp_lipids.shape[1]))\n",
    "    l_res = [x for x in map(compute_regression, l_lipid_indices)]\n",
    "\n",
    "    # Store the coefficients and the score of the regressions\n",
    "    ll_coef = []\n",
    "    l_score = []\n",
    "    for res in l_res:\n",
    "        ll_coef.append(res[0])\n",
    "        l_score.append(res[1])\n",
    "\n",
    "    # Return result\n",
    "    return np.array(ll_coef), l_score"
   ]
  },
  {
   "cell_type": "code",
   "execution_count": null,
   "metadata": {},
   "outputs": [],
   "source": [
    "# Get array of expression as a not log-transformed numpy array\n",
    "array_exp_genes = np.exp(table_exp_genes.to_numpy())\n",
    "\n",
    "# Replace nan with 0\n",
    "np.nan_to_num(array_exp_genes, copy = False, nan = 0)\n",
    "\n",
    "# Do the LASSO regression\n",
    "array_coef_brain_1, l_score_brain_1 = compute_regression_all_lipids(array_exp_lipids_brain_1, array_exp_genes)\n",
    "array_coef_brain_2, l_score_brain_2 = compute_regression_all_lipids(array_exp_lipids_brain_2, array_exp_genes)"
   ]
  },
  {
   "cell_type": "code",
   "execution_count": null,
   "metadata": {},
   "outputs": [],
   "source": [
    "# Remove genes that do not explain the expression of any lipids \n",
    "def filter_genes(array_coef, array_exp_genes, threshold = 15):\n",
    "    l_to_keep = []\n",
    "    for idx, col in enumerate(array_coef.T):\n",
    "        if np.sum([1 for x in col if abs(x)>0])>threshold:\n",
    "            l_to_keep.append(idx)\n",
    "            \n",
    "    return array_exp_genes[:, l_to_keep], array_coef[:, l_to_keep], np.array(l_genes)[l_to_keep]\n",
    "\n",
    "\n",
    "array_exp_genes_brain_1, array_coef_brain_1, array_name_genes_brain_1 = filter_genes(array_coef_brain_1, array_exp_genes, threshold = 15)\n",
    "array_exp_genes_brain_2, array_coef_brain_2, array_name_genes_brain_2 = filter_genes(array_coef_brain_2, array_exp_genes, threshold = 15)"
   ]
  },
  {
   "cell_type": "markdown",
   "metadata": {},
   "source": [
    "#### Save the filtered data from the molecular atlas"
   ]
  },
  {
   "cell_type": "code",
   "execution_count": null,
   "metadata": {},
   "outputs": [],
   "source": [
    "for brain_1 in [True, False]:\n",
    "    with open('data/scRNAseq/array_exp_genes_'+str(brain_1)+'.npy', 'wb') as f:\n",
    "        np.save(f, array_exp_genes_brain_1 if brain_1 else array_exp_genes_brain_2)\n",
    "    with open('data/scRNAseq/array_name_genes_'+str(brain_1)+'.npy', 'wb') as f:\n",
    "        np.save(f, array_name_genes_brain_1 if brain_1 else array_name_genes_brain_2)\n",
    "    with open('data/scRNAseq/array_coef_'+str(brain_1)+'.npy', 'wb') as f:\n",
    "        np.save(f, array_coef_brain_1 if brain_1 else array_coef_brain_2)\n",
    "    with open('data/scRNAseq/array_score_'+str(brain_1)+'.npy', 'wb') as f:\n",
    "        np.save(f, np.array(l_score_brain_1) if brain_1 else np.array(l_score_brain_2))"
   ]
  },
  {
   "cell_type": "markdown",
   "metadata": {},
   "source": [
    "### Save coordinats scRNAseq spots"
   ]
  },
  {
   "cell_type": "code",
   "execution_count": null,
   "metadata": {},
   "outputs": [],
   "source": [
    "with open('data/scRNAseq/array_coordinates.npy', 'wb') as f:\n",
    "    np.save(f, np.array([x_mol, y_mol, z_mol ]))"
   ]
  }
 ],
 "metadata": {
  "interpreter": {
   "hash": "0c1aa729cc35b9a783763c24c4069d7da678acf641f89d4e1df25bf02079ad65"
  },
  "kernelspec": {
   "display_name": "Python 3 (ipykernel)",
   "language": "python",
   "name": "python3"
  },
  "language_info": {
   "codemirror_mode": {
    "name": "ipython",
    "version": 3
   },
   "file_extension": ".py",
   "mimetype": "text/x-python",
   "name": "python",
   "nbconvert_exporter": "python",
   "pygments_lexer": "ipython3",
   "version": "3.9.7"
  }
 },
 "nbformat": 4,
 "nbformat_minor": 4
}
