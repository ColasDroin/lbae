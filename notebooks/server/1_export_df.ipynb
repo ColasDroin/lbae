{
 "cells": [
  {
   "cell_type": "markdown",
   "metadata": {},
   "source": [
    "# Notebook 1: Raw data export into HDF5"
   ]
  },
  {
   "cell_type": "markdown",
   "metadata": {},
   "source": [
    "### Load important modules"
   ]
  },
  {
   "cell_type": "code",
   "execution_count": 1,
   "metadata": {},
   "outputs": [
    {
     "data": {
      "text/plain": [
       "<threadpoolctl.threadpool_limits at 0x7f4c29c15670>"
      ]
     },
     "execution_count": 1,
     "metadata": {},
     "output_type": "execute_result"
    }
   ],
   "source": [
    "# Standard imports\n",
    "import sys\n",
    "import numpy as np\n",
    "import pandas as pd\n",
    "from numba import jit\n",
    "import os\n",
    "\n",
    "# Move to root directory for easier module import\n",
    "os.chdir(\"../../\")\n",
    "from notebooks.server.modules.maldi_conversion import process_raw_data\n",
    "from notebooks.server.modules.lookuo_tables import process_lookup_tables\n",
    "\n",
    "# multithreading/multiprocessing\n",
    "from multiprocessing import Pool\n",
    "from threadpoolctl import threadpool_limits\n",
    "\n",
    "# set thread limit\n",
    "threadpool_limits(16)\n"
   ]
  },
  {
   "cell_type": "markdown",
   "metadata": {},
   "source": [
    "### Create a list of raw data filenames"
   ]
  },
  {
   "cell_type": "code",
   "execution_count": 2,
   "metadata": {},
   "outputs": [
    {
     "name": "stdout",
     "output_type": "stream",
     "text": [
      "1 20210210_MouseBrainCMC_S1AA1_2Dpixelmode_322x231_Att25_25um\n",
      "2 20210211_MouseBrainCMC_S2AB5_2Dpixelmode_370x214_Att25_25um\n",
      "3 20210213_MouseBrainCMC_S3AC4_2Dpixelmode_371x195_Att25_25um\n",
      "4 20210214_MouseBrainCMC_S4AD3_2Dpixelmode_354x228_Att25_25um\n",
      "5 20210218_MouseBrainCMC_S5AE3_2Dpixelmode_396x272_Att25_25um\n",
      "6 20210219_MouseBrainCMC_S6AE3_2Dpixelmode_423x282_Att25_25um\n",
      "7 20210220_MouseBrainCMC_S7AF5_2Dpixelmode_427x263_Att25_25um\n",
      "8 20210531_MouseBrainCMC_S8_duplicate_2Dpixelmode_430x285_Att30_25um\n",
      "9 20210224_MouseBrainCMC_S9AH4_2Dpixelmode_467x278_Att25_25um\n",
      "10 20210210_MouseBrainCMC_S10(brain2_20)_394x282_Att30_25um\n",
      "11 20210301_MouseBrainCMC_S11AK5_2Dpixelmode_448x277_Att25_25um\n",
      "12 20210303_MouseBrainCMC_S12AL1_2Dpixelmode_393x266_Att25_25um\n",
      "13 20210304_MouseBrainCMC_S13AM1_2Dpixelmode_413x310_Att25_25um\n",
      "14 20210305_MouseBrainCMC_S14AN1_2Dpixelmode_409x285_Att25_25um\n",
      "15 20210313_MouseBrainCMC_S15AO2_2Dpixelmode_451x292_Att25_25um\n",
      "16 20210530_MouseBrainCMC_S16_duplicate_2Dpixelmode_454x295_Att30_25um\n",
      "17 20210319_MouseBrainCMC_S17AQ2_2Dpixelmode_450x287_Att30_25um\n",
      "18 20210323_MouseBrainCMC_S18AR4_2Dpixelmode_474x291_Att30_25um\n",
      "19 20210325_MouseBrainCMC_S19AS4_2Dpixelmode_396x232_Att30_25um\n",
      "20 20210330_MouseBrainCMC_S20AT3_2Dpixelmode_396x266_Att30_25um\n",
      "21 20210408_MouseBrainCMC_S21AU4_2Dpixelmode_394x215_Att30_25um\n",
      "22 20210409_MouseBrainCMC_S22AV1_2Dpixelmode_416x207_Att30_25um\n",
      "23 20210412_MouseBrainCMC_S23AZ1_2Dpixelmode_360x260_Att30_25um\n",
      "24 20210413_MouseBrainCMC_S24_3_2Dpixelmode_327x328_Att30_25um\n",
      "25 20210414_MouseBrainCMC_S25_2_2Dpixelmode_358x238_Att30_25um\n",
      "26 20210419_MouseBrainCMC_S26_3_2Dpixelmode_340x248_Att30_25um\n",
      "27 20210603_MouseBrainCMC_S27_duplicate_2Dpixelmode_372x272_Att30_25um\n",
      "28 20210423_MouseBrainCMC_S28_3_2Dpixelmode_390x244_Att30_25um\n",
      "29 20210424_MouseBrainCMC_S29_5_2Dpixelmode_330x277_Att30_25um\n",
      "30 20210429_MouseBrainCMC_S30_5_2Dpixelmode_367x278_Att30_25um\n",
      "31 20210501_MouseBrainCMC_S31_3_2Dpixelmode_355x239_Att30_25um\n",
      "32 20210504_MouseBrainCMC_S32_3_2Dpixelmode_298x230_Att30_25um\n"
     ]
    }
   ],
   "source": [
    "# Load filenames\n",
    "l_t_names = sorted(\n",
    "    [\n",
    "        [\n",
    "            int(name.split(\"MouseBrainCMC_S\")[1].split(\"_\")[0].split(\"A\")[0].split(\"(\")[0]),\n",
    "            \"/data/lipidatlas/data/data_raw/\" + name + \"/\" + name,\n",
    "        ]\n",
    "        for name in os.listdir(\"/data/lipidatlas/data/data_raw/\")\n",
    "        if \"MouseBrain\" in name\n",
    "    ]\n",
    ")\n",
    "\n",
    "# Correct for duplicates\n",
    "for t_names_1, t_names_2 in zip(l_t_names[:-1], l_t_names[1:]):\n",
    "    if t_names_2[0] == t_names_1[0]:\n",
    "        t_names_2.append(\"bis\")\n",
    "        print(\"WARNING: duplicate for slice \" + str(t_names_1[0]))\n",
    "\n",
    "# Remove slices that have already been processed\n",
    "os.makedirs(\"./data/temp/\", exist_ok=True) \n",
    "remove_already_loaded = False\n",
    "if remove_already_loaded:\n",
    "    existing_names = [int(name.split(\"_\")[1]) for name in os.listdir(\"./data/temp/\") if \"slice\" in name]\n",
    "    l_t_names = [x for x in l_t_names if x[0] not in existing_names]\n",
    "\n",
    "# Print the final list of names\n",
    "for t_names in l_t_names:\n",
    "    print(t_names[0], t_names[1].split(\"/\")[-1])\n"
   ]
  },
  {
   "cell_type": "markdown",
   "metadata": {},
   "source": [
    "### Process raw data into numpy arrays with multiprocessing"
   ]
  },
  {
   "cell_type": "code",
   "execution_count": 4,
   "metadata": {},
   "outputs": [
    {
     "name": "stderr",
     "output_type": "stream",
     "text": [
      "WARNING:root:The mzML file containts more than the expected 107712 spectra. The tailing 8 spectra will be ignored.\n",
      "Loading Sprectra at resolution 1e-05:   0%|          | 0/107712 [00:00<?, ?it/s]"
     ]
    },
    {
     "name": "stdout",
     "output_type": "stream",
     "text": [
      "Loading files : /data/lipidatlas/data/data_raw/20210218_MouseBrainCMC_S5AE3_2Dpixelmode_396x272_Att25_25um/20210218_MouseBrainCMC_S5AE3_2Dpixelmode_396x272_Att25_25um\n",
      "[Warning] Not index found and build_index_from_scratch is False\n"
     ]
    },
    {
     "name": "stderr",
     "output_type": "stream",
     "text": [
      "Loading Sprectra at resolution 1e-05:  44%|████▍     | 47504/107712 [00:25<00:22, 2714.85it/s]"
     ]
    }
   ],
   "source": [
    "multiprocessing = False\n",
    "if multiprocessing:\n",
    "    # Multiprocessing\n",
    "    with Pool(processes=12) as pool:\n",
    "        results = [x for x in pool.imap_unordered(process_raw_data, l_t_names)]\n",
    "else:\n",
    "    # Normal (single-processed) map\n",
    "    results = [x for x in map(process_raw_data, l_t_names[4:5])]\n"
   ]
  },
  {
   "cell_type": "markdown",
   "metadata": {},
   "source": [
    "### Build lookup tables"
   ]
  },
  {
   "cell_type": "code",
   "execution_count": 224,
   "metadata": {},
   "outputs": [
    {
     "name": "stdout",
     "output_type": "stream",
     "text": [
      "Size (in mb) of lookup_table_spectra_high_res:  84.77\n",
      "Shape of lookup_table_spectra_high_res:  (200, 111108)\n",
      "Size (in mb) of cumulated_image_lookup_table_high_res:  84.77\n",
      "Shape of cumulated_image_lookup_table_high_res:  (200, 282, 394)\n",
      "Size (in mb) of lookup_table_averaged_spectrum_high_res:  0.01\n",
      "Shape of lookup_table_averaged_spectrum_high_res:  (2000,)\n",
      "Saving...\n"
     ]
    }
   ],
   "source": [
    "multiprocessing = False\n",
    "if multiprocessing:\n",
    "    # Multiprocessing\n",
    "    with Pool(processes=12) as pool:\n",
    "        ll_res = pool.map(process_lookup_tables, l_t_names)\n",
    "else:\n",
    "    # Normal (single-processed) map\n",
    "    ll_res = map(process_lookup_tables, l_t_names)\n",
    "                       "
   ]
  },
  {
   "cell_type": "markdown",
   "metadata": {},
   "source": [
    "### Clean temp folder and record everything as a HDF5 file"
   ]
  },
  {
   "cell_type": "markdown",
   "metadata": {},
   "source": []
  }
 ],
 "metadata": {
  "interpreter": {
   "hash": "0c1aa729cc35b9a783763c24c4069d7da678acf641f89d4e1df25bf02079ad65"
  },
  "kernelspec": {
   "display_name": "Python 3.9.4 64-bit ('base': conda)",
   "name": "python3"
  },
  "language_info": {
   "codemirror_mode": {
    "name": "ipython",
    "version": 3
   },
   "file_extension": ".py",
   "mimetype": "text/x-python",
   "name": "python",
   "nbconvert_exporter": "python",
   "pygments_lexer": "ipython3",
   "version": "3.9.4"
  }
 },
 "nbformat": 4,
 "nbformat_minor": 4
}
