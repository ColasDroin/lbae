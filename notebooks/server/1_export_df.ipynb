{
 "cells": [
  {
   "cell_type": "markdown",
   "metadata": {},
   "source": [
    "# Notebook 1\n",
    "Raw data export into np.arrays stored in a HDF5 file."
   ]
  },
  {
   "cell_type": "markdown",
   "metadata": {},
   "source": [
    "### Load important modules"
   ]
  },
  {
   "cell_type": "code",
   "execution_count": 1,
   "metadata": {},
   "outputs": [
    {
     "data": {
      "text/plain": [
       "<threadpoolctl.threadpool_limits at 0x7f024c71b430>"
      ]
     },
     "execution_count": 1,
     "metadata": {},
     "output_type": "execute_result"
    }
   ],
   "source": [
    "# Standard imports\n",
    "import sys\n",
    "import numpy as np\n",
    "import pandas as pd\n",
    "from numba import jit\n",
    "import os\n",
    "import shutil\n",
    "import tables\n",
    "import pickle\n",
    "\n",
    "# Move to root directory for easier module import\n",
    "os.chdir(\"../../\")\n",
    "from notebooks.server.modules.maldi_conversion import process_raw_data\n",
    "from notebooks.server.modules.lookup_tables import process_lookup_tables\n",
    "\n",
    "# multithreading/multiprocessing\n",
    "from multiprocessing import Pool\n",
    "from threadpoolctl import threadpool_limits\n",
    "\n",
    "# set thread limit\n",
    "threadpool_limits(16)\n"
   ]
  },
  {
   "cell_type": "markdown",
   "metadata": {},
   "source": [
    "### Create a list of raw data filenames"
   ]
  },
  {
   "cell_type": "code",
   "execution_count": 2,
   "metadata": {},
   "outputs": [
    {
     "name": "stdout",
     "output_type": "stream",
     "text": [
      "1 20210210_MouseBrainCMC_S1AA1_2Dpixelmode_322x231_Att25_25um\n",
      "2 20210211_MouseBrainCMC_S2AB5_2Dpixelmode_370x214_Att25_25um\n",
      "3 20210213_MouseBrainCMC_S3AC4_2Dpixelmode_371x195_Att25_25um\n",
      "4 20210214_MouseBrainCMC_S4AD3_2Dpixelmode_354x228_Att25_25um\n",
      "5 20210218_MouseBrainCMC_S5AE3_2Dpixelmode_396x272_Att25_25um\n",
      "6 20210219_MouseBrainCMC_S6AE3_2Dpixelmode_423x282_Att25_25um\n",
      "7 20210220_MouseBrainCMC_S7AF5_2Dpixelmode_427x263_Att25_25um\n",
      "8 20210531_MouseBrainCMC_S8_duplicate_2Dpixelmode_430x285_Att30_25um\n",
      "9 20210224_MouseBrainCMC_S9AH4_2Dpixelmode_467x278_Att25_25um\n",
      "10 20210210_MouseBrainCMC_S10(brain2_20)_394x282_Att30_25um\n",
      "11 20210301_MouseBrainCMC_S11AK5_2Dpixelmode_448x277_Att25_25um\n",
      "12 20210303_MouseBrainCMC_S12AL1_2Dpixelmode_393x266_Att25_25um\n",
      "13 20210304_MouseBrainCMC_S13AM1_2Dpixelmode_413x310_Att25_25um\n",
      "14 20210305_MouseBrainCMC_S14AN1_2Dpixelmode_409x285_Att25_25um\n",
      "15 20210313_MouseBrainCMC_S15AO2_2Dpixelmode_451x292_Att25_25um\n",
      "16 20210530_MouseBrainCMC_S16_duplicate_2Dpixelmode_454x295_Att30_25um\n",
      "17 20210319_MouseBrainCMC_S17AQ2_2Dpixelmode_450x287_Att30_25um\n",
      "18 20210323_MouseBrainCMC_S18AR4_2Dpixelmode_474x291_Att30_25um\n",
      "19 20210325_MouseBrainCMC_S19AS4_2Dpixelmode_396x232_Att30_25um\n",
      "20 20210330_MouseBrainCMC_S20AT3_2Dpixelmode_396x266_Att30_25um\n",
      "21 20210408_MouseBrainCMC_S21AU4_2Dpixelmode_394x215_Att30_25um\n",
      "22 20210409_MouseBrainCMC_S22AV1_2Dpixelmode_416x207_Att30_25um\n",
      "23 20210412_MouseBrainCMC_S23AZ1_2Dpixelmode_360x260_Att30_25um\n",
      "24 20210413_MouseBrainCMC_S24_3_2Dpixelmode_327x328_Att30_25um\n",
      "25 20210414_MouseBrainCMC_S25_2_2Dpixelmode_358x238_Att30_25um\n",
      "26 20210419_MouseBrainCMC_S26_3_2Dpixelmode_340x248_Att30_25um\n",
      "27 20210603_MouseBrainCMC_S27_duplicate_2Dpixelmode_372x272_Att30_25um\n",
      "28 20210423_MouseBrainCMC_S28_3_2Dpixelmode_390x244_Att30_25um\n",
      "29 20210424_MouseBrainCMC_S29_5_2Dpixelmode_330x277_Att30_25um\n",
      "30 20210429_MouseBrainCMC_S30_5_2Dpixelmode_367x278_Att30_25um\n",
      "31 20210501_MouseBrainCMC_S31_3_2Dpixelmode_355x239_Att30_25um\n",
      "32 20210504_MouseBrainCMC_S32_3_2Dpixelmode_298x230_Att30_25um\n"
     ]
    }
   ],
   "source": [
    "# Load filenames\n",
    "l_t_names = sorted(\n",
    "    [\n",
    "        [\n",
    "            int(name.split(\"MouseBrainCMC_S\")[1].split(\"_\")[0].split(\"A\")[0].split(\"(\")[0]),\n",
    "            \"/data/lipidatlas/data/data_raw/\" + name + \"/\" + name,\n",
    "        ]\n",
    "        for name in os.listdir(\"/data/lipidatlas/data/data_raw/\")\n",
    "        if \"MouseBrain\" in name\n",
    "    ]\n",
    ")\n",
    "\n",
    "# Correct for duplicates\n",
    "for t_names_1, t_names_2 in zip(l_t_names[:-1], l_t_names[1:]):\n",
    "    if t_names_2[0] == t_names_1[0]:\n",
    "        t_names_2.append(\"bis\")\n",
    "        print(\"WARNING: duplicate for slice \" + str(t_names_1[0]))\n",
    "\n",
    "# Remove slices that have already been processed\n",
    "path = \"notebooks/server/data/temp/\"\n",
    "os.makedirs(path, exist_ok=True)\n",
    "remove_already_loaded = False\n",
    "if remove_already_loaded:\n",
    "    existing_names = [int(name.split(\"_\")[1]) for name in os.listdir(path) if \"slice\" in name]\n",
    "    l_t_names = [x for x in l_t_names if x[0] not in existing_names]\n",
    "\n",
    "# Print the final list of names\n",
    "for t_names in l_t_names:\n",
    "    print(t_names[0], t_names[1].split(\"/\")[-1])\n"
   ]
  },
  {
   "cell_type": "markdown",
   "metadata": {},
   "source": [
    "### Process raw data into numpy arrays with multiprocessing"
   ]
  },
  {
   "cell_type": "code",
   "execution_count": 3,
   "metadata": {},
   "outputs": [
    {
     "name": "stdout",
     "output_type": "stream",
     "text": [
      "Loading files : /data/lipidatlas/data/data_raw/20210210_MouseBrainCMC_S1AA1_2Dpixelmode_322x231_Att25_25um/20210210_MouseBrainCMC_S1AA1_2Dpixelmode_322x231_Att25_25umLoading files : /data/lipidatlas/data/data_raw/20210220_MouseBrainCMC_S7AF5_2Dpixelmode_427x263_Att25_25um/20210220_MouseBrainCMC_S7AF5_2Dpixelmode_427x263_Att25_25umLoading files : /data/lipidatlas/data/data_raw/20210224_MouseBrainCMC_S9AH4_2Dpixelmode_467x278_Att25_25um/20210224_MouseBrainCMC_S9AH4_2Dpixelmode_467x278_Att25_25umLoading files : /data/lipidatlas/data/data_raw/20210210_MouseBrainCMC_S10(brain2_20)_394x282_Att30_25um/20210210_MouseBrainCMC_S10(brain2_20)_394x282_Att30_25umLoading files : /data/lipidatlas/data/data_raw/20210531_MouseBrainCMC_S8_duplicate_2Dpixelmode_430x285_Att30_25um/20210531_MouseBrainCMC_S8_duplicate_2Dpixelmode_430x285_Att30_25umLoading files : /data/lipidatlas/data/data_raw/20210211_MouseBrainCMC_S2AB5_2Dpixelmode_370x214_Att25_25um/20210211_MouseBrainCMC_S2AB5_2Dpixelmode_370x214_Att25_25umLoading files : /data/lipidatlas/data/data_raw/20210213_MouseBrainCMC_S3AC4_2Dpixelmode_371x195_Att25_25um/20210213_MouseBrainCMC_S3AC4_2Dpixelmode_371x195_Att25_25umLoading files : /data/lipidatlas/data/data_raw/20210301_MouseBrainCMC_S11AK5_2Dpixelmode_448x277_Att25_25um/20210301_MouseBrainCMC_S11AK5_2Dpixelmode_448x277_Att25_25umLoading files : /data/lipidatlas/data/data_raw/20210303_MouseBrainCMC_S12AL1_2Dpixelmode_393x266_Att25_25um/20210303_MouseBrainCMC_S12AL1_2Dpixelmode_393x266_Att25_25umLoading files : /data/lipidatlas/data/data_raw/20210219_MouseBrainCMC_S6AE3_2Dpixelmode_423x282_Att25_25um/20210219_MouseBrainCMC_S6AE3_2Dpixelmode_423x282_Att25_25um\n",
      "\n",
      "\n",
      "\n",
      "\n",
      "\n",
      "\n",
      "\n",
      "\n",
      "\n",
      "Loading files : /data/lipidatlas/data/data_raw/20210218_MouseBrainCMC_S5AE3_2Dpixelmode_396x272_Att25_25um/20210218_MouseBrainCMC_S5AE3_2Dpixelmode_396x272_Att25_25umLoading files : /data/lipidatlas/data/data_raw/20210214_MouseBrainCMC_S4AD3_2Dpixelmode_354x228_Att25_25um/20210214_MouseBrainCMC_S4AD3_2Dpixelmode_354x228_Att25_25um\n",
      "\n",
      "[Warning] Not index found and build_index_from_scratch is False\n"
     ]
    },
    {
     "name": "stderr",
     "output_type": "stream",
     "text": [
      "WARNING:root:The mzML file containts more than the expected 74382 spectra. The tailing 25 spectra will be ignored.\n"
     ]
    },
    {
     "name": "stdout",
     "output_type": "stream",
     "text": [
      "[Warning] Not index found and build_index_from_scratch is False\n",
      "[Warning] Not index found and build_index_from_scratch is False\n"
     ]
    },
    {
     "name": "stderr",
     "output_type": "stream",
     "text": [
      "Loading Sprectra at resolution 1e-05:   0%|          | 0/74382 [00:00<?, ?it/s]WARNING:root:The mzML file containts more than the expected 80712 spectra. The tailing 2 spectra will be ignored.\n",
      "WARNING:root:The mzML file containts more than the expected 107712 spectra. The tailing 8 spectra will be ignored.\n",
      "Loading Sprectra at resolution 1e-05:   0%|          | 0/107712 [00:00<?, ?it/s]"
     ]
    },
    {
     "name": "stdout",
     "output_type": "stream",
     "text": [
      "[Warning] Not index found and build_index_from_scratch is False\n"
     ]
    },
    {
     "name": "stderr",
     "output_type": "stream",
     "text": [
      "WARNING:root:The mzML file containts more than the expected 104538 spectra. The tailing 21 spectra will be ignored.\n",
      "Loading Sprectra at resolution 1e-05:   0%|          | 0/104538 [00:00<?, ?it/s]"
     ]
    },
    {
     "name": "stdout",
     "output_type": "stream",
     "text": [
      "[Warning] Not index found and build_index_from_scratch is False\n",
      "[Warning] Not index found and build_index_from_scratch is False\n",
      "[Warning] Not index found and build_index_from_scratch is False\n"
     ]
    },
    {
     "name": "stderr",
     "output_type": "stream",
     "text": [
      "WARNING:root:The mzML file containts more than the expected 79180 spectra. The tailing 16 spectra will be ignored.\n",
      "WARNING:root:The mzML file containts more than the expected 112301 spectra. The tailing 5 spectra will be ignored.\n",
      "Loading Sprectra at resolution 1e-05:   0%|          | 0/112301 [00:00<?, ?it/s]"
     ]
    },
    {
     "name": "stdout",
     "output_type": "stream",
     "text": [
      "[Warning] Not index found and build_index_from_scratch is False[Warning] Not index found and build_index_from_scratch is False\n",
      "\n"
     ]
    },
    {
     "name": "stderr",
     "output_type": "stream",
     "text": [
      "WARNING:root:The mzML file containts more than the expected 111108 spectra. The tailing 1 spectra will be ignored.\n",
      "Loading Sprectra at resolution 1e-05:   0%|          | 0/111108 [00:00<?, ?it/s]"
     ]
    },
    {
     "name": "stdout",
     "output_type": "stream",
     "text": [
      "[Warning] Not index found and build_index_from_scratch is False"
     ]
    },
    {
     "name": "stderr",
     "output_type": "stream",
     "text": [
      "Loading Sprectra at resolution 1e-05:   0%|          | 1/74382 [00:00<13:58:23,  1.48it/s]"
     ]
    },
    {
     "name": "stdout",
     "output_type": "stream",
     "text": [
      "\n",
      "[Warning] Not index found and build_index_from_scratch is False\n"
     ]
    },
    {
     "name": "stderr",
     "output_type": "stream",
     "text": [
      "WARNING:root:The mzML file containts more than the expected 119286 spectra. The tailing 3 spectra will be ignored.\n",
      "WARNING:root:The mzML file containts more than the expected 72345 spectra. The tailing 21 spectra will be ignored.\n",
      "Loading Sprectra at resolution 1e-05:   0%|          | 0/119286 [00:00<?, ?it/s]WARNING:root:The mzML file containts more than the expected 129826 spectra. The tailing 8 spectra will be ignored.\n",
      "Loading Sprectra at resolution 1e-05:   0%|          | 236/74382 [00:00<03:00, 410.97it/s]"
     ]
    },
    {
     "name": "stdout",
     "output_type": "stream",
     "text": [
      "[Warning] Not index found and build_index_from_scratch is False\n"
     ]
    },
    {
     "name": "stderr",
     "output_type": "stream",
     "text": [
      "WARNING:root:The mzML file containts more than the expected 122550 spectra. The tailing 1 spectra will be ignored.\n",
      "Loading Sprectra at resolution 1e-05: 100%|██████████| 72345/72345 [00:35<00:00, 2054.78it/s]\n",
      "Loading Sprectra at resolution 1e-05: 100%|██████████| 80712/80712 [00:36<00:00, 2188.78it/s]\n",
      "Loading Sprectra at resolution 1e-05: 100%|██████████| 74382/74382 [00:38<00:00, 1951.70it/s]\n",
      "Loading Sprectra at resolution 1e-05: 100%|██████████| 79180/79180 [00:40<00:00, 1933.44it/s]\n",
      "Loading Sprectra at resolution 1e-05: 100%|██████████| 107712/107712 [00:46<00:00, 2304.97it/s]\n",
      "Loading Sprectra at resolution 1e-05: 100%|██████████| 104538/104538 [00:51<00:00, 2031.85it/s]\n",
      "Loading Sprectra at resolution 1e-05: 100%|██████████| 122550/122550 [00:54<00:00, 2263.47it/s]\n",
      "Loading Sprectra at resolution 1e-05: 100%|██████████| 111108/111108 [00:55<00:00, 2015.24it/s]\n",
      "Loading Sprectra at resolution 1e-05: 100%|██████████| 119286/119286 [01:02<00:00, 1894.87it/s]\n",
      "Loading Sprectra at resolution 1e-05: 100%|██████████| 112301/112301 [01:05<00:00, 1723.29it/s]\n",
      "Loading Sprectra at resolution 1e-05: 100%|██████████| 124096/124096 [01:06<00:00, 1862.11it/s]\n",
      "Loading the m/z values at resolution 1e-05: 100%|██████████| 80712/80712 [00:36<00:00, 2226.50it/s]\n",
      "Loading Sprectra at resolution 1e-05: 100%|██████████| 129826/129826 [01:14<00:00, 1752.85it/s]\n",
      "Loading the m/z values at resolution 1e-05: 100%|██████████| 72345/72345 [00:39<00:00, 1845.81it/s]\n",
      "Loading the m/z values at resolution 1e-05: 100%|██████████| 74382/74382 [00:38<00:00, 1939.78it/s]\n",
      "Loading the m/z values at resolution 1e-05: 100%|██████████| 107712/107712 [00:38<00:00, 2795.54it/s]\n",
      "Loading the m/z values at resolution 1e-05:  11%|█         | 14319/129826 [00:10<01:20, 1440.20it/s]WARNING:root:The sparsified dense matrix S has never been computed. Please wait while it's being generated.\n",
      "Loading the m/z values at resolution 1e-05: 100%|██████████| 79180/79180 [00:44<00:00, 1795.00it/s]\n",
      "Loading the m/z values at resolution 1e-05:  67%|██████▋   | 69853/104538 [00:33<00:19, 1817.72it/s]WARNING:root:The sparsified dense matrix S has never been computed. Please wait while it's being generated.\n",
      "Loading the m/z values at resolution 1e-05:  72%|███████▏  | 75512/104538 [00:37<00:15, 1869.03it/s]WARNING:root:The sparsified dense matrix S has never been computed. Please wait while it's being generated.\n",
      "Loading the m/z values at resolution 1e-05:  64%|██████▍   | 71430/111108 [00:40<00:19, 2055.01it/s]WARNING:root:The sparsified dense matrix S has never been computed. Please wait while it's being generated.\n",
      "Loading the m/z values at resolution 1e-05:  47%|████▋     | 57759/124096 [00:32<00:41, 1607.73it/s]WARNING:root:The sparsified dense matrix S has never been computed. Please wait while it's being generated.\n",
      "Loading the m/z values at resolution 1e-05: 100%|██████████| 122550/122550 [00:51<00:00, 2384.70it/s]\n",
      "Loading the m/z values at resolution 1e-05: 100%|██████████| 104538/104538 [00:54<00:00, 1919.35it/s]\n",
      "Loading the m/z values at resolution 1e-05: 100%|██████████| 111108/111108 [01:02<00:00, 1773.13it/s]\n",
      "Loading the m/z values at resolution 1e-05:  85%|████████▌ | 101782/119286 [00:56<00:11, 1511.57it/s]WARNING:root:The sparsified dense matrix S has never been computed. Please wait while it's being generated.\n",
      "Loading the m/z values at resolution 1e-05:  51%|█████▏    | 66746/129826 [00:47<00:41, 1527.25it/s]WARNING:root:The sparsified dense matrix S has never been computed. Please wait while it's being generated.\n",
      "Loading the m/z values at resolution 1e-05:  98%|█████████▊| 117468/119286 [01:09<00:01, 1023.58it/s]WARNING:root:The sparsified dense matrix S has never been computed. Please wait while it's being generated.\n",
      "Loading the m/z values at resolution 1e-05: 100%|██████████| 119286/119286 [01:11<00:00, 1675.16it/s]\n",
      "Loading the m/z values at resolution 1e-05: 100%|██████████| 112301/112301 [01:21<00:00, 1383.23it/s]\n",
      "Loading the m/z values at resolution 1e-05: 100%|██████████| 124096/124096 [01:19<00:00, 1558.54it/s]\n",
      "Loading the m/z values at resolution 1e-05:  83%|████████▎ | 108124/129826 [01:14<00:14, 1469.85it/s]WARNING:root:The sparsified dense matrix S has never been computed. Please wait while it's being generated.\n",
      "Loading the m/z values at resolution 1e-05:  95%|█████████▍| 122728/129826 [01:26<00:06, 1033.00it/s]WARNING:root:The sparsified dense matrix S has never been computed. Please wait while it's being generated.\n",
      "Loading the m/z values at resolution 1e-05:  95%|█████████▌| 123355/129826 [01:27<00:06, 940.38it/s]WARNING:root:The sparsified dense matrix S has never been computed. Please wait while it's being generated.\n",
      "Loading the m/z values at resolution 1e-05: 100%|██████████| 129826/129826 [01:33<00:00, 1382.55it/s]\n",
      "WARNING:root:The sparsified dense matrix S has never been computed. Please wait while it's being generated.\n"
     ]
    },
    {
     "name": "stdout",
     "output_type": "stream",
     "text": [
      "Creating and sorting dataframes\n",
      "Creating and sorting dataframes\n",
      "Creating and sorting dataframes\n",
      "Creating and sorting dataframes\n",
      "Creating and sorting dataframes\n",
      "Creating and sorting dataframes\n",
      "Creating and sorting dataframes\n",
      "Creating and sorting dataframes\n",
      "Creating and sorting dataframes\n",
      "Getting spectrums array averaged accross pixels\n",
      "Build the low-resolution averaged array from the high resolution averaged array\n",
      "Double sorting high-res array\n",
      "Creating and sorting dataframes\n",
      "Getting corresponding spectra arrays\n",
      "Saving : /data/lipidatlas/data/data_raw/20210210_MouseBrainCMC_S1AA1_2Dpixelmode_322x231_Att25_25um/20210210_MouseBrainCMC_S1AA1_2Dpixelmode_322x231_Att25_25um\n",
      "Creating and sorting dataframes\n",
      "Loading files : /data/lipidatlas/data/data_raw/20210304_MouseBrainCMC_S13AM1_2Dpixelmode_413x310_Att25_25um/20210304_MouseBrainCMC_S13AM1_2Dpixelmode_413x310_Att25_25um\n",
      "[Warning] Not index found and build_index_from_scratch is False\n"
     ]
    },
    {
     "name": "stderr",
     "output_type": "stream",
     "text": [
      "Loading Sprectra at resolution 1e-05:  75%|███████▌  | 96442/128030 [00:51<00:15, 2030.39it/s]"
     ]
    },
    {
     "name": "stdout",
     "output_type": "stream",
     "text": [
      "Creating and sorting dataframes\n"
     ]
    },
    {
     "name": "stderr",
     "output_type": "stream",
     "text": [
      "Loading Sprectra at resolution 1e-05: 100%|██████████| 128030/128030 [01:08<00:00, 1855.98it/s]\n",
      "Loading the m/z values at resolution 1e-05: 100%|██████████| 128030/128030 [01:26<00:00, 1481.09it/s]\n",
      "WARNING:root:The sparsified dense matrix S has never been computed. Please wait while it's being generated.\n"
     ]
    },
    {
     "name": "stdout",
     "output_type": "stream",
     "text": [
      "Getting spectrums array averaged accross pixels\n",
      "Build the low-resolution averaged array from the high resolution averaged array\n",
      "Double sorting high-res array\n",
      "Getting corresponding spectra arrays\n",
      "Saving : /data/lipidatlas/data/data_raw/20210211_MouseBrainCMC_S2AB5_2Dpixelmode_370x214_Att25_25um/20210211_MouseBrainCMC_S2AB5_2Dpixelmode_370x214_Att25_25um\n",
      "Loading files : /data/lipidatlas/data/data_raw/20210305_MouseBrainCMC_S14AN1_2Dpixelmode_409x285_Att25_25um/20210305_MouseBrainCMC_S14AN1_2Dpixelmode_409x285_Att25_25um\n",
      "[Warning] Not index found and build_index_from_scratch is False\n"
     ]
    },
    {
     "name": "stderr",
     "output_type": "stream",
     "text": [
      "WARNING:root:The mzML file containts more than the expected 116565 spectra. The tailing 57 spectra will be ignored.\n",
      "Loading Sprectra at resolution 1e-05: 100%|██████████| 116565/116565 [01:03<00:00, 1848.49it/s]\n",
      "Loading the m/z values at resolution 1e-05: 100%|██████████| 116565/116565 [01:19<00:00, 1473.56it/s]\n",
      "WARNING:root:The sparsified dense matrix S has never been computed. Please wait while it's being generated.\n"
     ]
    },
    {
     "name": "stdout",
     "output_type": "stream",
     "text": [
      "Getting spectrums array averaged accross pixels\n",
      "Build the low-resolution averaged array from the high resolution averaged array\n",
      "Double sorting high-res array\n",
      "Getting corresponding spectra arrays\n",
      "Saving : /data/lipidatlas/data/data_raw/20210213_MouseBrainCMC_S3AC4_2Dpixelmode_371x195_Att25_25um/20210213_MouseBrainCMC_S3AC4_2Dpixelmode_371x195_Att25_25um\n",
      "Loading files : /data/lipidatlas/data/data_raw/20210313_MouseBrainCMC_S15AO2_2Dpixelmode_451x292_Att25_25um/20210313_MouseBrainCMC_S15AO2_2Dpixelmode_451x292_Att25_25um\n",
      "[Warning] Not index found and build_index_from_scratch is False\n"
     ]
    },
    {
     "name": "stderr",
     "output_type": "stream",
     "text": [
      "WARNING:root:The mzML file containts more than the expected 131692 spectra. The tailing 9 spectra will be ignored.\n",
      "Loading Sprectra at resolution 1e-05:  31%|███       | 40190/131692 [00:21<01:05, 1392.23it/s]"
     ]
    },
    {
     "name": "stdout",
     "output_type": "stream",
     "text": [
      "Getting spectrums array averaged accross pixels\n"
     ]
    },
    {
     "name": "stderr",
     "output_type": "stream",
     "text": [
      "Loading Sprectra at resolution 1e-05:  35%|███▍      | 45833/131692 [00:24<00:45, 1900.92it/s]"
     ]
    },
    {
     "name": "stdout",
     "output_type": "stream",
     "text": [
      "Build the low-resolution averaged array from the high resolution averaged array\n"
     ]
    },
    {
     "name": "stderr",
     "output_type": "stream",
     "text": [
      "Loading Sprectra at resolution 1e-05:  35%|███▌      | 46617/131692 [00:24<00:44, 1904.01it/s]"
     ]
    },
    {
     "name": "stdout",
     "output_type": "stream",
     "text": [
      "Double sorting high-res array\n"
     ]
    },
    {
     "name": "stderr",
     "output_type": "stream",
     "text": [
      "Loading Sprectra at resolution 1e-05:  70%|███████   | 92693/131692 [00:50<00:29, 1331.72it/s]"
     ]
    },
    {
     "name": "stdout",
     "output_type": "stream",
     "text": [
      "Getting corresponding spectra arrays\n"
     ]
    },
    {
     "name": "stderr",
     "output_type": "stream",
     "text": [
      "Loading Sprectra at resolution 1e-05:  71%|███████▏  | 94147/131692 [00:51<00:21, 1784.95it/s]"
     ]
    },
    {
     "name": "stdout",
     "output_type": "stream",
     "text": [
      "Saving : /data/lipidatlas/data/data_raw/20210214_MouseBrainCMC_S4AD3_2Dpixelmode_354x228_Att25_25um/20210214_MouseBrainCMC_S4AD3_2Dpixelmode_354x228_Att25_25um\n"
     ]
    },
    {
     "name": "stderr",
     "output_type": "stream",
     "text": [
      "Loading Sprectra at resolution 1e-05:  77%|███████▋  | 101926/131692 [00:56<00:16, 1830.92it/s]"
     ]
    },
    {
     "name": "stdout",
     "output_type": "stream",
     "text": [
      "Loading files : /data/lipidatlas/data/data_raw/20210530_MouseBrainCMC_S16_duplicate_2Dpixelmode_454x295_Att30_25um/20210530_MouseBrainCMC_S16_duplicate_2Dpixelmode_454x295_Att30_25um\n"
     ]
    },
    {
     "name": "stderr",
     "output_type": "stream",
     "text": [
      "Loading Sprectra at resolution 1e-05:  78%|███████▊  | 102295/131692 [00:56<00:16, 1805.93it/s]"
     ]
    },
    {
     "name": "stdout",
     "output_type": "stream",
     "text": [
      "[Warning] Not index found and build_index_from_scratch is False\n"
     ]
    },
    {
     "name": "stderr",
     "output_type": "stream",
     "text": [
      "Loading Sprectra at resolution 1e-05: 100%|██████████| 131692/131692 [01:16<00:00, 1727.50it/s]\n",
      "Loading Sprectra at resolution 1e-05: 100%|██████████| 133930/133930 [01:22<00:00, 1627.04it/s]\n",
      "Loading the m/z values at resolution 1e-05: 100%|██████████| 131692/131692 [01:53<00:00, 1164.84it/s]\n",
      "Loading the m/z values at resolution 1e-05:  66%|██████▌   | 88420/133930 [01:11<00:28, 1604.67it/s]WARNING:root:The sparsified dense matrix S has never been computed. Please wait while it's being generated.\n",
      "Loading the m/z values at resolution 1e-05: 100%|██████████| 133930/133930 [01:43<00:00, 1300.13it/s]\n",
      "WARNING:root:The sparsified dense matrix S has never been computed. Please wait while it's being generated.\n"
     ]
    },
    {
     "name": "stdout",
     "output_type": "stream",
     "text": [
      "Getting spectrums array averaged accross pixels\n",
      "Build the low-resolution averaged array from the high resolution averaged array\n",
      "Double sorting high-res array\n",
      "Getting corresponding spectra arrays\n",
      "Saving : /data/lipidatlas/data/data_raw/20210303_MouseBrainCMC_S12AL1_2Dpixelmode_393x266_Att25_25um/20210303_MouseBrainCMC_S12AL1_2Dpixelmode_393x266_Att25_25um\n",
      "Loading files : /data/lipidatlas/data/data_raw/20210319_MouseBrainCMC_S17AQ2_2Dpixelmode_450x287_Att30_25um/20210319_MouseBrainCMC_S17AQ2_2Dpixelmode_450x287_Att30_25um\n",
      "[Warning] Not index found and build_index_from_scratch is False\n"
     ]
    },
    {
     "name": "stderr",
     "output_type": "stream",
     "text": [
      "WARNING:root:The mzML file containts more than the expected 129150 spectra. The tailing 44 spectra will be ignored.\n",
      "Loading Sprectra at resolution 1e-05: 100%|██████████| 129150/129150 [01:15<00:00, 1700.60it/s]\n",
      "Loading the m/z values at resolution 1e-05:  73%|███████▎  | 94548/129150 [01:05<00:24, 1428.08it/s]"
     ]
    },
    {
     "name": "stdout",
     "output_type": "stream",
     "text": [
      "Getting spectrums array averaged accross pixels\n"
     ]
    },
    {
     "name": "stderr",
     "output_type": "stream",
     "text": [
      "Loading the m/z values at resolution 1e-05:  78%|███████▊  | 100814/129150 [01:10<00:20, 1395.25it/s]"
     ]
    },
    {
     "name": "stdout",
     "output_type": "stream",
     "text": [
      "Build the low-resolution averaged array from the high resolution averaged array\n"
     ]
    },
    {
     "name": "stderr",
     "output_type": "stream",
     "text": [
      "Loading the m/z values at resolution 1e-05:  78%|███████▊  | 101270/129150 [01:10<00:19, 1396.36it/s]"
     ]
    },
    {
     "name": "stdout",
     "output_type": "stream",
     "text": [
      "Double sorting high-res array\n"
     ]
    },
    {
     "name": "stderr",
     "output_type": "stream",
     "text": [
      "Loading the m/z values at resolution 1e-05: 100%|██████████| 129150/129150 [01:38<00:00, 1310.95it/s]\n"
     ]
    },
    {
     "name": "stdout",
     "output_type": "stream",
     "text": [
      "Getting corresponding spectra arrays\n",
      "Saving : /data/lipidatlas/data/data_raw/20210218_MouseBrainCMC_S5AE3_2Dpixelmode_396x272_Att25_25um/20210218_MouseBrainCMC_S5AE3_2Dpixelmode_396x272_Att25_25um\n",
      "Loading files : /data/lipidatlas/data/data_raw/20210323_MouseBrainCMC_S18AR4_2Dpixelmode_474x291_Att30_25um/20210323_MouseBrainCMC_S18AR4_2Dpixelmode_474x291_Att30_25um\n",
      "[Warning] Not index found and build_index_from_scratch is False\n"
     ]
    },
    {
     "name": "stderr",
     "output_type": "stream",
     "text": [
      "Loading Sprectra at resolution 1e-05:  10%|█         | 13856/137934 [00:06<00:51, 2420.17it/s]WARNING:root:The sparsified dense matrix S has never been computed. Please wait while it's being generated.\n",
      "Loading Sprectra at resolution 1e-05: 100%|██████████| 137934/137934 [01:08<00:00, 2023.79it/s]\n",
      "Loading the m/z values at resolution 1e-05: 100%|██████████| 137934/137934 [01:25<00:00, 1609.33it/s]\n",
      "WARNING:root:The sparsified dense matrix S has never been computed. Please wait while it's being generated.\n"
     ]
    },
    {
     "name": "stdout",
     "output_type": "stream",
     "text": [
      "Creating and sorting dataframes\n",
      "Getting spectrums array averaged accross pixels\n",
      "Build the low-resolution averaged array from the high resolution averaged array\n",
      "Double sorting high-res array\n",
      "Getting spectrums array averaged accross pixels\n",
      "Build the low-resolution averaged array from the high resolution averaged array\n",
      "Double sorting high-res array\n",
      "Getting corresponding spectra arrays\n",
      "Saving : /data/lipidatlas/data/data_raw/20210210_MouseBrainCMC_S10(brain2_20)_394x282_Att30_25um/20210210_MouseBrainCMC_S10(brain2_20)_394x282_Att30_25um\n",
      "Loading files : /data/lipidatlas/data/data_raw/20210325_MouseBrainCMC_S19AS4_2Dpixelmode_396x232_Att30_25um/20210325_MouseBrainCMC_S19AS4_2Dpixelmode_396x232_Att30_25um\n",
      "[Warning] Not index found and build_index_from_scratch is False\n"
     ]
    },
    {
     "name": "stderr",
     "output_type": "stream",
     "text": [
      "WARNING:root:The mzML file containts more than the expected 91872 spectra. The tailing 16 spectra will be ignored.\n",
      "Loading Sprectra at resolution 1e-05:  34%|███▎      | 30833/91872 [00:15<00:30, 1994.99it/s]"
     ]
    },
    {
     "name": "stdout",
     "output_type": "stream",
     "text": [
      "Creating and sorting dataframes\n"
     ]
    },
    {
     "name": "stderr",
     "output_type": "stream",
     "text": [
      "Loading Sprectra at resolution 1e-05:  58%|█████▊    | 53266/91872 [00:26<00:18, 2081.33it/s]"
     ]
    },
    {
     "name": "stdout",
     "output_type": "stream",
     "text": [
      "Getting corresponding spectra arrays\n"
     ]
    },
    {
     "name": "stderr",
     "output_type": "stream",
     "text": [
      "Loading Sprectra at resolution 1e-05:  65%|██████▍   | 59648/91872 [00:30<00:18, 1775.24it/s]"
     ]
    },
    {
     "name": "stdout",
     "output_type": "stream",
     "text": [
      "Saving : /data/lipidatlas/data/data_raw/20210220_MouseBrainCMC_S7AF5_2Dpixelmode_427x263_Att25_25um/20210220_MouseBrainCMC_S7AF5_2Dpixelmode_427x263_Att25_25um\n"
     ]
    },
    {
     "name": "stderr",
     "output_type": "stream",
     "text": [
      "Loading Sprectra at resolution 1e-05:  84%|████████▍ | 77532/91872 [00:38<00:06, 2169.13it/s]"
     ]
    },
    {
     "name": "stdout",
     "output_type": "stream",
     "text": [
      "Loading files : /data/lipidatlas/data/data_raw/20210330_MouseBrainCMC_S20AT3_2Dpixelmode_396x266_Att30_25um/20210330_MouseBrainCMC_S20AT3_2Dpixelmode_396x266_Att30_25um\n"
     ]
    },
    {
     "name": "stderr",
     "output_type": "stream",
     "text": [
      "Loading Sprectra at resolution 1e-05:  85%|████████▍ | 77981/91872 [00:38<00:06, 2202.73it/s]"
     ]
    },
    {
     "name": "stdout",
     "output_type": "stream",
     "text": [
      "[Warning] Not index found and build_index_from_scratch is False\n"
     ]
    },
    {
     "name": "stderr",
     "output_type": "stream",
     "text": [
      "WARNING:root:The mzML file containts more than the expected 105336 spectra. The tailing 15 spectra will be ignored.\n",
      "Loading Sprectra at resolution 1e-05: 100%|██████████| 91872/91872 [00:45<00:00, 2005.81it/s]\n",
      "Loading Sprectra at resolution 1e-05: 100%|██████████| 105336/105336 [00:54<00:00, 1931.26it/s]\n",
      "Loading the m/z values at resolution 1e-05: 100%|██████████| 91872/91872 [00:54<00:00, 1701.30it/s]\n",
      "Loading the m/z values at resolution 1e-05:  34%|███▎      | 35479/105336 [00:19<00:45, 1538.33it/s]WARNING:root:The sparsified dense matrix S has never been computed. Please wait while it's being generated.\n",
      "Loading the m/z values at resolution 1e-05: 100%|██████████| 105336/105336 [01:02<00:00, 1689.87it/s]\n"
     ]
    },
    {
     "name": "stdout",
     "output_type": "stream",
     "text": [
      "Getting spectrums array averaged accross pixels\n"
     ]
    },
    {
     "name": "stderr",
     "output_type": "stream",
     "text": [
      "WARNING:root:The sparsified dense matrix S has never been computed. Please wait while it's being generated.\n"
     ]
    },
    {
     "name": "stdout",
     "output_type": "stream",
     "text": [
      "Build the low-resolution averaged array from the high resolution averaged array\n",
      "Double sorting high-res array\n",
      "Getting corresponding spectra arrays\n",
      "Saving : /data/lipidatlas/data/data_raw/20210219_MouseBrainCMC_S6AE3_2Dpixelmode_423x282_Att25_25um/20210219_MouseBrainCMC_S6AE3_2Dpixelmode_423x282_Att25_25um\n",
      "Loading files : /data/lipidatlas/data/data_raw/20210408_MouseBrainCMC_S21AU4_2Dpixelmode_394x215_Att30_25um/20210408_MouseBrainCMC_S21AU4_2Dpixelmode_394x215_Att30_25um\n",
      "[Warning] Not index found and build_index_from_scratch is False\n"
     ]
    },
    {
     "name": "stderr",
     "output_type": "stream",
     "text": [
      "WARNING:root:The mzML file containts more than the expected 84710 spectra. The tailing 14 spectra will be ignored.\n",
      "Loading Sprectra at resolution 1e-05: 100%|██████████| 84710/84710 [00:43<00:00, 1954.11it/s]\n",
      "Loading the m/z values at resolution 1e-05: 100%|██████████| 84710/84710 [00:52<00:00, 1627.07it/s]\n",
      "WARNING:root:The sparsified dense matrix S has never been computed. Please wait while it's being generated.\n"
     ]
    },
    {
     "name": "stdout",
     "output_type": "stream",
     "text": [
      "Getting spectrums array averaged accross pixels\n",
      "Build the low-resolution averaged array from the high resolution averaged array\n",
      "Double sorting high-res array\n",
      "Getting corresponding spectra arrays\n",
      "Saving : /data/lipidatlas/data/data_raw/20210531_MouseBrainCMC_S8_duplicate_2Dpixelmode_430x285_Att30_25um/20210531_MouseBrainCMC_S8_duplicate_2Dpixelmode_430x285_Att30_25um\n",
      "Loading files : /data/lipidatlas/data/data_raw/20210409_MouseBrainCMC_S22AV1_2Dpixelmode_416x207_Att30_25um/20210409_MouseBrainCMC_S22AV1_2Dpixelmode_416x207_Att30_25um\n",
      "[Warning] Not index found and build_index_from_scratch is False\n"
     ]
    },
    {
     "name": "stderr",
     "output_type": "stream",
     "text": [
      "WARNING:root:The mzML file containts more than the expected 86112 spectra. The tailing 67 spectra will be ignored.\n",
      "Loading Sprectra at resolution 1e-05: 100%|██████████| 86112/86112 [01:00<00:00, 1420.60it/s]\n",
      "Loading the m/z values at resolution 1e-05:  18%|█▊        | 15817/86112 [00:16<01:10, 1000.24it/s]"
     ]
    },
    {
     "name": "stdout",
     "output_type": "stream",
     "text": [
      "Creating and sorting dataframes\n"
     ]
    },
    {
     "name": "stderr",
     "output_type": "stream",
     "text": [
      "Loading the m/z values at resolution 1e-05:  66%|██████▌   | 56973/86112 [01:00<00:27, 1043.99it/s]"
     ]
    },
    {
     "name": "stdout",
     "output_type": "stream",
     "text": [
      "Getting spectrums array averaged accross pixels\n"
     ]
    },
    {
     "name": "stderr",
     "output_type": "stream",
     "text": [
      "Loading the m/z values at resolution 1e-05:  90%|█████████ | 77680/86112 [01:26<00:13, 625.62it/s]"
     ]
    },
    {
     "name": "stdout",
     "output_type": "stream",
     "text": [
      "Build the low-resolution averaged array from the high resolution averaged array\n"
     ]
    },
    {
     "name": "stderr",
     "output_type": "stream",
     "text": [
      "Loading the m/z values at resolution 1e-05:  91%|█████████ | 78034/86112 [01:27<00:15, 514.08it/s]"
     ]
    },
    {
     "name": "stdout",
     "output_type": "stream",
     "text": [
      "Double sorting high-res array\n"
     ]
    },
    {
     "name": "stderr",
     "output_type": "stream",
     "text": [
      "Loading the m/z values at resolution 1e-05: 100%|██████████| 86112/86112 [01:39<00:00, 868.96it/s]\n",
      "WARNING:root:The sparsified dense matrix S has never been computed. Please wait while it's being generated.\n"
     ]
    },
    {
     "name": "stdout",
     "output_type": "stream",
     "text": [
      "Creating and sorting dataframes\n",
      "Getting spectrums array averaged accross pixels\n",
      "Build the low-resolution averaged array from the high resolution averaged array\n",
      "Getting corresponding spectra arrays\n",
      "Double sorting high-res array\n",
      "Saving : /data/lipidatlas/data/data_raw/20210301_MouseBrainCMC_S11AK5_2Dpixelmode_448x277_Att25_25um/20210301_MouseBrainCMC_S11AK5_2Dpixelmode_448x277_Att25_25um\n",
      "Loading files : /data/lipidatlas/data/data_raw/20210412_MouseBrainCMC_S23AZ1_2Dpixelmode_360x260_Att30_25um/20210412_MouseBrainCMC_S23AZ1_2Dpixelmode_360x260_Att30_25um\n",
      "[Warning] Not index found and build_index_from_scratch is False\n"
     ]
    },
    {
     "name": "stderr",
     "output_type": "stream",
     "text": [
      "WARNING:root:The mzML file containts more than the expected 93600 spectra. The tailing 11 spectra will be ignored.\n",
      "Loading Sprectra at resolution 1e-05: 100%|██████████| 93600/93600 [00:53<00:00, 1746.19it/s]\n",
      "Loading the m/z values at resolution 1e-05:  87%|████████▋ | 81152/93600 [00:58<00:12, 963.93it/s]"
     ]
    },
    {
     "name": "stdout",
     "output_type": "stream",
     "text": [
      "Getting corresponding spectra arrays\n"
     ]
    },
    {
     "name": "stderr",
     "output_type": "stream",
     "text": [
      "Loading the m/z values at resolution 1e-05:  92%|█████████▏| 86478/93600 [01:02<00:04, 1678.28it/s]"
     ]
    },
    {
     "name": "stdout",
     "output_type": "stream",
     "text": [
      "Saving : /data/lipidatlas/data/data_raw/20210224_MouseBrainCMC_S9AH4_2Dpixelmode_467x278_Att25_25um/20210224_MouseBrainCMC_S9AH4_2Dpixelmode_467x278_Att25_25um\n"
     ]
    },
    {
     "name": "stderr",
     "output_type": "stream",
     "text": [
      "Loading the m/z values at resolution 1e-05: 100%|██████████| 93600/93600 [01:06<00:00, 1403.33it/s]\n"
     ]
    },
    {
     "name": "stdout",
     "output_type": "stream",
     "text": [
      "Loading files : /data/lipidatlas/data/data_raw/20210413_MouseBrainCMC_S24_3_2Dpixelmode_327x328_Att30_25um/20210413_MouseBrainCMC_S24_3_2Dpixelmode_327x328_Att30_25um\n",
      "[Warning] Not index found and build_index_from_scratch is False\n"
     ]
    },
    {
     "name": "stderr",
     "output_type": "stream",
     "text": [
      "WARNING:root:The mzML file containts more than the expected 107256 spectra. The tailing 13 spectra will be ignored.\n",
      "Loading Sprectra at resolution 1e-05:   9%|▉         | 10051/107256 [00:06<00:53, 1816.29it/s]WARNING:root:The sparsified dense matrix S has never been computed. Please wait while it's being generated.\n",
      "Loading Sprectra at resolution 1e-05: 100%|██████████| 107256/107256 [00:54<00:00, 1965.28it/s]\n",
      "Loading the m/z values at resolution 1e-05: 100%|██████████| 107256/107256 [01:06<00:00, 1619.46it/s]\n",
      "WARNING:root:The sparsified dense matrix S has never been computed. Please wait while it's being generated.\n"
     ]
    },
    {
     "name": "stdout",
     "output_type": "stream",
     "text": [
      "Creating and sorting dataframes\n",
      "Creating and sorting dataframes\n",
      "Creating and sorting dataframes\n",
      "Creating and sorting dataframes\n",
      "Creating and sorting dataframes\n",
      "Creating and sorting dataframes\n",
      "Creating and sorting dataframes\n",
      "Creating and sorting dataframes\n",
      "Getting spectrums array averaged accross pixels\n",
      "Build the low-resolution averaged array from the high resolution averaged array\n",
      "Double sorting high-res array\n",
      "Getting corresponding spectra arrays\n",
      "Saving : /data/lipidatlas/data/data_raw/20210305_MouseBrainCMC_S14AN1_2Dpixelmode_409x285_Att25_25um/20210305_MouseBrainCMC_S14AN1_2Dpixelmode_409x285_Att25_25um\n",
      "Loading files : /data/lipidatlas/data/data_raw/20210414_MouseBrainCMC_S25_2_2Dpixelmode_358x238_Att30_25um/20210414_MouseBrainCMC_S25_2_2Dpixelmode_358x238_Att30_25um\n",
      "[Warning] Not index found and build_index_from_scratch is False\n"
     ]
    },
    {
     "name": "stderr",
     "output_type": "stream",
     "text": [
      "WARNING:root:The mzML file containts more than the expected 85204 spectra. The tailing 21 spectra will be ignored.\n",
      "Loading Sprectra at resolution 1e-05: 100%|██████████| 85204/85204 [00:45<00:00, 1861.43it/s]\n",
      "Loading the m/z values at resolution 1e-05: 100%|██████████| 85204/85204 [01:00<00:00, 1414.60it/s]\n"
     ]
    },
    {
     "name": "stdout",
     "output_type": "stream",
     "text": [
      "Getting spectrums array averaged accross pixels\n",
      "Build the low-resolution averaged array from the high resolution averaged array\n",
      "Double sorting high-res array\n"
     ]
    },
    {
     "name": "stderr",
     "output_type": "stream",
     "text": [
      "WARNING:root:The sparsified dense matrix S has never been computed. Please wait while it's being generated.\n"
     ]
    },
    {
     "name": "stdout",
     "output_type": "stream",
     "text": [
      "Getting corresponding spectra arrays\n",
      "Saving : /data/lipidatlas/data/data_raw/20210304_MouseBrainCMC_S13AM1_2Dpixelmode_413x310_Att25_25um/20210304_MouseBrainCMC_S13AM1_2Dpixelmode_413x310_Att25_25um\n",
      "Loading files : /data/lipidatlas/data/data_raw/20210419_MouseBrainCMC_S26_3_2Dpixelmode_340x248_Att30_25um/20210419_MouseBrainCMC_S26_3_2Dpixelmode_340x248_Att30_25um\n",
      "[Warning] Not index found and build_index_from_scratch is False\n"
     ]
    },
    {
     "name": "stderr",
     "output_type": "stream",
     "text": [
      "WARNING:root:The mzML file containts more than the expected 84320 spectra. The tailing 23 spectra will be ignored.\n",
      "Loading Sprectra at resolution 1e-05: 100%|██████████| 84320/84320 [00:53<00:00, 1572.12it/s]\n",
      "Loading the m/z values at resolution 1e-05: 100%|██████████| 84320/84320 [01:09<00:00, 1216.25it/s]\n",
      "WARNING:root:The sparsified dense matrix S has never been computed. Please wait while it's being generated.\n"
     ]
    },
    {
     "name": "stdout",
     "output_type": "stream",
     "text": [
      "Getting spectrums array averaged accross pixels\n",
      "Build the low-resolution averaged array from the high resolution averaged array\n",
      "Double sorting high-res array\n",
      "Getting corresponding spectra arrays\n",
      "Saving : /data/lipidatlas/data/data_raw/20210325_MouseBrainCMC_S19AS4_2Dpixelmode_396x232_Att30_25um/20210325_MouseBrainCMC_S19AS4_2Dpixelmode_396x232_Att30_25um\n",
      "Loading files : /data/lipidatlas/data/data_raw/20210603_MouseBrainCMC_S27_duplicate_2Dpixelmode_372x272_Att30_25um/20210603_MouseBrainCMC_S27_duplicate_2Dpixelmode_372x272_Att30_25um\n",
      "[Warning] Not index found and build_index_from_scratch is False\n"
     ]
    },
    {
     "name": "stderr",
     "output_type": "stream",
     "text": [
      "WARNING:root:The mzML file containts more than the expected 101184 spectra. The tailing 16 spectra will be ignored.\n",
      "Loading Sprectra at resolution 1e-05: 100%|██████████| 101184/101184 [01:04<00:00, 1570.09it/s]\n",
      "Loading the m/z values at resolution 1e-05:  43%|████▎     | 43521/101184 [00:33<00:47, 1203.40it/s]"
     ]
    },
    {
     "name": "stdout",
     "output_type": "stream",
     "text": [
      "Getting spectrums array averaged accross pixels\n"
     ]
    },
    {
     "name": "stderr",
     "output_type": "stream",
     "text": [
      "Loading the m/z values at resolution 1e-05:  44%|████▍     | 44759/101184 [00:35<00:47, 1192.99it/s]"
     ]
    },
    {
     "name": "stdout",
     "output_type": "stream",
     "text": [
      "Build the low-resolution averaged array from the high resolution averaged array\n",
      "Double sorting high-res array\n"
     ]
    },
    {
     "name": "stderr",
     "output_type": "stream",
     "text": [
      "Loading the m/z values at resolution 1e-05:  57%|█████▋    | 57513/101184 [00:46<00:38, 1123.96it/s]"
     ]
    },
    {
     "name": "stdout",
     "output_type": "stream",
     "text": [
      "Getting corresponding spectra arrays\n"
     ]
    },
    {
     "name": "stderr",
     "output_type": "stream",
     "text": [
      "Loading the m/z values at resolution 1e-05:  57%|█████▋    | 57869/101184 [00:46<00:38, 1120.86it/s]"
     ]
    },
    {
     "name": "stdout",
     "output_type": "stream",
     "text": [
      "Saving : /data/lipidatlas/data/data_raw/20210408_MouseBrainCMC_S21AU4_2Dpixelmode_394x215_Att30_25um/20210408_MouseBrainCMC_S21AU4_2Dpixelmode_394x215_Att30_25um\n"
     ]
    },
    {
     "name": "stderr",
     "output_type": "stream",
     "text": [
      "Loading the m/z values at resolution 1e-05:  59%|█████▉    | 60184/101184 [00:48<00:36, 1120.75it/s]"
     ]
    },
    {
     "name": "stdout",
     "output_type": "stream",
     "text": [
      "Loading files : /data/lipidatlas/data/data_raw/20210423_MouseBrainCMC_S28_3_2Dpixelmode_390x244_Att30_25um/20210423_MouseBrainCMC_S28_3_2Dpixelmode_390x244_Att30_25um\n"
     ]
    },
    {
     "name": "stderr",
     "output_type": "stream",
     "text": [
      "Loading the m/z values at resolution 1e-05:  60%|█████▉    | 60326/101184 [00:48<00:33, 1203.20it/s]"
     ]
    },
    {
     "name": "stdout",
     "output_type": "stream",
     "text": [
      "[Warning] Not index found and build_index_from_scratch is False\n"
     ]
    },
    {
     "name": "stderr",
     "output_type": "stream",
     "text": [
      "WARNING:root:The mzML file containts more than the expected 95160 spectra. The tailing 5 spectra will be ignored.\n",
      "Loading the m/z values at resolution 1e-05: 100%|██████████| 101184/101184 [01:34<00:00, 1070.51it/s]\n",
      "Loading Sprectra at resolution 1e-05: 100%|██████████| 95160/95160 [00:49<00:00, 1906.29it/s]\n",
      "Loading the m/z values at resolution 1e-05:  19%|█▉        | 17933/95160 [00:10<00:39, 1970.49it/s]WARNING:root:The sparsified dense matrix S has never been computed. Please wait while it's being generated.\n",
      "Loading the m/z values at resolution 1e-05:  73%|███████▎  | 69349/95160 [00:41<00:14, 1792.34it/s]"
     ]
    },
    {
     "name": "stdout",
     "output_type": "stream",
     "text": [
      "Getting spectrums array averaged accross pixels\n"
     ]
    },
    {
     "name": "stderr",
     "output_type": "stream",
     "text": [
      "Loading the m/z values at resolution 1e-05:  76%|███████▋  | 72695/95160 [00:43<00:12, 1756.29it/s]"
     ]
    },
    {
     "name": "stdout",
     "output_type": "stream",
     "text": [
      "Build the low-resolution averaged array from the high resolution averaged array\n",
      "Double sorting high-res array\n"
     ]
    },
    {
     "name": "stderr",
     "output_type": "stream",
     "text": [
      "Loading the m/z values at resolution 1e-05: 100%|██████████| 95160/95160 [00:59<00:00, 1608.77it/s]\n"
     ]
    },
    {
     "name": "stdout",
     "output_type": "stream",
     "text": [
      "Getting corresponding spectra arrays\n",
      "Saving : /data/lipidatlas/data/data_raw/20210330_MouseBrainCMC_S20AT3_2Dpixelmode_396x266_Att30_25um/20210330_MouseBrainCMC_S20AT3_2Dpixelmode_396x266_Att30_25um\n",
      "Loading files : /data/lipidatlas/data/data_raw/20210424_MouseBrainCMC_S29_5_2Dpixelmode_330x277_Att30_25um/20210424_MouseBrainCMC_S29_5_2Dpixelmode_330x277_Att30_25um\n",
      "[Warning] Not index found and build_index_from_scratch is False\n"
     ]
    },
    {
     "name": "stderr",
     "output_type": "stream",
     "text": [
      "WARNING:root:The mzML file containts more than the expected 91410 spectra. The tailing 20 spectra will be ignored.\n",
      "Loading Sprectra at resolution 1e-05:   5%|▍         | 4250/91410 [00:03<01:12, 1195.45it/s]WARNING:root:The sparsified dense matrix S has never been computed. Please wait while it's being generated.\n",
      "Loading Sprectra at resolution 1e-05: 100%|██████████| 91410/91410 [00:56<00:00, 1622.00it/s]\n",
      "Loading the m/z values at resolution 1e-05: 100%|██████████| 91410/91410 [01:13<00:00, 1240.60it/s]\n",
      "WARNING:root:The sparsified dense matrix S has never been computed. Please wait while it's being generated.\n"
     ]
    },
    {
     "name": "stdout",
     "output_type": "stream",
     "text": [
      "Getting spectrums array averaged accross pixels\n",
      "Build the low-resolution averaged array from the high resolution averaged array\n",
      "Double sorting high-res array\n",
      "Getting spectrums array averaged accross pixels\n",
      "Getting corresponding spectra arrays\n",
      "Saving : /data/lipidatlas/data/data_raw/20210313_MouseBrainCMC_S15AO2_2Dpixelmode_451x292_Att25_25um/20210313_MouseBrainCMC_S15AO2_2Dpixelmode_451x292_Att25_25um\n",
      "Build the low-resolution averaged array from the high resolution averaged array\n",
      "Double sorting high-res array\n",
      "Loading files : /data/lipidatlas/data/data_raw/20210429_MouseBrainCMC_S30_5_2Dpixelmode_367x278_Att30_25um/20210429_MouseBrainCMC_S30_5_2Dpixelmode_367x278_Att30_25um\n",
      "[Warning] Not index found and build_index_from_scratch is False\n"
     ]
    },
    {
     "name": "stderr",
     "output_type": "stream",
     "text": [
      "WARNING:root:The mzML file containts more than the expected 102026 spectra. The tailing 2 spectra will be ignored.\n",
      "Loading Sprectra at resolution 1e-05:  98%|█████████▊| 99775/102026 [01:18<00:01, 1131.78it/s]"
     ]
    },
    {
     "name": "stdout",
     "output_type": "stream",
     "text": [
      "Getting corresponding spectra arrays\n"
     ]
    },
    {
     "name": "stderr",
     "output_type": "stream",
     "text": [
      "Loading Sprectra at resolution 1e-05: 100%|██████████| 102026/102026 [01:20<00:00, 1268.10it/s]\n",
      "Loading the m/z values at resolution 1e-05:   1%|▏         | 1447/102026 [00:01<02:07, 791.16it/s]"
     ]
    },
    {
     "name": "stdout",
     "output_type": "stream",
     "text": [
      "Saving : /data/lipidatlas/data/data_raw/20210409_MouseBrainCMC_S22AV1_2Dpixelmode_416x207_Att30_25um/20210409_MouseBrainCMC_S22AV1_2Dpixelmode_416x207_Att30_25um\n"
     ]
    },
    {
     "name": "stderr",
     "output_type": "stream",
     "text": [
      "Loading the m/z values at resolution 1e-05:   7%|▋         | 7156/102026 [00:10<02:32, 622.26it/s]"
     ]
    },
    {
     "name": "stdout",
     "output_type": "stream",
     "text": [
      "Loading files : /data/lipidatlas/data/data_raw/20210501_MouseBrainCMC_S31_3_2Dpixelmode_355x239_Att30_25um/20210501_MouseBrainCMC_S31_3_2Dpixelmode_355x239_Att30_25um\n"
     ]
    },
    {
     "name": "stderr",
     "output_type": "stream",
     "text": [
      "Loading the m/z values at resolution 1e-05:   7%|▋         | 7234/102026 [00:10<02:22, 666.81it/s]"
     ]
    },
    {
     "name": "stdout",
     "output_type": "stream",
     "text": [
      "[Warning] Not index found and build_index_from_scratch is False\n"
     ]
    },
    {
     "name": "stderr",
     "output_type": "stream",
     "text": [
      "WARNING:root:The mzML file containts more than the expected 84845 spectra. The tailing 5 spectra will be ignored.\n",
      "Loading Sprectra at resolution 1e-05: 100%|██████████| 84845/84845 [01:00<00:00, 1402.56it/s]\n",
      "Loading the m/z values at resolution 1e-05: 100%|██████████| 102026/102026 [02:08<00:00, 796.88it/s]\n",
      "Loading the m/z values at resolution 1e-05:  64%|██████▍   | 54236/84845 [01:00<00:30, 1000.73it/s]"
     ]
    },
    {
     "name": "stdout",
     "output_type": "stream",
     "text": [
      "Getting spectrums array averaged accross pixels\n"
     ]
    },
    {
     "name": "stderr",
     "output_type": "stream",
     "text": [
      "Loading the m/z values at resolution 1e-05:  72%|███████▏  | 60934/84845 [01:06<00:21, 1098.40it/s]"
     ]
    },
    {
     "name": "stdout",
     "output_type": "stream",
     "text": [
      "Build the low-resolution averaged array from the high resolution averaged array\n",
      "Double sorting high-res array\n"
     ]
    },
    {
     "name": "stderr",
     "output_type": "stream",
     "text": [
      "Loading the m/z values at resolution 1e-05:  75%|███████▍  | 63593/84845 [01:09<00:20, 1054.06it/s]WARNING:root:The sparsified dense matrix S has never been computed. Please wait while it's being generated.\n",
      "Loading the m/z values at resolution 1e-05:  98%|█████████▊| 82763/84845 [01:29<00:02, 772.15it/s]"
     ]
    },
    {
     "name": "stdout",
     "output_type": "stream",
     "text": [
      "Creating and sorting dataframes\n"
     ]
    },
    {
     "name": "stderr",
     "output_type": "stream",
     "text": [
      "Loading the m/z values at resolution 1e-05: 100%|██████████| 84845/84845 [01:32<00:00, 918.27it/s]\n",
      "WARNING:root:The sparsified dense matrix S has never been computed. Please wait while it's being generated.\n"
     ]
    },
    {
     "name": "stdout",
     "output_type": "stream",
     "text": [
      "Getting corresponding spectra arrays\n",
      "Saving : /data/lipidatlas/data/data_raw/20210530_MouseBrainCMC_S16_duplicate_2Dpixelmode_454x295_Att30_25um/20210530_MouseBrainCMC_S16_duplicate_2Dpixelmode_454x295_Att30_25um\n",
      "Loading files : /data/lipidatlas/data/data_raw/20210504_MouseBrainCMC_S32_3_2Dpixelmode_298x230_Att30_25um/20210504_MouseBrainCMC_S32_3_2Dpixelmode_298x230_Att30_25um\n",
      "[Warning] Not index found and build_index_from_scratch is False\n"
     ]
    },
    {
     "name": "stderr",
     "output_type": "stream",
     "text": [
      "WARNING:root:The mzML file containts more than the expected 68540 spectra. The tailing 8 spectra will be ignored.\n",
      "Loading Sprectra at resolution 1e-05: 100%|██████████| 68540/68540 [00:48<00:00, 1411.39it/s]\n",
      "Loading the m/z values at resolution 1e-05: 100%|██████████| 68540/68540 [01:14<00:00, 915.56it/s]\n",
      "WARNING:root:The sparsified dense matrix S has never been computed. Please wait while it's being generated.\n"
     ]
    },
    {
     "name": "stdout",
     "output_type": "stream",
     "text": [
      "Creating and sorting dataframes\n",
      "Getting spectrums array averaged accross pixels\n",
      "Build the low-resolution averaged array from the high resolution averaged array\n",
      "Double sorting high-res array\n",
      "Getting corresponding spectra arrays\n",
      "Saving : /data/lipidatlas/data/data_raw/20210412_MouseBrainCMC_S23AZ1_2Dpixelmode_360x260_Att30_25um/20210412_MouseBrainCMC_S23AZ1_2Dpixelmode_360x260_Att30_25um\n",
      "Getting spectrums array averaged accross pixels\n",
      "Build the low-resolution averaged array from the high resolution averaged array\n",
      "Double sorting high-res array\n",
      "Creating and sorting dataframes\n",
      "Getting corresponding spectra arrays\n",
      "Saving : /data/lipidatlas/data/data_raw/20210319_MouseBrainCMC_S17AQ2_2Dpixelmode_450x287_Att30_25um/20210319_MouseBrainCMC_S17AQ2_2Dpixelmode_450x287_Att30_25um\n",
      "Creating and sorting dataframes\n",
      "Creating and sorting dataframes\n",
      "Getting spectrums array averaged accross pixels\n",
      "Build the low-resolution averaged array from the high resolution averaged array\n",
      "Double sorting high-res array\n",
      "Getting corresponding spectra arrays\n",
      "Saving : /data/lipidatlas/data/data_raw/20210413_MouseBrainCMC_S24_3_2Dpixelmode_327x328_Att30_25um/20210413_MouseBrainCMC_S24_3_2Dpixelmode_327x328_Att30_25um\n",
      "Creating and sorting dataframes\n",
      "Creating and sorting dataframes\n",
      "Getting spectrums array averaged accross pixels\n",
      "Build the low-resolution averaged array from the high resolution averaged array\n",
      "Double sorting high-res array\n",
      "Getting corresponding spectra arrays\n",
      "Saving : /data/lipidatlas/data/data_raw/20210323_MouseBrainCMC_S18AR4_2Dpixelmode_474x291_Att30_25um/20210323_MouseBrainCMC_S18AR4_2Dpixelmode_474x291_Att30_25um\n",
      "Creating and sorting dataframes\n",
      "Getting spectrums array averaged accross pixels\n",
      "Build the low-resolution averaged array from the high resolution averaged array\n",
      "Double sorting high-res array\n",
      "Getting corresponding spectra arrays\n",
      "Saving : /data/lipidatlas/data/data_raw/20210414_MouseBrainCMC_S25_2_2Dpixelmode_358x238_Att30_25um/20210414_MouseBrainCMC_S25_2_2Dpixelmode_358x238_Att30_25um\n",
      "Getting spectrums array averaged accross pixels\n",
      "Build the low-resolution averaged array from the high resolution averaged array\n",
      "Double sorting high-res array\n",
      "Getting corresponding spectra arrays\n",
      "Saving : /data/lipidatlas/data/data_raw/20210419_MouseBrainCMC_S26_3_2Dpixelmode_340x248_Att30_25um/20210419_MouseBrainCMC_S26_3_2Dpixelmode_340x248_Att30_25um\n",
      "Getting spectrums array averaged accross pixels\n",
      "Build the low-resolution averaged array from the high resolution averaged array\n",
      "Double sorting high-res array\n",
      "Getting spectrums array averaged accross pixels\n",
      "Build the low-resolution averaged array from the high resolution averaged array\n",
      "Double sorting high-res array\n",
      "Getting corresponding spectra arrays\n",
      "Saving : /data/lipidatlas/data/data_raw/20210424_MouseBrainCMC_S29_5_2Dpixelmode_330x277_Att30_25um/20210424_MouseBrainCMC_S29_5_2Dpixelmode_330x277_Att30_25um\n",
      "Getting corresponding spectra arrays\n",
      "Getting spectrums array averaged accross pixels\n",
      "Saving : /data/lipidatlas/data/data_raw/20210423_MouseBrainCMC_S28_3_2Dpixelmode_390x244_Att30_25um/20210423_MouseBrainCMC_S28_3_2Dpixelmode_390x244_Att30_25um\n",
      "Build the low-resolution averaged array from the high resolution averaged array\n",
      "Double sorting high-res array\n",
      "Getting corresponding spectra arrays\n",
      "Saving : /data/lipidatlas/data/data_raw/20210504_MouseBrainCMC_S32_3_2Dpixelmode_298x230_Att30_25um/20210504_MouseBrainCMC_S32_3_2Dpixelmode_298x230_Att30_25um\n",
      "Getting spectrums array averaged accross pixels\n",
      "Build the low-resolution averaged array from the high resolution averaged array\n",
      "Double sorting high-res array\n",
      "Getting corresponding spectra arrays\n",
      "Saving : /data/lipidatlas/data/data_raw/20210501_MouseBrainCMC_S31_3_2Dpixelmode_355x239_Att30_25um/20210501_MouseBrainCMC_S31_3_2Dpixelmode_355x239_Att30_25um\n",
      "Getting spectrums array averaged accross pixels\n",
      "Build the low-resolution averaged array from the high resolution averaged array\n",
      "Double sorting high-res array\n",
      "Getting corresponding spectra arrays\n",
      "Saving : /data/lipidatlas/data/data_raw/20210603_MouseBrainCMC_S27_duplicate_2Dpixelmode_372x272_Att30_25um/20210603_MouseBrainCMC_S27_duplicate_2Dpixelmode_372x272_Att30_25um\n",
      "Getting spectrums array averaged accross pixels\n",
      "Build the low-resolution averaged array from the high resolution averaged array\n",
      "Double sorting high-res array\n",
      "Getting corresponding spectra arrays\n",
      "Saving : /data/lipidatlas/data/data_raw/20210429_MouseBrainCMC_S30_5_2Dpixelmode_367x278_Att30_25um/20210429_MouseBrainCMC_S30_5_2Dpixelmode_367x278_Att30_25um\n"
     ]
    }
   ],
   "source": [
    "multiprocessing = True\n",
    "if multiprocessing:\n",
    "    # Multiprocessing\n",
    "    with Pool(processes=12) as pool:\n",
    "        [x for x in pool.imap_unordered(process_raw_data, l_t_names)]\n",
    "else:\n",
    "    # Normal (single-processed) map\n",
    "    [x for x in map(process_raw_data, l_t_names[3:4])]\n"
   ]
  },
  {
   "cell_type": "markdown",
   "metadata": {},
   "source": [
    "### Build lookup tables"
   ]
  },
  {
   "cell_type": "code",
   "execution_count": 3,
   "metadata": {},
   "outputs": [
    {
     "name": "stdout",
     "output_type": "stream",
     "text": [
      "Size (in mb) of lookup_table_spectra_high_res:  61.58\n",
      "Shape of lookup_table_spectra_high_res:  (200, 80712)\n",
      "Size (in mb) of lookup_table_spectra_high_res:  56.75\n",
      "Shape of lookup_table_spectra_high_res:  (200, 74382)\n",
      "Size (in mb) of lookup_table_spectra_high_res:  55.19\n",
      "Shape of lookup_table_spectra_high_res:  (200, 72345)\n",
      "Size (in mb) of cumulated_image_lookup_table_high_res:  56.75\n",
      "Shape of cumulated_image_lookup_table_high_res:  (200, 231, 322)\n",
      "Size (in mb) of cumulated_image_lookup_table_high_res:  61.58\n",
      "Shape of cumulated_image_lookup_table_high_res:  (200, 228, 354)\n",
      "Size (in mb) of lookup_table_spectra_high_res:  60.41\n",
      "Shape of lookup_table_spectra_high_res:  (200, 79180)\n",
      "Size (in mb) of lookup_table_averaged_spectrum_high_res:  0.01\n",
      "Shape of lookup_table_averaged_spectrum_high_res:  (2000,)\n",
      "Size (in mb) of lookup_table_averaged_spectrum_high_res:  0.01\n",
      "Shape of lookup_table_averaged_spectrum_high_res:  (2000,)\n",
      "Size (in mb) of cumulated_image_lookup_table_high_res:  55.19\n",
      "Shape of cumulated_image_lookup_table_high_res:  (200, 195, 371)\n",
      "Size (in mb) of lookup_table_averaged_spectrum_high_res:  0.01\n",
      "Shape of lookup_table_averaged_spectrum_high_res:  (2000,)\n",
      "Size (in mb) of lookup_table_spectra_high_res:  82.18\n",
      "Shape of lookup_table_spectra_high_res:  (200, 107712)\n",
      "Size (in mb) of cumulated_image_lookup_table_high_res:  60.41\n",
      "Shape of cumulated_image_lookup_table_high_res:  (200, 214, 370)\n",
      "Size (in mb) of lookup_table_averaged_spectrum_high_res:  0.01\n",
      "Shape of lookup_table_averaged_spectrum_high_res:  (2000,)\n",
      "Size (in mb) of lookup_table_spectra_high_res:  79.76\n",
      "Shape of lookup_table_spectra_high_res:  (200, 104538)\n",
      "Size (in mb) of lookup_table_spectra_high_res:  93.5\n",
      "Shape of lookup_table_spectra_high_res:  (200, 122550)\n",
      "Size (in mb) of cumulated_image_lookup_table_high_res:  82.18\n",
      "Shape of cumulated_image_lookup_table_high_res:  (200, 272, 396)\n",
      "Size (in mb) of lookup_table_averaged_spectrum_high_res:  0.01\n",
      "Shape of lookup_table_averaged_spectrum_high_res:  (2000,)\n",
      "Saving...\n",
      "Saving...\n",
      "Saving...\n",
      "Size (in mb) of lookup_table_spectra_high_res:  85.68\n",
      "Shape of lookup_table_spectra_high_res:  (200, 112301)\n",
      "Size (in mb) of cumulated_image_lookup_table_high_res:  79.76\n",
      "Shape of cumulated_image_lookup_table_high_res:  (200, 266, 393)\n",
      "Size (in mb) of cumulated_image_lookup_table_high_res:  93.5\n",
      "Shape of cumulated_image_lookup_table_high_res:  (200, 285, 430)\n",
      "Size (in mb) of lookup_table_averaged_spectrum_high_res:  0.01\n",
      "Shape of lookup_table_averaged_spectrum_high_res:  (2000,)\n",
      "Size (in mb) of lookup_table_spectra_high_res:  91.01\n",
      "Shape of lookup_table_spectra_high_res:  (200, 119286)\n",
      "Size (in mb) of lookup_table_spectra_high_res:  84.77\n",
      "Shape of lookup_table_spectra_high_res:  (200, 111108)\n",
      "Size (in mb) of lookup_table_averaged_spectrum_high_res:  0.01\n",
      "Shape of lookup_table_averaged_spectrum_high_res:  (2000,)\n",
      "Size (in mb) of lookup_table_spectra_high_res:  99.05\n",
      "Shape of lookup_table_spectra_high_res:  (200, 129826)\n",
      "Saving...\n",
      "Size (in mb) of cumulated_image_lookup_table_high_res:  85.68\n",
      "Shape of cumulated_image_lookup_table_high_res:  (200, 263, 427)\n",
      "Size (in mb) of lookup_table_averaged_spectrum_high_res:  0.01\n",
      "Shape of lookup_table_averaged_spectrum_high_res:  (2000,)\n",
      "Size (in mb) of lookup_table_spectra_high_res:  94.68\n",
      "Shape of lookup_table_spectra_high_res:  (200, 124096)\n",
      "Size (in mb) of cumulated_image_lookup_table_high_res:  84.77\n",
      "Shape of cumulated_image_lookup_table_high_res:  (200, 282, 394)\n",
      "Saving...\n",
      "Size (in mb) of lookup_table_averaged_spectrum_high_res:  0.01\n",
      "Shape of lookup_table_averaged_spectrum_high_res:  (2000,)\n",
      "Size (in mb) of cumulated_image_lookup_table_high_res:  91.01\n",
      "Shape of cumulated_image_lookup_table_high_res:  (200, 282, 423)\n",
      "Size (in mb) of lookup_table_averaged_spectrum_high_res:  0.01\n",
      "Shape of lookup_table_averaged_spectrum_high_res:  (2000,)\n",
      "Size (in mb) of cumulated_image_lookup_table_high_res:  99.05\n",
      "Shape of cumulated_image_lookup_table_high_res:  (200, 278, 467)\n",
      "Size (in mb) of lookup_table_averaged_spectrum_high_res:  0.01\n",
      "Shape of lookup_table_averaged_spectrum_high_res:  (2000,)\n",
      "Saving...\n",
      "Saving...\n",
      "Size (in mb) of cumulated_image_lookup_table_high_res:  94.68\n",
      "Shape of cumulated_image_lookup_table_high_res:  (200, 277, 448)\n",
      "Size (in mb) of lookup_table_averaged_spectrum_high_res:  0.01\n",
      "Shape of lookup_table_averaged_spectrum_high_res:  (2000,)\n",
      "Saving...\n",
      "Saving...\n",
      "Saving...\n",
      "Saving...\n",
      "Saving...\n",
      "Size (in mb) of lookup_table_spectra_high_res:  97.68\n",
      "Shape of lookup_table_spectra_high_res:  (200, 128030)\n",
      "Size (in mb) of cumulated_image_lookup_table_high_res:  97.68\n",
      "Shape of cumulated_image_lookup_table_high_res:  (200, 310, 413)\n",
      "Size (in mb) of lookup_table_averaged_spectrum_high_res:  0.01\n",
      "Shape of lookup_table_averaged_spectrum_high_res:  (2000,)\n",
      "Saving...\n",
      "Size (in mb) of lookup_table_spectra_high_res:  88.93\n",
      "Shape of lookup_table_spectra_high_res:  (200, 116565)\n",
      "Size (in mb) of cumulated_image_lookup_table_high_res:  88.93\n",
      "Shape of cumulated_image_lookup_table_high_res:  (200, 285, 409)\n",
      "Size (in mb) of lookup_table_averaged_spectrum_high_res:  0.01\n",
      "Shape of lookup_table_averaged_spectrum_high_res:  (2000,)\n",
      "Size (in mb) of lookup_table_spectra_high_res:  100.47\n",
      "Shape of lookup_table_spectra_high_res:  (200, 131692)\n",
      "Size (in mb) of cumulated_image_lookup_table_high_res:  100.47\n",
      "Shape of cumulated_image_lookup_table_high_res:  (200, 292, 451)\n",
      "Size (in mb) of lookup_table_averaged_spectrum_high_res:  0.01\n",
      "Shape of lookup_table_averaged_spectrum_high_res:  (2000,)\n",
      "Saving...\n",
      "Saving...\n",
      "Size (in mb) of lookup_table_spectra_high_res:  102.18\n",
      "Shape of lookup_table_spectra_high_res:  (200, 133930)\n",
      "Size (in mb) of lookup_table_spectra_high_res:  98.53\n",
      "Shape of lookup_table_spectra_high_res:  (200, 129150)\n",
      "Size (in mb) of cumulated_image_lookup_table_high_res:  98.53\n",
      "Shape of cumulated_image_lookup_table_high_res:  (200, 287, 450)\n",
      "Size (in mb) of lookup_table_averaged_spectrum_high_res:  0.01\n",
      "Shape of lookup_table_averaged_spectrum_high_res:  (2000,)\n",
      "Size (in mb) of cumulated_image_lookup_table_high_res:  102.18\n",
      "Shape of cumulated_image_lookup_table_high_res:  (200, 295, 454)\n",
      "Size (in mb) of lookup_table_averaged_spectrum_high_res:  0.01\n",
      "Shape of lookup_table_averaged_spectrum_high_res:  (2000,)\n",
      "Size (in mb) of lookup_table_spectra_high_res:  105.24\n",
      "Shape of lookup_table_spectra_high_res:  (200, 137934)\n",
      "Size (in mb) of cumulated_image_lookup_table_high_res:  105.24\n",
      "Shape of cumulated_image_lookup_table_high_res:  (200, 291, 474)\n",
      "Size (in mb) of lookup_table_averaged_spectrum_high_res:  0.01\n",
      "Shape of lookup_table_averaged_spectrum_high_res:  (2000,)\n",
      "Size (in mb) of lookup_table_spectra_high_res:  70.09\n",
      "Shape of lookup_table_spectra_high_res:  (200, 91872)\n",
      "Saving...\n",
      "Size (in mb) of cumulated_image_lookup_table_high_res:  70.09\n",
      "Shape of cumulated_image_lookup_table_high_res:  (200, 232, 396)\n",
      "Size (in mb) of lookup_table_averaged_spectrum_high_res:  0.01\n",
      "Shape of lookup_table_averaged_spectrum_high_res:  (2000,)\n",
      "Saving...\n",
      "Saving...\n",
      "Saving...\n",
      "Size (in mb) of lookup_table_spectra_high_res:  64.63\n",
      "Shape of lookup_table_spectra_high_res:  (200, 84710)\n",
      "Size (in mb) of lookup_table_spectra_high_res:  80.36\n",
      "Shape of lookup_table_spectra_high_res:  (200, 105336)\n",
      "Size (in mb) of cumulated_image_lookup_table_high_res:  64.63\n",
      "Shape of cumulated_image_lookup_table_high_res:  (200, 215, 394)\n",
      "Size (in mb) of lookup_table_averaged_spectrum_high_res:  0.01\n",
      "Shape of lookup_table_averaged_spectrum_high_res:  (2000,)\n",
      "Size (in mb) of cumulated_image_lookup_table_high_res:  80.36\n",
      "Shape of cumulated_image_lookup_table_high_res:  (200, 266, 396)\n",
      "Size (in mb) of lookup_table_averaged_spectrum_high_res:  0.01\n",
      "Shape of lookup_table_averaged_spectrum_high_res:  (2000,)\n",
      "Saving...\n",
      "Saving...\n",
      "Size (in mb) of lookup_table_spectra_high_res:  71.41\n",
      "Shape of lookup_table_spectra_high_res:  (200, 93600)\n",
      "Size (in mb) of cumulated_image_lookup_table_high_res:  71.41\n",
      "Shape of cumulated_image_lookup_table_high_res:  (200, 260, 360)\n",
      "Size (in mb) of lookup_table_averaged_spectrum_high_res:  0.01\n",
      "Shape of lookup_table_averaged_spectrum_high_res:  (2000,)\n",
      "Size (in mb) of lookup_table_spectra_high_res:  65.7\n",
      "Shape of lookup_table_spectra_high_res:  (200, 86112)\n",
      "Size (in mb) of cumulated_image_lookup_table_high_res:  65.7\n",
      "Shape of cumulated_image_lookup_table_high_res:  (200, 207, 416)\n",
      "Size (in mb) of lookup_table_averaged_spectrum_high_res:  0.01\n",
      "Shape of lookup_table_averaged_spectrum_high_res:  (2000,)\n",
      "Saving...\n",
      "Saving...\n",
      "Size (in mb) of lookup_table_spectra_high_res:  65.01\n",
      "Shape of lookup_table_spectra_high_res:  (200, 85204)\n",
      "Size (in mb) of lookup_table_spectra_high_res:  81.83\n",
      "Shape of lookup_table_spectra_high_res:  (200, 107256)\n",
      "Size (in mb) of cumulated_image_lookup_table_high_res:  65.01\n",
      "Shape of cumulated_image_lookup_table_high_res:  (200, 238, 358)\n",
      "Size (in mb) of lookup_table_averaged_spectrum_high_res:  0.01\n",
      "Shape of lookup_table_averaged_spectrum_high_res:  (2000,)\n",
      "Size (in mb) of lookup_table_spectra_high_res:  64.33\n",
      "Shape of lookup_table_spectra_high_res:  (200, 84320)\n",
      "Size (in mb) of cumulated_image_lookup_table_high_res:  81.83\n",
      "Shape of cumulated_image_lookup_table_high_res:  (200, 328, 327)\n",
      "Size (in mb) of lookup_table_averaged_spectrum_high_res:  0.01\n",
      "Shape of lookup_table_averaged_spectrum_high_res:  (2000,)\n",
      "Size (in mb) of cumulated_image_lookup_table_high_res:  64.33\n",
      "Shape of cumulated_image_lookup_table_high_res:  (200, 248, 340)\n",
      "Size (in mb) of lookup_table_averaged_spectrum_high_res:  0.01\n",
      "Shape of lookup_table_averaged_spectrum_high_res:  (2000,)\n",
      "Saving...\n",
      "Size (in mb) of lookup_table_spectra_high_res:  77.2\n",
      "Shape of lookup_table_spectra_high_res:  (200, 101184)\n",
      "Saving...\n",
      "Saving...\n",
      "Size (in mb) of lookup_table_spectra_high_res:  72.6\n",
      "Shape of lookup_table_spectra_high_res:  (200, 95160)\n",
      "Size (in mb) of cumulated_image_lookup_table_high_res:  77.2\n",
      "Shape of cumulated_image_lookup_table_high_res:  (200, 272, 372)\n",
      "Size (in mb) of lookup_table_averaged_spectrum_high_res:  0.01\n",
      "Shape of lookup_table_averaged_spectrum_high_res:  (2000,)\n",
      "Size (in mb) of cumulated_image_lookup_table_high_res:  72.6\n",
      "Shape of cumulated_image_lookup_table_high_res:  (200, 244, 390)\n",
      "Size (in mb) of lookup_table_averaged_spectrum_high_res:  0.01\n",
      "Shape of lookup_table_averaged_spectrum_high_res:  (2000,)\n",
      "Size (in mb) of lookup_table_spectra_high_res:  69.74\n",
      "Shape of lookup_table_spectra_high_res:  (200, 91410)\n",
      "Size (in mb) of cumulated_image_lookup_table_high_res:  69.74\n",
      "Shape of cumulated_image_lookup_table_high_res:  (200, 277, 330)\n",
      "Size (in mb) of lookup_table_averaged_spectrum_high_res:  0.01\n",
      "Shape of lookup_table_averaged_spectrum_high_res:  (2000,)\n",
      "Saving...\n",
      "Saving...\n",
      "Size (in mb) of lookup_table_spectra_high_res:  52.29\n",
      "Shape of lookup_table_spectra_high_res:  (200, 68540)\n",
      "Size (in mb) of lookup_table_spectra_high_res:  64.73\n",
      "Shape of lookup_table_spectra_high_res:  (200, 84845)\n",
      "Saving...\n",
      "Size (in mb) of cumulated_image_lookup_table_high_res:  52.29\n",
      "Shape of cumulated_image_lookup_table_high_res:  (200, 230, 298)\n",
      "Size (in mb) of lookup_table_averaged_spectrum_high_res:  0.01\n",
      "Shape of lookup_table_averaged_spectrum_high_res:  (2000,)\n",
      "Size (in mb) of lookup_table_spectra_high_res:  77.84\n",
      "Shape of lookup_table_spectra_high_res:  (200, 102026)\n",
      "Size (in mb) of cumulated_image_lookup_table_high_res:  64.73\n",
      "Shape of cumulated_image_lookup_table_high_res:  (200, 239, 355)\n",
      "Size (in mb) of lookup_table_averaged_spectrum_high_res:  0.01\n",
      "Shape of lookup_table_averaged_spectrum_high_res:  (2000,)\n",
      "Size (in mb) of cumulated_image_lookup_table_high_res:  77.84\n",
      "Shape of cumulated_image_lookup_table_high_res:  (200, 278, 367)\n",
      "Size (in mb) of lookup_table_averaged_spectrum_high_res:  0.01\n",
      "Shape of lookup_table_averaged_spectrum_high_res:  (2000,)\n",
      "Saving...\n",
      "Saving...\n",
      "Saving...\n"
     ]
    }
   ],
   "source": [
    "multiprocessing = True\n",
    "if multiprocessing:\n",
    "    # Multiprocessing\n",
    "    with Pool(processes=12) as pool:\n",
    "        [x for x in pool.map(process_lookup_tables, l_t_names)]\n",
    "else:\n",
    "    # Normal (single-processed) map\n",
    "    [x for x in map(process_lookup_tables, l_t_names)]\n",
    "\n"
   ]
  },
  {
   "cell_type": "markdown",
   "metadata": {},
   "source": [
    "### Record everything as a HDF5 file and clean "
   ]
  },
  {
   "cell_type": "markdown",
   "metadata": {},
   "source": [
    "Record everything in a HDF5 file"
   ]
  },
  {
   "cell_type": "code",
   "execution_count": 4,
   "metadata": {},
   "outputs": [
    {
     "name": "stderr",
     "output_type": "stream",
     "text": [
      "/home/colas/miniconda3/lib/python3.9/site-packages/tables/leaf.py:402: PerformanceWarning: The Leaf ``/s10/array_spectra`` is exceeding the maximum recommended rowsize (104857600 bytes);\n",
      "be ready to see PyTables asking for *lots* of memory and possibly slow\n",
      "I/O.  You may want to reduce the rowsize by trimming the value of\n",
      "dimensions that are orthogonal (and preferably close) to the *main*\n",
      "dimension of this leave.  Alternatively, in case you have specified a\n",
      "very small/large chunksize, you may want to increase/decrease it.\n",
      "  warnings.warn(\"\"\"\\\n",
      "/home/colas/miniconda3/lib/python3.9/site-packages/tables/leaf.py:402: PerformanceWarning: The Leaf ``/s11/array_spectra`` is exceeding the maximum recommended rowsize (104857600 bytes);\n",
      "be ready to see PyTables asking for *lots* of memory and possibly slow\n",
      "I/O.  You may want to reduce the rowsize by trimming the value of\n",
      "dimensions that are orthogonal (and preferably close) to the *main*\n",
      "dimension of this leave.  Alternatively, in case you have specified a\n",
      "very small/large chunksize, you may want to increase/decrease it.\n",
      "  warnings.warn(\"\"\"\\\n",
      "/home/colas/miniconda3/lib/python3.9/site-packages/tables/leaf.py:402: PerformanceWarning: The Leaf ``/s12/array_spectra`` is exceeding the maximum recommended rowsize (104857600 bytes);\n",
      "be ready to see PyTables asking for *lots* of memory and possibly slow\n",
      "I/O.  You may want to reduce the rowsize by trimming the value of\n",
      "dimensions that are orthogonal (and preferably close) to the *main*\n",
      "dimension of this leave.  Alternatively, in case you have specified a\n",
      "very small/large chunksize, you may want to increase/decrease it.\n",
      "  warnings.warn(\"\"\"\\\n",
      "/home/colas/miniconda3/lib/python3.9/site-packages/tables/leaf.py:402: PerformanceWarning: The Leaf ``/s13/array_spectra`` is exceeding the maximum recommended rowsize (104857600 bytes);\n",
      "be ready to see PyTables asking for *lots* of memory and possibly slow\n",
      "I/O.  You may want to reduce the rowsize by trimming the value of\n",
      "dimensions that are orthogonal (and preferably close) to the *main*\n",
      "dimension of this leave.  Alternatively, in case you have specified a\n",
      "very small/large chunksize, you may want to increase/decrease it.\n",
      "  warnings.warn(\"\"\"\\\n",
      "/home/colas/miniconda3/lib/python3.9/site-packages/tables/leaf.py:402: PerformanceWarning: The Leaf ``/s14/array_spectra`` is exceeding the maximum recommended rowsize (104857600 bytes);\n",
      "be ready to see PyTables asking for *lots* of memory and possibly slow\n",
      "I/O.  You may want to reduce the rowsize by trimming the value of\n",
      "dimensions that are orthogonal (and preferably close) to the *main*\n",
      "dimension of this leave.  Alternatively, in case you have specified a\n",
      "very small/large chunksize, you may want to increase/decrease it.\n",
      "  warnings.warn(\"\"\"\\\n",
      "/home/colas/miniconda3/lib/python3.9/site-packages/tables/leaf.py:402: PerformanceWarning: The Leaf ``/s15/array_spectra`` is exceeding the maximum recommended rowsize (104857600 bytes);\n",
      "be ready to see PyTables asking for *lots* of memory and possibly slow\n",
      "I/O.  You may want to reduce the rowsize by trimming the value of\n",
      "dimensions that are orthogonal (and preferably close) to the *main*\n",
      "dimension of this leave.  Alternatively, in case you have specified a\n",
      "very small/large chunksize, you may want to increase/decrease it.\n",
      "  warnings.warn(\"\"\"\\\n",
      "/home/colas/miniconda3/lib/python3.9/site-packages/tables/leaf.py:402: PerformanceWarning: The Leaf ``/s16/array_spectra`` is exceeding the maximum recommended rowsize (104857600 bytes);\n",
      "be ready to see PyTables asking for *lots* of memory and possibly slow\n",
      "I/O.  You may want to reduce the rowsize by trimming the value of\n",
      "dimensions that are orthogonal (and preferably close) to the *main*\n",
      "dimension of this leave.  Alternatively, in case you have specified a\n",
      "very small/large chunksize, you may want to increase/decrease it.\n",
      "  warnings.warn(\"\"\"\\\n",
      "/home/colas/miniconda3/lib/python3.9/site-packages/tables/leaf.py:402: PerformanceWarning: The Leaf ``/s17/array_spectra`` is exceeding the maximum recommended rowsize (104857600 bytes);\n",
      "be ready to see PyTables asking for *lots* of memory and possibly slow\n",
      "I/O.  You may want to reduce the rowsize by trimming the value of\n",
      "dimensions that are orthogonal (and preferably close) to the *main*\n",
      "dimension of this leave.  Alternatively, in case you have specified a\n",
      "very small/large chunksize, you may want to increase/decrease it.\n",
      "  warnings.warn(\"\"\"\\\n",
      "/home/colas/miniconda3/lib/python3.9/site-packages/tables/leaf.py:402: PerformanceWarning: The Leaf ``/s18/array_spectra`` is exceeding the maximum recommended rowsize (104857600 bytes);\n",
      "be ready to see PyTables asking for *lots* of memory and possibly slow\n",
      "I/O.  You may want to reduce the rowsize by trimming the value of\n",
      "dimensions that are orthogonal (and preferably close) to the *main*\n",
      "dimension of this leave.  Alternatively, in case you have specified a\n",
      "very small/large chunksize, you may want to increase/decrease it.\n",
      "  warnings.warn(\"\"\"\\\n",
      "/home/colas/miniconda3/lib/python3.9/site-packages/tables/leaf.py:402: PerformanceWarning: The Leaf ``/s19/array_spectra`` is exceeding the maximum recommended rowsize (104857600 bytes);\n",
      "be ready to see PyTables asking for *lots* of memory and possibly slow\n",
      "I/O.  You may want to reduce the rowsize by trimming the value of\n",
      "dimensions that are orthogonal (and preferably close) to the *main*\n",
      "dimension of this leave.  Alternatively, in case you have specified a\n",
      "very small/large chunksize, you may want to increase/decrease it.\n",
      "  warnings.warn(\"\"\"\\\n",
      "/home/colas/miniconda3/lib/python3.9/site-packages/tables/leaf.py:402: PerformanceWarning: The Leaf ``/s1/array_spectra`` is exceeding the maximum recommended rowsize (104857600 bytes);\n",
      "be ready to see PyTables asking for *lots* of memory and possibly slow\n",
      "I/O.  You may want to reduce the rowsize by trimming the value of\n",
      "dimensions that are orthogonal (and preferably close) to the *main*\n",
      "dimension of this leave.  Alternatively, in case you have specified a\n",
      "very small/large chunksize, you may want to increase/decrease it.\n",
      "  warnings.warn(\"\"\"\\\n",
      "/home/colas/miniconda3/lib/python3.9/site-packages/tables/leaf.py:402: PerformanceWarning: The Leaf ``/s20/array_spectra`` is exceeding the maximum recommended rowsize (104857600 bytes);\n",
      "be ready to see PyTables asking for *lots* of memory and possibly slow\n",
      "I/O.  You may want to reduce the rowsize by trimming the value of\n",
      "dimensions that are orthogonal (and preferably close) to the *main*\n",
      "dimension of this leave.  Alternatively, in case you have specified a\n",
      "very small/large chunksize, you may want to increase/decrease it.\n",
      "  warnings.warn(\"\"\"\\\n",
      "/home/colas/miniconda3/lib/python3.9/site-packages/tables/leaf.py:402: PerformanceWarning: The Leaf ``/s21/array_spectra`` is exceeding the maximum recommended rowsize (104857600 bytes);\n",
      "be ready to see PyTables asking for *lots* of memory and possibly slow\n",
      "I/O.  You may want to reduce the rowsize by trimming the value of\n",
      "dimensions that are orthogonal (and preferably close) to the *main*\n",
      "dimension of this leave.  Alternatively, in case you have specified a\n",
      "very small/large chunksize, you may want to increase/decrease it.\n",
      "  warnings.warn(\"\"\"\\\n",
      "/home/colas/miniconda3/lib/python3.9/site-packages/tables/leaf.py:402: PerformanceWarning: The Leaf ``/s22/array_spectra`` is exceeding the maximum recommended rowsize (104857600 bytes);\n",
      "be ready to see PyTables asking for *lots* of memory and possibly slow\n",
      "I/O.  You may want to reduce the rowsize by trimming the value of\n",
      "dimensions that are orthogonal (and preferably close) to the *main*\n",
      "dimension of this leave.  Alternatively, in case you have specified a\n",
      "very small/large chunksize, you may want to increase/decrease it.\n",
      "  warnings.warn(\"\"\"\\\n",
      "/home/colas/miniconda3/lib/python3.9/site-packages/tables/leaf.py:402: PerformanceWarning: The Leaf ``/s23/array_spectra`` is exceeding the maximum recommended rowsize (104857600 bytes);\n",
      "be ready to see PyTables asking for *lots* of memory and possibly slow\n",
      "I/O.  You may want to reduce the rowsize by trimming the value of\n",
      "dimensions that are orthogonal (and preferably close) to the *main*\n",
      "dimension of this leave.  Alternatively, in case you have specified a\n",
      "very small/large chunksize, you may want to increase/decrease it.\n",
      "  warnings.warn(\"\"\"\\\n",
      "/home/colas/miniconda3/lib/python3.9/site-packages/tables/leaf.py:402: PerformanceWarning: The Leaf ``/s24/array_spectra`` is exceeding the maximum recommended rowsize (104857600 bytes);\n",
      "be ready to see PyTables asking for *lots* of memory and possibly slow\n",
      "I/O.  You may want to reduce the rowsize by trimming the value of\n",
      "dimensions that are orthogonal (and preferably close) to the *main*\n",
      "dimension of this leave.  Alternatively, in case you have specified a\n",
      "very small/large chunksize, you may want to increase/decrease it.\n",
      "  warnings.warn(\"\"\"\\\n",
      "/home/colas/miniconda3/lib/python3.9/site-packages/tables/leaf.py:402: PerformanceWarning: The Leaf ``/s25/array_spectra`` is exceeding the maximum recommended rowsize (104857600 bytes);\n",
      "be ready to see PyTables asking for *lots* of memory and possibly slow\n",
      "I/O.  You may want to reduce the rowsize by trimming the value of\n",
      "dimensions that are orthogonal (and preferably close) to the *main*\n",
      "dimension of this leave.  Alternatively, in case you have specified a\n",
      "very small/large chunksize, you may want to increase/decrease it.\n",
      "  warnings.warn(\"\"\"\\\n",
      "/home/colas/miniconda3/lib/python3.9/site-packages/tables/leaf.py:402: PerformanceWarning: The Leaf ``/s26/array_spectra`` is exceeding the maximum recommended rowsize (104857600 bytes);\n",
      "be ready to see PyTables asking for *lots* of memory and possibly slow\n",
      "I/O.  You may want to reduce the rowsize by trimming the value of\n",
      "dimensions that are orthogonal (and preferably close) to the *main*\n",
      "dimension of this leave.  Alternatively, in case you have specified a\n",
      "very small/large chunksize, you may want to increase/decrease it.\n",
      "  warnings.warn(\"\"\"\\\n",
      "/home/colas/miniconda3/lib/python3.9/site-packages/tables/leaf.py:402: PerformanceWarning: The Leaf ``/s27/array_spectra`` is exceeding the maximum recommended rowsize (104857600 bytes);\n",
      "be ready to see PyTables asking for *lots* of memory and possibly slow\n",
      "I/O.  You may want to reduce the rowsize by trimming the value of\n",
      "dimensions that are orthogonal (and preferably close) to the *main*\n",
      "dimension of this leave.  Alternatively, in case you have specified a\n",
      "very small/large chunksize, you may want to increase/decrease it.\n",
      "  warnings.warn(\"\"\"\\\n",
      "/home/colas/miniconda3/lib/python3.9/site-packages/tables/leaf.py:402: PerformanceWarning: The Leaf ``/s28/array_spectra`` is exceeding the maximum recommended rowsize (104857600 bytes);\n",
      "be ready to see PyTables asking for *lots* of memory and possibly slow\n",
      "I/O.  You may want to reduce the rowsize by trimming the value of\n",
      "dimensions that are orthogonal (and preferably close) to the *main*\n",
      "dimension of this leave.  Alternatively, in case you have specified a\n",
      "very small/large chunksize, you may want to increase/decrease it.\n",
      "  warnings.warn(\"\"\"\\\n",
      "/home/colas/miniconda3/lib/python3.9/site-packages/tables/leaf.py:402: PerformanceWarning: The Leaf ``/s29/array_spectra`` is exceeding the maximum recommended rowsize (104857600 bytes);\n",
      "be ready to see PyTables asking for *lots* of memory and possibly slow\n",
      "I/O.  You may want to reduce the rowsize by trimming the value of\n",
      "dimensions that are orthogonal (and preferably close) to the *main*\n",
      "dimension of this leave.  Alternatively, in case you have specified a\n",
      "very small/large chunksize, you may want to increase/decrease it.\n",
      "  warnings.warn(\"\"\"\\\n",
      "/home/colas/miniconda3/lib/python3.9/site-packages/tables/leaf.py:402: PerformanceWarning: The Leaf ``/s2/array_spectra`` is exceeding the maximum recommended rowsize (104857600 bytes);\n",
      "be ready to see PyTables asking for *lots* of memory and possibly slow\n",
      "I/O.  You may want to reduce the rowsize by trimming the value of\n",
      "dimensions that are orthogonal (and preferably close) to the *main*\n",
      "dimension of this leave.  Alternatively, in case you have specified a\n",
      "very small/large chunksize, you may want to increase/decrease it.\n",
      "  warnings.warn(\"\"\"\\\n",
      "/home/colas/miniconda3/lib/python3.9/site-packages/tables/leaf.py:402: PerformanceWarning: The Leaf ``/s30/array_spectra`` is exceeding the maximum recommended rowsize (104857600 bytes);\n",
      "be ready to see PyTables asking for *lots* of memory and possibly slow\n",
      "I/O.  You may want to reduce the rowsize by trimming the value of\n",
      "dimensions that are orthogonal (and preferably close) to the *main*\n",
      "dimension of this leave.  Alternatively, in case you have specified a\n",
      "very small/large chunksize, you may want to increase/decrease it.\n",
      "  warnings.warn(\"\"\"\\\n",
      "/home/colas/miniconda3/lib/python3.9/site-packages/tables/leaf.py:402: PerformanceWarning: The Leaf ``/s31/array_spectra`` is exceeding the maximum recommended rowsize (104857600 bytes);\n",
      "be ready to see PyTables asking for *lots* of memory and possibly slow\n",
      "I/O.  You may want to reduce the rowsize by trimming the value of\n",
      "dimensions that are orthogonal (and preferably close) to the *main*\n",
      "dimension of this leave.  Alternatively, in case you have specified a\n",
      "very small/large chunksize, you may want to increase/decrease it.\n",
      "  warnings.warn(\"\"\"\\\n",
      "/home/colas/miniconda3/lib/python3.9/site-packages/tables/leaf.py:402: PerformanceWarning: The Leaf ``/s32/array_spectra`` is exceeding the maximum recommended rowsize (104857600 bytes);\n",
      "be ready to see PyTables asking for *lots* of memory and possibly slow\n",
      "I/O.  You may want to reduce the rowsize by trimming the value of\n",
      "dimensions that are orthogonal (and preferably close) to the *main*\n",
      "dimension of this leave.  Alternatively, in case you have specified a\n",
      "very small/large chunksize, you may want to increase/decrease it.\n",
      "  warnings.warn(\"\"\"\\\n",
      "/home/colas/miniconda3/lib/python3.9/site-packages/tables/leaf.py:402: PerformanceWarning: The Leaf ``/s3/array_spectra`` is exceeding the maximum recommended rowsize (104857600 bytes);\n",
      "be ready to see PyTables asking for *lots* of memory and possibly slow\n",
      "I/O.  You may want to reduce the rowsize by trimming the value of\n",
      "dimensions that are orthogonal (and preferably close) to the *main*\n",
      "dimension of this leave.  Alternatively, in case you have specified a\n",
      "very small/large chunksize, you may want to increase/decrease it.\n",
      "  warnings.warn(\"\"\"\\\n",
      "/home/colas/miniconda3/lib/python3.9/site-packages/tables/leaf.py:402: PerformanceWarning: The Leaf ``/s4/array_spectra`` is exceeding the maximum recommended rowsize (104857600 bytes);\n",
      "be ready to see PyTables asking for *lots* of memory and possibly slow\n",
      "I/O.  You may want to reduce the rowsize by trimming the value of\n",
      "dimensions that are orthogonal (and preferably close) to the *main*\n",
      "dimension of this leave.  Alternatively, in case you have specified a\n",
      "very small/large chunksize, you may want to increase/decrease it.\n",
      "  warnings.warn(\"\"\"\\\n",
      "/home/colas/miniconda3/lib/python3.9/site-packages/tables/leaf.py:402: PerformanceWarning: The Leaf ``/s5/array_spectra`` is exceeding the maximum recommended rowsize (104857600 bytes);\n",
      "be ready to see PyTables asking for *lots* of memory and possibly slow\n",
      "I/O.  You may want to reduce the rowsize by trimming the value of\n",
      "dimensions that are orthogonal (and preferably close) to the *main*\n",
      "dimension of this leave.  Alternatively, in case you have specified a\n",
      "very small/large chunksize, you may want to increase/decrease it.\n",
      "  warnings.warn(\"\"\"\\\n",
      "/home/colas/miniconda3/lib/python3.9/site-packages/tables/leaf.py:402: PerformanceWarning: The Leaf ``/s6/array_spectra`` is exceeding the maximum recommended rowsize (104857600 bytes);\n",
      "be ready to see PyTables asking for *lots* of memory and possibly slow\n",
      "I/O.  You may want to reduce the rowsize by trimming the value of\n",
      "dimensions that are orthogonal (and preferably close) to the *main*\n",
      "dimension of this leave.  Alternatively, in case you have specified a\n",
      "very small/large chunksize, you may want to increase/decrease it.\n",
      "  warnings.warn(\"\"\"\\\n",
      "/home/colas/miniconda3/lib/python3.9/site-packages/tables/leaf.py:402: PerformanceWarning: The Leaf ``/s7/array_spectra`` is exceeding the maximum recommended rowsize (104857600 bytes);\n",
      "be ready to see PyTables asking for *lots* of memory and possibly slow\n",
      "I/O.  You may want to reduce the rowsize by trimming the value of\n",
      "dimensions that are orthogonal (and preferably close) to the *main*\n",
      "dimension of this leave.  Alternatively, in case you have specified a\n",
      "very small/large chunksize, you may want to increase/decrease it.\n",
      "  warnings.warn(\"\"\"\\\n",
      "/home/colas/miniconda3/lib/python3.9/site-packages/tables/leaf.py:402: PerformanceWarning: The Leaf ``/s8/array_spectra`` is exceeding the maximum recommended rowsize (104857600 bytes);\n",
      "be ready to see PyTables asking for *lots* of memory and possibly slow\n",
      "I/O.  You may want to reduce the rowsize by trimming the value of\n",
      "dimensions that are orthogonal (and preferably close) to the *main*\n",
      "dimension of this leave.  Alternatively, in case you have specified a\n",
      "very small/large chunksize, you may want to increase/decrease it.\n",
      "  warnings.warn(\"\"\"\\\n",
      "/home/colas/miniconda3/lib/python3.9/site-packages/tables/leaf.py:402: PerformanceWarning: The Leaf ``/s9/array_spectra`` is exceeding the maximum recommended rowsize (104857600 bytes);\n",
      "be ready to see PyTables asking for *lots* of memory and possibly slow\n",
      "I/O.  You may want to reduce the rowsize by trimming the value of\n",
      "dimensions that are orthogonal (and preferably close) to the *main*\n",
      "dimension of this leave.  Alternatively, in case you have specified a\n",
      "very small/large chunksize, you may want to increase/decrease it.\n",
      "  warnings.warn(\"\"\"\\\n"
     ]
    }
   ],
   "source": [
    "output_folder = \"lbae/data/whole_dataset/\"\n",
    "input_folder = \"notebooks/server/data/temp/\"\n",
    "os.makedirs(output_folder, exist_ok=True)\n",
    "\n",
    "dic_slices = {}\n",
    "# Open the hdf5 file\n",
    "with tables.open_file(output_folder + 'slices.hdf5', mode=\"w\") as hdf5_file:\n",
    "    # Loop over slice files\n",
    "    for slice_name in os.listdir(input_folder):\n",
    "\n",
    "        # Load slice arrays\n",
    "        npzfile = np.load(input_folder + slice_name)\n",
    "        array_pixel_indexes_high_res = npzfile[\"array_pixel_indexes_high_res\"]\n",
    "        array_spectra_high_res = npzfile[\"array_spectra_high_res\"]\n",
    "        array_averaged_mz_intensity_low_res = npzfile[\"array_averaged_mz_intensity_low_res\"]\n",
    "        array_averaged_mz_intensity_high_res = npzfile[\"array_averaged_mz_intensity_high_res\"]\n",
    "        image_shape = npzfile[\"image_shape\"]\n",
    "        divider_lookup = npzfile[\"divider_lookup\"]\n",
    "        lookup_table_spectra_high_res = npzfile[\"lookup_table_spectra_high_res\"]\n",
    "        cumulated_image_lookup_table_high_res = npzfile[\"cumulated_image_lookup_table_high_res\"]\n",
    "        lookup_table_averaged_spectrum_high_res = npzfile[\"lookup_table_averaged_spectrum_high_res\"]\n",
    "\n",
    "        # Create a new group in the hdf5 file\n",
    "        slice_index = slice_name.split(\"_\")[1]\n",
    "        group = hdf5_file.create_group(\"/\", \"s\" + slice_index, \"Slice \" + slice_index)\n",
    "\n",
    "        # Register heavy arrays and lookup table in the newly created group\n",
    "        hdf5_file.create_array(group, \"array_spectra\", array_spectra_high_res)\n",
    "        hdf5_file.create_array(group, \"array_avg_intensity\", array_averaged_mz_intensity_high_res)\n",
    "        hdf5_file.create_array(group, \"array_lookup_mz\", lookup_table_spectra_high_res)\n",
    "        hdf5_file.create_array(group, \"array_cumulated_lookup_mz_image\", cumulated_image_lookup_table_high_res)\n",
    "\n",
    "        # Register the rest in a pickle dictionnary\n",
    "        dic_slices[\"s\" + slice_index] = {\n",
    "            \"image_shape\": image_shape,\n",
    "            \"divider_lookup\": divider_lookup,\n",
    "            \"array_avg_intensity_downsampled\": array_averaged_mz_intensity_low_res,\n",
    "            \"array_lookup_pixels\": array_pixel_indexes_high_res,\n",
    "            \"array_lookup_mz_avg\": lookup_table_averaged_spectrum_high_res,\n",
    "        }\n",
    "\n",
    "        # Pytables is not happy with recording very low rows (m/z values and intensities) but taking the transpose means\n",
    "        # that loading just the m/z values or intensities will jump every odd/even index... Making it very slow.\n",
    "\n",
    "with open(output_folder + 'slices.pickle', 'wb') as handle:\n",
    "    pickle.dump(dic_slices, handle)"
   ]
  },
  {
   "cell_type": "markdown",
   "metadata": {},
   "source": [
    "Test that everything went alright"
   ]
  },
  {
   "cell_type": "code",
   "execution_count": 10,
   "metadata": {},
   "outputs": [
    {
     "name": "stdout",
     "output_type": "stream",
     "text": [
      "Number of slices recorder:  32\n",
      "Array spectra of slice 1:  /s1/array_spectra (Array(2, 102305653)) ''\n",
      "List all arrays recorded in the file: \n",
      "/s1/array_avg_intensity (Array(2, 1021129)) ''\n",
      "/s1/array_cumulated_lookup_mz_image (Array(200, 231, 322)) ''\n",
      "/s1/array_lookup_mz (Array(200, 74382)) ''\n",
      "/s1/array_spectra (Array(2, 102305653)) ''\n",
      "/s10/array_avg_intensity (Array(2, 1898870)) ''\n",
      "/s10/array_cumulated_lookup_mz_image (Array(200, 282, 394)) ''\n",
      "/s10/array_lookup_mz (Array(200, 111108)) ''\n",
      "/s10/array_spectra (Array(2, 151226720)) ''\n",
      "/s11/array_avg_intensity (Array(2, 2262659)) ''\n",
      "/s11/array_cumulated_lookup_mz_image (Array(200, 277, 448)) ''\n",
      "/s11/array_lookup_mz (Array(200, 124096)) ''\n",
      "/s11/array_spectra (Array(2, 216433078)) ''\n",
      "/s12/array_avg_intensity (Array(2, 1793930)) ''\n",
      "/s12/array_cumulated_lookup_mz_image (Array(200, 266, 393)) ''\n",
      "/s12/array_lookup_mz (Array(200, 104538)) ''\n",
      "/s12/array_spectra (Array(2, 146793259)) ''\n",
      "/s13/array_avg_intensity (Array(2, 466769)) ''\n",
      "/s13/array_cumulated_lookup_mz_image (Array(200, 310, 413)) ''\n",
      "/s13/array_lookup_mz (Array(200, 128030)) ''\n",
      "/s13/array_spectra (Array(2, 54758344)) ''\n",
      "/s14/array_avg_intensity (Array(2, 585798)) ''\n",
      "/s14/array_cumulated_lookup_mz_image (Array(200, 285, 409)) ''\n",
      "/s14/array_lookup_mz (Array(200, 116565)) ''\n",
      "/s14/array_spectra (Array(2, 66266308)) ''\n",
      "/s15/array_avg_intensity (Array(2, 735906)) ''\n",
      "/s15/array_cumulated_lookup_mz_image (Array(200, 292, 451)) ''\n",
      "/s15/array_lookup_mz (Array(200, 131692)) ''\n",
      "/s15/array_spectra (Array(2, 82192685)) ''\n",
      "/s16/array_avg_intensity (Array(2, 1922506)) ''\n",
      "/s16/array_cumulated_lookup_mz_image (Array(200, 295, 454)) ''\n",
      "/s16/array_lookup_mz (Array(200, 133930)) ''\n",
      "/s16/array_spectra (Array(2, 208175099)) ''\n",
      "/s17/array_avg_intensity (Array(2, 788144)) ''\n",
      "/s17/array_cumulated_lookup_mz_image (Array(200, 287, 450)) ''\n",
      "/s17/array_lookup_mz (Array(200, 129150)) ''\n",
      "/s17/array_spectra (Array(2, 94000533)) ''\n",
      "/s18/array_avg_intensity (Array(2, 856515)) ''\n",
      "/s18/array_cumulated_lookup_mz_image (Array(200, 291, 474)) ''\n",
      "/s18/array_lookup_mz (Array(200, 137934)) ''\n",
      "/s18/array_spectra (Array(2, 75486924)) ''\n",
      "/s19/array_avg_intensity (Array(2, 793721)) ''\n",
      "/s19/array_cumulated_lookup_mz_image (Array(200, 232, 396)) ''\n",
      "/s19/array_lookup_mz (Array(200, 91872)) ''\n",
      "/s19/array_spectra (Array(2, 71862745)) ''\n",
      "/s2/array_avg_intensity (Array(2, 1403128)) ''\n",
      "/s2/array_cumulated_lookup_mz_image (Array(200, 214, 370)) ''\n",
      "/s2/array_lookup_mz (Array(200, 79180)) ''\n",
      "/s2/array_spectra (Array(2, 115254549)) ''\n",
      "/s20/array_avg_intensity (Array(2, 612399)) ''\n",
      "/s20/array_cumulated_lookup_mz_image (Array(200, 266, 396)) ''\n",
      "/s20/array_lookup_mz (Array(200, 105336)) ''\n",
      "/s20/array_spectra (Array(2, 67510845)) ''\n",
      "/s21/array_avg_intensity (Array(2, 446377)) ''\n",
      "/s21/array_cumulated_lookup_mz_image (Array(200, 215, 394)) ''\n",
      "/s21/array_lookup_mz (Array(200, 84710)) ''\n",
      "/s21/array_spectra (Array(2, 37987006)) ''\n",
      "/s22/array_avg_intensity (Array(2, 1932633)) ''\n",
      "/s22/array_cumulated_lookup_mz_image (Array(200, 207, 416)) ''\n",
      "/s22/array_lookup_mz (Array(200, 86112)) ''\n",
      "/s22/array_spectra (Array(2, 210661563)) ''\n",
      "/s23/array_avg_intensity (Array(2, 1658063)) ''\n",
      "/s23/array_cumulated_lookup_mz_image (Array(200, 260, 360)) ''\n",
      "/s23/array_lookup_mz (Array(200, 93600)) ''\n",
      "/s23/array_spectra (Array(2, 141635035)) ''\n",
      "/s24/array_avg_intensity (Array(2, 1575361)) ''\n",
      "/s24/array_cumulated_lookup_mz_image (Array(200, 328, 327)) ''\n",
      "/s24/array_lookup_mz (Array(200, 107256)) ''\n",
      "/s24/array_spectra (Array(2, 146750031)) ''\n",
      "/s25/array_avg_intensity (Array(2, 1374586)) ''\n",
      "/s25/array_cumulated_lookup_mz_image (Array(200, 238, 358)) ''\n",
      "/s25/array_lookup_mz (Array(200, 85204)) ''\n",
      "/s25/array_spectra (Array(2, 120454670)) ''\n",
      "/s26/array_avg_intensity (Array(2, 1662838)) ''\n",
      "/s26/array_cumulated_lookup_mz_image (Array(200, 248, 340)) ''\n",
      "/s26/array_lookup_mz (Array(200, 84320)) ''\n",
      "/s26/array_spectra (Array(2, 148948855)) ''\n",
      "/s27/array_avg_intensity (Array(2, 2114418)) ''\n",
      "/s27/array_cumulated_lookup_mz_image (Array(200, 272, 372)) ''\n",
      "/s27/array_lookup_mz (Array(200, 101184)) ''\n",
      "/s27/array_spectra (Array(2, 219412199)) ''\n",
      "/s28/array_avg_intensity (Array(2, 1409452)) ''\n",
      "/s28/array_cumulated_lookup_mz_image (Array(200, 244, 390)) ''\n",
      "/s28/array_lookup_mz (Array(200, 95160)) ''\n",
      "/s28/array_spectra (Array(2, 142619485)) ''\n",
      "/s29/array_avg_intensity (Array(2, 1621318)) ''\n",
      "/s29/array_cumulated_lookup_mz_image (Array(200, 277, 330)) ''\n",
      "/s29/array_lookup_mz (Array(200, 91410)) ''\n",
      "/s29/array_spectra (Array(2, 191848891)) ''\n",
      "/s3/array_avg_intensity (Array(2, 1517937)) ''\n",
      "/s3/array_cumulated_lookup_mz_image (Array(200, 195, 371)) ''\n",
      "/s3/array_lookup_mz (Array(200, 72345)) ''\n",
      "/s3/array_spectra (Array(2, 81679721)) ''\n",
      "/s30/array_avg_intensity (Array(2, 2188099)) ''\n",
      "/s30/array_cumulated_lookup_mz_image (Array(200, 278, 367)) ''\n",
      "/s30/array_lookup_mz (Array(200, 102026)) ''\n",
      "/s30/array_spectra (Array(2, 307003267)) ''\n",
      "/s31/array_avg_intensity (Array(2, 1896419)) ''\n",
      "/s31/array_cumulated_lookup_mz_image (Array(200, 239, 355)) ''\n",
      "/s31/array_lookup_mz (Array(200, 84845)) ''\n",
      "/s31/array_spectra (Array(2, 223147675)) ''\n",
      "/s32/array_avg_intensity (Array(2, 1892870)) ''\n",
      "/s32/array_cumulated_lookup_mz_image (Array(200, 230, 298)) ''\n",
      "/s32/array_lookup_mz (Array(200, 68540)) ''\n",
      "/s32/array_spectra (Array(2, 176050711)) ''\n",
      "/s4/array_avg_intensity (Array(2, 1461370)) ''\n",
      "/s4/array_cumulated_lookup_mz_image (Array(200, 228, 354)) ''\n",
      "/s4/array_lookup_mz (Array(200, 80712)) ''\n",
      "/s4/array_spectra (Array(2, 76794424)) ''\n",
      "/s5/array_avg_intensity (Array(2, 1468899)) ''\n",
      "/s5/array_cumulated_lookup_mz_image (Array(200, 272, 396)) ''\n",
      "/s5/array_lookup_mz (Array(200, 107712)) ''\n",
      "/s5/array_spectra (Array(2, 93545625)) ''\n",
      "/s6/array_avg_intensity (Array(2, 2019361)) ''\n",
      "/s6/array_cumulated_lookup_mz_image (Array(200, 282, 423)) ''\n",
      "/s6/array_lookup_mz (Array(200, 119286)) ''\n",
      "/s6/array_spectra (Array(2, 185917341)) ''\n",
      "/s7/array_avg_intensity (Array(2, 2212207)) ''\n",
      "/s7/array_cumulated_lookup_mz_image (Array(200, 263, 427)) ''\n",
      "/s7/array_lookup_mz (Array(200, 112301)) ''\n",
      "/s7/array_spectra (Array(2, 204867018)) ''\n",
      "/s8/array_avg_intensity (Array(2, 1703966)) ''\n",
      "/s8/array_cumulated_lookup_mz_image (Array(200, 285, 430)) ''\n",
      "/s8/array_lookup_mz (Array(200, 122550)) ''\n",
      "/s8/array_spectra (Array(2, 115133049)) ''\n",
      "/s9/array_avg_intensity (Array(2, 2225958)) ''\n",
      "/s9/array_cumulated_lookup_mz_image (Array(200, 278, 467)) ''\n",
      "/s9/array_lookup_mz (Array(200, 129826)) ''\n",
      "/s9/array_spectra (Array(2, 245843895)) ''\n"
     ]
    }
   ],
   "source": [
    "with tables.open_file(output_folder + 'slices.hdf5', mode='r') as hdf5_file:\n",
    "    n_slices = len(list(hdf5_file.root))\n",
    "    print('Number of slices recorder: ', n_slices)\n",
    "    print('Array spectra of slice 1: ', hdf5_file.root['s1'].array_spectra)\n",
    "    print('List all arrays recorded in the file: ')\n",
    "    for group in hdf5_file.walk_groups():\n",
    "        for array in hdf5_file.list_nodes(group, classname='Array'):\n",
    "            print(array)"
   ]
  },
  {
   "cell_type": "markdown",
   "metadata": {},
   "source": [
    "Clean temporary folder"
   ]
  },
  {
   "cell_type": "code",
   "execution_count": 5,
   "metadata": {},
   "outputs": [],
   "source": [
    "clean = True\n",
    "if clean:\n",
    "    for filename in os.listdir(input_folder):\n",
    "        file_path = os.path.join(input_folder, filename)\n",
    "        try:\n",
    "            if os.path.isfile(file_path) or os.path.islink(file_path):\n",
    "                os.unlink(file_path)\n",
    "            elif os.path.isdir(file_path):\n",
    "                shutil.rmtree(file_path)\n",
    "        except Exception as e:\n",
    "            print('Failed to delete %s. Reason: %s' % (file_path, e))\n"
   ]
  },
  {
   "cell_type": "code",
   "execution_count": null,
   "metadata": {},
   "outputs": [],
   "source": []
  }
 ],
 "metadata": {
  "interpreter": {
   "hash": "0c1aa729cc35b9a783763c24c4069d7da678acf641f89d4e1df25bf02079ad65"
  },
  "kernelspec": {
   "display_name": "Python 3",
   "language": "python",
   "name": "python3"
  },
  "language_info": {
   "codemirror_mode": {
    "name": "ipython",
    "version": 3
   },
   "file_extension": ".py",
   "mimetype": "text/x-python",
   "name": "python",
   "nbconvert_exporter": "python",
   "pygments_lexer": "ipython3",
   "version": "3.9.4"
  }
 },
 "nbformat": 4,
 "nbformat_minor": 4
}
