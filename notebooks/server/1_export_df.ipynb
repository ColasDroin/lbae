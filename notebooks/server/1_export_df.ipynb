{
 "cells": [
  {
   "cell_type": "markdown",
   "metadata": {},
   "source": [
    "# Notebook 1: Raw data export into HDF5"
   ]
  },
  {
   "cell_type": "markdown",
   "metadata": {},
   "source": [
    "### Load important modules"
   ]
  },
  {
   "cell_type": "code",
   "execution_count": 1,
   "metadata": {},
   "outputs": [
    {
     "name": "stdout",
     "output_type": "stream",
     "text": [
      "/home/colas/lbae\n"
     ]
    },
    {
     "data": {
      "text/plain": [
       "<threadpoolctl.threadpool_limits at 0x7f8b93fcce80>"
      ]
     },
     "execution_count": 1,
     "metadata": {},
     "output_type": "execute_result"
    }
   ],
   "source": [
    "# Standard imports\n",
    "import sys\n",
    "import numpy as np\n",
    "import pandas as pd\n",
    "from numba import jit\n",
    "import os\n",
    "\n",
    "# mspec imports\n",
    "# os.chdir(\"../../../lbae\")\n",
    "# from lbae.modules.tools.mspec import SmzMLobj\n",
    "from modules.maldi_conversion import process_raw_data\n",
    "\n",
    "# multithreading/multiprocessing\n",
    "from multiprocessing import Pool\n",
    "from threadpoolctl import threadpool_limits\n",
    "\n",
    "# set thread limit\n",
    "threadpool_limits(16)\n"
   ]
  },
  {
   "cell_type": "markdown",
   "metadata": {},
   "source": [
    "### Create a list of raw data filenames"
   ]
  },
  {
   "cell_type": "code",
   "execution_count": 6,
   "metadata": {},
   "outputs": [
    {
     "name": "stdout",
     "output_type": "stream",
     "text": [
      "1 20210210_MouseBrainCMC_S1AA1_2Dpixelmode_322x231_Att25_25um\n",
      "2 20210211_MouseBrainCMC_S2AB5_2Dpixelmode_370x214_Att25_25um\n",
      "3 20210213_MouseBrainCMC_S3AC4_2Dpixelmode_371x195_Att25_25um\n",
      "4 20210214_MouseBrainCMC_S4AD3_2Dpixelmode_354x228_Att25_25um\n",
      "5 20210218_MouseBrainCMC_S5AE3_2Dpixelmode_396x272_Att25_25um\n",
      "6 20210219_MouseBrainCMC_S6AE3_2Dpixelmode_423x282_Att25_25um\n",
      "7 20210220_MouseBrainCMC_S7AF5_2Dpixelmode_427x263_Att25_25um\n",
      "8 20210531_MouseBrainCMC_S8_duplicate_2Dpixelmode_430x285_Att30_25um\n",
      "9 20210224_MouseBrainCMC_S9AH4_2Dpixelmode_467x278_Att25_25um\n",
      "10 20210210_MouseBrainCMC_S10(brain2_20)_394x282_Att30_25um\n",
      "11 20210301_MouseBrainCMC_S11AK5_2Dpixelmode_448x277_Att25_25um\n",
      "12 20210303_MouseBrainCMC_S12AL1_2Dpixelmode_393x266_Att25_25um\n",
      "13 20210304_MouseBrainCMC_S13AM1_2Dpixelmode_413x310_Att25_25um\n",
      "14 20210305_MouseBrainCMC_S14AN1_2Dpixelmode_409x285_Att25_25um\n",
      "15 20210313_MouseBrainCMC_S15AO2_2Dpixelmode_451x292_Att25_25um\n",
      "16 20210530_MouseBrainCMC_S16_duplicate_2Dpixelmode_454x295_Att30_25um\n",
      "17 20210319_MouseBrainCMC_S17AQ2_2Dpixelmode_450x287_Att30_25um\n",
      "18 20210323_MouseBrainCMC_S18AR4_2Dpixelmode_474x291_Att30_25um\n",
      "19 20210325_MouseBrainCMC_S19AS4_2Dpixelmode_396x232_Att30_25um\n",
      "20 20210330_MouseBrainCMC_S20AT3_2Dpixelmode_396x266_Att30_25um\n",
      "21 20210408_MouseBrainCMC_S21AU4_2Dpixelmode_394x215_Att30_25um\n",
      "22 20210409_MouseBrainCMC_S22AV1_2Dpixelmode_416x207_Att30_25um\n",
      "23 20210412_MouseBrainCMC_S23AZ1_2Dpixelmode_360x260_Att30_25um\n",
      "24 20210413_MouseBrainCMC_S24_3_2Dpixelmode_327x328_Att30_25um\n",
      "25 20210414_MouseBrainCMC_S25_2_2Dpixelmode_358x238_Att30_25um\n",
      "26 20210419_MouseBrainCMC_S26_3_2Dpixelmode_340x248_Att30_25um\n",
      "27 20210603_MouseBrainCMC_S27_duplicate_2Dpixelmode_372x272_Att30_25um\n",
      "28 20210423_MouseBrainCMC_S28_3_2Dpixelmode_390x244_Att30_25um\n",
      "29 20210424_MouseBrainCMC_S29_5_2Dpixelmode_330x277_Att30_25um\n",
      "30 20210429_MouseBrainCMC_S30_5_2Dpixelmode_367x278_Att30_25um\n",
      "31 20210501_MouseBrainCMC_S31_3_2Dpixelmode_355x239_Att30_25um\n",
      "32 20210504_MouseBrainCMC_S32_3_2Dpixelmode_298x230_Att30_25um\n"
     ]
    }
   ],
   "source": [
    "# Load filenames\n",
    "l_t_names = sorted(\n",
    "    [\n",
    "        [\n",
    "            int(name.split(\"MouseBrainCMC_S\")[1].split(\"_\")[0].split(\"A\")[0].split(\"(\")[0]),\n",
    "            \"/data/lipidatlas/data/data_raw/\" + name + \"/\" + name,\n",
    "        ]\n",
    "        for name in os.listdir(\"/data/lipidatlas/data/data_raw/\")\n",
    "        if \"MouseBrain\" in name\n",
    "    ]\n",
    ")\n",
    "\n",
    "# Correct for duplicates\n",
    "for t_names_1, t_names_2 in zip(l_t_names[:-1], l_t_names[1:]):\n",
    "    if t_names_2[0] == t_names_1[0]:\n",
    "        t_names_2.append(\"bis\")\n",
    "        print(\"WARNING: duplicate for slice \" + str(t_names_1[0]))\n",
    "\n",
    "# Remove slices that have already been processed\n",
    "os.makedirs(\"./data/temp/\", exist_ok=True) \n",
    "remove_already_loaded = False\n",
    "if remove_already_loaded:\n",
    "    existing_names = [int(name.split(\"_\")[1]) for name in os.listdir(\"./data/temp/\") if \"slice\" in name]\n",
    "    l_t_names = [x for x in l_t_names if x[0] not in existing_names]\n",
    "\n",
    "# Print the final list of names\n",
    "for t_names in l_t_names:\n",
    "    print(t_names[0], t_names[1].split(\"/\")[-1])\n"
   ]
  },
  {
   "cell_type": "markdown",
   "metadata": {},
   "source": [
    "### Process raw data into numpy arrays with multiprocessing"
   ]
  },
  {
   "cell_type": "code",
   "execution_count": 216,
   "metadata": {},
   "outputs": [
    {
     "name": "stdout",
     "output_type": "stream",
     "text": [
      "Loading files : /data/lipidatlas/data/data_raw/20210210_MouseBrainCMC_S10(brain2_20)_394x282_Att30_25um/20210210_MouseBrainCMC_S10(brain2_20)_394x282_Att30_25um\n"
     ]
    },
    {
     "name": "stderr",
     "output_type": "stream",
     "text": [
      "WARNING:root:The mzML file containts more than the expected 111108 spectra. The tailing 1 spectra will be ignored.\n",
      "Loading Sprectra at resolution 1e-05:   0%|          | 89/111108 [00:00<02:05, 884.97it/s]"
     ]
    },
    {
     "name": "stdout",
     "output_type": "stream",
     "text": [
      "[Warning] Not index found and build_index_from_scratch is False\n"
     ]
    },
    {
     "name": "stderr",
     "output_type": "stream",
     "text": [
      "Loading Sprectra at resolution 1e-05: 100%|██████████| 111108/111108 [01:21<00:00, 1361.08it/s]\n",
      "Loading the m/z values at resolution 1e-05: 100%|██████████| 111108/111108 [01:00<00:00, 1849.10it/s]\n",
      "WARNING:root:The sparsified dense matrix S has never been computed. Please wait while it's being generated.\n"
     ]
    },
    {
     "name": "stdout",
     "output_type": "stream",
     "text": [
      "(111108, 10020276)\n",
      "Creating and sorting dataframes\n",
      "Getting spectrums array averaged accross pixels\n",
      "Build the low-resolution averaged array from the high resolution averaged array\n",
      "Double sorting high-res array\n",
      "Getting corresponding spectra arrays\n",
      "Saving : /data/lipidatlas/data/data_raw/20210210_MouseBrainCMC_S10(brain2_20)_394x282_Att30_25um/20210210_MouseBrainCMC_S10(brain2_20)_394x282_Att30_25um\n"
     ]
    }
   ],
   "source": [
    "#with Pool(processes=12) as pool:\n",
    "#    [x for x in pool.imap_unordered(process_raw_data, l_t_names)]\n",
    "   \n",
    "    \n",
    "results = [x for x in map(process_raw_data, l_t_names[:1])]\n"
   ]
  },
  {
   "cell_type": "code",
   "execution_count": 190,
   "metadata": {},
   "outputs": [],
   "source": [
    "def test_array_pixel_indexes(array_pixel_indexes, array_spectra):\n",
    "    #get indexes returned by the function\n",
    "    print('array_pixel_indexes[-2:]', array_pixel_indexes[-2:])\n",
    "    print('array_pixel_indexes[:2]', array_pixel_indexes[:2])\n",
    "    print()\n",
    "    #look at corresponding mz value\n",
    "    print('array_spectra[0,array_pixel_indexes[0,0]]', array_spectra[0,array_pixel_indexes[0,0]])\n",
    "    print('array_spectra[0,array_pixel_indexes[0,1]]', array_spectra[0,array_pixel_indexes[0,1]])\n",
    "    print('array_spectra[0,array_pixel_indexes[0,1]+1]', array_spectra[0,array_pixel_indexes[0,1]+1])\n",
    "    print()\n",
    "    print('array_spectra[0,array_pixel_indexes[100,0]-1]', array_spectra[0,array_pixel_indexes[100,0]-1])\n",
    "    print('array_spectra[0,array_pixel_indexes[100,0]]', array_spectra[0,array_pixel_indexes[100,0]])\n",
    "    print('array_spectra[0,array_pixel_indexes[100,1]]', array_spectra[0,array_pixel_indexes[100,1]])\n",
    "    print('array_spectra[0,array_pixel_indexes[100,1]+1]', array_spectra[0,array_pixel_indexes[100,1]+1])\n",
    "    print()\n",
    "    print('array_spectra[0,array_pixel_indexes[-1,0]-1]', array_spectra[0,array_pixel_indexes[-1,0]-1])\n",
    "    print('array_spectra[0,array_pixel_indexes[-1,0]]', array_spectra[0,array_pixel_indexes[-1,0]])\n",
    "    print('array_spectra[0,array_pixel_indexes[-1,1]]', array_spectra[0,array_pixel_indexes[-1,1]])\n",
    "    print('array_spectra[0,-1]', array_spectra[0,-1])"
   ]
  },
  {
   "cell_type": "markdown",
   "metadata": {},
   "source": [
    "## Define function to build lookup tables"
   ]
  },
  {
   "cell_type": "markdown",
   "metadata": {},
   "source": [
    "Function to convert index to coordinates and inversely\n"
   ]
  },
  {
   "cell_type": "code",
   "execution_count": 217,
   "metadata": {},
   "outputs": [],
   "source": [
    "@jit(nopython=True)\n",
    "def convert_spectrum_index_to_coordinate(index, shape):\n",
    "    return int(index//shape[1]), int(index%shape[1])"
   ]
  },
  {
   "cell_type": "markdown",
   "metadata": {},
   "source": [
    "Lookup table to map mz value to indexes in array_spectra"
   ]
  },
  {
   "cell_type": "code",
   "execution_count": 218,
   "metadata": {},
   "outputs": [],
   "source": [
    "@jit(nopython=True)\n",
    "def build_index_lookup_table(array_spectra, array_pixel_indexes, divider_lookup):\n",
    "    #for each pixel, lookup gives the first index of mz such that mz>=lookup*divider_lookup\n",
    "    #if no such mz, lookup gives last possible mz index (i.e. bigger possible mz for the current pixel, but under the lookup)\n",
    "    # if lookup*divider_lookup is bigger than the smallest mz, lookup returns the first mz index possible for the current pixel, above the current lookup\n",
    "    # if no peak at all in the spectrum... lookup return -1\n",
    "    \n",
    "    size_spectrum = 2000\n",
    "    \n",
    "    lookup_table = np.zeros((size_spectrum//divider_lookup, array_pixel_indexes.shape[0]), dtype=np.int32)\n",
    "    lookup_table[0,:] = array_pixel_indexes[:,0]\n",
    "    for idx_pix in range(array_pixel_indexes.shape[0]):\n",
    "        j = array_pixel_indexes[idx_pix, 0]\n",
    "        \n",
    "        #if there's no peak for the current pixel, lookup is -1 \n",
    "        if j==-1:\n",
    "            for i in range(size_spectrum//divider_lookup):\n",
    "                lookup_table[i, idx_pix] = -1\n",
    "                \n",
    "        for index_lookup in range(size_spectrum//divider_lookup-1):\n",
    "        \n",
    "            #else first find the first mz index corresponding to current lookup for current pixel (skipped if current mz>lookup)\n",
    "            while array_spectra[0,j]<((index_lookup+1)*divider_lookup):\n",
    "                j+=1\n",
    "                if j==array_pixel_indexes[idx_pix,1]+1:\n",
    "                    break\n",
    "\n",
    "            #check that we're still in the good pixel and add mz index to lookup\n",
    "            if j<array_pixel_indexes[idx_pix,1]+1:\n",
    "                lookup_table[index_lookup+1, idx_pix] = j\n",
    "                \n",
    "            #if we're not in the good pixel, this means that the while loop was exited because the lookup didn't exist, so we fill the rest of the table with biggest possible value\n",
    "            else:\n",
    "                for i in range(index_lookup+1, size_spectrum//divider_lookup):\n",
    "                    lookup_table[i, idx_pix] = j-1\n",
    "                break\n",
    "        \n",
    "    return lookup_table"
   ]
  },
  {
   "cell_type": "markdown",
   "metadata": {},
   "source": [
    "Lookup table to map mz value to image of cumulated spectrum until this mz value"
   ]
  },
  {
   "cell_type": "code",
   "execution_count": 219,
   "metadata": {},
   "outputs": [],
   "source": [
    "@jit(nopython=True)\n",
    "def build_cumulated_image_lookup_table(array_spectra, array_pixel_indexes, img_shape, divider_lookup):\n",
    "    size_spectrum = 2000\n",
    "    \n",
    "    image_lookup_table = np.zeros((size_spectrum//divider_lookup, img_shape[0], img_shape[1] ), dtype=np.float32) \n",
    "    image_lookup_table[0,:] = np.zeros((img_shape[0], img_shape[1]), dtype=np.float32)\n",
    "    for idx_pix in range(array_pixel_indexes.shape[0]):\n",
    "        j = array_pixel_indexes[idx_pix, 0]\n",
    "        #if current pixel contains no peak, just skip to next one and add nothing\n",
    "        if j==-1:\n",
    "            continue\n",
    "            \n",
    "        pix_value = 0\n",
    "        coor_pix = convert_spectrum_index_to_coordinate(idx_pix, img_shape)\n",
    "        for index_lookup in range(size_spectrum//divider_lookup-1):\n",
    "            while array_spectra[0,j]>=(index_lookup*divider_lookup) and array_spectra[0,j]<((index_lookup+1)*divider_lookup):\n",
    "                pix_value += array_spectra[1,j]\n",
    "                j+=1\n",
    "                if j==array_pixel_indexes[idx_pix,1]+1:\n",
    "                    break\n",
    "\n",
    "            if j<array_pixel_indexes[idx_pix,1]+1:\n",
    "                image_lookup_table[index_lookup+1,coor_pix[0], coor_pix[1]] = pix_value\n",
    "            else:\n",
    "                for i in range(index_lookup+1, size_spectrum//divider_lookup):\n",
    "                    image_lookup_table[i, coor_pix[0], coor_pix[1]] = pix_value\n",
    "                break\n",
    "        \n",
    "    return image_lookup_table"
   ]
  },
  {
   "cell_type": "markdown",
   "metadata": {},
   "source": [
    "Build a new lookup table to compute fast the indexes corresponding to the boundaries selected on dash"
   ]
  },
  {
   "cell_type": "code",
   "execution_count": 220,
   "metadata": {},
   "outputs": [],
   "source": [
    "@jit(nopython=True)\n",
    "def build_index_lookup_table_averaged_spectrum(array_mz):\n",
    "    size_spectrum = 2000\n",
    "    lookup_table = np.empty((size_spectrum), dtype=np.int32)\n",
    "    j = 0\n",
    "    lookup_table[0] = 0\n",
    "    for index_lookup in range(size_spectrum-1):\n",
    "        while array_mz[j]<index_lookup+1:\n",
    "            j+=1\n",
    "            if j==array_mz.shape[0]:\n",
    "                break\n",
    "                \n",
    "        if j<array_mz.shape[0]:\n",
    "            lookup_table[index_lookup+1] = j\n",
    "        else:\n",
    "            for i in range(index_lookup+1, size_spectrum):\n",
    "                lookup_table[i] = j-1\n",
    "            break\n",
    "        \n",
    "    return lookup_table"
   ]
  },
  {
   "cell_type": "markdown",
   "metadata": {},
   "source": [
    "Extend the averaged spectra with zeros to be able to plot them with scatterplotgl"
   ]
  },
  {
   "cell_type": "code",
   "execution_count": 221,
   "metadata": {},
   "outputs": [],
   "source": [
    "@jit(nopython=True)\n",
    "def add_zeros_to_spectrum(array_spectra, pad_individual_peaks = False):\n",
    "    #for speed, allocate array of maximum size\n",
    "    new_array_spectra = np.zeros((array_spectra.shape[0], array_spectra.shape[1]*3), dtype=np.float32)\n",
    "\n",
    "    if pad_individual_peaks:\n",
    "        pad = 0\n",
    "        #print(np.min(array_spectra[0,1:]-array_spectra[0,:-1]))\n",
    "        for i in range(array_spectra.shape[1]-1):\n",
    "            \n",
    "            #if there's a discontinuity between two peaks, pad with zeros\n",
    "            if (array_spectra[0,i+1] - array_spectra[0,i] >= 2 * 10**-4):\n",
    "                #print(\"discontuinuity detected\")\n",
    "                #break\n",
    "                #add left peak\n",
    "                new_array_spectra[0, i+pad] = array_spectra[0,i]\n",
    "                new_array_spectra[1, i+pad] = array_spectra[1,i]\n",
    "\n",
    "                #add zero to the right of left peak\n",
    "                pad+=1\n",
    "                new_array_spectra[0, i+pad] = array_spectra[0,i]+10**-5\n",
    "                new_array_spectra[1, i+pad] = 0\n",
    "\n",
    "                #add zero to the left of right peak\n",
    "                pad+=1\n",
    "                new_array_spectra[0, i+pad] = array_spectra[0,i+1]-10**-5\n",
    "                new_array_spectra[1, i+pad] = 0\n",
    "\n",
    "                #right peak added in the next loop iteration\n",
    "            else:\n",
    "                #print(\"two near peaks\")\n",
    "                new_array_spectra[0, i+pad] = array_spectra[0,i]\n",
    "                new_array_spectra[1, i+pad] = array_spectra[1,i]\n",
    "                \n",
    "        new_array_spectra[0, array_spectra.shape[1]+pad-1] = array_spectra[0,-1]\n",
    "        new_array_spectra[1, array_spectra.shape[1]+pad-1] = array_spectra[1,-1]        \n",
    "        return new_array_spectra[:,:array_spectra.shape[1]+pad] \n",
    "\n",
    "    else:\n",
    "        for i in range(array_spectra.shape[1]):\n",
    "            #store old array in a regular grid in the extended array\n",
    "            new_array_spectra[0, 3*i+1] = array_spectra[0,i]\n",
    "            new_array_spectra[1, 3*i+1] = array_spectra[1,i]\n",
    "            \n",
    "            #add zeros in the remaining slots\n",
    "            new_array_spectra[0, 3*i] = array_spectra[0,i]-10**-4\n",
    "            new_array_spectra[0, 3*i+2] = array_spectra[0,i]+10**-4\n",
    "    \n",
    "        return new_array_spectra"
   ]
  },
  {
   "cell_type": "code",
   "execution_count": 222,
   "metadata": {},
   "outputs": [],
   "source": [
    "def process_lookup_tables(t_index_name, l_arrays_raw_data = None, load_from_file = True, test = False, save = True):\n",
    "    \n",
    "    if l_arrays_raw_data is not None:\n",
    "        array_pixel_indexes_high_res, array_spectra_high_res, array_averaged_mz_intensity_low_res, array_averaged_mz_intensity_high_res, image_shape = l_arrays_raw_data\n",
    "        \n",
    "    elif load_from_file:\n",
    "        \n",
    "        #get slice path\n",
    "        index_slice = t_index_name[0]\n",
    "        name = t_index_name[1]\n",
    "        try:\n",
    "            appendix = '_unfiltered'\n",
    "            if len(t_index_name)>2:\n",
    "                path = 'data/slice_' + str(index_slice) + '_bis' + appendix + '.npz'\n",
    "                npzfile = np.load(path)\n",
    "                #annotate repeated slice by multiplying their index by thousand (easier than replacing slice name with a non-int like bis)\n",
    "                path = 'data/slice_' + str(index_slice*1000) + appendix + '.npz'\n",
    "            else:\n",
    "                path = 'data/slice_' + str(index_slice) + appendix + '.npz'\n",
    "                npzfile = np.load(path)\n",
    "        except:\n",
    "            appendix = '_filtered'\n",
    "            if len(t_index_name)>2:\n",
    "                path = 'data/slice_' + str(index_slice) + '_bis' + appendix + '.npz'\n",
    "                npzfile = np.load(path)\n",
    "                #annotate repeated slice by multiplying their index by thousand (easier than replacing slice name with a non-int like bis)\n",
    "                path = 'data/slice_' + str(index_slice*1000) + appendix + '.npz'\n",
    "            else:\n",
    "                path = 'data/slice_' + str(index_slice) + appendix + '.npz'\n",
    "                npzfile = np.load(path)            \n",
    "                \n",
    "        #load individual arrays\n",
    "        array_pixel_indexes_high_res = npzfile['array_pixel_indexes_high_res']\n",
    "        array_spectra_high_res = npzfile['array_spectra_high_res']\n",
    "        array_averaged_mz_intensity_low_res = npzfile['array_averaged_mz_intensity_low_res']\n",
    "        array_averaged_mz_intensity_high_res = npzfile['array_averaged_mz_intensity_high_res']\n",
    "        image_shape = npzfile['image_shape']\n",
    "        \n",
    "        if 'divider_lookup' in npzfile:\n",
    "            print('This file has already been processed before')\n",
    "            return None\n",
    "    else:\n",
    "        print(\"Either the data or a filename must be provided\")\n",
    "        return None\n",
    "        \n",
    "    #define divider_lookup\n",
    "    divider_lookup = 10\n",
    "        \n",
    "    #buid lookup table linking mz value to index in array_spectra for each pixel\n",
    "    lookup_table_spectra_high_res = build_index_lookup_table(array_spectra_high_res, array_pixel_indexes_high_res, divider_lookup)\n",
    "    print(\"Size (in mb) of lookup_table_spectra_high_res: \" , round(lookup_table_spectra_high_res.nbytes / 1024 / 1024,2))\n",
    "    print(\"Shape of lookup_table_spectra_high_res: \", lookup_table_spectra_high_res.shape)\n",
    "    if test:\n",
    "        #value should be equal or > to 50*10\n",
    "        print(\"Following values should be >= to 500: (very high values correspond to -1, i.e. no peak in pixel)\", array_spectra_high_res[0,lookup_table_spectra_high_res[50]])\n",
    "        \n",
    "    #build lookup table of the cumulated spectrum for each pixel\n",
    "    cumulated_image_lookup_table_high_res = build_cumulated_image_lookup_table(array_spectra_high_res , array_pixel_indexes_high_res\n",
    "                                                                               , image_shape, divider_lookup)\n",
    "    print(\"Size (in mb) of cumulated_image_lookup_table_high_res: \" , round(cumulated_image_lookup_table_high_res.nbytes / 1024 / 1024,2))\n",
    "    print(\"Shape of cumulated_image_lookup_table_high_res: \", cumulated_image_lookup_table_high_res.shape)\n",
    "    \n",
    "    #build lookup table to compute fast the indexes corresponding to the boundaries selected on dash\n",
    "    lookup_table_averaged_spectrum_high_res = build_index_lookup_table_averaged_spectrum(array_mz = array_averaged_mz_intensity_high_res[0,:])\n",
    "    print(\"Size (in mb) of lookup_table_averaged_spectrum_high_res: \" , round(lookup_table_averaged_spectrum_high_res.nbytes / 1024 / 1024,2))\n",
    "    print(\"Shape of lookup_table_averaged_spectrum_high_res: \", lookup_table_averaged_spectrum_high_res.shape)\n",
    "    \n",
    "    #extend averaged arrays with zeros for nicer display\n",
    "    array_averaged_mz_intensity_low_res = add_zeros_to_spectrum(array_averaged_mz_intensity_low_res, pad_individual_peaks = True)\n",
    "    array_averaged_mz_intensity_high_res = add_zeros_to_spectrum(array_averaged_mz_intensity_high_res, pad_individual_peaks = True)\n",
    "    \n",
    "    #normalize spectrum\n",
    "    array_averaged_mz_intensity_low_res[1,:] /= np.sum(array_averaged_mz_intensity_low_res[1,:])\n",
    "    array_averaged_mz_intensity_high_res[1,:] /= np.sum(array_averaged_mz_intensity_high_res[1,:])\n",
    "    for (b1, b2) in array_pixel_indexes_high_res:\n",
    "        array_spectra_high_res[1,b1:b2+1] /= np.sum(array_spectra_high_res[1,b1:b2+1])\n",
    "\n",
    "    if save:\n",
    "        #save as npz file\n",
    "        print(\"Saving...\")\n",
    "        np.savez(path, array_pixel_indexes_high_res=array_pixel_indexes_high_res, \n",
    "                      array_spectra_high_res=array_spectra_high_res, \n",
    "                      array_averaged_mz_intensity_low_res = array_averaged_mz_intensity_low_res,\n",
    "                      array_averaged_mz_intensity_high_res = array_averaged_mz_intensity_high_res,\n",
    "                      image_shape = image_shape,\n",
    "                      divider_lookup = divider_lookup,\n",
    "                      lookup_table_spectra_high_res = lookup_table_spectra_high_res,\n",
    "                      cumulated_image_lookup_table_high_res = cumulated_image_lookup_table_high_res,\n",
    "                      lookup_table_averaged_spectrum_high_res = lookup_table_averaged_spectrum_high_res,\n",
    "                )\n",
    "    \n",
    "    "
   ]
  },
  {
   "cell_type": "code",
   "execution_count": 224,
   "metadata": {},
   "outputs": [
    {
     "name": "stdout",
     "output_type": "stream",
     "text": [
      "Size (in mb) of lookup_table_spectra_high_res:  84.77\n",
      "Shape of lookup_table_spectra_high_res:  (200, 111108)\n",
      "Size (in mb) of cumulated_image_lookup_table_high_res:  84.77\n",
      "Shape of cumulated_image_lookup_table_high_res:  (200, 282, 394)\n",
      "Size (in mb) of lookup_table_averaged_spectrum_high_res:  0.01\n",
      "Shape of lookup_table_averaged_spectrum_high_res:  (2000,)\n",
      "Saving...\n"
     ]
    }
   ],
   "source": [
    "with Pool(processes=12) as pool:\n",
    "    ll_res = pool.map(process_lookup_tables, l_t_names)\n",
    "                       "
   ]
  },
  {
   "cell_type": "code",
   "execution_count": null,
   "metadata": {},
   "outputs": [],
   "source": []
  }
 ],
 "metadata": {
  "interpreter": {
   "hash": "0c1aa729cc35b9a783763c24c4069d7da678acf641f89d4e1df25bf02079ad65"
  },
  "kernelspec": {
   "display_name": "Python 3.9.4 64-bit ('base': conda)",
   "name": "python3"
  },
  "language_info": {
   "codemirror_mode": {
    "name": "ipython",
    "version": 3
   },
   "file_extension": ".py",
   "mimetype": "text/x-python",
   "name": "python",
   "nbconvert_exporter": "python",
   "pygments_lexer": "ipython3",
   "version": "3.9.4"
  }
 },
 "nbformat": 4,
 "nbformat_minor": 4
}
