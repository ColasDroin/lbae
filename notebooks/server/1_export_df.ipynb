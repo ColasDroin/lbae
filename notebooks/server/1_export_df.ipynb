{
 "cells": [
  {
   "cell_type": "markdown",
   "metadata": {},
   "source": [
    "# Notebook 1: Raw data export into HDF5"
   ]
  },
  {
   "cell_type": "markdown",
   "metadata": {},
   "source": [
    "### Load important modules"
   ]
  },
  {
   "cell_type": "code",
   "execution_count": 1,
   "metadata": {},
   "outputs": [
    {
     "data": {
      "text/plain": [
       "<threadpoolctl.threadpool_limits at 0x7f15ba6b2ac0>"
      ]
     },
     "execution_count": 1,
     "metadata": {},
     "output_type": "execute_result"
    }
   ],
   "source": [
    "# Standard imports\n",
    "import sys\n",
    "import numpy as np\n",
    "import pandas as pd\n",
    "from numba import jit\n",
    "import os\n",
    "import shutil\n",
    "import tables\n",
    "\n",
    "# Move to root directory for easier module import\n",
    "os.chdir(\"../../\")\n",
    "from notebooks.server.modules.maldi_conversion import process_raw_data\n",
    "from notebooks.server.modules.lookup_tables import process_lookup_tables\n",
    "\n",
    "# multithreading/multiprocessing\n",
    "from multiprocessing import Pool\n",
    "from threadpoolctl import threadpool_limits\n",
    "\n",
    "# set thread limit\n",
    "threadpool_limits(16)\n"
   ]
  },
  {
   "cell_type": "markdown",
   "metadata": {},
   "source": [
    "### Create a list of raw data filenames"
   ]
  },
  {
   "cell_type": "code",
   "execution_count": 2,
   "metadata": {},
   "outputs": [
    {
     "name": "stdout",
     "output_type": "stream",
     "text": [
      "1 20210210_MouseBrainCMC_S1AA1_2Dpixelmode_322x231_Att25_25um\n",
      "2 20210211_MouseBrainCMC_S2AB5_2Dpixelmode_370x214_Att25_25um\n",
      "3 20210213_MouseBrainCMC_S3AC4_2Dpixelmode_371x195_Att25_25um\n",
      "4 20210214_MouseBrainCMC_S4AD3_2Dpixelmode_354x228_Att25_25um\n",
      "5 20210218_MouseBrainCMC_S5AE3_2Dpixelmode_396x272_Att25_25um\n",
      "6 20210219_MouseBrainCMC_S6AE3_2Dpixelmode_423x282_Att25_25um\n",
      "7 20210220_MouseBrainCMC_S7AF5_2Dpixelmode_427x263_Att25_25um\n",
      "8 20210531_MouseBrainCMC_S8_duplicate_2Dpixelmode_430x285_Att30_25um\n",
      "9 20210224_MouseBrainCMC_S9AH4_2Dpixelmode_467x278_Att25_25um\n",
      "10 20210210_MouseBrainCMC_S10(brain2_20)_394x282_Att30_25um\n",
      "11 20210301_MouseBrainCMC_S11AK5_2Dpixelmode_448x277_Att25_25um\n",
      "12 20210303_MouseBrainCMC_S12AL1_2Dpixelmode_393x266_Att25_25um\n",
      "13 20210304_MouseBrainCMC_S13AM1_2Dpixelmode_413x310_Att25_25um\n",
      "14 20210305_MouseBrainCMC_S14AN1_2Dpixelmode_409x285_Att25_25um\n",
      "15 20210313_MouseBrainCMC_S15AO2_2Dpixelmode_451x292_Att25_25um\n",
      "16 20210530_MouseBrainCMC_S16_duplicate_2Dpixelmode_454x295_Att30_25um\n",
      "17 20210319_MouseBrainCMC_S17AQ2_2Dpixelmode_450x287_Att30_25um\n",
      "18 20210323_MouseBrainCMC_S18AR4_2Dpixelmode_474x291_Att30_25um\n",
      "19 20210325_MouseBrainCMC_S19AS4_2Dpixelmode_396x232_Att30_25um\n",
      "20 20210330_MouseBrainCMC_S20AT3_2Dpixelmode_396x266_Att30_25um\n",
      "21 20210408_MouseBrainCMC_S21AU4_2Dpixelmode_394x215_Att30_25um\n",
      "22 20210409_MouseBrainCMC_S22AV1_2Dpixelmode_416x207_Att30_25um\n",
      "23 20210412_MouseBrainCMC_S23AZ1_2Dpixelmode_360x260_Att30_25um\n",
      "24 20210413_MouseBrainCMC_S24_3_2Dpixelmode_327x328_Att30_25um\n",
      "25 20210414_MouseBrainCMC_S25_2_2Dpixelmode_358x238_Att30_25um\n",
      "26 20210419_MouseBrainCMC_S26_3_2Dpixelmode_340x248_Att30_25um\n",
      "27 20210603_MouseBrainCMC_S27_duplicate_2Dpixelmode_372x272_Att30_25um\n",
      "28 20210423_MouseBrainCMC_S28_3_2Dpixelmode_390x244_Att30_25um\n",
      "29 20210424_MouseBrainCMC_S29_5_2Dpixelmode_330x277_Att30_25um\n",
      "30 20210429_MouseBrainCMC_S30_5_2Dpixelmode_367x278_Att30_25um\n",
      "31 20210501_MouseBrainCMC_S31_3_2Dpixelmode_355x239_Att30_25um\n",
      "32 20210504_MouseBrainCMC_S32_3_2Dpixelmode_298x230_Att30_25um\n"
     ]
    }
   ],
   "source": [
    "# Load filenames\n",
    "l_t_names = sorted(\n",
    "    [\n",
    "        [\n",
    "            int(name.split(\"MouseBrainCMC_S\")[1].split(\"_\")[0].split(\"A\")[0].split(\"(\")[0]),\n",
    "            \"/data/lipidatlas/data/data_raw/\" + name + \"/\" + name,\n",
    "        ]\n",
    "        for name in os.listdir(\"/data/lipidatlas/data/data_raw/\")\n",
    "        if \"MouseBrain\" in name\n",
    "    ]\n",
    ")\n",
    "\n",
    "# Correct for duplicates\n",
    "for t_names_1, t_names_2 in zip(l_t_names[:-1], l_t_names[1:]):\n",
    "    if t_names_2[0] == t_names_1[0]:\n",
    "        t_names_2.append(\"bis\")\n",
    "        print(\"WARNING: duplicate for slice \" + str(t_names_1[0]))\n",
    "\n",
    "# Remove slices that have already been processed\n",
    "path = \"notebooks/server/data/temp/\"\n",
    "os.makedirs(path, exist_ok=True)\n",
    "remove_already_loaded = False\n",
    "if remove_already_loaded:\n",
    "    existing_names = [int(name.split(\"_\")[1]) for name in os.listdir(path) if \"slice\" in name]\n",
    "    l_t_names = [x for x in l_t_names if x[0] not in existing_names]\n",
    "\n",
    "# Print the final list of names\n",
    "for t_names in l_t_names:\n",
    "    print(t_names[0], t_names[1].split(\"/\")[-1])\n"
   ]
  },
  {
   "cell_type": "markdown",
   "metadata": {},
   "source": [
    "### Process raw data into numpy arrays with multiprocessing"
   ]
  },
  {
   "cell_type": "code",
   "execution_count": 3,
   "metadata": {},
   "outputs": [
    {
     "name": "stdout",
     "output_type": "stream",
     "text": [
      "Loading files : /data/lipidatlas/data/data_raw/20210210_MouseBrainCMC_S1AA1_2Dpixelmode_322x231_Att25_25um/20210210_MouseBrainCMC_S1AA1_2Dpixelmode_322x231_Att25_25umLoading files : /data/lipidatlas/data/data_raw/20210220_MouseBrainCMC_S7AF5_2Dpixelmode_427x263_Att25_25um/20210220_MouseBrainCMC_S7AF5_2Dpixelmode_427x263_Att25_25umLoading files : /data/lipidatlas/data/data_raw/20210224_MouseBrainCMC_S9AH4_2Dpixelmode_467x278_Att25_25um/20210224_MouseBrainCMC_S9AH4_2Dpixelmode_467x278_Att25_25umLoading files : /data/lipidatlas/data/data_raw/20210210_MouseBrainCMC_S10(brain2_20)_394x282_Att30_25um/20210210_MouseBrainCMC_S10(brain2_20)_394x282_Att30_25umLoading files : /data/lipidatlas/data/data_raw/20210531_MouseBrainCMC_S8_duplicate_2Dpixelmode_430x285_Att30_25um/20210531_MouseBrainCMC_S8_duplicate_2Dpixelmode_430x285_Att30_25umLoading files : /data/lipidatlas/data/data_raw/20210211_MouseBrainCMC_S2AB5_2Dpixelmode_370x214_Att25_25um/20210211_MouseBrainCMC_S2AB5_2Dpixelmode_370x214_Att25_25umLoading files : /data/lipidatlas/data/data_raw/20210213_MouseBrainCMC_S3AC4_2Dpixelmode_371x195_Att25_25um/20210213_MouseBrainCMC_S3AC4_2Dpixelmode_371x195_Att25_25umLoading files : /data/lipidatlas/data/data_raw/20210301_MouseBrainCMC_S11AK5_2Dpixelmode_448x277_Att25_25um/20210301_MouseBrainCMC_S11AK5_2Dpixelmode_448x277_Att25_25umLoading files : /data/lipidatlas/data/data_raw/20210303_MouseBrainCMC_S12AL1_2Dpixelmode_393x266_Att25_25um/20210303_MouseBrainCMC_S12AL1_2Dpixelmode_393x266_Att25_25umLoading files : /data/lipidatlas/data/data_raw/20210219_MouseBrainCMC_S6AE3_2Dpixelmode_423x282_Att25_25um/20210219_MouseBrainCMC_S6AE3_2Dpixelmode_423x282_Att25_25um\n",
      "\n",
      "\n",
      "\n",
      "\n",
      "\n",
      "\n",
      "\n",
      "\n",
      "\n",
      "Loading files : /data/lipidatlas/data/data_raw/20210218_MouseBrainCMC_S5AE3_2Dpixelmode_396x272_Att25_25um/20210218_MouseBrainCMC_S5AE3_2Dpixelmode_396x272_Att25_25umLoading files : /data/lipidatlas/data/data_raw/20210214_MouseBrainCMC_S4AD3_2Dpixelmode_354x228_Att25_25um/20210214_MouseBrainCMC_S4AD3_2Dpixelmode_354x228_Att25_25um\n",
      "\n",
      "[Warning] Not index found and build_index_from_scratch is False\n"
     ]
    },
    {
     "name": "stderr",
     "output_type": "stream",
     "text": [
      "WARNING:root:The mzML file containts more than the expected 74382 spectra. The tailing 25 spectra will be ignored.\n"
     ]
    },
    {
     "name": "stdout",
     "output_type": "stream",
     "text": [
      "[Warning] Not index found and build_index_from_scratch is False\n",
      "[Warning] Not index found and build_index_from_scratch is False\n"
     ]
    },
    {
     "name": "stderr",
     "output_type": "stream",
     "text": [
      "Loading Sprectra at resolution 1e-05:   0%|          | 0/74382 [00:00<?, ?it/s]WARNING:root:The mzML file containts more than the expected 80712 spectra. The tailing 2 spectra will be ignored.\n",
      "WARNING:root:The mzML file containts more than the expected 107712 spectra. The tailing 8 spectra will be ignored.\n",
      "Loading Sprectra at resolution 1e-05:   0%|          | 0/107712 [00:00<?, ?it/s]"
     ]
    },
    {
     "name": "stdout",
     "output_type": "stream",
     "text": [
      "[Warning] Not index found and build_index_from_scratch is False\n"
     ]
    },
    {
     "name": "stderr",
     "output_type": "stream",
     "text": [
      "WARNING:root:The mzML file containts more than the expected 104538 spectra. The tailing 21 spectra will be ignored.\n",
      "Loading Sprectra at resolution 1e-05:   0%|          | 0/104538 [00:00<?, ?it/s]"
     ]
    },
    {
     "name": "stdout",
     "output_type": "stream",
     "text": [
      "[Warning] Not index found and build_index_from_scratch is False\n",
      "[Warning] Not index found and build_index_from_scratch is False\n",
      "[Warning] Not index found and build_index_from_scratch is False\n"
     ]
    },
    {
     "name": "stderr",
     "output_type": "stream",
     "text": [
      "WARNING:root:The mzML file containts more than the expected 79180 spectra. The tailing 16 spectra will be ignored.\n",
      "WARNING:root:The mzML file containts more than the expected 112301 spectra. The tailing 5 spectra will be ignored.\n",
      "Loading Sprectra at resolution 1e-05:   0%|          | 0/112301 [00:00<?, ?it/s]"
     ]
    },
    {
     "name": "stdout",
     "output_type": "stream",
     "text": [
      "[Warning] Not index found and build_index_from_scratch is False[Warning] Not index found and build_index_from_scratch is False\n",
      "\n"
     ]
    },
    {
     "name": "stderr",
     "output_type": "stream",
     "text": [
      "WARNING:root:The mzML file containts more than the expected 111108 spectra. The tailing 1 spectra will be ignored.\n",
      "Loading Sprectra at resolution 1e-05:   0%|          | 0/111108 [00:00<?, ?it/s]"
     ]
    },
    {
     "name": "stdout",
     "output_type": "stream",
     "text": [
      "[Warning] Not index found and build_index_from_scratch is False"
     ]
    },
    {
     "name": "stderr",
     "output_type": "stream",
     "text": [
      "Loading Sprectra at resolution 1e-05:   0%|          | 1/74382 [00:00<13:58:23,  1.48it/s]"
     ]
    },
    {
     "name": "stdout",
     "output_type": "stream",
     "text": [
      "\n",
      "[Warning] Not index found and build_index_from_scratch is False\n"
     ]
    },
    {
     "name": "stderr",
     "output_type": "stream",
     "text": [
      "WARNING:root:The mzML file containts more than the expected 119286 spectra. The tailing 3 spectra will be ignored.\n",
      "WARNING:root:The mzML file containts more than the expected 72345 spectra. The tailing 21 spectra will be ignored.\n",
      "Loading Sprectra at resolution 1e-05:   0%|          | 0/119286 [00:00<?, ?it/s]WARNING:root:The mzML file containts more than the expected 129826 spectra. The tailing 8 spectra will be ignored.\n",
      "Loading Sprectra at resolution 1e-05:   0%|          | 236/74382 [00:00<03:00, 410.97it/s]"
     ]
    },
    {
     "name": "stdout",
     "output_type": "stream",
     "text": [
      "[Warning] Not index found and build_index_from_scratch is False\n"
     ]
    },
    {
     "name": "stderr",
     "output_type": "stream",
     "text": [
      "WARNING:root:The mzML file containts more than the expected 122550 spectra. The tailing 1 spectra will be ignored.\n",
      "Loading Sprectra at resolution 1e-05: 100%|██████████| 72345/72345 [00:35<00:00, 2054.78it/s]\n",
      "Loading Sprectra at resolution 1e-05: 100%|██████████| 80712/80712 [00:36<00:00, 2188.78it/s]\n",
      "Loading Sprectra at resolution 1e-05: 100%|██████████| 74382/74382 [00:38<00:00, 1951.70it/s]\n",
      "Loading Sprectra at resolution 1e-05: 100%|██████████| 79180/79180 [00:40<00:00, 1933.44it/s]\n",
      "Loading Sprectra at resolution 1e-05: 100%|██████████| 107712/107712 [00:46<00:00, 2304.97it/s]\n",
      "Loading Sprectra at resolution 1e-05: 100%|██████████| 104538/104538 [00:51<00:00, 2031.85it/s]\n",
      "Loading Sprectra at resolution 1e-05: 100%|██████████| 122550/122550 [00:54<00:00, 2263.47it/s]\n",
      "Loading Sprectra at resolution 1e-05: 100%|██████████| 111108/111108 [00:55<00:00, 2015.24it/s]\n",
      "Loading Sprectra at resolution 1e-05: 100%|██████████| 119286/119286 [01:02<00:00, 1894.87it/s]\n",
      "Loading Sprectra at resolution 1e-05: 100%|██████████| 112301/112301 [01:05<00:00, 1723.29it/s]\n",
      "Loading Sprectra at resolution 1e-05: 100%|██████████| 124096/124096 [01:06<00:00, 1862.11it/s]\n",
      "Loading the m/z values at resolution 1e-05: 100%|██████████| 80712/80712 [00:36<00:00, 2226.50it/s]\n",
      "Loading Sprectra at resolution 1e-05: 100%|██████████| 129826/129826 [01:14<00:00, 1752.85it/s]\n",
      "Loading the m/z values at resolution 1e-05: 100%|██████████| 72345/72345 [00:39<00:00, 1845.81it/s]\n",
      "Loading the m/z values at resolution 1e-05: 100%|██████████| 74382/74382 [00:38<00:00, 1939.78it/s]\n",
      "Loading the m/z values at resolution 1e-05: 100%|██████████| 107712/107712 [00:38<00:00, 2795.54it/s]\n",
      "Loading the m/z values at resolution 1e-05:  11%|█         | 14319/129826 [00:10<01:20, 1440.20it/s]WARNING:root:The sparsified dense matrix S has never been computed. Please wait while it's being generated.\n",
      "Loading the m/z values at resolution 1e-05: 100%|██████████| 79180/79180 [00:44<00:00, 1795.00it/s]\n",
      "Loading the m/z values at resolution 1e-05:  67%|██████▋   | 69853/104538 [00:33<00:19, 1817.72it/s]WARNING:root:The sparsified dense matrix S has never been computed. Please wait while it's being generated.\n",
      "Loading the m/z values at resolution 1e-05:  72%|███████▏  | 75512/104538 [00:37<00:15, 1869.03it/s]WARNING:root:The sparsified dense matrix S has never been computed. Please wait while it's being generated.\n",
      "Loading the m/z values at resolution 1e-05:  64%|██████▍   | 71430/111108 [00:40<00:19, 2055.01it/s]WARNING:root:The sparsified dense matrix S has never been computed. Please wait while it's being generated.\n",
      "Loading the m/z values at resolution 1e-05:  47%|████▋     | 57759/124096 [00:32<00:41, 1607.73it/s]WARNING:root:The sparsified dense matrix S has never been computed. Please wait while it's being generated.\n",
      "Loading the m/z values at resolution 1e-05: 100%|██████████| 122550/122550 [00:51<00:00, 2384.70it/s]\n",
      "Loading the m/z values at resolution 1e-05: 100%|██████████| 104538/104538 [00:54<00:00, 1919.35it/s]\n",
      "Loading the m/z values at resolution 1e-05: 100%|██████████| 111108/111108 [01:02<00:00, 1773.13it/s]\n",
      "Loading the m/z values at resolution 1e-05:  85%|████████▌ | 101782/119286 [00:56<00:11, 1511.57it/s]WARNING:root:The sparsified dense matrix S has never been computed. Please wait while it's being generated.\n",
      "Loading the m/z values at resolution 1e-05:  51%|█████▏    | 66746/129826 [00:47<00:41, 1527.25it/s]WARNING:root:The sparsified dense matrix S has never been computed. Please wait while it's being generated.\n",
      "Loading the m/z values at resolution 1e-05:  98%|█████████▊| 117468/119286 [01:09<00:01, 1023.58it/s]WARNING:root:The sparsified dense matrix S has never been computed. Please wait while it's being generated.\n",
      "Loading the m/z values at resolution 1e-05: 100%|██████████| 119286/119286 [01:11<00:00, 1675.16it/s]\n",
      "Loading the m/z values at resolution 1e-05: 100%|██████████| 112301/112301 [01:21<00:00, 1383.23it/s]\n",
      "Loading the m/z values at resolution 1e-05: 100%|██████████| 124096/124096 [01:19<00:00, 1558.54it/s]\n",
      "Loading the m/z values at resolution 1e-05:  83%|████████▎ | 108124/129826 [01:14<00:14, 1469.85it/s]WARNING:root:The sparsified dense matrix S has never been computed. Please wait while it's being generated.\n",
      "Loading the m/z values at resolution 1e-05:  95%|█████████▍| 122728/129826 [01:26<00:06, 1033.00it/s]WARNING:root:The sparsified dense matrix S has never been computed. Please wait while it's being generated.\n",
      "Loading the m/z values at resolution 1e-05:  95%|█████████▌| 123355/129826 [01:27<00:06, 940.38it/s]WARNING:root:The sparsified dense matrix S has never been computed. Please wait while it's being generated.\n",
      "Loading the m/z values at resolution 1e-05: 100%|██████████| 129826/129826 [01:33<00:00, 1382.55it/s]\n",
      "WARNING:root:The sparsified dense matrix S has never been computed. Please wait while it's being generated.\n"
     ]
    },
    {
     "name": "stdout",
     "output_type": "stream",
     "text": [
      "Creating and sorting dataframes\n",
      "Creating and sorting dataframes\n",
      "Creating and sorting dataframes\n",
      "Creating and sorting dataframes\n",
      "Creating and sorting dataframes\n",
      "Creating and sorting dataframes\n",
      "Creating and sorting dataframes\n",
      "Creating and sorting dataframes\n",
      "Creating and sorting dataframes\n",
      "Getting spectrums array averaged accross pixels\n",
      "Build the low-resolution averaged array from the high resolution averaged array\n",
      "Double sorting high-res array\n",
      "Creating and sorting dataframes\n",
      "Getting corresponding spectra arrays\n",
      "Saving : /data/lipidatlas/data/data_raw/20210210_MouseBrainCMC_S1AA1_2Dpixelmode_322x231_Att25_25um/20210210_MouseBrainCMC_S1AA1_2Dpixelmode_322x231_Att25_25um\n",
      "Creating and sorting dataframes\n",
      "Loading files : /data/lipidatlas/data/data_raw/20210304_MouseBrainCMC_S13AM1_2Dpixelmode_413x310_Att25_25um/20210304_MouseBrainCMC_S13AM1_2Dpixelmode_413x310_Att25_25um\n",
      "[Warning] Not index found and build_index_from_scratch is False\n"
     ]
    },
    {
     "name": "stderr",
     "output_type": "stream",
     "text": [
      "Loading Sprectra at resolution 1e-05:  75%|███████▌  | 96442/128030 [00:51<00:15, 2030.39it/s]"
     ]
    },
    {
     "name": "stdout",
     "output_type": "stream",
     "text": [
      "Creating and sorting dataframes\n"
     ]
    },
    {
     "name": "stderr",
     "output_type": "stream",
     "text": [
      "Loading Sprectra at resolution 1e-05:  79%|███████▉  | 101257/128030 [00:53<00:14, 1891.04it/s]"
     ]
    }
   ],
   "source": [
    "multiprocessing = True\n",
    "if multiprocessing:\n",
    "    # Multiprocessing\n",
    "    with Pool(processes=12) as pool:\n",
    "        [x for x in pool.imap_unordered(process_raw_data, l_t_names)]\n",
    "else:\n",
    "    # Normal (single-processed) map\n",
    "    [x for x in map(process_raw_data, l_t_names[3:4])]\n"
   ]
  },
  {
   "cell_type": "markdown",
   "metadata": {},
   "source": [
    "### Build lookup tables"
   ]
  },
  {
   "cell_type": "code",
   "execution_count": 3,
   "metadata": {},
   "outputs": [
    {
     "name": "stdout",
     "output_type": "stream",
     "text": [
      "cocuo\n",
      "[[4, '/data/lipidatlas/data/data_raw/20210214_MouseBrainCMC_S4AD3_2Dpixelmode_354x228_Att25_25um/20210214_MouseBrainCMC_S4AD3_2Dpixelmode_354x228_Att25_25um']]\n"
     ]
    }
   ],
   "source": [
    "multiprocessing = False\n",
    "if multiprocessing:\n",
    "    # Multiprocessing\n",
    "    with Pool(processes=12) as pool:\n",
    "        ll_res = pool.map(process_lookup_tables, l_t_names)\n",
    "else:\n",
    "    # Normal (single-processed) map\n",
    "    print(l_t_names[3:4])\n",
    "    ll_res = map(process_lookup_tables, l_t_names[3:4])\n",
    "\n"
   ]
  },
  {
   "cell_type": "markdown",
   "metadata": {},
   "source": [
    "### Clean temp folder and record everything as a HDF5 file"
   ]
  },
  {
   "cell_type": "markdown",
   "metadata": {},
   "source": [
    "Record everything in a HDF5 file"
   ]
  },
  {
   "cell_type": "code",
   "execution_count": null,
   "metadata": {},
   "outputs": [],
   "source": [
    "output_path = \"labe/data/hdf5/slices.hdf5\"\n",
    "input_folder = \"notebooks/server/data/temp/\"\n",
    "l_slice_names = [slice_name for slice_name in os.listdir(input_folder)]\n",
    "\n",
    "# Open the hdf5 file\n",
    "with tables.open_file(output_path, mode=\"w\") as hdf5_file:\n",
    "    # Loop over slice files\n",
    "    for slice_name in l_slice_names:\n",
    "\n",
    "        # Load slice arrays\n",
    "        npzfile = np.load(input_folder + slice_name)\n",
    "        array_pixel_indexes_high_res = npzfile[\"array_pixel_indexes_high_res\"]\n",
    "        array_spectra_high_res = npzfile[\"array_spectra_high_res\"]\n",
    "        array_averaged_mz_intensity_low_res = npzfile[\"array_averaged_mz_intensity_low_res\"]\n",
    "        array_averaged_mz_intensity_high_res = npzfile[\"array_averaged_mz_intensity_high_res\"]\n",
    "        image_shape = npzfile[\"image_shape\"]\n",
    "        divider_lookup = npzfile[\"divider_lookup\"]\n",
    "        lookup_table_spectra_high_res = npzfile[\"lookup_table_spectra_high_res\"]\n",
    "        cumulated_image_lookup_table_high_res = npzfile[\"cumulated_image_lookup_table_high_res\"]\n",
    "        lookup_table_averaged_spectrum_high_res = npzfile[\"lookup_table_averaged_spectrum_high_res\"]\n",
    "\n",
    "        # Create a new group in the hdf5 file\n",
    "        slice_index = slice_name.split(\"_\")[1]\n",
    "        group = hdf5_file.create_group(\"/\", slice_index, \"Slice \" + slice_index)\n",
    "\n",
    "        # Register all arrays and lookup table in the newly created group\n",
    "        hdf5_file.create_array(group, \"array_spectra\", array_spectra_high_res)\n",
    "        hdf5_file.create_array(group, \"array_lookup_pixels\", array_pixel_indexes_high_res)\n",
    "        hdf5_file.create_array(group, \"array_avg_intensity\", array_averaged_mz_intensity_high_res)\n",
    "        hdf5_file.create_array(group, \"array_avg_intensity_downsampled\", array_averaged_mz_intensity_low_res)\n",
    "        hdf5_file.create_array(group, \"image_shape\", image_shape)\n",
    "        hdf5_file.create_array(group, \"divider_lookup\", divider_lookup)\n",
    "        hdf5_file.create_array(group, \"array_lookup_mz\", lookup_table_spectra_high_res)\n",
    "        hdf5_file.create_array(group, \"array_cumulated_lookup_mz_image\", cumulated_image_lookup_table_high_res)\n",
    "        hdf5_file.create_array(group, \"array_lookup_mz_avg\", lookup_table_averaged_spectrum_high_res)\n",
    "\n"
   ]
  },
  {
   "cell_type": "markdown",
   "metadata": {},
   "source": [
    "Clean temporary folder"
   ]
  },
  {
   "cell_type": "code",
   "execution_count": null,
   "metadata": {},
   "outputs": [],
   "source": [
    "clean = False\n",
    "if clean:\n",
    "    for filename in os.listdir(input_folder):\n",
    "        file_path = os.path.join(input_folder, filename)\n",
    "        try:\n",
    "            if os.path.isfile(file_path) or os.path.islink(file_path):\n",
    "                os.unlink(file_path)\n",
    "            elif os.path.isdir(file_path):\n",
    "                shutil.rmtree(file_path)\n",
    "        except Exception as e:\n",
    "            print('Failed to delete %s. Reason: %s' % (file_path, e))\n"
   ]
  }
 ],
 "metadata": {
  "interpreter": {
   "hash": "0c1aa729cc35b9a783763c24c4069d7da678acf641f89d4e1df25bf02079ad65"
  },
  "kernelspec": {
   "display_name": "Python 3",
   "language": "python",
   "name": "python3"
  },
  "language_info": {
   "codemirror_mode": {
    "name": "ipython",
    "version": 3
   },
   "file_extension": ".py",
   "mimetype": "text/x-python",
   "name": "python",
   "nbconvert_exporter": "python",
   "pygments_lexer": "ipython3",
   "version": "3.9.4"
  }
 },
 "nbformat": 4,
 "nbformat_minor": 4
}
