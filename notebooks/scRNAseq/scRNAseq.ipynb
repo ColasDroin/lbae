{
 "cells": [
  {
   "cell_type": "markdown",
   "metadata": {},
   "source": [
    "# Notebook to analyze and display scRNAseq data\n"
   ]
  },
  {
   "cell_type": "markdown",
   "metadata": {},
   "source": [
    "### Load important modules"
   ]
  },
  {
   "cell_type": "code",
   "execution_count": null,
   "metadata": {},
   "outputs": [],
   "source": [
    "# Standard modules\n",
    "import numpy as np\n",
    "import os\n",
    "import pandas as pd \n",
    "import plotly.graph_objects as go\n",
    "import matplotlib.pyplot as plt\n",
    "from scipy import linalg\n",
    "\n",
    "# Move to root directory for easier module handling\n",
    "os.chdir(\"../..\")\n",
    "print(os.listdir(\".\"))\n",
    "\n",
    "#LBAE imports\n",
    "from modules.maldi_data import MaldiData\n",
    "from modules.figures import Figures\n",
    "from modules.atlas import Atlas\n",
    "from modules.launch import Launch\n",
    "from modules.storage import Storage\n",
    "\n",
    "\n",
    "# multithreading/multiprocessing\n",
    "from multiprocessing import Pool\n",
    "from threadpoolctl import threadpool_limits\n",
    "\n",
    "# set thread limit\n",
    "threadpool_limits(16)\n"
   ]
  },
  {
   "cell_type": "markdown",
   "metadata": {},
   "source": [
    "#### Load LBAE objects"
   ]
  },
  {
   "cell_type": "code",
   "execution_count": null,
   "metadata": {},
   "outputs": [],
   "source": [
    "path_data = \"data/whole_dataset/\"\n",
    "path_annotations = \"data/annotations/\"\n",
    "path_db = \"data/app_data/data.db\"\n",
    "\n",
    "# Load shelve database\n",
    "storage = Storage(path_db)\n",
    "\n",
    "# Load data\n",
    "data = MaldiData(path_data, path_annotations)\n",
    "\n",
    "# If True, only a small portions of the figures are precomputed (if precomputation has not already\n",
    "# been done). Used for debugging purposes.\n",
    "sample = False\n",
    "\n",
    "# Load Atlas and Figures objects. At first launch, many objects will be precomputed and shelved in\n",
    "# the classes Atlas and Figures.\n",
    "atlas = Atlas(data, storage, resolution=25)\n",
    "figures = Figures(data, storage, atlas)"
   ]
  },
  {
   "cell_type": "markdown",
   "metadata": {},
   "source": [
    "### Load data"
   ]
  },
  {
   "cell_type": "code",
   "execution_count": null,
   "metadata": {},
   "outputs": [],
   "source": [
    "expr_table = pd.read_csv('notebooks/scRNAseq/data/expr_normalized_table.tsv', sep='\\t')\n",
    "meta_table = pd.read_csv('notebooks/scRNAseq/data/meta_table.tsv', sep='\\t', usecols=[0, 2,3,4, 7] )"
   ]
  },
  {
   "cell_type": "code",
   "execution_count": null,
   "metadata": {},
   "outputs": [],
   "source": [
    "# Reorganize columns\n",
    "meta_table = meta_table[['Unnamed: 0', 'stereo_AP', 'stereo_DV', 'stereo_ML', 'ABA_acronym']]\n",
    "meta_table.rename(index={0: \"spot_id\"}, inplace=True)"
   ]
  },
  {
   "cell_type": "code",
   "execution_count": null,
   "metadata": {},
   "outputs": [],
   "source": [
    "counts = meta_table['ABA_acronym'].value_counts()"
   ]
  },
  {
   "cell_type": "code",
   "execution_count": null,
   "metadata": {},
   "outputs": [],
   "source": [
    "# Do a linear regression structure-wise to get coordinates of the molecular atlas in the ccfv3\n",
    "l_x = []\n",
    "l_y = []\n",
    "l_z = []\n",
    "l_xs = []\n",
    "l_ys = []\n",
    "l_zs = []\n",
    "for acronym in counts[counts == 1].index.to_list():\n",
    "    try:\n",
    "        id_structure = atlas.bg_atlas.structures[acronym]['id']\n",
    "        array_coor = np.where(atlas.bg_atlas.annotation == id_structure)\n",
    "        xs, ys, zs = np.mean(array_coor, axis=1)*25/1000\n",
    "        std_xs, std_ys, std_zs = np.std(array_coor, axis=1)*25/1000\n",
    "        x, y, z = meta_table[meta_table['ABA_acronym'] == acronym].iloc[0,1:4].to_numpy()\n",
    "        if std_xs<0.12:\n",
    "            l_x.append(x)\n",
    "            l_xs.append(xs)\n",
    "        if std_ys<0.12:\n",
    "            l_y.append(y)\n",
    "            l_ys.append(ys)\n",
    "        if std_zs<0.12:\n",
    "            l_z.append(z)\n",
    "            l_zs.append(zs)\n",
    "    except:\n",
    "        pass\n",
    "  \n",
    "X = np.vstack([np.array(l_x), np.ones(len(l_x)), np.zeros(len(l_x)), np.zeros(len(l_x))   ]).T\n",
    "Y = np.vstack([np.array(l_y), np.zeros(len(l_y)), np.ones(len(l_y)), np.zeros(len(l_y))    ]).T\n",
    "Z = np.vstack([np.array(l_z), np.zeros(len(l_z)), np.zeros(len(l_z)) , np.ones(len(l_z))      ]).T\n",
    "M = np.vstack((X,Y,Z))\n",
    "y = np.array(l_xs + l_ys + l_zs)\n",
    "\n",
    "a, b, c, d = np.linalg.lstsq(M, y, rcond=None)[0]\n"
   ]
  },
  {
   "cell_type": "code",
   "execution_count": null,
   "metadata": {},
   "outputs": [],
   "source": [
    "plt.plot(np.array(l_x), np.array(l_xs), 'o', label='Original data', markersize=10)\n",
    "plt.plot(np.array(l_x), a*np.array(l_x) + b, 'r', label='Fitted line')\n",
    "plt.plot(np.array(l_y), np.array(l_ys), 'o', label='Original data', markersize=10)\n",
    "plt.plot(np.array(l_y), a*np.array(l_y) + c, 'r', label='Fitted line')\n",
    "plt.plot(np.array(l_z), np.array(l_zs), 'o', label='Original data', markersize=10)\n",
    "plt.plot(np.array(l_z), a*np.array(l_z) + d, 'r', label='Fitted line')\n",
    "plt.legend()\n",
    "plt.show()"
   ]
  },
  {
   "cell_type": "code",
   "execution_count": null,
   "metadata": {},
   "outputs": [],
   "source": [
    "# Convert molecular atlas coordinates to our system of coordinates\n",
    "meta_table[\"stereo_AP\"] = a * meta_table[\"stereo_AP\"] + b\n",
    "meta_table[\"stereo_DV\"] = a * meta_table[\"stereo_DV\"] + c\n",
    "meta_table[\"stereo_ML\"] = a * meta_table[\"stereo_ML\"] + d\n",
    "meta_table"
   ]
  },
  {
   "cell_type": "code",
   "execution_count": null,
   "metadata": {},
   "outputs": [],
   "source": [
    "# Get scatter figure for the scRNAseq spots\n",
    "scatter = go.Scatter3d(\n",
    "    x=meta_table['stereo_AP'].to_numpy(),\n",
    "    y=meta_table['stereo_DV'].to_numpy(),\n",
    "    z=meta_table['stereo_ML'].to_numpy(),\n",
    "    mode='markers',\n",
    "    marker=dict(\n",
    "        size=1,\n",
    "        opacity=0.8\n",
    "    )\n",
    ")\n",
    "\n",
    "#fig = go.Figure(data=scatter)\n",
    "#fig.show()"
   ]
  },
  {
   "cell_type": "code",
   "execution_count": null,
   "metadata": {},
   "outputs": [],
   "source": [
    "# Get root figure\n",
    "root_data = figures._storage.return_shelved_object(\n",
    "    \"figures/3D_page\",\n",
    "    \"volume_root\",\n",
    "    force_update=False,\n",
    "    compute_function=figures.compute_3D_root_volume,\n",
    ")"
   ]
  },
  {
   "cell_type": "code",
   "execution_count": null,
   "metadata": {},
   "outputs": [],
   "source": [
    "fig = go.Figure(data=[root_data, scatter])\n",
    "\n",
    "\n",
    "# Hide grey background\n",
    "fig.update_layout(\n",
    "    margin=dict(t=0, r=0, b=0, l=0),\n",
    "    scene=dict(\n",
    "        xaxis=dict(backgroundcolor=\"rgba(0,0,0,0)\"),\n",
    "        yaxis=dict(backgroundcolor=\"rgba(0,0,0,0)\"),\n",
    "        zaxis=dict(backgroundcolor=\"rgba(0,0,0,0)\"),\n",
    "    ),\n",
    ")\n",
    "\n",
    "# Set background color to zero\n",
    "fig.layout.template = \"plotly_dark\"\n",
    "fig.layout.plot_bgcolor = \"rgba(0,0,0,0)\"\n",
    "fig.layout.paper_bgcolor = \"rgba(0,0,0,0)\"\n",
    "\n",
    "\n",
    "fig.show()"
   ]
  },
  {
   "cell_type": "code",
   "execution_count": null,
   "metadata": {},
   "outputs": [],
   "source": []
  },
  {
   "cell_type": "code",
   "execution_count": null,
   "metadata": {},
   "outputs": [],
   "source": []
  },
  {
   "cell_type": "code",
   "execution_count": null,
   "metadata": {},
   "outputs": [],
   "source": [
    "import plotly.graph_objects as go\n",
    "from plotly.subplots import make_subplots\n",
    "import numpy as np\n",
    "np.random.seed(1)\n",
    "\n",
    "\n",
    "fig = make_subplots(rows=1, cols=2)\n",
    "fig.add_trace(go.Scatter(x=[1, 2, 3], y=[4, 5, 6]),row=1, col=1)\n",
    "fig.add_trace(go.Scatter(x=[20, 30, 40], y=[50, 60, 70]),row=1, col=2)\n",
    "f = go.FigureWidget(fig)\n",
    "p1 = f.data[0]\n",
    "p2 = f.data[1]\n",
    "f.layout.hovermode = 'closest'\n",
    "\n",
    "# create our callback function\n",
    "def update(trace, points, selector):\n",
    "    #c = list(scatter.marker.color)\n",
    "    #s = list(scatter.marker.size)\n",
    "    y = list(p2.y)\n",
    "    for i in points.point_inds:\n",
    "        #c[i] = '#bae2be'\n",
    "        #s[i] = 20\n",
    "        y[i] = y[i] + 1\n",
    "        with f.batch_update():\n",
    "            #scatter.marker.color = c\n",
    "            #scatter.marker.size = s\n",
    "            p2.y = y\n",
    "\n",
    "p1.on_click(update)\n",
    "\n",
    "f\n",
    "# x = np.random.rand(100)\n",
    "# y = np.random.rand(100)\n",
    "\n",
    "# f = go.FigureWidget([go.Scatter(x=x, y=y, mode='markers'), go.Scatter(x=x, y=y, mode='lines')])\n",
    "\n",
    "# scatter = f.data[0]\n",
    "# line = f.data[1]\n",
    "# colors = ['#a3a7e4'] * 100\n",
    "# scatter.marker.color = colors\n",
    "# scatter.marker.size = [10] * 100\n",
    "# f.layout.hovermode = 'closest'\n",
    "\n",
    "\n",
    "\n",
    "# # create our callback function\n",
    "# def update_point(trace, points, selector):\n",
    "#     c = list(scatter.marker.color)\n",
    "#     s = list(scatter.marker.size)\n",
    "#     y = list(line.y)\n",
    "#     for i in points.point_inds:\n",
    "#         c[i] = '#bae2be'\n",
    "#         s[i] = 20\n",
    "#         y[i] = y[i] + 1\n",
    "#         with f.batch_update():\n",
    "#             scatter.marker.color = c\n",
    "#             scatter.marker.size = s\n",
    "#             line.y = y\n",
    "\n",
    "            \n",
    "\n",
    "\n",
    "# scatter.on_click(update_point)\n",
    "\n",
    "# f"
   ]
  },
  {
   "cell_type": "code",
   "execution_count": null,
   "metadata": {},
   "outputs": [],
   "source": []
  }
 ],
 "metadata": {
  "interpreter": {
   "hash": "0c1aa729cc35b9a783763c24c4069d7da678acf641f89d4e1df25bf02079ad65"
  },
  "kernelspec": {
   "display_name": "Python 3 (ipykernel)",
   "language": "python",
   "name": "python3"
  },
  "language_info": {
   "codemirror_mode": {
    "name": "ipython",
    "version": 3
   },
   "file_extension": ".py",
   "mimetype": "text/x-python",
   "name": "python",
   "nbconvert_exporter": "python",
   "pygments_lexer": "ipython3",
   "version": "3.9.7"
  }
 },
 "nbformat": 4,
 "nbformat_minor": 4
}
