{
 "cells": [
  {
   "cell_type": "markdown",
   "metadata": {},
   "source": [
    "# Notebook to analyze and display scRNAseq data\n"
   ]
  },
  {
   "cell_type": "markdown",
   "metadata": {},
   "source": [
    "### Load important modules"
   ]
  },
  {
   "cell_type": "code",
   "execution_count": 1,
   "metadata": {},
   "outputs": [
    {
     "name": "stdout",
     "output_type": "stream",
     "text": [
      "['.git', '.gitattributes', '.vscode', 'LICENSE.md', 'README.md', 'TODO.py', 'app.py', 'assets', 'config.py', 'data_sample', 'documentation', 'index.py', 'js', 'main.py', 'modules', 'notebooks', 'pages', 'readme', 'requirements.txt', 'style', 'data', '__pycache__', '.gitignore']\n"
     ]
    },
    {
     "data": {
      "text/plain": [
       "<threadpoolctl.threadpool_limits at 0x7f4e1c8e6790>"
      ]
     },
     "execution_count": 1,
     "metadata": {},
     "output_type": "execute_result"
    }
   ],
   "source": [
    "# Standard modules\n",
    "import numpy as np\n",
    "import os\n",
    "import pandas as pd \n",
    "import plotly.graph_objects as go\n",
    "\n",
    "# Move to root directory for easier module handling\n",
    "os.chdir(\"../..\")\n",
    "print(os.listdir(\".\"))\n",
    "\n",
    "#LBAE imports\n",
    "from modules.maldi_data import MaldiData\n",
    "from modules.figures import Figures\n",
    "from modules.atlas import Atlas\n",
    "from modules.launch import Launch\n",
    "from modules.storage import Storage\n",
    "\n",
    "\n",
    "# multithreading/multiprocessing\n",
    "from multiprocessing import Pool\n",
    "from threadpoolctl import threadpool_limits\n",
    "\n",
    "# set thread limit\n",
    "threadpool_limits(16)\n"
   ]
  },
  {
   "cell_type": "markdown",
   "metadata": {},
   "source": [
    "#### Load LBAE objects"
   ]
  },
  {
   "cell_type": "code",
   "execution_count": null,
   "metadata": {},
   "outputs": [],
   "source": [
    "path_data = \"data/whole_dataset/\"\n",
    "path_annotations = \"data/annotations/\"\n",
    "path_db = \"data/app_data/data.db\"\n",
    "\n",
    "# Load shelve database\n",
    "storage = Storage(path_db)\n",
    "\n",
    "# Load data\n",
    "data = MaldiData(path_data, path_annotations)\n",
    "\n",
    "# If True, only a small portions of the figures are precomputed (if precomputation has not already\n",
    "# been done). Used for debugging purposes.\n",
    "sample = False\n",
    "\n",
    "# Load Atlas and Figures objects. At first launch, many objects will be precomputed and shelved in\n",
    "# the classes Atlas and Figures.\n",
    "atlas = Atlas(data, storage, resolution=25)\n",
    "figures = Figures(data, storage, atlas)"
   ]
  },
  {
   "cell_type": "markdown",
   "metadata": {},
   "source": [
    "### Load data"
   ]
  },
  {
   "cell_type": "code",
   "execution_count": null,
   "metadata": {},
   "outputs": [],
   "source": [
    "expr_table = pd.read_csv('notebooks/scRNAseq/data/expr_normalized_table.tsv', sep='\\t')\n",
    "meta_table = pd.read_csv('notebooks/scRNAseq/data/meta_table.tsv', sep='\\t', usecols=[0, 2,3,4] )"
   ]
  },
  {
   "cell_type": "code",
   "execution_count": null,
   "metadata": {},
   "outputs": [],
   "source": [
    "meta_table"
   ]
  },
  {
   "cell_type": "code",
   "execution_count": null,
   "metadata": {},
   "outputs": [],
   "source": [
    "# Convert coordinates from metatable\n",
    "meta_table[\"stereo_ML\"] = (5.7 - meta_table[\"stereo_ML\"])\n",
    "meta_table[\"stereo_DV\"] = (0.05 - meta_table[\"stereo_DV\"])\n",
    "meta_table[\"stereo_AP\"] = (5.2 - meta_table[\"stereo_AP\"])\n",
    "\n",
    "# Display all dots in metatable\n",
    "meta_table\n"
   ]
  },
  {
   "cell_type": "code",
   "execution_count": null,
   "metadata": {},
   "outputs": [],
   "source": [
    "scatter = go.Scatter3d(\n",
    "    x=(meta_table['stereo_AP'].to_numpy()[::1]-0.5)*1.2,\n",
    "    y=(meta_table['stereo_ML'].to_numpy()[::1]-0)*1.2,\n",
    "    z=(meta_table['stereo_DV'].to_numpy()+1)[::1]*1.2,\n",
    "    mode='markers',\n",
    "    marker=dict(\n",
    "        size=1,\n",
    "        opacity=0.8\n",
    "    )\n",
    ")\n",
    "\n",
    "#fig = go.Figure(data=scatter)\n",
    "\n",
    "#fig.show()"
   ]
  },
  {
   "cell_type": "code",
   "execution_count": null,
   "metadata": {},
   "outputs": [],
   "source": [
    "# Get root figure\n",
    "root_data = figures._storage.return_shelved_object(\n",
    "    \"figures/3D_page\",\n",
    "    \"volume_root\",\n",
    "    force_update=False,\n",
    "    compute_function=figures.compute_3D_root_volume,\n",
    ")"
   ]
  },
  {
   "cell_type": "code",
   "execution_count": null,
   "metadata": {},
   "outputs": [],
   "source": [
    "fig = go.Figure(data=[root_data, scatter])\n",
    "\n",
    "\n",
    "# Hide grey background\n",
    "fig.update_layout(\n",
    "    margin=dict(t=0, r=0, b=0, l=0),\n",
    "    scene=dict(\n",
    "        xaxis=dict(backgroundcolor=\"rgba(0,0,0,0)\"),\n",
    "        yaxis=dict(backgroundcolor=\"rgba(0,0,0,0)\"),\n",
    "        zaxis=dict(backgroundcolor=\"rgba(0,0,0,0)\"),\n",
    "    ),\n",
    ")\n",
    "\n",
    "# Set background color to zero\n",
    "fig.layout.template = \"plotly_dark\"\n",
    "fig.layout.plot_bgcolor = \"rgba(0,0,0,0)\"\n",
    "fig.layout.paper_bgcolor = \"rgba(0,0,0,0)\"\n",
    "\n",
    "\n",
    "fig.show()"
   ]
  },
  {
   "cell_type": "code",
   "execution_count": null,
   "metadata": {},
   "outputs": [],
   "source": []
  },
  {
   "cell_type": "code",
   "execution_count": null,
   "metadata": {},
   "outputs": [],
   "source": []
  }
 ],
 "metadata": {
  "interpreter": {
   "hash": "0c1aa729cc35b9a783763c24c4069d7da678acf641f89d4e1df25bf02079ad65"
  },
  "kernelspec": {
   "display_name": "Python 3 (ipykernel)",
   "language": "python",
   "name": "python3"
  },
  "language_info": {
   "codemirror_mode": {
    "name": "ipython",
    "version": 3
   },
   "file_extension": ".py",
   "mimetype": "text/x-python",
   "name": "python",
   "nbconvert_exporter": "python",
   "pygments_lexer": "ipython3",
   "version": "3.9.7"
  }
 },
 "nbformat": 4,
 "nbformat_minor": 4
}
