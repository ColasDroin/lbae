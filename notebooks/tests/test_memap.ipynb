{
 "cells": [
  {
   "cell_type": "markdown",
   "id": "e5dbb311",
   "metadata": {},
   "source": [
    "# Lookup testing"
   ]
  },
  {
   "cell_type": "markdown",
   "id": "6f88b5db",
   "metadata": {},
   "source": [
    "### Load important modules"
   ]
  },
  {
   "cell_type": "code",
   "execution_count": null,
   "id": "81e581e2",
   "metadata": {},
   "outputs": [],
   "source": [
    "# Standard modules\n",
    "import numpy as np\n",
    "import matplotlib.pyplot as plt\n",
    "import plotly.graph_objects as go\n",
    "import copy\n",
    "from sys import getsizeof\n",
    "import os\n",
    "import tables\n",
    "import time\n",
    "# Move to root directory for easier module import\n",
    "os.chdir(\"../../\")\n",
    "from modules.maldi_data import MaldiData\n",
    "from modules.tools import spectra\n",
    "import copy\n",
    "from modules.tools.misc import logmem\n"
   ]
  },
  {
   "cell_type": "code",
   "execution_count": null,
   "id": "f381cd3b",
   "metadata": {},
   "outputs": [],
   "source": [
    "data = MaldiData()"
   ]
  },
  {
   "cell_type": "code",
   "execution_count": null,
   "id": "9e3846c0",
   "metadata": {},
   "outputs": [],
   "source": [
    "import ZODB, ZODB.FileStorage\n",
    "\n",
    "storage = ZODB.FileStorage.FileStorage('app_data.fs')\n",
    "db = ZODB.DB(storage)\n",
    "connection = db.open()\n",
    "root = connection.root"
   ]
  },
  {
   "cell_type": "code",
   "execution_count": null,
   "id": "7e9410ed",
   "metadata": {},
   "outputs": [],
   "source": [
    "print(root)\n",
    "print(hasattr(root,'figuress'))\n",
    "print(hasattr(root,'figures'))"
   ]
  },
  {
   "cell_type": "code",
   "execution_count": null,
   "id": "5f818aa0",
   "metadata": {},
   "outputs": [],
   "source": [
    "fig = dict({\n",
    "    \"data\": [{\"type\": \"bar\",\n",
    "              \"x\": [1, 2, 3],\n",
    "              \"y\": [1, 3, 2]}],\n",
    "    \"layout\": {\"title\": {\"text\": \"A Figure Specified By Python Dictionary\"}}\n",
    "})\n",
    "\n",
    "# To display the figure defined by this dict, use the low-level plotly.io.show function\n",
    "import plotly.io as pio\n",
    "\n",
    "pio.show(fig)"
   ]
  },
  {
   "cell_type": "code",
   "execution_count": null,
   "id": "ae2f249c",
   "metadata": {},
   "outputs": [],
   "source": [
    "import transaction\n",
    "root.figures['test'] = fig\n",
    "transaction.commit()\n"
   ]
  },
  {
   "cell_type": "code",
   "execution_count": null,
   "id": "b38b1cc7",
   "metadata": {},
   "outputs": [],
   "source": [
    "import plotly.io as pio\n",
    "\n",
    "fig = root.figures['test']\n",
    "pio.show(fig)"
   ]
  },
  {
   "cell_type": "code",
   "execution_count": null,
   "id": "6524de53",
   "metadata": {},
   "outputs": [],
   "source": [
    "array_mmap = data.get_array_spectra(1)\n",
    "chunk = 10000\n",
    "array_to_sum = np.zeros(array_mmap.shape, dtype = np.float32)\n",
    "array_to_sum[:] = np.random.rand(*array_mmap.shape)\n",
    "t1_start = time.perf_counter()\n",
    "for i in np.random.randint(0, array_mmap.shape[1]-chunk, 100000):\n",
    "    #array_to_sum[:] = array_mmap[0,i:i+chunk]\n",
    "    x = np.sum(array_to_sum[0,i:i+chunk])\n",
    "    #x = np.sum(array_mmap[0,i:i+chunk])\n",
    "t1_stop = time.perf_counter()\n",
    "print(\"Elapsed time during the whole program in seconds:\",\n",
    "                                        t1_stop-t1_start)"
   ]
  },
  {
   "cell_type": "code",
   "execution_count": null,
   "id": "7d1b8965",
   "metadata": {},
   "outputs": [],
   "source": [
    "array = np.empty(shape = array_mmap.shape, dtype = array_mmap.dtype)\n",
    "array[:] = array_mmap[:]"
   ]
  },
  {
   "cell_type": "code",
   "execution_count": null,
   "id": "53302d58",
   "metadata": {},
   "outputs": [],
   "source": []
  },
  {
   "cell_type": "code",
   "execution_count": null,
   "id": "d959c5c1",
   "metadata": {},
   "outputs": [],
   "source": [
    "for idx in range(1,30):\n",
    "    array_mmap = data.get_array_spectra(idx)\n",
    "t1_start = time.perf_counter()\n",
    "data.clean_memory(slice_index= 1)\n",
    "t1_stop = time.perf_counter()\n",
    "print(\"Elapsed time during the whole program in seconds:\",\n",
    "                                        t1_stop-t1_start)"
   ]
  },
  {
   "cell_type": "code",
   "execution_count": null,
   "id": "70aff19a",
   "metadata": {},
   "outputs": [],
   "source": [
    "t1_start = time.perf_counter()\n",
    "print(logmem())\n",
    "t1_stop = time.perf_counter()\n",
    "print(\"Elapsed time during the whole program in seconds:\",t1_stop-t1_start)"
   ]
  },
  {
   "cell_type": "code",
   "execution_count": null,
   "id": "28c641ec",
   "metadata": {},
   "outputs": [],
   "source": []
  },
  {
   "cell_type": "code",
   "execution_count": null,
   "id": "55ffbdeb",
   "metadata": {},
   "outputs": [],
   "source": []
  },
  {
   "cell_type": "code",
   "execution_count": null,
   "id": "a383d39b",
   "metadata": {},
   "outputs": [],
   "source": []
  },
  {
   "cell_type": "code",
   "execution_count": null,
   "id": "96fe6e2f",
   "metadata": {},
   "outputs": [],
   "source": []
  },
  {
   "cell_type": "code",
   "execution_count": null,
   "id": "d24790c5",
   "metadata": {},
   "outputs": [],
   "source": []
  },
  {
   "cell_type": "code",
   "execution_count": null,
   "id": "983e3230",
   "metadata": {},
   "outputs": [],
   "source": [
    "import brainrender\n",
    "from brainrender.atlas_specific import GeneExpressionAPI\n",
    "\n",
    "gene = \"Gpr161\"\n",
    "geapi = GeneExpressionAPI()\n",
    "expids = geapi.get_gene_experiments(gene)\n",
    "data = geapi.get_gene_data(gene, expids[1])\n",
    "gene_actor = geapi.griddata_to_volume(data, min_quantile=99, cmap=\"inferno\")\n",
    "\n",
    "print(data)\n",
    "print(gene_actor)"
   ]
  },
  {
   "cell_type": "code",
   "execution_count": null,
   "id": "89771be9",
   "metadata": {},
   "outputs": [],
   "source": [
    "data.get_array_spectra(1)"
   ]
  },
  {
   "cell_type": "code",
   "execution_count": null,
   "id": "f5e80ceb",
   "metadata": {},
   "outputs": [],
   "source": [
    "x = data.get_array_spectra(1)"
   ]
  },
  {
   "cell_type": "code",
   "execution_count": null,
   "id": "7b324c6e",
   "metadata": {},
   "outputs": [],
   "source": [
    "#a = x[5:10,5:10].copy()#.view(np.ndarray)\n",
    "a = x[5:10]"
   ]
  },
  {
   "cell_type": "code",
   "execution_count": null,
   "id": "6289df03",
   "metadata": {},
   "outputs": [],
   "source": [
    "a+=1"
   ]
  },
  {
   "cell_type": "code",
   "execution_count": null,
   "id": "540d0df0",
   "metadata": {},
   "outputs": [],
   "source": [
    "x"
   ]
  },
  {
   "cell_type": "code",
   "execution_count": null,
   "id": "260c5f4d",
   "metadata": {},
   "outputs": [],
   "source": [
    "data.clean_memory()"
   ]
  },
  {
   "cell_type": "code",
   "execution_count": null,
   "id": "83c43b53",
   "metadata": {},
   "outputs": [],
   "source": [
    "aa = a.T "
   ]
  },
  {
   "cell_type": "code",
   "execution_count": null,
   "id": "4890a126",
   "metadata": {},
   "outputs": [],
   "source": [
    "aa+=1"
   ]
  },
  {
   "cell_type": "code",
   "execution_count": null,
   "id": "97597518",
   "metadata": {},
   "outputs": [],
   "source": []
  },
  {
   "cell_type": "code",
   "execution_count": null,
   "id": "1faf0cc8-b510-49ec-8600-c63f80cb66bb",
   "metadata": {},
   "outputs": [],
   "source": []
  },
  {
   "cell_type": "code",
   "execution_count": null,
   "id": "5af6dec0-afe5-4a94-97a4-8fd0217743d6",
   "metadata": {},
   "outputs": [],
   "source": [
    "import numpy as np\n",
    "import os\n",
    "import shutil\n",
    "import psutil"
   ]
  },
  {
   "cell_type": "code",
   "execution_count": null,
   "id": "43c28bec-8675-4805-8902-ab3073fed85a",
   "metadata": {},
   "outputs": [],
   "source": [
    "fp = np.array(list(np.arange(100000000)))"
   ]
  },
  {
   "cell_type": "code",
   "execution_count": null,
   "id": "1bde43c0-f4dd-4f10-8ce0-af8660654570",
   "metadata": {},
   "outputs": [],
   "source": [
    "memory = psutil.Process(os.getpid()).memory_info().rss / (1024 * 1024)\n",
    "memory"
   ]
  },
  {
   "cell_type": "code",
   "execution_count": null,
   "id": "eec8ebf8-cf15-4c8b-a798-26e3ae420720",
   "metadata": {},
   "outputs": [],
   "source": [
    "del fp"
   ]
  },
  {
   "cell_type": "code",
   "execution_count": null,
   "id": "ce3d2f35-f187-43ac-993a-ee03cf7b541a",
   "metadata": {},
   "outputs": [],
   "source": [
    "fp = np.memmap('test.mmap', dtype='float32', mode='w+', shape=(1000000000,))"
   ]
  },
  {
   "cell_type": "code",
   "execution_count": null,
   "id": "dc6da7cd-2176-46b3-af45-631aa0f9f877",
   "metadata": {},
   "outputs": [],
   "source": [
    "fp[:] = np.arange(1000000000)\n",
    "fp.flush()"
   ]
  },
  {
   "cell_type": "code",
   "execution_count": null,
   "id": "289fa63c-3311-4cba-ad4f-caa886a6e5b3",
   "metadata": {},
   "outputs": [],
   "source": [
    "fp = np.memmap('test.mmap', dtype='float32', mode='r', shape=(1000000000,))"
   ]
  },
  {
   "cell_type": "code",
   "execution_count": null,
   "id": "179ab689-4b36-4848-8f47-a2ac91a5f2f9",
   "metadata": {},
   "outputs": [],
   "source": [
    "for i in range(int(1000000000/10)):\n",
    "    x[i]"
   ]
  },
  {
   "cell_type": "code",
   "execution_count": null,
   "id": "38276050-cd9a-44c9-ac4d-77564e30c536",
   "metadata": {},
   "outputs": [],
   "source": [
    "x=fp[100000000:200000000]"
   ]
  },
  {
   "cell_type": "code",
   "execution_count": null,
   "id": "a89a270c-2af4-46b3-8259-fab889e835eb",
   "metadata": {},
   "outputs": [],
   "source": [
    "del fp"
   ]
  },
  {
   "cell_type": "code",
   "execution_count": null,
   "id": "0e5fc48d-ee68-4ae8-96e5-926e716a4e64",
   "metadata": {},
   "outputs": [],
   "source": [
    "del x"
   ]
  },
  {
   "cell_type": "code",
   "execution_count": null,
   "id": "e49017aa-86aa-442d-b77f-b2bb77d9c675",
   "metadata": {},
   "outputs": [],
   "source": [
    "def test(x):\n",
    "    x+=1\n",
    "    \n",
    "a = np.zeros((1,2))\n",
    "test(a)\n",
    "print(a)"
   ]
  },
  {
   "cell_type": "code",
   "execution_count": null,
   "id": "39cc7c1d-338f-44e5-9c60-00fc625b962b",
   "metadata": {},
   "outputs": [],
   "source": [
    "def test():\n",
    "    for k in range(3):\n",
    "        m = 2\n",
    "test()\n",
    "print(j)"
   ]
  },
  {
   "cell_type": "code",
   "execution_count": null,
   "id": "0a8c0e47-996a-40ef-8383-95f7257e6dd7",
   "metadata": {},
   "outputs": [],
   "source": []
  }
 ],
 "metadata": {
  "kernelspec": {
   "display_name": "Python 3 (ipykernel)",
   "language": "python",
   "name": "python3"
  },
  "language_info": {
   "codemirror_mode": {
    "name": "ipython",
    "version": 3
   },
   "file_extension": ".py",
   "mimetype": "text/x-python",
   "name": "python",
   "nbconvert_exporter": "python",
   "pygments_lexer": "ipython3",
   "version": "3.9.7"
  }
 },
 "nbformat": 4,
 "nbformat_minor": 5
}
