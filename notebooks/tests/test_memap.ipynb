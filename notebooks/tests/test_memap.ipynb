{
 "cells": [
  {
   "cell_type": "markdown",
   "id": "e5dbb311",
   "metadata": {},
   "source": [
    "# Lookup testing"
   ]
  },
  {
   "cell_type": "markdown",
   "id": "6f88b5db",
   "metadata": {},
   "source": [
    "### Load important modules"
   ]
  },
  {
   "cell_type": "code",
   "execution_count": 1,
   "id": "81e581e2",
   "metadata": {},
   "outputs": [],
   "source": [
    "# Standard modules\n",
    "import numpy as np\n",
    "import matplotlib.pyplot as plt\n",
    "import plotly.graph_objects as go\n",
    "import copy\n",
    "from sys import getsizeof\n",
    "import os\n",
    "import tables\n",
    "import time\n",
    "# Move to root directory for easier module import\n",
    "os.chdir(\"../../\")\n",
    "from modules.maldi_data import MaldiData\n",
    "from modules.tools import spectra\n",
    "import copy\n",
    "from modules.tools.misc import logmem\n"
   ]
  },
  {
   "cell_type": "code",
   "execution_count": 2,
   "id": "f381cd3b",
   "metadata": {},
   "outputs": [],
   "source": [
    "data = MaldiData()"
   ]
  },
  {
   "cell_type": "code",
   "execution_count": null,
   "id": "9e3846c0",
   "metadata": {},
   "outputs": [],
   "source": [
    "import ZODB, ZODB.FileStorage\n",
    "\n",
    "storage = ZODB.FileStorage.FileStorage('app_data.fs')\n",
    "db = ZODB.DB(storage)\n",
    "connection = db.open()\n",
    "root = connection.root"
   ]
  },
  {
   "cell_type": "code",
   "execution_count": null,
   "id": "7e9410ed",
   "metadata": {},
   "outputs": [],
   "source": [
    "print(root)\n",
    "print(hasattr(root,'figuress'))\n",
    "print(hasattr(root,'figures'))"
   ]
  },
  {
   "cell_type": "code",
   "execution_count": null,
   "id": "5f818aa0",
   "metadata": {},
   "outputs": [],
   "source": [
    "fig = dict({\n",
    "    \"data\": [{\"type\": \"bar\",\n",
    "              \"x\": [1, 2, 3],\n",
    "              \"y\": [1, 3, 2]}],\n",
    "    \"layout\": {\"title\": {\"text\": \"A Figure Specified By Python Dictionary\"}}\n",
    "})\n",
    "\n",
    "# To display the figure defined by this dict, use the low-level plotly.io.show function\n",
    "import plotly.io as pio\n",
    "\n",
    "pio.show(fig)"
   ]
  },
  {
   "cell_type": "code",
   "execution_count": null,
   "id": "ae2f249c",
   "metadata": {},
   "outputs": [],
   "source": [
    "import transaction\n",
    "root.figures['test'] = fig\n",
    "transaction.commit()\n"
   ]
  },
  {
   "cell_type": "code",
   "execution_count": null,
   "id": "b38b1cc7",
   "metadata": {},
   "outputs": [],
   "source": [
    "import plotly.io as pio\n",
    "\n",
    "fig = root.figures['test']\n",
    "pio.show(fig)"
   ]
  },
  {
   "cell_type": "code",
   "execution_count": null,
   "id": "6524de53",
   "metadata": {},
   "outputs": [],
   "source": [
    "array_mmap = data.get_array_spectra(1)\n",
    "chunk = 10000\n",
    "array_to_sum = np.zeros(array_mmap.shape, dtype = np.float32)\n",
    "array_to_sum[:] = np.random.rand(*array_mmap.shape)\n",
    "t1_start = time.perf_counter()\n",
    "for i in np.random.randint(0, array_mmap.shape[1]-chunk, 100000):\n",
    "    #array_to_sum[:] = array_mmap[0,i:i+chunk]\n",
    "    x = np.sum(array_to_sum[0,i:i+chunk])\n",
    "    #x = np.sum(array_mmap[0,i:i+chunk])\n",
    "t1_stop = time.perf_counter()\n",
    "print(\"Elapsed time during the whole program in seconds:\",\n",
    "                                        t1_stop-t1_start)"
   ]
  },
  {
   "cell_type": "code",
   "execution_count": null,
   "id": "7d1b8965",
   "metadata": {},
   "outputs": [],
   "source": [
    "array = np.empty(shape = array_mmap.shape, dtype = array_mmap.dtype)\n",
    "array[:] = array_mmap[:]"
   ]
  },
  {
   "cell_type": "code",
   "execution_count": null,
   "id": "53302d58",
   "metadata": {},
   "outputs": [],
   "source": []
  },
  {
   "cell_type": "code",
   "execution_count": null,
   "id": "d959c5c1",
   "metadata": {},
   "outputs": [],
   "source": [
    "for idx in range(1,30):\n",
    "    array_mmap = data.get_array_spectra(idx)\n",
    "t1_start = time.perf_counter()\n",
    "data.clean_memory(slice_index= 1)\n",
    "t1_stop = time.perf_counter()\n",
    "print(\"Elapsed time during the whole program in seconds:\",\n",
    "                                        t1_stop-t1_start)"
   ]
  },
  {
   "cell_type": "code",
   "execution_count": null,
   "id": "70aff19a",
   "metadata": {},
   "outputs": [],
   "source": [
    "t1_start = time.perf_counter()\n",
    "print(logmem())\n",
    "t1_stop = time.perf_counter()\n",
    "print(\"Elapsed time during the whole program in seconds:\",t1_stop-t1_start)"
   ]
  },
  {
   "cell_type": "code",
   "execution_count": null,
   "id": "28c641ec",
   "metadata": {},
   "outputs": [],
   "source": []
  },
  {
   "cell_type": "code",
   "execution_count": null,
   "id": "55ffbdeb",
   "metadata": {},
   "outputs": [],
   "source": []
  },
  {
   "cell_type": "code",
   "execution_count": null,
   "id": "a383d39b",
   "metadata": {},
   "outputs": [],
   "source": []
  },
  {
   "cell_type": "code",
   "execution_count": null,
   "id": "96fe6e2f",
   "metadata": {},
   "outputs": [],
   "source": []
  },
  {
   "cell_type": "code",
   "execution_count": null,
   "id": "d24790c5",
   "metadata": {},
   "outputs": [],
   "source": []
  },
  {
   "cell_type": "code",
   "execution_count": null,
   "id": "983e3230",
   "metadata": {},
   "outputs": [],
   "source": [
    "import brainrender\n",
    "from brainrender.atlas_specific import GeneExpressionAPI\n",
    "\n",
    "gene = \"Gpr161\"\n",
    "geapi = GeneExpressionAPI()\n",
    "expids = geapi.get_gene_experiments(gene)\n",
    "data = geapi.get_gene_data(gene, expids[1])\n",
    "gene_actor = geapi.griddata_to_volume(data, min_quantile=99, cmap=\"inferno\")\n",
    "\n",
    "print(data)\n",
    "print(gene_actor)"
   ]
  },
  {
   "cell_type": "code",
   "execution_count": null,
   "id": "89771be9",
   "metadata": {},
   "outputs": [],
   "source": [
    "data.get_array_spectra(1)"
   ]
  },
  {
   "cell_type": "code",
   "execution_count": null,
   "id": "f5e80ceb",
   "metadata": {},
   "outputs": [],
   "source": [
    "x = data.get_array_spectra(1)"
   ]
  },
  {
   "cell_type": "code",
   "execution_count": null,
   "id": "7b324c6e",
   "metadata": {},
   "outputs": [],
   "source": [
    "#a = x[5:10,5:10].copy()#.view(np.ndarray)\n",
    "a = x[5:10]"
   ]
  },
  {
   "cell_type": "code",
   "execution_count": null,
   "id": "6289df03",
   "metadata": {},
   "outputs": [],
   "source": [
    "a+=1"
   ]
  },
  {
   "cell_type": "code",
   "execution_count": null,
   "id": "540d0df0",
   "metadata": {},
   "outputs": [],
   "source": [
    "x"
   ]
  },
  {
   "cell_type": "code",
   "execution_count": null,
   "id": "260c5f4d",
   "metadata": {},
   "outputs": [],
   "source": [
    "data.clean_memory()"
   ]
  },
  {
   "cell_type": "code",
   "execution_count": null,
   "id": "83c43b53",
   "metadata": {},
   "outputs": [],
   "source": [
    "aa = a.T "
   ]
  },
  {
   "cell_type": "code",
   "execution_count": null,
   "id": "4890a126",
   "metadata": {},
   "outputs": [],
   "source": [
    "aa+=1"
   ]
  },
  {
   "cell_type": "code",
   "execution_count": null,
   "id": "97597518",
   "metadata": {},
   "outputs": [],
   "source": []
  },
  {
   "cell_type": "code",
   "execution_count": null,
   "id": "1faf0cc8-b510-49ec-8600-c63f80cb66bb",
   "metadata": {},
   "outputs": [],
   "source": []
  },
  {
   "cell_type": "code",
   "execution_count": 3,
   "id": "5af6dec0-afe5-4a94-97a4-8fd0217743d6",
   "metadata": {},
   "outputs": [],
   "source": [
    "import numpy as np\n",
    "import os\n",
    "import shutil\n",
    "import psutil"
   ]
  },
  {
   "cell_type": "code",
   "execution_count": 4,
   "id": "43c28bec-8675-4805-8902-ab3073fed85a",
   "metadata": {},
   "outputs": [],
   "source": [
    "fp = np.array(list(np.arange(100000000)))"
   ]
  },
  {
   "cell_type": "code",
   "execution_count": 5,
   "id": "1bde43c0-f4dd-4f10-8ce0-af8660654570",
   "metadata": {},
   "outputs": [
    {
     "data": {
      "text/plain": [
       "968.203125"
      ]
     },
     "execution_count": 5,
     "metadata": {},
     "output_type": "execute_result"
    }
   ],
   "source": [
    "memory = psutil.Process(os.getpid()).memory_info().rss / (1024 * 1024)\n",
    "memory"
   ]
  },
  {
   "cell_type": "code",
   "execution_count": null,
   "id": "eec8ebf8-cf15-4c8b-a798-26e3ae420720",
   "metadata": {},
   "outputs": [],
   "source": [
    "del fp"
   ]
  },
  {
   "cell_type": "code",
   "execution_count": 6,
   "id": "ce3d2f35-f187-43ac-993a-ee03cf7b541a",
   "metadata": {},
   "outputs": [],
   "source": [
    "fp = np.memmap('test.mmap', dtype='float32', mode='w+', shape=(1000000000,))"
   ]
  },
  {
   "cell_type": "code",
   "execution_count": 7,
   "id": "dc6da7cd-2176-46b3-af45-631aa0f9f877",
   "metadata": {},
   "outputs": [],
   "source": [
    "fp[:] = np.arange(1000000000)\n",
    "fp.flush()"
   ]
  },
  {
   "cell_type": "code",
   "execution_count": 8,
   "id": "289fa63c-3311-4cba-ad4f-caa886a6e5b3",
   "metadata": {},
   "outputs": [],
   "source": [
    "fp = np.memmap('test.mmap', dtype='float32', mode='r', shape=(1000000000,))"
   ]
  },
  {
   "cell_type": "code",
   "execution_count": 14,
   "id": "179ab689-4b36-4848-8f47-a2ac91a5f2f9",
   "metadata": {},
   "outputs": [
    {
     "data": {
      "text/plain": [
       "array([  4.,   5.,   6.,   7.,   8.,   9.,  10.,  11.,  12.,  13.,  14.,\n",
       "        15.,  16.,  17.,  18.,  19.,  20.,  21.,  22.,  23.,  24.,  25.,\n",
       "        26.,  27.,  28.,  29.,  30.,  31.,  32.,  33.,  34.,  35.,  36.,\n",
       "        37.,  38.,  39.,  40.,  41.,  42.,  43.,  44.,  45.,  46.,  47.,\n",
       "        48.,  49.,  50.,  51.,  52.,  53.,  54.,  55.,  56.,  57.,  58.,\n",
       "        59.,  60.,  61.,  62.,  63.,  64.,  65.,  66.,  67.,  68.,  69.,\n",
       "        70.,  71.,  72.,  73.,  74.,  75.,  76.,  77.,  78.,  79.,  80.,\n",
       "        81.,  82.,  83.,  84.,  85.,  86.,  87.,  88.,  89.,  90.,  91.,\n",
       "        92.,  93.,  94.,  95.,  96.,  97.,  98.,  99., 100., 101., 102.,\n",
       "       103., 104., 105., 106., 107., 108., 109., 110., 111., 112., 113.,\n",
       "       114., 115., 116., 117., 118., 119., 120., 121., 122., 123., 124.,\n",
       "       125., 126., 127., 128., 129., 130., 131., 132., 133., 134., 135.,\n",
       "       136., 137., 138., 139., 140., 141., 142., 143., 144., 145., 146.,\n",
       "       147., 148., 149., 150., 151., 152., 153., 154., 155., 156., 157.,\n",
       "       158., 159., 160., 161., 162., 163., 164., 165., 166., 167., 168.,\n",
       "       169., 170., 171., 172., 173., 174., 175., 176., 177., 178., 179.,\n",
       "       180., 181., 182., 183., 184., 185., 186., 187., 188., 189., 190.,\n",
       "       191., 192., 193., 194., 195., 196., 197., 198., 199., 200., 201.,\n",
       "       202., 203., 204., 205., 206., 207., 208., 209., 210., 211., 212.,\n",
       "       213., 214., 215., 216., 217., 218., 219., 220., 221., 222., 223.,\n",
       "       224., 225., 226., 227., 228., 229., 230., 231., 232., 233., 234.,\n",
       "       235., 236., 237., 238., 239., 240., 241., 242., 243., 244., 245.,\n",
       "       246., 247., 248., 249., 250., 251., 252., 253., 254., 255., 256.,\n",
       "       257., 258., 259., 260., 261., 262., 263., 264., 265., 266., 267.,\n",
       "       268., 269., 270., 271., 272., 273., 274., 275., 276., 277., 278.,\n",
       "       279., 280., 281., 282., 283., 284., 285., 286., 287., 288., 289.,\n",
       "       290., 291., 292., 293., 294., 295., 296., 297., 298., 299., 300.,\n",
       "       301., 302., 303., 304., 305., 306., 307., 308., 309., 310., 311.,\n",
       "       312., 313., 314., 315., 316., 317., 318., 319., 320., 321., 322.,\n",
       "       323., 324., 325., 326., 327., 328., 329., 330., 331., 332., 333.,\n",
       "       334., 335., 336., 337., 338., 339., 340., 341., 342., 343., 344.,\n",
       "       345., 346., 347., 348., 349., 350., 351., 352., 353., 354., 355.,\n",
       "       356., 357., 358., 359., 360., 361., 362., 363., 364., 365., 366.,\n",
       "       367., 368., 369., 370., 371., 372., 373., 374., 375., 376., 377.,\n",
       "       378., 379., 380., 381., 382., 383., 384., 385., 386., 387., 388.,\n",
       "       389., 390., 391., 392., 393., 394., 395., 396., 397., 398., 399.,\n",
       "       400., 401., 402., 403., 404., 405., 406., 407., 408., 409., 410.,\n",
       "       411., 412., 413., 414., 415., 416., 417., 418., 419., 420., 421.,\n",
       "       422., 423., 424., 425., 426., 427., 428., 429., 430., 431., 432.,\n",
       "       433., 434., 435., 436., 437., 438., 439., 440., 441., 442., 443.,\n",
       "       444., 445., 446., 447., 448., 449., 450., 451., 452., 453., 454.,\n",
       "       455., 456., 457., 458., 459., 460., 461., 462., 463., 464., 465.,\n",
       "       466., 467., 468., 469., 470., 471., 472., 473., 474., 475., 476.,\n",
       "       477., 478., 479., 480., 481., 482., 483., 484., 485., 486., 487.,\n",
       "       488., 489., 490., 491., 492., 493., 494., 495., 496., 497., 498.,\n",
       "       499., 500., 501., 502., 503., 504., 505., 506., 507., 508., 509.,\n",
       "       510., 511., 512., 513., 514., 515., 516., 517., 518., 519., 520.,\n",
       "       521., 522., 523., 524., 525., 526., 527., 528., 529., 530., 531.,\n",
       "       532., 533., 534., 535., 536., 537., 538., 539., 540., 541., 542.,\n",
       "       543., 544., 545., 546., 547., 548., 549., 550., 551., 552., 553.,\n",
       "       554., 555., 556., 557., 558., 559., 560., 561., 562., 563., 564.,\n",
       "       565., 566., 567., 568., 569., 570., 571., 572., 573., 574., 575.,\n",
       "       576., 577., 578., 579., 580., 581., 582., 583., 584., 585., 586.,\n",
       "       587., 588., 589., 590., 591., 592., 593., 594., 595., 596., 597.,\n",
       "       598., 599., 600., 601., 602., 603., 604., 605., 606., 607., 608.,\n",
       "       609., 610., 611., 612., 613., 614., 615., 616., 617., 618., 619.,\n",
       "       620., 621., 622., 623., 624., 625., 626., 627., 628., 629., 630.,\n",
       "       631., 632., 633., 634., 635., 636., 637., 638., 639., 640., 641.,\n",
       "       642., 643., 644., 645., 646., 647., 648., 649., 650., 651., 652.,\n",
       "       653., 654., 655., 656., 657., 658., 659., 660., 661., 662., 663.,\n",
       "       664., 665., 666., 667., 668., 669., 670., 671., 672., 673., 674.,\n",
       "       675., 676., 677., 678., 679., 680., 681., 682., 683., 684., 685.,\n",
       "       686., 687., 688., 689., 690., 691., 692., 693., 694., 695., 696.,\n",
       "       697., 698., 699., 700., 701., 702., 703., 704., 705., 706., 707.,\n",
       "       708., 709., 710., 711., 712., 713., 714., 715., 716., 717., 718.,\n",
       "       719., 720., 721., 722., 723., 724., 725., 726., 727., 728., 729.,\n",
       "       730., 731., 732., 733., 734., 735., 736., 737., 738., 739., 740.,\n",
       "       741., 742., 743., 744., 745., 746., 747., 748., 749., 750., 751.,\n",
       "       752., 753., 754., 755., 756., 757., 758., 759., 760., 761., 762.,\n",
       "       763., 764., 765., 766., 767., 768., 769., 770., 771., 772., 773.,\n",
       "       774., 775., 776., 777., 778., 779., 780., 781., 782., 783., 784.,\n",
       "       785., 786., 787., 788., 789., 790., 791., 792., 793., 794., 795.,\n",
       "       796., 797., 798., 799., 800., 801., 802., 803., 804., 805., 806.,\n",
       "       807., 808., 809., 810., 811., 812., 813., 814., 815., 816., 817.,\n",
       "       818., 819., 820., 821., 822., 823., 824., 825., 826., 827., 828.,\n",
       "       829., 830., 831., 832., 833., 834., 835., 836., 837., 838., 839.,\n",
       "       840., 841., 842., 843., 844., 845., 846., 847., 848., 849., 850.,\n",
       "       851., 852., 853., 854., 855., 856., 857., 858., 859., 860., 861.,\n",
       "       862., 863., 864., 865., 866., 867., 868., 869., 870., 871., 872.,\n",
       "       873., 874., 875., 876., 877., 878., 879., 880., 881., 882., 883.,\n",
       "       884., 885., 886., 887., 888., 889., 890., 891., 892., 893., 894.,\n",
       "       895., 896., 897., 898., 899., 900., 901., 902., 903., 904., 905.,\n",
       "       906., 907., 908., 909., 910., 911., 912., 913., 914., 915., 916.,\n",
       "       917., 918., 919., 920., 921., 922., 923., 924., 925., 926., 927.,\n",
       "       928., 929., 930., 931., 932., 933., 934., 935., 936., 937., 938.,\n",
       "       939., 940., 941., 942., 943., 944., 945., 946., 947., 948., 949.,\n",
       "       950., 951., 952., 953., 954., 955., 956., 957., 958., 959., 960.,\n",
       "       961., 962., 963., 964., 965., 966., 967., 968., 969., 970., 971.,\n",
       "       972., 973., 974., 975., 976., 977., 978., 979., 980., 981., 982.,\n",
       "       983., 984., 985., 986., 987., 988., 989., 990., 991., 992., 993.,\n",
       "       994., 995., 996., 997., 998., 999.], dtype=float32)"
      ]
     },
     "execution_count": 14,
     "metadata": {},
     "output_type": "execute_result"
    }
   ],
   "source": [
    "np.copy(fp[4:1000])"
   ]
  },
  {
   "cell_type": "code",
   "execution_count": null,
   "id": "38276050-cd9a-44c9-ac4d-77564e30c536",
   "metadata": {},
   "outputs": [],
   "source": [
    "x=fp[100000000:200000000]"
   ]
  },
  {
   "cell_type": "code",
   "execution_count": null,
   "id": "a89a270c-2af4-46b3-8259-fab889e835eb",
   "metadata": {},
   "outputs": [],
   "source": [
    "del fp"
   ]
  },
  {
   "cell_type": "code",
   "execution_count": null,
   "id": "0e5fc48d-ee68-4ae8-96e5-926e716a4e64",
   "metadata": {},
   "outputs": [],
   "source": [
    "del x"
   ]
  },
  {
   "cell_type": "code",
   "execution_count": null,
   "id": "e49017aa-86aa-442d-b77f-b2bb77d9c675",
   "metadata": {},
   "outputs": [],
   "source": [
    "def test(x):\n",
    "    x+=1\n",
    "    \n",
    "a = np.zeros((1,2))\n",
    "test(a)\n",
    "print(a)"
   ]
  },
  {
   "cell_type": "code",
   "execution_count": null,
   "id": "39cc7c1d-338f-44e5-9c60-00fc625b962b",
   "metadata": {},
   "outputs": [],
   "source": [
    "def test():\n",
    "    for k in range(3):\n",
    "        m = 2\n",
    "test()\n",
    "print(j)"
   ]
  },
  {
   "cell_type": "code",
   "execution_count": 5,
   "id": "0a8c0e47-996a-40ef-8383-95f7257e6dd7",
   "metadata": {},
   "outputs": [
    {
     "name": "stdout",
     "output_type": "stream",
     "text": [
      "None\n"
     ]
    }
   ],
   "source": [
    "def test(a = 3):\n",
    "    print(a)\n",
    "\n",
    "test(None)"
   ]
  },
  {
   "cell_type": "code",
   "execution_count": null,
   "id": "e8e62fae",
   "metadata": {},
   "outputs": [],
   "source": []
  }
 ],
 "metadata": {
  "interpreter": {
   "hash": "0c1aa729cc35b9a783763c24c4069d7da678acf641f89d4e1df25bf02079ad65"
  },
  "kernelspec": {
   "display_name": "Python 3.9.7 ('base')",
   "language": "python",
   "name": "python3"
  },
  "language_info": {
   "codemirror_mode": {
    "name": "ipython",
    "version": 3
   },
   "file_extension": ".py",
   "mimetype": "text/x-python",
   "name": "python",
   "nbconvert_exporter": "python",
   "pygments_lexer": "ipython3",
   "version": "3.9.7"
  }
 },
 "nbformat": 4,
 "nbformat_minor": 5
}
