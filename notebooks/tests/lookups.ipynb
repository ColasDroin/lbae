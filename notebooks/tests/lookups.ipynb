{
  "cells": [
    {
      "cell_type": "markdown",
      "id": "e5dbb311",
      "metadata": {},
      "source": [
        "# Lookup testing"
      ]
    },
    {
      "cell_type": "markdown",
      "id": "6f88b5db",
      "metadata": {},
      "source": [
        "### Load important modules"
      ]
    },
    {
      "cell_type": "code",
      "execution_count": null,
      "id": "81e581e2",
      "metadata": {},
      "outputs": [],
      "source": [
        "# Standard modules\n",
        "import numpy as np\n",
        "import matplotlib.pyplot as plt\n",
        "import plotly.graph_objects as go\n",
        "import os\n",
        "\n",
        "# Move to root directory for easier module import\n",
        "os.chdir(\"../../\")\n",
        "from modules.maldi_data import MaldiData\n",
        "from modules.tools import spectra\n"
      ]
    },
    {
      "cell_type": "markdown",
      "id": "b92267b9",
      "metadata": {},
      "source": [
        "### Load data"
      ]
    },
    {
      "cell_type": "code",
      "execution_count": null,
      "id": "e16d5fd8",
      "metadata": {},
      "outputs": [],
      "source": [
        "data = MaldiData()"
      ]
    },
    {
      "cell_type": "markdown",
      "id": "1430be45",
      "metadata": {},
      "source": [
        "### Test the main lookup tables"
      ]
    },
    {
      "cell_type": "markdown",
      "id": "25380754",
      "metadata": {},
      "source": [
        "Start with lookup of pixel indexes"
      ]
    },
    {
      "cell_type": "code",
      "execution_count": null,
      "id": "b5fc7ada",
      "metadata": {},
      "outputs": [],
      "source": [
        "slice_index = 14\n",
        "\n",
        "# Try the getter for accessing spectrum by pixel index\n",
        "print(f\"{data.get_array_lookup_pixels(slice_index)[-2:]=}\")  # Last two pixels\n",
        "print(f\"{data.get_array_lookup_pixels(slice_index)[:2]=}\")  # First two pixels\n",
        "print()\n",
        "\n",
        "# Look at the corresponding mz value, i.e. first and last value of the the spectrum of a given pixel\n",
        "print(\n",
        "    f\"{data.get_partial_array_mz(slice_index, index = data.get_array_lookup_pixels(slice_index)[0,0])=}\"\n",
        ")  # First mz value of spectrum of pixel 0\n",
        "print(\n",
        "    f\"{data.get_partial_array_mz(slice_index, index = data.get_array_lookup_pixels(slice_index)[0,1])=}\"\n",
        ")  # Last mz value of spectrum of pixel 0\n",
        "print(\n",
        "    f\"{data.get_partial_array_mz(slice_index, index = data.get_array_lookup_pixels(slice_index)[0,1]+1)=}\"\n",
        ")  # Immediate value after last mz value of spectrum of pixel 0, i.e. first mz value of spectrum of pixel 1\n",
        "print()\n",
        "\n",
        "print(\n",
        "    f\"{data.get_partial_array_mz(slice_index, index = data.get_array_lookup_pixels(slice_index)[100,0]-1)=}\"\n",
        ")  # Immediate value before first mz value of spectrum of pixel 100, i.e. last mz value of spectrum of pixel 99\n",
        "print(\n",
        "    f\"{data.get_partial_array_mz(slice_index, index = data.get_array_lookup_pixels(slice_index)[100,0])=}\"\n",
        ")  # First mz value of spectrum of pixel 100\n",
        "print(\n",
        "    f\"{data.get_partial_array_mz(slice_index, index = data.get_array_lookup_pixels(slice_index)[100,1])=}\"\n",
        ")  # Last mz value of spectrum of pixel 100\n",
        "print(\n",
        "    f\"{data.get_partial_array_mz(slice_index, index = data.get_array_lookup_pixels(slice_index)[100,1]+1)=}\"\n",
        ")  # Immediate value after last mz value of spectrum of pixel 100, i.e. first mz value of spectrum of pixel 101\n",
        "\n",
        "print()\n",
        "\n",
        "print(\n",
        "    f\"{data.get_partial_array_mz(slice_index, index = data.get_array_lookup_pixels(slice_index)[-1,0]-1)=}\"\n",
        ")  # Immediate value before first mz value of spectrum of last pixel, i.e. last mz value of spectrum of penultimate pixel\n",
        "print(\n",
        "    f\"{data.get_partial_array_mz(slice_index, index = data.get_array_lookup_pixels(slice_index)[-1,0])=}\"\n",
        ")  # First mz value of spectrum of last pixel\n",
        "print(\n",
        "    f\"{data.get_partial_array_mz(slice_index, index = data.get_array_lookup_pixels(slice_index)[-1,1])=}\"\n",
        ")  # Last mz value of spectrum of last 100, i.e. very last mz value of the whole slice\n",
        "print(\n",
        "    f\"{data.get_partial_array_mz(slice_index, index = -1)=}\"\n",
        ")  # Very last mz value of the whole slice\n",
        "print()\n"
      ]
    },
    {
      "cell_type": "markdown",
      "id": "0ecc9303",
      "metadata": {},
      "source": [
        "Then lookup of mz/values"
      ]
    },
    {
      "cell_type": "code",
      "execution_count": null,
      "id": "b142109a",
      "metadata": {},
      "outputs": [],
      "source": [
        "print(\n",
        "    \"Following values should be >= to 500: (very high values correspond to -1, i.e. no peak in pixel)\",\n",
        "    data.get_partial_array_mz(slice_index, index=data.get_lookup_mz(slice_index, 500)),\n",
        ")  # For each pixel, this returns the first mz value > 50*divider_lookup, i.e. 500\n",
        "\n",
        "print(f\"{data.get_lookup_mz(slice_index, 300)[1]=}\")  # Index of the first mz value above 300 for pixel n°1\n",
        "print(\n",
        "    f\"{data.get_partial_array_mz(slice_index, index=data.get_lookup_mz(slice_index, 300)[1]-1)=}\"\n",
        ")  # Immediate value before first mz value above 300 for pixel n°1, i.e. last mz value of pixel n°0\n",
        "print(\n",
        "    f\"{data.get_partial_array_mz(slice_index, index=data.get_lookup_mz(slice_index, 1400)[0])=}\"\n",
        ")  # First mz value above 1400 for pixel n°0 (since the spectrum ends at ~1200, it should display the last value of the spectrum, i.e. same as previous one)\n",
        "print(\n",
        "    f\"{data.get_partial_array_mz(slice_index, index=data.get_lookup_mz(slice_index, 300)[1])=}\"\n",
        ")  # First mz value above 300 for pixel n°1 (since the spectrum starts at ~400, it should display a value above ~400)\n",
        "print(\n",
        "    f\"{data.get_partial_array_mz(slice_index, index=data.get_lookup_mz(slice_index, 300)[1]+1)=}\"\n",
        ")  # Immediate value after first mz value above 300 for pixel n°1\n",
        "print()\n",
        "\n",
        "\n",
        "print(f\"{data.get_lookup_mz(slice_index, 500)[10]=}\")  # Index of the first mz value above 500 for pixel n°10\n",
        "print(\n",
        "    f\"{data.get_partial_array_mz(slice_index, index=data.get_lookup_mz(slice_index, 500)[10]-1)=}\"\n",
        ")  # Immediate value before first mz value above 500 for pixel n°10\n",
        "print(\n",
        "    f\"{data.get_partial_array_mz(slice_index, index=data.get_lookup_mz(slice_index, 500)[10])=}\"\n",
        ")  # First mz value above 500 for pixel n°10\n",
        "print(\n",
        "    f\"{data.get_partial_array_mz(slice_index, index=data.get_lookup_mz(slice_index, 500)[10]+1)=}\"\n",
        ")  # Immediate value after first mz value above 500 for pixel n°10\n",
        "print()\n",
        "\n",
        "\n",
        "print(\n",
        "    f\"{data.get_lookup_mz(slice_index, 1400)[10]=}\"\n",
        ")  # Index of the first mz value above 1400 for pixel n°10 (since the spectrum ends at ~1200, it should display the index of the last value of the spectrum)\n",
        "print(\n",
        "    f\"{data.get_partial_array_mz(slice_index, index=data.get_lookup_mz(slice_index, 1400)[10]-1)=}\"\n",
        ")  # Immediate value before last value of the spectrum for pixel n°10\n",
        "print(\n",
        "    f\"{data.get_partial_array_mz(slice_index, index=data.get_lookup_mz(slice_index, 1400)[10])=}\"\n",
        ")  # First mz value above 1400 for pixel n°10 (i.e. last value of the spectrum)\n",
        "print(\n",
        "    f\"{data.get_partial_array_mz(slice_index, index=data.get_lookup_mz(slice_index, 1400)[10]+1)=}\"\n",
        ")  # Immediate value after last value of the spectrum for pixel n°10, i.e. first value of spectrum of pixel 11\n",
        "print(\n",
        "    f\"{data.get_partial_array_mz(slice_index, index=data.get_lookup_mz(slice_index, 300)[11])=}\"\n",
        ")  # Immediate value after last value of the spectrum for pixel n°10, i.e. first value of spectrum of pixel 11\n",
        "print()\n"
      ]
    },
    {
      "cell_type": "code",
      "execution_count": null,
      "id": "24aa0e25",
      "metadata": {},
      "outputs": [],
      "source": [
        "# Get coordinate pixel 1 of slice 10\n",
        "coor = spectra.convert_spectrum_idx_to_coor(1, data.get_image_shape(slice_index=10))\n",
        "\n",
        "# Sum of spectrum of pixel 1 with mz<410 from lookup table, normalized by the sum over the pixel\n",
        "print(\n",
        "    data.get_cumulated_lookup_mz_image(slice_index=10, index=410)[coor]\n",
        "    / data.get_cumulated_lookup_mz_image(slice_index=10, index=1300)[coor]\n",
        ")\n",
        "\n",
        "# There's only one value in pixel 1 with mz<410\n",
        "print(data.get_partial_array_spectra(slice_index=10, index=data.get_lookup_mz(slice_index=10, index=390)[1]))\n",
        "print(data.get_partial_array_spectra(slice_index=10, index=data.get_lookup_mz(slice_index=10, index=400)[1]))\n",
        "print(data.get_partial_array_spectra(slice_index=10, index=data.get_lookup_mz(slice_index=10, index=410)[1]))\n"
      ]
    },
    {
      "cell_type": "markdown",
      "id": "f2cb9399",
      "metadata": {},
      "source": [
        "### Test functions and lookup tables on image"
      ]
    },
    {
      "cell_type": "code",
      "execution_count": null,
      "id": "da588065",
      "metadata": {},
      "outputs": [],
      "source": [
        "image = spectra.compute_image_using_index_lookup(\n",
        "    400,\n",
        "    900.5,\n",
        "    data.get_array_spectra(slice_index),\n",
        "    data.get_array_lookup_pixels(slice_index),\n",
        "    data.get_image_shape(slice_index),\n",
        "    data.get_array_lookup_mz(slice_index),\n",
        "    data.get_divider_lookup(slice_index),\n",
        "    data.get_array_peaks_transformed_lipids(slice_index),\n",
        "    data.get_array_corrective_factors(slice_index),\n",
        "    False\n",
        ")\n",
        "image = image  # /currentSlice.image_norm\n",
        "plt.imshow(image)\n",
        "plt.show()\n",
        "\n"
      ]
    },
    {
      "cell_type": "markdown",
      "id": "99477fdd",
      "metadata": {},
      "source": [
        "#### Compare with and without lookup table for mz between 560 and 800"
      ]
    },
    {
      "cell_type": "markdown",
      "id": "63a56b52",
      "metadata": {},
      "source": [
        "Start with easy cases"
      ]
    },
    {
      "cell_type": "code",
      "execution_count": null,
      "id": "b8d7cf16",
      "metadata": {},
      "outputs": [],
      "source": [
        "image_1 = (\n",
        "    data.get_cumulated_lookup_mz_image(slice_index, index=800)\n",
        "    - data.get_cumulated_lookup_mz_image(slice_index, index=560)\n",
        ")\n",
        "plt.imshow(image_1)\n",
        "plt.show()\n",
        "\n",
        "image_2 = spectra.compute_image_using_index_lookup(\n",
        "    560,\n",
        "    800,\n",
        "    data.get_array_spectra(slice_index),\n",
        "    data.get_array_lookup_pixels(slice_index),\n",
        "    data.get_image_shape(slice_index),\n",
        "    data.get_array_lookup_mz(slice_index),\n",
        "    data.get_divider_lookup(slice_index),\n",
        "    data.get_array_peaks_transformed_lipids(slice_index),\n",
        "    data.get_array_corrective_factors(slice_index),\n",
        "    False\n",
        ")\n",
        "image_2 = image_2\n",
        "plt.imshow(image_2)\n",
        "plt.show()\n",
        "print(np.sum(image_1 - image_2))\n",
        "\n"
      ]
    },
    {
      "cell_type": "markdown",
      "id": "691cf3ad",
      "metadata": {},
      "source": [
        "More complex (and hopefully faster) function"
      ]
    },
    {
      "cell_type": "code",
      "execution_count": null,
      "id": "bd2f443d",
      "metadata": {},
      "outputs": [],
      "source": [
        "image_1 = spectra.compute_image_using_index_and_image_lookup(\n",
        "    254.9,\n",
        "    1200.1,\n",
        "    data.get_array_spectra(slice_index),\n",
        "    data.get_array_lookup_pixels(slice_index),\n",
        "    data.get_image_shape(slice_index),\n",
        "    data.get_array_lookup_mz(slice_index),\n",
        "    data.get_array_cumulated_lookup_mz_image(slice_index),\n",
        "    data.get_divider_lookup(slice_index),\n",
        "    data.get_array_peaks_transformed_lipids(slice_index),\n",
        "    data.get_array_corrective_factors(slice_index),\n",
        "    False\n",
        ")\n",
        "plt.imshow(image_1)\n",
        "plt.show()\n",
        "\n",
        "\n",
        "\n",
        "\n",
        "image_3 = spectra.compute_image_using_index_lookup(\n",
        "    254.9,\n",
        "    1200.1,\n",
        "    data.get_array_spectra(slice_index),\n",
        "    data.get_array_lookup_pixels(slice_index),\n",
        "    data.get_image_shape(slice_index),\n",
        "    data.get_array_lookup_mz(slice_index),\n",
        "    data.get_divider_lookup(slice_index),\n",
        "    data.get_array_peaks_transformed_lipids(slice_index),\n",
        "    data.get_array_corrective_factors(slice_index),\n",
        "    False\n",
        ")\n",
        "plt.imshow(image_3)\n",
        "plt.show()\n",
        "\n",
        "print(np.sum(image_3 - image_1))\n",
        "\n"
      ]
    },
    {
      "cell_type": "markdown",
      "id": "273c027b",
      "metadata": {},
      "source": [
        "### Low and high resolution averaged spectra"
      ]
    },
    {
      "cell_type": "markdown",
      "id": "e55eb7ad",
      "metadata": {},
      "source": [
        "Plot the low resolution spectrum (the high-resolution one is too big to be plotted)"
      ]
    },
    {
      "cell_type": "code",
      "execution_count": null,
      "id": "72aabecd",
      "metadata": {},
      "outputs": [],
      "source": [
        "array_avg_spectrum = data.get_array_avg_spectrum_downsampled(slice_index = 3)\n",
        "fig = go.Figure([go.Scattergl(x=array_avg_spectrum[0,:], y=array_avg_spectrum[1,:])], )\n",
        "fig.show(config=dict(displayModeBar=False))"
      ]
    },
    {
      "cell_type": "markdown",
      "id": "a8703787",
      "metadata": {},
      "source": [
        "Check that the function supposed to return the correct index boundaries works"
      ]
    },
    {
      "cell_type": "code",
      "execution_count": null,
      "id": "92377a02",
      "metadata": {},
      "outputs": [],
      "source": [
        "array_avg = data.get_array_avg_spectrum(slice_index=3)\n",
        "index_low_bound, index_high_bound = spectra.compute_index_boundaries(\n",
        "    854.56, 858.32, array_spectra_avg=array_avg, lookup_table=data.get_array_lookup_mz_avg(slice_index=3)\n",
        ")\n",
        "# index_low_bound, index_high_bound = spectra.compute_index_boundaries_nolookup(854.56, 858.32, array_spectra_avg = array_avg)\n",
        "\n",
        "print(array_avg[:, index_low_bound - 1])\n",
        "print(array_avg[:, index_low_bound])\n",
        "print(array_avg[:, index_low_bound + 1])\n",
        "print()\n",
        "print(array_avg[:, index_high_bound - 1])\n",
        "print(array_avg[:, index_high_bound])\n",
        "print(array_avg[:, index_high_bound + 1])\n"
      ]
    },
    {
      "cell_type": "markdown",
      "id": "fd37d4d3",
      "metadata": {},
      "source": [
        "### Per pixel spectra"
      ]
    },
    {
      "cell_type": "code",
      "execution_count": null,
      "id": "c1ee23bc",
      "metadata": {},
      "outputs": [],
      "source": [
        "test = spectra.compute_zeros_extended_spectrum_per_pixel(\n",
        "    1071, data.get_array_spectra(slice_index=1), data.get_array_lookup_pixels(slice_index=1)\n",
        ")\n",
        "fig = go.Figure([go.Scattergl(x=test[0], y=test[1])])\n",
        "fig.show(config=dict(displayModeBar=False))\n"
      ]
    },
    {
      "cell_type": "markdown",
      "id": "d4ccf5bc",
      "metadata": {},
      "source": [
        "## Match array to high-dimensional one"
      ]
    },
    {
      "cell_type": "code",
      "execution_count": null,
      "id": "46a75eac",
      "metadata": {},
      "outputs": [],
      "source": [
        "# Compute sum of spectra over all slices\n",
        "spectrum_sum = spectra.convert_array_to_fine_grained(data.get_array_spectra(slice_index=1), 10**-4, lb = 350, hb = 1400 )\n",
        "spectrum_sum[1,:]+=1 # To divide afterwards\n",
        "\n",
        "# Then compute the spectrum of a given pixel relative to this sum\n",
        "idx_pix = 32350\n",
        "spectrum = np.array(data.get_array_spectra(slice_index=1)[:,data.get_array_lookup_pixels(slice_index=1)[idx_pix,0]:data.get_array_lookup_pixels(slice_index=1)[idx_pix,1]+1])\n",
        "spectrum[:,1] = spectrum[:,1]/np.sum(spectrum[:,1])\n",
        "spectrum_hd = spectra.convert_array_to_fine_grained(spectrum, 10**-4, lb = 350, hb = 1400 )\n",
        "spectrum_hd[1,:] = spectrum_hd[1,:]/spectrum_sum[1,:]\n",
        "spectrum_856 = spectra.strip_zeros(spectrum_hd)\n",
        "spectrum_856, _ = spectra.add_zeros_to_spectrum(spectrum_856)\n",
        "\n",
        "# Do another one\n",
        "idx_pix = 48450\n",
        "spectrum = np.array(data.get_array_spectra(slice_index=1)[:,data.get_array_lookup_pixels(slice_index=1)[idx_pix,0]:data.get_array_lookup_pixels(slice_index=1)[idx_pix,1]+1])\n",
        "spectrum[:,1] = spectrum[:,1]/np.sum(spectrum[:,1])\n",
        "spectrum_hd = spectra.convert_array_to_fine_grained(spectrum, 10**-4, lb = 350, hb = 1400 )\n",
        "spectrum_hd[1,:] = spectrum_hd[1,:]/spectrum_sum[1,:]\n",
        "spectrum_1056 = spectra.strip_zeros(spectrum_hd)\n",
        "spectrum_1056, _ = spectra.add_zeros_to_spectrum(spectrum_1056)\n",
        "\n",
        "# Plot\n",
        "fig = go.Figure([go.Scattergl(x=spectrum_856[0,:], y=spectrum_856[1,:]), go.Scattergl(x=spectrum_1056[0,:], y=spectrum_1056[1,:])], )\n",
        "fig.show(config=dict(displayModeBar=False))\n"
      ]
    }
  ],
  "metadata": {
    "interpreter": {
      "hash": "0c1aa729cc35b9a783763c24c4069d7da678acf641f89d4e1df25bf02079ad65"
    },
    "kernelspec": {
      "display_name": "Python 3.9.7 ('base')",
      "language": "python",
      "name": "python3"
    },
    "language_info": {
      "codemirror_mode": {
        "name": "ipython",
        "version": 3
      },
      "file_extension": ".py",
      "mimetype": "text/x-python",
      "name": "python",
      "nbconvert_exporter": "python",
      "pygments_lexer": "ipython3",
      "version": "3.9.12"
    }
  },
  "nbformat": 4,
  "nbformat_minor": 5
}
